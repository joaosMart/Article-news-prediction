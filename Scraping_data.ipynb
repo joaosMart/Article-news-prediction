{
  "nbformat": 4,
  "nbformat_minor": 0,
  "metadata": {
    "colab": {
      "provenance": [],
      "collapsed_sections": [
        "guw6VR6owuIX",
        "ECKG57yCfthF"
      ]
    },
    "kernelspec": {
      "name": "python3",
      "display_name": "Python 3"
    },
    "language_info": {
      "name": "python"
    }
  },
  "cells": [
    {
      "cell_type": "markdown",
      "source": [
        "# Imports necessary\n",
        "\n"
      ],
      "metadata": {
        "id": "UYYQJkJVnOya"
      }
    },
    {
      "cell_type": "markdown",
      "source": [
        "> Here we can see all the libraries that were usefull to help us scrape the data from the news papers we considered interesting to our study."
      ],
      "metadata": {
        "id": "jq_Ivtk9nSXS"
      }
    },
    {
      "cell_type": "code",
      "source": [
        "from bs4 import BeautifulSoup\n",
        "import urllib.request\n",
        "import datetime\n",
        "import pandas as pd\n",
        "import matplotlib.pyplot as plt\n",
        "import numpy as np\n",
        "import requests\n",
        "\n",
        "import re"
      ],
      "metadata": {
        "id": "Xutxk0mGGGfz"
      },
      "execution_count": null,
      "outputs": []
    },
    {
      "cell_type": "markdown",
      "source": [
        "# MBL scraping"
      ],
      "metadata": {
        "id": "guw6VR6owuIX"
      }
    },
    {
      "cell_type": "markdown",
      "source": [
        "> First we thought it would be useful to scrape some icelandic news from the mbl.is website. This news are included in the categories politics_and_society, nature_and_travel, hot_news and culture_and_living."
      ],
      "metadata": {
        "id": "hhvyxUCDni0I"
      }
    },
    {
      "cell_type": "code",
      "execution_count": null,
      "metadata": {
        "id": "eBkDo6KhA9te"
      },
      "outputs": [],
      "source": [
        "url = \"https://icelandmonitor.mbl.is/news/\"\n",
        "r = urllib.request.urlopen(url).read()\n",
        "soup = BeautifulSoup(r, \"lxml\")"
      ]
    },
    {
      "cell_type": "code",
      "source": [
        "links = set()   # A set to save the links from each category\n",
        "\n",
        "for i in soup.find_all(\"div\", {'class': 'navbar-sections boc seen-0111'}):\n",
        "  for j in i.findAll('a'):\n",
        "    current = j.attrs['href']\n",
        "    if current[:5] == '/news':\n",
        "      links.add(\"https://icelandmonitor.mbl.is/\" + current[1:])\n",
        "\n",
        "\n",
        "  print(links)"
      ],
      "metadata": {
        "colab": {
          "base_uri": "https://localhost:8080/"
        },
        "id": "ohF8S1LUF_WA",
        "outputId": "02cf55b0-6d07-4a7d-c66e-8d368493e21d"
      },
      "execution_count": null,
      "outputs": [
        {
          "output_type": "stream",
          "name": "stdout",
          "text": [
            "{'https://icelandmonitor.mbl.is/news/category/eat_and_drink/', 'https://icelandmonitor.mbl.is/news/category/politics_and_society/', 'https://icelandmonitor.mbl.is/news/category/nature_and_travel/', 'https://icelandmonitor.mbl.is/news/latest/', 'https://icelandmonitor.mbl.is/news/category/culture_and_living/'}\n"
          ]
        }
      ]
    },
    {
      "cell_type": "code",
      "source": [
        "articles = set()\n",
        "codes = {}\n",
        "sublinks = set()\n",
        "\n",
        "\n",
        "for link in links:\n",
        "  sub_read = urllib.request.urlopen(link).read()\n",
        "  sub_soup = BeautifulSoup(sub_read, \"lxml\")\n",
        "\n",
        "  for href in sub_soup.find_all('div', {'class': 'fpc'}):\n",
        "    hr = href.a.attrs[\"href\"]\n",
        "\n",
        "    if hr.split('/')[1] == \"frettir\":\n",
        "       articles.add('https://www.mbl.is/frettir/' + '/'. join(hr.split('/')[2:]))\n",
        "    else:\n",
        "      articles.add(url[:-1] + '/' + '/'. join(hr.split('/')[2:]))\n",
        "\n",
        "  category = link.split('/')[-2]\n",
        "\n",
        "  # Below we are trying to access the load more button\n",
        "\n",
        "  count = 0\n",
        "  max_iter = 9\n",
        "\n",
        "  while count <= max_iter:\n",
        "    if category not in codes.keys():\n",
        "      for code in sub_soup.find_all('div', {'class': 'news-list-wrapper'}):\n",
        "        next_code = re.split(\"= |;\", code.find_all('script')[1].text)[1]\n",
        "\n",
        "      codes[category] = [next_code]\n",
        "\n",
        "    else:\n",
        "      l = 'https://icelandmonitor.mbl.is/news/gmnc/'+ category +'/?p='+ codes[category][-1]+'&id=newslist&count=4&group_id=-1'\n",
        "      if category == 'latest':\n",
        "        l = 'https://icelandmonitor.mbl.is/news/gmnl/?p=2644482&id=newslist&count=4&group_id=-1'\n",
        "      sublinks.add(l)\n",
        "      # print(l)\n",
        "      subsub_read = urllib.request.urlopen(l).read()\n",
        "      subsub_soup = BeautifulSoup(subsub_read, \"lxml\")\n",
        "      for code in subsub_soup.find_all('script', {'type': 'text/javascript'}):\n",
        "        next_code = re.split(\"= |;\", code.text)[1]\n",
        "        codes[category].append(next_code)\n",
        "    count += 1\n",
        "\n",
        "for link in sublinks:\n",
        "  sub_read = urllib.request.urlopen(link).read()\n",
        "  sub_soup = BeautifulSoup(sub_read, \"lxml\")\n",
        "\n",
        "  for href in sub_soup.find_all('div', {'class': 'fpc'})[:10]:\n",
        "    hr = href.a.attrs[\"href\"]\n",
        "    print(hr)\n",
        "    print(hr.split('/')[1])\n",
        "    articles.add(url[:-1] + '/' + '/'. join(hr.split('/')[2:]))\n",
        "\n",
        "\n",
        "\n",
        "\n",
        "\n",
        "\n",
        "\n",
        "  # for code in codes:\n",
        "\n",
        "\n",
        "\n",
        "# Dataframe itself\n",
        "print(sublinks)\n",
        "print(codes)"
      ],
      "metadata": {
        "colab": {
          "base_uri": "https://localhost:8080/"
        },
        "id": "_erSWcH8QJzr",
        "outputId": "71a8e83f-9291-4016-d76e-39d15d5f2006"
      },
      "execution_count": null,
      "outputs": [
        {
          "output_type": "stream",
          "name": "stdout",
          "text": [
            "/news/eat_and_drink/2022/10/12/landed_the_second_prize_in_the_european_street_food/\n",
            "news\n",
            "/news/eat_and_drink/2022/10/02/carpe_diem_could_be_this_chef_s_motto/\n",
            "news\n",
            "/news/eat_and_drink/2022/09/18/i_m_in_love_with_your_country/\n",
            "news\n",
            "/news/eat_and_drink/2022/09/10/great_atmosphere_at_matey_food_festival/\n",
            "news\n",
            "/news/eat_and_drink/2022/09/08/want_to_put_the_westman_islands_on_the_culinary_map/\n",
            "news\n",
            "/news/eat_and_drink/2022/09/07/nothing_danish_there_with_all_due_respect/\n",
            "news\n",
            "/news/eat_and_drink/2022/09/06/the_chocolate_covered_liquorice_war/\n",
            "news\n",
            "/news/eat_and_drink/2022/09/04/north_has_been_fully_booked_since_it_opened/\n",
            "news\n",
            "/news/eat_and_drink/2022/08/05/vera_is_a_newest_foodhall_on_the_scene/\n",
            "news\n",
            "/news/eat_and_drink/2022/07/18/a_boutique_coffeehouse_in_grundarfjordur_with_coffe/\n",
            "news\n",
            "/news/eat_and_drink/2022/07/12/vogue_picks_the_top_bars_in_reykjavik/\n",
            "news\n",
            "/news/eat_and_drink/2022/06/29/heimkaup_starts_selling_wine_and_beer_with_same_day/\n",
            "news\n",
            "/news/eat_and_drink/2022/05/31/the_first_poke_restaurant_in_iceland/\n",
            "news\n",
            "/news/eat_and_drink/2022/05/28/new_icelandic_porridge_on_the_market/\n",
            "news\n",
            "/news/eat_and_drink/2022/05/26/linda_ben_s_buddha_bowl_is_to_die_for/\n",
            "news\n",
            "/news/nature_and_travel/2021/07/07/the_hottest_valley_on_the_island/\n",
            "news\n",
            "2588185\n",
            "2400685\n",
            "2322783\n",
            "2302680\n",
            "2287339\n",
            "2250733\n",
            "2217660\n",
            "2196937\n",
            "2175892\n",
            "/news/politics_and_society/2022/12/01/the_high_interest_environment_is_like_a_magic_trap_/\n",
            "news\n",
            "/news/politics_and_society/2022/11/29/the_biggest_budget_increase_for_law_enforcement_in_/\n",
            "news\n",
            "/news/politics_and_society/2022/11/28/the_minister_of_foreign_affairs_is_in_kiev/\n",
            "news\n",
            "/news/politics_and_society/2022/11/25/pace_is_meeting_in_reykjavik_today/\n",
            "news\n",
            "/news/politics_and_society/2022/11/24/immigrants_in_iceland_just_over_60_000/\n",
            "news\n",
            "/news/politics_and_society/2022/11/16/an_accident_at_the_akranes_sports_hall/\n",
            "news\n",
            "/news/politics_and_society/2022/11/15/the_use_of_fish_skin_in_iceland_attracts_attention_/\n",
            "news\n",
            "/news/politics_and_society/2022/11/15/unrealistic_to_push_for_122_isk_per_share_in_the_is/\n",
            "news\n",
            "/news/politics_and_society/2022/11/11/custody_extended_until_november_24th/\n",
            "news\n",
            "/news/politics_and_society/2022/11/11/unemployment_at_its_lowest_point/\n",
            "news\n",
            "/news/politics_and_society/2022/11/10/considers_the_criteria_changed_in_the_terrorism_cas/\n",
            "news\n",
            "/news/politics_and_society/2022/11/08/reykjavik_global_forum_women_leaders_starts_in_harp/\n",
            "news\n",
            "/news/politics_and_society/2022/11/07/happy_if_his_issues_will_be_successful/\n",
            "news\n",
            "/news/politics_and_society/2022/11/07/benediktsson_gets_a_decicive_lead_to_chair_the_inde/\n",
            "news\n",
            "/news/politics_and_society/2022/11/03/reckless_increase_in_property_taxes/\n",
            "news\n",
            "/news/nature_and_travel/2021/07/07/the_hottest_valley_on_the_island/\n",
            "news\n",
            "2619612\n",
            "2614271\n",
            "2611890\n",
            "2607057\n",
            "2597308\n",
            "2590572\n",
            "2582123\n",
            "2571262\n",
            "2568184\n",
            "/news/nature_and_travel/2022/12/27/the_biggest_quake_in_grimsvotn_since_august/\n",
            "news\n",
            "/news/nature_and_travel/2022/12/13/security_cameras_and_blinking_signs/\n",
            "news\n",
            "/news/nature_and_travel/2022/12/11/reykjavik_the_safest_city_for_tourists/\n",
            "news\n",
            "/news/nature_and_travel/2022/12/09/a_car_went_into_jokulsarlon_glacier_lagoon/\n",
            "news\n",
            "/news/nature_and_travel/2022/12/04/gunnarsson_reveals_his_travel_secrets/\n",
            "news\n",
            "/news/nature_and_travel/2022/11/06/waiting_for_hours_to_capture_the_moment/\n",
            "news\n",
            "/news/nature_and_travel/2022/10/24/1400_quakes_since_saturday/\n",
            "news\n",
            "/news/nature_and_travel/2022/10/20/kirkjufell_is_the_new_reynisfjara/\n",
            "news\n",
            "/news/nature_and_travel/2022/10/20/the_quakes_further_away_than_before/\n",
            "news\n",
            "/news/nature_and_travel/2022/10/17/saved_after_sitting_in_the_cold_for_50_hours/\n",
            "news\n",
            "/news/nature_and_travel/2022/10/16/skiing_in_iceland_in_the_midnight_sun/\n",
            "news\n",
            "/news/nature_and_travel/2022/10/14/the_glacial_flood_probably_reached_its_maximum_last/\n",
            "news\n",
            "/news/nature_and_travel/2022/10/09/waited_eight_years_for_his_dream_vacation/\n",
            "news\n",
            "/news/nature_and_travel/2022/10/06/a_triceratop_dinosaur_coming_to_iceland/\n",
            "news\n",
            "/news/nature_and_travel/2022/10/02/iceland_a_favourite_with_this_celebrity/\n",
            "news\n",
            "/news/nature_and_travel/2021/07/07/the_hottest_valley_on_the_island/\n",
            "news\n",
            "2613924\n",
            "2604458\n",
            "2602447\n",
            "2596184\n",
            "2587657\n",
            "2580318\n",
            "2572791\n",
            "2566360\n",
            "2562526\n",
            "/news/news/2023/03/29/hopefully_a_sign_that_the_inflation_has_peaked/\n",
            "news\n",
            "/news/news/2023/03/29/we_will_tackle_this_together/\n",
            "news\n",
            "/news/news/2023/03/28/avalanche_risk_likely_into_the_weekend/\n",
            "news\n",
            "/news/news/2023/03/28/coldest_march_in_reykjavik_this_century/\n",
            "news\n",
            "/news/news/2023/03/28/the_patrol_vessel_thor_is_now_in_neskaupstadur/\n",
            "news\n",
            "/news/news/2023/03/27/video_showing_the_consequences_of_the_avalanche/\n",
            "news\n",
            "/news/news/2023/03/27/an_avalanche_in_neskaupstadur/\n",
            "news\n",
            "/news/news/2023/03/27/record_attendance_in_reykjavik_open/\n",
            "news\n",
            "/frettir/innlent/2023/03/27/risk_of_avalanches_in_the_east/\n",
            "frettir\n",
            "/news/news/2023/03/27/propose_increased_taxes_and_spending_cuts/\n",
            "news\n",
            "/news/news/2023/03/26/the_harbinger_of_spring_has_arrived_to_sing_away_th/\n",
            "news\n",
            "/news/news/2023/03/26/must_be_prepared_for_everything_in_iceland/\n",
            "news\n",
            "/news/news/2023/03/26/jonasson_awarded_the_palle_rosenkrantz_literary_awa/\n",
            "news\n",
            "/news/news/2023/03/24/dangerous_route_and_needs_more_oversight/\n",
            "news\n",
            "/news/news/2023/03/24/brush_fire_near_the_alcoa_smelter_yesterday_and_hou/\n",
            "news\n",
            "/news/nature_and_travel/2021/07/07/the_hottest_valley_on_the_island/\n",
            "news\n",
            "2646401\n",
            "2642798\n",
            "2642798\n",
            "2642798\n",
            "2642798\n",
            "2642798\n",
            "2642798\n",
            "2642798\n",
            "2642798\n",
            "/news/culture_and_living/2023/01/07/celebrating_the_last_day_of_christmas/\n",
            "news\n",
            "/news/culture_and_living/2023/01/02/the_new_year_s_eve_swim_sets_the_tone_for_the_year/\n",
            "news\n",
            "/news/culture_and_living/2022/12/17/an_art_auction_in_idno_today_for_the_benefit_of_ref/\n",
            "news\n",
            "/news/culture_and_living/2022/12/11/triangle_of_sadness_the_biggest_winner/\n",
            "news\n",
            "/news/culture_and_living/2022/12/02/icelandic_authors_an_instant_hit_on_tinder/\n",
            "news\n",
            "/news/culture_and_living/2022/11/28/voted_the_best_crime_novel_in_50_years/\n",
            "news\n",
            "/news/culture_and_living/2022/11/27/keflavik_turned_into_alaska/\n",
            "news\n",
            "/news/culture_and_living/2022/11/27/the_lights_on_the_oslo_tree_marks_the_start_of_the_/\n",
            "news\n",
            "/news/culture_and_living/2022/11/21/one_third_of_the_population_reads_a_book_every_day/\n",
            "news\n",
            "/news/culture_and_living/2022/11/20/the_lights_lit_on_the_yulecat_in_laekjartorg/\n",
            "news\n",
            "/news/culture_and_living/2022/11/18/a_billboard_from_icelandic_tourist_board_sent_to_sp/\n",
            "news\n",
            "/news/culture_and_living/2022/11/14/huge_turnout_at_a_book_signing_and_some_had_to_leav/\n",
            "news\n",
            "/news/culture_and_living/2022/11/13/record_number_of_christmas_boxes_collected_this_yea/\n",
            "news\n",
            "/news/culture_and_living/2022/11/12/foster_went_to_the_movies_in_reykjavik/\n",
            "news\n",
            "/news/culture_and_living/2022/11/10/bjork_at_the_metaverse_virtual_music_festival_that_/\n",
            "news\n",
            "/news/nature_and_travel/2021/07/07/the_hottest_valley_on_the_island/\n",
            "news\n",
            "2620964\n",
            "2612766\n",
            "2604047\n",
            "2594116\n",
            "2585676\n",
            "2576460\n",
            "2565629\n",
            "2555010\n",
            "2541533\n",
            "/news/politics_and_society/2022/09/21/inviting_icelandic_journalists_to_go_to_the_occupie/\n",
            "news\n",
            "/news/politics_and_society/2022/09/20/the_real_estate_market_is_cooling/\n",
            "news\n",
            "/news/politics_and_society/2022/09/15/there_are_two_options_on_the_table/\n",
            "news\n",
            "/news/politics_and_society/2022/09/14/71_prosent_in_favour_of_a_rent_ceiling/\n",
            "news\n",
            "/news/politics_and_society/2022/09/14/two_billion_isk_for_a_new_university_cooperation_fu/\n",
            "news\n",
            "/news/politics_and_society/2022/09/13/the_world_is_getting_better_but_digital_assistant_s/\n",
            "news\n",
            "/news/politics_and_society/2022/09/12/discharged_in_dire_distress_and_told_to_get_a_hotel/\n",
            "news\n",
            "/news/politics_and_society/2022/09/12/second_grant_to_assist_municipalities_in_welcoming_/\n",
            "news\n",
            "/news/politics_and_society/2022/09/12/treasury_revenue_79_billion_isk_more_than_this_year/\n",
            "news\n",
            "/news/politics_and_society/2022/09/08/aslaug_arna_voted_politician_of_the_year/\n",
            "news\n",
            "/news/eat_and_drink/2017/09/19/review_a_mouth_watering_adventure_at_sumac/\n",
            "news\n",
            "/news/eat_and_drink/2017/09/19/man_finds_dead_rodent_in_salad_at_reykjavik_restaur/\n",
            "news\n",
            "/news/eat_and_drink/2017/09/18/licorice_mania_continues_in_iceland_now_for_licoric/\n",
            "news\n",
            "/news/eat_and_drink/2017/09/10/one_of_iceland_s_most_touted_chefs_opens_a_stall_at/\n",
            "news\n",
            "/news/eat_and_drink/2017/08/23/icelandic_kombucha_hits_the_market/\n",
            "news\n",
            "/news/eat_and_drink/2017/08/21/hlemmur_food_hall_opens_and_it_s_a_raving_success/\n",
            "news\n",
            "/news/eat_and_drink/2017/08/12/style_jamie_s_italian_pays_homage_to_hotel_borg_s_r/\n",
            "news\n",
            "/news/eat_and_drink/2017/08/11/weekend_famous_recipe_for_scallops_from_stykkisholm/\n",
            "news\n",
            "/news/eat_and_drink/2017/07/27/the_world_s_best_hot_dog_stand_moves/\n",
            "news\n",
            "/news/eat_and_drink/2017/07/25/a_stunning_new_restaurant_opens_at_the_pearl_in_rey/\n",
            "news\n",
            "/news/eat_and_drink/2019/03/01/it_s_beer_anniversary_night_in_iceland/\n",
            "news\n",
            "/news/eat_and_drink/2019/02/22/four_icelandic_restaurants_added_to_michelin_guide/\n",
            "news\n",
            "/news/eat_and_drink/2019/02/19/dill_lose_their_michelin_star/\n",
            "news\n",
            "/news/eat_and_drink/2019/02/18/skal_receives_a_bib_gourmand_michelin_award/\n",
            "news\n",
            "/news/eat_and_drink/2019/02/17/danish_low_cost_supermarket_to_open_in_central_reyk/\n",
            "news\n",
            "/news/eat_and_drink/2019/02/15/restaurants_participate_in_initiative_for_chldren_s/\n",
            "news\n",
            "/news/eat_and_drink/2019/01/30/icelandic_culinary_team_compete_at_bocuse_d_or/\n",
            "news\n",
            "/news/eat_and_drink/2019/01/26/interview_with_muso_the_cat_at_reykjavik_s_only_cat/\n",
            "news\n",
            "/news/eat_and_drink/2019/01/14/le_kock_moves_to_downtown_reykjavik/\n",
            "news\n",
            "/news/eat_and_drink/2019/01/09/new_restaurant_systir_opens_on_hverfisgata_instead_/\n",
            "news\n",
            "/news/eat_and_drink/2019/12/28/hot_dogs_and_ice_cream_for_christmas/\n",
            "news\n",
            "/news/eat_and_drink/2019/09/14/puffins_pylsur_popular_in_tokyo/\n",
            "news\n",
            "/news/eat_and_drink/2019/08/27/will_meat_be_off_the_reykjavik_menu/\n",
            "news\n",
            "/news/eat_and_drink/2019/08/08/dill_closes_and_other_restaurants_open/\n",
            "news\n",
            "/news/eat_and_drink/2019/07/06/food_market_and_more_by_reykjavik_harbor/\n",
            "news\n",
            "/news/eat_and_drink/2019/06/12/how_dried_fish_is_made/\n",
            "news\n",
            "/news/eat_and_drink/2019/06/06/quality_water_for_free/\n",
            "news\n",
            "/news/eat_and_drink/2019/06/03/icelandic_tap_water_free_luxury/\n",
            "news\n",
            "/news/eat_and_drink/2019/05/19/fighting_climate_change_with_pigs/\n",
            "news\n",
            "/news/eat_and_drink/2019/05/04/food_market_planned_in_laugardalur/\n",
            "news\n",
            "/news/politics_and_society/2022/07/04/less_purchasing_power_in_the_coming_months_due_to_h/\n",
            "news\n",
            "/news/politics_and_society/2022/07/04/icelanders_in_copenhagen_asked_to_let_family_know_t/\n",
            "news\n",
            "/news/politics_and_society/2022/07/01/50_prosent_increase_in_car_sales_from_last_year/\n",
            "news\n",
            "/news/politics_and_society/2022/07/01/will_online_sales_push_through_a_change_in_the_icel/\n",
            "news\n",
            "/news/politics_and_society/2022/06/30/the_first_phase_of_city_line_pushed_back_two_years/\n",
            "news\n",
            "/news/politics_and_society/2022/06/30/historical_moment_but_turkey_s_demands_were_inappro/\n",
            "news\n",
            "/news/politics_and_society/2022/06/27/strong_reaction_to_roe_vs_wade_ruling_from_iceland_/\n",
            "news\n",
            "/news/politics_and_society/2022/06/24/malfunction_in_hosting_services_of_advania_impacted/\n",
            "news\n",
            "/news/politics_and_society/2022/06/21/nova_is_now_on_the_main_nasdaq_iceland_stock_exchan/\n",
            "news\n",
            "/news/politics_and_society/2022/06/17/icelanders_united_where_it_matters/\n",
            "news\n",
            "/news/culture_and_living/2022/11/10/living_close_to_the_party_zone/\n",
            "news\n",
            "/news/culture_and_living/2022/11/08/set_on_finding_a_cure_for_spinal_cord_injuries/\n",
            "news\n",
            "/news/culture_and_living/2022/11/04/first_day_sold_out_at_iceland_airwaves/\n",
            "news\n",
            "/news/culture_and_living/2022/11/01/the_christian_word_needs_icelandic_subtitles/\n",
            "news\n",
            "/news/culture_and_living/2022/10/31/nakamura_took_home_the_first_prize/\n",
            "news\n",
            "/news/culture_and_living/2022/10/30/tulipop_tales_going_international/\n",
            "news\n",
            "/news/culture_and_living/2022/10/29/a_memorial_to_honor_the_herring_girls/\n",
            "news\n",
            "/news/culture_and_living/2022/10/26/lost_to_an_eight_year_old_boy/\n",
            "news\n",
            "/news/culture_and_living/2022/10/25/actor_deported_and_the_show_postponed/\n",
            "news\n",
            "/news/culture_and_living/2022/10/24/21_m_isk_for_the_winner/\n",
            "news\n",
            "/news/culture_and_living/2022/05/10/iceland_gets_into_the_finals_in_eurovision/\n",
            "news\n",
            "/news/culture_and_living/2022/05/10/eurovision_hits_a_fever_pitch_iceland_is_performing/\n",
            "news\n",
            "/news/culture_and_living/2022/05/07/running_in_the_westman_islands/\n",
            "news\n",
            "/news/culture_and_living/2022/05/07/iceland_just_might_be_the_dark_horse/\n",
            "news\n",
            "/news/culture_and_living/2022/05/04/biking_to_work_for_twenty_years/\n",
            "news\n",
            "/news/culture_and_living/2022/04/30/from_hollywood_to_reykjavik/\n",
            "news\n",
            "/news/culture_and_living/2022/04/26/important_to_introduce_the_sagas_sooner/\n",
            "news\n",
            "/news/culture_and_living/2022/04/25/iceland_writers_retreat_reading_tomorrow/\n",
            "news\n",
            "/news/culture_and_living/2022/04/23/multinational_cast_of_operation_napoleon/\n",
            "news\n",
            "/news/culture_and_living/2022/04/17/friendship_festival_in_remote_greenlandic_village/\n",
            "news\n",
            "/news/culture_and_living/2022/03/28/reykjavik_nightlife_has_changed/\n",
            "news\n",
            "/news/culture_and_living/2022/03/27/hens_help_teach_kids_about_sustainability/\n",
            "news\n",
            "/news/culture_and_living/2022/03/26/second_largest_film_project_ever_in_iceland/\n",
            "news\n",
            "/news/culture_and_living/2022/03/18/katy_perry_coming_to_iceland_this_summer/\n",
            "news\n",
            "/news/culture_and_living/2022/03/14/three_sisters_to_represent_iceland_at_eurovision/\n",
            "news\n",
            "/news/culture_and_living/2022/03/13/eleven_year_old_icelandic_lord/\n",
            "news\n",
            "/news/culture_and_living/2022/03/12/laekjartorg_square_to_get_new_look/\n",
            "news\n",
            "/news/culture_and_living/2022/03/03/ash_wednesday_in_pictures/\n",
            "news\n",
            "/news/culture_and_living/2022/03/02/myvatn_winter_festival_opens_friday/\n",
            "news\n",
            "/news/culture_and_living/2022/02/28/busy_bun_day_for_bakers_in_iceland/\n",
            "news\n",
            "/news/culture_and_living/2022/02/06/curious_cat_in_a_university_hat_remembered/\n",
            "news\n",
            "/news/culture_and_living/2022/02/03/winter_lights_festival_begins_today/\n",
            "news\n",
            "/news/culture_and_living/2022/01/31/cultural_heritage_legend_thordur_tomasson_dies_at_1/\n",
            "news\n",
            "/news/culture_and_living/2022/01/29/should_the_2_of_us_get_married_2_22_22/\n",
            "news\n",
            "/news/culture_and_living/2022/01/21/surf_low_tide_and_glaciers_get_green_light/\n",
            "news\n",
            "/news/culture_and_living/2022/01/17/majority_of_residents_in_myrdalur_are_foreign_citiz/\n",
            "news\n",
            "/news/culture_and_living/2022/01/15/iceland_s_oldest_living_sisters/\n",
            "news\n",
            "/news/culture_and_living/2022/01/08/not_about_to_give_up_after_amputation/\n",
            "news\n",
            "/news/culture_and_living/2022/01/03/icelanders_welcome_2022_with_fireworks/\n",
            "news\n",
            "/news/culture_and_living/2022/01/01/new_year_new_numbers/\n",
            "news\n",
            "/news/nature_and_travel/2022/05/21/we_want_to_be_the_gateway_to_iceland/\n",
            "news\n",
            "/news/nature_and_travel/2022/05/20/3_8_m_earthquake_at_18_33_pm_today_at_the_tip_of_th/\n",
            "news\n",
            "/news/nature_and_travel/2022/05/19/iceland_only_gets_bigger_with_an_added_destination_/\n",
            "news\n",
            "/news/nature_and_travel/2022/05/17/amazing_to_be_on_the_top_of_the_world/\n",
            "news\n",
            "/news/nature_and_travel/2022/05/16/uncertainty_level_announced_yesterday_due_to_earthq/\n",
            "news\n",
            "/news/nature_and_travel/2022/05/15/healing_the_body_and_the_mind_in_nature/\n",
            "news\n",
            "/news/nature_and_travel/2022/05/14/big_earthquake_in_threngslin_in_the_south/\n",
            "news\n",
            "/news/nature_and_travel/2022/05/12/a_spanish_tourist_almost_drowned_at_reynisfjara_bla/\n",
            "news\n",
            "/news/nature_and_travel/2022/05/08/much_more_fun_to_travel_with_kids/\n",
            "news\n",
            "/news/nature_and_travel/2022/05/06/everything_is_selling_out/\n",
            "news\n",
            "/news/nature_and_travel/2022/04/19/an_assault_on_icelandic_nature/\n",
            "news\n",
            "/news/nature_and_travel/2022/04/13/up_to_83_cruise_ships_coming_this_season/\n",
            "news\n",
            "/news/nature_and_travel/2022/04/13/swarm_of_earthquakes_on_reykjanes_peninsula/\n",
            "news\n",
            "/news/nature_and_travel/2022/03/30/concerned_about_excavation_in_seydisholar_craters/\n",
            "news\n",
            "/news/nature_and_travel/2022/03/29/road_system_not_ready_for_increasing_traffic/\n",
            "news\n",
            "/news/nature_and_travel/2022/03/28/road_closure_due_to_filming_near_kleifarvatn_lake/\n",
            "news\n",
            "/news/nature_and_travel/2022/03/25/forest_lagoon_to_open_in_april/\n",
            "news\n",
            "/news/nature_and_travel/2022/03/24/observation_platform_planned_in_asbyrgi/\n",
            "news\n",
            "/news/nature_and_travel/2022/03/21/golden_plover_and_spring_have_arrived/\n",
            "news\n",
            "/news/nature_and_travel/2022/03/21/lambing_season_begins_in_landsveit/\n",
            "news\n",
            "/news/culture_and_living/2022/09/21/the_second_wind_turbine_in_thykkvabaer_was_taken_do/\n",
            "news\n",
            "/news/culture_and_living/2022/09/19/knitting_warm_socks_for_the_soldiers_in_ukraine/\n",
            "news\n",
            "/news/culture_and_living/2022/09/17/hekla_s_xiuxiuejar_chosen_contemporary_album_of_the/\n",
            "news\n",
            "/news/culture_and_living/2022/09/16/ex_cons_in_the_windows_of_the_old_prison/\n",
            "news\n",
            "/news/culture_and_living/2022/09/15/the_cast_of_halo_posts_a_picture_from_iceland_on_tw/\n",
            "news\n",
            "/news/culture_and_living/2022/09/11/pole_dancing_on_the_roof_of_the_nordic_house/\n",
            "news\n",
            "/news/culture_and_living/2022/09/10/star_saevar_started_enlightening_the_public_about_s/\n",
            "news\n",
            "/news/culture_and_living/2022/09/06/walk_to_school_campaigns_starts_tomorrow_at_8_45_am/\n",
            "news\n",
            "/news/culture_and_living/2022/09/03/sold_out_too_fast_for_mom_to_get_her_garlic/\n",
            "news\n",
            "/news/culture_and_living/2022/08/31/nine_days_of_gathering_sheep_starts_today/\n",
            "news\n",
            "/news/politics_and_society/2022/11/02/father_of_the_national_police_chief_allegedly_sold_/\n",
            "news\n",
            "/news/politics_and_society/2022/10/31/mowi_buys_shares_in_arctic_fish/\n",
            "news\n",
            "/news/politics_and_society/2022/10/31/eliminating_jobs_at_the_management_level/\n",
            "news\n",
            "/news/politics_and_society/2022/10/28/difficult_to_be_queer_in_slovakia/\n",
            "news\n",
            "/news/politics_and_society/2022/10/25/immigration_is_changing_the_age_distribution_in_the/\n",
            "news\n",
            "/news/politics_and_society/2022/10/15/icelandair_working_with_arctic_circle/\n",
            "news\n",
            "/news/politics_and_society/2022/10/14/signs_will_soon_have_icelandic_first_at_the_keflavi/\n",
            "news\n",
            "/news/politics_and_society/2022/10/13/the_wife_had_stabbed_her_husband_last_march_and_a_h/\n",
            "news\n",
            "/news/politics_and_society/2022/10/12/19_000_got_vaccinated_in_laugardalsholl/\n",
            "news\n",
            "/news/politics_and_society/2022/10/10/murder_suspects_released_from_custody/\n",
            "news\n",
            "/news/politics_and_society/2022/10/03/four_people_arrested_in_olafsfjordur_in_a_murder_ca/\n",
            "news\n",
            "/news/politics_and_society/2022/09/29/widespread_effects_of_the_seydifjordur_fire/\n",
            "news\n",
            "/news/politics_and_society/2022/09/29/most_of_the_weapons_legally_registered/\n",
            "news\n",
            "/news/politics_and_society/2022/09/29/national_police_chief_has_excused_herself_from_the_/\n",
            "news\n",
            "/news/politics_and_society/2022/09/29/keflavik_airport_open_for_traffic/\n",
            "news\n",
            "/news/politics_and_society/2022/09/29/building_ablaze_in_egilsstadir_yesterday/\n",
            "news\n",
            "/news/politics_and_society/2022/09/29/bomb_threat_in_keflavik_last_night/\n",
            "news\n",
            "/news/politics_and_society/2022/09/28/two_thousand_people_got_vaccinated/\n",
            "news\n",
            "/news/politics_and_society/2022/09/27/do_you_know_this_man/\n",
            "news\n",
            "/news/politics_and_society/2022/09/26/denies_planning_terror_attacks/\n",
            "news\n",
            "/news/eat_and_drink/2022/04/02/beer_to_benefit_victims_of_war/\n",
            "news\n",
            "/news/eat_and_drink/2022/02/27/27_percent_of_icelanders_are_obese/\n",
            "news\n",
            "/news/eat_and_drink/2022/01/22/will_alcohol_be_served_at_akureyri_s_ski_resort/\n",
            "news\n",
            "/news/eat_and_drink/2022/01/13/ram_testicles_and_shark_likely_to_be_enjoyed_at_hom/\n",
            "news\n",
            "/news/eat_and_drink/2021/11/17/four_bottles_sold_of_louis_xiii_cognac/\n",
            "news\n",
            "/news/eat_and_drink/2021/10/07/flying_food_prize_for_drone_delivery/\n",
            "news\n",
            "/news/eat_and_drink/2021/07/26/feel_like_home_at_mama_reykjavik/\n",
            "news\n",
            "/news/eat_and_drink/2021/07/09/gordon_ramsay_in_iceland/\n",
            "news\n",
            "/news/eat_and_drink/2021/02/12/icelandic_food_production_provides_plenty_of_protei/\n",
            "news\n",
            "/news/eat_and_drink/2021/01/05/vinbudin_liquor_stores_report_record_sales/\n",
            "news\n",
            "/news/culture_and_living/2022/08/16/reykjavik_celebrates_culture_night_2022_next_saturd/\n",
            "news\n",
            "/news/culture_and_living/2022/08/10/the_lost_swimmer_was_found_unresponsive_late_last_n/\n",
            "news\n",
            "/news/culture_and_living/2022/08/09/hbo_preparing_to_shoot_true_detective_night_country/\n",
            "news\n",
            "/news/culture_and_living/2022/08/06/pride_parade_is_coming_back_bigger_and_better_after/\n",
            "news\n",
            "/news/culture_and_living/2022/08/02/young_entrepreneurs_selling_condoms_to_festival_gue/\n",
            "news\n",
            "/news/culture_and_living/2022/07/22/renewed_his_driving_license_just_before_his_100th_b/\n",
            "news\n",
            "/news/culture_and_living/2022/07/21/ben_stiller_and_olafur_darri_s_happy_10_year_reunio/\n",
            "news\n",
            "/news/culture_and_living/2022/07/18/the_oldest_siblings_in_iceland/\n",
            "news\n",
            "/news/culture_and_living/2022/07/17/writing_the_script_and_the_characters_was_like_bein/\n",
            "news\n",
            "/news/culture_and_living/2022/07/15/hnifsdalur_made_her_an_author/\n",
            "news\n",
            "/news/eat_and_drink/2018/11/27/a_magical_american_christmas_buffet_in_reykjavik/\n",
            "news\n",
            "/news/eat_and_drink/2018/11/26/icelandic_culinary_team_wins_gold_medal/\n",
            "news\n",
            "/news/eat_and_drink/2018/11/22/thanksgiving_meal_in_reykjavik_for_800_people/\n",
            "news\n",
            "/news/eat_and_drink/2018/11/21/stunning_annual_magazine_on_icelandic_food_is_out/\n",
            "news\n",
            "/news/eat_and_drink/2018/11/19/first_lady_to_accompany_icelandic_national_culinary/\n",
            "news\n",
            "/news/eat_and_drink/2018/11/16/icelandic_skyr_wins_best_skyr_competition/\n",
            "news\n",
            "/news/eat_and_drink/2018/11/12/new_icelandic_christmas_sweets_on_the_market/\n",
            "news\n",
            "/news/eat_and_drink/2018/10/30/sixty_types_of_icelandic_christmas_beers_on_the_mar/\n",
            "news\n",
            "/news/eat_and_drink/2018/10/25/cheese_pop_up_shop_at_hlemmur_food_hall/\n",
            "news\n",
            "/news/eat_and_drink/2018/10/17/the_best_happy_hours_in_reykjavik/\n",
            "news\n",
            "/news/nature_and_travel/2022/06/25/we_are_living_in_iceland_after_all/\n",
            "news\n",
            "/news/nature_and_travel/2022/06/25/rescued_french_tourists_in_the_highlands/\n",
            "news\n",
            "/news/nature_and_travel/2022/06/24/4_6_m_earthquake_under_langjokull/\n",
            "news\n",
            "/news/nature_and_travel/2022/06/22/need_to_ensure_the_safety_of_visitors/\n",
            "news\n",
            "/news/nature_and_travel/2022/06/21/a_landslide_fell_in_the_westfjords/\n",
            "news\n",
            "/news/nature_and_travel/2022/06/20/midnight_sun_nightwater_festival_celebrated_next_we/\n",
            "news\n",
            "/news/nature_and_travel/2022/06/19/won_the_1st_price_for_the_best_photograph/\n",
            "news\n",
            "/news/nature_and_travel/2022/06/18/the_passengers_finally_sailing_to_shore/\n",
            "news\n",
            "/news/nature_and_travel/2022/06/14/warns_about_the_dangers_three_times/\n",
            "news\n",
            "/news/nature_and_travel/2022/06/13/a_fatal_accident_at_reynisfjara_black_beach/\n",
            "news\n",
            "/news/nature_and_travel/2022/03/14/morning_flights_postponed_at_kef_airport/\n",
            "news\n",
            "/news/nature_and_travel/2022/03/14/orange_weather_warnings_watch_the_storm_approaching/\n",
            "news\n",
            "/news/nature_and_travel/2022/03/10/keeps_the_shovel_in_her_bed/\n",
            "news\n",
            "/news/nature_and_travel/2022/02/25/severe_weather_in_iceland_today/\n",
            "news\n",
            "/news/nature_and_travel/2022/02/22/severe_weather_continues_many_roads_closed/\n",
            "news\n",
            "/news/nature_and_travel/2022/02/22/numerous_international_flights_canceled/\n",
            "news\n",
            "/news/nature_and_travel/2022/02/21/ten_year_old_boy_rescued_from_avalanche/\n",
            "news\n",
            "/news/nature_and_travel/2022/02/21/severe_weather_all_over_iceland_tonight/\n",
            "news\n",
            "/news/nature_and_travel/2022/02/20/iceland_s_most_romantic_fjords/\n",
            "news\n",
            "/news/nature_and_travel/2022/02/18/severe_damage_due_to_off_road_driving/\n",
            "news\n",
            "/news/nature_and_travel/2022/01/28/west_fjords_benefit_from_being_best_in_travel_2022/\n",
            "news\n",
            "/news/nature_and_travel/2022/01/26/expecting_1_1_1_2_million_tourists_this_year/\n",
            "news\n",
            "/news/nature_and_travel/2022/01/25/severe_weather_in_iceland_today/\n",
            "news\n",
            "/news/nature_and_travel/2022/01/25/numerous_flights_canceled_to_and_from_kef_airport/\n",
            "news\n",
            "/news/nature_and_travel/2022/01/21/sheep_eat_arctic_tern_eggs_and_chicks/\n",
            "news\n",
            "/news/nature_and_travel/2022/01/21/severe_gale_or_storm_forecast_for_most_of_iceland/\n",
            "news\n",
            "/news/nature_and_travel/2022/01/14/collision_with_truck_narrowly_averted_video/\n",
            "news\n",
            "/news/nature_and_travel/2022/01/13/hundreds_of_dead_birds_on_beaches_in_east_fjords/\n",
            "news\n",
            "/news/nature_and_travel/2022/01/12/largest_earthquake_in_husafell_area_in_decades/\n",
            "news\n",
            "/news/nature_and_travel/2022/01/09/iceland_s_most_popular_destinations_in_2021/\n",
            "news\n",
            "/news/culture_and_living/2022/06/17/celebrating_icelandic_national_day/\n",
            "news\n",
            "/news/culture_and_living/2022/06/16/talks_about_his_success_with_a_double_arm_and_shoul/\n",
            "news\n",
            "/news/culture_and_living/2022/06/16/first_salmon_of_the_season_in_east_ranga/\n",
            "news\n",
            "/news/culture_and_living/2022/06/13/fishermen_celebrated_today_with_the_same_enthusiasm/\n",
            "news\n",
            "/news/culture_and_living/2022/06/12/got_a_million_rejections_before_the_ball_started_ro/\n",
            "news\n",
            "/news/culture_and_living/2022/06/08/like_swimmingin_a_washing_machine/\n",
            "news\n",
            "/news/culture_and_living/2022/06/07/swimming_through_the_english_channel/\n",
            "news\n",
            "/news/culture_and_living/2022/06/05/a_scotsman_took_the_first_price/\n",
            "news\n",
            "/news/culture_and_living/2022/06/04/godland_got_a_standing_ovation_in_cannes/\n",
            "news\n",
            "/news/culture_and_living/2022/05/27/grab_your_stilettos_we_re_going_hiking/\n",
            "news\n",
            "/news/eat_and_drink/2017/07/01/chinese_bao_bun_food_truck_in_reykjavik_city_centre/\n",
            "news\n",
            "/news/eat_and_drink/2017/06/23/nature_wines_and_creative_cooking_on_midsummer_s_ni/\n",
            "news\n",
            "/news/eat_and_drink/2017/06/22/cheaper_cocktails_in_reykjavik_because_of_costco/\n",
            "news\n",
            "/news/eat_and_drink/2017/06/15/take_a_look_at_some_of_the_food_stands_at_secret_so/\n",
            "news\n",
            "/news/eat_and_drink/2017/06/14/icelandic_fish_and_chips_open_new_york_branch/\n",
            "news\n",
            "/news/eat_and_drink/2017/06/09/icelandic_noodle_restaurant_to_open_in_south_korea/\n",
            "news\n",
            "/news/eat_and_drink/2017/06/08/sustainability_and_a_vegetable_market_for_new_hlemm/\n",
            "news\n",
            "/news/eat_and_drink/2017/06/07/sheep_head_beer_a_nordic_collaboration/\n",
            "news\n",
            "/news/eat_and_drink/2017/06/05/wonderful_fish_recipe_to_light_up_your_life/\n",
            "news\n",
            "/news/eat_and_drink/2017/06/04/new_french_foodstore_opens_in_reykjavik_city_centre/\n",
            "news\n",
            "/news/politics_and_society/2022/06/02/a_19_9_prosent_hike_in_property_taxes/\n",
            "news\n",
            "/news/politics_and_society/2022/06/02/half_of_the_population_have_had_covid/\n",
            "news\n",
            "/news/politics_and_society/2022/06/01/the_earthquakes_are_causing_uncomfortable_uncertain/\n",
            "news\n",
            "/news/politics_and_society/2022/05/23/only_one_way_to_form_a_working_majority/\n",
            "news\n",
            "/news/politics_and_society/2022/05/17/political_intrigue_in_reykjavik/\n",
            "news\n",
            "/news/politics_and_society/2022/05/16/the_progressive_party_is_the_winner_of_the_local_el/\n",
            "news\n",
            "/news/politics_and_society/2022/05/14/local_elections_in_iceland_the_current_majority_mig/\n",
            "news\n",
            "/news/politics_and_society/2022/05/13/my_home_my_vote_my_future/\n",
            "news\n",
            "/news/politics_and_society/2022/05/11/the_leader_of_pussy_riot_escaped_russia_with_the_he/\n",
            "news\n",
            "/news/politics_and_society/2022/05/11/the_prime_minister_of_iceland_assisted_an_ewe_at_la/\n",
            "news\n",
            "/news/nature_and_travel/2022/08/12/two_weeks_would_be_the_worst_scenario/\n",
            "news\n",
            "/news/nature_and_travel/2022/08/11/huge_increase_in_scheduled_arrivals_of_cruise_ships/\n",
            "news\n",
            "/news/nature_and_travel/2022/08/10/lava_could_flow_towards_a_main_road/\n",
            "news\n",
            "/news/nature_and_travel/2022/08/10/children_under_12_years_old_cannot_visit_the_erupti/\n",
            "news\n",
            "/news/nature_and_travel/2022/08/09/the_eruption_site_still_closed_today/\n",
            "news\n",
            "/news/nature_and_travel/2022/08/08/the_eruption_site_at_meradalir_opens_tomorrow_tuesd/\n",
            "news\n",
            "/news/nature_and_travel/2022/08/08/injured_after_falling_30_meters_down/\n",
            "news\n",
            "/news/nature_and_travel/2022/08/07/close_access_to_the_eruption_site_due_to_weather/\n",
            "news\n",
            "/news/nature_and_travel/2022/08/05/the_eruption_is_magical_at_the_night_time/\n",
            "news\n",
            "/news/nature_and_travel/2022/08/05/many_hikers_not_adequately_prepared/\n",
            "news\n",
            "/news/nature_and_travel/2022/02/14/numerous_roads_closed_after_heavy_snowfall/\n",
            "news\n",
            "/news/nature_and_travel/2022/02/12/northern_lights_adorn_the_sky_favorable_conditions_/\n",
            "news\n",
            "/news/nature_and_travel/2022/02/10/narrow_escape_from_avalanche_video/\n",
            "news\n",
            "/news/nature_and_travel/2022/02/09/swimming_pool_full_of_sand_video/\n",
            "news\n",
            "/news/nature_and_travel/2022/02/08/high_waves_and_exceptionally_strong_winds/\n",
            "news\n",
            "/news/nature_and_travel/2022/02/08/cool_restaurant_under_cover_of_snow/\n",
            "news\n",
            "/news/nature_and_travel/2022/02/07/preschools_to_reopen_at_1_pm/\n",
            "news\n",
            "/news/nature_and_travel/2022/02/07/severe_weather_continues/\n",
            "news\n",
            "/news/nature_and_travel/2022/02/03/record_number_of_collisions_in_capital_area_this_mo/\n",
            "news\n",
            "/news/nature_and_travel/2022/02/03/katla_quivers/\n",
            "news\n",
            "/news/eat_and_drink/2017/12/02/a_new_five_course_christmas_menu_at_hip_kex_hostel/\n",
            "news\n",
            "/news/eat_and_drink/2017/11/27/first_cat_cafe_set_to_open_in_reykjavik/\n",
            "news\n",
            "/news/eat_and_drink/2017/11/25/weekend_lamb_roast_leg_of_lamb_with_pesto_and_roast/\n",
            "news\n",
            "/news/eat_and_drink/2017/11/24/icelandic_leaf_bread_workshop_on_videy_island/\n",
            "news\n",
            "/news/eat_and_drink/2017/11/24/a_new_and_exciting_brunch_menu_at_reykjavik_s_most_/\n",
            "news\n",
            "/news/eat_and_drink/2017/11/15/enjoy_a_silence_meal_at_the_nordic_house/\n",
            "news\n",
            "/news/eat_and_drink/2017/11/11/dogs_allowed_at_grai_kotturinn/\n",
            "news\n",
            "/news/eat_and_drink/2017/10/31/dunkin_donuts_close_down_in_reykjavik_city_centre/\n",
            "news\n",
            "/news/eat_and_drink/2017/10/23/texasburgers_joint_at_grandi_becomes_hip_pizzeria/\n",
            "news\n",
            "/news/eat_and_drink/2017/10/18/new_butcher_s_shop_opens_at_grandi_harbour_district/\n",
            "news\n",
            "/news/culture_and_living/2021/12/17/1_100_families_receive_aid_from_mothers_aid_society/\n",
            "news\n",
            "/news/culture_and_living/2021/12/14/oldest_person_in_iceland_in_history/\n",
            "news\n",
            "/news/culture_and_living/2021/12/12/bessastadakirkja_church_to_get_new_look_video/\n",
            "news\n",
            "/news/culture_and_living/2021/11/30/making_iceland_attractive_to_filmmakers_from_abroad/\n",
            "news\n",
            "/news/culture_and_living/2021/11/29/lights_of_oslo_tree_lit_in_reykjavik/\n",
            "news\n",
            "/news/culture_and_living/2021/11/24/like_finding_gold/\n",
            "news\n",
            "/news/culture_and_living/2021/11/20/iceland_post_hires_chat_cat/\n",
            "news\n",
            "/news/culture_and_living/2021/11/19/the_bachelor_being_filmed_in_iceland/\n",
            "news\n",
            "/news/culture_and_living/2021/11/18/surprise_surprise_paramedic_looks_familiar/\n",
            "news\n",
            "/news/culture_and_living/2021/11/17/rector_of_university_of_iceland_among_world_s_top_s/\n",
            "news\n",
            "/news/politics_and_society/2022/01/28/major_easing_of_restrictions_announced_in_iceland/\n",
            "news\n",
            "/news/politics_and_society/2022/01/24/bill_to_benefit_icelandic_investors_introduced_to_u/\n",
            "news\n",
            "/news/politics_and_society/2022/01/14/tighter_covid_19_restrictions_announced_in_iceland/\n",
            "news\n",
            "/news/politics_and_society/2021/12/01/2022_budget_bill_improved_outlook/\n",
            "news\n",
            "/news/politics_and_society/2021/11/30/plans_for_new_church_on_grimsey_island/\n",
            "news\n",
            "/news/politics_and_society/2021/11/29/new_government_of_iceland_takes_office/\n",
            "news\n",
            "/news/politics_and_society/2021/11/26/althingi_confirms_mps_credentials/\n",
            "news\n",
            "/news/politics_and_society/2021/11/23/althingi_to_reconvene_today/\n",
            "news\n",
            "/news/politics_and_society/2021/11/22/iceland_among_best_countries_to_raise_a_child/\n",
            "news\n",
            "/news/politics_and_society/2021/11/10/icelanders_trust_women_leaders_better_than_do_other/\n",
            "news\n",
            "/news/politics_and_society/2022/04/15/unemployment_rate_going_down_in_iceland/\n",
            "news\n",
            "/news/politics_and_society/2022/04/12/toxic_waste_from_radar_station_remains_a_problem/\n",
            "news\n",
            "/news/politics_and_society/2022/04/12/successful_landing_exercise_in_hvalfjordur_fjord_vi/\n",
            "news\n",
            "/news/politics_and_society/2022/04/04/close_to_600_ukrainian_refugees_in_iceland/\n",
            "news\n",
            "/news/politics_and_society/2022/04/04/northern_viking_defense_exercise_in_iceland/\n",
            "news\n",
            "/news/politics_and_society/2022/04/01/most_expensive_in_europe_switzerland_and_iceland/\n",
            "news\n",
            "/news/politics_and_society/2022/03/23/real_estate_prices_in_iceland_rose_the_most/\n",
            "news\n",
            "/news/politics_and_society/2022/03/18/assisting_ukrainians_every_way_they_can/\n",
            "news\n",
            "/news/politics_and_society/2022/03/18/iceland_said_to_have_removed_oligarch_from_eu_s_san/\n",
            "news\n",
            "/news/politics_and_society/2022/03/17/ukrainian_babies_unable_to_come_to_iceland/\n",
            "news\n",
            "/news/politics_and_society/2022/08/25/the_city_considering_a_more_flexible_retirement_age/\n",
            "news\n",
            "/news/politics_and_society/2022/08/25/yet_another_knife_in_the_back/\n",
            "news\n",
            "/news/politics_and_society/2022/08/23/the_presidents_of_the_baltic_countries_visit_icelan/\n",
            "news\n",
            "/news/politics_and_society/2022/08/23/proposal_for_change_in_gun_laws_this_fall/\n",
            "news\n",
            "/news/politics_and_society/2022/08/18/never_more_vacant_jobs_than_now/\n",
            "news\n",
            "/news/politics_and_society/2022/08/15/more_people_need_to_work_to_sustain_retirement_pens/\n",
            "news\n",
            "/news/politics_and_society/2022/07/28/untraditional_sign_coming_to_iceland/\n",
            "news\n",
            "/news/politics_and_society/2022/07/26/swam_from_the_westman_islands_to_landeyjasandur_for/\n",
            "news\n",
            "/news/politics_and_society/2022/07/22/arrested_for_painting_stop_war_outside_of_the_russi/\n",
            "news\n",
            "/news/politics_and_society/2022/07/22/inflation_has_reached_9_9_prosent/\n",
            "news\n",
            "/news/news/2023/03/13/the_prime_minister_and_the_minister_of_foreign_affa/\n",
            "news\n",
            "/news/news/2023/03/13/the_surface_of_lake_askja_is_frozen_again/\n",
            "news\n",
            "/news/news/2023/03/12/fired_a_shot_in_the_bar_dubliners_tonight/\n",
            "news\n",
            "/news/news/2023/03/12/found_a_stunning_cave_by_accident/\n",
            "news\n",
            "/news/news/2023/03/11/found_debris_of_a_plane_and_a_human_skull/\n",
            "news\n",
            "/news/news/2023/03/10/the_national_court_confirms_the_dismissal_of_the_te/\n",
            "news\n",
            "/news/news/2023/03/10/running_an_icelandic_airline_is_not_a_given/\n",
            "news\n",
            "/news/news/2023/03/09/plan_on_adding_80_new_police_jobs/\n",
            "news\n",
            "/news/news/2023/03/09/could_terminate_work_contract_of_a_nurse_who_denied/\n",
            "news\n",
            "/news/news/2023/03/08/musk_apologizes_after_the_twittering_feud/\n",
            "news\n",
            "/news/eat_and_drink/2018/09/17/new_mexican_restaurant_opens_in_west_reykjavik/\n",
            "news\n",
            "/news/eat_and_drink/2018/09/10/a_touch_of_london_in_reykjavik_afternoon_tea_at_apo/\n",
            "news\n",
            "/news/eat_and_drink/2018/09/07/hlemmur_square_presents_actor_throstur_leo_gunnarss/\n",
            "news\n",
            "/news/eat_and_drink/2018/09/04/1_250_guests_per_day_at_the_new_grandi_food_hall_in/\n",
            "news\n",
            "/news/eat_and_drink/2018/08/08/gourmet_dining_in_grundarfjordur_west_iceland/\n",
            "news\n",
            "/news/eat_and_drink/2018/08/03/chef_victoria_eliasdottir_and_artist_olafur_eliasso/\n",
            "news\n",
            "/news/eat_and_drink/2018/06/21/a_new_restaurant_opens_at_nautholsvik_geothermal_be/\n",
            "news\n",
            "/news/eat_and_drink/2018/06/13/books_taste_of_iceland_chosen_best_in_the_world/\n",
            "news\n",
            "/news/eat_and_drink/2018/06/13/grandi_matholl_fjarhusid/\n",
            "news\n",
            "/news/eat_and_drink/2018/06/13/japanese_couple_get_engaged_at_blue_lagoon_and_offe/\n",
            "news\n",
            "/news/politics_and_society/2022/03/08/refugees_invited_to_stay_at_justice_minister_s_hous/\n",
            "news\n",
            "/news/politics_and_society/2022/03/08/iceland_on_a_list_of_unfriendly_countries/\n",
            "news\n",
            "/news/politics_and_society/2022/03/07/icelanders_advised_not_to_fight_in_ukraine/\n",
            "news\n",
            "/news/politics_and_society/2022/03/07/should_permanent_presence_of_nato_troops_be_conside/\n",
            "news\n",
            "/news/politics_and_society/2022/03/04/icelanders_experience_fear_due_to_war_in_ukraine/\n",
            "news\n",
            "/news/politics_and_society/2022/03/04/ukrainian_refugees_to_be_granted_joint_protection/\n",
            "news\n",
            "/news/politics_and_society/2022/03/03/preparations_underway_to_receive_refugees_from_ukra/\n",
            "news\n",
            "/news/politics_and_society/2022/03/01/iceland_charters_freight_aircraft_for_transporting_/\n",
            "news\n",
            "/news/politics_and_society/2022/03/01/ready_to_receive_refugees_from_ukraine/\n",
            "news\n",
            "/news/politics_and_society/2022/02/28/icelandic_airspace_closed_to_russian_air_traffic/\n",
            "news\n",
            "/news/culture_and_living/2021/10/22/beer_festival_among_tropical_animals_this_weekend/\n",
            "news\n",
            "/news/culture_and_living/2021/10/21/proof_of_viking_presence_in_north_america_in_1021/\n",
            "news\n",
            "/news/culture_and_living/2021/10/20/good_outlook_for_christmas_concert_season/\n",
            "news\n",
            "/news/culture_and_living/2021/10/17/award_winning_photos_of_flight/\n",
            "news\n",
            "/news/culture_and_living/2021/10/15/lazytown_experience_park_planned_in_borgarnes/\n",
            "news\n",
            "/news/culture_and_living/2021/10/09/imagine_peace_tower_to_be_lit_tonight/\n",
            "news\n",
            "/news/culture_and_living/2021/09/30/riff_opens_today/\n",
            "news\n",
            "/news/culture_and_living/2021/09/23/icelandic_education_minister_asks_apple_for_help/\n",
            "news\n",
            "/news/culture_and_living/2021/09/18/harry_potter_stars_happy_with_iceland_visit/\n",
            "news\n",
            "/news/culture_and_living/2021/09/12/sounds_of_ocean_65_words_for_sea_and_warning/\n",
            "news\n",
            "/news/eat_and_drink/2018/04/05/best_places_for_a_cocktail_in_reykjavik/\n",
            "news\n",
            "/news/eat_and_drink/2018/03/27/eleven_new_restaurants_for_the_hip_grandi_harbour_d/\n",
            "news\n",
            "/news/eat_and_drink/2018/03/20/two_icelanders_compete_in_nordic_chef_of_the_year/\n",
            "news\n",
            "/news/eat_and_drink/2018/03/17/hamburger_haven_to_open_next_to_west_reykjavik_swim/\n",
            "news\n",
            "/news/eat_and_drink/2018/03/08/video_a_look_inside_reykjavik_s_first_cat_cafe/\n",
            "news\n",
            "/news/eat_and_drink/2018/02/07/champagne_tasting_at_hlemmur_food_hall_for_valentin/\n",
            "news\n",
            "/news/eat_and_drink/2018/02/03/forager_s_club_dinner_at_reykjavik_s_nostra_on_sund/\n",
            "news\n",
            "/news/eat_and_drink/2018/01/25/a_new_french_coffee_and_cookie_shop_on_hverfisgata/\n",
            "news\n",
            "/news/eat_and_drink/2018/01/24/almost_half_of_icelanders_eat_lamb_once_per_week/\n",
            "news\n",
            "/news/eat_and_drink/2018/01/24/slippurinn_restaurant_and_the_new_wave_of_cooking_c/\n",
            "news\n",
            "/news/nature_and_travel/2022/08/02/nine_post_earthquakes_bigger_than_3m/\n",
            "news\n",
            "/news/nature_and_travel/2022/08/02/4_7m_earthquake_at_11_31_pm/\n",
            "news\n",
            "/news/nature_and_travel/2022/08/01/over_ten_thousand_earthquakes_detected_over_the_wee/\n",
            "news\n",
            "/news/nature_and_travel/2022/07/31/gordon_ramsey_fishing_in_iceland/\n",
            "news\n",
            "/news/nature_and_travel/2022/07/30/reykjanes_peninsula_on_alert_because_of_a_series_of/\n",
            "news\n",
            "/news/nature_and_travel/2022/07/26/yellow_warning_and_lots_of_rain_and_wind_especially/\n",
            "news\n",
            "/news/nature_and_travel/2022/07/25/ella_stiller_daughter_of_ben_stiller_really_enjoyed/\n",
            "news\n",
            "/news/nature_and_travel/2022/07/25/jumped_into_the_river_to_safe_his_son/\n",
            "news\n",
            "/news/nature_and_travel/2022/07/16/is_this_the_coolest_place_to_stay_in_iceland/\n",
            "news\n",
            "/news/nature_and_travel/2022/07/15/strong_dollar_is_enciting_interest_in_iceland_in_th/\n",
            "news\n",
            "/news/nature_and_travel/2022/09/17/ran_half_across_iceland_in_ten_days/\n",
            "news\n",
            "/news/nature_and_travel/2022/09/08/hrisey_in_eyjafjordur_gets_great_reviews_in_the_gua/\n",
            "news\n",
            "/news/nature_and_travel/2022/09/07/a_man_fly_fishing_in_east_ranga_got_an_electrical_s/\n",
            "news\n",
            "/news/nature_and_travel/2022/09/06/rising_sea_levels_a_pending_problem/\n",
            "news\n",
            "/news/nature_and_travel/2022/09/01/never_more_overnight_stays_than_this_july/\n",
            "news\n",
            "/news/nature_and_travel/2022/08/29/the_meradalir_eruption_is_over/\n",
            "news\n",
            "/news/nature_and_travel/2022/08/29/a_polar_bear_turned_out_to_be_a_gray_seal/\n",
            "news\n",
            "/news/nature_and_travel/2022/08/28/svartaborg_luxury_villas_get_rave_reviews/\n",
            "news\n",
            "/news/nature_and_travel/2022/08/22/no_harmonic_murmurs_but_flowing_lava_was_detected_l/\n",
            "news\n",
            "/news/nature_and_travel/2022/08/18/still_taking_children_to_the_volcano/\n",
            "news\n",
            "{'https://icelandmonitor.mbl.is/news/gmnc/politics_and_society/?p=2611890&id=newslist&count=4&group_id=-1', 'https://icelandmonitor.mbl.is/news/gmnc/eat_and_drink/?p=2196937&id=newslist&count=4&group_id=-1', 'https://icelandmonitor.mbl.is/news/gmnc/eat_and_drink/?p=2322783&id=newslist&count=4&group_id=-1', 'https://icelandmonitor.mbl.is/news/gmnc/eat_and_drink/?p=2400685&id=newslist&count=4&group_id=-1', 'https://icelandmonitor.mbl.is/news/gmnc/politics_and_society/?p=2597308&id=newslist&count=4&group_id=-1', 'https://icelandmonitor.mbl.is/news/gmnc/culture_and_living/?p=2620964&id=newslist&count=4&group_id=-1', 'https://icelandmonitor.mbl.is/news/gmnc/culture_and_living/?p=2585676&id=newslist&count=4&group_id=-1', 'https://icelandmonitor.mbl.is/news/gmnc/culture_and_living/?p=2576460&id=newslist&count=4&group_id=-1', 'https://icelandmonitor.mbl.is/news/gmnc/culture_and_living/?p=2565629&id=newslist&count=4&group_id=-1', 'https://icelandmonitor.mbl.is/news/gmnc/nature_and_travel/?p=2587657&id=newslist&count=4&group_id=-1', 'https://icelandmonitor.mbl.is/news/gmnc/nature_and_travel/?p=2580318&id=newslist&count=4&group_id=-1', 'https://icelandmonitor.mbl.is/news/gmnc/culture_and_living/?p=2612766&id=newslist&count=4&group_id=-1', 'https://icelandmonitor.mbl.is/news/gmnc/politics_and_society/?p=2619612&id=newslist&count=4&group_id=-1', 'https://icelandmonitor.mbl.is/news/gmnc/politics_and_society/?p=2614271&id=newslist&count=4&group_id=-1', 'https://icelandmonitor.mbl.is/news/gmnc/eat_and_drink/?p=2588185&id=newslist&count=4&group_id=-1', 'https://icelandmonitor.mbl.is/news/gmnc/culture_and_living/?p=2604047&id=newslist&count=4&group_id=-1', 'https://icelandmonitor.mbl.is/news/gmnc/eat_and_drink/?p=2302680&id=newslist&count=4&group_id=-1', 'https://icelandmonitor.mbl.is/news/gmnc/nature_and_travel/?p=2596184&id=newslist&count=4&group_id=-1', 'https://icelandmonitor.mbl.is/news/gmnc/nature_and_travel/?p=2572791&id=newslist&count=4&group_id=-1', 'https://icelandmonitor.mbl.is/news/gmnc/nature_and_travel/?p=2562526&id=newslist&count=4&group_id=-1', 'https://icelandmonitor.mbl.is/news/gmnc/culture_and_living/?p=2594116&id=newslist&count=4&group_id=-1', 'https://icelandmonitor.mbl.is/news/gmnc/eat_and_drink/?p=2175892&id=newslist&count=4&group_id=-1', 'https://icelandmonitor.mbl.is/news/gmnc/politics_and_society/?p=2590572&id=newslist&count=4&group_id=-1', 'https://icelandmonitor.mbl.is/news/gmnc/nature_and_travel/?p=2604458&id=newslist&count=4&group_id=-1', 'https://icelandmonitor.mbl.is/news/gmnc/nature_and_travel/?p=2566360&id=newslist&count=4&group_id=-1', 'https://icelandmonitor.mbl.is/news/gmnc/eat_and_drink/?p=2217660&id=newslist&count=4&group_id=-1', 'https://icelandmonitor.mbl.is/news/gmnc/culture_and_living/?p=2555010&id=newslist&count=4&group_id=-1', 'https://icelandmonitor.mbl.is/news/gmnc/politics_and_society/?p=2568184&id=newslist&count=4&group_id=-1', 'https://icelandmonitor.mbl.is/news/gmnc/politics_and_society/?p=2582123&id=newslist&count=4&group_id=-1', 'https://icelandmonitor.mbl.is/news/gmnc/politics_and_society/?p=2607057&id=newslist&count=4&group_id=-1', 'https://icelandmonitor.mbl.is/news/gmnl/?p=2644482&id=newslist&count=4&group_id=-1', 'https://icelandmonitor.mbl.is/news/gmnc/eat_and_drink/?p=2287339&id=newslist&count=4&group_id=-1', 'https://icelandmonitor.mbl.is/news/gmnc/politics_and_society/?p=2571262&id=newslist&count=4&group_id=-1', 'https://icelandmonitor.mbl.is/news/gmnc/culture_and_living/?p=2541533&id=newslist&count=4&group_id=-1', 'https://icelandmonitor.mbl.is/news/gmnc/eat_and_drink/?p=2250733&id=newslist&count=4&group_id=-1', 'https://icelandmonitor.mbl.is/news/gmnc/nature_and_travel/?p=2602447&id=newslist&count=4&group_id=-1', 'https://icelandmonitor.mbl.is/news/gmnc/nature_and_travel/?p=2613924&id=newslist&count=4&group_id=-1'}\n",
            "{'eat_and_drink': ['2588185', '2400685', '2322783', '2302680', '2287339', '2250733', '2217660', '2196937', '2175892', '2161085'], 'politics_and_society': ['2619612', '2614271', '2611890', '2607057', '2597308', '2590572', '2582123', '2571262', '2568184', '2540730'], 'nature_and_travel': ['2613924', '2604458', '2602447', '2596184', '2587657', '2580318', '2572791', '2566360', '2562526', '2556154'], 'latest': ['2646401', '2642798', '2642798', '2642798', '2642798', '2642798', '2642798', '2642798', '2642798', '2642798'], 'culture_and_living': ['2620964', '2612766', '2604047', '2594116', '2585676', '2576460', '2565629', '2555010', '2541533', '2529660']}\n"
          ]
        }
      ]
    },
    {
      "cell_type": "code",
      "source": [
        "df = pd.DataFrame(columns=[\"Source\", \"Headline\", \"Datetime\", \"Body\", 'Category'])\n",
        "\n",
        "i = 0\n",
        "for l in articles:\n",
        "  current_read = urllib.request.urlopen(l).read()\n",
        "  current_soup = BeautifulSoup(current_read, \"lxml\")\n",
        "\n",
        "  headline = (current_soup.find_all(\"h1\")[0].text).strip()\n",
        "  dateline = current_soup.find_all(\"div\", {\"class\": \"dateline\"})\n",
        "  date = (((dateline[0].text).split(\"|\")[2]).strip()).split(\" \")[1:]\n",
        "  hour = (((dateline[0].text).split(\"|\")[3]).strip()).split(\" \")[0:1]\n",
        "  category = dateline[0].text.split('|')[0].strip()\n",
        "\n",
        "  body = \"\"\n",
        "  for s in current_soup.find_all(\"div\", {\"class\": \"maintext\"}):\n",
        "    body = body + s.text\n",
        "\n",
        "  body = body.replace(\"\\n\", \" \")\n",
        "  body = ' '.join(body.split())\n",
        "  current_dict = {\"Source\": \"Iceland Monitor\", \"Headline\": headline, \"Datetime\": date+hour, \"Body\": body, 'Category': category}\n",
        "  df = df.append(current_dict, ignore_index=True)\n",
        "  i+=1\n",
        "  perc = i*100/len(articles)\n",
        "  print(f'\\n \\tWe have already have {str(round(perc,2))}% of the data!! link: {l}\\n')\n"
      ],
      "metadata": {
        "colab": {
          "base_uri": "https://localhost:8080/"
        },
        "id": "6JPUo4FHF_b_",
        "outputId": "f7e72b32-d188-41c4-85b1-91968108fd77"
      },
      "execution_count": null,
      "outputs": [
        {
          "output_type": "stream",
          "name": "stderr",
          "text": [
            "<ipython-input-24-20d67951d720>:21: FutureWarning: The frame.append method is deprecated and will be removed from pandas in a future version. Use pandas.concat instead.\n",
            "  df = df.append(current_dict, ignore_index=True)\n"
          ]
        },
        {
          "output_type": "stream",
          "name": "stdout",
          "text": [
            "\n",
            " \tWe have already have 0.22% of the data!! link: https://icelandmonitor.mbl.is/news/nature_and_travel/2022/10/06/a_triceratop_dinosaur_coming_to_iceland/\n",
            "\n"
          ]
        },
        {
          "output_type": "stream",
          "name": "stderr",
          "text": [
            "<ipython-input-24-20d67951d720>:21: FutureWarning: The frame.append method is deprecated and will be removed from pandas in a future version. Use pandas.concat instead.\n",
            "  df = df.append(current_dict, ignore_index=True)\n"
          ]
        },
        {
          "output_type": "stream",
          "name": "stdout",
          "text": [
            "\n",
            " \tWe have already have 0.45% of the data!! link: https://icelandmonitor.mbl.is/news/eat_and_drink/2018/11/19/first_lady_to_accompany_icelandic_national_culinary/\n",
            "\n"
          ]
        },
        {
          "output_type": "stream",
          "name": "stderr",
          "text": [
            "<ipython-input-24-20d67951d720>:21: FutureWarning: The frame.append method is deprecated and will be removed from pandas in a future version. Use pandas.concat instead.\n",
            "  df = df.append(current_dict, ignore_index=True)\n"
          ]
        },
        {
          "output_type": "stream",
          "name": "stdout",
          "text": [
            "\n",
            " \tWe have already have 0.67% of the data!! link: https://icelandmonitor.mbl.is/news/politics_and_society/2022/04/12/successful_landing_exercise_in_hvalfjordur_fjord_vi/\n",
            "\n"
          ]
        },
        {
          "output_type": "stream",
          "name": "stderr",
          "text": [
            "<ipython-input-24-20d67951d720>:21: FutureWarning: The frame.append method is deprecated and will be removed from pandas in a future version. Use pandas.concat instead.\n",
            "  df = df.append(current_dict, ignore_index=True)\n"
          ]
        },
        {
          "output_type": "stream",
          "name": "stdout",
          "text": [
            "\n",
            " \tWe have already have 0.9% of the data!! link: https://icelandmonitor.mbl.is/news/eat_and_drink/2022/06/29/heimkaup_starts_selling_wine_and_beer_with_same_day/\n",
            "\n"
          ]
        },
        {
          "output_type": "stream",
          "name": "stderr",
          "text": [
            "<ipython-input-24-20d67951d720>:21: FutureWarning: The frame.append method is deprecated and will be removed from pandas in a future version. Use pandas.concat instead.\n",
            "  df = df.append(current_dict, ignore_index=True)\n"
          ]
        },
        {
          "output_type": "stream",
          "name": "stdout",
          "text": [
            "\n",
            " \tWe have already have 1.12% of the data!! link: https://icelandmonitor.mbl.is/news/nature_and_travel/2022/01/21/sheep_eat_arctic_tern_eggs_and_chicks/\n",
            "\n"
          ]
        },
        {
          "output_type": "stream",
          "name": "stderr",
          "text": [
            "<ipython-input-24-20d67951d720>:21: FutureWarning: The frame.append method is deprecated and will be removed from pandas in a future version. Use pandas.concat instead.\n",
            "  df = df.append(current_dict, ignore_index=True)\n"
          ]
        },
        {
          "output_type": "stream",
          "name": "stdout",
          "text": [
            "\n",
            " \tWe have already have 1.35% of the data!! link: https://icelandmonitor.mbl.is/news/news/2023/03/27/propose_increased_taxes_and_spending_cuts/\n",
            "\n"
          ]
        },
        {
          "output_type": "stream",
          "name": "stderr",
          "text": [
            "<ipython-input-24-20d67951d720>:21: FutureWarning: The frame.append method is deprecated and will be removed from pandas in a future version. Use pandas.concat instead.\n",
            "  df = df.append(current_dict, ignore_index=True)\n"
          ]
        },
        {
          "output_type": "stream",
          "name": "stdout",
          "text": [
            "\n",
            " \tWe have already have 1.57% of the data!! link: https://icelandmonitor.mbl.is/news/politics_and_society/2022/03/04/ukrainian_refugees_to_be_granted_joint_protection/\n",
            "\n"
          ]
        },
        {
          "output_type": "stream",
          "name": "stderr",
          "text": [
            "<ipython-input-24-20d67951d720>:21: FutureWarning: The frame.append method is deprecated and will be removed from pandas in a future version. Use pandas.concat instead.\n",
            "  df = df.append(current_dict, ignore_index=True)\n"
          ]
        },
        {
          "output_type": "stream",
          "name": "stdout",
          "text": [
            "\n",
            " \tWe have already have 1.79% of the data!! link: https://icelandmonitor.mbl.is/news/news/2023/03/26/the_harbinger_of_spring_has_arrived_to_sing_away_th/\n",
            "\n"
          ]
        },
        {
          "output_type": "stream",
          "name": "stderr",
          "text": [
            "<ipython-input-24-20d67951d720>:21: FutureWarning: The frame.append method is deprecated and will be removed from pandas in a future version. Use pandas.concat instead.\n",
            "  df = df.append(current_dict, ignore_index=True)\n"
          ]
        },
        {
          "output_type": "stream",
          "name": "stdout",
          "text": [
            "\n",
            " \tWe have already have 2.02% of the data!! link: https://icelandmonitor.mbl.is/news/culture_and_living/2022/11/10/bjork_at_the_metaverse_virtual_music_festival_that_/\n",
            "\n"
          ]
        },
        {
          "output_type": "stream",
          "name": "stderr",
          "text": [
            "<ipython-input-24-20d67951d720>:21: FutureWarning: The frame.append method is deprecated and will be removed from pandas in a future version. Use pandas.concat instead.\n",
            "  df = df.append(current_dict, ignore_index=True)\n"
          ]
        },
        {
          "output_type": "stream",
          "name": "stdout",
          "text": [
            "\n",
            " \tWe have already have 2.24% of the data!! link: https://icelandmonitor.mbl.is/news/eat_and_drink/2018/10/30/sixty_types_of_icelandic_christmas_beers_on_the_mar/\n",
            "\n"
          ]
        },
        {
          "output_type": "stream",
          "name": "stderr",
          "text": [
            "<ipython-input-24-20d67951d720>:21: FutureWarning: The frame.append method is deprecated and will be removed from pandas in a future version. Use pandas.concat instead.\n",
            "  df = df.append(current_dict, ignore_index=True)\n"
          ]
        },
        {
          "output_type": "stream",
          "name": "stdout",
          "text": [
            "\n",
            " \tWe have already have 2.47% of the data!! link: https://icelandmonitor.mbl.is/news/culture_and_living/2022/09/03/sold_out_too_fast_for_mom_to_get_her_garlic/\n",
            "\n"
          ]
        },
        {
          "output_type": "stream",
          "name": "stderr",
          "text": [
            "<ipython-input-24-20d67951d720>:21: FutureWarning: The frame.append method is deprecated and will be removed from pandas in a future version. Use pandas.concat instead.\n",
            "  df = df.append(current_dict, ignore_index=True)\n"
          ]
        },
        {
          "output_type": "stream",
          "name": "stdout",
          "text": [
            "\n",
            " \tWe have already have 2.69% of the data!! link: https://icelandmonitor.mbl.is/news/culture_and_living/2022/07/17/writing_the_script_and_the_characters_was_like_bein/\n",
            "\n"
          ]
        },
        {
          "output_type": "stream",
          "name": "stderr",
          "text": [
            "<ipython-input-24-20d67951d720>:21: FutureWarning: The frame.append method is deprecated and will be removed from pandas in a future version. Use pandas.concat instead.\n",
            "  df = df.append(current_dict, ignore_index=True)\n"
          ]
        },
        {
          "output_type": "stream",
          "name": "stdout",
          "text": [
            "\n",
            " \tWe have already have 2.91% of the data!! link: https://icelandmonitor.mbl.is/news/eat_and_drink/2018/10/17/the_best_happy_hours_in_reykjavik/\n",
            "\n"
          ]
        },
        {
          "output_type": "stream",
          "name": "stderr",
          "text": [
            "<ipython-input-24-20d67951d720>:21: FutureWarning: The frame.append method is deprecated and will be removed from pandas in a future version. Use pandas.concat instead.\n",
            "  df = df.append(current_dict, ignore_index=True)\n"
          ]
        },
        {
          "output_type": "stream",
          "name": "stdout",
          "text": [
            "\n",
            " \tWe have already have 3.14% of the data!! link: https://icelandmonitor.mbl.is/news/politics_and_society/2022/05/11/the_prime_minister_of_iceland_assisted_an_ewe_at_la/\n",
            "\n"
          ]
        },
        {
          "output_type": "stream",
          "name": "stderr",
          "text": [
            "<ipython-input-24-20d67951d720>:21: FutureWarning: The frame.append method is deprecated and will be removed from pandas in a future version. Use pandas.concat instead.\n",
            "  df = df.append(current_dict, ignore_index=True)\n"
          ]
        },
        {
          "output_type": "stream",
          "name": "stdout",
          "text": [
            "\n",
            " \tWe have already have 3.36% of the data!! link: https://icelandmonitor.mbl.is/news/culture_and_living/2022/03/14/three_sisters_to_represent_iceland_at_eurovision/\n",
            "\n"
          ]
        },
        {
          "output_type": "stream",
          "name": "stderr",
          "text": [
            "<ipython-input-24-20d67951d720>:21: FutureWarning: The frame.append method is deprecated and will be removed from pandas in a future version. Use pandas.concat instead.\n",
            "  df = df.append(current_dict, ignore_index=True)\n"
          ]
        },
        {
          "output_type": "stream",
          "name": "stdout",
          "text": [
            "\n",
            " \tWe have already have 3.59% of the data!! link: https://icelandmonitor.mbl.is/news/nature_and_travel/2022/12/11/reykjavik_the_safest_city_for_tourists/\n",
            "\n"
          ]
        },
        {
          "output_type": "stream",
          "name": "stderr",
          "text": [
            "<ipython-input-24-20d67951d720>:21: FutureWarning: The frame.append method is deprecated and will be removed from pandas in a future version. Use pandas.concat instead.\n",
            "  df = df.append(current_dict, ignore_index=True)\n"
          ]
        },
        {
          "output_type": "stream",
          "name": "stdout",
          "text": [
            "\n",
            " \tWe have already have 3.81% of the data!! link: https://icelandmonitor.mbl.is/news/nature_and_travel/2022/02/25/severe_weather_in_iceland_today/\n",
            "\n"
          ]
        },
        {
          "output_type": "stream",
          "name": "stderr",
          "text": [
            "<ipython-input-24-20d67951d720>:21: FutureWarning: The frame.append method is deprecated and will be removed from pandas in a future version. Use pandas.concat instead.\n",
            "  df = df.append(current_dict, ignore_index=True)\n"
          ]
        },
        {
          "output_type": "stream",
          "name": "stdout",
          "text": [
            "\n",
            " \tWe have already have 4.04% of the data!! link: https://icelandmonitor.mbl.is/news/eat_and_drink/2022/01/22/will_alcohol_be_served_at_akureyri_s_ski_resort/\n",
            "\n"
          ]
        },
        {
          "output_type": "stream",
          "name": "stderr",
          "text": [
            "<ipython-input-24-20d67951d720>:21: FutureWarning: The frame.append method is deprecated and will be removed from pandas in a future version. Use pandas.concat instead.\n",
            "  df = df.append(current_dict, ignore_index=True)\n"
          ]
        },
        {
          "output_type": "stream",
          "name": "stdout",
          "text": [
            "\n",
            " \tWe have already have 4.26% of the data!! link: https://icelandmonitor.mbl.is/news/nature_and_travel/2022/10/20/kirkjufell_is_the_new_reynisfjara/\n",
            "\n"
          ]
        },
        {
          "output_type": "stream",
          "name": "stderr",
          "text": [
            "<ipython-input-24-20d67951d720>:21: FutureWarning: The frame.append method is deprecated and will be removed from pandas in a future version. Use pandas.concat instead.\n",
            "  df = df.append(current_dict, ignore_index=True)\n"
          ]
        },
        {
          "output_type": "stream",
          "name": "stdout",
          "text": [
            "\n",
            " \tWe have already have 4.48% of the data!! link: https://icelandmonitor.mbl.is/news/nature_and_travel/2022/07/31/gordon_ramsey_fishing_in_iceland/\n",
            "\n"
          ]
        },
        {
          "output_type": "stream",
          "name": "stderr",
          "text": [
            "<ipython-input-24-20d67951d720>:21: FutureWarning: The frame.append method is deprecated and will be removed from pandas in a future version. Use pandas.concat instead.\n",
            "  df = df.append(current_dict, ignore_index=True)\n"
          ]
        },
        {
          "output_type": "stream",
          "name": "stdout",
          "text": [
            "\n",
            " \tWe have already have 4.71% of the data!! link: https://icelandmonitor.mbl.is/news/nature_and_travel/2022/02/07/preschools_to_reopen_at_1_pm/\n",
            "\n"
          ]
        },
        {
          "output_type": "stream",
          "name": "stderr",
          "text": [
            "<ipython-input-24-20d67951d720>:21: FutureWarning: The frame.append method is deprecated and will be removed from pandas in a future version. Use pandas.concat instead.\n",
            "  df = df.append(current_dict, ignore_index=True)\n"
          ]
        },
        {
          "output_type": "stream",
          "name": "stdout",
          "text": [
            "\n",
            " \tWe have already have 4.93% of the data!! link: https://icelandmonitor.mbl.is/news/nature_and_travel/2022/08/10/lava_could_flow_towards_a_main_road/\n",
            "\n"
          ]
        },
        {
          "output_type": "stream",
          "name": "stderr",
          "text": [
            "<ipython-input-24-20d67951d720>:21: FutureWarning: The frame.append method is deprecated and will be removed from pandas in a future version. Use pandas.concat instead.\n",
            "  df = df.append(current_dict, ignore_index=True)\n"
          ]
        },
        {
          "output_type": "stream",
          "name": "stdout",
          "text": [
            "\n",
            " \tWe have already have 5.16% of the data!! link: https://icelandmonitor.mbl.is/news/nature_and_travel/2022/08/08/the_eruption_site_at_meradalir_opens_tomorrow_tuesd/\n",
            "\n"
          ]
        },
        {
          "output_type": "stream",
          "name": "stderr",
          "text": [
            "<ipython-input-24-20d67951d720>:21: FutureWarning: The frame.append method is deprecated and will be removed from pandas in a future version. Use pandas.concat instead.\n",
            "  df = df.append(current_dict, ignore_index=True)\n"
          ]
        },
        {
          "output_type": "stream",
          "name": "stdout",
          "text": [
            "\n",
            " \tWe have already have 5.38% of the data!! link: https://icelandmonitor.mbl.is/news/politics_and_society/2022/06/30/the_first_phase_of_city_line_pushed_back_two_years/\n",
            "\n"
          ]
        },
        {
          "output_type": "stream",
          "name": "stderr",
          "text": [
            "<ipython-input-24-20d67951d720>:21: FutureWarning: The frame.append method is deprecated and will be removed from pandas in a future version. Use pandas.concat instead.\n",
            "  df = df.append(current_dict, ignore_index=True)\n"
          ]
        },
        {
          "output_type": "stream",
          "name": "stdout",
          "text": [
            "\n",
            " \tWe have already have 5.61% of the data!! link: https://icelandmonitor.mbl.is/news/politics_and_society/2022/06/01/the_earthquakes_are_causing_uncomfortable_uncertain/\n",
            "\n"
          ]
        },
        {
          "output_type": "stream",
          "name": "stderr",
          "text": [
            "<ipython-input-24-20d67951d720>:21: FutureWarning: The frame.append method is deprecated and will be removed from pandas in a future version. Use pandas.concat instead.\n",
            "  df = df.append(current_dict, ignore_index=True)\n"
          ]
        },
        {
          "output_type": "stream",
          "name": "stdout",
          "text": [
            "\n",
            " \tWe have already have 5.83% of the data!! link: https://icelandmonitor.mbl.is/news/nature_and_travel/2022/05/20/3_8_m_earthquake_at_18_33_pm_today_at_the_tip_of_th/\n",
            "\n"
          ]
        },
        {
          "output_type": "stream",
          "name": "stderr",
          "text": [
            "<ipython-input-24-20d67951d720>:21: FutureWarning: The frame.append method is deprecated and will be removed from pandas in a future version. Use pandas.concat instead.\n",
            "  df = df.append(current_dict, ignore_index=True)\n"
          ]
        },
        {
          "output_type": "stream",
          "name": "stdout",
          "text": [
            "\n",
            " \tWe have already have 6.05% of the data!! link: https://icelandmonitor.mbl.is/news/eat_and_drink/2018/11/22/thanksgiving_meal_in_reykjavik_for_800_people/\n",
            "\n"
          ]
        },
        {
          "output_type": "stream",
          "name": "stderr",
          "text": [
            "<ipython-input-24-20d67951d720>:21: FutureWarning: The frame.append method is deprecated and will be removed from pandas in a future version. Use pandas.concat instead.\n",
            "  df = df.append(current_dict, ignore_index=True)\n"
          ]
        },
        {
          "output_type": "stream",
          "name": "stdout",
          "text": [
            "\n",
            " \tWe have already have 6.28% of the data!! link: https://icelandmonitor.mbl.is/news/nature_and_travel/2022/10/14/the_glacial_flood_probably_reached_its_maximum_last/\n",
            "\n"
          ]
        },
        {
          "output_type": "stream",
          "name": "stderr",
          "text": [
            "<ipython-input-24-20d67951d720>:21: FutureWarning: The frame.append method is deprecated and will be removed from pandas in a future version. Use pandas.concat instead.\n",
            "  df = df.append(current_dict, ignore_index=True)\n"
          ]
        },
        {
          "output_type": "stream",
          "name": "stdout",
          "text": [
            "\n",
            " \tWe have already have 6.5% of the data!! link: https://icelandmonitor.mbl.is/news/politics_and_society/2022/08/25/yet_another_knife_in_the_back/\n",
            "\n"
          ]
        },
        {
          "output_type": "stream",
          "name": "stderr",
          "text": [
            "<ipython-input-24-20d67951d720>:21: FutureWarning: The frame.append method is deprecated and will be removed from pandas in a future version. Use pandas.concat instead.\n",
            "  df = df.append(current_dict, ignore_index=True)\n"
          ]
        },
        {
          "output_type": "stream",
          "name": "stdout",
          "text": [
            "\n",
            " \tWe have already have 6.73% of the data!! link: https://icelandmonitor.mbl.is/news/politics_and_society/2022/09/14/two_billion_isk_for_a_new_university_cooperation_fu/\n",
            "\n"
          ]
        },
        {
          "output_type": "stream",
          "name": "stderr",
          "text": [
            "<ipython-input-24-20d67951d720>:21: FutureWarning: The frame.append method is deprecated and will be removed from pandas in a future version. Use pandas.concat instead.\n",
            "  df = df.append(current_dict, ignore_index=True)\n"
          ]
        },
        {
          "output_type": "stream",
          "name": "stdout",
          "text": [
            "\n",
            " \tWe have already have 6.95% of the data!! link: https://icelandmonitor.mbl.is/news/nature_and_travel/2022/05/08/much_more_fun_to_travel_with_kids/\n",
            "\n"
          ]
        },
        {
          "output_type": "stream",
          "name": "stderr",
          "text": [
            "<ipython-input-24-20d67951d720>:21: FutureWarning: The frame.append method is deprecated and will be removed from pandas in a future version. Use pandas.concat instead.\n",
            "  df = df.append(current_dict, ignore_index=True)\n"
          ]
        },
        {
          "output_type": "stream",
          "name": "stdout",
          "text": [
            "\n",
            " \tWe have already have 7.17% of the data!! link: https://icelandmonitor.mbl.is/news/nature_and_travel/2022/01/21/severe_gale_or_storm_forecast_for_most_of_iceland/\n",
            "\n"
          ]
        },
        {
          "output_type": "stream",
          "name": "stderr",
          "text": [
            "<ipython-input-24-20d67951d720>:21: FutureWarning: The frame.append method is deprecated and will be removed from pandas in a future version. Use pandas.concat instead.\n",
            "  df = df.append(current_dict, ignore_index=True)\n"
          ]
        },
        {
          "output_type": "stream",
          "name": "stdout",
          "text": [
            "\n",
            " \tWe have already have 7.4% of the data!! link: https://icelandmonitor.mbl.is/news/eat_and_drink/2022/05/31/the_first_poke_restaurant_in_iceland/\n",
            "\n"
          ]
        },
        {
          "output_type": "stream",
          "name": "stderr",
          "text": [
            "<ipython-input-24-20d67951d720>:21: FutureWarning: The frame.append method is deprecated and will be removed from pandas in a future version. Use pandas.concat instead.\n",
            "  df = df.append(current_dict, ignore_index=True)\n"
          ]
        },
        {
          "output_type": "stream",
          "name": "stdout",
          "text": [
            "\n",
            " \tWe have already have 7.62% of the data!! link: https://icelandmonitor.mbl.is/news/eat_and_drink/2022/09/18/i_m_in_love_with_your_country/\n",
            "\n"
          ]
        },
        {
          "output_type": "stream",
          "name": "stderr",
          "text": [
            "<ipython-input-24-20d67951d720>:21: FutureWarning: The frame.append method is deprecated and will be removed from pandas in a future version. Use pandas.concat instead.\n",
            "  df = df.append(current_dict, ignore_index=True)\n"
          ]
        },
        {
          "output_type": "stream",
          "name": "stdout",
          "text": [
            "\n",
            " \tWe have already have 7.85% of the data!! link: https://icelandmonitor.mbl.is/news/politics_and_society/2021/12/01/2022_budget_bill_improved_outlook/\n",
            "\n"
          ]
        },
        {
          "output_type": "stream",
          "name": "stderr",
          "text": [
            "<ipython-input-24-20d67951d720>:21: FutureWarning: The frame.append method is deprecated and will be removed from pandas in a future version. Use pandas.concat instead.\n",
            "  df = df.append(current_dict, ignore_index=True)\n"
          ]
        },
        {
          "output_type": "stream",
          "name": "stdout",
          "text": [
            "\n",
            " \tWe have already have 8.07% of the data!! link: https://icelandmonitor.mbl.is/news/politics_and_society/2022/07/22/inflation_has_reached_9_9_prosent/\n",
            "\n"
          ]
        },
        {
          "output_type": "stream",
          "name": "stderr",
          "text": [
            "<ipython-input-24-20d67951d720>:21: FutureWarning: The frame.append method is deprecated and will be removed from pandas in a future version. Use pandas.concat instead.\n",
            "  df = df.append(current_dict, ignore_index=True)\n"
          ]
        },
        {
          "output_type": "stream",
          "name": "stdout",
          "text": [
            "\n",
            " \tWe have already have 8.3% of the data!! link: https://icelandmonitor.mbl.is/news/eat_and_drink/2017/07/25/a_stunning_new_restaurant_opens_at_the_pearl_in_rey/\n",
            "\n"
          ]
        },
        {
          "output_type": "stream",
          "name": "stderr",
          "text": [
            "<ipython-input-24-20d67951d720>:21: FutureWarning: The frame.append method is deprecated and will be removed from pandas in a future version. Use pandas.concat instead.\n",
            "  df = df.append(current_dict, ignore_index=True)\n"
          ]
        },
        {
          "output_type": "stream",
          "name": "stdout",
          "text": [
            "\n",
            " \tWe have already have 8.52% of the data!! link: https://icelandmonitor.mbl.is/news/nature_and_travel/2022/09/01/never_more_overnight_stays_than_this_july/\n",
            "\n"
          ]
        },
        {
          "output_type": "stream",
          "name": "stderr",
          "text": [
            "<ipython-input-24-20d67951d720>:21: FutureWarning: The frame.append method is deprecated and will be removed from pandas in a future version. Use pandas.concat instead.\n",
            "  df = df.append(current_dict, ignore_index=True)\n"
          ]
        },
        {
          "output_type": "stream",
          "name": "stdout",
          "text": [
            "\n",
            " \tWe have already have 8.74% of the data!! link: https://icelandmonitor.mbl.is/news/culture_and_living/2022/11/04/first_day_sold_out_at_iceland_airwaves/\n",
            "\n"
          ]
        },
        {
          "output_type": "stream",
          "name": "stderr",
          "text": [
            "<ipython-input-24-20d67951d720>:21: FutureWarning: The frame.append method is deprecated and will be removed from pandas in a future version. Use pandas.concat instead.\n",
            "  df = df.append(current_dict, ignore_index=True)\n"
          ]
        },
        {
          "output_type": "stream",
          "name": "stdout",
          "text": [
            "\n",
            " \tWe have already have 8.97% of the data!! link: https://icelandmonitor.mbl.is/news/culture_and_living/2022/09/21/the_second_wind_turbine_in_thykkvabaer_was_taken_do/\n",
            "\n"
          ]
        },
        {
          "output_type": "stream",
          "name": "stderr",
          "text": [
            "<ipython-input-24-20d67951d720>:21: FutureWarning: The frame.append method is deprecated and will be removed from pandas in a future version. Use pandas.concat instead.\n",
            "  df = df.append(current_dict, ignore_index=True)\n"
          ]
        },
        {
          "output_type": "stream",
          "name": "stdout",
          "text": [
            "\n",
            " \tWe have already have 9.19% of the data!! link: https://icelandmonitor.mbl.is/news/culture_and_living/2022/09/06/walk_to_school_campaigns_starts_tomorrow_at_8_45_am/\n",
            "\n"
          ]
        },
        {
          "output_type": "stream",
          "name": "stderr",
          "text": [
            "<ipython-input-24-20d67951d720>:21: FutureWarning: The frame.append method is deprecated and will be removed from pandas in a future version. Use pandas.concat instead.\n",
            "  df = df.append(current_dict, ignore_index=True)\n"
          ]
        },
        {
          "output_type": "stream",
          "name": "stdout",
          "text": [
            "\n",
            " \tWe have already have 9.42% of the data!! link: https://icelandmonitor.mbl.is/news/culture_and_living/2022/10/26/lost_to_an_eight_year_old_boy/\n",
            "\n"
          ]
        },
        {
          "output_type": "stream",
          "name": "stderr",
          "text": [
            "<ipython-input-24-20d67951d720>:21: FutureWarning: The frame.append method is deprecated and will be removed from pandas in a future version. Use pandas.concat instead.\n",
            "  df = df.append(current_dict, ignore_index=True)\n"
          ]
        },
        {
          "output_type": "stream",
          "name": "stdout",
          "text": [
            "\n",
            " \tWe have already have 9.64% of the data!! link: https://icelandmonitor.mbl.is/news/news/2023/03/29/hopefully_a_sign_that_the_inflation_has_peaked/\n",
            "\n"
          ]
        },
        {
          "output_type": "stream",
          "name": "stderr",
          "text": [
            "<ipython-input-24-20d67951d720>:21: FutureWarning: The frame.append method is deprecated and will be removed from pandas in a future version. Use pandas.concat instead.\n",
            "  df = df.append(current_dict, ignore_index=True)\n"
          ]
        },
        {
          "output_type": "stream",
          "name": "stdout",
          "text": [
            "\n",
            " \tWe have already have 9.87% of the data!! link: https://icelandmonitor.mbl.is/news/culture_and_living/2022/09/19/knitting_warm_socks_for_the_soldiers_in_ukraine/\n",
            "\n"
          ]
        },
        {
          "output_type": "stream",
          "name": "stderr",
          "text": [
            "<ipython-input-24-20d67951d720>:21: FutureWarning: The frame.append method is deprecated and will be removed from pandas in a future version. Use pandas.concat instead.\n",
            "  df = df.append(current_dict, ignore_index=True)\n"
          ]
        },
        {
          "output_type": "stream",
          "name": "stdout",
          "text": [
            "\n",
            " \tWe have already have 10.09% of the data!! link: https://icelandmonitor.mbl.is/news/nature_and_travel/2022/02/22/numerous_international_flights_canceled/\n",
            "\n"
          ]
        },
        {
          "output_type": "stream",
          "name": "stderr",
          "text": [
            "<ipython-input-24-20d67951d720>:21: FutureWarning: The frame.append method is deprecated and will be removed from pandas in a future version. Use pandas.concat instead.\n",
            "  df = df.append(current_dict, ignore_index=True)\n"
          ]
        },
        {
          "output_type": "stream",
          "name": "stdout",
          "text": [
            "\n",
            " \tWe have already have 10.31% of the data!! link: https://icelandmonitor.mbl.is/news/politics_and_society/2022/11/24/immigrants_in_iceland_just_over_60_000/\n",
            "\n"
          ]
        },
        {
          "output_type": "stream",
          "name": "stderr",
          "text": [
            "<ipython-input-24-20d67951d720>:21: FutureWarning: The frame.append method is deprecated and will be removed from pandas in a future version. Use pandas.concat instead.\n",
            "  df = df.append(current_dict, ignore_index=True)\n"
          ]
        },
        {
          "output_type": "stream",
          "name": "stdout",
          "text": [
            "\n",
            " \tWe have already have 10.54% of the data!! link: https://icelandmonitor.mbl.is/news/nature_and_travel/2022/08/12/two_weeks_would_be_the_worst_scenario/\n",
            "\n"
          ]
        },
        {
          "output_type": "stream",
          "name": "stderr",
          "text": [
            "<ipython-input-24-20d67951d720>:21: FutureWarning: The frame.append method is deprecated and will be removed from pandas in a future version. Use pandas.concat instead.\n",
            "  df = df.append(current_dict, ignore_index=True)\n"
          ]
        },
        {
          "output_type": "stream",
          "name": "stdout",
          "text": [
            "\n",
            " \tWe have already have 10.76% of the data!! link: https://icelandmonitor.mbl.is/news/eat_and_drink/2019/12/28/hot_dogs_and_ice_cream_for_christmas/\n",
            "\n"
          ]
        },
        {
          "output_type": "stream",
          "name": "stderr",
          "text": [
            "<ipython-input-24-20d67951d720>:21: FutureWarning: The frame.append method is deprecated and will be removed from pandas in a future version. Use pandas.concat instead.\n",
            "  df = df.append(current_dict, ignore_index=True)\n"
          ]
        },
        {
          "output_type": "stream",
          "name": "stdout",
          "text": [
            "\n",
            " \tWe have already have 10.99% of the data!! link: https://icelandmonitor.mbl.is/news/nature_and_travel/2022/06/21/a_landslide_fell_in_the_westfjords/\n",
            "\n"
          ]
        },
        {
          "output_type": "stream",
          "name": "stderr",
          "text": [
            "<ipython-input-24-20d67951d720>:21: FutureWarning: The frame.append method is deprecated and will be removed from pandas in a future version. Use pandas.concat instead.\n",
            "  df = df.append(current_dict, ignore_index=True)\n"
          ]
        },
        {
          "output_type": "stream",
          "name": "stdout",
          "text": [
            "\n",
            " \tWe have already have 11.21% of the data!! link: https://icelandmonitor.mbl.is/news/culture_and_living/2021/11/19/the_bachelor_being_filmed_in_iceland/\n",
            "\n"
          ]
        },
        {
          "output_type": "stream",
          "name": "stderr",
          "text": [
            "<ipython-input-24-20d67951d720>:21: FutureWarning: The frame.append method is deprecated and will be removed from pandas in a future version. Use pandas.concat instead.\n",
            "  df = df.append(current_dict, ignore_index=True)\n"
          ]
        },
        {
          "output_type": "stream",
          "name": "stdout",
          "text": [
            "\n",
            " \tWe have already have 11.43% of the data!! link: https://icelandmonitor.mbl.is/news/news/2023/03/10/running_an_icelandic_airline_is_not_a_given/\n",
            "\n"
          ]
        },
        {
          "output_type": "stream",
          "name": "stderr",
          "text": [
            "<ipython-input-24-20d67951d720>:21: FutureWarning: The frame.append method is deprecated and will be removed from pandas in a future version. Use pandas.concat instead.\n",
            "  df = df.append(current_dict, ignore_index=True)\n"
          ]
        },
        {
          "output_type": "stream",
          "name": "stdout",
          "text": [
            "\n",
            " \tWe have already have 11.66% of the data!! link: https://icelandmonitor.mbl.is/news/eat_and_drink/2018/06/21/a_new_restaurant_opens_at_nautholsvik_geothermal_be/\n",
            "\n"
          ]
        },
        {
          "output_type": "stream",
          "name": "stderr",
          "text": [
            "<ipython-input-24-20d67951d720>:21: FutureWarning: The frame.append method is deprecated and will be removed from pandas in a future version. Use pandas.concat instead.\n",
            "  df = df.append(current_dict, ignore_index=True)\n"
          ]
        },
        {
          "output_type": "stream",
          "name": "stdout",
          "text": [
            "\n",
            " \tWe have already have 11.88% of the data!! link: https://icelandmonitor.mbl.is/news/politics_and_society/2022/03/23/real_estate_prices_in_iceland_rose_the_most/\n",
            "\n"
          ]
        },
        {
          "output_type": "stream",
          "name": "stderr",
          "text": [
            "<ipython-input-24-20d67951d720>:21: FutureWarning: The frame.append method is deprecated and will be removed from pandas in a future version. Use pandas.concat instead.\n",
            "  df = df.append(current_dict, ignore_index=True)\n"
          ]
        },
        {
          "output_type": "stream",
          "name": "stdout",
          "text": [
            "\n",
            " \tWe have already have 12.11% of the data!! link: https://icelandmonitor.mbl.is/news/eat_and_drink/2017/07/01/chinese_bao_bun_food_truck_in_reykjavik_city_centre/\n",
            "\n"
          ]
        },
        {
          "output_type": "stream",
          "name": "stderr",
          "text": [
            "<ipython-input-24-20d67951d720>:21: FutureWarning: The frame.append method is deprecated and will be removed from pandas in a future version. Use pandas.concat instead.\n",
            "  df = df.append(current_dict, ignore_index=True)\n"
          ]
        },
        {
          "output_type": "stream",
          "name": "stdout",
          "text": [
            "\n",
            " \tWe have already have 12.33% of the data!! link: https://icelandmonitor.mbl.is/news/nature_and_travel/2022/09/06/rising_sea_levels_a_pending_problem/\n",
            "\n"
          ]
        },
        {
          "output_type": "stream",
          "name": "stderr",
          "text": [
            "<ipython-input-24-20d67951d720>:21: FutureWarning: The frame.append method is deprecated and will be removed from pandas in a future version. Use pandas.concat instead.\n",
            "  df = df.append(current_dict, ignore_index=True)\n"
          ]
        },
        {
          "output_type": "stream",
          "name": "stdout",
          "text": [
            "\n",
            " \tWe have already have 12.56% of the data!! link: https://icelandmonitor.mbl.is/news/politics_and_society/2021/11/29/new_government_of_iceland_takes_office/\n",
            "\n"
          ]
        },
        {
          "output_type": "stream",
          "name": "stderr",
          "text": [
            "<ipython-input-24-20d67951d720>:21: FutureWarning: The frame.append method is deprecated and will be removed from pandas in a future version. Use pandas.concat instead.\n",
            "  df = df.append(current_dict, ignore_index=True)\n"
          ]
        },
        {
          "output_type": "stream",
          "name": "stdout",
          "text": [
            "\n",
            " \tWe have already have 12.78% of the data!! link: https://icelandmonitor.mbl.is/news/eat_and_drink/2022/09/10/great_atmosphere_at_matey_food_festival/\n",
            "\n"
          ]
        },
        {
          "output_type": "stream",
          "name": "stderr",
          "text": [
            "<ipython-input-24-20d67951d720>:21: FutureWarning: The frame.append method is deprecated and will be removed from pandas in a future version. Use pandas.concat instead.\n",
            "  df = df.append(current_dict, ignore_index=True)\n"
          ]
        },
        {
          "output_type": "stream",
          "name": "stdout",
          "text": [
            "\n",
            " \tWe have already have 13.0% of the data!! link: https://icelandmonitor.mbl.is/news/eat_and_drink/2019/06/03/icelandic_tap_water_free_luxury/\n",
            "\n"
          ]
        },
        {
          "output_type": "stream",
          "name": "stderr",
          "text": [
            "<ipython-input-24-20d67951d720>:21: FutureWarning: The frame.append method is deprecated and will be removed from pandas in a future version. Use pandas.concat instead.\n",
            "  df = df.append(current_dict, ignore_index=True)\n"
          ]
        },
        {
          "output_type": "stream",
          "name": "stdout",
          "text": [
            "\n",
            " \tWe have already have 13.23% of the data!! link: https://icelandmonitor.mbl.is/news/culture_and_living/2022/11/08/set_on_finding_a_cure_for_spinal_cord_injuries/\n",
            "\n"
          ]
        },
        {
          "output_type": "stream",
          "name": "stderr",
          "text": [
            "<ipython-input-24-20d67951d720>:21: FutureWarning: The frame.append method is deprecated and will be removed from pandas in a future version. Use pandas.concat instead.\n",
            "  df = df.append(current_dict, ignore_index=True)\n"
          ]
        },
        {
          "output_type": "stream",
          "name": "stdout",
          "text": [
            "\n",
            " \tWe have already have 13.45% of the data!! link: https://icelandmonitor.mbl.is/news/eat_and_drink/2017/09/19/review_a_mouth_watering_adventure_at_sumac/\n",
            "\n"
          ]
        },
        {
          "output_type": "stream",
          "name": "stderr",
          "text": [
            "<ipython-input-24-20d67951d720>:21: FutureWarning: The frame.append method is deprecated and will be removed from pandas in a future version. Use pandas.concat instead.\n",
            "  df = df.append(current_dict, ignore_index=True)\n"
          ]
        },
        {
          "output_type": "stream",
          "name": "stdout",
          "text": [
            "\n",
            " \tWe have already have 13.68% of the data!! link: https://icelandmonitor.mbl.is/news/politics_and_society/2022/11/03/reckless_increase_in_property_taxes/\n",
            "\n"
          ]
        },
        {
          "output_type": "stream",
          "name": "stderr",
          "text": [
            "<ipython-input-24-20d67951d720>:21: FutureWarning: The frame.append method is deprecated and will be removed from pandas in a future version. Use pandas.concat instead.\n",
            "  df = df.append(current_dict, ignore_index=True)\n"
          ]
        },
        {
          "output_type": "stream",
          "name": "stdout",
          "text": [
            "\n",
            " \tWe have already have 13.9% of the data!! link: https://icelandmonitor.mbl.is/news/nature_and_travel/2022/05/21/we_want_to_be_the_gateway_to_iceland/\n",
            "\n"
          ]
        },
        {
          "output_type": "stream",
          "name": "stderr",
          "text": [
            "<ipython-input-24-20d67951d720>:21: FutureWarning: The frame.append method is deprecated and will be removed from pandas in a future version. Use pandas.concat instead.\n",
            "  df = df.append(current_dict, ignore_index=True)\n"
          ]
        },
        {
          "output_type": "stream",
          "name": "stdout",
          "text": [
            "\n",
            " \tWe have already have 14.13% of the data!! link: https://icelandmonitor.mbl.is/news/culture_and_living/2023/01/02/the_new_year_s_eve_swim_sets_the_tone_for_the_year/\n",
            "\n"
          ]
        },
        {
          "output_type": "stream",
          "name": "stderr",
          "text": [
            "<ipython-input-24-20d67951d720>:21: FutureWarning: The frame.append method is deprecated and will be removed from pandas in a future version. Use pandas.concat instead.\n",
            "  df = df.append(current_dict, ignore_index=True)\n"
          ]
        },
        {
          "output_type": "stream",
          "name": "stdout",
          "text": [
            "\n",
            " \tWe have already have 14.35% of the data!! link: https://icelandmonitor.mbl.is/news/news/2023/03/26/jonasson_awarded_the_palle_rosenkrantz_literary_awa/\n",
            "\n"
          ]
        },
        {
          "output_type": "stream",
          "name": "stderr",
          "text": [
            "<ipython-input-24-20d67951d720>:21: FutureWarning: The frame.append method is deprecated and will be removed from pandas in a future version. Use pandas.concat instead.\n",
            "  df = df.append(current_dict, ignore_index=True)\n"
          ]
        },
        {
          "output_type": "stream",
          "name": "stdout",
          "text": [
            "\n",
            " \tWe have already have 14.57% of the data!! link: https://icelandmonitor.mbl.is/news/culture_and_living/2021/12/14/oldest_person_in_iceland_in_history/\n",
            "\n"
          ]
        },
        {
          "output_type": "stream",
          "name": "stderr",
          "text": [
            "<ipython-input-24-20d67951d720>:21: FutureWarning: The frame.append method is deprecated and will be removed from pandas in a future version. Use pandas.concat instead.\n",
            "  df = df.append(current_dict, ignore_index=True)\n"
          ]
        },
        {
          "output_type": "stream",
          "name": "stdout",
          "text": [
            "\n",
            " \tWe have already have 14.8% of the data!! link: https://icelandmonitor.mbl.is/news/politics_and_society/2022/11/15/the_use_of_fish_skin_in_iceland_attracts_attention_/\n",
            "\n"
          ]
        },
        {
          "output_type": "stream",
          "name": "stderr",
          "text": [
            "<ipython-input-24-20d67951d720>:21: FutureWarning: The frame.append method is deprecated and will be removed from pandas in a future version. Use pandas.concat instead.\n",
            "  df = df.append(current_dict, ignore_index=True)\n"
          ]
        },
        {
          "output_type": "stream",
          "name": "stdout",
          "text": [
            "\n",
            " \tWe have already have 15.02% of the data!! link: https://icelandmonitor.mbl.is/news/culture_and_living/2022/06/07/swimming_through_the_english_channel/\n",
            "\n"
          ]
        },
        {
          "output_type": "stream",
          "name": "stderr",
          "text": [
            "<ipython-input-24-20d67951d720>:21: FutureWarning: The frame.append method is deprecated and will be removed from pandas in a future version. Use pandas.concat instead.\n",
            "  df = df.append(current_dict, ignore_index=True)\n"
          ]
        },
        {
          "output_type": "stream",
          "name": "stdout",
          "text": [
            "\n",
            " \tWe have already have 15.25% of the data!! link: https://icelandmonitor.mbl.is/news/culture_and_living/2022/11/10/living_close_to_the_party_zone/\n",
            "\n"
          ]
        },
        {
          "output_type": "stream",
          "name": "stderr",
          "text": [
            "<ipython-input-24-20d67951d720>:21: FutureWarning: The frame.append method is deprecated and will be removed from pandas in a future version. Use pandas.concat instead.\n",
            "  df = df.append(current_dict, ignore_index=True)\n"
          ]
        },
        {
          "output_type": "stream",
          "name": "stdout",
          "text": [
            "\n",
            " \tWe have already have 15.47% of the data!! link: https://icelandmonitor.mbl.is/news/eat_and_drink/2021/10/07/flying_food_prize_for_drone_delivery/\n",
            "\n"
          ]
        },
        {
          "output_type": "stream",
          "name": "stderr",
          "text": [
            "<ipython-input-24-20d67951d720>:21: FutureWarning: The frame.append method is deprecated and will be removed from pandas in a future version. Use pandas.concat instead.\n",
            "  df = df.append(current_dict, ignore_index=True)\n"
          ]
        },
        {
          "output_type": "stream",
          "name": "stdout",
          "text": [
            "\n",
            " \tWe have already have 15.7% of the data!! link: https://icelandmonitor.mbl.is/news/eat_and_drink/2021/07/09/gordon_ramsay_in_iceland/\n",
            "\n"
          ]
        },
        {
          "output_type": "stream",
          "name": "stderr",
          "text": [
            "<ipython-input-24-20d67951d720>:21: FutureWarning: The frame.append method is deprecated and will be removed from pandas in a future version. Use pandas.concat instead.\n",
            "  df = df.append(current_dict, ignore_index=True)\n"
          ]
        },
        {
          "output_type": "stream",
          "name": "stdout",
          "text": [
            "\n",
            " \tWe have already have 15.92% of the data!! link: https://icelandmonitor.mbl.is/news/politics_and_society/2022/06/02/half_of_the_population_have_had_covid/\n",
            "\n"
          ]
        },
        {
          "output_type": "stream",
          "name": "stderr",
          "text": [
            "<ipython-input-24-20d67951d720>:21: FutureWarning: The frame.append method is deprecated and will be removed from pandas in a future version. Use pandas.concat instead.\n",
            "  df = df.append(current_dict, ignore_index=True)\n"
          ]
        },
        {
          "output_type": "stream",
          "name": "stdout",
          "text": [
            "\n",
            " \tWe have already have 16.14% of the data!! link: https://icelandmonitor.mbl.is/news/eat_and_drink/2017/09/10/one_of_iceland_s_most_touted_chefs_opens_a_stall_at/\n",
            "\n"
          ]
        },
        {
          "output_type": "stream",
          "name": "stderr",
          "text": [
            "<ipython-input-24-20d67951d720>:21: FutureWarning: The frame.append method is deprecated and will be removed from pandas in a future version. Use pandas.concat instead.\n",
            "  df = df.append(current_dict, ignore_index=True)\n"
          ]
        },
        {
          "output_type": "stream",
          "name": "stdout",
          "text": [
            "\n",
            " \tWe have already have 16.37% of the data!! link: https://icelandmonitor.mbl.is/news/eat_and_drink/2019/03/01/it_s_beer_anniversary_night_in_iceland/\n",
            "\n"
          ]
        },
        {
          "output_type": "stream",
          "name": "stderr",
          "text": [
            "<ipython-input-24-20d67951d720>:21: FutureWarning: The frame.append method is deprecated and will be removed from pandas in a future version. Use pandas.concat instead.\n",
            "  df = df.append(current_dict, ignore_index=True)\n"
          ]
        },
        {
          "output_type": "stream",
          "name": "stdout",
          "text": [
            "\n",
            " \tWe have already have 16.59% of the data!! link: https://icelandmonitor.mbl.is/news/politics_and_society/2022/05/13/my_home_my_vote_my_future/\n",
            "\n"
          ]
        },
        {
          "output_type": "stream",
          "name": "stderr",
          "text": [
            "<ipython-input-24-20d67951d720>:21: FutureWarning: The frame.append method is deprecated and will be removed from pandas in a future version. Use pandas.concat instead.\n",
            "  df = df.append(current_dict, ignore_index=True)\n"
          ]
        },
        {
          "output_type": "stream",
          "name": "stdout",
          "text": [
            "\n",
            " \tWe have already have 16.82% of the data!! link: https://icelandmonitor.mbl.is/news/culture_and_living/2022/06/04/godland_got_a_standing_ovation_in_cannes/\n",
            "\n"
          ]
        },
        {
          "output_type": "stream",
          "name": "stderr",
          "text": [
            "<ipython-input-24-20d67951d720>:21: FutureWarning: The frame.append method is deprecated and will be removed from pandas in a future version. Use pandas.concat instead.\n",
            "  df = df.append(current_dict, ignore_index=True)\n"
          ]
        },
        {
          "output_type": "stream",
          "name": "stdout",
          "text": [
            "\n",
            " \tWe have already have 17.04% of the data!! link: https://icelandmonitor.mbl.is/news/nature_and_travel/2022/02/21/severe_weather_all_over_iceland_tonight/\n",
            "\n"
          ]
        },
        {
          "output_type": "stream",
          "name": "stderr",
          "text": [
            "<ipython-input-24-20d67951d720>:21: FutureWarning: The frame.append method is deprecated and will be removed from pandas in a future version. Use pandas.concat instead.\n",
            "  df = df.append(current_dict, ignore_index=True)\n"
          ]
        },
        {
          "output_type": "stream",
          "name": "stdout",
          "text": [
            "\n",
            " \tWe have already have 17.26% of the data!! link: https://icelandmonitor.mbl.is/news/culture_and_living/2022/12/02/icelandic_authors_an_instant_hit_on_tinder/\n",
            "\n"
          ]
        },
        {
          "output_type": "stream",
          "name": "stderr",
          "text": [
            "<ipython-input-24-20d67951d720>:21: FutureWarning: The frame.append method is deprecated and will be removed from pandas in a future version. Use pandas.concat instead.\n",
            "  df = df.append(current_dict, ignore_index=True)\n"
          ]
        },
        {
          "output_type": "stream",
          "name": "stdout",
          "text": [
            "\n",
            " \tWe have already have 17.49% of the data!! link: https://icelandmonitor.mbl.is/news/eat_and_drink/2022/01/13/ram_testicles_and_shark_likely_to_be_enjoyed_at_hom/\n",
            "\n"
          ]
        },
        {
          "output_type": "stream",
          "name": "stderr",
          "text": [
            "<ipython-input-24-20d67951d720>:21: FutureWarning: The frame.append method is deprecated and will be removed from pandas in a future version. Use pandas.concat instead.\n",
            "  df = df.append(current_dict, ignore_index=True)\n"
          ]
        },
        {
          "output_type": "stream",
          "name": "stdout",
          "text": [
            "\n",
            " \tWe have already have 17.71% of the data!! link: https://icelandmonitor.mbl.is/news/politics_and_society/2022/09/12/treasury_revenue_79_billion_isk_more_than_this_year/\n",
            "\n"
          ]
        },
        {
          "output_type": "stream",
          "name": "stderr",
          "text": [
            "<ipython-input-24-20d67951d720>:21: FutureWarning: The frame.append method is deprecated and will be removed from pandas in a future version. Use pandas.concat instead.\n",
            "  df = df.append(current_dict, ignore_index=True)\n"
          ]
        },
        {
          "output_type": "stream",
          "name": "stdout",
          "text": [
            "\n",
            " \tWe have already have 17.94% of the data!! link: https://icelandmonitor.mbl.is/news/news/2023/03/28/avalanche_risk_likely_into_the_weekend/\n",
            "\n"
          ]
        },
        {
          "output_type": "stream",
          "name": "stderr",
          "text": [
            "<ipython-input-24-20d67951d720>:21: FutureWarning: The frame.append method is deprecated and will be removed from pandas in a future version. Use pandas.concat instead.\n",
            "  df = df.append(current_dict, ignore_index=True)\n"
          ]
        },
        {
          "output_type": "stream",
          "name": "stdout",
          "text": [
            "\n",
            " \tWe have already have 18.16% of the data!! link: https://icelandmonitor.mbl.is/news/culture_and_living/2022/03/12/laekjartorg_square_to_get_new_look/\n",
            "\n"
          ]
        },
        {
          "output_type": "stream",
          "name": "stderr",
          "text": [
            "<ipython-input-24-20d67951d720>:21: FutureWarning: The frame.append method is deprecated and will be removed from pandas in a future version. Use pandas.concat instead.\n",
            "  df = df.append(current_dict, ignore_index=True)\n"
          ]
        },
        {
          "output_type": "stream",
          "name": "stdout",
          "text": [
            "\n",
            " \tWe have already have 18.39% of the data!! link: https://icelandmonitor.mbl.is/news/culture_and_living/2022/03/03/ash_wednesday_in_pictures/\n",
            "\n"
          ]
        },
        {
          "output_type": "stream",
          "name": "stderr",
          "text": [
            "<ipython-input-24-20d67951d720>:21: FutureWarning: The frame.append method is deprecated and will be removed from pandas in a future version. Use pandas.concat instead.\n",
            "  df = df.append(current_dict, ignore_index=True)\n"
          ]
        },
        {
          "output_type": "stream",
          "name": "stdout",
          "text": [
            "\n",
            " \tWe have already have 18.61% of the data!! link: https://icelandmonitor.mbl.is/news/culture_and_living/2022/01/29/should_the_2_of_us_get_married_2_22_22/\n",
            "\n"
          ]
        },
        {
          "output_type": "stream",
          "name": "stderr",
          "text": [
            "<ipython-input-24-20d67951d720>:21: FutureWarning: The frame.append method is deprecated and will be removed from pandas in a future version. Use pandas.concat instead.\n",
            "  df = df.append(current_dict, ignore_index=True)\n"
          ]
        },
        {
          "output_type": "stream",
          "name": "stdout",
          "text": [
            "\n",
            " \tWe have already have 18.83% of the data!! link: https://icelandmonitor.mbl.is/news/eat_and_drink/2017/06/05/wonderful_fish_recipe_to_light_up_your_life/\n",
            "\n"
          ]
        },
        {
          "output_type": "stream",
          "name": "stderr",
          "text": [
            "<ipython-input-24-20d67951d720>:21: FutureWarning: The frame.append method is deprecated and will be removed from pandas in a future version. Use pandas.concat instead.\n",
            "  df = df.append(current_dict, ignore_index=True)\n"
          ]
        },
        {
          "output_type": "stream",
          "name": "stdout",
          "text": [
            "\n",
            " \tWe have already have 19.06% of the data!! link: https://icelandmonitor.mbl.is/news/culture_and_living/2022/07/15/hnifsdalur_made_her_an_author/\n",
            "\n"
          ]
        },
        {
          "output_type": "stream",
          "name": "stderr",
          "text": [
            "<ipython-input-24-20d67951d720>:21: FutureWarning: The frame.append method is deprecated and will be removed from pandas in a future version. Use pandas.concat instead.\n",
            "  df = df.append(current_dict, ignore_index=True)\n"
          ]
        },
        {
          "output_type": "stream",
          "name": "stdout",
          "text": [
            "\n",
            " \tWe have already have 19.28% of the data!! link: https://icelandmonitor.mbl.is/news/eat_and_drink/2021/11/17/four_bottles_sold_of_louis_xiii_cognac/\n",
            "\n"
          ]
        },
        {
          "output_type": "stream",
          "name": "stderr",
          "text": [
            "<ipython-input-24-20d67951d720>:21: FutureWarning: The frame.append method is deprecated and will be removed from pandas in a future version. Use pandas.concat instead.\n",
            "  df = df.append(current_dict, ignore_index=True)\n"
          ]
        },
        {
          "output_type": "stream",
          "name": "stdout",
          "text": [
            "\n",
            " \tWe have already have 19.51% of the data!! link: https://icelandmonitor.mbl.is/news/politics_and_society/2022/05/14/local_elections_in_iceland_the_current_majority_mig/\n",
            "\n"
          ]
        },
        {
          "output_type": "stream",
          "name": "stderr",
          "text": [
            "<ipython-input-24-20d67951d720>:21: FutureWarning: The frame.append method is deprecated and will be removed from pandas in a future version. Use pandas.concat instead.\n",
            "  df = df.append(current_dict, ignore_index=True)\n"
          ]
        },
        {
          "output_type": "stream",
          "name": "stdout",
          "text": [
            "\n",
            " \tWe have already have 19.73% of the data!! link: https://icelandmonitor.mbl.is/news/eat_and_drink/2017/11/11/dogs_allowed_at_grai_kotturinn/\n",
            "\n"
          ]
        },
        {
          "output_type": "stream",
          "name": "stderr",
          "text": [
            "<ipython-input-24-20d67951d720>:21: FutureWarning: The frame.append method is deprecated and will be removed from pandas in a future version. Use pandas.concat instead.\n",
            "  df = df.append(current_dict, ignore_index=True)\n"
          ]
        },
        {
          "output_type": "stream",
          "name": "stdout",
          "text": [
            "\n",
            " \tWe have already have 19.96% of the data!! link: https://icelandmonitor.mbl.is/news/news/2023/03/13/the_prime_minister_and_the_minister_of_foreign_affa/\n",
            "\n"
          ]
        },
        {
          "output_type": "stream",
          "name": "stderr",
          "text": [
            "<ipython-input-24-20d67951d720>:21: FutureWarning: The frame.append method is deprecated and will be removed from pandas in a future version. Use pandas.concat instead.\n",
            "  df = df.append(current_dict, ignore_index=True)\n"
          ]
        },
        {
          "output_type": "stream",
          "name": "stdout",
          "text": [
            "\n",
            " \tWe have already have 20.18% of the data!! link: https://icelandmonitor.mbl.is/news/nature_and_travel/2022/12/09/a_car_went_into_jokulsarlon_glacier_lagoon/\n",
            "\n"
          ]
        },
        {
          "output_type": "stream",
          "name": "stderr",
          "text": [
            "<ipython-input-24-20d67951d720>:21: FutureWarning: The frame.append method is deprecated and will be removed from pandas in a future version. Use pandas.concat instead.\n",
            "  df = df.append(current_dict, ignore_index=True)\n"
          ]
        },
        {
          "output_type": "stream",
          "name": "stdout",
          "text": [
            "\n",
            " \tWe have already have 20.4% of the data!! link: https://icelandmonitor.mbl.is/news/eat_and_drink/2019/05/19/fighting_climate_change_with_pigs/\n",
            "\n"
          ]
        },
        {
          "output_type": "stream",
          "name": "stderr",
          "text": [
            "<ipython-input-24-20d67951d720>:21: FutureWarning: The frame.append method is deprecated and will be removed from pandas in a future version. Use pandas.concat instead.\n",
            "  df = df.append(current_dict, ignore_index=True)\n"
          ]
        },
        {
          "output_type": "stream",
          "name": "stdout",
          "text": [
            "\n",
            " \tWe have already have 20.63% of the data!! link: https://icelandmonitor.mbl.is/news/nature_and_travel/2022/03/21/golden_plover_and_spring_have_arrived/\n",
            "\n"
          ]
        },
        {
          "output_type": "stream",
          "name": "stderr",
          "text": [
            "<ipython-input-24-20d67951d720>:21: FutureWarning: The frame.append method is deprecated and will be removed from pandas in a future version. Use pandas.concat instead.\n",
            "  df = df.append(current_dict, ignore_index=True)\n"
          ]
        },
        {
          "output_type": "stream",
          "name": "stdout",
          "text": [
            "\n",
            " \tWe have already have 20.85% of the data!! link: https://icelandmonitor.mbl.is/news/politics_and_society/2022/07/01/50_prosent_increase_in_car_sales_from_last_year/\n",
            "\n"
          ]
        },
        {
          "output_type": "stream",
          "name": "stderr",
          "text": [
            "<ipython-input-24-20d67951d720>:21: FutureWarning: The frame.append method is deprecated and will be removed from pandas in a future version. Use pandas.concat instead.\n",
            "  df = df.append(current_dict, ignore_index=True)\n"
          ]
        },
        {
          "output_type": "stream",
          "name": "stdout",
          "text": [
            "\n",
            " \tWe have already have 21.08% of the data!! link: https://icelandmonitor.mbl.is/news/culture_and_living/2022/06/13/fishermen_celebrated_today_with_the_same_enthusiasm/\n",
            "\n"
          ]
        },
        {
          "output_type": "stream",
          "name": "stderr",
          "text": [
            "<ipython-input-24-20d67951d720>:21: FutureWarning: The frame.append method is deprecated and will be removed from pandas in a future version. Use pandas.concat instead.\n",
            "  df = df.append(current_dict, ignore_index=True)\n"
          ]
        },
        {
          "output_type": "stream",
          "name": "stdout",
          "text": [
            "\n",
            " \tWe have already have 21.3% of the data!! link: https://icelandmonitor.mbl.is/news/nature_and_travel/2022/05/17/amazing_to_be_on_the_top_of_the_world/\n",
            "\n"
          ]
        },
        {
          "output_type": "stream",
          "name": "stderr",
          "text": [
            "<ipython-input-24-20d67951d720>:21: FutureWarning: The frame.append method is deprecated and will be removed from pandas in a future version. Use pandas.concat instead.\n",
            "  df = df.append(current_dict, ignore_index=True)\n"
          ]
        },
        {
          "output_type": "stream",
          "name": "stdout",
          "text": [
            "\n",
            " \tWe have already have 21.52% of the data!! link: https://www.mbl.is/frettir/innlent/2023/03/27/risk_of_avalanches_in_the_east/\n",
            "\n"
          ]
        },
        {
          "output_type": "stream",
          "name": "stderr",
          "text": [
            "<ipython-input-24-20d67951d720>:21: FutureWarning: The frame.append method is deprecated and will be removed from pandas in a future version. Use pandas.concat instead.\n",
            "  df = df.append(current_dict, ignore_index=True)\n"
          ]
        },
        {
          "output_type": "stream",
          "name": "stdout",
          "text": [
            "\n",
            " \tWe have already have 21.75% of the data!! link: https://icelandmonitor.mbl.is/news/news/2023/03/28/the_patrol_vessel_thor_is_now_in_neskaupstadur/\n",
            "\n"
          ]
        },
        {
          "output_type": "stream",
          "name": "stderr",
          "text": [
            "<ipython-input-24-20d67951d720>:21: FutureWarning: The frame.append method is deprecated and will be removed from pandas in a future version. Use pandas.concat instead.\n",
            "  df = df.append(current_dict, ignore_index=True)\n"
          ]
        },
        {
          "output_type": "stream",
          "name": "stdout",
          "text": [
            "\n",
            " \tWe have already have 21.97% of the data!! link: https://icelandmonitor.mbl.is/news/culture_and_living/2022/10/25/actor_deported_and_the_show_postponed/\n",
            "\n"
          ]
        },
        {
          "output_type": "stream",
          "name": "stderr",
          "text": [
            "<ipython-input-24-20d67951d720>:21: FutureWarning: The frame.append method is deprecated and will be removed from pandas in a future version. Use pandas.concat instead.\n",
            "  df = df.append(current_dict, ignore_index=True)\n"
          ]
        },
        {
          "output_type": "stream",
          "name": "stdout",
          "text": [
            "\n",
            " \tWe have already have 22.2% of the data!! link: https://icelandmonitor.mbl.is/news/nature_and_travel/2022/03/14/morning_flights_postponed_at_kef_airport/\n",
            "\n"
          ]
        },
        {
          "output_type": "stream",
          "name": "stderr",
          "text": [
            "<ipython-input-24-20d67951d720>:21: FutureWarning: The frame.append method is deprecated and will be removed from pandas in a future version. Use pandas.concat instead.\n",
            "  df = df.append(current_dict, ignore_index=True)\n"
          ]
        },
        {
          "output_type": "stream",
          "name": "stdout",
          "text": [
            "\n",
            " \tWe have already have 22.42% of the data!! link: https://icelandmonitor.mbl.is/news/nature_and_travel/2022/08/02/4_7m_earthquake_at_11_31_pm/\n",
            "\n"
          ]
        },
        {
          "output_type": "stream",
          "name": "stderr",
          "text": [
            "<ipython-input-24-20d67951d720>:21: FutureWarning: The frame.append method is deprecated and will be removed from pandas in a future version. Use pandas.concat instead.\n",
            "  df = df.append(current_dict, ignore_index=True)\n"
          ]
        },
        {
          "output_type": "stream",
          "name": "stdout",
          "text": [
            "\n",
            " \tWe have already have 22.65% of the data!! link: https://icelandmonitor.mbl.is/news/eat_and_drink/2017/06/09/icelandic_noodle_restaurant_to_open_in_south_korea/\n",
            "\n"
          ]
        },
        {
          "output_type": "stream",
          "name": "stderr",
          "text": [
            "<ipython-input-24-20d67951d720>:21: FutureWarning: The frame.append method is deprecated and will be removed from pandas in a future version. Use pandas.concat instead.\n",
            "  df = df.append(current_dict, ignore_index=True)\n"
          ]
        },
        {
          "output_type": "stream",
          "name": "stdout",
          "text": [
            "\n",
            " \tWe have already have 22.87% of the data!! link: https://icelandmonitor.mbl.is/news/culture_and_living/2022/04/17/friendship_festival_in_remote_greenlandic_village/\n",
            "\n"
          ]
        },
        {
          "output_type": "stream",
          "name": "stderr",
          "text": [
            "<ipython-input-24-20d67951d720>:21: FutureWarning: The frame.append method is deprecated and will be removed from pandas in a future version. Use pandas.concat instead.\n",
            "  df = df.append(current_dict, ignore_index=True)\n"
          ]
        },
        {
          "output_type": "stream",
          "name": "stdout",
          "text": [
            "\n",
            " \tWe have already have 23.09% of the data!! link: https://icelandmonitor.mbl.is/news/nature_and_travel/2022/01/13/hundreds_of_dead_birds_on_beaches_in_east_fjords/\n",
            "\n"
          ]
        },
        {
          "output_type": "stream",
          "name": "stderr",
          "text": [
            "<ipython-input-24-20d67951d720>:21: FutureWarning: The frame.append method is deprecated and will be removed from pandas in a future version. Use pandas.concat instead.\n",
            "  df = df.append(current_dict, ignore_index=True)\n"
          ]
        },
        {
          "output_type": "stream",
          "name": "stdout",
          "text": [
            "\n",
            " \tWe have already have 23.32% of the data!! link: https://icelandmonitor.mbl.is/news/eat_and_drink/2017/06/08/sustainability_and_a_vegetable_market_for_new_hlemm/\n",
            "\n"
          ]
        },
        {
          "output_type": "stream",
          "name": "stderr",
          "text": [
            "<ipython-input-24-20d67951d720>:21: FutureWarning: The frame.append method is deprecated and will be removed from pandas in a future version. Use pandas.concat instead.\n",
            "  df = df.append(current_dict, ignore_index=True)\n"
          ]
        },
        {
          "output_type": "stream",
          "name": "stdout",
          "text": [
            "\n",
            " \tWe have already have 23.54% of the data!! link: https://icelandmonitor.mbl.is/news/nature_and_travel/2022/03/14/orange_weather_warnings_watch_the_storm_approaching/\n",
            "\n"
          ]
        },
        {
          "output_type": "stream",
          "name": "stderr",
          "text": [
            "<ipython-input-24-20d67951d720>:21: FutureWarning: The frame.append method is deprecated and will be removed from pandas in a future version. Use pandas.concat instead.\n",
            "  df = df.append(current_dict, ignore_index=True)\n"
          ]
        },
        {
          "output_type": "stream",
          "name": "stdout",
          "text": [
            "\n",
            " \tWe have already have 23.77% of the data!! link: https://icelandmonitor.mbl.is/news/eat_and_drink/2018/03/17/hamburger_haven_to_open_next_to_west_reykjavik_swim/\n",
            "\n"
          ]
        },
        {
          "output_type": "stream",
          "name": "stderr",
          "text": [
            "<ipython-input-24-20d67951d720>:21: FutureWarning: The frame.append method is deprecated and will be removed from pandas in a future version. Use pandas.concat instead.\n",
            "  df = df.append(current_dict, ignore_index=True)\n"
          ]
        },
        {
          "output_type": "stream",
          "name": "stdout",
          "text": [
            "\n",
            " \tWe have already have 23.99% of the data!! link: https://icelandmonitor.mbl.is/news/culture_and_living/2022/04/30/from_hollywood_to_reykjavik/\n",
            "\n"
          ]
        },
        {
          "output_type": "stream",
          "name": "stderr",
          "text": [
            "<ipython-input-24-20d67951d720>:21: FutureWarning: The frame.append method is deprecated and will be removed from pandas in a future version. Use pandas.concat instead.\n",
            "  df = df.append(current_dict, ignore_index=True)\n"
          ]
        },
        {
          "output_type": "stream",
          "name": "stdout",
          "text": [
            "\n",
            " \tWe have already have 24.22% of the data!! link: https://icelandmonitor.mbl.is/news/politics_and_society/2022/01/14/tighter_covid_19_restrictions_announced_in_iceland/\n",
            "\n"
          ]
        },
        {
          "output_type": "stream",
          "name": "stderr",
          "text": [
            "<ipython-input-24-20d67951d720>:21: FutureWarning: The frame.append method is deprecated and will be removed from pandas in a future version. Use pandas.concat instead.\n",
            "  df = df.append(current_dict, ignore_index=True)\n"
          ]
        },
        {
          "output_type": "stream",
          "name": "stdout",
          "text": [
            "\n",
            " \tWe have already have 24.44% of the data!! link: https://icelandmonitor.mbl.is/news/eat_and_drink/2022/07/18/a_boutique_coffeehouse_in_grundarfjordur_with_coffe/\n",
            "\n"
          ]
        },
        {
          "output_type": "stream",
          "name": "stderr",
          "text": [
            "<ipython-input-24-20d67951d720>:21: FutureWarning: The frame.append method is deprecated and will be removed from pandas in a future version. Use pandas.concat instead.\n",
            "  df = df.append(current_dict, ignore_index=True)\n"
          ]
        },
        {
          "output_type": "stream",
          "name": "stdout",
          "text": [
            "\n",
            " \tWe have already have 24.66% of the data!! link: https://icelandmonitor.mbl.is/news/news/2023/03/08/musk_apologizes_after_the_twittering_feud/\n",
            "\n"
          ]
        },
        {
          "output_type": "stream",
          "name": "stderr",
          "text": [
            "<ipython-input-24-20d67951d720>:21: FutureWarning: The frame.append method is deprecated and will be removed from pandas in a future version. Use pandas.concat instead.\n",
            "  df = df.append(current_dict, ignore_index=True)\n"
          ]
        },
        {
          "output_type": "stream",
          "name": "stdout",
          "text": [
            "\n",
            " \tWe have already have 24.89% of the data!! link: https://icelandmonitor.mbl.is/news/culture_and_living/2022/08/09/hbo_preparing_to_shoot_true_detective_night_country/\n",
            "\n"
          ]
        },
        {
          "output_type": "stream",
          "name": "stderr",
          "text": [
            "<ipython-input-24-20d67951d720>:21: FutureWarning: The frame.append method is deprecated and will be removed from pandas in a future version. Use pandas.concat instead.\n",
            "  df = df.append(current_dict, ignore_index=True)\n"
          ]
        },
        {
          "output_type": "stream",
          "name": "stdout",
          "text": [
            "\n",
            " \tWe have already have 25.11% of the data!! link: https://icelandmonitor.mbl.is/news/eat_and_drink/2019/01/30/icelandic_culinary_team_compete_at_bocuse_d_or/\n",
            "\n"
          ]
        },
        {
          "output_type": "stream",
          "name": "stderr",
          "text": [
            "<ipython-input-24-20d67951d720>:21: FutureWarning: The frame.append method is deprecated and will be removed from pandas in a future version. Use pandas.concat instead.\n",
            "  df = df.append(current_dict, ignore_index=True)\n"
          ]
        },
        {
          "output_type": "stream",
          "name": "stdout",
          "text": [
            "\n",
            " \tWe have already have 25.34% of the data!! link: https://icelandmonitor.mbl.is/news/culture_and_living/2022/07/22/renewed_his_driving_license_just_before_his_100th_b/\n",
            "\n"
          ]
        },
        {
          "output_type": "stream",
          "name": "stderr",
          "text": [
            "<ipython-input-24-20d67951d720>:21: FutureWarning: The frame.append method is deprecated and will be removed from pandas in a future version. Use pandas.concat instead.\n",
            "  df = df.append(current_dict, ignore_index=True)\n"
          ]
        },
        {
          "output_type": "stream",
          "name": "stdout",
          "text": [
            "\n",
            " \tWe have already have 25.56% of the data!! link: https://icelandmonitor.mbl.is/news/eat_and_drink/2018/11/21/stunning_annual_magazine_on_icelandic_food_is_out/\n",
            "\n"
          ]
        },
        {
          "output_type": "stream",
          "name": "stderr",
          "text": [
            "<ipython-input-24-20d67951d720>:21: FutureWarning: The frame.append method is deprecated and will be removed from pandas in a future version. Use pandas.concat instead.\n",
            "  df = df.append(current_dict, ignore_index=True)\n"
          ]
        },
        {
          "output_type": "stream",
          "name": "stdout",
          "text": [
            "\n",
            " \tWe have already have 25.78% of the data!! link: https://icelandmonitor.mbl.is/news/nature_and_travel/2022/02/03/katla_quivers/\n",
            "\n"
          ]
        },
        {
          "output_type": "stream",
          "name": "stderr",
          "text": [
            "<ipython-input-24-20d67951d720>:21: FutureWarning: The frame.append method is deprecated and will be removed from pandas in a future version. Use pandas.concat instead.\n",
            "  df = df.append(current_dict, ignore_index=True)\n"
          ]
        },
        {
          "output_type": "stream",
          "name": "stdout",
          "text": [
            "\n",
            " \tWe have already have 26.01% of the data!! link: https://icelandmonitor.mbl.is/news/politics_and_society/2022/11/07/happy_if_his_issues_will_be_successful/\n",
            "\n"
          ]
        },
        {
          "output_type": "stream",
          "name": "stderr",
          "text": [
            "<ipython-input-24-20d67951d720>:21: FutureWarning: The frame.append method is deprecated and will be removed from pandas in a future version. Use pandas.concat instead.\n",
            "  df = df.append(current_dict, ignore_index=True)\n"
          ]
        },
        {
          "output_type": "stream",
          "name": "stdout",
          "text": [
            "\n",
            " \tWe have already have 26.23% of the data!! link: https://icelandmonitor.mbl.is/news/nature_and_travel/2022/06/14/warns_about_the_dangers_three_times/\n",
            "\n"
          ]
        },
        {
          "output_type": "stream",
          "name": "stderr",
          "text": [
            "<ipython-input-24-20d67951d720>:21: FutureWarning: The frame.append method is deprecated and will be removed from pandas in a future version. Use pandas.concat instead.\n",
            "  df = df.append(current_dict, ignore_index=True)\n"
          ]
        },
        {
          "output_type": "stream",
          "name": "stdout",
          "text": [
            "\n",
            " \tWe have already have 26.46% of the data!! link: https://icelandmonitor.mbl.is/news/eat_and_drink/2018/09/07/hlemmur_square_presents_actor_throstur_leo_gunnarss/\n",
            "\n"
          ]
        },
        {
          "output_type": "stream",
          "name": "stderr",
          "text": [
            "<ipython-input-24-20d67951d720>:21: FutureWarning: The frame.append method is deprecated and will be removed from pandas in a future version. Use pandas.concat instead.\n",
            "  df = df.append(current_dict, ignore_index=True)\n"
          ]
        },
        {
          "output_type": "stream",
          "name": "stdout",
          "text": [
            "\n",
            " \tWe have already have 26.68% of the data!! link: https://icelandmonitor.mbl.is/news/culture_and_living/2021/09/30/riff_opens_today/\n",
            "\n"
          ]
        },
        {
          "output_type": "stream",
          "name": "stderr",
          "text": [
            "<ipython-input-24-20d67951d720>:21: FutureWarning: The frame.append method is deprecated and will be removed from pandas in a future version. Use pandas.concat instead.\n",
            "  df = df.append(current_dict, ignore_index=True)\n"
          ]
        },
        {
          "output_type": "stream",
          "name": "stdout",
          "text": [
            "\n",
            " \tWe have already have 26.91% of the data!! link: https://icelandmonitor.mbl.is/news/politics_and_society/2022/06/27/strong_reaction_to_roe_vs_wade_ruling_from_iceland_/\n",
            "\n"
          ]
        },
        {
          "output_type": "stream",
          "name": "stderr",
          "text": [
            "<ipython-input-24-20d67951d720>:21: FutureWarning: The frame.append method is deprecated and will be removed from pandas in a future version. Use pandas.concat instead.\n",
            "  df = df.append(current_dict, ignore_index=True)\n"
          ]
        },
        {
          "output_type": "stream",
          "name": "stdout",
          "text": [
            "\n",
            " \tWe have already have 27.13% of the data!! link: https://icelandmonitor.mbl.is/news/politics_and_society/2022/04/15/unemployment_rate_going_down_in_iceland/\n",
            "\n"
          ]
        },
        {
          "output_type": "stream",
          "name": "stderr",
          "text": [
            "<ipython-input-24-20d67951d720>:21: FutureWarning: The frame.append method is deprecated and will be removed from pandas in a future version. Use pandas.concat instead.\n",
            "  df = df.append(current_dict, ignore_index=True)\n"
          ]
        },
        {
          "output_type": "stream",
          "name": "stdout",
          "text": [
            "\n",
            " \tWe have already have 27.35% of the data!! link: https://icelandmonitor.mbl.is/news/nature_and_travel/2022/05/15/healing_the_body_and_the_mind_in_nature/\n",
            "\n"
          ]
        },
        {
          "output_type": "stream",
          "name": "stderr",
          "text": [
            "<ipython-input-24-20d67951d720>:21: FutureWarning: The frame.append method is deprecated and will be removed from pandas in a future version. Use pandas.concat instead.\n",
            "  df = df.append(current_dict, ignore_index=True)\n"
          ]
        },
        {
          "output_type": "stream",
          "name": "stdout",
          "text": [
            "\n",
            " \tWe have already have 27.58% of the data!! link: https://icelandmonitor.mbl.is/news/culture_and_living/2021/10/20/good_outlook_for_christmas_concert_season/\n",
            "\n"
          ]
        },
        {
          "output_type": "stream",
          "name": "stderr",
          "text": [
            "<ipython-input-24-20d67951d720>:21: FutureWarning: The frame.append method is deprecated and will be removed from pandas in a future version. Use pandas.concat instead.\n",
            "  df = df.append(current_dict, ignore_index=True)\n"
          ]
        },
        {
          "output_type": "stream",
          "name": "stdout",
          "text": [
            "\n",
            " \tWe have already have 27.8% of the data!! link: https://icelandmonitor.mbl.is/news/culture_and_living/2022/09/16/ex_cons_in_the_windows_of_the_old_prison/\n",
            "\n"
          ]
        },
        {
          "output_type": "stream",
          "name": "stderr",
          "text": [
            "<ipython-input-24-20d67951d720>:21: FutureWarning: The frame.append method is deprecated and will be removed from pandas in a future version. Use pandas.concat instead.\n",
            "  df = df.append(current_dict, ignore_index=True)\n"
          ]
        },
        {
          "output_type": "stream",
          "name": "stdout",
          "text": [
            "\n",
            " \tWe have already have 28.03% of the data!! link: https://icelandmonitor.mbl.is/news/politics_and_society/2022/03/08/refugees_invited_to_stay_at_justice_minister_s_hous/\n",
            "\n"
          ]
        },
        {
          "output_type": "stream",
          "name": "stderr",
          "text": [
            "<ipython-input-24-20d67951d720>:21: FutureWarning: The frame.append method is deprecated and will be removed from pandas in a future version. Use pandas.concat instead.\n",
            "  df = df.append(current_dict, ignore_index=True)\n"
          ]
        },
        {
          "output_type": "stream",
          "name": "stdout",
          "text": [
            "\n",
            " \tWe have already have 28.25% of the data!! link: https://icelandmonitor.mbl.is/news/news/2023/03/24/brush_fire_near_the_alcoa_smelter_yesterday_and_hou/\n",
            "\n"
          ]
        },
        {
          "output_type": "stream",
          "name": "stderr",
          "text": [
            "<ipython-input-24-20d67951d720>:21: FutureWarning: The frame.append method is deprecated and will be removed from pandas in a future version. Use pandas.concat instead.\n",
            "  df = df.append(current_dict, ignore_index=True)\n"
          ]
        },
        {
          "output_type": "stream",
          "name": "stdout",
          "text": [
            "\n",
            " \tWe have already have 28.48% of the data!! link: https://icelandmonitor.mbl.is/news/nature_and_travel/2022/03/30/concerned_about_excavation_in_seydisholar_craters/\n",
            "\n"
          ]
        },
        {
          "output_type": "stream",
          "name": "stderr",
          "text": [
            "<ipython-input-24-20d67951d720>:21: FutureWarning: The frame.append method is deprecated and will be removed from pandas in a future version. Use pandas.concat instead.\n",
            "  df = df.append(current_dict, ignore_index=True)\n"
          ]
        },
        {
          "output_type": "stream",
          "name": "stdout",
          "text": [
            "\n",
            " \tWe have already have 28.7% of the data!! link: https://icelandmonitor.mbl.is/news/eat_and_drink/2017/11/24/a_new_and_exciting_brunch_menu_at_reykjavik_s_most_/\n",
            "\n"
          ]
        },
        {
          "output_type": "stream",
          "name": "stderr",
          "text": [
            "<ipython-input-24-20d67951d720>:21: FutureWarning: The frame.append method is deprecated and will be removed from pandas in a future version. Use pandas.concat instead.\n",
            "  df = df.append(current_dict, ignore_index=True)\n"
          ]
        },
        {
          "output_type": "stream",
          "name": "stdout",
          "text": [
            "\n",
            " \tWe have already have 28.92% of the data!! link: https://icelandmonitor.mbl.is/news/nature_and_travel/2021/07/07/the_hottest_valley_on_the_island/\n",
            "\n"
          ]
        },
        {
          "output_type": "stream",
          "name": "stderr",
          "text": [
            "<ipython-input-24-20d67951d720>:21: FutureWarning: The frame.append method is deprecated and will be removed from pandas in a future version. Use pandas.concat instead.\n",
            "  df = df.append(current_dict, ignore_index=True)\n"
          ]
        },
        {
          "output_type": "stream",
          "name": "stdout",
          "text": [
            "\n",
            " \tWe have already have 29.15% of the data!! link: https://icelandmonitor.mbl.is/news/politics_and_society/2022/11/07/benediktsson_gets_a_decicive_lead_to_chair_the_inde/\n",
            "\n"
          ]
        },
        {
          "output_type": "stream",
          "name": "stderr",
          "text": [
            "<ipython-input-24-20d67951d720>:21: FutureWarning: The frame.append method is deprecated and will be removed from pandas in a future version. Use pandas.concat instead.\n",
            "  df = df.append(current_dict, ignore_index=True)\n"
          ]
        },
        {
          "output_type": "stream",
          "name": "stdout",
          "text": [
            "\n",
            " \tWe have already have 29.37% of the data!! link: https://icelandmonitor.mbl.is/news/eat_and_drink/2021/01/05/vinbudin_liquor_stores_report_record_sales/\n",
            "\n"
          ]
        },
        {
          "output_type": "stream",
          "name": "stderr",
          "text": [
            "<ipython-input-24-20d67951d720>:21: FutureWarning: The frame.append method is deprecated and will be removed from pandas in a future version. Use pandas.concat instead.\n",
            "  df = df.append(current_dict, ignore_index=True)\n"
          ]
        },
        {
          "output_type": "stream",
          "name": "stdout",
          "text": [
            "\n",
            " \tWe have already have 29.6% of the data!! link: https://icelandmonitor.mbl.is/news/news/2023/03/27/video_showing_the_consequences_of_the_avalanche/\n",
            "\n"
          ]
        },
        {
          "output_type": "stream",
          "name": "stderr",
          "text": [
            "<ipython-input-24-20d67951d720>:21: FutureWarning: The frame.append method is deprecated and will be removed from pandas in a future version. Use pandas.concat instead.\n",
            "  df = df.append(current_dict, ignore_index=True)\n"
          ]
        },
        {
          "output_type": "stream",
          "name": "stdout",
          "text": [
            "\n",
            " \tWe have already have 29.82% of the data!! link: https://icelandmonitor.mbl.is/news/nature_and_travel/2022/01/28/west_fjords_benefit_from_being_best_in_travel_2022/\n",
            "\n"
          ]
        },
        {
          "output_type": "stream",
          "name": "stderr",
          "text": [
            "<ipython-input-24-20d67951d720>:21: FutureWarning: The frame.append method is deprecated and will be removed from pandas in a future version. Use pandas.concat instead.\n",
            "  df = df.append(current_dict, ignore_index=True)\n"
          ]
        },
        {
          "output_type": "stream",
          "name": "stdout",
          "text": [
            "\n",
            " \tWe have already have 30.04% of the data!! link: https://icelandmonitor.mbl.is/news/culture_and_living/2022/11/13/record_number_of_christmas_boxes_collected_this_yea/\n",
            "\n"
          ]
        },
        {
          "output_type": "stream",
          "name": "stderr",
          "text": [
            "<ipython-input-24-20d67951d720>:21: FutureWarning: The frame.append method is deprecated and will be removed from pandas in a future version. Use pandas.concat instead.\n",
            "  df = df.append(current_dict, ignore_index=True)\n"
          ]
        },
        {
          "output_type": "stream",
          "name": "stdout",
          "text": [
            "\n",
            " \tWe have already have 30.27% of the data!! link: https://icelandmonitor.mbl.is/news/politics_and_society/2022/01/24/bill_to_benefit_icelandic_investors_introduced_to_u/\n",
            "\n"
          ]
        },
        {
          "output_type": "stream",
          "name": "stderr",
          "text": [
            "<ipython-input-24-20d67951d720>:21: FutureWarning: The frame.append method is deprecated and will be removed from pandas in a future version. Use pandas.concat instead.\n",
            "  df = df.append(current_dict, ignore_index=True)\n"
          ]
        },
        {
          "output_type": "stream",
          "name": "stdout",
          "text": [
            "\n",
            " \tWe have already have 30.49% of the data!! link: https://icelandmonitor.mbl.is/news/politics_and_society/2022/07/01/will_online_sales_push_through_a_change_in_the_icel/\n",
            "\n"
          ]
        },
        {
          "output_type": "stream",
          "name": "stderr",
          "text": [
            "<ipython-input-24-20d67951d720>:21: FutureWarning: The frame.append method is deprecated and will be removed from pandas in a future version. Use pandas.concat instead.\n",
            "  df = df.append(current_dict, ignore_index=True)\n"
          ]
        },
        {
          "output_type": "stream",
          "name": "stdout",
          "text": [
            "\n",
            " \tWe have already have 30.72% of the data!! link: https://icelandmonitor.mbl.is/news/nature_and_travel/2022/01/25/severe_weather_in_iceland_today/\n",
            "\n"
          ]
        },
        {
          "output_type": "stream",
          "name": "stderr",
          "text": [
            "<ipython-input-24-20d67951d720>:21: FutureWarning: The frame.append method is deprecated and will be removed from pandas in a future version. Use pandas.concat instead.\n",
            "  df = df.append(current_dict, ignore_index=True)\n"
          ]
        },
        {
          "output_type": "stream",
          "name": "stdout",
          "text": [
            "\n",
            " \tWe have already have 30.94% of the data!! link: https://icelandmonitor.mbl.is/news/politics_and_society/2022/09/13/the_world_is_getting_better_but_digital_assistant_s/\n",
            "\n"
          ]
        },
        {
          "output_type": "stream",
          "name": "stderr",
          "text": [
            "<ipython-input-24-20d67951d720>:21: FutureWarning: The frame.append method is deprecated and will be removed from pandas in a future version. Use pandas.concat instead.\n",
            "  df = df.append(current_dict, ignore_index=True)\n"
          ]
        },
        {
          "output_type": "stream",
          "name": "stdout",
          "text": [
            "\n",
            " \tWe have already have 31.17% of the data!! link: https://icelandmonitor.mbl.is/news/politics_and_society/2022/04/04/close_to_600_ukrainian_refugees_in_iceland/\n",
            "\n"
          ]
        },
        {
          "output_type": "stream",
          "name": "stderr",
          "text": [
            "<ipython-input-24-20d67951d720>:21: FutureWarning: The frame.append method is deprecated and will be removed from pandas in a future version. Use pandas.concat instead.\n",
            "  df = df.append(current_dict, ignore_index=True)\n"
          ]
        },
        {
          "output_type": "stream",
          "name": "stdout",
          "text": [
            "\n",
            " \tWe have already have 31.39% of the data!! link: https://icelandmonitor.mbl.is/news/eat_and_drink/2019/01/09/new_restaurant_systir_opens_on_hverfisgata_instead_/\n",
            "\n"
          ]
        },
        {
          "output_type": "stream",
          "name": "stderr",
          "text": [
            "<ipython-input-24-20d67951d720>:21: FutureWarning: The frame.append method is deprecated and will be removed from pandas in a future version. Use pandas.concat instead.\n",
            "  df = df.append(current_dict, ignore_index=True)\n"
          ]
        },
        {
          "output_type": "stream",
          "name": "stdout",
          "text": [
            "\n",
            " \tWe have already have 31.61% of the data!! link: https://icelandmonitor.mbl.is/news/politics_and_society/2022/11/11/custody_extended_until_november_24th/\n",
            "\n"
          ]
        },
        {
          "output_type": "stream",
          "name": "stderr",
          "text": [
            "<ipython-input-24-20d67951d720>:21: FutureWarning: The frame.append method is deprecated and will be removed from pandas in a future version. Use pandas.concat instead.\n",
            "  df = df.append(current_dict, ignore_index=True)\n"
          ]
        },
        {
          "output_type": "stream",
          "name": "stdout",
          "text": [
            "\n",
            " \tWe have already have 31.84% of the data!! link: https://icelandmonitor.mbl.is/news/culture_and_living/2022/11/28/voted_the_best_crime_novel_in_50_years/\n",
            "\n"
          ]
        },
        {
          "output_type": "stream",
          "name": "stderr",
          "text": [
            "<ipython-input-24-20d67951d720>:21: FutureWarning: The frame.append method is deprecated and will be removed from pandas in a future version. Use pandas.concat instead.\n",
            "  df = df.append(current_dict, ignore_index=True)\n"
          ]
        },
        {
          "output_type": "stream",
          "name": "stdout",
          "text": [
            "\n",
            " \tWe have already have 32.06% of the data!! link: https://icelandmonitor.mbl.is/news/politics_and_society/2022/03/18/assisting_ukrainians_every_way_they_can/\n",
            "\n"
          ]
        },
        {
          "output_type": "stream",
          "name": "stderr",
          "text": [
            "<ipython-input-24-20d67951d720>:21: FutureWarning: The frame.append method is deprecated and will be removed from pandas in a future version. Use pandas.concat instead.\n",
            "  df = df.append(current_dict, ignore_index=True)\n"
          ]
        },
        {
          "output_type": "stream",
          "name": "stdout",
          "text": [
            "\n",
            " \tWe have already have 32.29% of the data!! link: https://icelandmonitor.mbl.is/news/culture_and_living/2022/12/17/an_art_auction_in_idno_today_for_the_benefit_of_ref/\n",
            "\n"
          ]
        },
        {
          "output_type": "stream",
          "name": "stderr",
          "text": [
            "<ipython-input-24-20d67951d720>:21: FutureWarning: The frame.append method is deprecated and will be removed from pandas in a future version. Use pandas.concat instead.\n",
            "  df = df.append(current_dict, ignore_index=True)\n"
          ]
        },
        {
          "output_type": "stream",
          "name": "stdout",
          "text": [
            "\n",
            " \tWe have already have 32.51% of the data!! link: https://icelandmonitor.mbl.is/news/eat_and_drink/2018/08/08/gourmet_dining_in_grundarfjordur_west_iceland/\n",
            "\n"
          ]
        },
        {
          "output_type": "stream",
          "name": "stderr",
          "text": [
            "<ipython-input-24-20d67951d720>:21: FutureWarning: The frame.append method is deprecated and will be removed from pandas in a future version. Use pandas.concat instead.\n",
            "  df = df.append(current_dict, ignore_index=True)\n"
          ]
        },
        {
          "output_type": "stream",
          "name": "stdout",
          "text": [
            "\n",
            " \tWe have already have 32.74% of the data!! link: https://icelandmonitor.mbl.is/news/eat_and_drink/2019/06/06/quality_water_for_free/\n",
            "\n"
          ]
        },
        {
          "output_type": "stream",
          "name": "stderr",
          "text": [
            "<ipython-input-24-20d67951d720>:21: FutureWarning: The frame.append method is deprecated and will be removed from pandas in a future version. Use pandas.concat instead.\n",
            "  df = df.append(current_dict, ignore_index=True)\n"
          ]
        },
        {
          "output_type": "stream",
          "name": "stdout",
          "text": [
            "\n",
            " \tWe have already have 32.96% of the data!! link: https://icelandmonitor.mbl.is/news/culture_and_living/2022/05/10/eurovision_hits_a_fever_pitch_iceland_is_performing/\n",
            "\n"
          ]
        },
        {
          "output_type": "stream",
          "name": "stderr",
          "text": [
            "<ipython-input-24-20d67951d720>:21: FutureWarning: The frame.append method is deprecated and will be removed from pandas in a future version. Use pandas.concat instead.\n",
            "  df = df.append(current_dict, ignore_index=True)\n"
          ]
        },
        {
          "output_type": "stream",
          "name": "stdout",
          "text": [
            "\n",
            " \tWe have already have 33.18% of the data!! link: https://icelandmonitor.mbl.is/news/politics_and_society/2022/10/28/difficult_to_be_queer_in_slovakia/\n",
            "\n"
          ]
        },
        {
          "output_type": "stream",
          "name": "stderr",
          "text": [
            "<ipython-input-24-20d67951d720>:21: FutureWarning: The frame.append method is deprecated and will be removed from pandas in a future version. Use pandas.concat instead.\n",
            "  df = df.append(current_dict, ignore_index=True)\n"
          ]
        },
        {
          "output_type": "stream",
          "name": "stdout",
          "text": [
            "\n",
            " \tWe have already have 33.41% of the data!! link: https://icelandmonitor.mbl.is/news/eat_and_drink/2018/08/03/chef_victoria_eliasdottir_and_artist_olafur_eliasso/\n",
            "\n"
          ]
        },
        {
          "output_type": "stream",
          "name": "stderr",
          "text": [
            "<ipython-input-24-20d67951d720>:21: FutureWarning: The frame.append method is deprecated and will be removed from pandas in a future version. Use pandas.concat instead.\n",
            "  df = df.append(current_dict, ignore_index=True)\n"
          ]
        },
        {
          "output_type": "stream",
          "name": "stdout",
          "text": [
            "\n",
            " \tWe have already have 33.63% of the data!! link: https://icelandmonitor.mbl.is/news/eat_and_drink/2019/02/15/restaurants_participate_in_initiative_for_chldren_s/\n",
            "\n"
          ]
        },
        {
          "output_type": "stream",
          "name": "stderr",
          "text": [
            "<ipython-input-24-20d67951d720>:21: FutureWarning: The frame.append method is deprecated and will be removed from pandas in a future version. Use pandas.concat instead.\n",
            "  df = df.append(current_dict, ignore_index=True)\n"
          ]
        },
        {
          "output_type": "stream",
          "name": "stdout",
          "text": [
            "\n",
            " \tWe have already have 33.86% of the data!! link: https://icelandmonitor.mbl.is/news/nature_and_travel/2022/02/09/swimming_pool_full_of_sand_video/\n",
            "\n"
          ]
        },
        {
          "output_type": "stream",
          "name": "stderr",
          "text": [
            "<ipython-input-24-20d67951d720>:21: FutureWarning: The frame.append method is deprecated and will be removed from pandas in a future version. Use pandas.concat instead.\n",
            "  df = df.append(current_dict, ignore_index=True)\n"
          ]
        },
        {
          "output_type": "stream",
          "name": "stdout",
          "text": [
            "\n",
            " \tWe have already have 34.08% of the data!! link: https://icelandmonitor.mbl.is/news/nature_and_travel/2022/10/09/waited_eight_years_for_his_dream_vacation/\n",
            "\n"
          ]
        },
        {
          "output_type": "stream",
          "name": "stderr",
          "text": [
            "<ipython-input-24-20d67951d720>:21: FutureWarning: The frame.append method is deprecated and will be removed from pandas in a future version. Use pandas.concat instead.\n",
            "  df = df.append(current_dict, ignore_index=True)\n"
          ]
        },
        {
          "output_type": "stream",
          "name": "stdout",
          "text": [
            "\n",
            " \tWe have already have 34.3% of the data!! link: https://icelandmonitor.mbl.is/news/politics_and_society/2022/09/12/discharged_in_dire_distress_and_told_to_get_a_hotel/\n",
            "\n"
          ]
        },
        {
          "output_type": "stream",
          "name": "stderr",
          "text": [
            "<ipython-input-24-20d67951d720>:21: FutureWarning: The frame.append method is deprecated and will be removed from pandas in a future version. Use pandas.concat instead.\n",
            "  df = df.append(current_dict, ignore_index=True)\n"
          ]
        },
        {
          "output_type": "stream",
          "name": "stdout",
          "text": [
            "\n",
            " \tWe have already have 34.53% of the data!! link: https://icelandmonitor.mbl.is/news/nature_and_travel/2022/12/27/the_biggest_quake_in_grimsvotn_since_august/\n",
            "\n"
          ]
        },
        {
          "output_type": "stream",
          "name": "stderr",
          "text": [
            "<ipython-input-24-20d67951d720>:21: FutureWarning: The frame.append method is deprecated and will be removed from pandas in a future version. Use pandas.concat instead.\n",
            "  df = df.append(current_dict, ignore_index=True)\n"
          ]
        },
        {
          "output_type": "stream",
          "name": "stdout",
          "text": [
            "\n",
            " \tWe have already have 34.75% of the data!! link: https://icelandmonitor.mbl.is/news/politics_and_society/2022/08/25/the_city_considering_a_more_flexible_retirement_age/\n",
            "\n"
          ]
        },
        {
          "output_type": "stream",
          "name": "stderr",
          "text": [
            "<ipython-input-24-20d67951d720>:21: FutureWarning: The frame.append method is deprecated and will be removed from pandas in a future version. Use pandas.concat instead.\n",
            "  df = df.append(current_dict, ignore_index=True)\n"
          ]
        },
        {
          "output_type": "stream",
          "name": "stdout",
          "text": [
            "\n",
            " \tWe have already have 34.98% of the data!! link: https://icelandmonitor.mbl.is/news/politics_and_society/2022/08/23/proposal_for_change_in_gun_laws_this_fall/\n",
            "\n"
          ]
        },
        {
          "output_type": "stream",
          "name": "stderr",
          "text": [
            "<ipython-input-24-20d67951d720>:21: FutureWarning: The frame.append method is deprecated and will be removed from pandas in a future version. Use pandas.concat instead.\n",
            "  df = df.append(current_dict, ignore_index=True)\n"
          ]
        },
        {
          "output_type": "stream",
          "name": "stdout",
          "text": [
            "\n",
            " \tWe have already have 35.2% of the data!! link: https://icelandmonitor.mbl.is/news/culture_and_living/2022/10/31/nakamura_took_home_the_first_prize/\n",
            "\n"
          ]
        },
        {
          "output_type": "stream",
          "name": "stderr",
          "text": [
            "<ipython-input-24-20d67951d720>:21: FutureWarning: The frame.append method is deprecated and will be removed from pandas in a future version. Use pandas.concat instead.\n",
            "  df = df.append(current_dict, ignore_index=True)\n"
          ]
        },
        {
          "output_type": "stream",
          "name": "stdout",
          "text": [
            "\n",
            " \tWe have already have 35.43% of the data!! link: https://icelandmonitor.mbl.is/news/eat_and_drink/2022/09/08/want_to_put_the_westman_islands_on_the_culinary_map/\n",
            "\n"
          ]
        },
        {
          "output_type": "stream",
          "name": "stderr",
          "text": [
            "<ipython-input-24-20d67951d720>:21: FutureWarning: The frame.append method is deprecated and will be removed from pandas in a future version. Use pandas.concat instead.\n",
            "  df = df.append(current_dict, ignore_index=True)\n"
          ]
        },
        {
          "output_type": "stream",
          "name": "stdout",
          "text": [
            "\n",
            " \tWe have already have 35.65% of the data!! link: https://icelandmonitor.mbl.is/news/culture_and_living/2022/03/26/second_largest_film_project_ever_in_iceland/\n",
            "\n"
          ]
        },
        {
          "output_type": "stream",
          "name": "stderr",
          "text": [
            "<ipython-input-24-20d67951d720>:21: FutureWarning: The frame.append method is deprecated and will be removed from pandas in a future version. Use pandas.concat instead.\n",
            "  df = df.append(current_dict, ignore_index=True)\n"
          ]
        },
        {
          "output_type": "stream",
          "name": "stdout",
          "text": [
            "\n",
            " \tWe have already have 35.87% of the data!! link: https://icelandmonitor.mbl.is/news/eat_and_drink/2019/08/08/dill_closes_and_other_restaurants_open/\n",
            "\n"
          ]
        },
        {
          "output_type": "stream",
          "name": "stderr",
          "text": [
            "<ipython-input-24-20d67951d720>:21: FutureWarning: The frame.append method is deprecated and will be removed from pandas in a future version. Use pandas.concat instead.\n",
            "  df = df.append(current_dict, ignore_index=True)\n"
          ]
        },
        {
          "output_type": "stream",
          "name": "stdout",
          "text": [
            "\n",
            " \tWe have already have 36.1% of the data!! link: https://icelandmonitor.mbl.is/news/nature_and_travel/2022/09/17/ran_half_across_iceland_in_ten_days/\n",
            "\n"
          ]
        },
        {
          "output_type": "stream",
          "name": "stderr",
          "text": [
            "<ipython-input-24-20d67951d720>:21: FutureWarning: The frame.append method is deprecated and will be removed from pandas in a future version. Use pandas.concat instead.\n",
            "  df = df.append(current_dict, ignore_index=True)\n"
          ]
        },
        {
          "output_type": "stream",
          "name": "stdout",
          "text": [
            "\n",
            " \tWe have already have 36.32% of the data!! link: https://icelandmonitor.mbl.is/news/nature_and_travel/2022/08/11/huge_increase_in_scheduled_arrivals_of_cruise_ships/\n",
            "\n"
          ]
        },
        {
          "output_type": "stream",
          "name": "stderr",
          "text": [
            "<ipython-input-24-20d67951d720>:21: FutureWarning: The frame.append method is deprecated and will be removed from pandas in a future version. Use pandas.concat instead.\n",
            "  df = df.append(current_dict, ignore_index=True)\n"
          ]
        },
        {
          "output_type": "stream",
          "name": "stdout",
          "text": [
            "\n",
            " \tWe have already have 36.55% of the data!! link: https://icelandmonitor.mbl.is/news/culture_and_living/2022/04/23/multinational_cast_of_operation_napoleon/\n",
            "\n"
          ]
        },
        {
          "output_type": "stream",
          "name": "stderr",
          "text": [
            "<ipython-input-24-20d67951d720>:21: FutureWarning: The frame.append method is deprecated and will be removed from pandas in a future version. Use pandas.concat instead.\n",
            "  df = df.append(current_dict, ignore_index=True)\n"
          ]
        },
        {
          "output_type": "stream",
          "name": "stdout",
          "text": [
            "\n",
            " \tWe have already have 36.77% of the data!! link: https://icelandmonitor.mbl.is/news/nature_and_travel/2022/10/17/saved_after_sitting_in_the_cold_for_50_hours/\n",
            "\n"
          ]
        },
        {
          "output_type": "stream",
          "name": "stderr",
          "text": [
            "<ipython-input-24-20d67951d720>:21: FutureWarning: The frame.append method is deprecated and will be removed from pandas in a future version. Use pandas.concat instead.\n",
            "  df = df.append(current_dict, ignore_index=True)\n"
          ]
        },
        {
          "output_type": "stream",
          "name": "stdout",
          "text": [
            "\n",
            " \tWe have already have 37.0% of the data!! link: https://icelandmonitor.mbl.is/news/culture_and_living/2022/01/03/icelanders_welcome_2022_with_fireworks/\n",
            "\n"
          ]
        },
        {
          "output_type": "stream",
          "name": "stderr",
          "text": [
            "<ipython-input-24-20d67951d720>:21: FutureWarning: The frame.append method is deprecated and will be removed from pandas in a future version. Use pandas.concat instead.\n",
            "  df = df.append(current_dict, ignore_index=True)\n"
          ]
        },
        {
          "output_type": "stream",
          "name": "stdout",
          "text": [
            "\n",
            " \tWe have already have 37.22% of the data!! link: https://icelandmonitor.mbl.is/news/politics_and_society/2022/03/04/icelanders_experience_fear_due_to_war_in_ukraine/\n",
            "\n"
          ]
        },
        {
          "output_type": "stream",
          "name": "stderr",
          "text": [
            "<ipython-input-24-20d67951d720>:21: FutureWarning: The frame.append method is deprecated and will be removed from pandas in a future version. Use pandas.concat instead.\n",
            "  df = df.append(current_dict, ignore_index=True)\n"
          ]
        },
        {
          "output_type": "stream",
          "name": "stdout",
          "text": [
            "\n",
            " \tWe have already have 37.44% of the data!! link: https://icelandmonitor.mbl.is/news/eat_and_drink/2018/02/03/forager_s_club_dinner_at_reykjavik_s_nostra_on_sund/\n",
            "\n"
          ]
        },
        {
          "output_type": "stream",
          "name": "stderr",
          "text": [
            "<ipython-input-24-20d67951d720>:21: FutureWarning: The frame.append method is deprecated and will be removed from pandas in a future version. Use pandas.concat instead.\n",
            "  df = df.append(current_dict, ignore_index=True)\n"
          ]
        },
        {
          "output_type": "stream",
          "name": "stdout",
          "text": [
            "\n",
            " \tWe have already have 37.67% of the data!! link: https://icelandmonitor.mbl.is/news/eat_and_drink/2022/02/27/27_percent_of_icelanders_are_obese/\n",
            "\n"
          ]
        },
        {
          "output_type": "stream",
          "name": "stderr",
          "text": [
            "<ipython-input-24-20d67951d720>:21: FutureWarning: The frame.append method is deprecated and will be removed from pandas in a future version. Use pandas.concat instead.\n",
            "  df = df.append(current_dict, ignore_index=True)\n"
          ]
        },
        {
          "output_type": "stream",
          "name": "stdout",
          "text": [
            "\n",
            " \tWe have already have 37.89% of the data!! link: https://icelandmonitor.mbl.is/news/nature_and_travel/2022/12/13/security_cameras_and_blinking_signs/\n",
            "\n"
          ]
        },
        {
          "output_type": "stream",
          "name": "stderr",
          "text": [
            "<ipython-input-24-20d67951d720>:21: FutureWarning: The frame.append method is deprecated and will be removed from pandas in a future version. Use pandas.concat instead.\n",
            "  df = df.append(current_dict, ignore_index=True)\n"
          ]
        },
        {
          "output_type": "stream",
          "name": "stdout",
          "text": [
            "\n",
            " \tWe have already have 38.12% of the data!! link: https://icelandmonitor.mbl.is/news/politics_and_society/2022/10/10/murder_suspects_released_from_custody/\n",
            "\n"
          ]
        },
        {
          "output_type": "stream",
          "name": "stderr",
          "text": [
            "<ipython-input-24-20d67951d720>:21: FutureWarning: The frame.append method is deprecated and will be removed from pandas in a future version. Use pandas.concat instead.\n",
            "  df = df.append(current_dict, ignore_index=True)\n"
          ]
        },
        {
          "output_type": "stream",
          "name": "stdout",
          "text": [
            "\n",
            " \tWe have already have 38.34% of the data!! link: https://icelandmonitor.mbl.is/news/politics_and_society/2022/09/29/national_police_chief_has_excused_herself_from_the_/\n",
            "\n"
          ]
        },
        {
          "output_type": "stream",
          "name": "stderr",
          "text": [
            "<ipython-input-24-20d67951d720>:21: FutureWarning: The frame.append method is deprecated and will be removed from pandas in a future version. Use pandas.concat instead.\n",
            "  df = df.append(current_dict, ignore_index=True)\n"
          ]
        },
        {
          "output_type": "stream",
          "name": "stdout",
          "text": [
            "\n",
            " \tWe have already have 38.57% of the data!! link: https://icelandmonitor.mbl.is/news/nature_and_travel/2022/08/28/svartaborg_luxury_villas_get_rave_reviews/\n",
            "\n"
          ]
        },
        {
          "output_type": "stream",
          "name": "stderr",
          "text": [
            "<ipython-input-24-20d67951d720>:21: FutureWarning: The frame.append method is deprecated and will be removed from pandas in a future version. Use pandas.concat instead.\n",
            "  df = df.append(current_dict, ignore_index=True)\n"
          ]
        },
        {
          "output_type": "stream",
          "name": "stdout",
          "text": [
            "\n",
            " \tWe have already have 38.79% of the data!! link: https://icelandmonitor.mbl.is/news/culture_and_living/2022/04/25/iceland_writers_retreat_reading_tomorrow/\n",
            "\n"
          ]
        },
        {
          "output_type": "stream",
          "name": "stderr",
          "text": [
            "<ipython-input-24-20d67951d720>:21: FutureWarning: The frame.append method is deprecated and will be removed from pandas in a future version. Use pandas.concat instead.\n",
            "  df = df.append(current_dict, ignore_index=True)\n"
          ]
        },
        {
          "output_type": "stream",
          "name": "stdout",
          "text": [
            "\n",
            " \tWe have already have 39.01% of the data!! link: https://icelandmonitor.mbl.is/news/politics_and_society/2022/06/30/historical_moment_but_turkey_s_demands_were_inappro/\n",
            "\n"
          ]
        },
        {
          "output_type": "stream",
          "name": "stderr",
          "text": [
            "<ipython-input-24-20d67951d720>:21: FutureWarning: The frame.append method is deprecated and will be removed from pandas in a future version. Use pandas.concat instead.\n",
            "  df = df.append(current_dict, ignore_index=True)\n"
          ]
        },
        {
          "output_type": "stream",
          "name": "stdout",
          "text": [
            "\n",
            " \tWe have already have 39.24% of the data!! link: https://icelandmonitor.mbl.is/news/politics_and_society/2022/11/28/the_minister_of_foreign_affairs_is_in_kiev/\n",
            "\n"
          ]
        },
        {
          "output_type": "stream",
          "name": "stderr",
          "text": [
            "<ipython-input-24-20d67951d720>:21: FutureWarning: The frame.append method is deprecated and will be removed from pandas in a future version. Use pandas.concat instead.\n",
            "  df = df.append(current_dict, ignore_index=True)\n"
          ]
        },
        {
          "output_type": "stream",
          "name": "stdout",
          "text": [
            "\n",
            " \tWe have already have 39.46% of the data!! link: https://icelandmonitor.mbl.is/news/politics_and_society/2022/04/04/northern_viking_defense_exercise_in_iceland/\n",
            "\n"
          ]
        },
        {
          "output_type": "stream",
          "name": "stderr",
          "text": [
            "<ipython-input-24-20d67951d720>:21: FutureWarning: The frame.append method is deprecated and will be removed from pandas in a future version. Use pandas.concat instead.\n",
            "  df = df.append(current_dict, ignore_index=True)\n"
          ]
        },
        {
          "output_type": "stream",
          "name": "stdout",
          "text": [
            "\n",
            " \tWe have already have 39.69% of the data!! link: https://icelandmonitor.mbl.is/news/nature_and_travel/2022/06/13/a_fatal_accident_at_reynisfjara_black_beach/\n",
            "\n"
          ]
        },
        {
          "output_type": "stream",
          "name": "stderr",
          "text": [
            "<ipython-input-24-20d67951d720>:21: FutureWarning: The frame.append method is deprecated and will be removed from pandas in a future version. Use pandas.concat instead.\n",
            "  df = df.append(current_dict, ignore_index=True)\n"
          ]
        },
        {
          "output_type": "stream",
          "name": "stdout",
          "text": [
            "\n",
            " \tWe have already have 39.91% of the data!! link: https://icelandmonitor.mbl.is/news/nature_and_travel/2022/07/16/is_this_the_coolest_place_to_stay_in_iceland/\n",
            "\n"
          ]
        },
        {
          "output_type": "stream",
          "name": "stderr",
          "text": [
            "<ipython-input-24-20d67951d720>:21: FutureWarning: The frame.append method is deprecated and will be removed from pandas in a future version. Use pandas.concat instead.\n",
            "  df = df.append(current_dict, ignore_index=True)\n"
          ]
        },
        {
          "output_type": "stream",
          "name": "stdout",
          "text": [
            "\n",
            " \tWe have already have 40.13% of the data!! link: https://icelandmonitor.mbl.is/news/nature_and_travel/2022/08/29/the_meradalir_eruption_is_over/\n",
            "\n"
          ]
        },
        {
          "output_type": "stream",
          "name": "stderr",
          "text": [
            "<ipython-input-24-20d67951d720>:21: FutureWarning: The frame.append method is deprecated and will be removed from pandas in a future version. Use pandas.concat instead.\n",
            "  df = df.append(current_dict, ignore_index=True)\n"
          ]
        },
        {
          "output_type": "stream",
          "name": "stdout",
          "text": [
            "\n",
            " \tWe have already have 40.36% of the data!! link: https://icelandmonitor.mbl.is/news/nature_and_travel/2022/04/13/up_to_83_cruise_ships_coming_this_season/\n",
            "\n"
          ]
        },
        {
          "output_type": "stream",
          "name": "stderr",
          "text": [
            "<ipython-input-24-20d67951d720>:21: FutureWarning: The frame.append method is deprecated and will be removed from pandas in a future version. Use pandas.concat instead.\n",
            "  df = df.append(current_dict, ignore_index=True)\n"
          ]
        },
        {
          "output_type": "stream",
          "name": "stdout",
          "text": [
            "\n",
            " \tWe have already have 40.58% of the data!! link: https://icelandmonitor.mbl.is/news/news/2023/03/27/record_attendance_in_reykjavik_open/\n",
            "\n"
          ]
        },
        {
          "output_type": "stream",
          "name": "stderr",
          "text": [
            "<ipython-input-24-20d67951d720>:21: FutureWarning: The frame.append method is deprecated and will be removed from pandas in a future version. Use pandas.concat instead.\n",
            "  df = df.append(current_dict, ignore_index=True)\n"
          ]
        },
        {
          "output_type": "stream",
          "name": "stdout",
          "text": [
            "\n",
            " \tWe have already have 40.81% of the data!! link: https://icelandmonitor.mbl.is/news/eat_and_drink/2022/10/02/carpe_diem_could_be_this_chef_s_motto/\n",
            "\n"
          ]
        },
        {
          "output_type": "stream",
          "name": "stderr",
          "text": [
            "<ipython-input-24-20d67951d720>:21: FutureWarning: The frame.append method is deprecated and will be removed from pandas in a future version. Use pandas.concat instead.\n",
            "  df = df.append(current_dict, ignore_index=True)\n"
          ]
        },
        {
          "output_type": "stream",
          "name": "stdout",
          "text": [
            "\n",
            " \tWe have already have 41.03% of the data!! link: https://icelandmonitor.mbl.is/news/culture_and_living/2022/01/01/new_year_new_numbers/\n",
            "\n"
          ]
        },
        {
          "output_type": "stream",
          "name": "stderr",
          "text": [
            "<ipython-input-24-20d67951d720>:21: FutureWarning: The frame.append method is deprecated and will be removed from pandas in a future version. Use pandas.concat instead.\n",
            "  df = df.append(current_dict, ignore_index=True)\n"
          ]
        },
        {
          "output_type": "stream",
          "name": "stdout",
          "text": [
            "\n",
            " \tWe have already have 41.26% of the data!! link: https://icelandmonitor.mbl.is/news/eat_and_drink/2017/06/14/icelandic_fish_and_chips_open_new_york_branch/\n",
            "\n"
          ]
        },
        {
          "output_type": "stream",
          "name": "stderr",
          "text": [
            "<ipython-input-24-20d67951d720>:21: FutureWarning: The frame.append method is deprecated and will be removed from pandas in a future version. Use pandas.concat instead.\n",
            "  df = df.append(current_dict, ignore_index=True)\n"
          ]
        },
        {
          "output_type": "stream",
          "name": "stdout",
          "text": [
            "\n",
            " \tWe have already have 41.48% of the data!! link: https://icelandmonitor.mbl.is/news/politics_and_society/2022/11/16/an_accident_at_the_akranes_sports_hall/\n",
            "\n"
          ]
        },
        {
          "output_type": "stream",
          "name": "stderr",
          "text": [
            "<ipython-input-24-20d67951d720>:21: FutureWarning: The frame.append method is deprecated and will be removed from pandas in a future version. Use pandas.concat instead.\n",
            "  df = df.append(current_dict, ignore_index=True)\n"
          ]
        },
        {
          "output_type": "stream",
          "name": "stdout",
          "text": [
            "\n",
            " \tWe have already have 41.7% of the data!! link: https://icelandmonitor.mbl.is/news/politics_and_society/2022/09/20/the_real_estate_market_is_cooling/\n",
            "\n"
          ]
        },
        {
          "output_type": "stream",
          "name": "stderr",
          "text": [
            "<ipython-input-24-20d67951d720>:21: FutureWarning: The frame.append method is deprecated and will be removed from pandas in a future version. Use pandas.concat instead.\n",
            "  df = df.append(current_dict, ignore_index=True)\n"
          ]
        },
        {
          "output_type": "stream",
          "name": "stdout",
          "text": [
            "\n",
            " \tWe have already have 41.93% of the data!! link: https://icelandmonitor.mbl.is/news/politics_and_society/2022/09/14/71_prosent_in_favour_of_a_rent_ceiling/\n",
            "\n"
          ]
        },
        {
          "output_type": "stream",
          "name": "stderr",
          "text": [
            "<ipython-input-24-20d67951d720>:21: FutureWarning: The frame.append method is deprecated and will be removed from pandas in a future version. Use pandas.concat instead.\n",
            "  df = df.append(current_dict, ignore_index=True)\n"
          ]
        },
        {
          "output_type": "stream",
          "name": "stdout",
          "text": [
            "\n",
            " \tWe have already have 42.15% of the data!! link: https://icelandmonitor.mbl.is/news/news/2023/03/12/found_a_stunning_cave_by_accident/\n",
            "\n"
          ]
        },
        {
          "output_type": "stream",
          "name": "stderr",
          "text": [
            "<ipython-input-24-20d67951d720>:21: FutureWarning: The frame.append method is deprecated and will be removed from pandas in a future version. Use pandas.concat instead.\n",
            "  df = df.append(current_dict, ignore_index=True)\n"
          ]
        },
        {
          "output_type": "stream",
          "name": "stdout",
          "text": [
            "\n",
            " \tWe have already have 42.38% of the data!! link: https://icelandmonitor.mbl.is/news/eat_and_drink/2018/03/27/eleven_new_restaurants_for_the_hip_grandi_harbour_d/\n",
            "\n"
          ]
        },
        {
          "output_type": "stream",
          "name": "stderr",
          "text": [
            "<ipython-input-24-20d67951d720>:21: FutureWarning: The frame.append method is deprecated and will be removed from pandas in a future version. Use pandas.concat instead.\n",
            "  df = df.append(current_dict, ignore_index=True)\n"
          ]
        },
        {
          "output_type": "stream",
          "name": "stdout",
          "text": [
            "\n",
            " \tWe have already have 42.6% of the data!! link: https://icelandmonitor.mbl.is/news/nature_and_travel/2022/01/14/collision_with_truck_narrowly_averted_video/\n",
            "\n"
          ]
        },
        {
          "output_type": "stream",
          "name": "stderr",
          "text": [
            "<ipython-input-24-20d67951d720>:21: FutureWarning: The frame.append method is deprecated and will be removed from pandas in a future version. Use pandas.concat instead.\n",
            "  df = df.append(current_dict, ignore_index=True)\n"
          ]
        },
        {
          "output_type": "stream",
          "name": "stdout",
          "text": [
            "\n",
            " \tWe have already have 42.83% of the data!! link: https://icelandmonitor.mbl.is/news/culture_and_living/2022/11/18/a_billboard_from_icelandic_tourist_board_sent_to_sp/\n",
            "\n"
          ]
        },
        {
          "output_type": "stream",
          "name": "stderr",
          "text": [
            "<ipython-input-24-20d67951d720>:21: FutureWarning: The frame.append method is deprecated and will be removed from pandas in a future version. Use pandas.concat instead.\n",
            "  df = df.append(current_dict, ignore_index=True)\n"
          ]
        },
        {
          "output_type": "stream",
          "name": "stdout",
          "text": [
            "\n",
            " \tWe have already have 43.05% of the data!! link: https://icelandmonitor.mbl.is/news/eat_and_drink/2017/11/24/icelandic_leaf_bread_workshop_on_videy_island/\n",
            "\n"
          ]
        },
        {
          "output_type": "stream",
          "name": "stderr",
          "text": [
            "<ipython-input-24-20d67951d720>:21: FutureWarning: The frame.append method is deprecated and will be removed from pandas in a future version. Use pandas.concat instead.\n",
            "  df = df.append(current_dict, ignore_index=True)\n"
          ]
        },
        {
          "output_type": "stream",
          "name": "stdout",
          "text": [
            "\n",
            " \tWe have already have 43.27% of the data!! link: https://icelandmonitor.mbl.is/news/nature_and_travel/2022/08/05/the_eruption_is_magical_at_the_night_time/\n",
            "\n"
          ]
        },
        {
          "output_type": "stream",
          "name": "stderr",
          "text": [
            "<ipython-input-24-20d67951d720>:21: FutureWarning: The frame.append method is deprecated and will be removed from pandas in a future version. Use pandas.concat instead.\n",
            "  df = df.append(current_dict, ignore_index=True)\n"
          ]
        },
        {
          "output_type": "stream",
          "name": "stdout",
          "text": [
            "\n",
            " \tWe have already have 43.5% of the data!! link: https://icelandmonitor.mbl.is/news/eat_and_drink/2017/11/15/enjoy_a_silence_meal_at_the_nordic_house/\n",
            "\n"
          ]
        },
        {
          "output_type": "stream",
          "name": "stderr",
          "text": [
            "<ipython-input-24-20d67951d720>:21: FutureWarning: The frame.append method is deprecated and will be removed from pandas in a future version. Use pandas.concat instead.\n",
            "  df = df.append(current_dict, ignore_index=True)\n"
          ]
        },
        {
          "output_type": "stream",
          "name": "stdout",
          "text": [
            "\n",
            " \tWe have already have 43.72% of the data!! link: https://icelandmonitor.mbl.is/news/politics_and_society/2022/09/15/there_are_two_options_on_the_table/\n",
            "\n"
          ]
        },
        {
          "output_type": "stream",
          "name": "stderr",
          "text": [
            "<ipython-input-24-20d67951d720>:21: FutureWarning: The frame.append method is deprecated and will be removed from pandas in a future version. Use pandas.concat instead.\n",
            "  df = df.append(current_dict, ignore_index=True)\n"
          ]
        },
        {
          "output_type": "stream",
          "name": "stdout",
          "text": [
            "\n",
            " \tWe have already have 43.95% of the data!! link: https://icelandmonitor.mbl.is/news/nature_and_travel/2022/08/07/close_access_to_the_eruption_site_due_to_weather/\n",
            "\n"
          ]
        },
        {
          "output_type": "stream",
          "name": "stderr",
          "text": [
            "<ipython-input-24-20d67951d720>:21: FutureWarning: The frame.append method is deprecated and will be removed from pandas in a future version. Use pandas.concat instead.\n",
            "  df = df.append(current_dict, ignore_index=True)\n"
          ]
        },
        {
          "output_type": "stream",
          "name": "stdout",
          "text": [
            "\n",
            " \tWe have already have 44.17% of the data!! link: https://icelandmonitor.mbl.is/news/nature_and_travel/2022/02/10/narrow_escape_from_avalanche_video/\n",
            "\n"
          ]
        },
        {
          "output_type": "stream",
          "name": "stderr",
          "text": [
            "<ipython-input-24-20d67951d720>:21: FutureWarning: The frame.append method is deprecated and will be removed from pandas in a future version. Use pandas.concat instead.\n",
            "  df = df.append(current_dict, ignore_index=True)\n"
          ]
        },
        {
          "output_type": "stream",
          "name": "stdout",
          "text": [
            "\n",
            " \tWe have already have 44.39% of the data!! link: https://icelandmonitor.mbl.is/news/politics_and_society/2022/09/26/denies_planning_terror_attacks/\n",
            "\n"
          ]
        },
        {
          "output_type": "stream",
          "name": "stderr",
          "text": [
            "<ipython-input-24-20d67951d720>:21: FutureWarning: The frame.append method is deprecated and will be removed from pandas in a future version. Use pandas.concat instead.\n",
            "  df = df.append(current_dict, ignore_index=True)\n"
          ]
        },
        {
          "output_type": "stream",
          "name": "stdout",
          "text": [
            "\n",
            " \tWe have already have 44.62% of the data!! link: https://icelandmonitor.mbl.is/news/nature_and_travel/2022/03/28/road_closure_due_to_filming_near_kleifarvatn_lake/\n",
            "\n"
          ]
        },
        {
          "output_type": "stream",
          "name": "stderr",
          "text": [
            "<ipython-input-24-20d67951d720>:21: FutureWarning: The frame.append method is deprecated and will be removed from pandas in a future version. Use pandas.concat instead.\n",
            "  df = df.append(current_dict, ignore_index=True)\n"
          ]
        },
        {
          "output_type": "stream",
          "name": "stdout",
          "text": [
            "\n",
            " \tWe have already have 44.84% of the data!! link: https://icelandmonitor.mbl.is/news/politics_and_society/2022/05/23/only_one_way_to_form_a_working_majority/\n",
            "\n"
          ]
        },
        {
          "output_type": "stream",
          "name": "stderr",
          "text": [
            "<ipython-input-24-20d67951d720>:21: FutureWarning: The frame.append method is deprecated and will be removed from pandas in a future version. Use pandas.concat instead.\n",
            "  df = df.append(current_dict, ignore_index=True)\n"
          ]
        },
        {
          "output_type": "stream",
          "name": "stdout",
          "text": [
            "\n",
            " \tWe have already have 45.07% of the data!! link: https://icelandmonitor.mbl.is/news/politics_and_society/2022/02/28/icelandic_airspace_closed_to_russian_air_traffic/\n",
            "\n"
          ]
        },
        {
          "output_type": "stream",
          "name": "stderr",
          "text": [
            "<ipython-input-24-20d67951d720>:21: FutureWarning: The frame.append method is deprecated and will be removed from pandas in a future version. Use pandas.concat instead.\n",
            "  df = df.append(current_dict, ignore_index=True)\n"
          ]
        },
        {
          "output_type": "stream",
          "name": "stdout",
          "text": [
            "\n",
            " \tWe have already have 45.29% of the data!! link: https://icelandmonitor.mbl.is/news/politics_and_society/2022/06/24/malfunction_in_hosting_services_of_advania_impacted/\n",
            "\n"
          ]
        },
        {
          "output_type": "stream",
          "name": "stderr",
          "text": [
            "<ipython-input-24-20d67951d720>:21: FutureWarning: The frame.append method is deprecated and will be removed from pandas in a future version. Use pandas.concat instead.\n",
            "  df = df.append(current_dict, ignore_index=True)\n"
          ]
        },
        {
          "output_type": "stream",
          "name": "stdout",
          "text": [
            "\n",
            " \tWe have already have 45.52% of the data!! link: https://icelandmonitor.mbl.is/news/culture_and_living/2022/01/08/not_about_to_give_up_after_amputation/\n",
            "\n"
          ]
        },
        {
          "output_type": "stream",
          "name": "stderr",
          "text": [
            "<ipython-input-24-20d67951d720>:21: FutureWarning: The frame.append method is deprecated and will be removed from pandas in a future version. Use pandas.concat instead.\n",
            "  df = df.append(current_dict, ignore_index=True)\n"
          ]
        },
        {
          "output_type": "stream",
          "name": "stdout",
          "text": [
            "\n",
            " \tWe have already have 45.74% of the data!! link: https://icelandmonitor.mbl.is/news/politics_and_society/2022/04/01/most_expensive_in_europe_switzerland_and_iceland/\n",
            "\n"
          ]
        },
        {
          "output_type": "stream",
          "name": "stderr",
          "text": [
            "<ipython-input-24-20d67951d720>:21: FutureWarning: The frame.append method is deprecated and will be removed from pandas in a future version. Use pandas.concat instead.\n",
            "  df = df.append(current_dict, ignore_index=True)\n"
          ]
        },
        {
          "output_type": "stream",
          "name": "stdout",
          "text": [
            "\n",
            " \tWe have already have 45.96% of the data!! link: https://icelandmonitor.mbl.is/news/nature_and_travel/2022/08/02/nine_post_earthquakes_bigger_than_3m/\n",
            "\n"
          ]
        },
        {
          "output_type": "stream",
          "name": "stderr",
          "text": [
            "<ipython-input-24-20d67951d720>:21: FutureWarning: The frame.append method is deprecated and will be removed from pandas in a future version. Use pandas.concat instead.\n",
            "  df = df.append(current_dict, ignore_index=True)\n"
          ]
        },
        {
          "output_type": "stream",
          "name": "stdout",
          "text": [
            "\n",
            " \tWe have already have 46.19% of the data!! link: https://icelandmonitor.mbl.is/news/culture_and_living/2022/03/13/eleven_year_old_icelandic_lord/\n",
            "\n"
          ]
        },
        {
          "output_type": "stream",
          "name": "stderr",
          "text": [
            "<ipython-input-24-20d67951d720>:21: FutureWarning: The frame.append method is deprecated and will be removed from pandas in a future version. Use pandas.concat instead.\n",
            "  df = df.append(current_dict, ignore_index=True)\n"
          ]
        },
        {
          "output_type": "stream",
          "name": "stdout",
          "text": [
            "\n",
            " \tWe have already have 46.41% of the data!! link: https://icelandmonitor.mbl.is/news/politics_and_society/2022/07/28/untraditional_sign_coming_to_iceland/\n",
            "\n"
          ]
        },
        {
          "output_type": "stream",
          "name": "stderr",
          "text": [
            "<ipython-input-24-20d67951d720>:21: FutureWarning: The frame.append method is deprecated and will be removed from pandas in a future version. Use pandas.concat instead.\n",
            "  df = df.append(current_dict, ignore_index=True)\n"
          ]
        },
        {
          "output_type": "stream",
          "name": "stdout",
          "text": [
            "\n",
            " \tWe have already have 46.64% of the data!! link: https://icelandmonitor.mbl.is/news/politics_and_society/2022/11/25/pace_is_meeting_in_reykjavik_today/\n",
            "\n"
          ]
        },
        {
          "output_type": "stream",
          "name": "stderr",
          "text": [
            "<ipython-input-24-20d67951d720>:21: FutureWarning: The frame.append method is deprecated and will be removed from pandas in a future version. Use pandas.concat instead.\n",
            "  df = df.append(current_dict, ignore_index=True)\n"
          ]
        },
        {
          "output_type": "stream",
          "name": "stdout",
          "text": [
            "\n",
            " \tWe have already have 46.86% of the data!! link: https://icelandmonitor.mbl.is/news/nature_and_travel/2022/06/22/need_to_ensure_the_safety_of_visitors/\n",
            "\n"
          ]
        },
        {
          "output_type": "stream",
          "name": "stderr",
          "text": [
            "<ipython-input-24-20d67951d720>:21: FutureWarning: The frame.append method is deprecated and will be removed from pandas in a future version. Use pandas.concat instead.\n",
            "  df = df.append(current_dict, ignore_index=True)\n"
          ]
        },
        {
          "output_type": "stream",
          "name": "stdout",
          "text": [
            "\n",
            " \tWe have already have 47.09% of the data!! link: https://icelandmonitor.mbl.is/news/culture_and_living/2022/11/14/huge_turnout_at_a_book_signing_and_some_had_to_leav/\n",
            "\n"
          ]
        },
        {
          "output_type": "stream",
          "name": "stderr",
          "text": [
            "<ipython-input-24-20d67951d720>:21: FutureWarning: The frame.append method is deprecated and will be removed from pandas in a future version. Use pandas.concat instead.\n",
            "  df = df.append(current_dict, ignore_index=True)\n"
          ]
        },
        {
          "output_type": "stream",
          "name": "stdout",
          "text": [
            "\n",
            " \tWe have already have 47.31% of the data!! link: https://icelandmonitor.mbl.is/news/nature_and_travel/2022/10/02/iceland_a_favourite_with_this_celebrity/\n",
            "\n"
          ]
        },
        {
          "output_type": "stream",
          "name": "stderr",
          "text": [
            "<ipython-input-24-20d67951d720>:21: FutureWarning: The frame.append method is deprecated and will be removed from pandas in a future version. Use pandas.concat instead.\n",
            "  df = df.append(current_dict, ignore_index=True)\n"
          ]
        },
        {
          "output_type": "stream",
          "name": "stdout",
          "text": [
            "\n",
            " \tWe have already have 47.53% of the data!! link: https://icelandmonitor.mbl.is/news/culture_and_living/2021/10/21/proof_of_viking_presence_in_north_america_in_1021/\n",
            "\n"
          ]
        },
        {
          "output_type": "stream",
          "name": "stderr",
          "text": [
            "<ipython-input-24-20d67951d720>:21: FutureWarning: The frame.append method is deprecated and will be removed from pandas in a future version. Use pandas.concat instead.\n",
            "  df = df.append(current_dict, ignore_index=True)\n"
          ]
        },
        {
          "output_type": "stream",
          "name": "stdout",
          "text": [
            "\n",
            " \tWe have already have 47.76% of the data!! link: https://icelandmonitor.mbl.is/news/eat_and_drink/2018/09/10/a_touch_of_london_in_reykjavik_afternoon_tea_at_apo/\n",
            "\n"
          ]
        },
        {
          "output_type": "stream",
          "name": "stderr",
          "text": [
            "<ipython-input-24-20d67951d720>:21: FutureWarning: The frame.append method is deprecated and will be removed from pandas in a future version. Use pandas.concat instead.\n",
            "  df = df.append(current_dict, ignore_index=True)\n"
          ]
        },
        {
          "output_type": "stream",
          "name": "stdout",
          "text": [
            "\n",
            " \tWe have already have 47.98% of the data!! link: https://icelandmonitor.mbl.is/news/eat_and_drink/2017/09/19/man_finds_dead_rodent_in_salad_at_reykjavik_restaur/\n",
            "\n"
          ]
        },
        {
          "output_type": "stream",
          "name": "stderr",
          "text": [
            "<ipython-input-24-20d67951d720>:21: FutureWarning: The frame.append method is deprecated and will be removed from pandas in a future version. Use pandas.concat instead.\n",
            "  df = df.append(current_dict, ignore_index=True)\n"
          ]
        },
        {
          "output_type": "stream",
          "name": "stdout",
          "text": [
            "\n",
            " \tWe have already have 48.21% of the data!! link: https://icelandmonitor.mbl.is/news/politics_and_society/2022/08/18/never_more_vacant_jobs_than_now/\n",
            "\n"
          ]
        },
        {
          "output_type": "stream",
          "name": "stderr",
          "text": [
            "<ipython-input-24-20d67951d720>:21: FutureWarning: The frame.append method is deprecated and will be removed from pandas in a future version. Use pandas.concat instead.\n",
            "  df = df.append(current_dict, ignore_index=True)\n"
          ]
        },
        {
          "output_type": "stream",
          "name": "stdout",
          "text": [
            "\n",
            " \tWe have already have 48.43% of the data!! link: https://icelandmonitor.mbl.is/news/culture_and_living/2023/01/07/celebrating_the_last_day_of_christmas/\n",
            "\n"
          ]
        },
        {
          "output_type": "stream",
          "name": "stderr",
          "text": [
            "<ipython-input-24-20d67951d720>:21: FutureWarning: The frame.append method is deprecated and will be removed from pandas in a future version. Use pandas.concat instead.\n",
            "  df = df.append(current_dict, ignore_index=True)\n"
          ]
        },
        {
          "output_type": "stream",
          "name": "stdout",
          "text": [
            "\n",
            " \tWe have already have 48.65% of the data!! link: https://icelandmonitor.mbl.is/news/politics_and_society/2022/10/31/mowi_buys_shares_in_arctic_fish/\n",
            "\n"
          ]
        },
        {
          "output_type": "stream",
          "name": "stderr",
          "text": [
            "<ipython-input-24-20d67951d720>:21: FutureWarning: The frame.append method is deprecated and will be removed from pandas in a future version. Use pandas.concat instead.\n",
            "  df = df.append(current_dict, ignore_index=True)\n"
          ]
        },
        {
          "output_type": "stream",
          "name": "stdout",
          "text": [
            "\n",
            " \tWe have already have 48.88% of the data!! link: https://icelandmonitor.mbl.is/news/eat_and_drink/2019/05/04/food_market_planned_in_laugardalur/\n",
            "\n"
          ]
        },
        {
          "output_type": "stream",
          "name": "stderr",
          "text": [
            "<ipython-input-24-20d67951d720>:21: FutureWarning: The frame.append method is deprecated and will be removed from pandas in a future version. Use pandas.concat instead.\n",
            "  df = df.append(current_dict, ignore_index=True)\n"
          ]
        },
        {
          "output_type": "stream",
          "name": "stdout",
          "text": [
            "\n",
            " \tWe have already have 49.1% of the data!! link: https://icelandmonitor.mbl.is/news/nature_and_travel/2022/02/03/record_number_of_collisions_in_capital_area_this_mo/\n",
            "\n"
          ]
        },
        {
          "output_type": "stream",
          "name": "stderr",
          "text": [
            "<ipython-input-24-20d67951d720>:21: FutureWarning: The frame.append method is deprecated and will be removed from pandas in a future version. Use pandas.concat instead.\n",
            "  df = df.append(current_dict, ignore_index=True)\n"
          ]
        },
        {
          "output_type": "stream",
          "name": "stdout",
          "text": [
            "\n",
            " \tWe have already have 49.33% of the data!! link: https://icelandmonitor.mbl.is/news/culture_and_living/2022/05/27/grab_your_stilettos_we_re_going_hiking/\n",
            "\n"
          ]
        },
        {
          "output_type": "stream",
          "name": "stderr",
          "text": [
            "<ipython-input-24-20d67951d720>:21: FutureWarning: The frame.append method is deprecated and will be removed from pandas in a future version. Use pandas.concat instead.\n",
            "  df = df.append(current_dict, ignore_index=True)\n"
          ]
        },
        {
          "output_type": "stream",
          "name": "stdout",
          "text": [
            "\n",
            " \tWe have already have 49.55% of the data!! link: https://icelandmonitor.mbl.is/news/nature_and_travel/2022/08/01/over_ten_thousand_earthquakes_detected_over_the_wee/\n",
            "\n"
          ]
        },
        {
          "output_type": "stream",
          "name": "stderr",
          "text": [
            "<ipython-input-24-20d67951d720>:21: FutureWarning: The frame.append method is deprecated and will be removed from pandas in a future version. Use pandas.concat instead.\n",
            "  df = df.append(current_dict, ignore_index=True)\n"
          ]
        },
        {
          "output_type": "stream",
          "name": "stdout",
          "text": [
            "\n",
            " \tWe have already have 49.78% of the data!! link: https://icelandmonitor.mbl.is/news/culture_and_living/2022/06/16/first_salmon_of_the_season_in_east_ranga/\n",
            "\n"
          ]
        },
        {
          "output_type": "stream",
          "name": "stderr",
          "text": [
            "<ipython-input-24-20d67951d720>:21: FutureWarning: The frame.append method is deprecated and will be removed from pandas in a future version. Use pandas.concat instead.\n",
            "  df = df.append(current_dict, ignore_index=True)\n"
          ]
        },
        {
          "output_type": "stream",
          "name": "stdout",
          "text": [
            "\n",
            " \tWe have already have 50.0% of the data!! link: https://icelandmonitor.mbl.is/news/eat_and_drink/2017/07/27/the_world_s_best_hot_dog_stand_moves/\n",
            "\n"
          ]
        },
        {
          "output_type": "stream",
          "name": "stderr",
          "text": [
            "<ipython-input-24-20d67951d720>:21: FutureWarning: The frame.append method is deprecated and will be removed from pandas in a future version. Use pandas.concat instead.\n",
            "  df = df.append(current_dict, ignore_index=True)\n"
          ]
        },
        {
          "output_type": "stream",
          "name": "stdout",
          "text": [
            "\n",
            " \tWe have already have 50.22% of the data!! link: https://icelandmonitor.mbl.is/news/eat_and_drink/2019/02/18/skal_receives_a_bib_gourmand_michelin_award/\n",
            "\n"
          ]
        },
        {
          "output_type": "stream",
          "name": "stderr",
          "text": [
            "<ipython-input-24-20d67951d720>:21: FutureWarning: The frame.append method is deprecated and will be removed from pandas in a future version. Use pandas.concat instead.\n",
            "  df = df.append(current_dict, ignore_index=True)\n"
          ]
        },
        {
          "output_type": "stream",
          "name": "stdout",
          "text": [
            "\n",
            " \tWe have already have 50.45% of the data!! link: https://icelandmonitor.mbl.is/news/politics_and_society/2022/03/17/ukrainian_babies_unable_to_come_to_iceland/\n",
            "\n"
          ]
        },
        {
          "output_type": "stream",
          "name": "stderr",
          "text": [
            "<ipython-input-24-20d67951d720>:21: FutureWarning: The frame.append method is deprecated and will be removed from pandas in a future version. Use pandas.concat instead.\n",
            "  df = df.append(current_dict, ignore_index=True)\n"
          ]
        },
        {
          "output_type": "stream",
          "name": "stdout",
          "text": [
            "\n",
            " \tWe have already have 50.67% of the data!! link: https://icelandmonitor.mbl.is/news/eat_and_drink/2022/07/12/vogue_picks_the_top_bars_in_reykjavik/\n",
            "\n"
          ]
        },
        {
          "output_type": "stream",
          "name": "stderr",
          "text": [
            "<ipython-input-24-20d67951d720>:21: FutureWarning: The frame.append method is deprecated and will be removed from pandas in a future version. Use pandas.concat instead.\n",
            "  df = df.append(current_dict, ignore_index=True)\n"
          ]
        },
        {
          "output_type": "stream",
          "name": "stdout",
          "text": [
            "\n",
            " \tWe have already have 50.9% of the data!! link: https://icelandmonitor.mbl.is/news/nature_and_travel/2022/02/14/numerous_roads_closed_after_heavy_snowfall/\n",
            "\n"
          ]
        },
        {
          "output_type": "stream",
          "name": "stderr",
          "text": [
            "<ipython-input-24-20d67951d720>:21: FutureWarning: The frame.append method is deprecated and will be removed from pandas in a future version. Use pandas.concat instead.\n",
            "  df = df.append(current_dict, ignore_index=True)\n"
          ]
        },
        {
          "output_type": "stream",
          "name": "stdout",
          "text": [
            "\n",
            " \tWe have already have 51.12% of the data!! link: https://icelandmonitor.mbl.is/news/politics_and_society/2022/10/13/the_wife_had_stabbed_her_husband_last_march_and_a_h/\n",
            "\n"
          ]
        },
        {
          "output_type": "stream",
          "name": "stderr",
          "text": [
            "<ipython-input-24-20d67951d720>:21: FutureWarning: The frame.append method is deprecated and will be removed from pandas in a future version. Use pandas.concat instead.\n",
            "  df = df.append(current_dict, ignore_index=True)\n"
          ]
        },
        {
          "output_type": "stream",
          "name": "stdout",
          "text": [
            "\n",
            " \tWe have already have 51.35% of the data!! link: https://icelandmonitor.mbl.is/news/politics_and_society/2022/10/03/four_people_arrested_in_olafsfjordur_in_a_murder_ca/\n",
            "\n"
          ]
        },
        {
          "output_type": "stream",
          "name": "stderr",
          "text": [
            "<ipython-input-24-20d67951d720>:21: FutureWarning: The frame.append method is deprecated and will be removed from pandas in a future version. Use pandas.concat instead.\n",
            "  df = df.append(current_dict, ignore_index=True)\n"
          ]
        },
        {
          "output_type": "stream",
          "name": "stdout",
          "text": [
            "\n",
            " \tWe have already have 51.57% of the data!! link: https://icelandmonitor.mbl.is/news/eat_and_drink/2018/09/17/new_mexican_restaurant_opens_in_west_reykjavik/\n",
            "\n"
          ]
        },
        {
          "output_type": "stream",
          "name": "stderr",
          "text": [
            "<ipython-input-24-20d67951d720>:21: FutureWarning: The frame.append method is deprecated and will be removed from pandas in a future version. Use pandas.concat instead.\n",
            "  df = df.append(current_dict, ignore_index=True)\n"
          ]
        },
        {
          "output_type": "stream",
          "name": "stdout",
          "text": [
            "\n",
            " \tWe have already have 51.79% of the data!! link: https://icelandmonitor.mbl.is/news/culture_and_living/2021/10/15/lazytown_experience_park_planned_in_borgarnes/\n",
            "\n"
          ]
        },
        {
          "output_type": "stream",
          "name": "stderr",
          "text": [
            "<ipython-input-24-20d67951d720>:21: FutureWarning: The frame.append method is deprecated and will be removed from pandas in a future version. Use pandas.concat instead.\n",
            "  df = df.append(current_dict, ignore_index=True)\n"
          ]
        },
        {
          "output_type": "stream",
          "name": "stdout",
          "text": [
            "\n",
            " \tWe have already have 52.02% of the data!! link: https://icelandmonitor.mbl.is/news/nature_and_travel/2022/02/18/severe_damage_due_to_off_road_driving/\n",
            "\n"
          ]
        },
        {
          "output_type": "stream",
          "name": "stderr",
          "text": [
            "<ipython-input-24-20d67951d720>:21: FutureWarning: The frame.append method is deprecated and will be removed from pandas in a future version. Use pandas.concat instead.\n",
            "  df = df.append(current_dict, ignore_index=True)\n"
          ]
        },
        {
          "output_type": "stream",
          "name": "stdout",
          "text": [
            "\n",
            " \tWe have already have 52.24% of the data!! link: https://icelandmonitor.mbl.is/news/eat_and_drink/2017/06/04/new_french_foodstore_opens_in_reykjavik_city_centre/\n",
            "\n"
          ]
        },
        {
          "output_type": "stream",
          "name": "stderr",
          "text": [
            "<ipython-input-24-20d67951d720>:21: FutureWarning: The frame.append method is deprecated and will be removed from pandas in a future version. Use pandas.concat instead.\n",
            "  df = df.append(current_dict, ignore_index=True)\n"
          ]
        },
        {
          "output_type": "stream",
          "name": "stdout",
          "text": [
            "\n",
            " \tWe have already have 52.47% of the data!! link: https://icelandmonitor.mbl.is/news/eat_and_drink/2017/06/07/sheep_head_beer_a_nordic_collaboration/\n",
            "\n"
          ]
        },
        {
          "output_type": "stream",
          "name": "stderr",
          "text": [
            "<ipython-input-24-20d67951d720>:21: FutureWarning: The frame.append method is deprecated and will be removed from pandas in a future version. Use pandas.concat instead.\n",
            "  df = df.append(current_dict, ignore_index=True)\n"
          ]
        },
        {
          "output_type": "stream",
          "name": "stdout",
          "text": [
            "\n",
            " \tWe have already have 52.69% of the data!! link: https://icelandmonitor.mbl.is/news/culture_and_living/2022/05/10/iceland_gets_into_the_finals_in_eurovision/\n",
            "\n"
          ]
        },
        {
          "output_type": "stream",
          "name": "stderr",
          "text": [
            "<ipython-input-24-20d67951d720>:21: FutureWarning: The frame.append method is deprecated and will be removed from pandas in a future version. Use pandas.concat instead.\n",
            "  df = df.append(current_dict, ignore_index=True)\n"
          ]
        },
        {
          "output_type": "stream",
          "name": "stdout",
          "text": [
            "\n",
            " \tWe have already have 52.91% of the data!! link: https://icelandmonitor.mbl.is/news/culture_and_living/2022/08/06/pride_parade_is_coming_back_bigger_and_better_after/\n",
            "\n"
          ]
        },
        {
          "output_type": "stream",
          "name": "stderr",
          "text": [
            "<ipython-input-24-20d67951d720>:21: FutureWarning: The frame.append method is deprecated and will be removed from pandas in a future version. Use pandas.concat instead.\n",
            "  df = df.append(current_dict, ignore_index=True)\n"
          ]
        },
        {
          "output_type": "stream",
          "name": "stdout",
          "text": [
            "\n",
            " \tWe have already have 53.14% of the data!! link: https://icelandmonitor.mbl.is/news/eat_and_drink/2018/11/16/icelandic_skyr_wins_best_skyr_competition/\n",
            "\n"
          ]
        },
        {
          "output_type": "stream",
          "name": "stderr",
          "text": [
            "<ipython-input-24-20d67951d720>:21: FutureWarning: The frame.append method is deprecated and will be removed from pandas in a future version. Use pandas.concat instead.\n",
            "  df = df.append(current_dict, ignore_index=True)\n"
          ]
        },
        {
          "output_type": "stream",
          "name": "stdout",
          "text": [
            "\n",
            " \tWe have already have 53.36% of the data!! link: https://icelandmonitor.mbl.is/news/nature_and_travel/2022/06/19/won_the_1st_price_for_the_best_photograph/\n",
            "\n"
          ]
        },
        {
          "output_type": "stream",
          "name": "stderr",
          "text": [
            "<ipython-input-24-20d67951d720>:21: FutureWarning: The frame.append method is deprecated and will be removed from pandas in a future version. Use pandas.concat instead.\n",
            "  df = df.append(current_dict, ignore_index=True)\n"
          ]
        },
        {
          "output_type": "stream",
          "name": "stdout",
          "text": [
            "\n",
            " \tWe have already have 53.59% of the data!! link: https://icelandmonitor.mbl.is/news/politics_and_society/2022/05/17/political_intrigue_in_reykjavik/\n",
            "\n"
          ]
        },
        {
          "output_type": "stream",
          "name": "stderr",
          "text": [
            "<ipython-input-24-20d67951d720>:21: FutureWarning: The frame.append method is deprecated and will be removed from pandas in a future version. Use pandas.concat instead.\n",
            "  df = df.append(current_dict, ignore_index=True)\n"
          ]
        },
        {
          "output_type": "stream",
          "name": "stdout",
          "text": [
            "\n",
            " \tWe have already have 53.81% of the data!! link: https://icelandmonitor.mbl.is/news/eat_and_drink/2019/02/17/danish_low_cost_supermarket_to_open_in_central_reyk/\n",
            "\n"
          ]
        },
        {
          "output_type": "stream",
          "name": "stderr",
          "text": [
            "<ipython-input-24-20d67951d720>:21: FutureWarning: The frame.append method is deprecated and will be removed from pandas in a future version. Use pandas.concat instead.\n",
            "  df = df.append(current_dict, ignore_index=True)\n"
          ]
        },
        {
          "output_type": "stream",
          "name": "stdout",
          "text": [
            "\n",
            " \tWe have already have 54.04% of the data!! link: https://icelandmonitor.mbl.is/news/culture_and_living/2022/06/08/like_swimmingin_a_washing_machine/\n",
            "\n"
          ]
        },
        {
          "output_type": "stream",
          "name": "stderr",
          "text": [
            "<ipython-input-24-20d67951d720>:21: FutureWarning: The frame.append method is deprecated and will be removed from pandas in a future version. Use pandas.concat instead.\n",
            "  df = df.append(current_dict, ignore_index=True)\n"
          ]
        },
        {
          "output_type": "stream",
          "name": "stdout",
          "text": [
            "\n",
            " \tWe have already have 54.26% of the data!! link: https://icelandmonitor.mbl.is/news/culture_and_living/2022/08/31/nine_days_of_gathering_sheep_starts_today/\n",
            "\n"
          ]
        },
        {
          "output_type": "stream",
          "name": "stderr",
          "text": [
            "<ipython-input-24-20d67951d720>:21: FutureWarning: The frame.append method is deprecated and will be removed from pandas in a future version. Use pandas.concat instead.\n",
            "  df = df.append(current_dict, ignore_index=True)\n"
          ]
        },
        {
          "output_type": "stream",
          "name": "stdout",
          "text": [
            "\n",
            " \tWe have already have 54.48% of the data!! link: https://icelandmonitor.mbl.is/news/news/2023/03/10/the_national_court_confirms_the_dismissal_of_the_te/\n",
            "\n"
          ]
        },
        {
          "output_type": "stream",
          "name": "stderr",
          "text": [
            "<ipython-input-24-20d67951d720>:21: FutureWarning: The frame.append method is deprecated and will be removed from pandas in a future version. Use pandas.concat instead.\n",
            "  df = df.append(current_dict, ignore_index=True)\n"
          ]
        },
        {
          "output_type": "stream",
          "name": "stdout",
          "text": [
            "\n",
            " \tWe have already have 54.71% of the data!! link: https://icelandmonitor.mbl.is/news/nature_and_travel/2022/05/16/uncertainty_level_announced_yesterday_due_to_earthq/\n",
            "\n"
          ]
        },
        {
          "output_type": "stream",
          "name": "stderr",
          "text": [
            "<ipython-input-24-20d67951d720>:21: FutureWarning: The frame.append method is deprecated and will be removed from pandas in a future version. Use pandas.concat instead.\n",
            "  df = df.append(current_dict, ignore_index=True)\n"
          ]
        },
        {
          "output_type": "stream",
          "name": "stdout",
          "text": [
            "\n",
            " \tWe have already have 54.93% of the data!! link: https://icelandmonitor.mbl.is/news/politics_and_society/2022/11/02/father_of_the_national_police_chief_allegedly_sold_/\n",
            "\n"
          ]
        },
        {
          "output_type": "stream",
          "name": "stderr",
          "text": [
            "<ipython-input-24-20d67951d720>:21: FutureWarning: The frame.append method is deprecated and will be removed from pandas in a future version. Use pandas.concat instead.\n",
            "  df = df.append(current_dict, ignore_index=True)\n"
          ]
        },
        {
          "output_type": "stream",
          "name": "stdout",
          "text": [
            "\n",
            " \tWe have already have 55.16% of the data!! link: https://icelandmonitor.mbl.is/news/politics_and_society/2022/03/08/iceland_on_a_list_of_unfriendly_countries/\n",
            "\n"
          ]
        },
        {
          "output_type": "stream",
          "name": "stderr",
          "text": [
            "<ipython-input-24-20d67951d720>:21: FutureWarning: The frame.append method is deprecated and will be removed from pandas in a future version. Use pandas.concat instead.\n",
            "  df = df.append(current_dict, ignore_index=True)\n"
          ]
        },
        {
          "output_type": "stream",
          "name": "stdout",
          "text": [
            "\n",
            " \tWe have already have 55.38% of the data!! link: https://icelandmonitor.mbl.is/news/culture_and_living/2022/05/07/running_in_the_westman_islands/\n",
            "\n"
          ]
        },
        {
          "output_type": "stream",
          "name": "stderr",
          "text": [
            "<ipython-input-24-20d67951d720>:21: FutureWarning: The frame.append method is deprecated and will be removed from pandas in a future version. Use pandas.concat instead.\n",
            "  df = df.append(current_dict, ignore_index=True)\n"
          ]
        },
        {
          "output_type": "stream",
          "name": "stdout",
          "text": [
            "\n",
            " \tWe have already have 55.61% of the data!! link: https://icelandmonitor.mbl.is/news/politics_and_society/2022/05/11/the_leader_of_pussy_riot_escaped_russia_with_the_he/\n",
            "\n"
          ]
        },
        {
          "output_type": "stream",
          "name": "stderr",
          "text": [
            "<ipython-input-24-20d67951d720>:21: FutureWarning: The frame.append method is deprecated and will be removed from pandas in a future version. Use pandas.concat instead.\n",
            "  df = df.append(current_dict, ignore_index=True)\n"
          ]
        },
        {
          "output_type": "stream",
          "name": "stdout",
          "text": [
            "\n",
            " \tWe have already have 55.83% of the data!! link: https://icelandmonitor.mbl.is/news/culture_and_living/2022/07/18/the_oldest_siblings_in_iceland/\n",
            "\n"
          ]
        },
        {
          "output_type": "stream",
          "name": "stderr",
          "text": [
            "<ipython-input-24-20d67951d720>:21: FutureWarning: The frame.append method is deprecated and will be removed from pandas in a future version. Use pandas.concat instead.\n",
            "  df = df.append(current_dict, ignore_index=True)\n"
          ]
        },
        {
          "output_type": "stream",
          "name": "stdout",
          "text": [
            "\n",
            " \tWe have already have 56.05% of the data!! link: https://icelandmonitor.mbl.is/news/politics_and_society/2022/03/18/iceland_said_to_have_removed_oligarch_from_eu_s_san/\n",
            "\n"
          ]
        },
        {
          "output_type": "stream",
          "name": "stderr",
          "text": [
            "<ipython-input-24-20d67951d720>:21: FutureWarning: The frame.append method is deprecated and will be removed from pandas in a future version. Use pandas.concat instead.\n",
            "  df = df.append(current_dict, ignore_index=True)\n"
          ]
        },
        {
          "output_type": "stream",
          "name": "stdout",
          "text": [
            "\n",
            " \tWe have already have 56.28% of the data!! link: https://icelandmonitor.mbl.is/news/politics_and_society/2022/10/31/eliminating_jobs_at_the_management_level/\n",
            "\n"
          ]
        },
        {
          "output_type": "stream",
          "name": "stderr",
          "text": [
            "<ipython-input-24-20d67951d720>:21: FutureWarning: The frame.append method is deprecated and will be removed from pandas in a future version. Use pandas.concat instead.\n",
            "  df = df.append(current_dict, ignore_index=True)\n"
          ]
        },
        {
          "output_type": "stream",
          "name": "stdout",
          "text": [
            "\n",
            " \tWe have already have 56.5% of the data!! link: https://icelandmonitor.mbl.is/news/nature_and_travel/2022/12/04/gunnarsson_reveals_his_travel_secrets/\n",
            "\n"
          ]
        },
        {
          "output_type": "stream",
          "name": "stderr",
          "text": [
            "<ipython-input-24-20d67951d720>:21: FutureWarning: The frame.append method is deprecated and will be removed from pandas in a future version. Use pandas.concat instead.\n",
            "  df = df.append(current_dict, ignore_index=True)\n"
          ]
        },
        {
          "output_type": "stream",
          "name": "stdout",
          "text": [
            "\n",
            " \tWe have already have 56.73% of the data!! link: https://icelandmonitor.mbl.is/news/news/2023/03/12/fired_a_shot_in_the_bar_dubliners_tonight/\n",
            "\n"
          ]
        },
        {
          "output_type": "stream",
          "name": "stderr",
          "text": [
            "<ipython-input-24-20d67951d720>:21: FutureWarning: The frame.append method is deprecated and will be removed from pandas in a future version. Use pandas.concat instead.\n",
            "  df = df.append(current_dict, ignore_index=True)\n"
          ]
        },
        {
          "output_type": "stream",
          "name": "stdout",
          "text": [
            "\n",
            " \tWe have already have 56.95% of the data!! link: https://icelandmonitor.mbl.is/news/culture_and_living/2022/06/05/a_scotsman_took_the_first_price/\n",
            "\n"
          ]
        },
        {
          "output_type": "stream",
          "name": "stderr",
          "text": [
            "<ipython-input-24-20d67951d720>:21: FutureWarning: The frame.append method is deprecated and will be removed from pandas in a future version. Use pandas.concat instead.\n",
            "  df = df.append(current_dict, ignore_index=True)\n"
          ]
        },
        {
          "output_type": "stream",
          "name": "stdout",
          "text": [
            "\n",
            " \tWe have already have 57.17% of the data!! link: https://icelandmonitor.mbl.is/news/politics_and_society/2022/07/04/icelanders_in_copenhagen_asked_to_let_family_know_t/\n",
            "\n"
          ]
        },
        {
          "output_type": "stream",
          "name": "stderr",
          "text": [
            "<ipython-input-24-20d67951d720>:21: FutureWarning: The frame.append method is deprecated and will be removed from pandas in a future version. Use pandas.concat instead.\n",
            "  df = df.append(current_dict, ignore_index=True)\n"
          ]
        },
        {
          "output_type": "stream",
          "name": "stdout",
          "text": [
            "\n",
            " \tWe have already have 57.4% of the data!! link: https://icelandmonitor.mbl.is/news/nature_and_travel/2022/01/12/largest_earthquake_in_husafell_area_in_decades/\n",
            "\n"
          ]
        },
        {
          "output_type": "stream",
          "name": "stderr",
          "text": [
            "<ipython-input-24-20d67951d720>:21: FutureWarning: The frame.append method is deprecated and will be removed from pandas in a future version. Use pandas.concat instead.\n",
            "  df = df.append(current_dict, ignore_index=True)\n"
          ]
        },
        {
          "output_type": "stream",
          "name": "stdout",
          "text": [
            "\n",
            " \tWe have already have 57.62% of the data!! link: https://icelandmonitor.mbl.is/news/nature_and_travel/2022/11/06/waiting_for_hours_to_capture_the_moment/\n",
            "\n"
          ]
        },
        {
          "output_type": "stream",
          "name": "stderr",
          "text": [
            "<ipython-input-24-20d67951d720>:21: FutureWarning: The frame.append method is deprecated and will be removed from pandas in a future version. Use pandas.concat instead.\n",
            "  df = df.append(current_dict, ignore_index=True)\n"
          ]
        },
        {
          "output_type": "stream",
          "name": "stdout",
          "text": [
            "\n",
            " \tWe have already have 57.85% of the data!! link: https://icelandmonitor.mbl.is/news/nature_and_travel/2022/08/18/still_taking_children_to_the_volcano/\n",
            "\n"
          ]
        },
        {
          "output_type": "stream",
          "name": "stderr",
          "text": [
            "<ipython-input-24-20d67951d720>:21: FutureWarning: The frame.append method is deprecated and will be removed from pandas in a future version. Use pandas.concat instead.\n",
            "  df = df.append(current_dict, ignore_index=True)\n"
          ]
        },
        {
          "output_type": "stream",
          "name": "stdout",
          "text": [
            "\n",
            " \tWe have already have 58.07% of the data!! link: https://icelandmonitor.mbl.is/news/eat_and_drink/2017/11/27/first_cat_cafe_set_to_open_in_reykjavik/\n",
            "\n"
          ]
        },
        {
          "output_type": "stream",
          "name": "stderr",
          "text": [
            "<ipython-input-24-20d67951d720>:21: FutureWarning: The frame.append method is deprecated and will be removed from pandas in a future version. Use pandas.concat instead.\n",
            "  df = df.append(current_dict, ignore_index=True)\n"
          ]
        },
        {
          "output_type": "stream",
          "name": "stdout",
          "text": [
            "\n",
            " \tWe have already have 58.3% of the data!! link: https://icelandmonitor.mbl.is/news/nature_and_travel/2022/07/15/strong_dollar_is_enciting_interest_in_iceland_in_th/\n",
            "\n"
          ]
        },
        {
          "output_type": "stream",
          "name": "stderr",
          "text": [
            "<ipython-input-24-20d67951d720>:21: FutureWarning: The frame.append method is deprecated and will be removed from pandas in a future version. Use pandas.concat instead.\n",
            "  df = df.append(current_dict, ignore_index=True)\n"
          ]
        },
        {
          "output_type": "stream",
          "name": "stdout",
          "text": [
            "\n",
            " \tWe have already have 58.52% of the data!! link: https://icelandmonitor.mbl.is/news/culture_and_living/2021/12/17/1_100_families_receive_aid_from_mothers_aid_society/\n",
            "\n"
          ]
        },
        {
          "output_type": "stream",
          "name": "stderr",
          "text": [
            "<ipython-input-24-20d67951d720>:21: FutureWarning: The frame.append method is deprecated and will be removed from pandas in a future version. Use pandas.concat instead.\n",
            "  df = df.append(current_dict, ignore_index=True)\n"
          ]
        },
        {
          "output_type": "stream",
          "name": "stdout",
          "text": [
            "\n",
            " \tWe have already have 58.74% of the data!! link: https://icelandmonitor.mbl.is/news/nature_and_travel/2022/10/24/1400_quakes_since_saturday/\n",
            "\n"
          ]
        },
        {
          "output_type": "stream",
          "name": "stderr",
          "text": [
            "<ipython-input-24-20d67951d720>:21: FutureWarning: The frame.append method is deprecated and will be removed from pandas in a future version. Use pandas.concat instead.\n",
            "  df = df.append(current_dict, ignore_index=True)\n"
          ]
        },
        {
          "output_type": "stream",
          "name": "stdout",
          "text": [
            "\n",
            " \tWe have already have 58.97% of the data!! link: https://icelandmonitor.mbl.is/news/eat_and_drink/2018/09/04/1_250_guests_per_day_at_the_new_grandi_food_hall_in/\n",
            "\n"
          ]
        },
        {
          "output_type": "stream",
          "name": "stderr",
          "text": [
            "<ipython-input-24-20d67951d720>:21: FutureWarning: The frame.append method is deprecated and will be removed from pandas in a future version. Use pandas.concat instead.\n",
            "  df = df.append(current_dict, ignore_index=True)\n"
          ]
        },
        {
          "output_type": "stream",
          "name": "stdout",
          "text": [
            "\n",
            " \tWe have already have 59.19% of the data!! link: https://icelandmonitor.mbl.is/news/nature_and_travel/2022/07/25/ella_stiller_daughter_of_ben_stiller_really_enjoyed/\n",
            "\n"
          ]
        },
        {
          "output_type": "stream",
          "name": "stderr",
          "text": [
            "<ipython-input-24-20d67951d720>:21: FutureWarning: The frame.append method is deprecated and will be removed from pandas in a future version. Use pandas.concat instead.\n",
            "  df = df.append(current_dict, ignore_index=True)\n"
          ]
        },
        {
          "output_type": "stream",
          "name": "stdout",
          "text": [
            "\n",
            " \tWe have already have 59.42% of the data!! link: https://icelandmonitor.mbl.is/news/nature_and_travel/2022/02/21/ten_year_old_boy_rescued_from_avalanche/\n",
            "\n"
          ]
        },
        {
          "output_type": "stream",
          "name": "stderr",
          "text": [
            "<ipython-input-24-20d67951d720>:21: FutureWarning: The frame.append method is deprecated and will be removed from pandas in a future version. Use pandas.concat instead.\n",
            "  df = df.append(current_dict, ignore_index=True)\n"
          ]
        },
        {
          "output_type": "stream",
          "name": "stdout",
          "text": [
            "\n",
            " \tWe have already have 59.64% of the data!! link: https://icelandmonitor.mbl.is/news/nature_and_travel/2022/06/25/rescued_french_tourists_in_the_highlands/\n",
            "\n"
          ]
        },
        {
          "output_type": "stream",
          "name": "stderr",
          "text": [
            "<ipython-input-24-20d67951d720>:21: FutureWarning: The frame.append method is deprecated and will be removed from pandas in a future version. Use pandas.concat instead.\n",
            "  df = df.append(current_dict, ignore_index=True)\n"
          ]
        },
        {
          "output_type": "stream",
          "name": "stdout",
          "text": [
            "\n",
            " \tWe have already have 59.87% of the data!! link: https://icelandmonitor.mbl.is/news/culture_and_living/2021/12/12/bessastadakirkja_church_to_get_new_look_video/\n",
            "\n"
          ]
        },
        {
          "output_type": "stream",
          "name": "stderr",
          "text": [
            "<ipython-input-24-20d67951d720>:21: FutureWarning: The frame.append method is deprecated and will be removed from pandas in a future version. Use pandas.concat instead.\n",
            "  df = df.append(current_dict, ignore_index=True)\n"
          ]
        },
        {
          "output_type": "stream",
          "name": "stdout",
          "text": [
            "\n",
            " \tWe have already have 60.09% of the data!! link: https://icelandmonitor.mbl.is/news/eat_and_drink/2017/06/15/take_a_look_at_some_of_the_food_stands_at_secret_so/\n",
            "\n"
          ]
        },
        {
          "output_type": "stream",
          "name": "stderr",
          "text": [
            "<ipython-input-24-20d67951d720>:21: FutureWarning: The frame.append method is deprecated and will be removed from pandas in a future version. Use pandas.concat instead.\n",
            "  df = df.append(current_dict, ignore_index=True)\n"
          ]
        },
        {
          "output_type": "stream",
          "name": "stdout",
          "text": [
            "\n",
            " \tWe have already have 60.31% of the data!! link: https://icelandmonitor.mbl.is/news/culture_and_living/2022/02/06/curious_cat_in_a_university_hat_remembered/\n",
            "\n"
          ]
        },
        {
          "output_type": "stream",
          "name": "stderr",
          "text": [
            "<ipython-input-24-20d67951d720>:21: FutureWarning: The frame.append method is deprecated and will be removed from pandas in a future version. Use pandas.concat instead.\n",
            "  df = df.append(current_dict, ignore_index=True)\n"
          ]
        },
        {
          "output_type": "stream",
          "name": "stdout",
          "text": [
            "\n",
            " \tWe have already have 60.54% of the data!! link: https://icelandmonitor.mbl.is/news/politics_and_society/2022/09/21/inviting_icelandic_journalists_to_go_to_the_occupie/\n",
            "\n"
          ]
        },
        {
          "output_type": "stream",
          "name": "stderr",
          "text": [
            "<ipython-input-24-20d67951d720>:21: FutureWarning: The frame.append method is deprecated and will be removed from pandas in a future version. Use pandas.concat instead.\n",
            "  df = df.append(current_dict, ignore_index=True)\n"
          ]
        },
        {
          "output_type": "stream",
          "name": "stdout",
          "text": [
            "\n",
            " \tWe have already have 60.76% of the data!! link: https://icelandmonitor.mbl.is/news/nature_and_travel/2022/08/05/many_hikers_not_adequately_prepared/\n",
            "\n"
          ]
        },
        {
          "output_type": "stream",
          "name": "stderr",
          "text": [
            "<ipython-input-24-20d67951d720>:21: FutureWarning: The frame.append method is deprecated and will be removed from pandas in a future version. Use pandas.concat instead.\n",
            "  df = df.append(current_dict, ignore_index=True)\n"
          ]
        },
        {
          "output_type": "stream",
          "name": "stdout",
          "text": [
            "\n",
            " \tWe have already have 60.99% of the data!! link: https://icelandmonitor.mbl.is/news/news/2023/03/27/an_avalanche_in_neskaupstadur/\n",
            "\n"
          ]
        },
        {
          "output_type": "stream",
          "name": "stderr",
          "text": [
            "<ipython-input-24-20d67951d720>:21: FutureWarning: The frame.append method is deprecated and will be removed from pandas in a future version. Use pandas.concat instead.\n",
            "  df = df.append(current_dict, ignore_index=True)\n"
          ]
        },
        {
          "output_type": "stream",
          "name": "stdout",
          "text": [
            "\n",
            " \tWe have already have 61.21% of the data!! link: https://icelandmonitor.mbl.is/news/nature_and_travel/2022/02/08/cool_restaurant_under_cover_of_snow/\n",
            "\n"
          ]
        },
        {
          "output_type": "stream",
          "name": "stderr",
          "text": [
            "<ipython-input-24-20d67951d720>:21: FutureWarning: The frame.append method is deprecated and will be removed from pandas in a future version. Use pandas.concat instead.\n",
            "  df = df.append(current_dict, ignore_index=True)\n"
          ]
        },
        {
          "output_type": "stream",
          "name": "stdout",
          "text": [
            "\n",
            " \tWe have already have 61.43% of the data!! link: https://icelandmonitor.mbl.is/news/eat_and_drink/2018/03/20/two_icelanders_compete_in_nordic_chef_of_the_year/\n",
            "\n"
          ]
        },
        {
          "output_type": "stream",
          "name": "stderr",
          "text": [
            "<ipython-input-24-20d67951d720>:21: FutureWarning: The frame.append method is deprecated and will be removed from pandas in a future version. Use pandas.concat instead.\n",
            "  df = df.append(current_dict, ignore_index=True)\n"
          ]
        },
        {
          "output_type": "stream",
          "name": "stdout",
          "text": [
            "\n",
            " \tWe have already have 61.66% of the data!! link: https://icelandmonitor.mbl.is/news/culture_and_living/2021/09/23/icelandic_education_minister_asks_apple_for_help/\n",
            "\n"
          ]
        },
        {
          "output_type": "stream",
          "name": "stderr",
          "text": [
            "<ipython-input-24-20d67951d720>:21: FutureWarning: The frame.append method is deprecated and will be removed from pandas in a future version. Use pandas.concat instead.\n",
            "  df = df.append(current_dict, ignore_index=True)\n"
          ]
        },
        {
          "output_type": "stream",
          "name": "stdout",
          "text": [
            "\n",
            " \tWe have already have 61.88% of the data!! link: https://icelandmonitor.mbl.is/news/culture_and_living/2022/09/10/star_saevar_started_enlightening_the_public_about_s/\n",
            "\n"
          ]
        },
        {
          "output_type": "stream",
          "name": "stderr",
          "text": [
            "<ipython-input-24-20d67951d720>:21: FutureWarning: The frame.append method is deprecated and will be removed from pandas in a future version. Use pandas.concat instead.\n",
            "  df = df.append(current_dict, ignore_index=True)\n"
          ]
        },
        {
          "output_type": "stream",
          "name": "stdout",
          "text": [
            "\n",
            " \tWe have already have 62.11% of the data!! link: https://icelandmonitor.mbl.is/news/news/2023/03/26/must_be_prepared_for_everything_in_iceland/\n",
            "\n"
          ]
        },
        {
          "output_type": "stream",
          "name": "stderr",
          "text": [
            "<ipython-input-24-20d67951d720>:21: FutureWarning: The frame.append method is deprecated and will be removed from pandas in a future version. Use pandas.concat instead.\n",
            "  df = df.append(current_dict, ignore_index=True)\n"
          ]
        },
        {
          "output_type": "stream",
          "name": "stdout",
          "text": [
            "\n",
            " \tWe have already have 62.33% of the data!! link: https://icelandmonitor.mbl.is/news/eat_and_drink/2019/01/26/interview_with_muso_the_cat_at_reykjavik_s_only_cat/\n",
            "\n"
          ]
        },
        {
          "output_type": "stream",
          "name": "stderr",
          "text": [
            "<ipython-input-24-20d67951d720>:21: FutureWarning: The frame.append method is deprecated and will be removed from pandas in a future version. Use pandas.concat instead.\n",
            "  df = df.append(current_dict, ignore_index=True)\n"
          ]
        },
        {
          "output_type": "stream",
          "name": "stdout",
          "text": [
            "\n",
            " \tWe have already have 62.56% of the data!! link: https://icelandmonitor.mbl.is/news/nature_and_travel/2022/03/25/forest_lagoon_to_open_in_april/\n",
            "\n"
          ]
        },
        {
          "output_type": "stream",
          "name": "stderr",
          "text": [
            "<ipython-input-24-20d67951d720>:21: FutureWarning: The frame.append method is deprecated and will be removed from pandas in a future version. Use pandas.concat instead.\n",
            "  df = df.append(current_dict, ignore_index=True)\n"
          ]
        },
        {
          "output_type": "stream",
          "name": "stdout",
          "text": [
            "\n",
            " \tWe have already have 62.78% of the data!! link: https://icelandmonitor.mbl.is/news/culture_and_living/2022/10/30/tulipop_tales_going_international/\n",
            "\n"
          ]
        },
        {
          "output_type": "stream",
          "name": "stderr",
          "text": [
            "<ipython-input-24-20d67951d720>:21: FutureWarning: The frame.append method is deprecated and will be removed from pandas in a future version. Use pandas.concat instead.\n",
            "  df = df.append(current_dict, ignore_index=True)\n"
          ]
        },
        {
          "output_type": "stream",
          "name": "stdout",
          "text": [
            "\n",
            " \tWe have already have 63.0% of the data!! link: https://icelandmonitor.mbl.is/news/culture_and_living/2021/11/18/surprise_surprise_paramedic_looks_familiar/\n",
            "\n"
          ]
        },
        {
          "output_type": "stream",
          "name": "stderr",
          "text": [
            "<ipython-input-24-20d67951d720>:21: FutureWarning: The frame.append method is deprecated and will be removed from pandas in a future version. Use pandas.concat instead.\n",
            "  df = df.append(current_dict, ignore_index=True)\n"
          ]
        },
        {
          "output_type": "stream",
          "name": "stdout",
          "text": [
            "\n",
            " \tWe have already have 63.23% of the data!! link: https://icelandmonitor.mbl.is/news/culture_and_living/2022/09/17/hekla_s_xiuxiuejar_chosen_contemporary_album_of_the/\n",
            "\n"
          ]
        },
        {
          "output_type": "stream",
          "name": "stderr",
          "text": [
            "<ipython-input-24-20d67951d720>:21: FutureWarning: The frame.append method is deprecated and will be removed from pandas in a future version. Use pandas.concat instead.\n",
            "  df = df.append(current_dict, ignore_index=True)\n"
          ]
        },
        {
          "output_type": "stream",
          "name": "stdout",
          "text": [
            "\n",
            " \tWe have already have 63.45% of the data!! link: https://icelandmonitor.mbl.is/news/politics_and_society/2021/11/22/iceland_among_best_countries_to_raise_a_child/\n",
            "\n"
          ]
        },
        {
          "output_type": "stream",
          "name": "stderr",
          "text": [
            "<ipython-input-24-20d67951d720>:21: FutureWarning: The frame.append method is deprecated and will be removed from pandas in a future version. Use pandas.concat instead.\n",
            "  df = df.append(current_dict, ignore_index=True)\n"
          ]
        },
        {
          "output_type": "stream",
          "name": "stdout",
          "text": [
            "\n",
            " \tWe have already have 63.68% of the data!! link: https://icelandmonitor.mbl.is/news/eat_and_drink/2017/06/23/nature_wines_and_creative_cooking_on_midsummer_s_ni/\n",
            "\n"
          ]
        },
        {
          "output_type": "stream",
          "name": "stderr",
          "text": [
            "<ipython-input-24-20d67951d720>:21: FutureWarning: The frame.append method is deprecated and will be removed from pandas in a future version. Use pandas.concat instead.\n",
            "  df = df.append(current_dict, ignore_index=True)\n"
          ]
        },
        {
          "output_type": "stream",
          "name": "stdout",
          "text": [
            "\n",
            " \tWe have already have 63.9% of the data!! link: https://icelandmonitor.mbl.is/news/culture_and_living/2022/10/24/21_m_isk_for_the_winner/\n",
            "\n"
          ]
        },
        {
          "output_type": "stream",
          "name": "stderr",
          "text": [
            "<ipython-input-24-20d67951d720>:21: FutureWarning: The frame.append method is deprecated and will be removed from pandas in a future version. Use pandas.concat instead.\n",
            "  df = df.append(current_dict, ignore_index=True)\n"
          ]
        },
        {
          "output_type": "stream",
          "name": "stdout",
          "text": [
            "\n",
            " \tWe have already have 64.13% of the data!! link: https://icelandmonitor.mbl.is/news/politics_and_society/2022/09/29/bomb_threat_in_keflavik_last_night/\n",
            "\n"
          ]
        },
        {
          "output_type": "stream",
          "name": "stderr",
          "text": [
            "<ipython-input-24-20d67951d720>:21: FutureWarning: The frame.append method is deprecated and will be removed from pandas in a future version. Use pandas.concat instead.\n",
            "  df = df.append(current_dict, ignore_index=True)\n"
          ]
        },
        {
          "output_type": "stream",
          "name": "stdout",
          "text": [
            "\n",
            " \tWe have already have 64.35% of the data!! link: https://icelandmonitor.mbl.is/news/eat_and_drink/2017/08/23/icelandic_kombucha_hits_the_market/\n",
            "\n"
          ]
        },
        {
          "output_type": "stream",
          "name": "stderr",
          "text": [
            "<ipython-input-24-20d67951d720>:21: FutureWarning: The frame.append method is deprecated and will be removed from pandas in a future version. Use pandas.concat instead.\n",
            "  df = df.append(current_dict, ignore_index=True)\n"
          ]
        },
        {
          "output_type": "stream",
          "name": "stdout",
          "text": [
            "\n",
            " \tWe have already have 64.57% of the data!! link: https://icelandmonitor.mbl.is/news/politics_and_society/2022/09/28/two_thousand_people_got_vaccinated/\n",
            "\n"
          ]
        },
        {
          "output_type": "stream",
          "name": "stderr",
          "text": [
            "<ipython-input-24-20d67951d720>:21: FutureWarning: The frame.append method is deprecated and will be removed from pandas in a future version. Use pandas.concat instead.\n",
            "  df = df.append(current_dict, ignore_index=True)\n"
          ]
        },
        {
          "output_type": "stream",
          "name": "stdout",
          "text": [
            "\n",
            " \tWe have already have 64.8% of the data!! link: https://icelandmonitor.mbl.is/news/politics_and_society/2022/03/07/should_permanent_presence_of_nato_troops_be_conside/\n",
            "\n"
          ]
        },
        {
          "output_type": "stream",
          "name": "stderr",
          "text": [
            "<ipython-input-24-20d67951d720>:21: FutureWarning: The frame.append method is deprecated and will be removed from pandas in a future version. Use pandas.concat instead.\n",
            "  df = df.append(current_dict, ignore_index=True)\n"
          ]
        },
        {
          "output_type": "stream",
          "name": "stdout",
          "text": [
            "\n",
            " \tWe have already have 65.02% of the data!! link: https://icelandmonitor.mbl.is/news/eat_and_drink/2017/12/02/a_new_five_course_christmas_menu_at_hip_kex_hostel/\n",
            "\n"
          ]
        },
        {
          "output_type": "stream",
          "name": "stderr",
          "text": [
            "<ipython-input-24-20d67951d720>:21: FutureWarning: The frame.append method is deprecated and will be removed from pandas in a future version. Use pandas.concat instead.\n",
            "  df = df.append(current_dict, ignore_index=True)\n"
          ]
        },
        {
          "output_type": "stream",
          "name": "stdout",
          "text": [
            "\n",
            " \tWe have already have 65.25% of the data!! link: https://icelandmonitor.mbl.is/news/eat_and_drink/2017/09/18/licorice_mania_continues_in_iceland_now_for_licoric/\n",
            "\n"
          ]
        },
        {
          "output_type": "stream",
          "name": "stderr",
          "text": [
            "<ipython-input-24-20d67951d720>:21: FutureWarning: The frame.append method is deprecated and will be removed from pandas in a future version. Use pandas.concat instead.\n",
            "  df = df.append(current_dict, ignore_index=True)\n"
          ]
        },
        {
          "output_type": "stream",
          "name": "stdout",
          "text": [
            "\n",
            " \tWe have already have 65.47% of the data!! link: https://icelandmonitor.mbl.is/news/culture_and_living/2022/01/17/majority_of_residents_in_myrdalur_are_foreign_citiz/\n",
            "\n"
          ]
        },
        {
          "output_type": "stream",
          "name": "stderr",
          "text": [
            "<ipython-input-24-20d67951d720>:21: FutureWarning: The frame.append method is deprecated and will be removed from pandas in a future version. Use pandas.concat instead.\n",
            "  df = df.append(current_dict, ignore_index=True)\n"
          ]
        },
        {
          "output_type": "stream",
          "name": "stdout",
          "text": [
            "\n",
            " \tWe have already have 65.7% of the data!! link: https://icelandmonitor.mbl.is/news/nature_and_travel/2022/07/25/jumped_into_the_river_to_safe_his_son/\n",
            "\n"
          ]
        },
        {
          "output_type": "stream",
          "name": "stderr",
          "text": [
            "<ipython-input-24-20d67951d720>:21: FutureWarning: The frame.append method is deprecated and will be removed from pandas in a future version. Use pandas.concat instead.\n",
            "  df = df.append(current_dict, ignore_index=True)\n"
          ]
        },
        {
          "output_type": "stream",
          "name": "stdout",
          "text": [
            "\n",
            " \tWe have already have 65.92% of the data!! link: https://icelandmonitor.mbl.is/news/eat_and_drink/2018/02/07/champagne_tasting_at_hlemmur_food_hall_for_valentin/\n",
            "\n"
          ]
        },
        {
          "output_type": "stream",
          "name": "stderr",
          "text": [
            "<ipython-input-24-20d67951d720>:21: FutureWarning: The frame.append method is deprecated and will be removed from pandas in a future version. Use pandas.concat instead.\n",
            "  df = df.append(current_dict, ignore_index=True)\n"
          ]
        },
        {
          "output_type": "stream",
          "name": "stdout",
          "text": [
            "\n",
            " \tWe have already have 66.14% of the data!! link: https://icelandmonitor.mbl.is/news/culture_and_living/2022/06/17/celebrating_icelandic_national_day/\n",
            "\n"
          ]
        },
        {
          "output_type": "stream",
          "name": "stderr",
          "text": [
            "<ipython-input-24-20d67951d720>:21: FutureWarning: The frame.append method is deprecated and will be removed from pandas in a future version. Use pandas.concat instead.\n",
            "  df = df.append(current_dict, ignore_index=True)\n"
          ]
        },
        {
          "output_type": "stream",
          "name": "stdout",
          "text": [
            "\n",
            " \tWe have already have 66.37% of the data!! link: https://icelandmonitor.mbl.is/news/nature_and_travel/2022/08/08/injured_after_falling_30_meters_down/\n",
            "\n"
          ]
        },
        {
          "output_type": "stream",
          "name": "stderr",
          "text": [
            "<ipython-input-24-20d67951d720>:21: FutureWarning: The frame.append method is deprecated and will be removed from pandas in a future version. Use pandas.concat instead.\n",
            "  df = df.append(current_dict, ignore_index=True)\n"
          ]
        },
        {
          "output_type": "stream",
          "name": "stdout",
          "text": [
            "\n",
            " \tWe have already have 66.59% of the data!! link: https://icelandmonitor.mbl.is/news/politics_and_society/2022/07/04/less_purchasing_power_in_the_coming_months_due_to_h/\n",
            "\n"
          ]
        },
        {
          "output_type": "stream",
          "name": "stderr",
          "text": [
            "<ipython-input-24-20d67951d720>:21: FutureWarning: The frame.append method is deprecated and will be removed from pandas in a future version. Use pandas.concat instead.\n",
            "  df = df.append(current_dict, ignore_index=True)\n"
          ]
        },
        {
          "output_type": "stream",
          "name": "stdout",
          "text": [
            "\n",
            " \tWe have already have 66.82% of the data!! link: https://icelandmonitor.mbl.is/news/nature_and_travel/2022/03/29/road_system_not_ready_for_increasing_traffic/\n",
            "\n"
          ]
        },
        {
          "output_type": "stream",
          "name": "stderr",
          "text": [
            "<ipython-input-24-20d67951d720>:21: FutureWarning: The frame.append method is deprecated and will be removed from pandas in a future version. Use pandas.concat instead.\n",
            "  df = df.append(current_dict, ignore_index=True)\n"
          ]
        },
        {
          "output_type": "stream",
          "name": "stdout",
          "text": [
            "\n",
            " \tWe have already have 67.04% of the data!! link: https://icelandmonitor.mbl.is/news/eat_and_drink/2022/09/07/nothing_danish_there_with_all_due_respect/\n",
            "\n"
          ]
        },
        {
          "output_type": "stream",
          "name": "stderr",
          "text": [
            "<ipython-input-24-20d67951d720>:21: FutureWarning: The frame.append method is deprecated and will be removed from pandas in a future version. Use pandas.concat instead.\n",
            "  df = df.append(current_dict, ignore_index=True)\n"
          ]
        },
        {
          "output_type": "stream",
          "name": "stdout",
          "text": [
            "\n",
            " \tWe have already have 67.26% of the data!! link: https://icelandmonitor.mbl.is/news/politics_and_society/2022/10/12/19_000_got_vaccinated_in_laugardalsholl/\n",
            "\n"
          ]
        },
        {
          "output_type": "stream",
          "name": "stderr",
          "text": [
            "<ipython-input-24-20d67951d720>:21: FutureWarning: The frame.append method is deprecated and will be removed from pandas in a future version. Use pandas.concat instead.\n",
            "  df = df.append(current_dict, ignore_index=True)\n"
          ]
        },
        {
          "output_type": "stream",
          "name": "stdout",
          "text": [
            "\n",
            " \tWe have already have 67.49% of the data!! link: https://icelandmonitor.mbl.is/news/culture_and_living/2021/09/12/sounds_of_ocean_65_words_for_sea_and_warning/\n",
            "\n"
          ]
        },
        {
          "output_type": "stream",
          "name": "stderr",
          "text": [
            "<ipython-input-24-20d67951d720>:21: FutureWarning: The frame.append method is deprecated and will be removed from pandas in a future version. Use pandas.concat instead.\n",
            "  df = df.append(current_dict, ignore_index=True)\n"
          ]
        },
        {
          "output_type": "stream",
          "name": "stdout",
          "text": [
            "\n",
            " \tWe have already have 67.71% of the data!! link: https://icelandmonitor.mbl.is/news/eat_and_drink/2019/07/06/food_market_and_more_by_reykjavik_harbor/\n",
            "\n"
          ]
        },
        {
          "output_type": "stream",
          "name": "stderr",
          "text": [
            "<ipython-input-24-20d67951d720>:21: FutureWarning: The frame.append method is deprecated and will be removed from pandas in a future version. Use pandas.concat instead.\n",
            "  df = df.append(current_dict, ignore_index=True)\n"
          ]
        },
        {
          "output_type": "stream",
          "name": "stdout",
          "text": [
            "\n",
            " \tWe have already have 67.94% of the data!! link: https://icelandmonitor.mbl.is/news/politics_and_society/2022/06/21/nova_is_now_on_the_main_nasdaq_iceland_stock_exchan/\n",
            "\n"
          ]
        },
        {
          "output_type": "stream",
          "name": "stderr",
          "text": [
            "<ipython-input-24-20d67951d720>:21: FutureWarning: The frame.append method is deprecated and will be removed from pandas in a future version. Use pandas.concat instead.\n",
            "  df = df.append(current_dict, ignore_index=True)\n"
          ]
        },
        {
          "output_type": "stream",
          "name": "stdout",
          "text": [
            "\n",
            " \tWe have already have 68.16% of the data!! link: https://icelandmonitor.mbl.is/news/news/2023/03/29/we_will_tackle_this_together/\n",
            "\n"
          ]
        },
        {
          "output_type": "stream",
          "name": "stderr",
          "text": [
            "<ipython-input-24-20d67951d720>:21: FutureWarning: The frame.append method is deprecated and will be removed from pandas in a future version. Use pandas.concat instead.\n",
            "  df = df.append(current_dict, ignore_index=True)\n"
          ]
        },
        {
          "output_type": "stream",
          "name": "stdout",
          "text": [
            "\n",
            " \tWe have already have 68.39% of the data!! link: https://icelandmonitor.mbl.is/news/nature_and_travel/2022/08/09/the_eruption_site_still_closed_today/\n",
            "\n"
          ]
        },
        {
          "output_type": "stream",
          "name": "stderr",
          "text": [
            "<ipython-input-24-20d67951d720>:21: FutureWarning: The frame.append method is deprecated and will be removed from pandas in a future version. Use pandas.concat instead.\n",
            "  df = df.append(current_dict, ignore_index=True)\n"
          ]
        },
        {
          "output_type": "stream",
          "name": "stdout",
          "text": [
            "\n",
            " \tWe have already have 68.61% of the data!! link: https://icelandmonitor.mbl.is/news/culture_and_living/2021/10/09/imagine_peace_tower_to_be_lit_tonight/\n",
            "\n"
          ]
        },
        {
          "output_type": "stream",
          "name": "stderr",
          "text": [
            "<ipython-input-24-20d67951d720>:21: FutureWarning: The frame.append method is deprecated and will be removed from pandas in a future version. Use pandas.concat instead.\n",
            "  df = df.append(current_dict, ignore_index=True)\n"
          ]
        },
        {
          "output_type": "stream",
          "name": "stdout",
          "text": [
            "\n",
            " \tWe have already have 68.83% of the data!! link: https://icelandmonitor.mbl.is/news/nature_and_travel/2022/02/22/severe_weather_continues_many_roads_closed/\n",
            "\n"
          ]
        },
        {
          "output_type": "stream",
          "name": "stderr",
          "text": [
            "<ipython-input-24-20d67951d720>:21: FutureWarning: The frame.append method is deprecated and will be removed from pandas in a future version. Use pandas.concat instead.\n",
            "  df = df.append(current_dict, ignore_index=True)\n"
          ]
        },
        {
          "output_type": "stream",
          "name": "stdout",
          "text": [
            "\n",
            " \tWe have already have 69.06% of the data!! link: https://icelandmonitor.mbl.is/news/culture_and_living/2022/09/15/the_cast_of_halo_posts_a_picture_from_iceland_on_tw/\n",
            "\n"
          ]
        },
        {
          "output_type": "stream",
          "name": "stderr",
          "text": [
            "<ipython-input-24-20d67951d720>:21: FutureWarning: The frame.append method is deprecated and will be removed from pandas in a future version. Use pandas.concat instead.\n",
            "  df = df.append(current_dict, ignore_index=True)\n"
          ]
        },
        {
          "output_type": "stream",
          "name": "stdout",
          "text": [
            "\n",
            " \tWe have already have 69.28% of the data!! link: https://icelandmonitor.mbl.is/news/politics_and_society/2022/04/12/toxic_waste_from_radar_station_remains_a_problem/\n",
            "\n"
          ]
        },
        {
          "output_type": "stream",
          "name": "stderr",
          "text": [
            "<ipython-input-24-20d67951d720>:21: FutureWarning: The frame.append method is deprecated and will be removed from pandas in a future version. Use pandas.concat instead.\n",
            "  df = df.append(current_dict, ignore_index=True)\n"
          ]
        },
        {
          "output_type": "stream",
          "name": "stdout",
          "text": [
            "\n",
            " \tWe have already have 69.51% of the data!! link: https://icelandmonitor.mbl.is/news/culture_and_living/2022/04/26/important_to_introduce_the_sagas_sooner/\n",
            "\n"
          ]
        },
        {
          "output_type": "stream",
          "name": "stderr",
          "text": [
            "<ipython-input-24-20d67951d720>:21: FutureWarning: The frame.append method is deprecated and will be removed from pandas in a future version. Use pandas.concat instead.\n",
            "  df = df.append(current_dict, ignore_index=True)\n"
          ]
        },
        {
          "output_type": "stream",
          "name": "stdout",
          "text": [
            "\n",
            " \tWe have already have 69.73% of the data!! link: https://icelandmonitor.mbl.is/news/culture_and_living/2022/02/28/busy_bun_day_for_bakers_in_iceland/\n",
            "\n"
          ]
        },
        {
          "output_type": "stream",
          "name": "stderr",
          "text": [
            "<ipython-input-24-20d67951d720>:21: FutureWarning: The frame.append method is deprecated and will be removed from pandas in a future version. Use pandas.concat instead.\n",
            "  df = df.append(current_dict, ignore_index=True)\n"
          ]
        },
        {
          "output_type": "stream",
          "name": "stdout",
          "text": [
            "\n",
            " \tWe have already have 69.96% of the data!! link: https://icelandmonitor.mbl.is/news/nature_and_travel/2022/04/13/swarm_of_earthquakes_on_reykjanes_peninsula/\n",
            "\n"
          ]
        },
        {
          "output_type": "stream",
          "name": "stderr",
          "text": [
            "<ipython-input-24-20d67951d720>:21: FutureWarning: The frame.append method is deprecated and will be removed from pandas in a future version. Use pandas.concat instead.\n",
            "  df = df.append(current_dict, ignore_index=True)\n"
          ]
        },
        {
          "output_type": "stream",
          "name": "stdout",
          "text": [
            "\n",
            " \tWe have already have 70.18% of the data!! link: https://icelandmonitor.mbl.is/news/nature_and_travel/2022/05/19/iceland_only_gets_bigger_with_an_added_destination_/\n",
            "\n"
          ]
        },
        {
          "output_type": "stream",
          "name": "stderr",
          "text": [
            "<ipython-input-24-20d67951d720>:21: FutureWarning: The frame.append method is deprecated and will be removed from pandas in a future version. Use pandas.concat instead.\n",
            "  df = df.append(current_dict, ignore_index=True)\n"
          ]
        },
        {
          "output_type": "stream",
          "name": "stdout",
          "text": [
            "\n",
            " \tWe have already have 70.4% of the data!! link: https://icelandmonitor.mbl.is/news/eat_and_drink/2017/11/25/weekend_lamb_roast_leg_of_lamb_with_pesto_and_roast/\n",
            "\n"
          ]
        },
        {
          "output_type": "stream",
          "name": "stderr",
          "text": [
            "<ipython-input-24-20d67951d720>:21: FutureWarning: The frame.append method is deprecated and will be removed from pandas in a future version. Use pandas.concat instead.\n",
            "  df = df.append(current_dict, ignore_index=True)\n"
          ]
        },
        {
          "output_type": "stream",
          "name": "stdout",
          "text": [
            "\n",
            " \tWe have already have 70.63% of the data!! link: https://icelandmonitor.mbl.is/news/culture_and_living/2022/03/02/myvatn_winter_festival_opens_friday/\n",
            "\n"
          ]
        },
        {
          "output_type": "stream",
          "name": "stderr",
          "text": [
            "<ipython-input-24-20d67951d720>:21: FutureWarning: The frame.append method is deprecated and will be removed from pandas in a future version. Use pandas.concat instead.\n",
            "  df = df.append(current_dict, ignore_index=True)\n"
          ]
        },
        {
          "output_type": "stream",
          "name": "stdout",
          "text": [
            "\n",
            " \tWe have already have 70.85% of the data!! link: https://icelandmonitor.mbl.is/news/politics_and_society/2021/11/26/althingi_confirms_mps_credentials/\n",
            "\n"
          ]
        },
        {
          "output_type": "stream",
          "name": "stderr",
          "text": [
            "<ipython-input-24-20d67951d720>:21: FutureWarning: The frame.append method is deprecated and will be removed from pandas in a future version. Use pandas.concat instead.\n",
            "  df = df.append(current_dict, ignore_index=True)\n"
          ]
        },
        {
          "output_type": "stream",
          "name": "stdout",
          "text": [
            "\n",
            " \tWe have already have 71.08% of the data!! link: https://icelandmonitor.mbl.is/news/culture_and_living/2022/03/18/katy_perry_coming_to_iceland_this_summer/\n",
            "\n"
          ]
        },
        {
          "output_type": "stream",
          "name": "stderr",
          "text": [
            "<ipython-input-24-20d67951d720>:21: FutureWarning: The frame.append method is deprecated and will be removed from pandas in a future version. Use pandas.concat instead.\n",
            "  df = df.append(current_dict, ignore_index=True)\n"
          ]
        },
        {
          "output_type": "stream",
          "name": "stdout",
          "text": [
            "\n",
            " \tWe have already have 71.3% of the data!! link: https://icelandmonitor.mbl.is/news/eat_and_drink/2018/10/25/cheese_pop_up_shop_at_hlemmur_food_hall/\n",
            "\n"
          ]
        },
        {
          "output_type": "stream",
          "name": "stderr",
          "text": [
            "<ipython-input-24-20d67951d720>:21: FutureWarning: The frame.append method is deprecated and will be removed from pandas in a future version. Use pandas.concat instead.\n",
            "  df = df.append(current_dict, ignore_index=True)\n"
          ]
        },
        {
          "output_type": "stream",
          "name": "stdout",
          "text": [
            "\n",
            " \tWe have already have 71.52% of the data!! link: https://icelandmonitor.mbl.is/news/news/2023/03/24/dangerous_route_and_needs_more_oversight/\n",
            "\n"
          ]
        },
        {
          "output_type": "stream",
          "name": "stderr",
          "text": [
            "<ipython-input-24-20d67951d720>:21: FutureWarning: The frame.append method is deprecated and will be removed from pandas in a future version. Use pandas.concat instead.\n",
            "  df = df.append(current_dict, ignore_index=True)\n"
          ]
        },
        {
          "output_type": "stream",
          "name": "stdout",
          "text": [
            "\n",
            " \tWe have already have 71.75% of the data!! link: https://icelandmonitor.mbl.is/news/nature_and_travel/2022/06/25/we_are_living_in_iceland_after_all/\n",
            "\n"
          ]
        },
        {
          "output_type": "stream",
          "name": "stderr",
          "text": [
            "<ipython-input-24-20d67951d720>:21: FutureWarning: The frame.append method is deprecated and will be removed from pandas in a future version. Use pandas.concat instead.\n",
            "  df = df.append(current_dict, ignore_index=True)\n"
          ]
        },
        {
          "output_type": "stream",
          "name": "stdout",
          "text": [
            "\n",
            " \tWe have already have 71.97% of the data!! link: https://icelandmonitor.mbl.is/news/politics_and_society/2022/01/28/major_easing_of_restrictions_announced_in_iceland/\n",
            "\n"
          ]
        },
        {
          "output_type": "stream",
          "name": "stderr",
          "text": [
            "<ipython-input-24-20d67951d720>:21: FutureWarning: The frame.append method is deprecated and will be removed from pandas in a future version. Use pandas.concat instead.\n",
            "  df = df.append(current_dict, ignore_index=True)\n"
          ]
        },
        {
          "output_type": "stream",
          "name": "stdout",
          "text": [
            "\n",
            " \tWe have already have 72.2% of the data!! link: https://icelandmonitor.mbl.is/news/culture_and_living/2022/12/11/triangle_of_sadness_the_biggest_winner/\n",
            "\n"
          ]
        },
        {
          "output_type": "stream",
          "name": "stderr",
          "text": [
            "<ipython-input-24-20d67951d720>:21: FutureWarning: The frame.append method is deprecated and will be removed from pandas in a future version. Use pandas.concat instead.\n",
            "  df = df.append(current_dict, ignore_index=True)\n"
          ]
        },
        {
          "output_type": "stream",
          "name": "stdout",
          "text": [
            "\n",
            " \tWe have already have 72.42% of the data!! link: https://icelandmonitor.mbl.is/news/politics_and_society/2022/06/02/a_19_9_prosent_hike_in_property_taxes/\n",
            "\n"
          ]
        },
        {
          "output_type": "stream",
          "name": "stderr",
          "text": [
            "<ipython-input-24-20d67951d720>:21: FutureWarning: The frame.append method is deprecated and will be removed from pandas in a future version. Use pandas.concat instead.\n",
            "  df = df.append(current_dict, ignore_index=True)\n"
          ]
        },
        {
          "output_type": "stream",
          "name": "stdout",
          "text": [
            "\n",
            " \tWe have already have 72.65% of the data!! link: https://icelandmonitor.mbl.is/news/eat_and_drink/2018/06/13/japanese_couple_get_engaged_at_blue_lagoon_and_offe/\n",
            "\n"
          ]
        },
        {
          "output_type": "stream",
          "name": "stderr",
          "text": [
            "<ipython-input-24-20d67951d720>:21: FutureWarning: The frame.append method is deprecated and will be removed from pandas in a future version. Use pandas.concat instead.\n",
            "  df = df.append(current_dict, ignore_index=True)\n"
          ]
        },
        {
          "output_type": "stream",
          "name": "stdout",
          "text": [
            "\n",
            " \tWe have already have 72.87% of the data!! link: https://icelandmonitor.mbl.is/news/nature_and_travel/2022/10/16/skiing_in_iceland_in_the_midnight_sun/\n",
            "\n"
          ]
        },
        {
          "output_type": "stream",
          "name": "stderr",
          "text": [
            "<ipython-input-24-20d67951d720>:21: FutureWarning: The frame.append method is deprecated and will be removed from pandas in a future version. Use pandas.concat instead.\n",
            "  df = df.append(current_dict, ignore_index=True)\n"
          ]
        },
        {
          "output_type": "stream",
          "name": "stdout",
          "text": [
            "\n",
            " \tWe have already have 73.09% of the data!! link: https://icelandmonitor.mbl.is/news/eat_and_drink/2018/01/24/slippurinn_restaurant_and_the_new_wave_of_cooking_c/\n",
            "\n"
          ]
        },
        {
          "output_type": "stream",
          "name": "stderr",
          "text": [
            "<ipython-input-24-20d67951d720>:21: FutureWarning: The frame.append method is deprecated and will be removed from pandas in a future version. Use pandas.concat instead.\n",
            "  df = df.append(current_dict, ignore_index=True)\n"
          ]
        },
        {
          "output_type": "stream",
          "name": "stdout",
          "text": [
            "\n",
            " \tWe have already have 73.32% of the data!! link: https://icelandmonitor.mbl.is/news/eat_and_drink/2022/04/02/beer_to_benefit_victims_of_war/\n",
            "\n"
          ]
        },
        {
          "output_type": "stream",
          "name": "stderr",
          "text": [
            "<ipython-input-24-20d67951d720>:21: FutureWarning: The frame.append method is deprecated and will be removed from pandas in a future version. Use pandas.concat instead.\n",
            "  df = df.append(current_dict, ignore_index=True)\n"
          ]
        },
        {
          "output_type": "stream",
          "name": "stdout",
          "text": [
            "\n",
            " \tWe have already have 73.54% of the data!! link: https://icelandmonitor.mbl.is/news/eat_and_drink/2022/10/12/landed_the_second_prize_in_the_european_street_food/\n",
            "\n"
          ]
        },
        {
          "output_type": "stream",
          "name": "stderr",
          "text": [
            "<ipython-input-24-20d67951d720>:21: FutureWarning: The frame.append method is deprecated and will be removed from pandas in a future version. Use pandas.concat instead.\n",
            "  df = df.append(current_dict, ignore_index=True)\n"
          ]
        },
        {
          "output_type": "stream",
          "name": "stdout",
          "text": [
            "\n",
            " \tWe have already have 73.77% of the data!! link: https://icelandmonitor.mbl.is/news/politics_and_society/2022/09/29/widespread_effects_of_the_seydifjordur_fire/\n",
            "\n"
          ]
        },
        {
          "output_type": "stream",
          "name": "stderr",
          "text": [
            "<ipython-input-24-20d67951d720>:21: FutureWarning: The frame.append method is deprecated and will be removed from pandas in a future version. Use pandas.concat instead.\n",
            "  df = df.append(current_dict, ignore_index=True)\n"
          ]
        },
        {
          "output_type": "stream",
          "name": "stdout",
          "text": [
            "\n",
            " \tWe have already have 73.99% of the data!! link: https://icelandmonitor.mbl.is/news/culture_and_living/2022/11/27/the_lights_on_the_oslo_tree_marks_the_start_of_the_/\n",
            "\n"
          ]
        },
        {
          "output_type": "stream",
          "name": "stderr",
          "text": [
            "<ipython-input-24-20d67951d720>:21: FutureWarning: The frame.append method is deprecated and will be removed from pandas in a future version. Use pandas.concat instead.\n",
            "  df = df.append(current_dict, ignore_index=True)\n"
          ]
        },
        {
          "output_type": "stream",
          "name": "stdout",
          "text": [
            "\n",
            " \tWe have already have 74.22% of the data!! link: https://icelandmonitor.mbl.is/news/nature_and_travel/2022/01/09/iceland_s_most_popular_destinations_in_2021/\n",
            "\n"
          ]
        },
        {
          "output_type": "stream",
          "name": "stderr",
          "text": [
            "<ipython-input-24-20d67951d720>:21: FutureWarning: The frame.append method is deprecated and will be removed from pandas in a future version. Use pandas.concat instead.\n",
            "  df = df.append(current_dict, ignore_index=True)\n"
          ]
        },
        {
          "output_type": "stream",
          "name": "stdout",
          "text": [
            "\n",
            " \tWe have already have 74.44% of the data!! link: https://icelandmonitor.mbl.is/news/politics_and_society/2021/11/10/icelanders_trust_women_leaders_better_than_do_other/\n",
            "\n"
          ]
        },
        {
          "output_type": "stream",
          "name": "stderr",
          "text": [
            "<ipython-input-24-20d67951d720>:21: FutureWarning: The frame.append method is deprecated and will be removed from pandas in a future version. Use pandas.concat instead.\n",
            "  df = df.append(current_dict, ignore_index=True)\n"
          ]
        },
        {
          "output_type": "stream",
          "name": "stdout",
          "text": [
            "\n",
            " \tWe have already have 74.66% of the data!! link: https://icelandmonitor.mbl.is/news/news/2023/03/09/could_terminate_work_contract_of_a_nurse_who_denied/\n",
            "\n"
          ]
        },
        {
          "output_type": "stream",
          "name": "stderr",
          "text": [
            "<ipython-input-24-20d67951d720>:21: FutureWarning: The frame.append method is deprecated and will be removed from pandas in a future version. Use pandas.concat instead.\n",
            "  df = df.append(current_dict, ignore_index=True)\n"
          ]
        },
        {
          "output_type": "stream",
          "name": "stdout",
          "text": [
            "\n",
            " \tWe have already have 74.89% of the data!! link: https://icelandmonitor.mbl.is/news/politics_and_society/2022/08/15/more_people_need_to_work_to_sustain_retirement_pens/\n",
            "\n"
          ]
        },
        {
          "output_type": "stream",
          "name": "stderr",
          "text": [
            "<ipython-input-24-20d67951d720>:21: FutureWarning: The frame.append method is deprecated and will be removed from pandas in a future version. Use pandas.concat instead.\n",
            "  df = df.append(current_dict, ignore_index=True)\n"
          ]
        },
        {
          "output_type": "stream",
          "name": "stdout",
          "text": [
            "\n",
            " \tWe have already have 75.11% of the data!! link: https://icelandmonitor.mbl.is/news/eat_and_drink/2018/04/05/best_places_for_a_cocktail_in_reykjavik/\n",
            "\n"
          ]
        },
        {
          "output_type": "stream",
          "name": "stderr",
          "text": [
            "<ipython-input-24-20d67951d720>:21: FutureWarning: The frame.append method is deprecated and will be removed from pandas in a future version. Use pandas.concat instead.\n",
            "  df = df.append(current_dict, ignore_index=True)\n"
          ]
        },
        {
          "output_type": "stream",
          "name": "stdout",
          "text": [
            "\n",
            " \tWe have already have 75.34% of the data!! link: https://icelandmonitor.mbl.is/news/culture_and_living/2022/09/11/pole_dancing_on_the_roof_of_the_nordic_house/\n",
            "\n"
          ]
        },
        {
          "output_type": "stream",
          "name": "stderr",
          "text": [
            "<ipython-input-24-20d67951d720>:21: FutureWarning: The frame.append method is deprecated and will be removed from pandas in a future version. Use pandas.concat instead.\n",
            "  df = df.append(current_dict, ignore_index=True)\n"
          ]
        },
        {
          "output_type": "stream",
          "name": "stdout",
          "text": [
            "\n",
            " \tWe have already have 75.56% of the data!! link: https://icelandmonitor.mbl.is/news/culture_and_living/2022/05/04/biking_to_work_for_twenty_years/\n",
            "\n"
          ]
        },
        {
          "output_type": "stream",
          "name": "stderr",
          "text": [
            "<ipython-input-24-20d67951d720>:21: FutureWarning: The frame.append method is deprecated and will be removed from pandas in a future version. Use pandas.concat instead.\n",
            "  df = df.append(current_dict, ignore_index=True)\n"
          ]
        },
        {
          "output_type": "stream",
          "name": "stdout",
          "text": [
            "\n",
            " \tWe have already have 75.78% of the data!! link: https://icelandmonitor.mbl.is/news/eat_and_drink/2019/01/14/le_kock_moves_to_downtown_reykjavik/\n",
            "\n"
          ]
        },
        {
          "output_type": "stream",
          "name": "stderr",
          "text": [
            "<ipython-input-24-20d67951d720>:21: FutureWarning: The frame.append method is deprecated and will be removed from pandas in a future version. Use pandas.concat instead.\n",
            "  df = df.append(current_dict, ignore_index=True)\n"
          ]
        },
        {
          "output_type": "stream",
          "name": "stdout",
          "text": [
            "\n",
            " \tWe have already have 76.01% of the data!! link: https://icelandmonitor.mbl.is/news/culture_and_living/2022/11/21/one_third_of_the_population_reads_a_book_every_day/\n",
            "\n"
          ]
        },
        {
          "output_type": "stream",
          "name": "stderr",
          "text": [
            "<ipython-input-24-20d67951d720>:21: FutureWarning: The frame.append method is deprecated and will be removed from pandas in a future version. Use pandas.concat instead.\n",
            "  df = df.append(current_dict, ignore_index=True)\n"
          ]
        },
        {
          "output_type": "stream",
          "name": "stdout",
          "text": [
            "\n",
            " \tWe have already have 76.23% of the data!! link: https://icelandmonitor.mbl.is/news/eat_and_drink/2017/10/18/new_butcher_s_shop_opens_at_grandi_harbour_district/\n",
            "\n"
          ]
        },
        {
          "output_type": "stream",
          "name": "stderr",
          "text": [
            "<ipython-input-24-20d67951d720>:21: FutureWarning: The frame.append method is deprecated and will be removed from pandas in a future version. Use pandas.concat instead.\n",
            "  df = df.append(current_dict, ignore_index=True)\n"
          ]
        },
        {
          "output_type": "stream",
          "name": "stdout",
          "text": [
            "\n",
            " \tWe have already have 76.46% of the data!! link: https://icelandmonitor.mbl.is/news/politics_and_society/2022/10/25/immigration_is_changing_the_age_distribution_in_the/\n",
            "\n"
          ]
        },
        {
          "output_type": "stream",
          "name": "stderr",
          "text": [
            "<ipython-input-24-20d67951d720>:21: FutureWarning: The frame.append method is deprecated and will be removed from pandas in a future version. Use pandas.concat instead.\n",
            "  df = df.append(current_dict, ignore_index=True)\n"
          ]
        },
        {
          "output_type": "stream",
          "name": "stdout",
          "text": [
            "\n",
            " \tWe have already have 76.68% of the data!! link: https://icelandmonitor.mbl.is/news/nature_and_travel/2022/09/07/a_man_fly_fishing_in_east_ranga_got_an_electrical_s/\n",
            "\n"
          ]
        },
        {
          "output_type": "stream",
          "name": "stderr",
          "text": [
            "<ipython-input-24-20d67951d720>:21: FutureWarning: The frame.append method is deprecated and will be removed from pandas in a future version. Use pandas.concat instead.\n",
            "  df = df.append(current_dict, ignore_index=True)\n"
          ]
        },
        {
          "output_type": "stream",
          "name": "stdout",
          "text": [
            "\n",
            " \tWe have already have 76.91% of the data!! link: https://icelandmonitor.mbl.is/news/nature_and_travel/2022/05/14/big_earthquake_in_threngslin_in_the_south/\n",
            "\n"
          ]
        },
        {
          "output_type": "stream",
          "name": "stderr",
          "text": [
            "<ipython-input-24-20d67951d720>:21: FutureWarning: The frame.append method is deprecated and will be removed from pandas in a future version. Use pandas.concat instead.\n",
            "  df = df.append(current_dict, ignore_index=True)\n"
          ]
        },
        {
          "output_type": "stream",
          "name": "stdout",
          "text": [
            "\n",
            " \tWe have already have 77.13% of the data!! link: https://icelandmonitor.mbl.is/news/nature_and_travel/2022/06/20/midnight_sun_nightwater_festival_celebrated_next_we/\n",
            "\n"
          ]
        },
        {
          "output_type": "stream",
          "name": "stderr",
          "text": [
            "<ipython-input-24-20d67951d720>:21: FutureWarning: The frame.append method is deprecated and will be removed from pandas in a future version. Use pandas.concat instead.\n",
            "  df = df.append(current_dict, ignore_index=True)\n"
          ]
        },
        {
          "output_type": "stream",
          "name": "stdout",
          "text": [
            "\n",
            " \tWe have already have 77.35% of the data!! link: https://icelandmonitor.mbl.is/news/politics_and_society/2022/03/01/iceland_charters_freight_aircraft_for_transporting_/\n",
            "\n"
          ]
        },
        {
          "output_type": "stream",
          "name": "stderr",
          "text": [
            "<ipython-input-24-20d67951d720>:21: FutureWarning: The frame.append method is deprecated and will be removed from pandas in a future version. Use pandas.concat instead.\n",
            "  df = df.append(current_dict, ignore_index=True)\n"
          ]
        },
        {
          "output_type": "stream",
          "name": "stdout",
          "text": [
            "\n",
            " \tWe have already have 77.58% of the data!! link: https://icelandmonitor.mbl.is/news/eat_and_drink/2018/01/24/almost_half_of_icelanders_eat_lamb_once_per_week/\n",
            "\n"
          ]
        },
        {
          "output_type": "stream",
          "name": "stderr",
          "text": [
            "<ipython-input-24-20d67951d720>:21: FutureWarning: The frame.append method is deprecated and will be removed from pandas in a future version. Use pandas.concat instead.\n",
            "  df = df.append(current_dict, ignore_index=True)\n"
          ]
        },
        {
          "output_type": "stream",
          "name": "stdout",
          "text": [
            "\n",
            " \tWe have already have 77.8% of the data!! link: https://icelandmonitor.mbl.is/news/eat_and_drink/2017/08/12/style_jamie_s_italian_pays_homage_to_hotel_borg_s_r/\n",
            "\n"
          ]
        },
        {
          "output_type": "stream",
          "name": "stderr",
          "text": [
            "<ipython-input-24-20d67951d720>:21: FutureWarning: The frame.append method is deprecated and will be removed from pandas in a future version. Use pandas.concat instead.\n",
            "  df = df.append(current_dict, ignore_index=True)\n"
          ]
        },
        {
          "output_type": "stream",
          "name": "stdout",
          "text": [
            "\n",
            " \tWe have already have 78.03% of the data!! link: https://icelandmonitor.mbl.is/news/eat_and_drink/2019/02/22/four_icelandic_restaurants_added_to_michelin_guide/\n",
            "\n"
          ]
        },
        {
          "output_type": "stream",
          "name": "stderr",
          "text": [
            "<ipython-input-24-20d67951d720>:21: FutureWarning: The frame.append method is deprecated and will be removed from pandas in a future version. Use pandas.concat instead.\n",
            "  df = df.append(current_dict, ignore_index=True)\n"
          ]
        },
        {
          "output_type": "stream",
          "name": "stdout",
          "text": [
            "\n",
            " \tWe have already have 78.25% of the data!! link: https://icelandmonitor.mbl.is/news/nature_and_travel/2022/02/07/severe_weather_continues/\n",
            "\n"
          ]
        },
        {
          "output_type": "stream",
          "name": "stderr",
          "text": [
            "<ipython-input-24-20d67951d720>:21: FutureWarning: The frame.append method is deprecated and will be removed from pandas in a future version. Use pandas.concat instead.\n",
            "  df = df.append(current_dict, ignore_index=True)\n"
          ]
        },
        {
          "output_type": "stream",
          "name": "stdout",
          "text": [
            "\n",
            " \tWe have already have 78.48% of the data!! link: https://icelandmonitor.mbl.is/news/politics_and_society/2022/09/29/building_ablaze_in_egilsstadir_yesterday/\n",
            "\n"
          ]
        },
        {
          "output_type": "stream",
          "name": "stderr",
          "text": [
            "<ipython-input-24-20d67951d720>:21: FutureWarning: The frame.append method is deprecated and will be removed from pandas in a future version. Use pandas.concat instead.\n",
            "  df = df.append(current_dict, ignore_index=True)\n"
          ]
        },
        {
          "output_type": "stream",
          "name": "stdout",
          "text": [
            "\n",
            " \tWe have already have 78.7% of the data!! link: https://icelandmonitor.mbl.is/news/culture_and_living/2021/11/30/making_iceland_attractive_to_filmmakers_from_abroad/\n",
            "\n"
          ]
        },
        {
          "output_type": "stream",
          "name": "stderr",
          "text": [
            "<ipython-input-24-20d67951d720>:21: FutureWarning: The frame.append method is deprecated and will be removed from pandas in a future version. Use pandas.concat instead.\n",
            "  df = df.append(current_dict, ignore_index=True)\n"
          ]
        },
        {
          "output_type": "stream",
          "name": "stdout",
          "text": [
            "\n",
            " \tWe have already have 78.92% of the data!! link: https://icelandmonitor.mbl.is/news/nature_and_travel/2022/01/26/expecting_1_1_1_2_million_tourists_this_year/\n",
            "\n"
          ]
        },
        {
          "output_type": "stream",
          "name": "stderr",
          "text": [
            "<ipython-input-24-20d67951d720>:21: FutureWarning: The frame.append method is deprecated and will be removed from pandas in a future version. Use pandas.concat instead.\n",
            "  df = df.append(current_dict, ignore_index=True)\n"
          ]
        },
        {
          "output_type": "stream",
          "name": "stdout",
          "text": [
            "\n",
            " \tWe have already have 79.15% of the data!! link: https://icelandmonitor.mbl.is/news/eat_and_drink/2018/01/25/a_new_french_coffee_and_cookie_shop_on_hverfisgata/\n",
            "\n"
          ]
        },
        {
          "output_type": "stream",
          "name": "stderr",
          "text": [
            "<ipython-input-24-20d67951d720>:21: FutureWarning: The frame.append method is deprecated and will be removed from pandas in a future version. Use pandas.concat instead.\n",
            "  df = df.append(current_dict, ignore_index=True)\n"
          ]
        },
        {
          "output_type": "stream",
          "name": "stdout",
          "text": [
            "\n",
            " \tWe have already have 79.37% of the data!! link: https://icelandmonitor.mbl.is/news/nature_and_travel/2022/03/10/keeps_the_shovel_in_her_bed/\n",
            "\n"
          ]
        },
        {
          "output_type": "stream",
          "name": "stderr",
          "text": [
            "<ipython-input-24-20d67951d720>:21: FutureWarning: The frame.append method is deprecated and will be removed from pandas in a future version. Use pandas.concat instead.\n",
            "  df = df.append(current_dict, ignore_index=True)\n"
          ]
        },
        {
          "output_type": "stream",
          "name": "stdout",
          "text": [
            "\n",
            " \tWe have already have 79.6% of the data!! link: https://icelandmonitor.mbl.is/news/culture_and_living/2021/11/29/lights_of_oslo_tree_lit_in_reykjavik/\n",
            "\n"
          ]
        },
        {
          "output_type": "stream",
          "name": "stderr",
          "text": [
            "<ipython-input-24-20d67951d720>:21: FutureWarning: The frame.append method is deprecated and will be removed from pandas in a future version. Use pandas.concat instead.\n",
            "  df = df.append(current_dict, ignore_index=True)\n"
          ]
        },
        {
          "output_type": "stream",
          "name": "stdout",
          "text": [
            "\n",
            " \tWe have already have 79.82% of the data!! link: https://icelandmonitor.mbl.is/news/eat_and_drink/2022/05/28/new_icelandic_porridge_on_the_market/\n",
            "\n"
          ]
        },
        {
          "output_type": "stream",
          "name": "stderr",
          "text": [
            "<ipython-input-24-20d67951d720>:21: FutureWarning: The frame.append method is deprecated and will be removed from pandas in a future version. Use pandas.concat instead.\n",
            "  df = df.append(current_dict, ignore_index=True)\n"
          ]
        },
        {
          "output_type": "stream",
          "name": "stdout",
          "text": [
            "\n",
            " \tWe have already have 80.04% of the data!! link: https://icelandmonitor.mbl.is/news/politics_and_society/2022/07/22/arrested_for_painting_stop_war_outside_of_the_russi/\n",
            "\n"
          ]
        },
        {
          "output_type": "stream",
          "name": "stderr",
          "text": [
            "<ipython-input-24-20d67951d720>:21: FutureWarning: The frame.append method is deprecated and will be removed from pandas in a future version. Use pandas.concat instead.\n",
            "  df = df.append(current_dict, ignore_index=True)\n"
          ]
        },
        {
          "output_type": "stream",
          "name": "stdout",
          "text": [
            "\n",
            " \tWe have already have 80.27% of the data!! link: https://icelandmonitor.mbl.is/news/culture_and_living/2022/11/01/the_christian_word_needs_icelandic_subtitles/\n",
            "\n"
          ]
        },
        {
          "output_type": "stream",
          "name": "stderr",
          "text": [
            "<ipython-input-24-20d67951d720>:21: FutureWarning: The frame.append method is deprecated and will be removed from pandas in a future version. Use pandas.concat instead.\n",
            "  df = df.append(current_dict, ignore_index=True)\n"
          ]
        },
        {
          "output_type": "stream",
          "name": "stdout",
          "text": [
            "\n",
            " \tWe have already have 80.49% of the data!! link: https://icelandmonitor.mbl.is/news/politics_and_society/2022/09/29/most_of_the_weapons_legally_registered/\n",
            "\n"
          ]
        },
        {
          "output_type": "stream",
          "name": "stderr",
          "text": [
            "<ipython-input-24-20d67951d720>:21: FutureWarning: The frame.append method is deprecated and will be removed from pandas in a future version. Use pandas.concat instead.\n",
            "  df = df.append(current_dict, ignore_index=True)\n"
          ]
        },
        {
          "output_type": "stream",
          "name": "stdout",
          "text": [
            "\n",
            " \tWe have already have 80.72% of the data!! link: https://icelandmonitor.mbl.is/news/politics_and_society/2022/11/15/unrealistic_to_push_for_122_isk_per_share_in_the_is/\n",
            "\n"
          ]
        },
        {
          "output_type": "stream",
          "name": "stderr",
          "text": [
            "<ipython-input-24-20d67951d720>:21: FutureWarning: The frame.append method is deprecated and will be removed from pandas in a future version. Use pandas.concat instead.\n",
            "  df = df.append(current_dict, ignore_index=True)\n"
          ]
        },
        {
          "output_type": "stream",
          "name": "stdout",
          "text": [
            "\n",
            " \tWe have already have 80.94% of the data!! link: https://icelandmonitor.mbl.is/news/culture_and_living/2021/10/17/award_winning_photos_of_flight/\n",
            "\n"
          ]
        },
        {
          "output_type": "stream",
          "name": "stderr",
          "text": [
            "<ipython-input-24-20d67951d720>:21: FutureWarning: The frame.append method is deprecated and will be removed from pandas in a future version. Use pandas.concat instead.\n",
            "  df = df.append(current_dict, ignore_index=True)\n"
          ]
        },
        {
          "output_type": "stream",
          "name": "stdout",
          "text": [
            "\n",
            " \tWe have already have 81.17% of the data!! link: https://icelandmonitor.mbl.is/news/eat_and_drink/2019/06/12/how_dried_fish_is_made/\n",
            "\n"
          ]
        },
        {
          "output_type": "stream",
          "name": "stderr",
          "text": [
            "<ipython-input-24-20d67951d720>:21: FutureWarning: The frame.append method is deprecated and will be removed from pandas in a future version. Use pandas.concat instead.\n",
            "  df = df.append(current_dict, ignore_index=True)\n"
          ]
        },
        {
          "output_type": "stream",
          "name": "stdout",
          "text": [
            "\n",
            " \tWe have already have 81.39% of the data!! link: https://icelandmonitor.mbl.is/news/politics_and_society/2022/03/03/preparations_underway_to_receive_refugees_from_ukra/\n",
            "\n"
          ]
        },
        {
          "output_type": "stream",
          "name": "stderr",
          "text": [
            "<ipython-input-24-20d67951d720>:21: FutureWarning: The frame.append method is deprecated and will be removed from pandas in a future version. Use pandas.concat instead.\n",
            "  df = df.append(current_dict, ignore_index=True)\n"
          ]
        },
        {
          "output_type": "stream",
          "name": "stdout",
          "text": [
            "\n",
            " \tWe have already have 81.61% of the data!! link: https://icelandmonitor.mbl.is/news/nature_and_travel/2022/08/10/children_under_12_years_old_cannot_visit_the_erupti/\n",
            "\n"
          ]
        },
        {
          "output_type": "stream",
          "name": "stderr",
          "text": [
            "<ipython-input-24-20d67951d720>:21: FutureWarning: The frame.append method is deprecated and will be removed from pandas in a future version. Use pandas.concat instead.\n",
            "  df = df.append(current_dict, ignore_index=True)\n"
          ]
        },
        {
          "output_type": "stream",
          "name": "stdout",
          "text": [
            "\n",
            " \tWe have already have 81.84% of the data!! link: https://icelandmonitor.mbl.is/news/culture_and_living/2022/11/27/keflavik_turned_into_alaska/\n",
            "\n"
          ]
        },
        {
          "output_type": "stream",
          "name": "stderr",
          "text": [
            "<ipython-input-24-20d67951d720>:21: FutureWarning: The frame.append method is deprecated and will be removed from pandas in a future version. Use pandas.concat instead.\n",
            "  df = df.append(current_dict, ignore_index=True)\n"
          ]
        },
        {
          "output_type": "stream",
          "name": "stdout",
          "text": [
            "\n",
            " \tWe have already have 82.06% of the data!! link: https://icelandmonitor.mbl.is/news/politics_and_society/2022/10/14/signs_will_soon_have_icelandic_first_at_the_keflavi/\n",
            "\n"
          ]
        },
        {
          "output_type": "stream",
          "name": "stderr",
          "text": [
            "<ipython-input-24-20d67951d720>:21: FutureWarning: The frame.append method is deprecated and will be removed from pandas in a future version. Use pandas.concat instead.\n",
            "  df = df.append(current_dict, ignore_index=True)\n"
          ]
        },
        {
          "output_type": "stream",
          "name": "stdout",
          "text": [
            "\n",
            " \tWe have already have 82.29% of the data!! link: https://icelandmonitor.mbl.is/news/politics_and_society/2022/03/07/icelanders_advised_not_to_fight_in_ukraine/\n",
            "\n"
          ]
        },
        {
          "output_type": "stream",
          "name": "stderr",
          "text": [
            "<ipython-input-24-20d67951d720>:21: FutureWarning: The frame.append method is deprecated and will be removed from pandas in a future version. Use pandas.concat instead.\n",
            "  df = df.append(current_dict, ignore_index=True)\n"
          ]
        },
        {
          "output_type": "stream",
          "name": "stdout",
          "text": [
            "\n",
            " \tWe have already have 82.51% of the data!! link: https://icelandmonitor.mbl.is/news/politics_and_society/2022/07/26/swam_from_the_westman_islands_to_landeyjasandur_for/\n",
            "\n"
          ]
        },
        {
          "output_type": "stream",
          "name": "stderr",
          "text": [
            "<ipython-input-24-20d67951d720>:21: FutureWarning: The frame.append method is deprecated and will be removed from pandas in a future version. Use pandas.concat instead.\n",
            "  df = df.append(current_dict, ignore_index=True)\n"
          ]
        },
        {
          "output_type": "stream",
          "name": "stdout",
          "text": [
            "\n",
            " \tWe have already have 82.74% of the data!! link: https://icelandmonitor.mbl.is/news/politics_and_society/2022/09/12/second_grant_to_assist_municipalities_in_welcoming_/\n",
            "\n"
          ]
        },
        {
          "output_type": "stream",
          "name": "stderr",
          "text": [
            "<ipython-input-24-20d67951d720>:21: FutureWarning: The frame.append method is deprecated and will be removed from pandas in a future version. Use pandas.concat instead.\n",
            "  df = df.append(current_dict, ignore_index=True)\n"
          ]
        },
        {
          "output_type": "stream",
          "name": "stdout",
          "text": [
            "\n",
            " \tWe have already have 82.96% of the data!! link: https://icelandmonitor.mbl.is/news/culture_and_living/2022/10/29/a_memorial_to_honor_the_herring_girls/\n",
            "\n"
          ]
        },
        {
          "output_type": "stream",
          "name": "stderr",
          "text": [
            "<ipython-input-24-20d67951d720>:21: FutureWarning: The frame.append method is deprecated and will be removed from pandas in a future version. Use pandas.concat instead.\n",
            "  df = df.append(current_dict, ignore_index=True)\n"
          ]
        },
        {
          "output_type": "stream",
          "name": "stdout",
          "text": [
            "\n",
            " \tWe have already have 83.18% of the data!! link: https://icelandmonitor.mbl.is/news/nature_and_travel/2022/03/21/lambing_season_begins_in_landsveit/\n",
            "\n"
          ]
        },
        {
          "output_type": "stream",
          "name": "stderr",
          "text": [
            "<ipython-input-24-20d67951d720>:21: FutureWarning: The frame.append method is deprecated and will be removed from pandas in a future version. Use pandas.concat instead.\n",
            "  df = df.append(current_dict, ignore_index=True)\n"
          ]
        },
        {
          "output_type": "stream",
          "name": "stdout",
          "text": [
            "\n",
            " \tWe have already have 83.41% of the data!! link: https://icelandmonitor.mbl.is/news/politics_and_society/2021/11/23/althingi_to_reconvene_today/\n",
            "\n"
          ]
        },
        {
          "output_type": "stream",
          "name": "stderr",
          "text": [
            "<ipython-input-24-20d67951d720>:21: FutureWarning: The frame.append method is deprecated and will be removed from pandas in a future version. Use pandas.concat instead.\n",
            "  df = df.append(current_dict, ignore_index=True)\n"
          ]
        },
        {
          "output_type": "stream",
          "name": "stdout",
          "text": [
            "\n",
            " \tWe have already have 83.63% of the data!! link: https://icelandmonitor.mbl.is/news/news/2023/03/11/found_debris_of_a_plane_and_a_human_skull/\n",
            "\n"
          ]
        },
        {
          "output_type": "stream",
          "name": "stderr",
          "text": [
            "<ipython-input-24-20d67951d720>:21: FutureWarning: The frame.append method is deprecated and will be removed from pandas in a future version. Use pandas.concat instead.\n",
            "  df = df.append(current_dict, ignore_index=True)\n"
          ]
        },
        {
          "output_type": "stream",
          "name": "stdout",
          "text": [
            "\n",
            " \tWe have already have 83.86% of the data!! link: https://icelandmonitor.mbl.is/news/eat_and_drink/2018/11/27/a_magical_american_christmas_buffet_in_reykjavik/\n",
            "\n"
          ]
        },
        {
          "output_type": "stream",
          "name": "stderr",
          "text": [
            "<ipython-input-24-20d67951d720>:21: FutureWarning: The frame.append method is deprecated and will be removed from pandas in a future version. Use pandas.concat instead.\n",
            "  df = df.append(current_dict, ignore_index=True)\n"
          ]
        },
        {
          "output_type": "stream",
          "name": "stdout",
          "text": [
            "\n",
            " \tWe have already have 84.08% of the data!! link: https://icelandmonitor.mbl.is/news/politics_and_society/2022/03/01/ready_to_receive_refugees_from_ukraine/\n",
            "\n"
          ]
        },
        {
          "output_type": "stream",
          "name": "stderr",
          "text": [
            "<ipython-input-24-20d67951d720>:21: FutureWarning: The frame.append method is deprecated and will be removed from pandas in a future version. Use pandas.concat instead.\n",
            "  df = df.append(current_dict, ignore_index=True)\n"
          ]
        },
        {
          "output_type": "stream",
          "name": "stdout",
          "text": [
            "\n",
            " \tWe have already have 84.3% of the data!! link: https://icelandmonitor.mbl.is/news/eat_and_drink/2017/10/31/dunkin_donuts_close_down_in_reykjavik_city_centre/\n",
            "\n"
          ]
        },
        {
          "output_type": "stream",
          "name": "stderr",
          "text": [
            "<ipython-input-24-20d67951d720>:21: FutureWarning: The frame.append method is deprecated and will be removed from pandas in a future version. Use pandas.concat instead.\n",
            "  df = df.append(current_dict, ignore_index=True)\n"
          ]
        },
        {
          "output_type": "stream",
          "name": "stdout",
          "text": [
            "\n",
            " \tWe have already have 84.53% of the data!! link: https://icelandmonitor.mbl.is/news/culture_and_living/2021/11/17/rector_of_university_of_iceland_among_world_s_top_s/\n",
            "\n"
          ]
        },
        {
          "output_type": "stream",
          "name": "stderr",
          "text": [
            "<ipython-input-24-20d67951d720>:21: FutureWarning: The frame.append method is deprecated and will be removed from pandas in a future version. Use pandas.concat instead.\n",
            "  df = df.append(current_dict, ignore_index=True)\n"
          ]
        },
        {
          "output_type": "stream",
          "name": "stdout",
          "text": [
            "\n",
            " \tWe have already have 84.75% of the data!! link: https://icelandmonitor.mbl.is/news/nature_and_travel/2022/09/08/hrisey_in_eyjafjordur_gets_great_reviews_in_the_gua/\n",
            "\n"
          ]
        },
        {
          "output_type": "stream",
          "name": "stderr",
          "text": [
            "<ipython-input-24-20d67951d720>:21: FutureWarning: The frame.append method is deprecated and will be removed from pandas in a future version. Use pandas.concat instead.\n",
            "  df = df.append(current_dict, ignore_index=True)\n"
          ]
        },
        {
          "output_type": "stream",
          "name": "stdout",
          "text": [
            "\n",
            " \tWe have already have 84.98% of the data!! link: https://icelandmonitor.mbl.is/news/politics_and_society/2022/10/15/icelandair_working_with_arctic_circle/\n",
            "\n"
          ]
        },
        {
          "output_type": "stream",
          "name": "stderr",
          "text": [
            "<ipython-input-24-20d67951d720>:21: FutureWarning: The frame.append method is deprecated and will be removed from pandas in a future version. Use pandas.concat instead.\n",
            "  df = df.append(current_dict, ignore_index=True)\n"
          ]
        },
        {
          "output_type": "stream",
          "name": "stdout",
          "text": [
            "\n",
            " \tWe have already have 85.2% of the data!! link: https://icelandmonitor.mbl.is/news/nature_and_travel/2022/02/08/high_waves_and_exceptionally_strong_winds/\n",
            "\n"
          ]
        },
        {
          "output_type": "stream",
          "name": "stderr",
          "text": [
            "<ipython-input-24-20d67951d720>:21: FutureWarning: The frame.append method is deprecated and will be removed from pandas in a future version. Use pandas.concat instead.\n",
            "  df = df.append(current_dict, ignore_index=True)\n"
          ]
        },
        {
          "output_type": "stream",
          "name": "stdout",
          "text": [
            "\n",
            " \tWe have already have 85.43% of the data!! link: https://icelandmonitor.mbl.is/news/eat_and_drink/2022/09/06/the_chocolate_covered_liquorice_war/\n",
            "\n"
          ]
        },
        {
          "output_type": "stream",
          "name": "stderr",
          "text": [
            "<ipython-input-24-20d67951d720>:21: FutureWarning: The frame.append method is deprecated and will be removed from pandas in a future version. Use pandas.concat instead.\n",
            "  df = df.append(current_dict, ignore_index=True)\n"
          ]
        },
        {
          "output_type": "stream",
          "name": "stdout",
          "text": [
            "\n",
            " \tWe have already have 85.65% of the data!! link: https://icelandmonitor.mbl.is/news/politics_and_society/2022/11/08/reykjavik_global_forum_women_leaders_starts_in_harp/\n",
            "\n"
          ]
        },
        {
          "output_type": "stream",
          "name": "stderr",
          "text": [
            "<ipython-input-24-20d67951d720>:21: FutureWarning: The frame.append method is deprecated and will be removed from pandas in a future version. Use pandas.concat instead.\n",
            "  df = df.append(current_dict, ignore_index=True)\n"
          ]
        },
        {
          "output_type": "stream",
          "name": "stdout",
          "text": [
            "\n",
            " \tWe have already have 85.87% of the data!! link: https://icelandmonitor.mbl.is/news/politics_and_society/2022/08/23/the_presidents_of_the_baltic_countries_visit_icelan/\n",
            "\n"
          ]
        },
        {
          "output_type": "stream",
          "name": "stderr",
          "text": [
            "<ipython-input-24-20d67951d720>:21: FutureWarning: The frame.append method is deprecated and will be removed from pandas in a future version. Use pandas.concat instead.\n",
            "  df = df.append(current_dict, ignore_index=True)\n"
          ]
        },
        {
          "output_type": "stream",
          "name": "stdout",
          "text": [
            "\n",
            " \tWe have already have 86.1% of the data!! link: https://icelandmonitor.mbl.is/news/nature_and_travel/2022/03/24/observation_platform_planned_in_asbyrgi/\n",
            "\n"
          ]
        },
        {
          "output_type": "stream",
          "name": "stderr",
          "text": [
            "<ipython-input-24-20d67951d720>:21: FutureWarning: The frame.append method is deprecated and will be removed from pandas in a future version. Use pandas.concat instead.\n",
            "  df = df.append(current_dict, ignore_index=True)\n"
          ]
        },
        {
          "output_type": "stream",
          "name": "stdout",
          "text": [
            "\n",
            " \tWe have already have 86.32% of the data!! link: https://icelandmonitor.mbl.is/news/eat_and_drink/2018/03/08/video_a_look_inside_reykjavik_s_first_cat_cafe/\n",
            "\n"
          ]
        },
        {
          "output_type": "stream",
          "name": "stderr",
          "text": [
            "<ipython-input-24-20d67951d720>:21: FutureWarning: The frame.append method is deprecated and will be removed from pandas in a future version. Use pandas.concat instead.\n",
            "  df = df.append(current_dict, ignore_index=True)\n"
          ]
        },
        {
          "output_type": "stream",
          "name": "stdout",
          "text": [
            "\n",
            " \tWe have already have 86.55% of the data!! link: https://icelandmonitor.mbl.is/news/politics_and_society/2022/11/10/considers_the_criteria_changed_in_the_terrorism_cas/\n",
            "\n"
          ]
        },
        {
          "output_type": "stream",
          "name": "stderr",
          "text": [
            "<ipython-input-24-20d67951d720>:21: FutureWarning: The frame.append method is deprecated and will be removed from pandas in a future version. Use pandas.concat instead.\n",
            "  df = df.append(current_dict, ignore_index=True)\n"
          ]
        },
        {
          "output_type": "stream",
          "name": "stdout",
          "text": [
            "\n",
            " \tWe have already have 86.77% of the data!! link: https://icelandmonitor.mbl.is/news/politics_and_society/2022/11/29/the_biggest_budget_increase_for_law_enforcement_in_/\n",
            "\n"
          ]
        },
        {
          "output_type": "stream",
          "name": "stderr",
          "text": [
            "<ipython-input-24-20d67951d720>:21: FutureWarning: The frame.append method is deprecated and will be removed from pandas in a future version. Use pandas.concat instead.\n",
            "  df = df.append(current_dict, ignore_index=True)\n"
          ]
        },
        {
          "output_type": "stream",
          "name": "stdout",
          "text": [
            "\n",
            " \tWe have already have 87.0% of the data!! link: https://icelandmonitor.mbl.is/news/culture_and_living/2022/03/28/reykjavik_nightlife_has_changed/\n",
            "\n"
          ]
        },
        {
          "output_type": "stream",
          "name": "stderr",
          "text": [
            "<ipython-input-24-20d67951d720>:21: FutureWarning: The frame.append method is deprecated and will be removed from pandas in a future version. Use pandas.concat instead.\n",
            "  df = df.append(current_dict, ignore_index=True)\n"
          ]
        },
        {
          "output_type": "stream",
          "name": "stdout",
          "text": [
            "\n",
            " \tWe have already have 87.22% of the data!! link: https://icelandmonitor.mbl.is/news/nature_and_travel/2022/01/25/numerous_flights_canceled_to_and_from_kef_airport/\n",
            "\n"
          ]
        },
        {
          "output_type": "stream",
          "name": "stderr",
          "text": [
            "<ipython-input-24-20d67951d720>:21: FutureWarning: The frame.append method is deprecated and will be removed from pandas in a future version. Use pandas.concat instead.\n",
            "  df = df.append(current_dict, ignore_index=True)\n"
          ]
        },
        {
          "output_type": "stream",
          "name": "stdout",
          "text": [
            "\n",
            " \tWe have already have 87.44% of the data!! link: https://icelandmonitor.mbl.is/news/news/2023/03/13/the_surface_of_lake_askja_is_frozen_again/\n",
            "\n"
          ]
        },
        {
          "output_type": "stream",
          "name": "stderr",
          "text": [
            "<ipython-input-24-20d67951d720>:21: FutureWarning: The frame.append method is deprecated and will be removed from pandas in a future version. Use pandas.concat instead.\n",
            "  df = df.append(current_dict, ignore_index=True)\n"
          ]
        },
        {
          "output_type": "stream",
          "name": "stdout",
          "text": [
            "\n",
            " \tWe have already have 87.67% of the data!! link: https://icelandmonitor.mbl.is/news/eat_and_drink/2018/11/26/icelandic_culinary_team_wins_gold_medal/\n",
            "\n"
          ]
        },
        {
          "output_type": "stream",
          "name": "stderr",
          "text": [
            "<ipython-input-24-20d67951d720>:21: FutureWarning: The frame.append method is deprecated and will be removed from pandas in a future version. Use pandas.concat instead.\n",
            "  df = df.append(current_dict, ignore_index=True)\n"
          ]
        },
        {
          "output_type": "stream",
          "name": "stdout",
          "text": [
            "\n",
            " \tWe have already have 87.89% of the data!! link: https://icelandmonitor.mbl.is/news/culture_and_living/2022/06/12/got_a_million_rejections_before_the_ball_started_ro/\n",
            "\n"
          ]
        },
        {
          "output_type": "stream",
          "name": "stderr",
          "text": [
            "<ipython-input-24-20d67951d720>:21: FutureWarning: The frame.append method is deprecated and will be removed from pandas in a future version. Use pandas.concat instead.\n",
            "  df = df.append(current_dict, ignore_index=True)\n"
          ]
        },
        {
          "output_type": "stream",
          "name": "stdout",
          "text": [
            "\n",
            " \tWe have already have 88.12% of the data!! link: https://icelandmonitor.mbl.is/news/politics_and_society/2022/05/16/the_progressive_party_is_the_winner_of_the_local_el/\n",
            "\n"
          ]
        },
        {
          "output_type": "stream",
          "name": "stderr",
          "text": [
            "<ipython-input-24-20d67951d720>:21: FutureWarning: The frame.append method is deprecated and will be removed from pandas in a future version. Use pandas.concat instead.\n",
            "  df = df.append(current_dict, ignore_index=True)\n"
          ]
        },
        {
          "output_type": "stream",
          "name": "stdout",
          "text": [
            "\n",
            " \tWe have already have 88.34% of the data!! link: https://icelandmonitor.mbl.is/news/nature_and_travel/2022/07/30/reykjanes_peninsula_on_alert_because_of_a_series_of/\n",
            "\n"
          ]
        },
        {
          "output_type": "stream",
          "name": "stderr",
          "text": [
            "<ipython-input-24-20d67951d720>:21: FutureWarning: The frame.append method is deprecated and will be removed from pandas in a future version. Use pandas.concat instead.\n",
            "  df = df.append(current_dict, ignore_index=True)\n"
          ]
        },
        {
          "output_type": "stream",
          "name": "stdout",
          "text": [
            "\n",
            " \tWe have already have 88.57% of the data!! link: https://icelandmonitor.mbl.is/news/nature_and_travel/2022/04/19/an_assault_on_icelandic_nature/\n",
            "\n"
          ]
        },
        {
          "output_type": "stream",
          "name": "stderr",
          "text": [
            "<ipython-input-24-20d67951d720>:21: FutureWarning: The frame.append method is deprecated and will be removed from pandas in a future version. Use pandas.concat instead.\n",
            "  df = df.append(current_dict, ignore_index=True)\n"
          ]
        },
        {
          "output_type": "stream",
          "name": "stdout",
          "text": [
            "\n",
            " \tWe have already have 88.79% of the data!! link: https://icelandmonitor.mbl.is/news/culture_and_living/2022/08/10/the_lost_swimmer_was_found_unresponsive_late_last_n/\n",
            "\n"
          ]
        },
        {
          "output_type": "stream",
          "name": "stderr",
          "text": [
            "<ipython-input-24-20d67951d720>:21: FutureWarning: The frame.append method is deprecated and will be removed from pandas in a future version. Use pandas.concat instead.\n",
            "  df = df.append(current_dict, ignore_index=True)\n"
          ]
        },
        {
          "output_type": "stream",
          "name": "stdout",
          "text": [
            "\n",
            " \tWe have already have 89.01% of the data!! link: https://icelandmonitor.mbl.is/news/culture_and_living/2022/05/07/iceland_just_might_be_the_dark_horse/\n",
            "\n"
          ]
        },
        {
          "output_type": "stream",
          "name": "stderr",
          "text": [
            "<ipython-input-24-20d67951d720>:21: FutureWarning: The frame.append method is deprecated and will be removed from pandas in a future version. Use pandas.concat instead.\n",
            "  df = df.append(current_dict, ignore_index=True)\n"
          ]
        },
        {
          "output_type": "stream",
          "name": "stdout",
          "text": [
            "\n",
            " \tWe have already have 89.24% of the data!! link: https://icelandmonitor.mbl.is/news/culture_and_living/2021/11/24/like_finding_gold/\n",
            "\n"
          ]
        },
        {
          "output_type": "stream",
          "name": "stderr",
          "text": [
            "<ipython-input-24-20d67951d720>:21: FutureWarning: The frame.append method is deprecated and will be removed from pandas in a future version. Use pandas.concat instead.\n",
            "  df = df.append(current_dict, ignore_index=True)\n"
          ]
        },
        {
          "output_type": "stream",
          "name": "stdout",
          "text": [
            "\n",
            " \tWe have already have 89.46% of the data!! link: https://icelandmonitor.mbl.is/news/eat_and_drink/2017/10/23/texasburgers_joint_at_grandi_becomes_hip_pizzeria/\n",
            "\n"
          ]
        },
        {
          "output_type": "stream",
          "name": "stderr",
          "text": [
            "<ipython-input-24-20d67951d720>:21: FutureWarning: The frame.append method is deprecated and will be removed from pandas in a future version. Use pandas.concat instead.\n",
            "  df = df.append(current_dict, ignore_index=True)\n"
          ]
        },
        {
          "output_type": "stream",
          "name": "stdout",
          "text": [
            "\n",
            " \tWe have already have 89.69% of the data!! link: https://icelandmonitor.mbl.is/news/nature_and_travel/2022/06/18/the_passengers_finally_sailing_to_shore/\n",
            "\n"
          ]
        },
        {
          "output_type": "stream",
          "name": "stderr",
          "text": [
            "<ipython-input-24-20d67951d720>:21: FutureWarning: The frame.append method is deprecated and will be removed from pandas in a future version. Use pandas.concat instead.\n",
            "  df = df.append(current_dict, ignore_index=True)\n"
          ]
        },
        {
          "output_type": "stream",
          "name": "stdout",
          "text": [
            "\n",
            " \tWe have already have 89.91% of the data!! link: https://icelandmonitor.mbl.is/news/eat_and_drink/2017/08/21/hlemmur_food_hall_opens_and_it_s_a_raving_success/\n",
            "\n"
          ]
        },
        {
          "output_type": "stream",
          "name": "stderr",
          "text": [
            "<ipython-input-24-20d67951d720>:21: FutureWarning: The frame.append method is deprecated and will be removed from pandas in a future version. Use pandas.concat instead.\n",
            "  df = df.append(current_dict, ignore_index=True)\n"
          ]
        },
        {
          "output_type": "stream",
          "name": "stdout",
          "text": [
            "\n",
            " \tWe have already have 90.13% of the data!! link: https://icelandmonitor.mbl.is/news/news/2023/03/28/coldest_march_in_reykjavik_this_century/\n",
            "\n"
          ]
        },
        {
          "output_type": "stream",
          "name": "stderr",
          "text": [
            "<ipython-input-24-20d67951d720>:21: FutureWarning: The frame.append method is deprecated and will be removed from pandas in a future version. Use pandas.concat instead.\n",
            "  df = df.append(current_dict, ignore_index=True)\n"
          ]
        },
        {
          "output_type": "stream",
          "name": "stdout",
          "text": [
            "\n",
            " \tWe have already have 90.36% of the data!! link: https://icelandmonitor.mbl.is/news/news/2023/03/09/plan_on_adding_80_new_police_jobs/\n",
            "\n"
          ]
        },
        {
          "output_type": "stream",
          "name": "stderr",
          "text": [
            "<ipython-input-24-20d67951d720>:21: FutureWarning: The frame.append method is deprecated and will be removed from pandas in a future version. Use pandas.concat instead.\n",
            "  df = df.append(current_dict, ignore_index=True)\n"
          ]
        },
        {
          "output_type": "stream",
          "name": "stdout",
          "text": [
            "\n",
            " \tWe have already have 90.58% of the data!! link: https://icelandmonitor.mbl.is/news/eat_and_drink/2018/06/13/books_taste_of_iceland_chosen_best_in_the_world/\n",
            "\n"
          ]
        },
        {
          "output_type": "stream",
          "name": "stderr",
          "text": [
            "<ipython-input-24-20d67951d720>:21: FutureWarning: The frame.append method is deprecated and will be removed from pandas in a future version. Use pandas.concat instead.\n",
            "  df = df.append(current_dict, ignore_index=True)\n"
          ]
        },
        {
          "output_type": "stream",
          "name": "stdout",
          "text": [
            "\n",
            " \tWe have already have 90.81% of the data!! link: https://icelandmonitor.mbl.is/news/politics_and_society/2022/11/11/unemployment_at_its_lowest_point/\n",
            "\n"
          ]
        },
        {
          "output_type": "stream",
          "name": "stderr",
          "text": [
            "<ipython-input-24-20d67951d720>:21: FutureWarning: The frame.append method is deprecated and will be removed from pandas in a future version. Use pandas.concat instead.\n",
            "  df = df.append(current_dict, ignore_index=True)\n"
          ]
        },
        {
          "output_type": "stream",
          "name": "stdout",
          "text": [
            "\n",
            " \tWe have already have 91.03% of the data!! link: https://icelandmonitor.mbl.is/news/culture_and_living/2022/01/31/cultural_heritage_legend_thordur_tomasson_dies_at_1/\n",
            "\n"
          ]
        },
        {
          "output_type": "stream",
          "name": "stderr",
          "text": [
            "<ipython-input-24-20d67951d720>:21: FutureWarning: The frame.append method is deprecated and will be removed from pandas in a future version. Use pandas.concat instead.\n",
            "  df = df.append(current_dict, ignore_index=True)\n"
          ]
        },
        {
          "output_type": "stream",
          "name": "stdout",
          "text": [
            "\n",
            " \tWe have already have 91.26% of the data!! link: https://icelandmonitor.mbl.is/news/eat_and_drink/2018/06/13/grandi_matholl_fjarhusid/\n",
            "\n"
          ]
        },
        {
          "output_type": "stream",
          "name": "stderr",
          "text": [
            "<ipython-input-24-20d67951d720>:21: FutureWarning: The frame.append method is deprecated and will be removed from pandas in a future version. Use pandas.concat instead.\n",
            "  df = df.append(current_dict, ignore_index=True)\n"
          ]
        },
        {
          "output_type": "stream",
          "name": "stdout",
          "text": [
            "\n",
            " \tWe have already have 91.48% of the data!! link: https://icelandmonitor.mbl.is/news/politics_and_society/2022/06/17/icelanders_united_where_it_matters/\n",
            "\n"
          ]
        },
        {
          "output_type": "stream",
          "name": "stderr",
          "text": [
            "<ipython-input-24-20d67951d720>:21: FutureWarning: The frame.append method is deprecated and will be removed from pandas in a future version. Use pandas.concat instead.\n",
            "  df = df.append(current_dict, ignore_index=True)\n"
          ]
        },
        {
          "output_type": "stream",
          "name": "stdout",
          "text": [
            "\n",
            " \tWe have already have 91.7% of the data!! link: https://icelandmonitor.mbl.is/news/nature_and_travel/2022/05/06/everything_is_selling_out/\n",
            "\n"
          ]
        },
        {
          "output_type": "stream",
          "name": "stderr",
          "text": [
            "<ipython-input-24-20d67951d720>:21: FutureWarning: The frame.append method is deprecated and will be removed from pandas in a future version. Use pandas.concat instead.\n",
            "  df = df.append(current_dict, ignore_index=True)\n"
          ]
        },
        {
          "output_type": "stream",
          "name": "stdout",
          "text": [
            "\n",
            " \tWe have already have 91.93% of the data!! link: https://icelandmonitor.mbl.is/news/culture_and_living/2022/07/21/ben_stiller_and_olafur_darri_s_happy_10_year_reunio/\n",
            "\n"
          ]
        },
        {
          "output_type": "stream",
          "name": "stderr",
          "text": [
            "<ipython-input-24-20d67951d720>:21: FutureWarning: The frame.append method is deprecated and will be removed from pandas in a future version. Use pandas.concat instead.\n",
            "  df = df.append(current_dict, ignore_index=True)\n"
          ]
        },
        {
          "output_type": "stream",
          "name": "stdout",
          "text": [
            "\n",
            " \tWe have already have 92.15% of the data!! link: https://icelandmonitor.mbl.is/news/eat_and_drink/2022/09/04/north_has_been_fully_booked_since_it_opened/\n",
            "\n"
          ]
        },
        {
          "output_type": "stream",
          "name": "stderr",
          "text": [
            "<ipython-input-24-20d67951d720>:21: FutureWarning: The frame.append method is deprecated and will be removed from pandas in a future version. Use pandas.concat instead.\n",
            "  df = df.append(current_dict, ignore_index=True)\n"
          ]
        },
        {
          "output_type": "stream",
          "name": "stdout",
          "text": [
            "\n",
            " \tWe have already have 92.38% of the data!! link: https://icelandmonitor.mbl.is/news/politics_and_society/2022/09/29/keflavik_airport_open_for_traffic/\n",
            "\n"
          ]
        },
        {
          "output_type": "stream",
          "name": "stderr",
          "text": [
            "<ipython-input-24-20d67951d720>:21: FutureWarning: The frame.append method is deprecated and will be removed from pandas in a future version. Use pandas.concat instead.\n",
            "  df = df.append(current_dict, ignore_index=True)\n"
          ]
        },
        {
          "output_type": "stream",
          "name": "stdout",
          "text": [
            "\n",
            " \tWe have already have 92.6% of the data!! link: https://icelandmonitor.mbl.is/news/nature_and_travel/2022/08/22/no_harmonic_murmurs_but_flowing_lava_was_detected_l/\n",
            "\n"
          ]
        },
        {
          "output_type": "stream",
          "name": "stderr",
          "text": [
            "<ipython-input-24-20d67951d720>:21: FutureWarning: The frame.append method is deprecated and will be removed from pandas in a future version. Use pandas.concat instead.\n",
            "  df = df.append(current_dict, ignore_index=True)\n"
          ]
        },
        {
          "output_type": "stream",
          "name": "stdout",
          "text": [
            "\n",
            " \tWe have already have 92.83% of the data!! link: https://icelandmonitor.mbl.is/news/nature_and_travel/2022/07/26/yellow_warning_and_lots_of_rain_and_wind_especially/\n",
            "\n"
          ]
        },
        {
          "output_type": "stream",
          "name": "stderr",
          "text": [
            "<ipython-input-24-20d67951d720>:21: FutureWarning: The frame.append method is deprecated and will be removed from pandas in a future version. Use pandas.concat instead.\n",
            "  df = df.append(current_dict, ignore_index=True)\n"
          ]
        },
        {
          "output_type": "stream",
          "name": "stdout",
          "text": [
            "\n",
            " \tWe have already have 93.05% of the data!! link: https://icelandmonitor.mbl.is/news/eat_and_drink/2018/11/12/new_icelandic_christmas_sweets_on_the_market/\n",
            "\n"
          ]
        },
        {
          "output_type": "stream",
          "name": "stderr",
          "text": [
            "<ipython-input-24-20d67951d720>:21: FutureWarning: The frame.append method is deprecated and will be removed from pandas in a future version. Use pandas.concat instead.\n",
            "  df = df.append(current_dict, ignore_index=True)\n"
          ]
        },
        {
          "output_type": "stream",
          "name": "stdout",
          "text": [
            "\n",
            " \tWe have already have 93.27% of the data!! link: https://icelandmonitor.mbl.is/news/culture_and_living/2022/01/21/surf_low_tide_and_glaciers_get_green_light/\n",
            "\n"
          ]
        },
        {
          "output_type": "stream",
          "name": "stderr",
          "text": [
            "<ipython-input-24-20d67951d720>:21: FutureWarning: The frame.append method is deprecated and will be removed from pandas in a future version. Use pandas.concat instead.\n",
            "  df = df.append(current_dict, ignore_index=True)\n"
          ]
        },
        {
          "output_type": "stream",
          "name": "stdout",
          "text": [
            "\n",
            " \tWe have already have 93.5% of the data!! link: https://icelandmonitor.mbl.is/news/culture_and_living/2022/03/27/hens_help_teach_kids_about_sustainability/\n",
            "\n"
          ]
        },
        {
          "output_type": "stream",
          "name": "stderr",
          "text": [
            "<ipython-input-24-20d67951d720>:21: FutureWarning: The frame.append method is deprecated and will be removed from pandas in a future version. Use pandas.concat instead.\n",
            "  df = df.append(current_dict, ignore_index=True)\n"
          ]
        },
        {
          "output_type": "stream",
          "name": "stdout",
          "text": [
            "\n",
            " \tWe have already have 93.72% of the data!! link: https://icelandmonitor.mbl.is/news/culture_and_living/2022/11/20/the_lights_lit_on_the_yulecat_in_laekjartorg/\n",
            "\n"
          ]
        },
        {
          "output_type": "stream",
          "name": "stderr",
          "text": [
            "<ipython-input-24-20d67951d720>:21: FutureWarning: The frame.append method is deprecated and will be removed from pandas in a future version. Use pandas.concat instead.\n",
            "  df = df.append(current_dict, ignore_index=True)\n"
          ]
        },
        {
          "output_type": "stream",
          "name": "stdout",
          "text": [
            "\n",
            " \tWe have already have 93.95% of the data!! link: https://icelandmonitor.mbl.is/news/nature_and_travel/2022/10/20/the_quakes_further_away_than_before/\n",
            "\n"
          ]
        },
        {
          "output_type": "stream",
          "name": "stderr",
          "text": [
            "<ipython-input-24-20d67951d720>:21: FutureWarning: The frame.append method is deprecated and will be removed from pandas in a future version. Use pandas.concat instead.\n",
            "  df = df.append(current_dict, ignore_index=True)\n"
          ]
        },
        {
          "output_type": "stream",
          "name": "stdout",
          "text": [
            "\n",
            " \tWe have already have 94.17% of the data!! link: https://icelandmonitor.mbl.is/news/culture_and_living/2022/08/02/young_entrepreneurs_selling_condoms_to_festival_gue/\n",
            "\n"
          ]
        },
        {
          "output_type": "stream",
          "name": "stderr",
          "text": [
            "<ipython-input-24-20d67951d720>:21: FutureWarning: The frame.append method is deprecated and will be removed from pandas in a future version. Use pandas.concat instead.\n",
            "  df = df.append(current_dict, ignore_index=True)\n"
          ]
        },
        {
          "output_type": "stream",
          "name": "stdout",
          "text": [
            "\n",
            " \tWe have already have 94.39% of the data!! link: https://icelandmonitor.mbl.is/news/eat_and_drink/2017/08/11/weekend_famous_recipe_for_scallops_from_stykkisholm/\n",
            "\n"
          ]
        },
        {
          "output_type": "stream",
          "name": "stderr",
          "text": [
            "<ipython-input-24-20d67951d720>:21: FutureWarning: The frame.append method is deprecated and will be removed from pandas in a future version. Use pandas.concat instead.\n",
            "  df = df.append(current_dict, ignore_index=True)\n"
          ]
        },
        {
          "output_type": "stream",
          "name": "stdout",
          "text": [
            "\n",
            " \tWe have already have 94.62% of the data!! link: https://icelandmonitor.mbl.is/news/culture_and_living/2022/01/15/iceland_s_oldest_living_sisters/\n",
            "\n"
          ]
        },
        {
          "output_type": "stream",
          "name": "stderr",
          "text": [
            "<ipython-input-24-20d67951d720>:21: FutureWarning: The frame.append method is deprecated and will be removed from pandas in a future version. Use pandas.concat instead.\n",
            "  df = df.append(current_dict, ignore_index=True)\n"
          ]
        },
        {
          "output_type": "stream",
          "name": "stdout",
          "text": [
            "\n",
            " \tWe have already have 94.84% of the data!! link: https://icelandmonitor.mbl.is/news/culture_and_living/2022/06/16/talks_about_his_success_with_a_double_arm_and_shoul/\n",
            "\n"
          ]
        },
        {
          "output_type": "stream",
          "name": "stderr",
          "text": [
            "<ipython-input-24-20d67951d720>:21: FutureWarning: The frame.append method is deprecated and will be removed from pandas in a future version. Use pandas.concat instead.\n",
            "  df = df.append(current_dict, ignore_index=True)\n"
          ]
        },
        {
          "output_type": "stream",
          "name": "stdout",
          "text": [
            "\n",
            " \tWe have already have 95.07% of the data!! link: https://icelandmonitor.mbl.is/news/politics_and_society/2022/09/27/do_you_know_this_man/\n",
            "\n"
          ]
        },
        {
          "output_type": "stream",
          "name": "stderr",
          "text": [
            "<ipython-input-24-20d67951d720>:21: FutureWarning: The frame.append method is deprecated and will be removed from pandas in a future version. Use pandas.concat instead.\n",
            "  df = df.append(current_dict, ignore_index=True)\n"
          ]
        },
        {
          "output_type": "stream",
          "name": "stdout",
          "text": [
            "\n",
            " \tWe have already have 95.29% of the data!! link: https://icelandmonitor.mbl.is/news/politics_and_society/2022/12/01/the_high_interest_environment_is_like_a_magic_trap_/\n",
            "\n"
          ]
        },
        {
          "output_type": "stream",
          "name": "stderr",
          "text": [
            "<ipython-input-24-20d67951d720>:21: FutureWarning: The frame.append method is deprecated and will be removed from pandas in a future version. Use pandas.concat instead.\n",
            "  df = df.append(current_dict, ignore_index=True)\n"
          ]
        },
        {
          "output_type": "stream",
          "name": "stdout",
          "text": [
            "\n",
            " \tWe have already have 95.52% of the data!! link: https://icelandmonitor.mbl.is/news/nature_and_travel/2022/05/12/a_spanish_tourist_almost_drowned_at_reynisfjara_bla/\n",
            "\n"
          ]
        },
        {
          "output_type": "stream",
          "name": "stderr",
          "text": [
            "<ipython-input-24-20d67951d720>:21: FutureWarning: The frame.append method is deprecated and will be removed from pandas in a future version. Use pandas.concat instead.\n",
            "  df = df.append(current_dict, ignore_index=True)\n"
          ]
        },
        {
          "output_type": "stream",
          "name": "stdout",
          "text": [
            "\n",
            " \tWe have already have 95.74% of the data!! link: https://icelandmonitor.mbl.is/news/eat_and_drink/2017/06/22/cheaper_cocktails_in_reykjavik_because_of_costco/\n",
            "\n"
          ]
        },
        {
          "output_type": "stream",
          "name": "stderr",
          "text": [
            "<ipython-input-24-20d67951d720>:21: FutureWarning: The frame.append method is deprecated and will be removed from pandas in a future version. Use pandas.concat instead.\n",
            "  df = df.append(current_dict, ignore_index=True)\n"
          ]
        },
        {
          "output_type": "stream",
          "name": "stdout",
          "text": [
            "\n",
            " \tWe have already have 95.96% of the data!! link: https://icelandmonitor.mbl.is/news/eat_and_drink/2021/02/12/icelandic_food_production_provides_plenty_of_protei/\n",
            "\n"
          ]
        },
        {
          "output_type": "stream",
          "name": "stderr",
          "text": [
            "<ipython-input-24-20d67951d720>:21: FutureWarning: The frame.append method is deprecated and will be removed from pandas in a future version. Use pandas.concat instead.\n",
            "  df = df.append(current_dict, ignore_index=True)\n"
          ]
        },
        {
          "output_type": "stream",
          "name": "stdout",
          "text": [
            "\n",
            " \tWe have already have 96.19% of the data!! link: https://icelandmonitor.mbl.is/news/nature_and_travel/2022/02/12/northern_lights_adorn_the_sky_favorable_conditions_/\n",
            "\n"
          ]
        },
        {
          "output_type": "stream",
          "name": "stderr",
          "text": [
            "<ipython-input-24-20d67951d720>:21: FutureWarning: The frame.append method is deprecated and will be removed from pandas in a future version. Use pandas.concat instead.\n",
            "  df = df.append(current_dict, ignore_index=True)\n"
          ]
        },
        {
          "output_type": "stream",
          "name": "stdout",
          "text": [
            "\n",
            " \tWe have already have 96.41% of the data!! link: https://icelandmonitor.mbl.is/news/eat_and_drink/2019/08/27/will_meat_be_off_the_reykjavik_menu/\n",
            "\n"
          ]
        },
        {
          "output_type": "stream",
          "name": "stderr",
          "text": [
            "<ipython-input-24-20d67951d720>:21: FutureWarning: The frame.append method is deprecated and will be removed from pandas in a future version. Use pandas.concat instead.\n",
            "  df = df.append(current_dict, ignore_index=True)\n"
          ]
        },
        {
          "output_type": "stream",
          "name": "stdout",
          "text": [
            "\n",
            " \tWe have already have 96.64% of the data!! link: https://icelandmonitor.mbl.is/news/culture_and_living/2021/10/22/beer_festival_among_tropical_animals_this_weekend/\n",
            "\n"
          ]
        },
        {
          "output_type": "stream",
          "name": "stderr",
          "text": [
            "<ipython-input-24-20d67951d720>:21: FutureWarning: The frame.append method is deprecated and will be removed from pandas in a future version. Use pandas.concat instead.\n",
            "  df = df.append(current_dict, ignore_index=True)\n"
          ]
        },
        {
          "output_type": "stream",
          "name": "stdout",
          "text": [
            "\n",
            " \tWe have already have 96.86% of the data!! link: https://icelandmonitor.mbl.is/news/culture_and_living/2022/02/03/winter_lights_festival_begins_today/\n",
            "\n"
          ]
        },
        {
          "output_type": "stream",
          "name": "stderr",
          "text": [
            "<ipython-input-24-20d67951d720>:21: FutureWarning: The frame.append method is deprecated and will be removed from pandas in a future version. Use pandas.concat instead.\n",
            "  df = df.append(current_dict, ignore_index=True)\n"
          ]
        },
        {
          "output_type": "stream",
          "name": "stdout",
          "text": [
            "\n",
            " \tWe have already have 97.09% of the data!! link: https://icelandmonitor.mbl.is/news/eat_and_drink/2022/05/26/linda_ben_s_buddha_bowl_is_to_die_for/\n",
            "\n"
          ]
        },
        {
          "output_type": "stream",
          "name": "stderr",
          "text": [
            "<ipython-input-24-20d67951d720>:21: FutureWarning: The frame.append method is deprecated and will be removed from pandas in a future version. Use pandas.concat instead.\n",
            "  df = df.append(current_dict, ignore_index=True)\n"
          ]
        },
        {
          "output_type": "stream",
          "name": "stdout",
          "text": [
            "\n",
            " \tWe have already have 97.31% of the data!! link: https://icelandmonitor.mbl.is/news/eat_and_drink/2021/07/26/feel_like_home_at_mama_reykjavik/\n",
            "\n"
          ]
        },
        {
          "output_type": "stream",
          "name": "stderr",
          "text": [
            "<ipython-input-24-20d67951d720>:21: FutureWarning: The frame.append method is deprecated and will be removed from pandas in a future version. Use pandas.concat instead.\n",
            "  df = df.append(current_dict, ignore_index=True)\n"
          ]
        },
        {
          "output_type": "stream",
          "name": "stdout",
          "text": [
            "\n",
            " \tWe have already have 97.53% of the data!! link: https://icelandmonitor.mbl.is/news/politics_and_society/2021/11/30/plans_for_new_church_on_grimsey_island/\n",
            "\n"
          ]
        },
        {
          "output_type": "stream",
          "name": "stderr",
          "text": [
            "<ipython-input-24-20d67951d720>:21: FutureWarning: The frame.append method is deprecated and will be removed from pandas in a future version. Use pandas.concat instead.\n",
            "  df = df.append(current_dict, ignore_index=True)\n"
          ]
        },
        {
          "output_type": "stream",
          "name": "stdout",
          "text": [
            "\n",
            " \tWe have already have 97.76% of the data!! link: https://icelandmonitor.mbl.is/news/culture_and_living/2021/11/20/iceland_post_hires_chat_cat/\n",
            "\n"
          ]
        },
        {
          "output_type": "stream",
          "name": "stderr",
          "text": [
            "<ipython-input-24-20d67951d720>:21: FutureWarning: The frame.append method is deprecated and will be removed from pandas in a future version. Use pandas.concat instead.\n",
            "  df = df.append(current_dict, ignore_index=True)\n"
          ]
        },
        {
          "output_type": "stream",
          "name": "stdout",
          "text": [
            "\n",
            " \tWe have already have 97.98% of the data!! link: https://icelandmonitor.mbl.is/news/culture_and_living/2022/11/12/foster_went_to_the_movies_in_reykjavik/\n",
            "\n"
          ]
        },
        {
          "output_type": "stream",
          "name": "stderr",
          "text": [
            "<ipython-input-24-20d67951d720>:21: FutureWarning: The frame.append method is deprecated and will be removed from pandas in a future version. Use pandas.concat instead.\n",
            "  df = df.append(current_dict, ignore_index=True)\n"
          ]
        },
        {
          "output_type": "stream",
          "name": "stdout",
          "text": [
            "\n",
            " \tWe have already have 98.21% of the data!! link: https://icelandmonitor.mbl.is/news/nature_and_travel/2022/02/20/iceland_s_most_romantic_fjords/\n",
            "\n"
          ]
        },
        {
          "output_type": "stream",
          "name": "stderr",
          "text": [
            "<ipython-input-24-20d67951d720>:21: FutureWarning: The frame.append method is deprecated and will be removed from pandas in a future version. Use pandas.concat instead.\n",
            "  df = df.append(current_dict, ignore_index=True)\n"
          ]
        },
        {
          "output_type": "stream",
          "name": "stdout",
          "text": [
            "\n",
            " \tWe have already have 98.43% of the data!! link: https://icelandmonitor.mbl.is/news/nature_and_travel/2022/06/24/4_6_m_earthquake_under_langjokull/\n",
            "\n"
          ]
        },
        {
          "output_type": "stream",
          "name": "stderr",
          "text": [
            "<ipython-input-24-20d67951d720>:21: FutureWarning: The frame.append method is deprecated and will be removed from pandas in a future version. Use pandas.concat instead.\n",
            "  df = df.append(current_dict, ignore_index=True)\n"
          ]
        },
        {
          "output_type": "stream",
          "name": "stdout",
          "text": [
            "\n",
            " \tWe have already have 98.65% of the data!! link: https://icelandmonitor.mbl.is/news/nature_and_travel/2022/08/29/a_polar_bear_turned_out_to_be_a_gray_seal/\n",
            "\n"
          ]
        },
        {
          "output_type": "stream",
          "name": "stderr",
          "text": [
            "<ipython-input-24-20d67951d720>:21: FutureWarning: The frame.append method is deprecated and will be removed from pandas in a future version. Use pandas.concat instead.\n",
            "  df = df.append(current_dict, ignore_index=True)\n"
          ]
        },
        {
          "output_type": "stream",
          "name": "stdout",
          "text": [
            "\n",
            " \tWe have already have 98.88% of the data!! link: https://icelandmonitor.mbl.is/news/politics_and_society/2022/09/08/aslaug_arna_voted_politician_of_the_year/\n",
            "\n"
          ]
        },
        {
          "output_type": "stream",
          "name": "stderr",
          "text": [
            "<ipython-input-24-20d67951d720>:21: FutureWarning: The frame.append method is deprecated and will be removed from pandas in a future version. Use pandas.concat instead.\n",
            "  df = df.append(current_dict, ignore_index=True)\n"
          ]
        },
        {
          "output_type": "stream",
          "name": "stdout",
          "text": [
            "\n",
            " \tWe have already have 99.1% of the data!! link: https://icelandmonitor.mbl.is/news/eat_and_drink/2019/09/14/puffins_pylsur_popular_in_tokyo/\n",
            "\n"
          ]
        },
        {
          "output_type": "stream",
          "name": "stderr",
          "text": [
            "<ipython-input-24-20d67951d720>:21: FutureWarning: The frame.append method is deprecated and will be removed from pandas in a future version. Use pandas.concat instead.\n",
            "  df = df.append(current_dict, ignore_index=True)\n"
          ]
        },
        {
          "output_type": "stream",
          "name": "stdout",
          "text": [
            "\n",
            " \tWe have already have 99.33% of the data!! link: https://icelandmonitor.mbl.is/news/eat_and_drink/2019/02/19/dill_lose_their_michelin_star/\n",
            "\n"
          ]
        },
        {
          "output_type": "stream",
          "name": "stderr",
          "text": [
            "<ipython-input-24-20d67951d720>:21: FutureWarning: The frame.append method is deprecated and will be removed from pandas in a future version. Use pandas.concat instead.\n",
            "  df = df.append(current_dict, ignore_index=True)\n"
          ]
        },
        {
          "output_type": "stream",
          "name": "stdout",
          "text": [
            "\n",
            " \tWe have already have 99.55% of the data!! link: https://icelandmonitor.mbl.is/news/eat_and_drink/2022/08/05/vera_is_a_newest_foodhall_on_the_scene/\n",
            "\n"
          ]
        },
        {
          "output_type": "stream",
          "name": "stderr",
          "text": [
            "<ipython-input-24-20d67951d720>:21: FutureWarning: The frame.append method is deprecated and will be removed from pandas in a future version. Use pandas.concat instead.\n",
            "  df = df.append(current_dict, ignore_index=True)\n"
          ]
        },
        {
          "output_type": "stream",
          "name": "stdout",
          "text": [
            "\n",
            " \tWe have already have 99.78% of the data!! link: https://icelandmonitor.mbl.is/news/culture_and_living/2021/09/18/harry_potter_stars_happy_with_iceland_visit/\n",
            "\n",
            "\n",
            " \tWe have already have 100.0% of the data!! link: https://icelandmonitor.mbl.is/news/culture_and_living/2022/08/16/reykjavik_celebrates_culture_night_2022_next_saturd/\n",
            "\n"
          ]
        },
        {
          "output_type": "stream",
          "name": "stderr",
          "text": [
            "<ipython-input-24-20d67951d720>:21: FutureWarning: The frame.append method is deprecated and will be removed from pandas in a future version. Use pandas.concat instead.\n",
            "  df = df.append(current_dict, ignore_index=True)\n"
          ]
        }
      ]
    },
    {
      "cell_type": "markdown",
      "source": [
        "## To Datetime format"
      ],
      "metadata": {
        "id": "74Yk3aUTwuwK"
      }
    },
    {
      "cell_type": "markdown",
      "source": [
        "> Here we transform our datetime column from a string fromat into a datetime fromat. This will be useful in the future."
      ],
      "metadata": {
        "id": "VjwX3SZ3raVy"
      }
    },
    {
      "cell_type": "code",
      "source": [
        "data = pd.read_csv('mbl_data.csv')\n",
        "data.head()\n",
        "data['Datetime'][0]"
      ],
      "metadata": {
        "colab": {
          "base_uri": "https://localhost:8080/",
          "height": 35
        },
        "id": "IeRRJz6x0lM3",
        "outputId": "198f15f1-5f45-4ea6-fe79-8e9801d48715"
      },
      "execution_count": null,
      "outputs": [
        {
          "output_type": "execute_result",
          "data": {
            "text/plain": [
              "\"['6', 'Oct', '2022', '23.31']\""
            ],
            "application/vnd.google.colaboratory.intrinsic+json": {
              "type": "string"
            }
          },
          "metadata": {},
          "execution_count": 43
        }
      ]
    },
    {
      "cell_type": "code",
      "source": [
        "dfc['Datetime'].sort_values()"
      ],
      "metadata": {
        "colab": {
          "base_uri": "https://localhost:8080/"
        },
        "id": "5HFZXje21B9_",
        "outputId": "dc05861b-0ec8-4496-c484-a396059cab85"
      },
      "execution_count": null,
      "outputs": [
        {
          "output_type": "execute_result",
          "data": {
            "text/plain": [
              "232   2017-06-04 09:00:00\n",
              "83    2017-06-05 09:31:00\n",
              "233   2017-06-07 20:00:00\n",
              "103   2017-06-08 20:00:00\n",
              "100   2017-06-09 20:12:00\n",
              "              ...        \n",
              "96    2023-03-28 01:47:00\n",
              "401   2023-03-28 13:01:00\n",
              "79    2023-03-28 16:00:00\n",
              "303   2023-03-29 07:03:00\n",
              "42    2023-03-29 12:00:00\n",
              "Name: Datetime, Length: 445, dtype: datetime64[ns]"
            ]
          },
          "metadata": {},
          "execution_count": 47
        }
      ]
    },
    {
      "cell_type": "code",
      "source": [
        "data.isnull().sum()"
      ],
      "metadata": {
        "colab": {
          "base_uri": "https://localhost:8080/"
        },
        "id": "NujBW6gC0-RT",
        "outputId": "d9e1e5aa-5cf7-4004-f3aa-bdddaea101e5"
      },
      "execution_count": null,
      "outputs": [
        {
          "output_type": "execute_result",
          "data": {
            "text/plain": [
              "Unnamed: 0    0\n",
              "Source        0\n",
              "Headline      0\n",
              "Datetime      0\n",
              "Body          1\n",
              "Category      0\n",
              "dtype: int64"
            ]
          },
          "metadata": {},
          "execution_count": 51
        }
      ]
    },
    {
      "cell_type": "code",
      "source": [
        "dfc = data\n",
        "\n",
        "# dictionary to help identify the months using number from 1 to 12\n",
        "\n",
        "month = {'Jan': 1,\n",
        "         'Feb': 2,\n",
        "         'Mar': 3,\n",
        "         'Apr': 4,\n",
        "         'May': 5,\n",
        "         'Jun': 6,\n",
        "         'Jul': 7,\n",
        "         'Aug': 8,\n",
        "         'Sep': 9,\n",
        "         'Oct': 10,\n",
        "         'Nov': 11,\n",
        "         'Dec': 12}\n",
        "\n",
        "for i in range(0, dfc.shape[0]):\n",
        "  dfc.Datetime[i]  = re.sub(r\"[,']\", \"\", string = dfc.Datetime[i][1:-1]).split(' ')\n",
        "  if len(dfc.Datetime[i]) != 4:\n",
        "    dfc = dfc.drop([i])\n",
        "  else:\n",
        "    dfc.Datetime[i][1] = str(month[dfc.Datetime[i][1]])\n",
        "    dfc.Datetime[i][0] =  '-'.join(dfc.Datetime[i][:3])\n",
        "    dfc.Datetime[i] = str(dfc.Datetime[i][0]+ ' ' + dfc.Datetime[i][-1])\n",
        "\n",
        "dfc['Datetime'] = pd.to_datetime(dfc['Datetime'].str.replace('.',':'), format=\"%d-%m-%Y %H:%M\")\n",
        "\n",
        "dfc.head()"
      ],
      "metadata": {
        "colab": {
          "base_uri": "https://localhost:8080/",
          "height": 608
        },
        "id": "2Jq5TUkLwuOo",
        "outputId": "f7f9624c-431d-4f71-8812-ef9ddd594921"
      },
      "execution_count": null,
      "outputs": [
        {
          "output_type": "stream",
          "name": "stderr",
          "text": [
            "<ipython-input-44-9de3500717e3>:17: SettingWithCopyWarning: \n",
            "A value is trying to be set on a copy of a slice from a DataFrame\n",
            "\n",
            "See the caveats in the documentation: https://pandas.pydata.org/pandas-docs/stable/user_guide/indexing.html#returning-a-view-versus-a-copy\n",
            "  dfc.Datetime[i]  = re.sub(r\"[,']\", \"\", string = dfc.Datetime[i][1:-1]).split(' ')\n",
            "<ipython-input-44-9de3500717e3>:23: SettingWithCopyWarning: \n",
            "A value is trying to be set on a copy of a slice from a DataFrame\n",
            "\n",
            "See the caveats in the documentation: https://pandas.pydata.org/pandas-docs/stable/user_guide/indexing.html#returning-a-view-versus-a-copy\n",
            "  dfc.Datetime[i] = str(dfc.Datetime[i][0]+ ' ' + dfc.Datetime[i][-1])\n",
            "<ipython-input-44-9de3500717e3>:17: SettingWithCopyWarning: \n",
            "A value is trying to be set on a copy of a slice from a DataFrame\n",
            "\n",
            "See the caveats in the documentation: https://pandas.pydata.org/pandas-docs/stable/user_guide/indexing.html#returning-a-view-versus-a-copy\n",
            "  dfc.Datetime[i]  = re.sub(r\"[,']\", \"\", string = dfc.Datetime[i][1:-1]).split(' ')\n",
            "<ipython-input-44-9de3500717e3>:23: SettingWithCopyWarning: \n",
            "A value is trying to be set on a copy of a slice from a DataFrame\n",
            "\n",
            "See the caveats in the documentation: https://pandas.pydata.org/pandas-docs/stable/user_guide/indexing.html#returning-a-view-versus-a-copy\n",
            "  dfc.Datetime[i] = str(dfc.Datetime[i][0]+ ' ' + dfc.Datetime[i][-1])\n",
            "<ipython-input-44-9de3500717e3>:25: FutureWarning: The default value of regex will change from True to False in a future version. In addition, single character regular expressions will *not* be treated as literal strings when regex=True.\n",
            "  dfc['Datetime'] = pd.to_datetime(dfc['Datetime'].str.replace('.',':'), format=\"%d-%m-%Y %H:%M\")\n"
          ]
        },
        {
          "output_type": "execute_result",
          "data": {
            "text/plain": [
              "   Unnamed: 0           Source  \\\n",
              "0           0  Iceland Monitor   \n",
              "1           1  Iceland Monitor   \n",
              "2           2  Iceland Monitor   \n",
              "3           3  Iceland Monitor   \n",
              "4           4  Iceland Monitor   \n",
              "\n",
              "                                            Headline            Datetime  \\\n",
              "0           A Triceratop Dinosaur coming to Iceland? 2022-10-06 23:31:00   \n",
              "1  First Lady to accompany Icelandic National Cul... 2018-11-19 12:08:00   \n",
              "2  Successful Landing Exercise in Hvalfjörður Fjo... 2022-04-12 10:27:00   \n",
              "3  Heimkaup starts selling wine and beer with sam... 2022-06-29 11:41:00   \n",
              "4              Sheep Eat Arctic Tern Eggs and Chicks 2022-01-21 12:35:00   \n",
              "\n",
              "                                                Body              Category  \n",
              "0  A part of a dinosaur skeleton could be on its ...     Nature and Travel  \n",
              "1  The Icelandic National Culinary team will be c...         Eat and Drink  \n",
              "2  Everything went according to plan during the l...  Politics and Society  \n",
              "3  Today is the first day you can buy wine and be...         Eat and Drink  \n",
              "4  A newly published article in the nature journa...     Nature and Travel  "
            ],
            "text/html": [
              "\n",
              "  <div id=\"df-6269066a-5f0b-4120-9efb-1bfe23af70cc\">\n",
              "    <div class=\"colab-df-container\">\n",
              "      <div>\n",
              "<style scoped>\n",
              "    .dataframe tbody tr th:only-of-type {\n",
              "        vertical-align: middle;\n",
              "    }\n",
              "\n",
              "    .dataframe tbody tr th {\n",
              "        vertical-align: top;\n",
              "    }\n",
              "\n",
              "    .dataframe thead th {\n",
              "        text-align: right;\n",
              "    }\n",
              "</style>\n",
              "<table border=\"1\" class=\"dataframe\">\n",
              "  <thead>\n",
              "    <tr style=\"text-align: right;\">\n",
              "      <th></th>\n",
              "      <th>Unnamed: 0</th>\n",
              "      <th>Source</th>\n",
              "      <th>Headline</th>\n",
              "      <th>Datetime</th>\n",
              "      <th>Body</th>\n",
              "      <th>Category</th>\n",
              "    </tr>\n",
              "  </thead>\n",
              "  <tbody>\n",
              "    <tr>\n",
              "      <th>0</th>\n",
              "      <td>0</td>\n",
              "      <td>Iceland Monitor</td>\n",
              "      <td>A Triceratop Dinosaur coming to Iceland?</td>\n",
              "      <td>2022-10-06 23:31:00</td>\n",
              "      <td>A part of a dinosaur skeleton could be on its ...</td>\n",
              "      <td>Nature and Travel</td>\n",
              "    </tr>\n",
              "    <tr>\n",
              "      <th>1</th>\n",
              "      <td>1</td>\n",
              "      <td>Iceland Monitor</td>\n",
              "      <td>First Lady to accompany Icelandic National Cul...</td>\n",
              "      <td>2018-11-19 12:08:00</td>\n",
              "      <td>The Icelandic National Culinary team will be c...</td>\n",
              "      <td>Eat and Drink</td>\n",
              "    </tr>\n",
              "    <tr>\n",
              "      <th>2</th>\n",
              "      <td>2</td>\n",
              "      <td>Iceland Monitor</td>\n",
              "      <td>Successful Landing Exercise in Hvalfjörður Fjo...</td>\n",
              "      <td>2022-04-12 10:27:00</td>\n",
              "      <td>Everything went according to plan during the l...</td>\n",
              "      <td>Politics and Society</td>\n",
              "    </tr>\n",
              "    <tr>\n",
              "      <th>3</th>\n",
              "      <td>3</td>\n",
              "      <td>Iceland Monitor</td>\n",
              "      <td>Heimkaup starts selling wine and beer with sam...</td>\n",
              "      <td>2022-06-29 11:41:00</td>\n",
              "      <td>Today is the first day you can buy wine and be...</td>\n",
              "      <td>Eat and Drink</td>\n",
              "    </tr>\n",
              "    <tr>\n",
              "      <th>4</th>\n",
              "      <td>4</td>\n",
              "      <td>Iceland Monitor</td>\n",
              "      <td>Sheep Eat Arctic Tern Eggs and Chicks</td>\n",
              "      <td>2022-01-21 12:35:00</td>\n",
              "      <td>A newly published article in the nature journa...</td>\n",
              "      <td>Nature and Travel</td>\n",
              "    </tr>\n",
              "  </tbody>\n",
              "</table>\n",
              "</div>\n",
              "      <button class=\"colab-df-convert\" onclick=\"convertToInteractive('df-6269066a-5f0b-4120-9efb-1bfe23af70cc')\"\n",
              "              title=\"Convert this dataframe to an interactive table.\"\n",
              "              style=\"display:none;\">\n",
              "        \n",
              "  <svg xmlns=\"http://www.w3.org/2000/svg\" height=\"24px\"viewBox=\"0 0 24 24\"\n",
              "       width=\"24px\">\n",
              "    <path d=\"M0 0h24v24H0V0z\" fill=\"none\"/>\n",
              "    <path d=\"M18.56 5.44l.94 2.06.94-2.06 2.06-.94-2.06-.94-.94-2.06-.94 2.06-2.06.94zm-11 1L8.5 8.5l.94-2.06 2.06-.94-2.06-.94L8.5 2.5l-.94 2.06-2.06.94zm10 10l.94 2.06.94-2.06 2.06-.94-2.06-.94-.94-2.06-.94 2.06-2.06.94z\"/><path d=\"M17.41 7.96l-1.37-1.37c-.4-.4-.92-.59-1.43-.59-.52 0-1.04.2-1.43.59L10.3 9.45l-7.72 7.72c-.78.78-.78 2.05 0 2.83L4 21.41c.39.39.9.59 1.41.59.51 0 1.02-.2 1.41-.59l7.78-7.78 2.81-2.81c.8-.78.8-2.07 0-2.86zM5.41 20L4 18.59l7.72-7.72 1.47 1.35L5.41 20z\"/>\n",
              "  </svg>\n",
              "      </button>\n",
              "      \n",
              "  <style>\n",
              "    .colab-df-container {\n",
              "      display:flex;\n",
              "      flex-wrap:wrap;\n",
              "      gap: 12px;\n",
              "    }\n",
              "\n",
              "    .colab-df-convert {\n",
              "      background-color: #E8F0FE;\n",
              "      border: none;\n",
              "      border-radius: 50%;\n",
              "      cursor: pointer;\n",
              "      display: none;\n",
              "      fill: #1967D2;\n",
              "      height: 32px;\n",
              "      padding: 0 0 0 0;\n",
              "      width: 32px;\n",
              "    }\n",
              "\n",
              "    .colab-df-convert:hover {\n",
              "      background-color: #E2EBFA;\n",
              "      box-shadow: 0px 1px 2px rgba(60, 64, 67, 0.3), 0px 1px 3px 1px rgba(60, 64, 67, 0.15);\n",
              "      fill: #174EA6;\n",
              "    }\n",
              "\n",
              "    [theme=dark] .colab-df-convert {\n",
              "      background-color: #3B4455;\n",
              "      fill: #D2E3FC;\n",
              "    }\n",
              "\n",
              "    [theme=dark] .colab-df-convert:hover {\n",
              "      background-color: #434B5C;\n",
              "      box-shadow: 0px 1px 3px 1px rgba(0, 0, 0, 0.15);\n",
              "      filter: drop-shadow(0px 1px 2px rgba(0, 0, 0, 0.3));\n",
              "      fill: #FFFFFF;\n",
              "    }\n",
              "  </style>\n",
              "\n",
              "      <script>\n",
              "        const buttonEl =\n",
              "          document.querySelector('#df-6269066a-5f0b-4120-9efb-1bfe23af70cc button.colab-df-convert');\n",
              "        buttonEl.style.display =\n",
              "          google.colab.kernel.accessAllowed ? 'block' : 'none';\n",
              "\n",
              "        async function convertToInteractive(key) {\n",
              "          const element = document.querySelector('#df-6269066a-5f0b-4120-9efb-1bfe23af70cc');\n",
              "          const dataTable =\n",
              "            await google.colab.kernel.invokeFunction('convertToInteractive',\n",
              "                                                     [key], {});\n",
              "          if (!dataTable) return;\n",
              "\n",
              "          const docLinkHtml = 'Like what you see? Visit the ' +\n",
              "            '<a target=\"_blank\" href=https://colab.research.google.com/notebooks/data_table.ipynb>data table notebook</a>'\n",
              "            + ' to learn more about interactive tables.';\n",
              "          element.innerHTML = '';\n",
              "          dataTable['output_type'] = 'display_data';\n",
              "          await google.colab.output.renderOutput(dataTable, element);\n",
              "          const docLink = document.createElement('div');\n",
              "          docLink.innerHTML = docLinkHtml;\n",
              "          element.appendChild(docLink);\n",
              "        }\n",
              "      </script>\n",
              "    </div>\n",
              "  </div>\n",
              "  "
            ]
          },
          "metadata": {},
          "execution_count": 44
        }
      ]
    },
    {
      "cell_type": "code",
      "source": [
        "dfc.to_csv('mbl_data.csv')"
      ],
      "metadata": {
        "id": "joHO8Iy_FRD4"
      },
      "execution_count": null,
      "outputs": []
    },
    {
      "cell_type": "code",
      "source": [],
      "metadata": {
        "id": "9b9p8gWeD5d7"
      },
      "execution_count": null,
      "outputs": []
    },
    {
      "cell_type": "markdown",
      "source": [
        "# Central Bank Iceland"
      ],
      "metadata": {
        "id": "HHI0X7Mnw5Dt"
      }
    },
    {
      "cell_type": "markdown",
      "source": [
        "> Given that that we want to predict the ISK/EUR and ISK/USD value it may be of interest to start  by scraping the news from the icelandic central bank."
      ],
      "metadata": {
        "id": "rJLKvlsnyLvR"
      }
    },
    {
      "cell_type": "code",
      "source": [
        "url = \"https://www.cb.is/publications/news/news-by-year/?news_ArchiveDate=2022-01-01&news_date=2022-01-01\"\n",
        "r = urllib.request.urlopen(url).read()\n",
        "soup = BeautifulSoup(r, \"lxml\")"
      ],
      "metadata": {
        "id": "buFeRGkqw8l-"
      },
      "execution_count": null,
      "outputs": []
    },
    {
      "cell_type": "code",
      "source": [
        "links = set()\n",
        "for i in soup.find_all(\"a\"):\n",
        "  current = i.attrs[\"href\"]\n",
        "  if (current.count(\"/\") > 6):\n",
        "    links.add(\"https://www.cb.is\" + current)"
      ],
      "metadata": {
        "id": "Il_MU--oxBv4"
      },
      "execution_count": null,
      "outputs": []
    },
    {
      "cell_type": "code",
      "source": [
        "df = pd.DataFrame()\n",
        "for i, l in enumerate(links):\n",
        "  r = urllib.request.urlopen(l).read()\n",
        "  soup = BeautifulSoup(r, \"lxml\")\n",
        "  title = soup.find_all(\"title\")[0].text\n",
        "  for j in soup.find_all(\"div\", {\"class\": \"media\"}):\n",
        "    date = j.attrs['data-last-modified']\n",
        "  for p in soup.find_all(\"div\", {\"class\": \"media\"}):\n",
        "    alltext = p.text\n",
        "    body = alltext.split(title)[1]\n",
        "  df = pd.concat([df, pd.DataFrame({\"headline\": title, \"date\": date, \"body\": body}, index=[i])])"
      ],
      "metadata": {
        "id": "YzfujrtmxCqg"
      },
      "execution_count": null,
      "outputs": []
    },
    {
      "cell_type": "code",
      "source": [
        "df.drop_duplicates(subset='headline', keep='first', inplace=True)\n",
        "df.to_csv(\"cb_data.csv\")"
      ],
      "metadata": {
        "id": "-R8kVrj1xC3Z"
      },
      "execution_count": null,
      "outputs": []
    },
    {
      "cell_type": "markdown",
      "source": [
        "# Scraping Central banks using the guardian\n"
      ],
      "metadata": {
        "id": "UFS94THvdM1U"
      }
    },
    {
      "cell_type": "markdown",
      "source": [
        "> We decided to consider central bank news as highly relevant news. First we decided to scrape the central bank own website but we got the response status code 403 in the federal reserve (USA central bank) website and the european central bank despite not showing the 403 status code it seemed that we couldn't access the news using beautiful soup. Hence we had to go look for some second hand news about these two central banks. For this task we found \"The Guardian\" webiste to be very useful and that is what we decided to scrape."
      ],
      "metadata": {
        "id": "s95xJhK4sX33"
      }
    },
    {
      "cell_type": "code",
      "source": [
        "def scrape_relevant_data(max_pages, region):\n",
        "  \"\"\"\n",
        "  This function scrapes possibly relevant and informative central bank news to our future models. The website used for this was the newspaper \"The Guardian\".\n",
        "  Input:\n",
        "    - max_pages: number of pages to scrape. It should be bigger than 1.\n",
        "    -region: Central bank in which the user is interested in scraping. It can assume the values \"EU\" or \"USA\"\n",
        "  Output:\n",
        "    - News articels organized in a dataset with the collumns date, headline, body and region.\n",
        "  \"\"\"\n",
        "\n",
        "\n",
        "  if region == 'EU':\n",
        "    central_bank = 'european-central-bank'\n",
        "  elif region == 'USA':\n",
        "    central_bank = 'federal-reserve'\n",
        "\n",
        "  headline = []\n",
        "  body = []\n",
        "  date = []\n",
        "\n",
        "\n",
        "  # Scraping the link for each article\n",
        "  links = []\n",
        "  b = 0\n",
        "  for page_number in range(1, max_pages):\n",
        "    url = f'https://www.theguardian.com/business/{central_bank}?page={page_number}'\n",
        "    r = urllib.request.urlopen(url).read()\n",
        "    soup = BeautifulSoup(r, \"lxml\")\n",
        "\n",
        "    for element in soup.find_all('div', {'class': 'fc-item__container'}):\n",
        "      links.append(element.a.attrs['href'])\n",
        "      # print(element)\n",
        "      date.append(element.find('time', {'class': 'fc-item__timestamp'}).attrs['datetime'])\n",
        "\n",
        "    for head in soup.find_all('span', {'class': 'js-headline-text'}):\n",
        "\n",
        "      headline.append(head.text)\n",
        "\n",
        "  for article in links:\n",
        "\n",
        "    r = urllib.request.urlopen(article).read()\n",
        "    # print(article, head, time)\n",
        "    mini_soup = BeautifulSoup(r, \"lxml\")\n",
        "    if mini_soup.find('div', {'class': 'article-body-commercial-selector'}):\n",
        "      for text in mini_soup.find_all('div', {'class': 'article-body-commercial-selector'}):\n",
        "          news_art = text.text\n",
        "    elif mini_soup.find_all('article', {'class': 'block'}):\n",
        "      for text in mini_soup.find_all('article', {'class': 'block'}):\n",
        "        news_art = text.text\n",
        "    else:\n",
        "      news_art = ''\n",
        "\n",
        "\n",
        "    body.append(news_art)\n",
        "\n",
        "  dictionary = {'date': date, 'headline':list(headline), 'body':body, 'origin': [region]*len(headline)}\n",
        "\n",
        "  return pd.DataFrame(dictionary)\n",
        "\n",
        "  # for link in links\n",
        "\n"
      ],
      "metadata": {
        "id": "YQK_GXdJdYwN"
      },
      "execution_count": null,
      "outputs": []
    },
    {
      "cell_type": "code",
      "source": [
        "df_eu = scrape_relevant_data(max_pages = 50, region = 'EU') # scraping first 50 pages\n",
        "df_eu = df_eu.drop_duplicates()\n",
        "df_eu"
      ],
      "metadata": {
        "colab": {
          "base_uri": "https://localhost:8080/"
        },
        "id": "_4wrRQ0rvaHK",
        "outputId": "49ee308e-8ba0-4290-b504-061e04cd2e4a"
      },
      "execution_count": null,
      "outputs": [
        {
          "output_type": "stream",
          "name": "stdout",
          "text": [
            "https://www.theguardian.com/business/2023/mar/31/eurozone-inflation-falls-sharply-as-energy-prices-drop\n",
            "https://www.theguardian.com/business/2023/mar/22/interest-rate-rise-us-federal-reserve-banking-turmoil\n",
            "https://www.theguardian.com/business/2023/mar/17/credit-suisse-shares-continue-to-fall-despite-efforts-to-calm-nerves\n",
            "https://www.theguardian.com/business/2023/mar/16/ecb-raises-interest-rates-despite-banking-fears-credit-suisse\n",
            "https://www.theguardian.com/business/2023/mar/16/ecb-interest-rate-rise-credit-suisse-european-central-bank\n",
            "https://www.theguardian.com/business/2023/mar/02/ecb-looking-out-for-price-gouging-greedflation-price-rises-eurozone-inflation-profit-margins\n",
            "https://www.theguardian.com/business/live/2023/jan/20/davos-day-4-global-economic-outlook-russia-economy-ai-business-live\n",
            "https://www.theguardian.com/business/2023/jan/20/climate-economic-stability-central-bankers\n",
            "https://www.theguardian.com/business/2023/jan/10/world-bank-walking-tightrope-as-it-mulls-increased-lending-to-poorest\n",
            "https://www.theguardian.com/business/2022/dec/26/the-pendulum-swung-against-globalisation-in-2022-and-thats-no-bad-thing\n",
            "https://www.theguardian.com/business/2022/dec/07/city-faces-fresh-post-brexit-blow-as-eu-moves-to-restrict-certain-trades\n",
            "https://www.theguardian.com/business/2022/nov/30/federal-reserve-pace-increments-extend-higher-points-period\n",
            "https://www.theguardian.com/business/2022/oct/27/european-central-bank-hikes-interest-rate-recession-fears-ecb-eurozone-inflation\n",
            "https://www.theguardian.com/environment/2022/sep/28/worlds-central-banks-financing-destruction-of-the-rainforest\n",
            "https://www.theguardian.com/business/2022/sep/21/fed-raises-interest-rates-third-increase-in-row\n",
            "https://www.theguardian.com/business/2022/sep/10/central-bankers-talk-tough-but-they-cant-fight-inflation-like-this\n",
            "https://www.theguardian.com/business/2022/sep/09/eurozone-interest-rates-must-continue-to-rise-says-european-central-bank-inflation\n",
            "https://www.theguardian.com/business/live/2022/sep/08/markets-pound-uk-energy-relief-package-inflation-ecb-rate-rise-business-live\n",
            "https://www.theguardian.com/business/2022/sep/08/ecb-european-central-bank-interest-rates-eurozone\n",
            "https://www.theguardian.com/business/2022/aug/12/the-bank-of-england-after-boris-johnson-should-inflation-target-be-raised\n",
            "https://www.theguardian.com/commentisfree/2022/jul/24/the-guardian-view-on-italy-after-draghi-there-may-be-trouble-ahead\n",
            "https://www.theguardian.com/commentisfree/2022/jul/22/the-guardian-view-on-european-democracy-central-bankers-are-villains-and-heroes\n",
            "https://www.theguardian.com/business/nils-pratley-on-finance/2022/jul/21/s4-capitals-share-slump-means-sir-martin-sorrell-has-a-crisis-on-his-hands\n",
            "https://www.theguardian.com/business/2022/jul/21/european-central-bank-raises-interest-rates-for-first-time-in-11-years\n",
            "https://www.theguardian.com/business/2022/jul/21/interest-rates-the-three-central-banks-facing-one-tricky-balancing-act\n",
            "https://www.theguardian.com/commentisfree/2022/jul/18/the-guardian-view-on-italys-political-crisis-draghi-should-stay-for-now\n",
            "https://www.theguardian.com/business/live/2022/jul/12/euro-dollar-parity-russia-gas-ftse-stock-markets-recession-strikes-business-live\n",
            "https://www.theguardian.com/business/2022/jul/01/inflation-in-eurozone-hits-record-86-as-ukraine-war-continues\n",
            "https://www.theguardian.com/business/2022/jun/29/central-bank-heads-warn-world-economy-faces-new-inflationary-era\n",
            "https://www.theguardian.com/business/live/2022/jun/28/heathrow-airport-landing-charges-caa-strikes-cost-of-living-ecb-stock-markets-business-live\n",
            "https://www.theguardian.com/business/2022/jun/28/central-bank-fed-ecb-bank-england\n",
            "https://www.theguardian.com/business/2022/jun/26/history-turns-full-circle-as-g7-alarm-bells-ring-over-energy-once-again\n",
            "https://www.theguardian.com/business/2022/jun/17/fight-against-inflation-raises-spectre-of-global-recession\n",
            "https://www.theguardian.com/business/nils-pratley-on-finance/2022/jun/15/why-is-the-ecb-still-fiddling-over-a-potential-eurozone-crisis\n",
            "https://www.theguardian.com/business/2022/jun/15/markets-brace-rise-us-interest-rates-federal-reserve-borrowing-inflation\n",
            "https://www.theguardian.com/commentisfree/2022/jun/11/technocrats-cant-think-beyond-six-years-whatever-climate-nut-jobs-think\n",
            "https://www.theguardian.com/business/live/2022/jun/09/uk-economic-growth-house-buyers-petrol-oil-european-central-bank-business-live\n",
            "https://www.theguardian.com/business/2022/jun/09/european-central-bank-to-raise-interest-rates-for-first-time-since-2011-inflation\n",
            "https://www.theguardian.com/business/2022/may/08/rishi-sunak-can-fight-recession-risks-with-a-cost-of-living-support-package\n",
            "https://www.theguardian.com/business/live/2022/apr/14/easter-travel-disruption-roads-rail-sea-airports-po-ferries-ecb-stock-markets-business-live\n",
            "https://www.theguardian.com/business/2022/apr/10/high-prices-low-growth-nip-interest-rate-rises-in-bud\n",
            "https://www.theguardian.com/business/2022/mar/06/bank-puts-covid-behind-it-but-faces-repercussions-of-war\n",
            "https://www.theguardian.com/business/2022/mar/03/london-stock-exchange-suspends-trading-in-27-firms-with-strong-links-to-russia\n",
            "https://www.theguardian.com/business/2022/mar/02/russia-sberbank-pulls-out-of-europe-after-facing-failure-amid-sanctions\n",
            "https://www.theguardian.com/business/2021/dec/06/euro-banknotes-first-big-redesign-19-nation-central-bank\n",
            "https://www.theguardian.com/business/2021/nov/30/inflation-in-eurozone-soars-to-49-highest-on-record\n",
            "https://www.theguardian.com/business/2021/nov/26/markets-warn-central-banks-get-grip-on-inflation-interest-rates\n",
            "https://www.theguardian.com/business/2021/nov/26/how-worlds-major-economies-are-dealing-with-spectre-of-inflation\n",
            "https://www.theguardian.com/business/2021/oct/28/yes-its-expensive-but-failing-to-meet-climate-challenge-will-cost-a-lot-more\n",
            "https://www.theguardian.com/uk-news/live/2021/oct/28/rishi-sunak-budget-flat-recovery-shell-profits-business-live\n",
            "https://www.theguardian.com/business/live/2021/sep/09/growth-worries-hit-markets-fed-ecb-ftse-sterling-slowdown-supply-chains-easyjet-business-live\n",
            "https://www.theguardian.com/business/live/2021/jul/22/uk-government-natwest-sale-pingdemic-uk-factories-ecb-meeting-inflation-stock-markets-ftse-business-live\n",
            "https://www.theguardian.com/business/2021/jul/21/central-banks-cant-reduce-inequality-its-time-for-ministers-to-act\n",
            "https://www.theguardian.com/business/2021/jul/08/european-central-bank-shift-inflation-target-upwards-two-per-cent\n",
            "https://www.theguardian.com/business/2021/jul/02/1970s-stagflation-2008-debt-crisis-global-economy\n",
            "https://www.theguardian.com/business/live/2021/jun/10/markets-us-inflation-european-central-bank-meeting-ftse-sterling-covid-uk-economy-bt-altice-business-live\n",
            "https://www.theguardian.com/world/2021/jun/09/eu-launches-legal-case-against-germany-over-alleged-breach-of-eu-law-primacy-principle\n",
            "https://www.theguardian.com/business/live/2021/apr/22/credit-suisse-loss-ecb-markets-uk-factories-us-jobless-business-live\n",
            "https://www.theguardian.com/business/live/2021/apr/08/ftse-100-federal-reserve-markets-coronavirus-covid-19-european-central-bank-ecb-gfg-gupta-business-live\n",
            "https://www.theguardian.com/business/2021/mar/24/why-is-no-one-in-europe-talking-about-dangers-of-rising-inflation\n",
            "https://www.theguardian.com/business/live/2021/mar/11/us-stimulus-markets-ecb-meeting-rolls-royce-john-lewis-ftse-dow-business-live\n",
            "https://www.theguardian.com/world/2021/feb/13/mario-draghi-sworn-in-as-prime-minister-of-italy\n",
            "https://www.theguardian.com/world/2021/feb/12/mario-draghis-new-italian-government-to-be-sworn-in-on-saturday\n",
            "https://www.theguardian.com/business/2021/feb/10/central-banks-arent-what-they-used-to-be-and-the-better-for-it\n",
            "https://www.theguardian.com/business/live/2020/dec/10/uk-economy-gdp-october-covid-19-pound-brexit-ecb-stimulus-business-live\n",
            "https://www.theguardian.com/world/2020/nov/14/covid-vaccine-rally-fuels-market-optimism-of-a-faster-global-recovery\n",
            "https://www.theguardian.com/business/live/2020/oct/29/markets-nervous-covid-19-lockdowns-us-gdp-growth-ecb-unemployment-business-live\n",
            "https://www.theguardian.com/business/2020/oct/07/central-bank-covid-donald-trump-stimulus-package\n",
            "https://www.theguardian.com/commentisfree/2020/sep/25/the-guardian-view-on-the-eu-economy-adopt-not-outlaw-keynesian-policies\n",
            "https://www.theguardian.com/business/live/2020/sep/10/markets-european-central-bank-lagarde-euro-ftse-pound-covid-19-us-unemployment-business-live\n",
            "https://www.theguardian.com/commentisfree/2020/sep/09/central-banks-deflation-covid-19-world-economy\n",
            "https://www.theguardian.com/business/2020/aug/13/forget-doom-laden-headlines-the-dollar-has-not-gone-into-terminal-decline\n",
            "https://www.theguardian.com/business/2020/jul/31/eurozone-economy-shrinks-by-record-121-due-to-coronavirus-crisis\n",
            "https://www.theguardian.com/commentisfree/2020/jul/24/the-guardian-view-on-the-eu-budget-hitting-the-wrong-notes-in-hamilton\n",
            "https://www.theguardian.com/world/2020/jul/22/female-leaders-have-been-better-at-tackling-covid-19-says-ecb-chief\n",
            "https://www.theguardian.com/commentisfree/2020/jul/22/recovery-deal-eu-unifying-economic-boost-integration\n",
            "https://www.theguardian.com/business/live/2020/jul/16/china-avoids-covid-19-recession-unemployment-us-uk-ecb-markets-business-live\n",
            "https://www.theguardian.com/business/2020/jul/12/boohoo-investors-selling-shares-now-could-have-intervened-much-earlier\n",
            "https://www.theguardian.com/commentisfree/2020/jun/18/central-banks-pumped-money-economy-democracy-fairer-society\n",
            "https://www.theguardian.com/business/nils-pratley-on-finance/2020/jun/17/pity-the-central-banks-lockdown-dilemma-do-they-fight-inflation-or-deflation\n",
            "https://www.theguardian.com/business/live/2020/jun/04/covid-19-uk-car-sales-aston-martin-lookers-ecb-christine-lagarde-interest-rate-sterling-dollar-euro-business-live\n",
            "https://www.theguardian.com/business/2020/jun/04/ecb-agrees-to-inject-additional-600bn-into-eurozone-economy\n",
            "https://www.theguardian.com/business/2020/may/31/christine-lagarde-eurozone-coronavirus-rescue-boost-german-unease\n",
            "https://www.theguardian.com/business/2020/may/28/lack-of-international-cooperation-will-hinder-economic-recovery-coronavirus\n",
            "https://www.theguardian.com/world/2020/may/26/franco-german-plan-for-european-recovery-will-face-compromises\n",
            "https://www.theguardian.com/world/2020/may/11/merkel-intervenes-in-damaging-row-between-germany-and-brussels\n",
            "https://www.theguardian.com/business/2020/may/05/global-stock-markets-brent-crude-oil-consumption\n",
            "https://www.theguardian.com/business/2020/may/05/jolt-to-eurozone-as-german-court-warns-against-central-bank-stimulus\n",
            "https://www.theguardian.com/commentisfree/2020/apr/28/eu-coronavirus-fund-share-crisis-soul-european-parliament-fiscal\n",
            "https://www.theguardian.com/business/2020/apr/26/us-europe-eu-financial-crises-coronabonds-federal-reserve-congress\n",
            "https://www.theguardian.com/business/2020/apr/14/how-coronavirus-almost-brought-down-the-global-financial-system\n",
            "https://www.theguardian.com/business/2020/apr/09/eu-risks-break-up-over-coronabonds-row-warns-italian-pm\n",
            "https://www.theguardian.com/business/2020/apr/07/investors-clamour-for-safe-haven-in-uk-government-bonds\n",
            "https://www.theguardian.com/business/2020/mar/29/the-coronavirus-crisis-has-brought-the-eus-failings-into-sharp-relief\n",
            "https://www.theguardian.com/commentisfree/2020/mar/25/shock-coronavirus-split-europe-nations-share-burden\n",
            "https://www.theguardian.com/business/live/2020/mar/19/stock-markets-fall-ecb-coronavirus-stimulus-sterling-oil-prices-ftse-dollar-business-live\n",
            "https://www.theguardian.com/world/2020/mar/19/ecb-u-turn-shows-it-fears-coronavirus-could-destroy-eurozone-project\n",
            "https://www.theguardian.com/world/2020/mar/19/ecb-asset-purchase-programme-boosts-euro\n",
            "https://www.theguardian.com/commentisfree/2020/mar/17/italy-europe-covid-economy-ecb-coronavirus\n",
            "https://www.theguardian.com/business/2020/mar/13/markets-rebound-after-worst-day-since-1987-amid-coronavirus-panic-ftse-100-dow-jones-wall-street\n",
            "https://www.theguardian.com/world/2020/mar/12/ecb-announces-plan-to-help-eurozone-banks-withstand-coronavirus\n",
            "https://www.theguardian.com/business/2020/mar/12/us-and-european-markets-plunge-further-after-trump-travel-ban\n",
            "https://www.theguardian.com/world/2020/mar/12/ecbs-plan-to-support-eurozone-banks-is-underwhelming\n",
            "https://www.theguardian.com/world/2020/mar/11/coronavirus-could-cause-crash-on-scale-of-2008-lagarde-warns\n",
            "https://www.theguardian.com/world/2020/mar/10/an-italian-financial-crisis-is-certain-the-big-question-is-how-contagious-it-is\n",
            "https://www.theguardian.com/business/2020/mar/07/economic-race-to-stop-victim-coronavirus-central-bankers\n",
            "https://www.theguardian.com/business/2020/feb/28/from-the-fed-to-bank-of-england-central-banks-must-up-their-game\n",
            "https://www.theguardian.com/business/2020/jan/23/who-pays-for-the-eus-1tn-green-deal\n",
            "https://www.theguardian.com/technology/2020/jan/21/bank-of-england-to-consider-adopting-cryptocurrency\n",
            "https://www.theguardian.com/business/2020/jan/14/ecb-christine-lagarde-central-bank-monetary-policy\n",
            "https://www.theguardian.com/business/2020/jan/10/central-banks-are-now-the-markets-best-friends\n",
            "https://www.theguardian.com/business/2020/jan/01/us-election-brexit-and-china-to-sway-the-markets-in-2020\n",
            "https://www.theguardian.com/business/2019/dec/31/flotations-corporate-collapses-and-brexit-the-year-in-business\n",
            "https://www.theguardian.com/business/live/2019/dec/12/christine-lagarde-ecb-meeting-rates-aramco-ftse-business-live\n",
            "https://www.theguardian.com/business/2019/dec/12/wise-owl-lagarde-may-inject-fresh-tranche-of-cash-into-eurozone\n",
            "https://www.theguardian.com/business/2019/dec/10/eurozone-economy-budget-deficits-germany-borrowing\n",
            "https://www.theguardian.com/business/2019/dec/08/economic-conditions-favour-the-left-so-why-is-labour-not-expected-to-win-with-ease\n",
            "https://www.theguardian.com/world/2019/dec/02/christine-lagarde-ecb-should-do-more-to-tackle-climate-emergency\n",
            "https://www.theguardian.com/world/2019/nov/22/christine-lagarde-calls-for-more-public-investment-in-first-ecb-speech\n",
            "https://www.theguardian.com/business/2019/nov/22/germanys-risk-averse-savers-grapple-with-negative-interest-rates\n",
            "https://www.theguardian.com/business/2019/oct/24/germany-eurozone-stagnation-economy-output-recession\n",
            "https://www.theguardian.com/commentisfree/2019/oct/01/the-guardian-view-on-eurozone-populism-fight-it-with-fiscal-firepower\n",
            "https://www.theguardian.com/business/2019/sep/30/christine-lagarde-europ-economy-ecb\n",
            "https://www.theguardian.com/business/2019/sep/18/ecb-europe-donald-trump-interest-rates-qe\n",
            "https://www.theguardian.com/business/2019/sep/15/blackouts-energy-network-companies-raise-questions-profits-power\n",
            "https://www.theguardian.com/business/live/2019/sep/12/trump-delays-tariffs-markets-ecb-stimulus-package-qe-mario-draghi-business-live\n",
            "https://www.theguardian.com/business/2019/sep/12/ecb-announces-fresh-stimulus-as-eurozone-economy-falters\n",
            "https://www.theguardian.com/business/live/2019/sep/11/sovereign-bond-yields-trade-war-brexit-annuities-ecb-business-live\n",
            "https://www.theguardian.com/business/2019/sep/08/europe-central-bank-interest-rates-recession-germany\n",
            "https://www.theguardian.com/business/live/2019/sep/06/germany-industrial-eurozone-recession-brexit-sterling-non-farm-payrolls-us-dollar-jobs-report-business-live\n",
            "https://www.theguardian.com/business/2019/sep/05/events-dear-boy-events-how-politics-is-making-markets-volatile\n",
            "https://www.theguardian.com/business/live/2019/aug/16/markets-recover-central-banks-bazooka-ecb-sterling-ftse-business-live\n",
            "https://www.theguardian.com/business/2019/aug/13/trump-adds-a-dismal-dimension-to-the-us-china-trade-dispute\n",
            "https://www.theguardian.com/business/2019/jul/31/mario-draghi-lays-out-plan-for-a-dangerous-round-of-stimulus\n",
            "https://www.theguardian.com/business/2019/jul/28/why-trump-prefers-mario-draghi-over-jerome-powell\n",
            "https://www.theguardian.com/business/2019/jul/27/sports-direct-life-hard-retailers-crisis-ashley-own-making\n",
            "https://www.theguardian.com/business/live/2019/jul/26/asian-shares-stock-markets-ecb-economy-sterling-pound-euro-dollar-us-gdp-growth-business-live\n",
            "https://www.theguardian.com/business/2019/jul/25/ecb-signals-it-will-move-to-boost-growth-amid-fears-of-low-inflation\n",
            "https://www.theguardian.com/business/live/2019/jul/25/investors-ecb-european-central-bank-economic-stimulus-brexit-interest-rates-euro-sterling-pound-dollar-business-live\n",
            "https://www.theguardian.com/business/2019/jul/22/have-central-bank-gambles-paid-off\n",
            "https://www.theguardian.com/commentisfree/2019/jul/15/christine-lagarde-ecb-berlin-eurozone-yanis-varoufakis\n",
            "https://www.theguardian.com/business/2019/jul/14/will-mark-carney-and-george-osborne-vie-for-the-top-imf-job\n",
            "https://www.theguardian.com/commentisfree/picture/2019/jul/10/andrzej-krauze-on-top-eu-jobs-cartoon\n",
            "https://www.theguardian.com/business/2019/jul/09/christine-lagardes-arrival-would-be-ideal-time-for-ecb-review\n",
            "https://www.theguardian.com/business/2019/jul/06/easy-money-wont-solve-christine-lagardes-economic-problems\n",
            "https://www.theguardian.com/business/2019/jul/03/share-prices-rally-at-lagardes-nomination-as-ecb-president\n",
            "https://www.theguardian.com/business/2019/jul/03/christine-lagarde-the-key-issues-she-must-address-at-ecb-\n",
            "https://www.theguardian.com/business/live/2019/jul/03/eurozone-bond-christine-lagarde-ecb-services-business-live\n",
            "https://www.theguardian.com/world/2019/jul/02/christine-lagarde-faces-ecb-test-of-legendary-diplomatic-skills\n",
            "https://www.theguardian.com/world/2019/jul/02/women-to-head-top-eu-institutions-for-first-time\n",
            "https://www.theguardian.com/business/2019/jul/02/trade-wars-could-shipwreck-global-economy-warns-mark-carney\n",
            "https://www.theguardian.com/business/2019/jun/23/trade-wars-roosevelt-realised-truth-trump-eurozone\n",
            "https://www.theguardian.com/business/2019/jun/18/donald-trump-attacks-ecb-for-currency-manipulation\n",
            "https://www.theguardian.com/business/2019/jun/11/quantitative-easing-qe-recession\n",
            "https://www.theguardian.com/business/live/2019/jun/06/car-industry-ford-bridgend-fiat-renault-trade-trump-xi-ecb-draghi-business-live\n",
            "https://www.theguardian.com/business/2019/may/29/european-central-bank-contenders-to-replace-mario-draghi\n",
            "https://www.theguardian.com/business/live/2019/may/28/eu-leaders-meet-in-brussels-to-discuss-top-jobs-business-live\n",
            "https://www.theguardian.com/business/2019/apr/30/eurozone-growth-rate-makes-surprise-rally-after-gloomy-forecasts\n",
            "https://www.theguardian.com/business/2019/mar/24/the-europe-union-has-bigger-problems-to-deal-with-than-brexit\n",
            "https://www.theguardian.com/business/2019/mar/17/as-recession-looms-could-mmt-be-the-unorthodox-solution-modern-monetary-theory\n",
            "https://www.theguardian.com/business/2019/mar/07/ecb-to-keep-interest-rates-low-recession-fears-eurozone-banks\n",
            "https://www.theguardian.com/business/live/2019/mar/07/ecb-eurozone-gdp-economy-business-live\n",
            "https://www.theguardian.com/money/2018/dec/22/lithuania-iceland-banking-revolut\n",
            "https://www.theguardian.com/business/2018/dec/13/ecb-to-halt-stimulus-pprogramme-despite-eurozone-slowdown-concerns\n",
            "https://www.theguardian.com/business/live/2018/dec/13/italian-bonds-rome-eu-italy-budget-ecb-mario-draghi-qe-business-live\n",
            "https://www.theguardian.com/business/2018/dec/06/central-bank-warnings-are-getting-louder-and-more-frequent-howard-davies\n",
            "https://www.theguardian.com/world/2018/nov/05/pilatus-bank-malta-european-banking-licence-withdrawn\n",
            "https://www.theguardian.com/business/2018/oct/30/eurozone-growth-slumps-to-lowest-level-in-over-four-years\n",
            "https://www.theguardian.com/business/live/2018/oct/25/market-sell-off-ftse-europe-asia-bear-market-ecb-mario-draghi-business-live\n",
            "https://www.theguardian.com/business/2018/oct/07/austerity-is-the-wrong-prescription-for-the-world-wellbeing\n",
            "https://www.theguardian.com/business/2018/oct/02/italian-deputy-pm-threatens-to-sue-eu-boss-over-budget-criticism\n",
            "https://www.theguardian.com/business/live/2018/sep/13/bank-of-england-ecb-turkey-interest-rate-decisions-john-lewis-profits-tumble-business-live\n",
            "https://www.theguardian.com/business/live/2018/aug/23/markets-nervous-amid-new-us-china-tariffs-and-trumps-troubles-business-live\n",
            "https://www.theguardian.com/commentisfree/2018/aug/21/greece-europe-eu-austerity\n",
            "https://www.theguardian.com/business/live/2018/aug/20/greece-exits-bailout-programme-after-eight-years-but-turkish-fears-remain-business-live\n",
            "https://www.theguardian.com/commentisfree/2018/aug/03/raising-interest-rates-mpc-wage-growth\n",
            "https://www.theguardian.com/business/2018/jul/31/is-this-the-end-of-the-road-for-the-euro\n",
            "https://www.theguardian.com/business/live/2018/jul/26/trade-war-truce-us-eu-trump-juncker-ecb-mario-draghi-business-live\n",
            "https://www.theguardian.com/business/2018/jul/11/pounds-unexpected-robustness-may-point-to-underlying-strength\n",
            "https://www.theguardian.com/commentisfree/2018/jul/09/greece-alexis-tsipras-syriza-austerity-eu\n",
            "https://www.theguardian.com/business/2018/jun/17/us-fed-rushes-in-where-ecb-fears-to-tread\n",
            "https://www.theguardian.com/business/live/2018/jun/14/ecb-qe-stimulus-mario-draghi-fed-rate-hike-uk-retail-sales-business-live\n",
            "https://www.theguardian.com/business/2018/jun/14/ecb-calls-halt-to-quantitative-easing-despite-soft-euro\n",
            "https://www.theguardian.com/business/2018/jun/11/no-excuses-slump-in-uk-manufacturing-is-dismal-news\n",
            "https://www.theguardian.com/business/live/2018/may/31/market-rebound-italian-fears-ease-business-live\n",
            "https://www.theguardian.com/commentisfree/2018/may/30/italy-brussels-descent-abyss-eu-economics\n",
            "https://www.theguardian.com/commentisfree/picture/2018/may/29/steve-bell-on-eu-fears-about-rising-populism-in-italy-cartoon\n",
            "https://www.theguardian.com/business/nils-pratley-on-finance/2018/may/14/uk-bookies-beware-us-will-look-after-its-own-in-betting-revolution\n",
            "https://www.theguardian.com/business/2018/apr/27/bank-of-england-and-ecb-set-up-group-to-address-brexit-fears\n",
            "https://www.theguardian.com/business/live/2018/apr/26/tsb-crisis-bank-waives-overdraft-fees-paul-pester-ecb-mario-draghi-business-live\n",
            "https://www.theguardian.com/business/live/2018/apr/12/oil-soars-to-three-year-high-on-growing-middle-east-tensions-business-live\n",
            "https://www.theguardian.com/business/live/2018/apr/11/european-stock-markets-imf-head-christine-lagarde-warns-on-trade-wars-business-live\n",
            "https://www.theguardian.com/business/live/2018/mar/08/chinese-exports-trade-wars-trump-tariffs-ecb-mario-draghi-business-live\n",
            "https://www.theguardian.com/technology/2018/feb/26/eu-finance-head-regulate-bitcoin-cryptocurrencies-risks\n",
            "https://www.theguardian.com/business/2018/feb/19/ecbs-latvian-representative-detained-in-bribery-case\n",
            "https://www.theguardian.com/business/live/2018/feb/15/stock-markets-investors-inflation-ftse-pound-us-jobs-factories-business-live\n",
            "https://www.theguardian.com/technology/2018/feb/08/ecb-official-backs-bitcoin-clampdown\n",
            "https://www.theguardian.com/business/2018/feb/05/why-are-global-stock-markets-falling\n",
            "https://www.theguardian.com/business/2018/feb/01/global-demand-propels-eurozone-factories-into-full-throttle-mode\n",
            "https://www.theguardian.com/business/2018/jan/29/how-to-start-paying-off-southern-europes-debts\n",
            "https://www.theguardian.com/business/2018/jan/17/mario-draghi-ecb-drop-membership-secretive-bankers-g30-club\n",
            "https://www.theguardian.com/business/live/2017/dec/14/bank-of-england-ecb-meetings-interest-rates-retail-sales-business-live\n",
            "https://www.theguardian.com/business/2017/dec/11/uk-business-investment-on-ice-until-more-brexit-progress-warns-bcc\n",
            "https://www.theguardian.com/business/live/2017/nov/17/pound-bounces-amid-sharp-dollar-sell-off-business-live\n",
            "https://www.theguardian.com/business/2017/nov/15/ecb-criticises-banks-relocation-plans-brexit-euro-area\n",
            "https://www.theguardian.com/business/2017/nov/15/banks-brexit-games-raise-hackles-ecb-mario-draghi\n",
            "https://www.theguardian.com/business/2017/nov/10/central-banks-are-back-in-the-dock-but-they-must-be-found-not-guilty\n",
            "https://www.theguardian.com/business/2017/nov/09/eu-cuts-uk-growth-forecast-as-eurozone-motors-ahead\n",
            "https://www.theguardian.com/business/2017/oct/26/ecb-to-halve-bond-buying-as-it-plans-to-scale-back-quantitative-easing\n",
            "https://www.theguardian.com/business/2017/oct/04/ecb-banks-bad-debt-eurozone-problem-loans\n",
            "https://www.theguardian.com/commentisfree/2017/sep/28/the-guardian-view-on-brexit-and-the-bank-the-challenge-of-populism\n",
            "https://www.theguardian.com/business/2017/sep/19/why-central-banks-are-not-hitting-their-2-inflation-target\n",
            "https://www.theguardian.com/business/2017/sep/16/the-eurozone-strikes-back-why-europe-is-booming-again\n",
            "https://www.theguardian.com/politics/2017/sep/13/philip-hammond-tells-the-city-he-will-protect-its-global-position\n",
            "https://www.theguardian.com/business/2017/sep/11/macron-merkel-eurozone-france-germany\n",
            "https://www.theguardian.com/business/live/2017/sep/08/ecb-stimulus-signal-pushes-euro-higher-business-live\n",
            "https://www.theguardian.com/business/live/2017/sep/07/markets-euro-european-central-bank-mario-draghi-stimulus-business-live\n",
            "https://www.theguardian.com/business/2017/sep/06/eurozone-european-interest-rates-deutsche-bank-john-cryan-ecb-meeting\n",
            "https://www.theguardian.com/business/live/2017/aug/30/markets-recover-after-korea-shock-and-ahead-of-us-gdp-business-live\n",
            "https://www.theguardian.com/business/2017/aug/27/central-banks-governments-debt-spending-investment\n",
            "https://www.theguardian.com/business/live/2017/aug/25/sterling-markets-jackson-hole-bankers-janet-yellen-live\n",
            "https://www.theguardian.com/business/live/2017/aug/24/pound-dips-again-ahead-of-uk-gdp-figures-business-live\n",
            "https://www.theguardian.com/business/2017/aug/23/why-ecb-president-is-still-flooding-the-system-with-cheap-money\n",
            "https://www.theguardian.com/business/live/2017/aug/23/markets-mixed-ahead-of-eurozone-health-check-and-draghi-speech-live\n",
            "https://www.theguardian.com/business/live/2017/aug/21/markets-cautious-ahead-of-key-week-for-central-banks-business-live\n",
            "https://www.theguardian.com/business/2017/aug/20/global-investors-look-to-jackson-hole-for-signs-of-how-qe-will-end\n",
            "https://www.theguardian.com/business/2017/jul/24/greece-return-bond-market-austerity-eurozone\n",
            "https://www.theguardian.com/business/2017/jul/21/britons-travelling-to-europe-offered-just-88-euro-cents-to-the-pound\n",
            "https://www.theguardian.com/business/live/2017/jul/21/euro-two-year-high-city-uk-public-finances-pound-ftse-business-live\n",
            "https://www.theguardian.com/business/live/2017/jul/20/markets-ecb-meeting-mario-draghi-european-central-bank-stimulus-business-live\n",
            "https://www.theguardian.com/business/2017/jul/20/shares-in-asia-head-for-10-year-high-on-back-of-us-profit-surge\n",
            "https://www.theguardian.com/business/2017/jul/02/horror-stories-of-central-bankers-have-no-interest-rate-shock\n",
            "https://www.theguardian.com/business/live/2017/jun/27/bank-of-england-financial-stability-draghi-ecb-google-fine-europe-janet-yellen-business-live\n",
            "https://www.theguardian.com/business/live/2017/jun/23/french-growth-revised-up-eurozone-companies-canadian-inflation-business-live\n",
            "https://www.theguardian.com/business/2017/jun/23/london-ecb-euro-clearing-brexit-european-central-bank\n",
            "https://www.theguardian.com/commentisfree/2017/jun/18/brexit-europe-eu-golden-decade-merkel-macron\n",
            "https://www.theguardian.com/business/nils-pratley-on-finance/2017/jun/13/as-with-everything-brexit-the-battle-for-the-city-will-be-messy\n",
            "https://www.theguardian.com/business/2017/jun/08/take-a-bow-mario-draghi-has-ecb-chief-saved-eurozone\n",
            "https://www.theguardian.com/business/2017/jun/07/santander-rbs-royal-bank-scotland-haunted-ghost-financial-crisis-past\n",
            "https://www.theguardian.com/business/2017/jun/07/santander-deal-looks-better-for-the-regulators-than-for-the-buyer\n",
            "https://www.theguardian.com/business/2017/may/16/global-stock-markets-whats-driving-the-rise-and-will-it-continue\n",
            "https://www.theguardian.com/world/2017/apr/30/wolfgang-schauble-german-finance-minister-greek-economic-reforms-bailout-funds\n",
            "https://www.theguardian.com/business/2017/apr/30/end-of-opec-wind-wave-shale-converge-oil\n",
            "https://www.theguardian.com/business/live/2017/apr/27/markets-trump-tax-plan-european-central-bank-draghi-business-live\n",
            "https://www.theguardian.com/business/2017/apr/24/stock-markets-surge-after-french-election-result\n",
            "https://www.theguardian.com/business/2017/apr/06/imf-study-warns-low-interest-rates-threaten-global-financial-sector\n",
            "https://www.theguardian.com/business/live/2017/mar/09/ecb-rate-decision-qe-mario-draghi-markets-euro-business-live\n",
            "https://www.theguardian.com/business/2017/mar/05/greece-growth-bailout-funds-syriza-world-bank\n",
            "https://www.theguardian.com/business/2017/feb/10/no-crisis-greece-bailout-deal-says-eurozone-chief-dutch-finance-minister-jeroen-dijsselbloem-emergency-meeting\n",
            "https://www.theguardian.com/world/2017/feb/08/trump-envoy-declares-odds-on-greece-will-break-from-euro\n",
            "https://www.theguardian.com/business/nils-pratley-on-finance/2017/feb/06/trump-banking-rules-ecb-mario-draghi-dodd-frank\n",
            "https://www.theguardian.com/us-news/2017/feb/03/european-union-leaders-warily-await-donald-trump-ambassador-choice-ted-malloch\n",
            "https://www.theguardian.com/business/2017/jan/03/global-regulators-postpone-pivotal-banking-reform-meeting\n",
            "https://www.theguardian.com/business/2016/dec/28/global-banking-standards-treacherous-political-water-basel-us-europe-regulation\n",
            "https://www.theguardian.com/business/2016/dec/27/monte-dei-paschi-shortfall-8bn-ecb-says\n",
            "https://www.theguardian.com/business/2016/dec/26/monte-dei-paschi-bailout-shouldnt-be-seen-as-a-done-deal-says-ecb-member\n",
            "https://www.theguardian.com/business/2016/dec/21/italys-20bn-bailout-fund-to-rescue-monte-dei-paschi-di-siena\n",
            "https://www.theguardian.com/world/2016/dec/19/moodys-concern-delay-greece-debt-relief-alexis-tsipras-ecb\n",
            "https://www.theguardian.com/world/2016/dec/13/greece-eu-imf-war-of-words-debt-relief-plan-tsipras-austerity\n",
            "https://www.theguardian.com/business/2016/dec/12/italy-monte-dei-paschi-di-siena-rescue-banks\n",
            "https://www.theguardian.com/business/2016/dec/11/monte-dei-paschi-siena-emergency-cash-injection-european-central-bank\n",
            "https://www.theguardian.com/world/2016/dec/09/crisis-hit-monte-dei-paschi-bank-refused-ecb-help\n",
            "https://www.theguardian.com/business/2016/dec/09/monte-dei-paschi-bailout-worlds-oldest-bank-eu\n",
            "https://www.theguardian.com/business/live/2016/dec/09/markets-boosted-as-ecb-pledges-to-do-more-if-necessary-business-live\n",
            "https://www.theguardian.com/environment/2016/dec/09/ecbs-quantitative-easing-programme-investing-billions-in-fossil-fuels\n",
            "https://www.theguardian.com/business/2016/dec/08/ecb-surprises-markets-by-scaling-back-qe\n",
            "https://www.theguardian.com/business/live/2016/dec/08/ecb-stimulus-qe-draghi-italy-bank-rescue-business-live\n",
            "https://www.theguardian.com/business/2016/dec/05/euro-falls-to-20-month-low-after-italy-referendum-defeat\n",
            "https://www.theguardian.com/world/2016/dec/01/italy-referendum-q-and-a-economic-questions-answered\n",
            "https://www.theguardian.com/business/2016/nov/28/ecbs-mario-draghi-urges-uk-to-disclose-brexit-plans\n",
            "https://www.theguardian.com/business/live/2016/nov/18/euro-in-record-losing-streak-against-the-dollar-business-live\n",
            "https://www.theguardian.com/business/2016/nov/17/brexit-unlikely-to-mean-loss-of-citys-role-in-processing-deals-in-euros\n",
            "https://www.theguardian.com/world/2016/nov/15/ireland-draft-plan-eu-breakup-frexit\n",
            "https://www.theguardian.com/us-news/2016/nov/13/barack-obama-calls-for-meaningful-debt-relief-for-greece\n",
            "https://www.theguardian.com/business/2016/oct/23/prepare-for-the-next-recession-while-you-can\n",
            "https://www.theguardian.com/business/2016/oct/20/european-banks-warn-off-political-intrusion\n",
            "https://www.theguardian.com/business/live/2016/oct/20/markets-ecb-meeting-mario-draghi-uk-retail-sales-brexit-business-live\n",
            "https://www.theguardian.com/world/2016/oct/16/eu-and-imf-auditors-to-visit-athens-as-greeces-agony-continues\n",
            "https://www.theguardian.com/world/2016/oct/10/eurogroup-eurozone-ministers-greece-loans\n",
            "https://www.theguardian.com/business/2016/sep/23/100000-clearing-jobs-at-risk-from-brexit-vote-stock-exchange-chief\n",
            "https://www.theguardian.com/world/2016/sep/18/hard-brexit-will-cost-city-of-london-its-hub-status-warns-bundesbank-boss\n",
            "https://www.theguardian.com/world/2016/sep/11/alexis-tsipras-greece-criticises-creditors-thessaloniki\n",
            "https://www.theguardian.com/business/live/2016/sep/08/ecb-mario-draghi-stimulus-qe-euro-brexit-business-live\n",
            "https://www.theguardian.com/business/2016/sep/08/ecb-keeps-interest-rates-at-0\n",
            "https://www.theguardian.com/business/2016/sep/06/eurozone-consumer-spending-slows-but-exports-rise\n",
            "https://www.theguardian.com/business/live/2016/aug/31/eurozone-inflation-to-offer-clues-on-ecbs-next-move-business-live\n",
            "https://www.theguardian.com/business/2016/aug/31/eurozone-core-inflation-falls-july-ecb-stimulus-measures\n",
            "https://www.theguardian.com/business/2016/aug/25/jackson-hole-2016-five-big-problems-facing-central-bankers\n",
            "https://www.theguardian.com/business/2016/aug/22/seven-changes-needed-to-save-the-euro-and-the-eu\n",
            "https://www.theguardian.com/business/2016/aug/13/greek-economy-still-spiralling-down-year-after-crisis-declared-over\n",
            "https://www.theguardian.com/world/2016/aug/01/greece-ease-capital-controls-reverse-currency-flight-eurozone\n",
            "https://www.theguardian.com/business/2016/jul/21/ecb-european-central-bank-brexit-impact-stimulus-eurozone-growth\n",
            "https://www.theguardian.com/business/live/2016/jul/21/ecb-meeting-brexit-vote-mario-draghi-retail-sales-business-live\n",
            "https://www.theguardian.com/world/2016/jul/11/the-next-eu-crisis-in-the-italian-banks-needs-to-be-addressed\n",
            "https://www.theguardian.com/business/2016/jul/11/the-promise-of-regrexit\n",
            "https://www.theguardian.com/business/2016/jul/01/bundesbank-president-jens-weidmann-says-uk-should-get-a-fair-brexit-deal\n",
            "https://www.theguardian.com/business/2016/jun/26/city-of-london-expecting-further-post-brexit-losses-when-trade-reopens\n",
            "https://www.theguardian.com/business/2016/jun/26/market-turmoil-fears-likely-to-force-mark-carney-to-abandon-ecb-meeting\n",
            "https://www.theguardian.com/politics/2016/jun/25/london-city-eu-passport-brexit\n",
            "https://www.theguardian.com/business/2016/jun/21/mario-draghi-janet-yellen-poised-eu-referendum-fallout\n",
            "https://www.theguardian.com/world/2016/jun/17/eurozone-releases-75bn-in-bailout-funds-for-greece\n",
            "https://www.theguardian.com/business/live/2016/jun/09/oil-prices-hit-eight-month-high-business-live\n",
            "https://www.theguardian.com/business/live/2016/jun/02/european-central-bank-and-opec-meetings-live-updates\n",
            "https://www.theguardian.com/world/2016/may/25/eu-officials-hail-deal-bailout-loans-greece-climbdown-imf-greek-unions-strikes\n",
            "https://www.theguardian.com/business/2016/may/25/negative-interest-rates-the-case-against-john-maynard-keynes\n",
            "https://www.theguardian.com/world/2016/may/24/eurozone-officials-hope-to-give-greece-next-tranche-of-bailout\n",
            "https://www.theguardian.com/politics/2016/may/23/britain-destiny-in-a-struggling-european-union\n",
            "https://www.theguardian.com/business/2016/may/23/imf-warns-eu-bailout-greece-debt-relief\n",
            "https://www.theguardian.com/world/2016/may/09/eurozone-ministers-to-examine-how-to-ease-greeces-debt-burden\n",
            "https://www.theguardian.com/business/2016/may/09/greece-financial-emergency-tragic-absurd-imf-debt-relief\n",
            "https://www.theguardian.com/business/gallery/2016/feb/08/big-bucks-high-denomination-bank-notes-in-pictures\n",
            "https://www.theguardian.com/world/2016/may/08/greece-has-basically-achieved-reform-goals-says-jean-claude-juncker\n",
            "https://www.theguardian.com/business/2016/may/04/500-euro-banknote-could-be-scrapped-crime\n",
            "https://www.theguardian.com/business/2016/apr/29/could-italy-be-the-unlikely-saviour-of-project-europe\n",
            "https://www.theguardian.com/world/2016/apr/21/greek-talks-with-lenders-fraught-as-fears-grow-of-default\n",
            "https://www.theguardian.com/business/2016/apr/21/mario-draghi-defends-ecb-independence-german-criticism-central-bank-eurozone-interest-rates\n",
            "https://www.theguardian.com/business/live/2016/apr/21/european-central-bank-mario-draghi-rates-qe-markets-live\n",
            "https://www.theguardian.com/business/2016/apr/18/the-problem-with-negative-interest-rates\n",
            "https://www.theguardian.com/business/live/2016/apr/07/us-fed-dampens-prospect-of-an-april-rate-rise-business-live\n",
            "https://www.theguardian.com/world/2016/apr/02/imf-officials-concerned-brexit-vote-will-put-greek-bailout-at-risk-says-wikileaks\n",
            "https://www.theguardian.com/business/2016/apr/01/central-banks-unconventional-monetary-policy\n",
            "https://www.theguardian.com/business/2016/mar/29/europes-emerging-bubbles-need-structural-reform\n",
            "https://www.theguardian.com/business/live/2016/mar/18/markets-2016-highs-dollar-draghi-leaders-oil-business-live\n",
            "https://www.theguardian.com/world/2016/mar/11/european-job-market-is-rigged-against-younger-workers-says-draghi\n",
            "https://www.theguardian.com/world/2016/mar/11/mario-draghi-reducing-youth-unemployment-is-a-priority-for-everyone\n",
            "https://www.theguardian.com/business/2016/mar/10/european-central-bank-cuts-interest-rates-zero-mario-draghi\n",
            "https://www.theguardian.com/business/2016/mar/10/ecb-cuts-eurozone-interest-rate-to-zero\n",
            "https://www.theguardian.com/business/picture/2016/mar/10/kipper-williams-on-ecb-cutting-eurozone-interest-rate-to-zero\n",
            "https://www.theguardian.com/business/live/2016/mar/10/ecb-stimulus-measures-mario-draghi-negative-rates-qe-business-live\n",
            "https://www.theguardian.com/business/2016/mar/10/ecb-can-only-buy-time-not-solve-eurozone-growth-woes-draghi\n",
            "https://www.theguardian.com/business/2016/mar/10/how-european-central-bank-ecb-trying-revive-eurozone\n",
            "https://www.theguardian.com/business/2016/feb/29/negative-inflation-ecb-under-pressure-eurozone-support\n",
            "https://www.theguardian.com/business/2016/feb/26/bank-of-england-chief-accuses-g20-of-failing-to-enact-reforms-to-boost-growth\n",
            "https://www.theguardian.com/business/2016/feb/23/bank-of-england-could-cut-interest-rates-to-zero-but-not-below-says-mark-carney\n",
            "https://www.theguardian.com/business/economics-blog/2016/feb/21/central-bankers-on-the-defensive-as-weird-policy-becomes-even-weirder\n",
            "https://www.theguardian.com/business/2016/feb/18/european-central-bank-further-stimulus-march\n",
            "https://www.theguardian.com/business/2016/feb/16/1000-swiss-franc-note-here-to-stay-swiss-national-bank\n",
            "https://www.theguardian.com/business/2016/feb/15/stock-markets-rally-mario-draghi-qe-stimulus-negative-rates\n",
            "https://www.theguardian.com/business/2016/feb/15/mario-draghi-european-central-bank-japan-china\n",
            "https://www.theguardian.com/business/2016/feb/12/criminal-links-of-500-euro-banknotes-demise\n",
            "https://www.theguardian.com/business/2016/feb/12/eu-finance-ministers-call-for-restrictions-on-500-euro-note-crime\n",
            "https://www.theguardian.com/business/2016/feb/12/eurozone-crisis-back-on-boil\n",
            "https://www.theguardian.com/business/2016/feb/12/eurozone-recovery-falters-greece-recession\n",
            "https://www.theguardian.com/business/2016/jan/31/bank-of-england-governor-bluffing-interest-rates\n",
            "https://www.theguardian.com/business/2016/jan/29/global-markets-end-tumultuous-month-on-a-high\n",
            "https://www.theguardian.com/world/2016/jan/29/bank-of-japan-achieve-imposing-negative-interest-rates\n",
            "https://www.theguardian.com/business/2016/jan/22/world-stock-markets-bounce-back-nikkei-ecb-draghi\n",
            "https://www.theguardian.com/business/2016/jan/22/mario-draghi-global-recession-fears-refugee-opportunity\n",
            "https://www.theguardian.com/business/2016/jan/21/ecb-interest-rate-hold-steadies-markets\n",
            "https://www.theguardian.com/business/2016/jan/06/denials-and-devaluation-as-chinas-currency-tumbles-to-five-year-low\n",
            "https://www.theguardian.com/business/nils-pratley-on-finance/2015/dec/16/rbs-branch-sell-off-seven-years-santander\n",
            "https://www.theguardian.com/media/2015/dec/04/ft-to-review-digital-publishing-process-after-inaccurate-ecb-story\n",
            "https://www.theguardian.com/business/2015/dec/04/asia-pacific-shares-join-global-slump-as-ecb-fails-to-deliver-stimulus\n",
            "https://www.theguardian.com/business/nils-pratley-on-finance/2015/dec/03/investors-got-ecb-odds-wrong-but-draghi-could-pay-hefty-price\n",
            "https://www.theguardian.com/business/live/2015/dec/03/ecb-stimulus-qe-negative-rates-mario-draghi-live\n",
            "https://www.theguardian.com/business/2015/dec/03/mario-draghis-big-bazooka-turns-peashooter-eurozone-qe-ecb\n",
            "https://www.theguardian.com/business/2015/dec/03/ecb-launches-new-stimulus-package-eurozone\n",
            "https://www.theguardian.com/business/2015/dec/03/turbulence-predicted-as-ecb-eases-monetary-policy-and-fed-tightens\n",
            "https://www.theguardian.com/business/2015/dec/03/ecb-five-options-boost-eurozone-economy-european-central-bank-draghi\n",
            "https://www.theguardian.com/business/live/2015/dec/02/markets-eurozone-inflation-ecb-stimulus-draghi-business-live\n",
            "https://www.theguardian.com/business/2015/dec/02/eurozone-inflation-data-raises-prospect-of-fresh-ecb-stimulus\n",
            "https://www.theguardian.com/business/2015/dec/02/federal-reserve-ecb-when-monetary-policy-diverges\n",
            "https://www.theguardian.com/business/live/2015/nov/26/euro-ecb-stimulus-autumn-statement-ifs-live\n",
            "https://www.theguardian.com/business/2015/nov/20/paris-attacks-eurozone-economy-european-central-bank\n",
            "https://www.theguardian.com/business/live/2015/nov/20/markets-await-draghi-clues-on-further-intervention-live\n",
            "https://www.theguardian.com/business/economics-blog/2015/nov/19/a-december-rate-rise-may-be-a-mistake-by-the-fed\n",
            "https://www.theguardian.com/business/economics-blog/2015/nov/18/imfs-hindsight-right-advocate-qe-eurozone\n",
            "https://www.theguardian.com/business/2015/nov/16/billions-wiped-off-european-travel-shares-after-paris-attacks\n",
            "https://www.theguardian.com/business/2015/nov/13/eurozone-recovery-loses-steam-as-germany-slows\n",
            "https://www.theguardian.com/business/2015/nov/09/greece-told-to-do-more-on-reforms-before-it-gets-next-bailout-payment\n",
            "https://www.theguardian.com/world/2015/nov/01/barack-obama-right-europe-wrong-great-recession-eurozone-economic-blunders\n",
            "https://www.theguardian.com/world/2015/oct/31/greece-banks-14bn-survive-economic-downturn\n",
            "https://www.theguardian.com/world/2015/oct/28/worrying-times-for-democracy-in-portugal\n",
            "https://www.theguardian.com/business/2015/oct/25/the-global-economy-warrants-a-big-dose-of-caution\n",
            "https://www.theguardian.com/business/2015/oct/24/australian-dollar-strengthens-against-us-dollar-as-europe-hints-at-stimulus\n",
            "https://www.theguardian.com/business/2015/oct/23/china-interest-rate-cut-fuels-fears-chinese-economy\n",
            "https://www.theguardian.com/business/economics-blog/2015/oct/22/city-cheering-mario-draghi-qe-weapon-lacks-firepower\n",
            "https://www.theguardian.com/business/blog/live/2015/oct/22/markets-expect-ecb-draghi-to-hint-on-more-qe-business-live\n",
            "https://www.theguardian.com/business/2015/oct/22/mario-draghi-ecb-prepared-to-cut-interest-rates-and-expand-qe\n",
            "https://www.theguardian.com/world/2015/oct/22/three-days-to-save-the-euro-greece\n",
            "https://www.theguardian.com/world/2015/oct/21/hopes-and-hurdles-for-the-european-project\n",
            "https://www.theguardian.com/business/blog/live/2015/oct/21/starbucks-and-fiat-chrysler-face-multimillion-euro-repayments-after-eu-tax-ruling-live\n",
            "https://www.theguardian.com/politics/2015/oct/18/steel-closures-and-reforging-our-economy\n",
            "https://www.theguardian.com/business/2015/oct/18/ecb-meeting-to-be-closely-watched-for-stimulus-talk-qe\n",
            "https://www.theguardian.com/business/2015/oct/14/eurozone-industrial-production-falls\n",
            "https://www.theguardian.com/business/live/2015/sep/30/eurozone-inflation-markets-worst-quarter-since-2011-business-live\n",
            "https://www.theguardian.com/business/2015/sep/30/eurozone-inflation-drops-below-zero\n",
            "https://www.theguardian.com/business/2015/sep/29/imf-warns-new-financial-crisis-interest-rates-rise\n",
            "https://www.theguardian.com/business/2015/sep/28/imf-currency-study-shows-power-of-devaluation\n",
            "https://www.theguardian.com/world/2015/sep/21/tsipras-savours-election-win-but-dark-clouds-are-gathering-over-greece\n",
            "https://www.theguardian.com/world/2015/sep/18/eurozone-greek-prime-minister-maarten-verway-greece-bailout\n",
            "https://www.theguardian.com/world/2015/sep/10/ireland-economy-surges-with-gdp-growth-forecast-at-6\n",
            "https://www.theguardian.com/business/2015/sep/08/strong-eurozone-figures-rally-global-markets-after-china-gloom\n",
            "https://www.theguardian.com/politics/2015/sep/08/governing-should-be-about-democracy-say-economists\n",
            "https://www.theguardian.com/business/2015/sep/06/central-banks-can-dop-nothing-insulate-asia-economic-winter\n",
            "https://www.theguardian.com/business/2015/sep/05/australian-dollar-falls-to-six-year-low-amid-economic-turbulence\n",
            "https://www.theguardian.com/business/2015/sep/04/ecb-magic-money-tree-sculpture-franfurt\n",
            "https://www.theguardian.com/business/nils-pratley-on-finance/2015/sep/03/european-central-bank-gloom-suggests-qe2-horizon\n",
            "https://www.theguardian.com/business/2015/sep/03/mario-draghi-ready-to-prop-up-eurozone-with-more-stimulus\n",
            "https://www.theguardian.com/business/live/2015/sep/03/markets-european-central-bank-mario-draghi-inflation-live\n",
            "https://www.theguardian.com/business/2015/sep/02/imf-china-slowdown-could-keep-global-interest-rates-low\n",
            "https://www.theguardian.com/business/2015/aug/30/pirc-stagecoach-pay-campaign-departs-early\n",
            "https://www.theguardian.com/business/economics-blog/2015/aug/27/financial-markets-are-not-free-theyre-one-of-the-last-bastions-of-socialism\n",
            "https://www.theguardian.com/world/2015/aug/24/greek-election-confusion-raises-fresh-fears-over-ability-to-pay-debts\n",
            "https://www.theguardian.com/business/2015/aug/21/price-cuts-rise-orders-quicken-pace-eurozone-business-growth\n",
            "https://www.theguardian.com/business/2015/aug/20/greece-crisis-timeline-rocky-road-another-bailout\n",
            "https://www.theguardian.com/business/2015/aug/20/greek-bailout-qa-what-happens-next\n",
            "https://www.theguardian.com/business/2015/aug/19/germany-approves-third-greek-bailout-crisis-over-for-a-couple-of-months\n",
            "https://www.theguardian.com/business/2015/aug/17/yanis-varoufakis-bailout-deal-greek-oligarchs-maintain-grip-eu-leaders-greece\n",
            "https://www.theguardian.com/business/2015/aug/16/greece-bailout-deal-angela-merkel-expects-imf-involvement\n",
            "https://www.theguardian.com/world/2015/aug/15/greece-needs-more-debt-relief-imf-lagarde\n",
            "https://www.theguardian.com/business/2015/aug/14/greece-edges-third-bailout-positive-signals-germany\n",
            "https://www.theguardian.com/business/2015/aug/14/alexis-tsipras-greece-bailout-vote-new-election\n",
            "https://www.theguardian.com/world/video/2015/aug/14/greek-parliament-finance-minister-debate-bailout-vote-video\n",
            "https://www.theguardian.com/world/2015/aug/13/greeks-taste-bailout-rules\n",
            "https://www.theguardian.com/business/economics-blog/2015/aug/13/greece-crisis-proves-the-need-for-a-currency-plan-b\n",
            "https://www.theguardian.com/business/2015/aug/13/greece-surprises-with-economic-growth-in-second-quarter\n",
            "https://www.theguardian.com/business/2015/aug/13/greek-rescue-package-expected-to-pass-through-parliament\n",
            "https://www.theguardian.com/world/2015/aug/12/greece-bailout-terms-eurozone-policymaking-powers\n",
            "https://www.theguardian.com/business/2015/aug/12/greek-pm-seeks-bailout-ratification-as-doubts-remain-over-german-support\n",
            "https://www.theguardian.com/world/2015/aug/11/greek-stock-market-surges-government-outline-bailout-deal-creditors\n",
            "https://www.theguardian.com/world/2015/aug/11/greece-and-lenders-agree-new-bailout-deal-says-finance-ministry-official\n",
            "https://www.theguardian.com/world/2015/aug/10/greece-urged-put-quality-before-speed-bailout-negotiations\n",
            "https://www.theguardian.com/business/blog/live/2015/aug/10/greece-closes-in-on-third-bailout-deal-live-updates\n",
            "https://www.theguardian.com/world/2015/aug/10/greece-hopes-conclude-negotiations-creditors-bailout-days\n",
            "https://www.theguardian.com/world/2015/aug/06/greece-tax-revenues-collapse-debt-crisis-continues-euro\n",
            "https://www.theguardian.com/world/2015/aug/05/tsipras-greece-final-stages-bailout-deal-talks\n",
            "https://www.theguardian.com/commentisfree/2015/aug/04/leftwing-eurosceptics-wrong-greece-brexit-eu-syriza\n",
            "https://www.theguardian.com/business/blog/live/2015/aug/03/greece-debt-crisis-athens-stock-exchange-opens-live\n",
            "https://www.theguardian.com/business/2015/aug/03/greece-stock-market-nosedives-reopening\n",
            "https://www.theguardian.com/world/2015/aug/02/greece-athens-stock-market-reopens\n",
            "https://www.theguardian.com/business/2015/jul/31/alexis-tsipras-defends-yanis-varoufakis-secret-grexit-plan\n",
            "https://www.theguardian.com/world/2015/jul/29/imf-negotiator-prepares-to-join-greek-talks-as-deadline-looms\n",
            "https://www.theguardian.com/business/2015/jul/29/delia-velculescu-iron-lady-greek-bailout-negotiation-athens\n",
            "https://www.theguardian.com/business/2015/jul/28/greek-crisis-brussels-rejects-yanis-varoufakist-claims-troika\n",
            "https://www.theguardian.com/business/2015/jul/27/imf-warns-of-gloomy-eurozone-outlook\n",
            "https://www.theguardian.com/world/2015/jul/25/greek-bailout-talks-european-commission-ecb-imf\n",
            "https://www.theguardian.com/world/2015/jul/25/greece-edges-closer-third-bailout-requests-imf-help\n",
            "https://www.theguardian.com/business/2015/jul/24/greek-debt-crisis-talks-stall-hotel-choice\n",
            "https://www.theguardian.com/business/2015/jul/24/greek-debt-crisis-great-greece-fire-sale\n",
            "https://www.theguardian.com/business/2015/jul/23/greece-braces-troika-return-athens\n",
            "https://www.theguardian.com/business/2015/jul/23/greek-debt-crisis-why-greece-deal-will-work\n",
            "https://www.theguardian.com/world/2015/jul/22/greece-ecb-emergency-assistance-ceiling-raised-bailout-vote\n",
            "https://www.theguardian.com/world/2015/jul/21/greeces-international-bailout-mps-forthcoming-vote\n",
            "https://www.theguardian.com/world/2015/jul/20/greece-banks-reopen-reforms-eu-demands-tsipras\n",
            "https://www.theguardian.com/business/2015/jul/20/greece-pays-debt-emergency-loan\n",
            "https://www.theguardian.com/business/2015/jul/20/greek-banks-face-stress-tests-at-the-worst-time\n",
            "https://www.theguardian.com/world/2015/jul/19/margaret-drabble-the-troika-have-acted-like-wonga-in-their-dealings-with-greece\n",
            "https://www.theguardian.com/world/2015/jul/18/greece-debt-crisis-reforms-fail-yanis-varoufakis\n",
            "https://www.theguardian.com/business/2015/jul/17/strong-pound-good-for-holiday-bad-for-homeowner\n",
            "https://www.theguardian.com/business/2015/jul/17/eurozone-ready-start-formal-talks-greece-86bn-bailout\n",
            "https://www.theguardian.com/commentisfree/2015/jul/17/guardian-view-on-euro-crisis-triumph-of-experience-over-hope\n",
            "https://www.theguardian.com/world/2015/jul/17/germanys-parliament-backs-more-greek-bailout-talks\n",
            "https://www.theguardian.com/business/2015/jul/17/imf-steps-up-greek-bailout-criticism-debt-relief-package\n",
            "https://www.theguardian.com/world/2015/jul/16/sales-jewellery-tvs-cars-rise-greece-trust-goods-eurozone-crisis\n",
            "https://www.theguardian.com/business/live/2015/jul/16/greek-debt-crisis-ecb-and-eurogroup-consider-next-steps-after-yes-vote-live\n",
            "https://www.theguardian.com/business/2015/jul/16/greece-debt-crisis-ecb-cash-lifeline-reopen-greek-banks\n",
            "https://www.theguardian.com/politics/2015/jul/16/george-osborne-backs-down-eu-efsm-bailout-fund-greece-crisis\n",
            "https://www.theguardian.com/commentisfree/2015/jul/16/crucifixion-greece-killing-european-project-debt-colony-breakup-eurozone\n",
            "https://www.theguardian.com/business/2015/jul/16/eurozone-scrambles-to-assemble-7bn-bridging-finance-to-keep-greece-afloat\n",
            "https://www.theguardian.com/business/live/2015/jul/15/greek-crisis-mps-bailout-imf-debt-relief-alexis-tsipras-live\n",
            "https://www.theguardian.com/business/video/2015/jul/16/greek-bailout-finance-minister-vote-video\n",
            "https://www.theguardian.com/world/2015/jul/15/greek-debt-crisis-alexis-tsipras-bailout-vote-violent-athens-protests\n",
            "https://www.theguardian.com/world/2015/jul/15/make-break-moment-greece-mps-vote-austerity-proposals\n",
            "https://www.theguardian.com/business/2015/jul/15/imf-greece-future-analysis-bailout\n",
            "https://www.theguardian.com/news/datablog/2015/jul/15/the-imf-position-on-greece-explained\n",
            "https://www.theguardian.com/world/2015/jul/15/alexis-tsipras-bailout-greece-debt-crisis\n",
            "https://www.theguardian.com/business/live/2015/jul/14/greek-crisis-tsipras-political-backlash-bailout-osborne-uk-live\n",
            "https://www.theguardian.com/business/nils-pratley-on-finance/2015/jul/14/why-the-imf-should-not-aid-a-greek-bailout\n",
            "https://www.theguardian.com/business/2015/jul/14/osborne-resists-use-of-uk-backed-eu-fund-for-greek-emergency-loan\n",
            "https://www.theguardian.com/world/2015/jul/14/athens-parliament-where-do-mps-stand-over-the-greek-bailout-deal\n",
            "https://www.theguardian.com/business/2015/jul/14/finland-stand-in-way-greece-bailout-deal-finns-party\n",
            "https://www.theguardian.com/world/2015/jul/14/greece-crisis-osborne-seeks-to-block-use-of-british-backed-fund-in-bailout\n",
            "https://www.theguardian.com/business/2015/jul/14/alexis-tsipras-in-government-dilemma-over-greek-bailout-deal\n",
            "https://www.theguardian.com/business/2015/jul/14/greece-europe-germany-eurozone-deserve-better\n",
            "https://www.theguardian.com/business/live/2015/jul/13/greek-crisis-tsipras-battle-bailout-deal-backlash-live\n",
            "https://www.theguardian.com/world/2015/jul/13/alexis-tsipras-eurozone-bailout-plan-greek-parliament\n",
            "https://www.theguardian.com/business/2015/jul/13/measured-sobre-and-sceptical-germany-reacts-to-greece-deal\n",
            "https://www.theguardian.com/world/2015/jul/13/greece-bailout-eurozone-democracy-is-loser\n",
            "https://www.theguardian.com/business/2015/jul/13/greece-bailout-agreement-deal-what-europe-media-newspapers-say\n",
            "https://www.theguardian.com/business/nils-pratley-on-finance/2015/jul/13/greece-eu-tall-orders-agreement-desparation\n",
            "https://www.theguardian.com/business/2015/jul/13/athens-and-eurozone-agree-bailout-deal-for-greece\n",
            "https://www.theguardian.com/business/2015/jul/13/greece-bailout-agreement-key-points-grexit\n",
            "https://www.theguardian.com/world/2015/jul/13/europe-greece-pushed-into-further-peril\n",
            "https://www.theguardian.com/business/2015/jul/13/greek-bailout-what-happens-next\n",
            "https://www.theguardian.com/business/2015/jul/13/greece-debt-agreement-eurozone-summit-statement\n",
            "https://www.theguardian.com/business/2015/jul/13/greece-crisis-talks-saved-euro-broke-eu\n",
            "https://www.theguardian.com/news/reality-check/2015/jul/13/greece-crisis-what-are-the-effects-of-sleep-deprivation-on-decision-making\n",
            "https://www.theguardian.com/world/2015/jul/13/greek-debt-crisis-tsipras-resists-key-bailout-measures-after-15-hours-of-talks\n",
            "https://www.theguardian.com/world/2015/jul/12/alexis-tsipras-pledged-to-end-austerity-now-he-is-asked-to-sign-up-for-more\n",
            "https://www.theguardian.com/business/2015/jul/12/trouble-brewing-german-plan-grexit-doorstep-rift-france-greece-eu-euro\n",
            "https://www.theguardian.com/business/2015/jul/12/greek-crisis-surrender-fiscal-sovereignty-in-return-for-bailout-merkel-tells-tsipras\n",
            "https://www.theguardian.com/business/2015/jul/12/greek-crisis-european-leaders-begin-talks-with-views-split-over-agreement\n",
            "https://www.theguardian.com/business/2015/jul/12/treasury-select-committee-question-carney-greek-crisis-interest-rates\n",
            "https://www.theguardian.com/business/2015/jul/12/eu-leaders-greece-summit-cancelled-eurozone-talks-grind-on\n",
            "https://www.theguardian.com/business/2015/jul/12/finlands-parliament-in-favour-of-forcing-greece-out-of-the-euro-says-report\n",
            "https://www.theguardian.com/business/live/2015/jul/11/greek-debt-crisis-eurozone-creditors-meet-to-decide-countrys-fate\n",
            "https://www.theguardian.com/world/2015/jul/10/greeks-facing-day-of-judgment-in-struggle-to-stay-in-eurozone\n",
            "https://www.theguardian.com/world/2015/jul/10/divisions-in-merkels-coalition-over-proposals-for-greek-economic-reform\n",
            "https://www.theguardian.com/business/2015/jul/10/eurozone-crisis-greek-austerity-plans-response\n",
            "https://www.theguardian.com/business/2015/jul/10/tsipras-greek-economy-sabre-purpose\n",
            "https://www.theguardian.com/world/economics-blog/2015/jul/10/ireland-no-model-greece-troika-austerity\n",
            "https://www.theguardian.com/world/2015/jul/10/greece-euro-drama-geopolitical-concerns-europe-eu\n",
            "https://www.theguardian.com/world/2015/jul/10/greek-parliament-to-vote-on-new-cuts-for-cash-plan-to-break-deadlock\n",
            "https://www.theguardian.com/world/2015/jul/10/greeces-proposals-to-help-end-talks-deadlock\n",
            "https://www.theguardian.com/business/2015/jul/09/greece-debt-crisis-athens-accepts-harsh-austerity-as-bailout-deal-nears\n",
            "https://www.theguardian.com/world/2015/jul/09/poorer-than-greece-the-eu-countries-that-reject-a-new-athens-bailout\n",
            "https://www.theguardian.com/news/reality-check/2015/jul/08/is-britains-debt-really-like-greeces\n",
            "https://www.theguardian.com/world/2015/jul/08/can-greece-really-make-a-drachma-as-a-way-out-of-this-crisis\n",
            "https://www.theguardian.com/world/2015/jul/08/greece-crisis-tsipras-under-pressure-to-submit-reform-blueprint-to-creditors\n",
            "https://www.theguardian.com/business/2015/jul/08/greek-crisis-alexis-tsipras-confident-meeting-bailout-deadline\n",
            "https://www.theguardian.com/world/live/2015/jul/07/greek-debt-crisis-alex-tsipras-seeks-last-chance-deal-live\n",
            "https://www.theguardian.com/world/2015/jul/07/greece-crisis-eurozone-tsipras-banking-collapse\n",
            "https://www.theguardian.com/commentisfree/picture/2015/jul/07/steve-bell-on-the-greek-referendum-reaction-cartoon\n",
            "https://www.theguardian.com/commentisfree/2015/jul/07/greece-financial-elite-democracy-liassez-faire-neoliberalism\n",
            "https://www.theguardian.com/business/2015/jul/07/greeces-lenders-who-has-the-most-to-lose\n",
            "https://www.theguardian.com/business/2015/jul/07/eurozone-calls-on-athens-to-get-serious-over-greece-debt-crisis\n",
            "https://www.theguardian.com/commentisfree/picture/2015/jul/06/steve-bell-on-greeces-eurozone-relationship-cartoon\n",
            "https://www.theguardian.com/world/live/2015/jul/06/greek-referendum-eu-leaders-call-crisis-meeting-as-bailout-rejected-live-updates\n",
            "https://www.theguardian.com/world/2015/jul/06/greek-citizens-eurozone-crisis-war-without-weapons\n",
            "https://www.theguardian.com/business/2015/jul/06/eurozone-struggles-joint-response-greek-referendum\n",
            "https://www.theguardian.com/world/video/2015/jul/06/greek-banks-stay-closed-for-two-further-days-louka-katseli-video\n",
            "https://www.theguardian.com/world/2015/jul/06/spain-politicians-euro-crisis-greece-podemos\n",
            "https://www.theguardian.com/world/2015/jul/06/return-drachma-greece-print-own-euros\n",
            "https://www.theguardian.com/world/2015/jul/06/no-10-greece-stay-eu-eurozone-future-rederendum\n",
            "https://www.theguardian.com/commentisfree/video/2015/jul/06/greece-referendum-europe-video-analysis\n",
            "https://www.theguardian.com/business/2015/jul/06/germany-1953-greece-2015-economic-marshall-plan-debt-relief\n",
            "https://www.theguardian.com/business/2015/jul/06/greek-referendum-optimism-fades-eurozone-yanis-varoufakis\n",
            "https://www.theguardian.com/business/2015/jul/06/greek-referendum-what-happens-now-after-the-no-vote\n",
            "https://www.theguardian.com/commentisfree/2015/jul/06/greek-referendum-why-yes-campaign-failed\n",
            "https://www.theguardian.com/world/2015/jul/06/greek-crisis-financial-markets-buffeted-in-early-trading-after-no-vote\n",
            "https://www.theguardian.com/world/2015/jul/06/greek-finance-minister-yanis-varoufakis-resigns-despite-referendum-no-vote\n",
            "https://www.theguardian.com/business/live/2015/jul/05/greeces-eurozone-future-in-the-balance-as-referendum-gets-under-way--eu-euro-bailout-live\n",
            "https://www.theguardian.com/business/2015/jul/06/greek-referendum-wild-markets-banking-crisis\n",
            "https://www.theguardian.com/world/2015/jul/05/greek-referendum-greece-stands-defiant-no-vote-austerity\n",
            "https://www.theguardian.com/business/2015/jul/05/greek-referendum-no-vote-signals-huge-challenge-to-eurozone-leaders\n",
            "https://www.theguardian.com/business/2015/jul/05/greek-referendum-result-who-does-what-next\n",
            "https://www.theguardian.com/business/2015/jul/05/greece-referendum-vote-edges-towards-euro-exit\n",
            "https://www.theguardian.com/business/2015/jul/05/greece-referendum-early-results-historic-no-vote-against-austerity\n",
            "https://www.theguardian.com/world/2015/jul/05/greeks-begin-voting-in-referendum-as-the-euro-faces-its-biggest-challenge\n",
            "https://www.theguardian.com/commentisfree/2015/jul/05/greece-let-down-by-partners-and-leaders\n",
            "https://www.theguardian.com/commentisfree/2015/jul/05/greek-referendum-catastrophe-versus-absolute-catastrophe\n",
            "https://www.theguardian.com/business/blog/live/2015/jul/04/greek-debt-crisis-countdown-to-polling-day-live\n",
            "https://www.theguardian.com/world/2015/jul/04/greek-debt-relief-was-not-on-table-during-bailout-negotiations-says-eu-official\n",
            "https://www.theguardian.com/business/2015/jul/04/greece-crisis-varoufakis-accuses-creditors-terrorism-referendum\n",
            "https://www.theguardian.com/business/live/2015/jul/03/greek-debt-crisis-council-of-state-to-rule-on-referendum-live\n",
            "https://www.theguardian.com/world/2015/jul/03/greece-economy-collapse-close-food-medicine-shortage\n",
            "https://www.theguardian.com/world/2015/jul/03/greek-referendum-what-the-experts-say\n",
            "https://www.theguardian.com/world/2015/jul/03/greece-overspending-defence-wages-taxation-economic-crisis\n",
            "https://www.theguardian.com/commentisfree/2015/jul/03/guardian-view-on-greek-referendum-dismal-choice\n",
            "https://www.theguardian.com/world/2015/jul/03/greece-referendum-highest-court-rule-legality\n",
            "https://www.theguardian.com/business/live/2015/jul/02/greek-debt-crisis-athens-creditors-referendum-yes-no-live\n",
            "https://www.theguardian.com/world/2015/jul/02/former-greece-pms-throw-support-behind-yes-vote-ahead-of-referendum\n",
            "https://www.theguardian.com/business/nils-pratley-on-finance/2015/jul/02/imfs-late-confession-is-a-double-edged-blessing-for-alexis-tsipras\n",
            "https://www.theguardian.com/business/2015/jul/02/imf-greece-needs-extra-50bn-euros\n",
            "https://www.theguardian.com/business/2015/jul/02/yanis-varoufakis-id-rather-cut-off-my-arm-than-accept-yes-vote\n",
            "https://www.theguardian.com/business/2015/jul/02/imf-tells-greece-no-debt-relief-before-reforms\n",
            "https://www.theguardian.com/business/2015/jul/02/greece-standoff-keeps-asian-markets-off-balance-but-us-dollar-gains\n",
            "https://www.theguardian.com/commentisfree/2015/jul/01/syriza-cave-in-elites-regime-change\n",
            "https://www.theguardian.com/business/live/2015/jul/01/greek-debt-crisis-creditors-consider-next-moves-after-imf-default-live\n",
            "https://www.theguardian.com/world/2015/jul/01/how-long-can-greece-survive-without-support-from-its-creditors\n",
            "https://www.theguardian.com/business/2015/jul/01/greece-crisis-berlin-blasts-tsipras-scapegoats-germany\n",
            "https://www.theguardian.com/world/2015/jul/01/greece-bank-closures-business-tourism\n",
            "https://www.theguardian.com/world/2015/jul/01/decisions-shape-greece-frankfurt-ecb\n",
            "https://www.theguardian.com/world/2015/jul/01/greek-pensioners-queue-at-dawn-as-banks-allow-them-to-withdraw-120\n",
            "https://www.theguardian.com/technology/2015/jul/01/greek-government-twitter-tsipras-varoufakis-eurozone-crisis-greece-social-media\n",
            "https://www.theguardian.com/world/gallery/2015/jul/01/greece-debt-crisis-pensioners-swamp-greek-banks\n",
            "https://www.theguardian.com/world/ng-interactive/2015/jun/24/greek-debt-crisis-negotiations-interactive\n",
            "https://www.theguardian.com/business/2015/jul/01/greece-poses-risk-to-uk-financial-system-bank-of-england-eurozone-crisis\n",
            "https://www.theguardian.com/business/2015/jul/01/greece-awaits-ecb-decision-on-emergency-aid\n",
            "https://www.theguardian.com/business/live/2015/jun/30/greek-debt-crisis-day-of-decision-for-tsipras\n",
            "https://www.theguardian.com/world/2015/jun/30/eurozone-emergency-greece-without-financial-lifeline\n",
            "https://www.theguardian.com/world/2015/jun/30/greece-brink-financial-collapse-imf-deadline-hours-away\n",
            "https://www.theguardian.com/world/2015/jun/30/were-not-traitors-insist-greeks-yes-campaigners\n",
            "https://www.theguardian.com/business/2015/jun/30/greece-debt-crisis-default-analysis-imf\n",
            "https://www.theguardian.com/business/2015/jun/30/greece-miss-crucial-debt-repayment\n",
            "https://www.theguardian.com/world/2015/jun/30/what-next-five-key-decisions-that-will-decide-greeces-fate\n",
            "https://www.theguardian.com/business/live/2015/jun/29/greek-crisis-stock-markets-slide-capital-controls-banks-closed-live\n",
            "https://www.theguardian.com/business/2015/jun/29/greek-crisis-referendum-eurozone-vote-germany-france-italy\n",
            "https://www.theguardian.com/world/2015/jun/29/where-did-the-greek-bailout-money-go\n",
            "https://www.theguardian.com/world/2015/jun/29/its-a-question-of-dignity-syriza-rally-demands-end-to-economic-asphyxia\n",
            "https://www.theguardian.com/commentisfree/picture/2015/jun/29/steve-bell-greece-eu-standoff-cartoon\n",
            "https://www.theguardian.com/world/2015/jun/29/greece-fiercely-divided-as-referendum-campaign-gets-under-way\n",
            "https://www.theguardian.com/commentisfree/2015/jun/29/referendum-greeks-europe-capitalism-greece-eurozone-economic-system\n",
            "https://www.theguardian.com/business/2015/jun/29/greece-crisis-timeline-the-weekend-that-rocked-the-eurozone\n",
            "https://www.theguardian.com/business/2015/jun/29/polarising-effects-of-greece-bank-closures-hits-businesses\n",
            "https://www.theguardian.com/business/2015/jun/29/italy-will-not-follow-greek-downturn-promises-finance-minister\n",
            "https://www.theguardian.com/world/2015/jun/29/alexis-tsipras-must-be-stopped-the-underlying-message-of-europes-leaders\n",
            "https://www.theguardian.com/business/2015/jun/29/stock-markets-dive-as-deepening-greece-crisis-shakes-euro\n",
            "https://www.theguardian.com/politics/2015/jun/29/back-european-conference-to-cancel-greek-debt-jeremy-corbyn-tells-pm\n",
            "https://www.theguardian.com/business/2015/jun/29/greece-crisis-eurozone-exit-possibility-market-reaction-analysis\n",
            "https://www.theguardian.com/money/2015/jun/29/greek-financial-crisis-holiday-plans-holidaymakers-difficulties\n",
            "https://www.theguardian.com/world/video/2015/jun/29/greek-banks-shut-alexis-tsipras-eurozone-video\n",
            "https://www.theguardian.com/world/2015/jun/28/greece-crisis-deepens-banks-close-a-week-weekend-shook-euro\n",
            "https://www.theguardian.com/world/2015/jun/29/greek-debt-crisis-key-points-athens-bank-controls\n",
            "https://www.theguardian.com/commentisfree/picture/2015/jun/29/martin-rowson-on-the-greek-financial-crisis-cartoon\n",
            "https://www.theguardian.com/business/live/2015/jun/28/greek-crisis-ecb-emergency-liquidity-referendum-bailout-live\n",
            "https://www.theguardian.com/world/2015/jun/28/athens-atm-queues-lengthen-week-long-bank-closures\n",
            "https://www.theguardian.com/world/2015/jun/28/the-guardian-view-on-greece-and-the-euro-no-money-left\n",
            "https://www.theguardian.com/world/2015/jun/28/greek-crisis-brings-eurozone-to-a-crossroads\n",
            "https://www.theguardian.com/world/2015/jun/28/the-greeks-for-whom-all-the-talk-means-nothing-because-they-have-nothing\n",
            "https://www.theguardian.com/business/2015/jun/28/greece-crisis-eurozone-sarajevo-moment\n",
            "https://www.theguardian.com/world/2015/jun/28/tourists-greece-warned-foreign-office-banking-services-limited\n",
            "https://www.theguardian.com/business/2015/jun/28/greek-crisis-ecb-decide-emergency-funding\n",
            "https://www.theguardian.com/business/2015/jun/28/greece-crisis-disaster-athens-collosal-failure-eu\n",
            "https://www.theguardian.com/world/2015/jun/28/greek-crisis-referendum-call-political-uncertainty-capital-fears\n",
            "https://www.theguardian.com/world/2015/jun/28/greek-crisis-what-will-happen-next-referendum\n",
            "https://www.theguardian.com/business/live/2015/jun/27/greek-crisis-mps-referendum-tsipras-eurogroup-ministers-live\n",
            "https://www.theguardian.com/commentisfree/2015/jun/27/greek-bailout-extension-refused-panel-leading-economists-give-their-verdict\n",
            "https://www.theguardian.com/world/2015/jun/27/eu-ministers-refuse-bailout-extension-greece-referendum\n",
            "https://www.theguardian.com/news/datablog/2015/jun/27/greece-dominates-at-least-87-meetings-european-ministers-since-2010\n",
            "https://www.theguardian.com/world/2015/jun/27/greece-referendum-eurozone-bailout-tsipras-brussels\n",
            "https://www.theguardian.com/world/2015/jun/26/greece-calls-referendum-on-bailout-terms-offered-by-creditors\n",
            "https://www.theguardian.com/business/blog/live/2015/jun/26/greece-crisis-markets-to-open-lower-ahead-of-weekend-talks-live\n",
            "https://www.theguardian.com/world/2015/jun/26/greeks-mistrust-eu-ec-ecb-but-retain-some-faith-in-the-euro\n",
            "https://www.theguardian.com/business/2015/jun/26/creditors-ringfence-greece-economy-alexis-tsipras\n",
            "https://www.theguardian.com/business/2015/jun/26/greece-crisis-merkel-eurogroup-saturday-talks-decisive-deadline\n",
            "https://www.theguardian.com/politics/2015/jun/26/cameron-told-eu-leader-greek-exit-from-euro-may-be-best-option\n",
            "https://www.theguardian.com/business/2015/jun/26/the-eurogroup-meeting-the-key-weekend-for-greece\n",
            "https://www.theguardian.com/business/live/2015/jun/25/greek-crisis-bailout-talks-resume-eurogroup-summit-live\n",
            "https://www.theguardian.com/business/2015/jun/25/weekend-deadline-greece-after-negotiations-draw-blank\n",
            "https://www.theguardian.com/business/2015/jun/24/greece-fortnight-crisis-timeline\n",
            "https://www.theguardian.com/business/2015/jun/25/greece-bailout-crisis-last-minute-search-deal\n",
            "https://www.theguardian.com/business/2015/jun/25/greek-crisis-20-key-moments-eurozone\n",
            "https://www.theguardian.com/business/live/2015/jun/24/greek-crisis-eurogroup-meeting-tsipras-backlash-live\n",
            "https://www.theguardian.com/world/2015/jun/24/greece-debt-crisis-talks-renewed-deadlock\n",
            "https://www.theguardian.com/world/2015/jun/24/greece-debt-crisis-syriza-tsipras-leap-of-faith\n",
            "https://www.theguardian.com/business/picture/2015/jun/24/kipper-williams-on-the-greek-debt-talks\n",
            "https://www.theguardian.com/business/2015/jun/24/alexis-tsipras-homework-thrown-back-in-face-greece\n",
            "https://www.theguardian.com/business/live/2015/jun/23/greek-crisis-athens-creditors-deal-imf-ecb-banks-live\n",
            "https://www.theguardian.com/commentisfree/2015/jun/23/deal-heaps-more-misery-greeks\n",
            "https://www.theguardian.com/world/2015/jun/23/why-has-greece-only-now-included-defence-cuts-in-its-brussels-proposals\n",
            "https://www.theguardian.com/business/2015/jun/23/greek-crisis-bailout-deal-eurozone-crucial-optimism-rises\n",
            "https://www.theguardian.com/world/2015/jun/23/creditors-economic-plan-for-greece-is-illiterate-and-doomed-to-fail\n",
            "https://www.theguardian.com/world/2015/jun/23/the-greek-debt-crisis-digested-read\n",
            "https://www.theguardian.com/business/2015/jun/22/greece-day-of-destiny-farce-phantom-eurozone-summit\n",
            "https://www.theguardian.com/business/2015/jun/22/hopes-greece-bailout-deal-rise-sharply\n",
            "https://www.theguardian.com/commentisfree/picture/2015/jun/22/steve-bell-on-the-eu-and-the-greek-debt-crisis-cartoon\n",
            "https://www.theguardian.com/business/2015/jun/22/greece-deal-red-lines-blur-and-bend\n",
            "https://www.theguardian.com/business/2015/jun/22/greece-bailout-tax-collection-rates\n",
            "https://www.theguardian.com/world/2015/jun/22/greek-debt-crisis-tsipras-offer-is-welcomed-as-good-basis-for-progress\n",
            "https://www.theguardian.com/world/2015/jun/21/greece-crisis-creditors-aim-deal-six-month-rescue-extension\n",
            "https://www.theguardian.com/world/2015/jun/21/greeks-pension-cuts-eurozone-deadline-looms\n",
            "https://www.theguardian.com/world/2015/jun/21/greece-is-beset-by-europe-ideological-loan-sharks\n",
            "https://www.theguardian.com/world/2015/jun/21/tsipras-of-athens-drama-entering-gripping-final-act\n",
            "https://www.theguardian.com/world/2015/jun/21/greece-and-eurozone-leaders-in-last-ditch-scramble-to-reach-deal\n",
            "https://www.theguardian.com/world/2015/jun/21/greek-eurozone-crisis-financial-future\n",
            "https://www.theguardian.com/world/2015/jun/20/greece-will-go-to-creditors--fresh-proposal-flabouraris-minister-of-state-bailout-end-deadlock\n",
            "https://www.theguardian.com/commentisfree/picture/2015/jun/19/martin-rowson-on-greek-debt-crisis-cartoon\n",
            "https://www.theguardian.com/world/2015/jun/19/ecb-greek-banking-system-emergency-funding-greece-creditors-monday-meetings\n",
            "https://www.theguardian.com/world/video/2015/jun/19/european-council-president-donald-tusk-calls-end-game-chicken-greece-video\n",
            "https://www.theguardian.com/world/2015/jun/19/greek-crisis-standoff-five-outcomes-greece-creditors\n",
            "https://www.theguardian.com/business/live/2015/jun/19/greek-crisis-emergency-meetings-tsipras-banks-ecb-live-updates\n",
            "https://www.theguardian.com/world/2015/jun/19/tourists-in-greece-everybody-should-come-and-spend-money-here\n",
            "https://www.theguardian.com/world/2015/jun/19/tsipras-greece-europe-eurozone-crisis-banks-debts-euro-imf-ecb-germany-austerity\n",
            "https://www.theguardian.com/business/2015/jun/19/greek-crisis-ecb-meeting-to-decide-on-emergency-funding\n",
            "https://www.theguardian.com/world/2015/jun/19/greek-prime-minister-vladimir-putin-help-financial-crisis\n",
            "https://www.theguardian.com/business/live/2015/jun/18/greek-crisis-eurozone-finance-ministers-merkel-live\n",
            "https://www.theguardian.com/world/2015/jun/18/greece-faces-banking-crisis-after-eurozone-meeting-breaks-down\n",
            "https://www.theguardian.com/world/2015/jun/18/euclid-tsakalotos-greeces-secret-weapon-in-credit-negotiations\n",
            "https://www.theguardian.com/business/nils-pratley-on-finance/2015/jun/18/would-an-argentina-style-cure-work-for-greece-probably-not\n",
            "https://www.theguardian.com/business/2015/jun/18/questions-greek-debt-talks-grexit-eurozone\n",
            "https://www.theguardian.com/world/2015/jun/18/greece-eurozone-finance-ministers-talks-austerity-protests-athens\n",
            "https://www.theguardian.com/commentisfree/picture/2015/jun/17/britain-greece-debt-crisis-eurozone-cartoon\n",
            "https://www.theguardian.com/business/live/2015/jun/17/greek-crisis-austria-default-ecb-banks-live\n",
            "https://www.theguardian.com/world/2015/jun/17/greece-says-bailout-deal-is-up-to-troika-amid-speculation-over-exit-from-eu\n",
            "https://www.theguardian.com/commentisfree/2015/jun/17/guardian-view-euro-crisis-greek-exit-would-be-europes-tragedy\n",
            "https://www.theguardian.com/world/2015/jun/17/greece-burden-debt-imf-european-neighbours-too-much\n",
            "https://www.theguardian.com/world/2015/jun/17/greek-central-bank-governor-warns-of-uncontrollable-crisis\n",
            "https://www.theguardian.com/world/ng-interactive/2015/jun/17/greek-debt-crisis-what-happens-next\n",
            "https://www.theguardian.com/world/2015/jun/17/uk-starts-planning-for-serious-economic-risks-of-greek-exit-from-euro\n",
            "https://www.theguardian.com/business/2015/jun/16/greek-exit-prospect-eurozone-athens-tsipras-eu-imf\n",
            "https://www.theguardian.com/world/2015/jun/16/greece-eurozone-exit-athens-imf\n",
            "https://www.theguardian.com/world/2015/jun/16/tsipras-does-want-a-deal-as-the-alternative-is-unthinkable\n",
            "https://www.theguardian.com/business/2015/jun/16/angela-merkel-stands-firm-finding-resolution-greece-crisis\n",
            "https://www.theguardian.com/world/2015/jun/16/eurozone-greek-exit-athens-imf-grexit-tsipras\n",
            "https://www.theguardian.com/business/2015/jun/16/greek-crisis-europe-has-nothing-to-fear-from-syrizas-belligerence\n",
            "https://www.theguardian.com/business/live/2015/jun/15/greek-default-fears-markets-talks-draghi-live\n",
            "https://www.theguardian.com/world/2015/jun/15/greece-eurozone-existential-crisis\n",
            "https://www.theguardian.com/business/2015/jun/15/greek-talks-european-central-bank-mario-draghi-athens-creditors\n",
            "https://www.theguardian.com/business/2015/jun/15/greek-debt-default-looks-more-likely-by-the-day\n",
            "https://www.theguardian.com/business/2015/jun/15/greece-eurozone-week-finance-eu-athens\n",
            "https://www.theguardian.com/business/2015/jun/15/unsustainable-futures-greece-pensions-dilemma-explained-financial-crisis-default-eurozone\n",
            "https://www.theguardian.com/business/2015/jun/15/markets-slide-as-greece-demands-end-to-creditor-looting\n",
            "https://www.theguardian.com/business/2015/jun/14/greece-nearing-compromise-deal-on-eu-debts-says-alexis-tsipras\n",
            "https://www.theguardian.com/world/2015/jun/13/endgame-looms-for-greece-crisis\n",
            "https://www.theguardian.com/world/2015/jun/13/fears-of-greece-eurozone-exit-mount-as-eu-deadline-looms\n",
            "https://www.theguardian.com/business/blog/live/2015/jun/12/greek-minister-sees-deal-soon-despite-imf-pullout-business-live\n",
            "https://www.theguardian.com/business/2015/jun/11/imf-holding-gun-alexis-tsipras-head-greece-credit-talks\n",
            "https://www.theguardian.com/business/2015/jun/11/imf-walks-out-of-greece-bailout-talks\n",
            "https://www.theguardian.com/commentisfree/2015/jun/10/europe-nationalist-right-greece-cameron-referendum-eu\n",
            "https://www.theguardian.com/commentisfree/2015/jun/10/russels-bail-out-jobless-european-union-unemployment\n",
            "https://www.theguardian.com/business/2015/jun/10/greece-bailout-talks-markets-surge-on-rumours-of-german-compromise\n",
            "https://www.theguardian.com/business/2015/jun/09/greece-bailout-talks-the-main-actors-in-a-modern-day-epic\n",
            "https://www.theguardian.com/business/live/2015/jun/09/greek-pm-grexit-warning-bailout-extension-live-updates\n",
            "https://www.theguardian.com/business/2015/jun/09/time-end-pretence-greece-never-repay-bailout-loans\n",
            "https://www.theguardian.com/business/2015/jun/09/greek-exit-would-trigger-eurozone-collapse-says-alexis-tsipras\n",
            "https://www.theguardian.com/world/2015/jun/08/obama-urges-greeks-to-make-tough-political-choices-to-resolve-debt-crisis\n",
            "https://www.theguardian.com/world/2015/jun/08/bilderberg-summit-forget-the-g7\n",
            "https://www.theguardian.com/world/2015/jun/07/juncker-fury-greek-bailout-talks-g7-summit-russia-sanctions\n",
            "https://www.theguardian.com/business/2015/jun/07/scrap-g7-summit-hopeless-divided-outdated\n",
            "https://www.theguardian.com/business/2015/jun/05/greeces-creditors-need-a-dose-of-reality-this-is-no-time-for-european-disunion\n",
            "https://www.theguardian.com/business/2015/jun/05/greece-determined-to-stay-in-eurozone-economy-minister-george-stathakis\n",
            "https://www.theguardian.com/business/live/2015/jun/04/greek-bailout-talks-tsipras-creditors-offer-live-updates\n",
            "https://www.theguardian.com/world/2015/jun/04/greeces-imf-repayment-delay-smacks-of-both-desperation-and-defiance\n",
            "https://www.theguardian.com/business/live/2015/jun/03/greek-creditors-bailout-terms-tsipras-ecb-draghi-live\n",
            "https://www.theguardian.com/business/2015/jun/03/german-and-french-ministers-call-for-radical-integration-of-eurozone\n",
            "https://www.theguardian.com/business/nils-pratley-on-finance/2015/jun/03/one-way-or-another-a-greek-debt-write-down-will-happen\n",
            "https://www.theguardian.com/world/2015/jun/02/greece-ecb-imf-rush-finalise-last-minute-debt-offer\n",
            "https://www.theguardian.com/business/2015/jun/02/greek-debt-talks-bailout-imf-merkel-g7-summit\n",
            "https://www.theguardian.com/business/live/2015/jun/02/greek-bailout-breakthrough-eurozone-emergency-summit-creditors-live\n",
            "https://www.theguardian.com/business/2015/jun/02/greece-bailout-talks-three-possible-outcomes\n",
            "https://www.theguardian.com/business/2015/jun/02/ecb-eurozone-prices-positive-may\n",
            "https://www.theguardian.com/business/2015/jun/01/draghi-and-lagarde-head-to-berlin-for-talks-on-greek-debt\n",
            "https://www.theguardian.com/business/live/2015/jun/01/greece-crunch-month-bailout-creditors-manufacturing-pmi-live\n",
            "https://www.theguardian.com/business/2015/jun/01/greece-debt-default-elections-goldman-sachs-imf\n",
            "https://www.theguardian.com/business/2015/jun/01/the-liquidity-timebomb-fiscal-policies-have-created-a-dangerous-paradox\n",
            "https://www.theguardian.com/business/2015/may/31/greece-alexis-tsipras-lambasts-absurd-proposals-creditors-for-debt-deal-failure\n",
            "https://www.theguardian.com/business/live/2015/may/29/greek-bailout-markets-lagarde-us-economy-live\n",
            "https://www.theguardian.com/business/2015/may/29/stock-markets-unsettled-greek-debt-deal-uncertainty-cash-exodus\n",
            "https://www.theguardian.com/world/2015/may/28/greece-economy-bankruptcy-high-level-political-trade-needed\n",
            "https://www.theguardian.com/us-news/2015/may/27/us-urge-greece-to-end-brinkmanship-creditors-g7-meeting\n",
            "https://www.theguardian.com/business/live/2015/may/27/greek-bailout-talks-resume-brussels-imf-live\n",
            "https://www.theguardian.com/business/2015/may/26/grexit-bookmakers-put-smart-money-on-an-unwise-move\n",
            "https://www.theguardian.com/business/2015/may/26/greece-imf-combined-repayment-bailout-talks-eu\n",
            "https://www.theguardian.com/business/2015/may/25/greek-pm-emergency-meeting-bailout-negotiation-team-tsipras-imf\n",
            "https://www.theguardian.com/world/2015/may/24/greece-warns-it-is-set-to-default-on-debt-repayment-loans\n",
            "https://www.theguardian.com/world/2015/may/24/greek-minister-athens-cannot-make-imf-debt-repayments\n",
            "https://www.theguardian.com/business/live/2015/may/22/greece-bailout-reform-deal-riga-summit-live\n",
            "https://www.theguardian.com/business/live/2015/may/20/greece-june-repayment-ecb-support-live-updates\n",
            "https://www.theguardian.com/business/2015/may/20/euro-under-pressure-dollar-greece-imf-debt-repayment\n",
            "https://www.theguardian.com/business/live/2015/may/19/uk-inflation-greek-bailout-talks-yanis-varoufakis-live-updates\n",
            "https://www.theguardian.com/world/2015/may/18/alexis-tsipras-claims-greece-close-deal-brussels-imf\n",
            "https://www.theguardian.com/business/live/2015/may/18/greece-finances-default-fears-markets-live\n",
            "https://www.theguardian.com/business/2015/may/18/greece-crisis-eu-siege-mentality-squeeze-athens\n",
            "https://www.theguardian.com/business/2015/may/15/greece-pays-public-sector-wages-economic-crisis\n",
            "https://www.theguardian.com/business/2015/may/14/yanis-varoufakis-refuses-bailout-plan-send-greece-into-death-spiral\n",
            "https://www.theguardian.com/business/2015/may/13/growth-eurozone-economies-france-greece-figures\n",
            "https://www.theguardian.com/business/2015/may/12/global-markets-rattled-greece-debts-osborne-eu\n",
            "https://www.theguardian.com/business/live/2015/may/12/greek-liquidity-bailout-european-finance-ministers-osborne-live-updates\n",
            "https://www.theguardian.com/business/live/2015/may/11/eurozone-finance-ministers-meeting-greece-deadline-live\n",
            "https://www.theguardian.com/business/nils-pratley-on-finance/2015/may/11/greece-make-or-break-talks-interesting-sub-plot-emerges-\n",
            "https://www.theguardian.com/business/2015/may/11/greece-repays-750m-loan-instalment-to-imf-early\n",
            "https://www.theguardian.com/business/2015/may/10/eurozone-pins-hope-on-long-awaited-economic-rebound\n",
            "https://www.theguardian.com/business/2015/may/10/no-solution-in-sight-for-greek-crisis-as-tsipras-weighs-impossible-dilemma\n",
            "https://www.theguardian.com/world/2015/may/10/greece-debt-repayment-uncertain-amid-fresh-round-of-talks\n",
            "https://www.theguardian.com/world/2015/may/10/greece-alexis-tsipras-syriza-revolt-debt-showdown\n",
            "https://www.theguardian.com/business/2015/may/08/tsipras-happy-ending-greece-crisis-talks-payment-to-imf-nears\n",
            "https://www.theguardian.com/business/2015/may/07/city-investors-brace-hung-parliament-share-price-falls\n",
            "https://www.theguardian.com/world/2015/may/07/greece-signals-growing-optimism-over-bailout-deal\n",
            "https://www.theguardian.com/business/live/2015/may/07/shares-bond-yields-rise-eurozone-greece-bailout-live\n",
            "https://www.theguardian.com/commentisfree/2015/may/06/guardian-view-greece-dangerous-brinkmanship\n",
            "https://www.theguardian.com/world/2015/may/06/greek-debt-default-avoided-after-200m-payment-to-imf\n",
            "https://www.theguardian.com/business/live/2015/may/06/greece-imf-repayment-bailout-deadlock-eurozone-economy-live\n",
            "https://www.theguardian.com/business/live/2015/may/05/greek-ministers-varoufakis-sapin-draghi-eurozone-growth-live\n",
            "https://www.theguardian.com/business/2015/may/04/eurozone-enjoys-production-boost-but-greece-and-france-dip\n",
            "https://www.theguardian.com/business/2015/may/01/varoufakis-greece-bailout-eastern-europe-latvia-reform\n",
            "https://www.theguardian.com/business/2015/apr/30/eurozone-recovery-hopes-boosted-as-spain-announces-gdp-rise\n",
            "https://www.theguardian.com/business/2015/apr/30/investors-withdraw-record-1bn-from-uk-equity-funds\n",
            "https://www.theguardian.com/business/economics-blog/2015/apr/30/eurozone-recovery-defies-the-odds-unemployment\n",
            "https://www.theguardian.com/world/2015/apr/29/greece-close-to-minimum-agreement-deal-with-creditors-says-deputy-pm\n",
            "https://www.theguardian.com/business/2015/apr/28/euclid-tsakalotos-greece-debt-bailout-varoufakis\n",
            "https://www.theguardian.com/business/2015/apr/28/greek-finance-minister-denies-being-sidelined-at-debt-talks\n",
            "https://www.theguardian.com/world/2015/apr/27/greece-reshuffles-negotiating-team-creditors-yanis-varoufakis\n",
            "https://www.theguardian.com/business/2015/apr/24/greek-debts-what-does-it-owe-when-will-the-money-run-out\n",
            "https://www.theguardian.com/business/live/2015/apr/23/greece-bailout-deal-may-eurozone-growth-live\n",
            "https://www.theguardian.com/world/2015/apr/23/greece-finance-deal-money-runs-out-eurozone-grexit-euro\n",
            "https://www.theguardian.com/business/2015/apr/21/greece-running-out-of-money-as-hopes-of-imminent-deal-to-end-debt-crisis-fade\n",
            "https://www.theguardian.com/business/live/2015/apr/21/gazprom-ceo-heads-to-greece-as-cash-reserves-run-short-business-live\n",
            "https://www.theguardian.com/business/live/2015/apr/20/imf-greece-negotiations-creditors-market-live\n",
            "https://www.theguardian.com/business/2015/apr/20/athens-issues-decree-demanding-cash-reserves-from-local-government\n",
            "https://www.theguardian.com/world/2015/apr/19/eurozone-crisis-grexit-edges-closer-as-markets-brace-for-athens-default\n",
            "https://www.theguardian.com/world/2015/apr/18/greek-euro-exit-imf-ecb-europe-debts\n",
            "https://www.theguardian.com/business/live/2015/apr/17/greek-crisis-markets-imf-varoufakis-live\n",
            "https://www.theguardian.com/business/2015/apr/17/imf-urges-eu-to-slim-down-its-demands-on-greece\n",
            "https://www.theguardian.com/business/nils-pratley-on-finance/2015/apr/17/syriza-cant-strike-riga-deal-and-keep-poll-promise\n",
            "https://www.theguardian.com/business/live/2015/apr/16/greek-crisis-looms-over-imfg20-meeting-business-live\n",
            "https://www.theguardian.com/business/2015/apr/16/greece-moves-step-closer-to-grexit-after-imf-snub\n",
            "https://www.theguardian.com/commentisfree/2015/apr/16/golden-age-political-stunts-mario-draghi-glitter-shower\n",
            "https://www.theguardian.com/business/2015/apr/16/ecb-protester-josephine-witt-surprised-by-relaxed-security-measures\n",
            "https://www.theguardian.com/business/picture/2015/apr/16/kipper-williams-on-the-ecb-protest\n",
            "https://www.theguardian.com/business/live/2015/apr/15/ecb-mario-draghi-greece-eurozone-live-updates\n",
            "https://www.theguardian.com/business/video/2015/apr/15/ecb-conference-disrupted-by-protester-video\n",
            "https://www.theguardian.com/world/2015/apr/15/ecb-protest-woman-interrupts-mario-draghi-speech\n",
            "https://www.theguardian.com/business/2015/apr/15/confidence-rises-eurozone-upturn-growth\n",
            "https://www.theguardian.com/business/2015/apr/12/greece-defends-bailout-tactics-as-latest-deadline-looms\n",
            "https://www.theguardian.com/world/2015/apr/12/athens-is-being-driven-closer-to-a-grexit\n",
            "https://www.theguardian.com/business/2015/apr/07/cbi-soaring-pound-battered-uk-export-drive\n",
            "https://www.theguardian.com/business/live/2015/apr/02/greece-reform-plan-bailout-markets-live-updates\n",
            "https://www.theguardian.com/business/2015/apr/02/why-eurozone-recovery-needs-germany-spending-surplus-europe\n",
            "https://www.theguardian.com/business/live/2015/apr/01/greece-bailout-deal-eurozone-officials-pmi-growth\n",
            "https://www.theguardian.com/business/live/2015/mar/31/euro-falls-greek-progress-unemployment-inflation-live-updates\n",
            "https://www.theguardian.com/business/2015/mar/27/greece-submits-reform-proposals-to-eurozone-creditors-with-a-warning\n",
            "https://www.theguardian.com/business/2015/mar/27/europes-easy-money-endgame\n",
            "https://www.theguardian.com/business/2015/mar/25/greek-government-takes-desperate-measures-in-battle-to-stay-afloat\n",
            "https://www.theguardian.com/business/2015/mar/24/greece-pledges-full-list-of-reforms-within-the-week\n",
            "https://www.theguardian.com/business/2015/mar/23/tsipras-raises-nazi-war-reparations-claim-at-berlin-press-conference-with-merkel\n",
            "https://www.theguardian.com/business/2015/mar/20/greece-financial-crisis-eu-offers-funds-in-return-for-urgent-reforms\n",
            "https://www.theguardian.com/world/2015/mar/18/blockupy-protesters-in-frankfurt-are-you-taking-part\n",
            "https://www.theguardian.com/business/2015/mar/18/anti-capitalist-protesters-clash-police-ecb-frankfurt-hq\n",
            "https://www.theguardian.com/world/gallery/2015/mar/18/blockupy-anti-ecb-protest-in-frankfurt-in-pictures\n",
            "https://www.theguardian.com/world/video/2015/mar/18/frankfurt-roads-blocked-anti-capitalist-protesters-police-fire-european-central-bank-video\n",
            "https://www.theguardian.com/business/2015/mar/17/dollar-12-year-high-at-expense-of-euro\n",
            "https://www.theguardian.com/business/live/2015/mar/16/greece-imf-repayment-tensions-germany-business-live\n",
            "https://www.theguardian.com/business/live/2015/mar/13/wolfgang-schauble\n",
            "https://www.theguardian.com/business/live/2015/mar/12/varoufakis-ecb-policy-is-asphyxiating-greece-live-updates\n",
            "https://www.theguardian.com/business/economics-blog/2015/mar/12/germany-greece-disagreement-varoufakis-schauble-risks-eu-exit\n",
            "https://www.theguardian.com/business/2015/mar/11/euro-12-year-low-gainst-the-dollar\n",
            "https://www.theguardian.com/business/live/2015/mar/11/fears-over-china-slowdown-and-greek-crisis-escalate-live-updates\n",
            "https://www.theguardian.com/business/2015/mar/11/euro-drop-us-dollar-value-analysts\n",
            "https://www.theguardian.com/business/2015/mar/10/euro-fall-cheaper-european-holidays-dollar-pound-strong-greece-debt\n",
            "https://www.theguardian.com/business/live/2015/mar/10/city-stunned-as-tidjane-thiam-quits-prudential-live-updates\n",
            "https://www.theguardian.com/world/2015/mar/09/eurozone-german-finances-reason-for-hope\n",
            "https://www.theguardian.com/world/2015/mar/09/eurozone-greece-credible-economic-reforms-brussels-eu\n",
            "https://www.theguardian.com/business/2015/mar/08/greece-threatens-new-elections-if-eurozone-rejects-planned-reforms\n",
            "https://www.theguardian.com/commentisfree/2015/mar/08/europe-monetary-union-fiscal-political-anger-south\n",
            "https://www.theguardian.com/world/2015/mar/06/wired-up-tax-snoopers-could-be-unleashed-in-greece\n",
            "https://www.theguardian.com/business/2015/mar/06/euro-slides-on-eve-of-ecb-stimulus-programme\n",
            "https://www.theguardian.com/business/2015/mar/05/european-central-bank-fires-starting-gun-on-1tn-stimulus\n",
            "https://www.theguardian.com/business/live/2015/mar/05/european-central-bank-ecb-meeting-protests-cyprus-mario-draghi-live\n",
            "https://www.theguardian.com/business/economics-blog/2015/mar/05/ecb-meeting-mario-draghi-is-upbeat-but-eurozone-risks-remain\n",
            "https://www.theguardian.com/business/2015/mar/04/eurozone-shopping-spree-points-to-beginning-of-recovery\n",
            "https://www.theguardian.com/politics/2015/mar/04/george-osborne-wins-clearing-house-ruling-against-ecb\n",
            "https://www.theguardian.com/business/2015/feb/24/greece-secures-eurozone-bailout-extension-for-four-months\n",
            "https://www.theguardian.com/business/2015/feb/27/greek-reform-plan-given-unanimous-support-by-german-parliament\n",
            "https://www.theguardian.com/commentisfree/2015/feb/27/new-left-europe-greece-democratic-capitalism-nato\n",
            "https://www.theguardian.com/business/2015/feb/26/greece-bailout-saga-strains-german-patience\n",
            "https://www.theguardian.com/business/live/2015/feb/25/greek-bailout-doubts-remain-extension-agreed-live-updates\n",
            "https://www.theguardian.com/business/2015/feb/23/greece-drafts-three-page-menu-of-reforms-to-appease-eurozone\n",
            "https://www.theguardian.com/world/2015/feb/22/greeces-two-day-deadline-to-earn-four-months-grace\n",
            "https://www.theguardian.com/world/2015/feb/22/greek-government-races-to-meet-monday-fiscal-reform-deadline\n",
            "https://www.theguardian.com/world/2015/feb/21/syriza-greece-debt-deal-eu-alexis-tsipras\n",
            "https://www.theguardian.com/commentisfree/2015/feb/20/greece-germany-eu-bailout\n",
            "https://www.theguardian.com/business/2015/feb/20/eurozone-ministers-gather-make-or-break-talks-greece\n",
            "https://www.theguardian.com/business/2015/feb/19/greece-requests-eurozone-loan-extension\n",
            "https://www.theguardian.com/business/economics-blog/2015/feb/19/greece-runs-up-the-austerity-white-flag-in-brussels\n",
            "https://www.theguardian.com/business/live/2015/feb/18/greek-bailout-athens-loan-extension-live-updates\n",
            "https://www.theguardian.com/world/2015/feb/18/greece-lifeline-ecb-agrees-extra-emergency-funds\n",
            "https://www.theguardian.com/business/2015/feb/18/will-greece-creditors-choose-ease-up-austerity\n",
            "https://www.theguardian.com/news/datablog/2015/feb/18/greece-bailout-eurozone-run-out-of-money\n",
            "https://www.theguardian.com/world/2015/feb/18/greece-bailout-bridging-loan-debt-crisis-eurozone\n",
            "https://www.theguardian.com/business/2015/feb/18/stock-markets-soar-on-greek-bailout-hopes\n",
            "https://www.theguardian.com/business/2015/feb/17/greece-bailout-talks-george-osborne-says-its-crunch-time-for-the-eurozone\n",
            "https://www.theguardian.com/business/2015/feb/17/greeces-debt-standoff-the-key-dates\n",
            "https://www.theguardian.com/business/picture/2015/feb/17/kipper-williams-on-the-collapsed-greek-bailout-talks\n",
            "https://www.theguardian.com/commentisfree/2015/feb/17/the-pro-worker-pro-growth-experiment-in-greece-is-under-threat\n",
            "https://www.theguardian.com/business/live/2015/feb/16/greek-bailout-eurozone-ministers-hold-crunch-talks-live-updates\n",
            "https://www.theguardian.com/business/economics-blog/2015/feb/16/japan-beats-recession-but-good-news-ends-there\n",
            "https://www.theguardian.com/business/2015/feb/16/hopes-fade-for-early-end-to-greece-debt-crisis-as-germany-digs-in\n",
            "https://www.theguardian.com/business/2015/feb/16/the-central-banks-and-their-bottom-line\n",
            "https://www.theguardian.com/world/2015/feb/15/syriza-eurozone-brussels-alexis-tsipras-greece-anti-austerity\n",
            "https://www.theguardian.com/world/2015/feb/13/german-growth-spurt-raises-hopes-of-eurozone-recovery\n",
            "https://www.theguardian.com/business/2015/feb/13/hopes-of-greek-debt-deal-rise\n",
            "https://www.theguardian.com/world/2015/feb/13/greece-finance-minister-yanis-varoufakis-interview-syriza-eurozone\n",
            "https://www.theguardian.com/business/economics-blog/2015/feb/13/gdp-growth-masks-a-broken-eurozone\n",
            "https://www.theguardian.com/business/2015/feb/13/seven-reasons-why-the-ftse-100-is-heading-towards-a-record-high\n",
            "https://www.theguardian.com/business/2015/feb/13/eurozone-economy-grows-germany-powers-up\n",
            "https://www.theguardian.com/business/live/2015/feb/12/greek-bailout-talks-eurogroup-eu-summit-live-updates\n",
            "https://www.theguardian.com/business/2015/feb/12/european-central-bank-greece-eurozone-talks-emergency-lending-alexis-tsipras\n",
            "https://www.theguardian.com/world/video/2015/feb/12/greeks-austerity-bailout-talks-syriza-tsipras-video\n",
            "https://www.theguardian.com/business/2015/feb/12/david-cameron-hold-first-meeting-greece-alexis-tsipras\n",
            "https://www.theguardian.com/business/2015/feb/11/low-oil-prices-will-do-little-to-stimulate-global-growth-moodys-says\n",
            "https://www.theguardian.com/business/blog/2015/feb/11/has-an-accidental-currency-war-erupted\n",
            "https://www.theguardian.com/world/2015/feb/11/tsipras-passes-confidence-vote-crucial-debt-negotiations\n",
            "https://www.theguardian.com/business/2015/feb/10/shares-rise-across-europe-greece-debt-deal-syriza-eurozone\n",
            "https://www.theguardian.com/world/2015/feb/10/george-osborne-warns-of-greek-debt-crisis-fallout\n",
            "https://www.theguardian.com/world/2015/feb/09/greek-banks-downgrade-pm-vow-stay-inside-euro\n",
            "https://www.theguardian.com/business/2015/feb/09/greek-prime-minister-deal-stay-eurozone-alexis-tsipras-bailout-greece\n",
            "https://www.theguardian.com/business/2015/feb/09/greece-is-playing-to-lose-the-debt-crisis-poker-game\n",
            "https://www.theguardian.com/world/commentisfree/2015/feb/08/germany-v-greece-fight-death-cultural-economic-clash-paul-mason\n",
            "https://www.theguardian.com/business/live/2015/feb/06/eurozone-greek-debt-crisis-markets-us-unemployment-live-updates\n",
            "https://www.theguardian.com/business/2015/feb/05/greek-german-finance-ministers-clash-debt-relief-talks\n",
            "https://www.theguardian.com/business/nils-pratley-on-finance/2015/feb/05/greece-varoufakis-supporters-sympathisers-nils-pratley-finance-rexam-ee-bt\n",
            "https://www.theguardian.com/business/video/2015/feb/05/debt-relief-talks-greek-german-finance-no-agreement-video\n",
            "https://www.theguardian.com/business/live/2015/feb/05/greece-germany-debt-talks-ecb-collateral-rules-live\n",
            "https://www.theguardian.com/business/live/2015/feb/04/greek-finance-minister-yanis-varoufakis-mario-debt-deal-live\n",
            "https://www.theguardian.com/global-development-professionals-network/2015/feb/04/do-banks-matter-financial-inclusion\n",
            "https://www.theguardian.com/business/2015/feb/04/a-greek-morality-tale-global-debt-restructuring-framework\n",
            "https://www.theguardian.com/commentisfree/2015/feb/03/guardian-view-on-the-euro-yanis-varoufakis-haggle\n",
            "https://www.theguardian.com/business/live/2015/feb/03/greek-debt-swap-plan-calms-markets-business-live\n",
            "https://www.theguardian.com/commentisfree/2015/feb/02/syriza-solutions-austerity-europe-greece-leftwing-alliance\n",
            "https://www.theguardian.com/world/2015/feb/01/greek-finance-minister-yanis-varoufakis-george-osborne\n",
            "https://www.theguardian.com/business/2015/feb/01/loose-monetary-policy-has-not-solved-the-worlds-economic-problems\n",
            "https://www.theguardian.com/world/2015/jan/31/greece-collision-course-eurozone-hardline-merkel-syriza\n",
            "https://www.theguardian.com/business/2015/jan/30/eurozone-deflation-deepens-january\n",
            "https://www.theguardian.com/business/economics-blog/2015/jan/30/eurozone-deflation-quantitative-easing\n",
            "https://www.theguardian.com/business/live/2015/jan/29/european-parliament-chief-visits-greece-as-bailout-row-grows-live-updates\n",
            "https://www.theguardian.com/world/2015/jan/28/alexis-tsipras-athens-lightning-speed-anti-austerity-policies\n",
            "https://www.theguardian.com/business/nils-pratley-on-finance/2015/jan/28/mark-carney-eurozone-mess-prescription-toxic-politics\n",
            "https://www.theguardian.com/commentisfree/2015/jan/28/guardian-view-greece-debt-relief-compromise\n",
            "https://www.theguardian.com/commentisfree/2015/jan/28/syriza-merkel-economic-greece-europe\n",
            "https://www.theguardian.com/world/2015/jan/26/germany-should-look-to-solon-not-draco\n",
            "https://www.theguardian.com/world/2015/jan/26/greece-anti-austerity-government-alexis-tsipras\n",
            "https://www.theguardian.com/money/2015/jan/26/fall-euro-currency-summer-holidays-syriza\n",
            "https://www.theguardian.com/world/2015/jan/26/greece-q-and-a-what-now-syriza-eu-austerity\n",
            "https://www.theguardian.com/world/2015/jan/25/alexis-tsipras-profile-greece-syriza-leader\n",
            "https://www.theguardian.com/business/2015/jan/25/european-central-bank-quantitative-easing-missed-opportunity\n",
            "https://www.theguardian.com/business/2015/jan/25/devaluation-discord-currencies-war-quantitative-easing\n",
            "https://www.theguardian.com/business/2015/jan/24/mark-carney-davos-warns-risk-quantitative-easing\n",
            "https://www.theguardian.com/business/2015/jan/23/euro-11-year-low-dollar-ecb-stimulus\n",
            "https://www.theguardian.com/commentisfree/2015/jan/23/is-davos-excuse-for-1-percent-to-have-bonding-session\n",
            "https://www.theguardian.com/commentisfree/2015/jan/23/guardian-view-greek-election-respect-outcome\n",
            "https://www.theguardian.com/business/2015/jan/23/australian-dollar-falls-below-80-us-cents-on-ecb-stimulus-announcement\n",
            "https://www.theguardian.com/business/live/2015/jan/22/davos-2015-day-2-qe-ecb-lagarde-draghi-merkel-live\n",
            "https://www.theguardian.com/business/2015/jan/22/ecb-boosts-eurozone-mario-draghi-kickstart-growth\n",
            "https://www.theguardian.com/business/2015/jan/22/european-union-stimulus-gains-us-stock-markets-gold-price-dollar\n",
            "https://www.theguardian.com/business/2015/jan/22/ecb-big-bazooka-bigger-than-expected-qe-stimulus\n",
            "https://www.theguardian.com/business/nils-pratley-on-finance/2015/jan/22/eurozone-qe-little-something-much-better-than-nothing\n",
            "https://www.theguardian.com/commentisfree/2015/jan/22/guardian-view-quantitative-easing-eurozone-better-late-never\n",
            "https://www.theguardian.com/business/2015/jan/22/eurozone-qe-bigger-gun-than-expected-not-hoped-for-starting-pistol-investment-boom\n",
            "https://www.theguardian.com/commentisfree/2015/jan/22/germany-qe-quantitative-easing-eurozone\n",
            "https://www.theguardian.com/business/2015/jan/22/ecb-unveils-1-trillion-qe-plan-stimulate-eurozoen-economy\n",
            "https://www.theguardian.com/business/2015/jan/22/what-the-experts-say-about-the-eus-latest-round-of-quantitative-easing\n",
            "https://www.theguardian.com/business/2015/jan/22/what-is-quantitative-easing\n",
            "https://www.theguardian.com/commentisfree/2015/jan/22/qe-eurozone-confidence-trick-quantitative-easing-money-circulation\n",
            "https://www.theguardian.com/business/economics-blog/2015/jan/22/european-central-bank-quantitative-easing-not-a-panacea\n",
            "https://www.theguardian.com/business/2015/jan/22/ecb-quantitative-easing-1-trillion-euros\n",
            "https://www.theguardian.com/business/2015/jan/22/quantitative-easing-around-the-world-lessons-from-japan-uk-and-us\n",
            "https://www.theguardian.com/business/2015/jan/21/davos-italian-pm-ecb-europe-economic-government-bonds\n",
            "https://www.theguardian.com/world/2015/jan/20/greece-needs-debts-cancelled-and-growth\n",
            "https://www.theguardian.com/business/2015/jan/20/quantitative-easing-unconventional-monetary-policy\n",
            "https://www.theguardian.com/business/economics-blog/2015/jan/20/eurozone-qe-quantitative-easing-european-central-bank\n",
            "https://www.theguardian.com/business/live/2015/jan/19/chinese-stock-market-fall-eurozone-qe-business-live\n",
            "https://www.theguardian.com/business/2015/jan/18/seven-themes-dominate-davos-climate-change-political-instability-2015\n",
            "https://www.theguardian.com/business/2015/jan/18/draghi-ecb-quantitative-easing-too-late\n",
            "https://www.theguardian.com/business/nils-pratley-on-finance/2015/jan/15/draghi-qe-years-dithering-dilemma\n",
            "https://www.theguardian.com/business/2015/jan/15/currency-markets-switzerland-franc\n",
            "https://www.theguardian.com/business/2015/jan/15/swiss-franc-what-the-economists-say\n",
            "https://www.theguardian.com/world/2015/jan/15/swiss-currency-shock-blame-bank-in-frankfurt-not-zurich\n",
            "https://www.theguardian.com/business/2015/jan/14/markets-tumble-after-world-bank-warns-global-slowdown\n",
            "https://www.theguardian.com/business/live/2015/jan/14/european-court-of-justice-rules-on-ecb-bond-buying-programme-business-live\n",
            "https://www.theguardian.com/business/live/2015/jan/12/oil-price-falls-goldman-forecasts-greece-ecb-business-live\n",
            "https://www.theguardian.com/world/2015/jan/10/greece-election-u-turn-antonis-samaras-syriza\n",
            "https://www.theguardian.com/commentisfree/2015/jan/09/greece-suffer-euro-exit-single-currency-resilient\n",
            "https://www.theguardian.com/business/2015/jan/08/euro-dollar-1999-levels-deflation-oil\n",
            "https://www.theguardian.com/business/2015/jan/07/eurozone-deflation-pressure-ecb-qe\n",
            "https://www.theguardian.com/business/nils-pratley-on-finance/2015/jan/07/quantative-easing-aint-easy-to-quantify\n",
            "https://www.theguardian.com/commentisfree/2015/jan/05/guardian-view-on-the-euro-running-out-of-road\n",
            "https://www.theguardian.com/business/2015/jan/05/euro-sinks-nine-year-low-against-dollar\n",
            "https://www.theguardian.com/business/blog/live/2015/jan/05/euro-hits-9-year-low-on-grexit-rumours-live\n",
            "https://www.theguardian.com/world/2015/jan/04/britain-beware-greeks-bearing-snap-general-elections\n",
            "https://www.theguardian.com/business/2015/jan/04/oil-future-hangs-emirates-eagle-ford-shale-us\n",
            "https://www.theguardian.com/business/2015/jan/04/business-people-to-watch-in-2015\n",
            "https://www.theguardian.com/business/2015/jan/02/european-central-bank-stimulus-deflation-mario-draghi\n",
            "https://www.theguardian.com/business/live/2015/jan/02/mario-draghi-says-ecb-is-ready-to-pump-more-stimulus-into-eurozone-economy--business-live\n",
            "https://www.theguardian.com/business/2014/dec/28/challenging-party-games-greece-debt-crisis\n",
            "https://www.theguardian.com/business/2014/dec/28/five-issues-world-economy-2015\n",
            "https://www.theguardian.com/business/2014/dec/21/italy-euro-matteo-renzi-eurosceptic\n",
            "https://www.theguardian.com/business/2014/dec/18/switzerland-negative-interest-rate-swiss-franc\n",
            "https://www.theguardian.com/world/2014/dec/14/greece-election-eu-finance-chief-athens-grexit-fears\n",
            "https://www.theguardian.com/business/2014/dec/14/eurozone-crisis-history-repeating-itself-again\n",
            "https://www.theguardian.com/politics/2014/dec/14/strictly-come-dancing-for-central-bankers-mario-draghi\n",
            "https://www.theguardian.com/business/2014/dec/12/world-stock-markets-tumble-and-ftse-suffers-worst-fall-since-2011\n",
            "https://www.theguardian.com/business/live/2014/dec/12/economic-fears-and-greek-crisis-weigh-on-markets-business-live\n",
            "https://www.theguardian.com/business/2014/dec/12/eurozone-deflation-looms-quantitative-easing-is-the-answer\n",
            "https://www.theguardian.com/business/live/2014/dec/09/tesco-warns-on-profits-dave-lewis-greece-china\n",
            "https://www.theguardian.com/business/live/2014/dec/08/japans-recession-deeper-german-industrial-output-live\n",
            "https://www.theguardian.com/business/nils-pratley-on-finance/2014/dec/04/european-central-bank-soap-opera\n",
            "https://www.theguardian.com/business/2014/dec/04/ecb-cuts-eurozone-growth-forecasts-quantitative-easing\n",
            "https://www.theguardian.com/business/live/2014/dec/04/european-central-bank-qe-signal-mario-draghi-business-live\n",
            "https://www.theguardian.com/business/2014/dec/03/eurozone-economy-stumbles-raising-fears-new-year-recession\n",
            "https://www.theguardian.com/business/2014/dec/01/eurozone-time-running-out\n",
            "https://www.theguardian.com/business/2014/nov/30/eurozone-quantitative-easing-european-central-bank\n",
            "https://www.theguardian.com/commentisfree/2014/nov/26/eu-cash-bomb-recession-juncker-new-fund\n",
            "https://www.theguardian.com/commentisfree/2014/nov/26/what-gordon-brown-got-right-prime-minister\n",
            "https://www.theguardian.com/business/2014/nov/23/deflation-real-monster-forget-central-bankers\n",
            "https://www.theguardian.com/politics/2014/nov/17/david-cameron-excuses-world-economy-japan-recession-miliband\n",
            "https://www.theguardian.com/world/2014/nov/16/david-cameron-third-eurozone-recession-g20-warning\n",
            "https://www.theguardian.com/business/economics-blog/2014/nov/16/david-cameron-economics-warning-lights-analysis\n",
            "https://www.theguardian.com/world/2014/nov/16/lira-looks-set-for-comeback\n",
            "https://www.theguardian.com/business/economics-blog/2014/nov/14/eurozone-gdp-figures-escape-lost-decade\n",
            "https://www.theguardian.com/world/2014/nov/10/stagnant-eurozone-growth-figures-recession-fears\n",
            "https://www.theguardian.com/business/2014/nov/06/european-central-bank-1-trillion-euro-eurozone-quantitative-easing\n",
            "https://www.theguardian.com/business/live/2014/nov/06/german-factory-orders-morrisons-ecb-bank-of-england-live\n",
            "https://www.theguardian.com/business/marketforceslive/2014/nov/06/ftse-100-finishes-higher-after-ecb-hints-while-randgold-resources-recovers-but-rsa-falls\n",
            "https://www.theguardian.com/business/2014/oct/31/eurozone-inflation-rises-concerns-deflation-european-central-bank-ecb\n",
            "https://www.theguardian.com/business/economics-blog/2014/oct/29/quantitative-easing-policy-stimulus-janet-yellen-ecb\n",
            "https://www.theguardian.com/business/2014/oct/26/european-banks-fail-financial-stress-tests\n",
            "https://www.theguardian.com/world/2014/oct/26/permanent-tsb-european-central-bank-ecb-eu-financial-stress-test-ireland-michael-noonan\n",
            "https://www.theguardian.com/business/blog/live/2014/oct/22/european-markets-to-rally-on-stimulus-hopes-business-live\n",
            "980 980 980\n",
            "['2023-03-31T11:58:03+0000', '2023-03-22T19:20:33+0000', '2023-03-17T17:55:05+0000', '2023-03-16T17:30:12+0000', '2023-03-16T10:47:35+0000', '2023-03-02T19:08:54+0000', '2023-01-20T13:40:25+0000', '2023-01-20T07:00:32+0000', '2023-01-10T18:19:50+0000', '2022-12-26T13:57:17+0000', '2022-12-07T13:51:09+0000', '2022-11-30T19:44:51+0000', '2022-10-27T15:35:16+0000', '2022-09-28T08:46:33+0000', '2022-09-21T18:02:20+0000', '2022-09-10T16:00:07+0000', '2022-09-09T12:39:44+0000', '2022-09-08T15:52:10+0000', '2022-09-08T14:02:52+0000', '2022-08-12T14:47:47+0000', '2022-07-24T17:30:14+0000', '2022-07-22T17:06:29+0000', '2022-07-21T18:19:15+0000', '2022-07-21T12:20:07+0000', '2022-07-21T05:00:40+0000', '2022-07-18T18:17:02+0000', '2022-07-12T14:43:07+0000', '2022-07-01T12:19:51+0000', '2022-06-29T18:06:34+0000', '2022-06-28T14:44:00+0000', '2022-06-28T06:41:15+0000', '2022-06-26T10:18:02+0000', '2022-06-17T16:00:43+0000', '2022-06-15T18:09:48+0000', '2022-06-15T11:27:45+0000', '2022-06-11T18:00:25+0000', '2022-06-09T14:36:03+0000', '2022-06-09T13:15:30+0000', '2022-05-08T10:35:08+0000', '2022-04-14T18:25:19+0000', '2022-04-09T23:05:04+0000', '2022-03-06T00:05:37+0000', '2022-03-03T09:03:46+0000', '2022-03-02T09:23:48+0000', '2021-12-06T18:53:41+0000', '2021-12-01T00:00:09+0000', '2021-11-26T06:00:20+0000', '2021-11-26T06:00:20+0000', '2021-10-28T23:05:38+0000', '2021-10-28T15:28:49+0000', '2021-09-09T15:56:08+0000', '2021-07-22T16:13:33+0000', '2021-07-21T05:00:48+0000', '2021-07-08T16:50:44+0000', '2021-07-02T09:34:55+0000', '2021-06-10T18:05:45+0000', '2021-06-09T15:49:59+0000', '2021-04-22T17:32:57+0000', '2021-04-08T14:12:17+0000', '2021-03-24T06:00:31+0000', '2021-03-11T17:29:16+0000', '2021-02-13T12:28:39+0000', '2021-02-12T19:52:58+0000', '2021-02-10T06:00:28+0000', '2020-12-10T18:19:09+0000', '2020-11-14T08:00:03+0000', '2020-10-29T18:00:39+0000', '2020-10-07T11:00:36+0000', '2020-09-25T17:30:52+0000', '2020-09-10T16:42:34+0000', '2020-09-09T08:00:09+0000', '2020-08-13T06:00:47+0000', '2020-07-31T13:07:11+0000', '2020-07-24T17:30:32+0000', '2020-07-22T16:40:22+0000', '2020-07-22T16:35:19+0000', '2020-07-16T15:41:27+0000', '2020-07-12T06:00:06+0000', '2020-06-18T10:22:43+0000', '2020-06-17T15:20:29+0000', '2020-06-04T17:18:01+0000', '2020-06-04T17:04:32+0000', '2020-05-31T06:00:05+0000', '2020-05-28T06:00:23+0000', '2020-05-26T04:00:10+0000', '2020-05-11T14:24:53+0000', '2020-05-05T18:58:27+0000', '2020-05-05T14:18:23+0000', '2020-04-28T05:00:02+0000', '2020-04-26T06:00:06+0000', '2020-04-14T05:00:33+0000', '2020-04-09T22:35:50+0000', '2020-04-07T18:22:12+0000', '2020-03-29T11:34:29+0000', '2020-03-25T19:51:34+0000', '2020-03-19T20:09:56+0000', '2020-03-19T11:54:59+0000', '2020-03-19T00:54:35+0000', '2020-03-17T07:30:49+0000', '2020-03-13T23:08:14+0000', '2020-03-12T23:02:09+0000', '2020-03-12T21:22:50+0000', '2020-03-12T17:04:17+0000', '2020-03-11T11:40:04+0000', '2020-03-10T16:48:04+0000', '2020-03-07T16:00:10+0000', '2020-02-28T07:00:10+0000', '2020-01-23T07:00:48+0000', '2020-01-21T19:23:35+0000', '2020-01-14T10:14:29+0000', '2020-01-10T12:24:30+0000', '2020-01-01T12:16:49+0000', '2019-12-31T06:00:28+0000', '2019-12-12T21:19:26+0000', '2019-12-12T17:29:51+0000', '2019-12-10T07:00:03+0000', '2019-12-08T12:08:46+0000', '2019-12-03T12:54:17+0000', '2019-11-22T18:05:06+0000', '2019-11-22T17:58:45+0000', '2019-10-24T17:59:17+0000', '2019-10-01T17:40:19+0000', '2019-09-30T10:28:46+0000', '2019-09-18T05:01:11+0000', '2019-09-15T05:59:17+0000', '2019-09-12T16:27:50+0000', '2019-09-12T14:01:20+0000', '2019-09-11T15:47:43+0000', '2019-09-08T13:57:42+0000', '2019-09-06T13:23:58+0000', '2019-09-05T17:00:24+0000', '2019-08-16T15:41:28+0000', '2019-08-13T06:00:43+0000', '2019-07-31T12:23:16+0000', '2019-07-28T10:44:34+0000', '2019-07-27T15:00:48+0000', '2019-07-26T14:09:17+0000', '2019-07-25T16:34:29+0000', '2019-07-25T14:07:37+0000', '2019-07-22T06:00:30+0000', '2019-07-15T14:40:21+0000', '2019-07-14T10:57:25+0000', '2019-07-10T05:00:36+0000', '2019-07-09T11:46:02+0000', '2019-07-06T17:18:00+0000', '2019-07-03T19:12:36+0000', '2019-07-03T18:00:24+0000', '2019-07-03T14:11:55+0000', '2019-07-02T19:40:17+0000', '2019-07-02T18:56:19+0000', '2019-07-02T18:53:42+0000', '2019-06-23T06:00:41+0000', '2019-06-18T13:21:51+0000', '2019-06-11T10:24:38+0000', '2019-06-06T14:21:24+0000', '2019-05-29T05:00:34+0000', '2019-05-28T14:03:51+0000', '2019-04-30T17:09:36+0000', '2019-03-24T12:09:55+0000', '2019-03-17T14:54:02+0000', '2019-03-07T19:06:59+0000', '2019-03-07T16:14:37+0000', '2018-12-22T08:30:23+0000', '2018-12-13T18:51:03+0000', '2018-12-13T17:05:11+0000', '2018-12-06T08:16:02+0000', '2018-11-05T18:56:54+0000', '2018-10-30T17:29:44+0000', '2018-10-25T20:58:50+0000', '2018-10-07T10:20:25+0000', '2018-10-02T18:14:31+0000', '2018-09-13T15:53:56+0000', '2018-08-23T13:00:26+0000', '2018-08-21T13:42:09+0000', '2018-08-20T12:53:50+0000', '2018-08-03T13:15:31+0000', '2018-07-31T16:00:25+0000', '2018-07-26T20:50:27+0000', '2018-07-11T17:40:57+0000', '2018-07-09T09:00:28+0000', '2018-06-17T06:00:06+0000', '2018-06-14T16:26:39+0000', '2018-06-14T14:04:16+0000', '2018-06-11T14:41:15+0000', '2018-05-31T20:19:11+0000', '2018-05-30T13:08:24+0000', '2018-05-29T17:33:52+0000', '2018-05-14T18:12:49+0000', '2018-04-27T16:55:16+0000', '2018-04-26T18:49:41+0000', '2018-04-12T13:53:38+0000', '2018-04-11T14:17:26+0000', '2018-03-08T23:50:37+0000', '2018-02-26T15:52:07+0000', '2018-02-19T17:18:53+0000', '2018-02-15T17:54:48+0000', '2018-02-08T13:23:46+0000', '2018-02-05T18:09:16+0000', '2018-02-01T17:00:30+0000', '2018-01-29T13:51:57+0000', '2018-01-17T11:59:26+0000', '2017-12-14T14:46:50+0000', '2017-12-11T00:01:06+0000', '2017-11-17T17:55:24+0000', '2017-11-16T07:13:58+0000', '2017-11-15T19:14:53+0000', '2017-11-10T14:24:25+0000', '2017-11-09T13:01:21+0000', '2017-10-26T18:48:18+0000', '2017-10-04T09:19:45+0000', '2017-09-28T18:16:04+0000', '2017-09-19T13:30:05+0000', '2017-09-16T15:00:15+0000', '2017-09-13T19:00:18+0000', '2017-09-11T12:21:34+0000', '2017-09-08T13:00:44+0000', '2017-09-07T18:16:42+0000', '2017-09-07T07:59:23+0000', '2017-08-30T13:49:39+0000', '2017-08-27T05:59:02+0000', '2017-08-25T13:10:26+0000', '2017-08-24T13:21:31+0000', '2017-08-23T20:17:28+0000', '2017-08-23T12:59:12+0000', '2017-08-21T13:07:52+0000', '2017-08-20T12:03:19+0000', '2017-07-24T14:18:12+0000', '2017-07-21T18:31:18+0000', '2017-07-21T14:28:08+0000', '2017-07-20T18:13:07+0000', '2017-07-20T04:19:56+0000', '2017-07-02T16:46:01+0000', '2017-06-27T16:09:26+0000', '2017-06-23T18:00:14+0000', '2017-06-23T16:40:12+0000', '2017-06-18T18:52:11+0000', '2017-06-13T18:26:35+0000', '2017-06-08T14:21:01+0000', '2017-06-08T06:26:16+0000', '2017-06-07T18:17:29+0000', '2017-05-16T12:11:37+0000', '2017-04-30T16:21:39+0000', '2017-04-30T05:59:20+0000', '2017-04-27T14:32:00+0000', '2017-04-24T12:10:35+0000', '2017-04-06T16:32:03+0000', '2017-03-09T15:53:16+0000', '2017-03-05T16:54:18+0000', '2017-02-10T17:50:53+0000', '2017-02-08T15:10:19+0000', '2017-02-06T19:14:50+0000', '2017-02-03T16:41:17+0000', '2017-01-03T14:29:54+0000', '2016-12-28T09:21:01+0000', '2016-12-27T11:44:28+0000', '2016-12-26T17:32:18+0000', '2016-12-22T01:04:45+0000', '2016-12-19T18:43:19+0000', '2016-12-13T22:33:00+0000', '2016-12-12T17:29:57+0000', '2016-12-12T07:41:00+0000', '2016-12-09T19:23:35+0000', '2016-12-09T19:04:28+0000', '2016-12-09T18:18:23+0000', '2016-12-09T13:36:07+0000', '2016-12-08T17:53:32+0000', '2016-12-08T16:22:45+0000', '2016-12-05T05:36:36+0000', '2016-12-01T10:35:12+0000', '2016-11-28T18:05:11+0000', '2016-11-18T18:12:09+0000', '2016-11-17T18:56:34+0000', '2016-11-15T14:39:07+0000', '2016-11-13T19:39:08+0000', '2016-10-23T16:50:46+0000', '2016-10-20T18:52:38+0000', '2016-10-20T16:54:15+0000', '2016-10-16T17:01:18+0000', '2016-10-10T18:33:17+0000', '2016-09-23T17:17:06+0000', '2016-09-19T05:02:14+0000', '2016-09-11T17:49:39+0000', '2016-09-08T15:03:49+0000', '2016-09-08T12:48:29+0000', '2016-09-06T14:54:33+0000', '2016-08-31T17:20:29+0000', '2016-08-31T11:50:29+0000', '2016-08-25T06:00:04+0000', '2016-08-22T14:01:33+0000', '2016-08-13T15:00:10+0000', '2016-08-01T05:00:23+0000', '2016-07-21T15:28:54+0000', '2016-07-21T14:55:19+0000', '2016-07-11T18:09:48+0000', '2016-07-11T09:43:54+0000', '2016-07-01T17:16:08+0000', '2016-06-26T21:40:25+0000', '2016-06-26T15:45:58+0000', '2016-06-25T21:29:58+0000', '2016-06-21T18:18:42+0000', '2016-06-17T17:14:26+0000', '2016-06-09T14:01:55+0000', '2016-06-02T17:01:48+0000', '2016-05-25T18:05:32+0000', '2016-05-25T09:05:55+0000', '2016-05-25T02:34:21+0000', '2016-05-23T18:43:21+0000', '2016-05-23T17:55:38+0000', '2016-05-09T19:13:14+0000', '2016-05-09T15:48:51+0000', '2016-05-09T09:31:45+0000', '2016-05-08T03:37:27+0000', '2016-05-04T18:16:46+0000', '2016-04-29T16:00:43+0000', '2016-04-21T19:52:41+0000', '2016-04-21T17:41:41+0000', '2016-04-21T16:59:16+0000', '2016-04-18T09:15:17+0000', '2016-04-07T13:40:48+0000', '2016-04-02T05:00:00+0000', '2016-04-01T15:02:51+0000', '2016-03-29T07:57:35+0000', '2016-03-18T18:01:58+0000', '2016-03-11T09:00:29+0000', '2016-03-11T09:00:29+0000', '2016-03-10T20:32:28+0000', '2016-03-10T19:20:13+0000', '2016-03-10T18:45:23+0000', '2016-03-10T17:51:20+0000', '2016-03-10T16:57:56+0000', '2016-03-10T14:41:32+0000', '2016-02-29T19:52:58+0000', '2016-02-26T00:05:06+0000', '2016-02-23T14:57:21+0000', '2016-02-21T14:00:28+0000', '2016-02-18T18:42:01+0000', '2016-02-16T13:37:09+0000', '2016-02-15T19:02:14+0000', '2016-02-15T18:12:08+0000', '2016-02-12T17:54:57+0000', '2016-02-12T17:05:02+0000', '2016-02-12T13:01:18+0000', '2016-02-12T12:28:56+0000', '2016-01-31T15:30:28+0000', '2016-01-29T20:24:16+0000', '2016-01-29T13:02:44+0000', '2016-01-22T18:35:16+0000', '2016-01-22T09:33:04+0000', '2016-01-21T18:08:47+0000', '2016-01-06T15:48:32+0000', '2015-12-16T20:27:58+0000', '2015-12-04T13:26:41+0000', '2015-12-04T07:02:04+0000', '2015-12-03T20:02:25+0000', '2015-12-03T17:23:13+0000', '2015-12-03T15:48:49+0000', '2015-12-03T12:47:36+0000', '2015-12-03T07:00:04+0000', '2015-12-03T06:00:04+0000', '2015-12-02T18:45:19+0000', '2015-12-02T18:40:31+0000', '2015-12-02T13:36:06+0000', '2015-11-26T18:26:32+0000', '2015-11-20T19:02:46+0000', '2015-11-20T15:21:20+0000', '2015-11-19T18:36:29+0000', '2015-11-18T13:24:49+0000', '2015-11-16T19:05:23+0000', '2015-11-13T11:25:21+0000', '2015-11-09T19:32:05+0000', '2015-11-01T16:13:29+0000', '2015-10-31T13:23:15+0000', '2015-10-28T19:31:23+0000', '2015-10-25T10:58:33+0000', '2015-10-24T03:38:41+0000', '2015-10-23T13:24:54+0000', '2015-10-22T17:53:47+0000', '2015-10-22T15:54:37+0000', '2015-10-22T15:31:54+0000', '2015-10-22T05:00:00+0000', '2015-10-21T18:47:26+0000', '2015-10-21T16:40:16+0000', '2015-10-18T18:19:30+0000', '2015-10-18T14:14:03+0000', '2015-10-14T12:39:44+0000', '2015-09-30T17:21:19+0000', '2015-09-30T11:03:28+0000', '2015-09-29T17:22:33+0000', '2015-09-28T13:00:00+0000', '2015-09-21T19:45:03+0000', '2015-09-18T15:46:50+0000', '2015-09-10T17:28:18+0000', '2015-09-08T18:14:03+0000', '2015-09-07T23:27:29+0000', '2015-09-06T08:00:03+0000', '2015-09-04T23:32:33+0000', '2015-09-04T17:40:53+0000', '2015-09-03T19:21:42+0000', '2015-09-03T18:36:15+0000', '2015-09-03T16:41:30+0000', '2015-09-02T18:00:34+0000', '2015-08-30T07:59:00+0000', '2015-08-27T17:19:36+0000', '2015-08-24T00:15:19+0000', '2015-08-21T16:22:23+0000', '2015-08-20T08:36:17+0000', '2015-08-20T05:00:07+0000', '2015-08-19T16:36:24+0000', '2015-08-17T15:19:50+0000', '2015-08-16T17:20:52+0000', '2015-08-16T08:30:58+0000', '2015-08-14T22:20:05+0000', '2015-08-14T16:05:04+0000', '2015-08-14T07:37:02+0000', '2015-08-13T17:26:39+0000', '2015-08-13T12:51:29+0000', '2015-08-13T12:26:27+0000', '2015-08-13T06:32:50+0000', '2015-08-12T17:59:43+0000', '2015-08-12T09:44:12+0000', '2015-08-11T19:34:07+0000', '2015-08-11T14:01:21+0000', '2015-08-10T18:14:14+0000', '2015-08-10T14:06:03+0000', '2015-08-09T23:21:07+0000', '2015-08-06T17:09:53+0000', '2015-08-05T16:43:10+0000', '2015-08-04T09:53:46+0000', '2015-08-03T17:01:11+0000', '2015-08-03T09:31:20+0000', '2015-08-03T06:25:31+0000', '2015-07-31T17:13:42+0000', '2015-07-29T19:04:11+0000', '2015-07-29T17:47:03+0000', '2015-07-28T19:42:40+0000', '2015-07-27T14:00:06+0000', '2015-07-25T12:38:51+0000', '2015-07-25T00:17:34+0000', '2015-07-24T18:03:04+0000', '2015-07-24T17:19:46+0000', '2015-07-23T18:58:23+0000', '2015-07-23T12:49:06+0000', '2015-07-23T02:40:15+0000', '2015-07-21T17:43:55+0000', '2015-07-20T19:29:44+0000', '2015-07-20T17:02:52+0000', '2015-07-20T16:30:47+0000', '2015-07-19T19:10:54+0000', '2015-07-18T14:17:22+0000', '2015-07-17T18:13:36+0000', '2015-07-17T16:57:50+0000', '2015-07-17T14:40:25+0000', '2015-07-17T13:38:28+0000', '2015-07-17T09:41:13+0000', '2015-07-16T18:43:59+0000', '2015-07-16T18:31:56+0000', '2015-07-16T18:24:04+0000', '2015-07-16T17:18:49+0000', '2015-07-16T15:27:58+0000', '2015-07-16T14:37:55+0000', '2015-07-16T02:48:44+0000', '2015-07-15T23:59:00+0000', '2015-07-15T18:50:43+0000', '2015-07-15T12:16:08+0000', '2015-07-15T11:22:32+0000', '2015-07-15T09:38:40+0000', '2015-07-14T23:50:10+0000', '2015-07-14T23:07:19+0000', '2015-07-14T19:10:28+0000', '2015-07-14T18:07:54+0000', '2015-07-14T15:46:44+0000', '2015-07-14T15:22:33+0000', '2015-07-14T12:52:21+0000', '2015-07-14T11:40:03+0000', '2015-07-14T09:39:59+0000', '2015-07-13T22:52:56+0000', '2015-07-13T21:05:07+0000', '2015-07-13T19:23:10+0000', '2015-07-13T19:00:05+0000', '2015-07-13T18:54:40+0000', '2015-07-13T18:46:17+0000', '2015-07-13T16:53:09+0000', '2015-07-13T16:20:58+0000', '2015-07-13T15:55:38+0000', '2015-07-13T12:32:50+0000', '2015-07-13T11:37:16+0000', '2015-07-13T10:42:07+0000', '2015-07-13T09:36:21+0000', '2015-07-13T05:13:39+0000', '2015-07-12T19:57:40+0000', '2015-07-12T19:23:30+0000', '2015-07-12T19:23:08+0000', '2015-07-12T16:13:41+0000', '2015-07-12T15:56:01+0000', '2015-07-12T09:02:24+0000', '2015-07-12T02:04:39+0000', '2015-07-11T23:32:45+0000', '2015-07-11T08:26:54+0000', '2015-07-10T17:59:25+0000', '2015-07-10T11:57:41+0000', '2015-07-10T10:19:08+0000', '2015-07-10T09:53:39+0000', '2015-07-10T08:51:34+0000', '2015-07-10T08:21:46+0000', '2015-07-10T06:55:11+0000', '2015-07-09T18:39:08+0000', '2015-07-09T12:51:31+0000', '2015-07-08T18:48:16+0000', '2015-07-08T16:50:27+0000', '2015-07-08T16:46:12+0000', '2015-07-08T10:41:41+0000', '2015-07-07T23:38:13+0000', '2015-07-07T23:27:21+0000', '2015-07-07T21:44:22+0000', '2015-07-07T17:14:52+0000', '2015-07-07T14:08:54+0000', '2015-07-07T13:33:49+0000', '2015-07-06T21:25:02+0000', '2015-07-06T20:50:18+0000', '2015-07-06T19:22:14+0000', '2015-07-06T19:10:02+0000', '2015-07-06T18:57:00+0000', '2015-07-06T17:20:55+0000', '2015-07-06T14:42:35+0000', '2015-07-06T14:33:57+0000', '2015-07-06T13:42:00+0000', '2015-07-06T13:21:18+0000', '2015-07-06T13:05:06+0000', '2015-07-06T09:55:23+0000', '2015-07-06T08:48:54+0000', '2015-07-06T06:43:22+0000', '2015-07-06T05:51:13+0000', '2015-07-06T00:26:10+0000', '2015-07-05T23:11:52+0000', '2015-07-05T21:08:42+0000', '2015-07-05T20:48:38+0000', '2015-07-05T20:25:17+0000', '2015-07-05T19:09:20+0000', '2015-07-05T19:01:10+0000', '2015-07-05T09:16:31+0000', '2015-07-04T23:04:03+0000', '2015-07-04T23:03:04+0000', '2015-07-04T17:08:20+0000', '2015-07-04T11:31:20+0000', '2015-07-04T10:32:01+0000', '2015-07-03T20:41:24+0000', '2015-07-03T18:41:51+0000', '2015-07-03T18:22:48+0000', '2015-07-03T18:20:48+0000', '2015-07-03T18:10:25+0000', '2015-07-03T09:01:31+0000', '2015-07-03T07:51:53+0000', '2015-07-03T06:47:56+0000', '2015-07-02T18:05:17+0000', '2015-07-02T15:20:55+0000', '2015-07-02T13:10:22+0000', '2015-07-02T07:47:48+0000', '2015-07-02T06:14:25+0000', '2015-07-01T19:54:28+0000', '2015-07-01T19:48:19+0000', '2015-07-01T19:16:47+0000', '2015-07-01T18:39:32+0000', '2015-07-01T18:31:52+0000', '2015-07-01T13:03:56+0000', '2015-07-01T12:54:34+0000', '2015-07-01T11:44:16+0000', '2015-07-01T11:21:48+0000', '2015-07-01T10:44:08+0000', '2015-07-01T10:13:52+0000', '2015-07-01T07:00:46+0000', '2015-07-01T00:17:33+0000', '2015-06-30T22:47:02+0000', '2015-06-30T19:06:10+0000', '2015-06-30T18:47:27+0000', '2015-06-30T12:13:01+0000', '2015-06-30T07:28:20+0000', '2015-06-30T07:17:10+0000', '2015-06-29T23:06:43+0000', '2015-06-29T23:00:03+0000', '2015-06-29T21:49:27+0000', '2015-06-29T20:49:51+0000', '2015-06-29T20:37:21+0000', '2015-06-29T20:01:14+0000', '2015-06-29T19:56:45+0000', '2015-06-29T19:26:06+0000', '2015-06-29T18:33:42+0000', '2015-06-29T17:49:20+0000', '2015-06-29T17:03:18+0000', '2015-06-29T15:38:56+0000', '2015-06-29T14:03:15+0000', '2015-06-29T13:00:15+0000', '2015-06-29T10:58:22+0000', '2015-06-29T08:34:00+0000', '2015-06-29T06:26:23+0000', '2015-06-29T02:48:14+0000', '2015-06-28T23:04:27+0000', '2015-06-28T23:02:38+0000', '2015-06-28T22:15:13+0000', '2015-06-28T19:07:01+0000', '2015-06-28T18:50:15+0000', '2015-06-28T18:42:39+0000', '2015-06-28T18:15:46+0000', '2015-06-28T17:42:10+0000', '2015-06-28T17:15:36+0000', '2015-06-28T16:53:04+0000', '2015-06-28T08:36:48+0000', '2015-06-28T07:32:29+0000', '2015-06-28T00:17:30+0000', '2015-06-27T21:16:18+0000', '2015-06-27T19:40:24+0000', '2015-06-27T17:48:08+0000', '2015-06-27T15:18:43+0000', '2015-06-26T22:25:35+0000', '2015-06-26T18:52:28+0000', '2015-06-26T18:14:36+0000', '2015-06-26T18:05:42+0000', '2015-06-26T17:43:17+0000', '2015-06-26T15:33:29+0000', '2015-06-26T13:53:32+0000', '2015-06-25T22:29:50+0000', '2015-06-25T19:50:47+0000', '2015-06-25T17:21:15+0000', '2015-06-25T15:40:41+0000', '2015-06-25T15:13:35+0000', '2015-06-24T21:49:05+0000', '2015-06-24T19:50:12+0000', '2015-06-24T19:13:02+0000', '2015-06-24T19:11:29+0000', '2015-06-24T17:32:14+0000', '2015-06-24T05:37:53+0000', '2015-06-23T19:07:26+0000', '2015-06-23T18:39:58+0000', '2015-06-23T18:25:15+0000', '2015-06-23T18:05:20+0000', '2015-06-23T15:08:22+0000', '2015-06-23T00:40:55+0000', '2015-06-23T00:29:38+0000', '2015-06-22T19:41:29+0000', '2015-06-22T18:35:34+0000', '2015-06-22T17:12:16+0000', '2015-06-22T14:25:47+0000', '2015-06-21T21:01:20+0000', '2015-06-21T18:36:32+0000', '2015-06-21T18:35:38+0000', '2015-06-21T18:23:45+0000', '2015-06-21T14:56:06+0000', '2015-06-20T23:00:41+0000', '2015-06-20T12:56:08+0000', '2015-06-19T19:17:33+0000', '2015-06-19T18:38:13+0000', '2015-06-19T18:07:00+0000', '2015-06-19T17:24:14+0000', '2015-06-19T17:08:35+0000', '2015-06-19T17:03:38+0000', '2015-06-19T15:29:54+0000', '2015-06-19T13:39:48+0000', '2015-06-19T13:13:14+0000', '2015-06-18T21:26:38+0000', '2015-06-18T20:12:29+0000', '2015-06-18T18:52:57+0000', '2015-06-18T18:31:41+0000', '2015-06-18T17:59:35+0000', '2015-06-18T17:44:44+0000', '2015-06-17T21:27:32+0000', '2015-06-17T21:15:14+0000', '2015-06-17T19:34:43+0000', '2015-06-17T19:12:28+0000', '2015-06-17T18:29:02+0000', '2015-06-17T16:15:01+0000', '2015-06-17T15:28:27+0000', '2015-06-17T08:13:47+0000', '2015-06-16T18:54:52+0000', '2015-06-16T18:47:23+0000', '2015-06-16T17:37:45+0000', '2015-06-16T15:32:39+0000', '2015-06-16T13:59:40+0000', '2015-06-16T07:08:23+0000', '2015-06-15T20:59:45+0000', '2015-06-15T18:54:03+0000', '2015-06-15T18:09:49+0000', '2015-06-15T17:36:43+0000', '2015-06-15T12:41:44+0000', '2015-06-15T11:17:28+0000', '2015-06-15T10:10:18+0000', '2015-06-14T18:28:47+0000', '2015-06-13T21:59:18+0000', '2015-06-13T09:52:21+0000', '2015-06-12T17:43:57+0000', '2015-06-11T18:05:12+0000', '2015-06-11T16:58:40+0000', '2015-06-10T19:57:08+0000', '2015-06-10T18:01:50+0000', '2015-06-10T17:52:15+0000', '2015-06-09T21:03:38+0000', '2015-06-09T20:36:01+0000', '2015-06-09T12:37:00+0000', '2015-06-09T10:25:46+0000', '2015-06-08T19:03:31+0000', '2015-06-08T18:44:22+0000', '2015-06-07T19:23:52+0000', '2015-06-07T12:18:26+0000', '2015-06-05T12:40:36+0000', '2015-06-05T08:25:39+0000', '2015-06-04T22:32:20+0000', '2015-06-04T18:56:53+0000', '2015-06-03T23:52:40+0000', '2015-06-03T20:00:02+0000', '2015-06-03T18:50:43+0000', '2015-06-02T23:37:23+0000', '2015-06-02T22:54:12+0000', '2015-06-02T21:11:23+0000', '2015-06-02T18:49:05+0000', '2015-06-02T16:49:59+0000', '2015-06-02T00:14:11+0000', '2015-06-01T23:25:27+0000', '2015-06-01T18:37:42+0000', '2015-06-01T08:34:57+0000', '2015-05-31T18:42:05+0000', '2015-05-29T17:33:18+0000', '2015-05-29T15:54:59+0000', '2015-05-28T12:40:31+0000', '2015-05-27T17:19:43+0000', '2015-05-27T16:23:12+0000', '2015-05-27T00:17:03+0000', '2015-05-26T18:59:12+0000', '2015-05-25T17:33:42+0000', '2015-05-24T18:37:40+0000', '2015-05-24T12:02:09+0000', '2015-05-22T18:05:14+0000', '2015-05-20T18:09:20+0000', '2015-05-20T12:47:27+0000', '2015-05-20T08:42:20+0000', '2015-05-18T19:30:42+0000', '2015-05-18T16:06:43+0000', '2015-05-18T08:42:09+0000', '2015-05-15T17:59:52+0000', '2015-05-14T17:55:25+0000', '2015-05-13T18:07:08+0000', '2015-05-12T18:03:47+0000', '2015-05-12T16:54:02+0000', '2015-05-11T20:16:55+0000', '2015-05-11T18:44:34+0000', '2015-05-11T16:37:18+0000', '2015-05-10T15:20:17+0000', '2015-05-10T14:12:26+0000', '2015-05-10T12:41:52+0000', '2015-05-09T23:01:44+0000', '2015-05-08T17:29:04+0000', '2015-05-08T04:43:24+0000', '2015-05-07T17:37:10+0000', '2015-05-07T16:50:49+0000', '2015-05-06T18:34:08+0000', '2015-05-06T18:02:17+0000', '2015-05-06T16:51:56+0000', '2015-05-05T20:04:34+0000', '2015-05-04T11:05:27+0000', '2015-05-01T13:23:05+0000', '2015-04-30T17:27:03+0000', '2015-04-30T16:16:40+0000', '2015-04-30T15:35:41+0000', '2015-04-29T17:35:04+0000', '2015-04-28T18:36:01+0000', '2015-04-28T18:09:30+0000', '2015-04-27T19:04:34+0000', '2015-04-24T07:01:47+0000', '2015-04-23T20:13:32+0000', '2015-04-23T20:02:23+0000', '2015-04-21T18:00:01+0000', '2015-04-21T17:00:38+0000', '2015-04-20T19:42:15+0000', '2015-04-20T15:34:58+0000', '2015-04-19T15:49:40+0000', '2015-04-18T21:44:40+0000', '2015-04-17T17:17:38+0000', '2015-04-17T16:41:20+0000', '2015-04-16T23:48:31+0000', '2015-04-16T20:03:05+0000', '2015-04-16T17:54:59+0000', '2015-04-16T11:59:15+0000', '2015-04-16T11:15:33+0000', '2015-04-16T06:35:50+0000', '2015-04-15T18:10:43+0000', '2015-04-15T14:43:00+0000', '2015-04-15T13:50:29+0000', '2015-04-15T08:38:13+0000', '2015-04-12T17:18:47+0000', '2015-04-12T09:58:02+0000', '2015-04-06T23:01:04+0000', '2015-04-02T16:54:27+0000', '2015-04-02T11:28:56+0000', '2015-04-01T18:54:55+0000', '2015-03-31T17:00:45+0000', '2015-03-28T14:49:37+0000', '2015-03-27T14:51:25+0000', '2015-03-25T19:50:40+0000', '2015-03-24T17:49:44+0000', '2015-03-23T19:21:37+0000', '2015-03-20T18:23:37+0000', '2015-03-18T12:42:35+0000', '2015-03-18T12:40:10+0000', '2015-03-18T11:44:36+0000', '2015-03-18T09:25:00+0000', '2015-03-17T15:05:38+0000', '2015-03-16T17:45:23+0000', '2015-03-13T14:50:33+0000', '2015-03-12T16:51:38+0000', '2015-03-12T14:05:40+0000', '2015-03-11T20:07:35+0000', '2015-03-11T17:32:26+0000', '2015-03-11T10:50:51+0000', '2015-03-10T20:16:01+0000', '2015-03-10T15:47:46+0000', '2015-03-09T20:06:44+0000', '2015-03-09T18:17:30+0000', '2015-03-08T18:02:33+0000', '2015-03-08T14:18:10+0000', '2015-03-06T18:48:24+0000', '2015-03-06T18:46:31+0000', '2015-03-05T20:04:08+0000', '2015-03-05T16:46:58+0000', '2015-03-05T15:33:06+0000', '2015-03-04T18:41:42+0000', '2015-03-04T14:08:16+0000', '2015-03-02T14:50:45+0000', '2015-02-27T13:56:38+0000', '2015-02-27T12:10:50+0000', '2015-02-26T17:15:12+0000', '2015-02-25T19:57:47+0000', '2015-02-24T00:34:24+0000', '2015-02-22T16:35:36+0000', '2015-02-22T14:48:57+0000', '2015-02-21T19:34:24+0000', '2015-02-20T14:45:44+0000', '2015-02-20T10:53:39+0000', '2015-02-19T18:43:04+0000', '2015-02-19T12:24:36+0000', '2015-02-18T23:52:28+0000', '2015-02-18T20:36:53+0000', '2015-02-18T18:07:45+0000', '2015-02-18T14:49:13+0000', '2015-02-18T12:45:12+0000', '2015-02-18T10:21:05+0000', '2015-02-17T20:14:33+0000', '2015-02-17T18:52:09+0000', '2015-02-17T13:06:30+0000', '2015-02-17T09:30:04+0000', '2015-02-16T23:01:26+0000', '2015-02-16T13:53:42+0000', '2015-02-16T12:18:44+0000', '2015-02-16T11:24:11+0000', '2015-02-15T19:09:12+0000', '2015-02-13T19:01:44+0000', '2015-02-13T17:47:14+0000', '2015-02-13T16:46:25+0000', '2015-02-13T15:09:56+0000', '2015-02-13T12:33:02+0000', '2015-02-13T11:15:44+0000', '2015-02-12T22:26:58+0000', '2015-02-12T19:11:38+0000', '2015-02-12T11:14:00+0000', '2015-02-12T08:14:15+0000', '2015-02-11T12:20:17+0000', '2015-02-11T10:37:23+0000', '2015-02-11T01:19:43+0000', '2015-02-10T19:19:47+0000', '2015-02-10T08:36:35+0000', '2015-02-09T20:25:36+0000', '2015-02-09T17:47:39+0000', '2015-02-09T14:36:33+0000', '2015-02-08T20:00:11+0000', '2015-02-06T17:46:35+0000', '2015-02-05T22:09:00+0000', '2015-02-05T21:03:33+0000', '2015-02-05T19:32:00+0000', '2015-02-05T18:37:54+0000', '2015-02-04T16:06:17+0000', '2015-02-04T16:02:05+0000', '2015-02-04T14:11:50+0000', '2015-02-03T19:44:53+0000', '2015-02-03T17:55:43+0000', '2015-02-02T17:38:24+0000', '2015-02-01T21:52:53+0000', '2015-02-01T15:27:39+0000', '2015-02-01T00:05:00+0000', '2015-01-30T18:39:00+0000', '2015-01-30T13:21:55+0000', '2015-01-29T16:02:27+0000', '2015-01-28T20:56:18+0000', '2015-01-28T20:11:45+0000', '2015-01-28T20:05:08+0000', '2015-01-28T18:42:27+0000', '2015-01-26T20:03:50+0000', '2015-01-26T19:06:30+0000', '2015-01-26T13:33:57+0000', '2015-01-26T13:28:00+0000', '2015-01-26T08:48:18+0000', '2015-01-25T19:26:10+0000', '2015-01-25T00:05:22+0000', '2015-01-24T23:45:51+0000', '2015-01-23T20:10:14+0000', '2015-01-23T19:58:02+0000', '2015-01-23T19:06:51+0000', '2015-01-23T01:04:51+0000', '2015-01-22T20:57:18+0000', '2015-01-22T20:38:56+0000', '2015-01-22T20:30:08+0000', '2015-01-22T20:13:26+0000', '2015-01-22T19:53:10+0000', '2015-01-22T19:11:26+0000', '2015-01-22T18:22:20+0000', '2015-01-22T17:36:44+0000', '2015-01-22T14:31:14+0000', '2015-01-22T14:28:01+0000', '2015-01-22T11:33:39+0000', '2015-01-22T11:19:28+0000', '2015-01-22T09:47:45+0000', '2015-01-22T08:31:05+0000', '2015-01-22T07:59:09+0000', '2015-01-21T18:41:30+0000', '2015-01-20T20:17:09+0000', '2015-01-20T19:40:30+0000', '2015-01-20T11:39:49+0000', '2015-01-19T17:48:23+0000', '2015-01-18T16:05:23+0000', '2015-01-18T00:05:09+0000', '2015-01-15T21:26:27+0000', '2015-01-15T19:09:00+0000', '2015-01-15T13:23:34+0000', '2015-01-15T12:37:47+0000', '2015-01-14T19:28:48+0000', '2015-01-14T17:28:11+0000', '2015-01-12T17:45:14+0000', '2015-01-10T22:33:57+0000', '2015-01-09T13:42:13+0000', '2015-01-08T18:52:38+0000', '2015-01-07T19:47:00+0000', '2015-01-07T19:27:10+0000', '2015-01-05T20:15:11+0000', '2015-01-05T19:09:37+0000', '2015-01-05T14:56:10+0000', '2015-01-04T10:53:06+0000', '2015-01-04T09:05:17+0000', '2015-01-04T00:05:06+0000', '2015-01-02T22:02:00+0000', '2015-01-02T15:05:04+0000', '2014-12-28T09:05:10+0000', '2014-12-28T08:20:04+0000', '2014-12-21T09:05:10+0000', '2014-12-18T19:35:13+0000', '2014-12-14T17:35:32+0000', '2014-12-14T11:09:03+0000', '2014-12-14T09:05:08+0000', '2014-12-12T18:11:46+0000', '2014-12-12T17:58:53+0000', '2014-12-12T15:03:08+0000', '2014-12-09T17:12:20+0000', '2014-12-08T21:34:11+0000', '2014-12-04T23:01:24+0000', '2014-12-04T19:44:17+0000', '2014-12-04T17:38:57+0000', '2014-12-03T16:06:33+0000', '2014-12-01T15:14:19+0000', '2014-11-30T00:05:02+0000', '2014-11-26T20:15:02+0000', '2014-11-26T12:12:05+0000', '2014-11-23T00:05:07+0000', '2014-11-17T21:25:32+0000', '2014-11-17T10:08:53+0000', '2014-11-16T21:01:16+0000', '2014-11-16T10:43:30+0000', '2014-11-14T10:30:40+0000', '2014-11-10T00:05:08+0000', '2014-11-06T19:35:19+0000', '2014-11-06T17:13:42+0000', '2014-11-06T16:58:48+0000', '2014-10-31T17:39:27+0000', '2014-10-29T20:37:47+0000', '2014-10-26T16:14:00+0000', '2014-10-26T15:05:54+0000', '2014-10-22T16:44:37+0000']\n",
            "980\n",
            "['https://www.theguardian.com/business/2023/mar/31/eurozone-inflation-falls-sharply-as-energy-prices-drop', 'https://www.theguardian.com/business/2023/mar/22/interest-rate-rise-us-federal-reserve-banking-turmoil', 'https://www.theguardian.com/business/2023/mar/17/credit-suisse-shares-continue-to-fall-despite-efforts-to-calm-nerves', 'https://www.theguardian.com/business/2023/mar/16/ecb-raises-interest-rates-despite-banking-fears-credit-suisse', 'https://www.theguardian.com/business/2023/mar/16/ecb-interest-rate-rise-credit-suisse-european-central-bank', 'https://www.theguardian.com/business/2023/mar/02/ecb-looking-out-for-price-gouging-greedflation-price-rises-eurozone-inflation-profit-margins', 'https://www.theguardian.com/business/live/2023/jan/20/davos-day-4-global-economic-outlook-russia-economy-ai-business-live', 'https://www.theguardian.com/business/2023/jan/20/climate-economic-stability-central-bankers', 'https://www.theguardian.com/business/2023/jan/10/world-bank-walking-tightrope-as-it-mulls-increased-lending-to-poorest', 'https://www.theguardian.com/business/2022/dec/26/the-pendulum-swung-against-globalisation-in-2022-and-thats-no-bad-thing', 'https://www.theguardian.com/business/2022/dec/07/city-faces-fresh-post-brexit-blow-as-eu-moves-to-restrict-certain-trades', 'https://www.theguardian.com/business/2022/nov/30/federal-reserve-pace-increments-extend-higher-points-period', 'https://www.theguardian.com/business/2022/oct/27/european-central-bank-hikes-interest-rate-recession-fears-ecb-eurozone-inflation', 'https://www.theguardian.com/environment/2022/sep/28/worlds-central-banks-financing-destruction-of-the-rainforest', 'https://www.theguardian.com/business/2022/sep/21/fed-raises-interest-rates-third-increase-in-row', 'https://www.theguardian.com/business/2022/sep/10/central-bankers-talk-tough-but-they-cant-fight-inflation-like-this', 'https://www.theguardian.com/business/2022/sep/09/eurozone-interest-rates-must-continue-to-rise-says-european-central-bank-inflation', 'https://www.theguardian.com/business/live/2022/sep/08/markets-pound-uk-energy-relief-package-inflation-ecb-rate-rise-business-live', 'https://www.theguardian.com/business/2022/sep/08/ecb-european-central-bank-interest-rates-eurozone', 'https://www.theguardian.com/business/2022/aug/12/the-bank-of-england-after-boris-johnson-should-inflation-target-be-raised', 'https://www.theguardian.com/commentisfree/2022/jul/24/the-guardian-view-on-italy-after-draghi-there-may-be-trouble-ahead', 'https://www.theguardian.com/commentisfree/2022/jul/22/the-guardian-view-on-european-democracy-central-bankers-are-villains-and-heroes', 'https://www.theguardian.com/business/nils-pratley-on-finance/2022/jul/21/s4-capitals-share-slump-means-sir-martin-sorrell-has-a-crisis-on-his-hands', 'https://www.theguardian.com/business/2022/jul/21/european-central-bank-raises-interest-rates-for-first-time-in-11-years', 'https://www.theguardian.com/business/2022/jul/21/interest-rates-the-three-central-banks-facing-one-tricky-balancing-act', 'https://www.theguardian.com/commentisfree/2022/jul/18/the-guardian-view-on-italys-political-crisis-draghi-should-stay-for-now', 'https://www.theguardian.com/business/live/2022/jul/12/euro-dollar-parity-russia-gas-ftse-stock-markets-recession-strikes-business-live', 'https://www.theguardian.com/business/2022/jul/01/inflation-in-eurozone-hits-record-86-as-ukraine-war-continues', 'https://www.theguardian.com/business/2022/jun/29/central-bank-heads-warn-world-economy-faces-new-inflationary-era', 'https://www.theguardian.com/business/live/2022/jun/28/heathrow-airport-landing-charges-caa-strikes-cost-of-living-ecb-stock-markets-business-live', 'https://www.theguardian.com/business/2022/jun/28/central-bank-fed-ecb-bank-england', 'https://www.theguardian.com/business/2022/jun/26/history-turns-full-circle-as-g7-alarm-bells-ring-over-energy-once-again', 'https://www.theguardian.com/business/2022/jun/17/fight-against-inflation-raises-spectre-of-global-recession', 'https://www.theguardian.com/business/nils-pratley-on-finance/2022/jun/15/why-is-the-ecb-still-fiddling-over-a-potential-eurozone-crisis', 'https://www.theguardian.com/business/2022/jun/15/markets-brace-rise-us-interest-rates-federal-reserve-borrowing-inflation', 'https://www.theguardian.com/commentisfree/2022/jun/11/technocrats-cant-think-beyond-six-years-whatever-climate-nut-jobs-think', 'https://www.theguardian.com/business/live/2022/jun/09/uk-economic-growth-house-buyers-petrol-oil-european-central-bank-business-live', 'https://www.theguardian.com/business/2022/jun/09/european-central-bank-to-raise-interest-rates-for-first-time-since-2011-inflation', 'https://www.theguardian.com/business/2022/may/08/rishi-sunak-can-fight-recession-risks-with-a-cost-of-living-support-package', 'https://www.theguardian.com/business/live/2022/apr/14/easter-travel-disruption-roads-rail-sea-airports-po-ferries-ecb-stock-markets-business-live', 'https://www.theguardian.com/business/2022/apr/10/high-prices-low-growth-nip-interest-rate-rises-in-bud', 'https://www.theguardian.com/business/2022/mar/06/bank-puts-covid-behind-it-but-faces-repercussions-of-war', 'https://www.theguardian.com/business/2022/mar/03/london-stock-exchange-suspends-trading-in-27-firms-with-strong-links-to-russia', 'https://www.theguardian.com/business/2022/mar/02/russia-sberbank-pulls-out-of-europe-after-facing-failure-amid-sanctions', 'https://www.theguardian.com/business/2021/dec/06/euro-banknotes-first-big-redesign-19-nation-central-bank', 'https://www.theguardian.com/business/2021/nov/30/inflation-in-eurozone-soars-to-49-highest-on-record', 'https://www.theguardian.com/business/2021/nov/26/markets-warn-central-banks-get-grip-on-inflation-interest-rates', 'https://www.theguardian.com/business/2021/nov/26/how-worlds-major-economies-are-dealing-with-spectre-of-inflation', 'https://www.theguardian.com/business/2021/oct/28/yes-its-expensive-but-failing-to-meet-climate-challenge-will-cost-a-lot-more', 'https://www.theguardian.com/uk-news/live/2021/oct/28/rishi-sunak-budget-flat-recovery-shell-profits-business-live', 'https://www.theguardian.com/business/live/2021/sep/09/growth-worries-hit-markets-fed-ecb-ftse-sterling-slowdown-supply-chains-easyjet-business-live', 'https://www.theguardian.com/business/live/2021/jul/22/uk-government-natwest-sale-pingdemic-uk-factories-ecb-meeting-inflation-stock-markets-ftse-business-live', 'https://www.theguardian.com/business/2021/jul/21/central-banks-cant-reduce-inequality-its-time-for-ministers-to-act', 'https://www.theguardian.com/business/2021/jul/08/european-central-bank-shift-inflation-target-upwards-two-per-cent', 'https://www.theguardian.com/business/2021/jul/02/1970s-stagflation-2008-debt-crisis-global-economy', 'https://www.theguardian.com/business/live/2021/jun/10/markets-us-inflation-european-central-bank-meeting-ftse-sterling-covid-uk-economy-bt-altice-business-live', 'https://www.theguardian.com/world/2021/jun/09/eu-launches-legal-case-against-germany-over-alleged-breach-of-eu-law-primacy-principle', 'https://www.theguardian.com/business/live/2021/apr/22/credit-suisse-loss-ecb-markets-uk-factories-us-jobless-business-live', 'https://www.theguardian.com/business/live/2021/apr/08/ftse-100-federal-reserve-markets-coronavirus-covid-19-european-central-bank-ecb-gfg-gupta-business-live', 'https://www.theguardian.com/business/2021/mar/24/why-is-no-one-in-europe-talking-about-dangers-of-rising-inflation', 'https://www.theguardian.com/business/live/2021/mar/11/us-stimulus-markets-ecb-meeting-rolls-royce-john-lewis-ftse-dow-business-live', 'https://www.theguardian.com/world/2021/feb/13/mario-draghi-sworn-in-as-prime-minister-of-italy', 'https://www.theguardian.com/world/2021/feb/12/mario-draghis-new-italian-government-to-be-sworn-in-on-saturday', 'https://www.theguardian.com/business/2021/feb/10/central-banks-arent-what-they-used-to-be-and-the-better-for-it', 'https://www.theguardian.com/business/live/2020/dec/10/uk-economy-gdp-october-covid-19-pound-brexit-ecb-stimulus-business-live', 'https://www.theguardian.com/world/2020/nov/14/covid-vaccine-rally-fuels-market-optimism-of-a-faster-global-recovery', 'https://www.theguardian.com/business/live/2020/oct/29/markets-nervous-covid-19-lockdowns-us-gdp-growth-ecb-unemployment-business-live', 'https://www.theguardian.com/business/2020/oct/07/central-bank-covid-donald-trump-stimulus-package', 'https://www.theguardian.com/commentisfree/2020/sep/25/the-guardian-view-on-the-eu-economy-adopt-not-outlaw-keynesian-policies', 'https://www.theguardian.com/business/live/2020/sep/10/markets-european-central-bank-lagarde-euro-ftse-pound-covid-19-us-unemployment-business-live', 'https://www.theguardian.com/commentisfree/2020/sep/09/central-banks-deflation-covid-19-world-economy', 'https://www.theguardian.com/business/2020/aug/13/forget-doom-laden-headlines-the-dollar-has-not-gone-into-terminal-decline', 'https://www.theguardian.com/business/2020/jul/31/eurozone-economy-shrinks-by-record-121-due-to-coronavirus-crisis', 'https://www.theguardian.com/commentisfree/2020/jul/24/the-guardian-view-on-the-eu-budget-hitting-the-wrong-notes-in-hamilton', 'https://www.theguardian.com/world/2020/jul/22/female-leaders-have-been-better-at-tackling-covid-19-says-ecb-chief', 'https://www.theguardian.com/commentisfree/2020/jul/22/recovery-deal-eu-unifying-economic-boost-integration', 'https://www.theguardian.com/business/live/2020/jul/16/china-avoids-covid-19-recession-unemployment-us-uk-ecb-markets-business-live', 'https://www.theguardian.com/business/2020/jul/12/boohoo-investors-selling-shares-now-could-have-intervened-much-earlier', 'https://www.theguardian.com/commentisfree/2020/jun/18/central-banks-pumped-money-economy-democracy-fairer-society', 'https://www.theguardian.com/business/nils-pratley-on-finance/2020/jun/17/pity-the-central-banks-lockdown-dilemma-do-they-fight-inflation-or-deflation', 'https://www.theguardian.com/business/live/2020/jun/04/covid-19-uk-car-sales-aston-martin-lookers-ecb-christine-lagarde-interest-rate-sterling-dollar-euro-business-live', 'https://www.theguardian.com/business/2020/jun/04/ecb-agrees-to-inject-additional-600bn-into-eurozone-economy', 'https://www.theguardian.com/business/2020/may/31/christine-lagarde-eurozone-coronavirus-rescue-boost-german-unease', 'https://www.theguardian.com/business/2020/may/28/lack-of-international-cooperation-will-hinder-economic-recovery-coronavirus', 'https://www.theguardian.com/world/2020/may/26/franco-german-plan-for-european-recovery-will-face-compromises', 'https://www.theguardian.com/world/2020/may/11/merkel-intervenes-in-damaging-row-between-germany-and-brussels', 'https://www.theguardian.com/business/2020/may/05/global-stock-markets-brent-crude-oil-consumption', 'https://www.theguardian.com/business/2020/may/05/jolt-to-eurozone-as-german-court-warns-against-central-bank-stimulus', 'https://www.theguardian.com/commentisfree/2020/apr/28/eu-coronavirus-fund-share-crisis-soul-european-parliament-fiscal', 'https://www.theguardian.com/business/2020/apr/26/us-europe-eu-financial-crises-coronabonds-federal-reserve-congress', 'https://www.theguardian.com/business/2020/apr/14/how-coronavirus-almost-brought-down-the-global-financial-system', 'https://www.theguardian.com/business/2020/apr/09/eu-risks-break-up-over-coronabonds-row-warns-italian-pm', 'https://www.theguardian.com/business/2020/apr/07/investors-clamour-for-safe-haven-in-uk-government-bonds', 'https://www.theguardian.com/business/2020/mar/29/the-coronavirus-crisis-has-brought-the-eus-failings-into-sharp-relief', 'https://www.theguardian.com/commentisfree/2020/mar/25/shock-coronavirus-split-europe-nations-share-burden', 'https://www.theguardian.com/business/live/2020/mar/19/stock-markets-fall-ecb-coronavirus-stimulus-sterling-oil-prices-ftse-dollar-business-live', 'https://www.theguardian.com/world/2020/mar/19/ecb-u-turn-shows-it-fears-coronavirus-could-destroy-eurozone-project', 'https://www.theguardian.com/world/2020/mar/19/ecb-asset-purchase-programme-boosts-euro', 'https://www.theguardian.com/commentisfree/2020/mar/17/italy-europe-covid-economy-ecb-coronavirus', 'https://www.theguardian.com/business/2020/mar/13/markets-rebound-after-worst-day-since-1987-amid-coronavirus-panic-ftse-100-dow-jones-wall-street', 'https://www.theguardian.com/world/2020/mar/12/ecb-announces-plan-to-help-eurozone-banks-withstand-coronavirus', 'https://www.theguardian.com/business/2020/mar/12/us-and-european-markets-plunge-further-after-trump-travel-ban', 'https://www.theguardian.com/world/2020/mar/12/ecbs-plan-to-support-eurozone-banks-is-underwhelming', 'https://www.theguardian.com/world/2020/mar/11/coronavirus-could-cause-crash-on-scale-of-2008-lagarde-warns', 'https://www.theguardian.com/world/2020/mar/10/an-italian-financial-crisis-is-certain-the-big-question-is-how-contagious-it-is', 'https://www.theguardian.com/business/2020/mar/07/economic-race-to-stop-victim-coronavirus-central-bankers', 'https://www.theguardian.com/business/2020/feb/28/from-the-fed-to-bank-of-england-central-banks-must-up-their-game', 'https://www.theguardian.com/business/2020/jan/23/who-pays-for-the-eus-1tn-green-deal', 'https://www.theguardian.com/technology/2020/jan/21/bank-of-england-to-consider-adopting-cryptocurrency', 'https://www.theguardian.com/business/2020/jan/14/ecb-christine-lagarde-central-bank-monetary-policy', 'https://www.theguardian.com/business/2020/jan/10/central-banks-are-now-the-markets-best-friends', 'https://www.theguardian.com/business/2020/jan/01/us-election-brexit-and-china-to-sway-the-markets-in-2020', 'https://www.theguardian.com/business/2019/dec/31/flotations-corporate-collapses-and-brexit-the-year-in-business', 'https://www.theguardian.com/business/live/2019/dec/12/christine-lagarde-ecb-meeting-rates-aramco-ftse-business-live', 'https://www.theguardian.com/business/2019/dec/12/wise-owl-lagarde-may-inject-fresh-tranche-of-cash-into-eurozone', 'https://www.theguardian.com/business/2019/dec/10/eurozone-economy-budget-deficits-germany-borrowing', 'https://www.theguardian.com/business/2019/dec/08/economic-conditions-favour-the-left-so-why-is-labour-not-expected-to-win-with-ease', 'https://www.theguardian.com/world/2019/dec/02/christine-lagarde-ecb-should-do-more-to-tackle-climate-emergency', 'https://www.theguardian.com/world/2019/nov/22/christine-lagarde-calls-for-more-public-investment-in-first-ecb-speech', 'https://www.theguardian.com/business/2019/nov/22/germanys-risk-averse-savers-grapple-with-negative-interest-rates', 'https://www.theguardian.com/business/2019/oct/24/germany-eurozone-stagnation-economy-output-recession', 'https://www.theguardian.com/commentisfree/2019/oct/01/the-guardian-view-on-eurozone-populism-fight-it-with-fiscal-firepower', 'https://www.theguardian.com/business/2019/sep/30/christine-lagarde-europ-economy-ecb', 'https://www.theguardian.com/business/2019/sep/18/ecb-europe-donald-trump-interest-rates-qe', 'https://www.theguardian.com/business/2019/sep/15/blackouts-energy-network-companies-raise-questions-profits-power', 'https://www.theguardian.com/business/live/2019/sep/12/trump-delays-tariffs-markets-ecb-stimulus-package-qe-mario-draghi-business-live', 'https://www.theguardian.com/business/2019/sep/12/ecb-announces-fresh-stimulus-as-eurozone-economy-falters', 'https://www.theguardian.com/business/live/2019/sep/11/sovereign-bond-yields-trade-war-brexit-annuities-ecb-business-live', 'https://www.theguardian.com/business/2019/sep/08/europe-central-bank-interest-rates-recession-germany', 'https://www.theguardian.com/business/live/2019/sep/06/germany-industrial-eurozone-recession-brexit-sterling-non-farm-payrolls-us-dollar-jobs-report-business-live', 'https://www.theguardian.com/business/2019/sep/05/events-dear-boy-events-how-politics-is-making-markets-volatile', 'https://www.theguardian.com/business/live/2019/aug/16/markets-recover-central-banks-bazooka-ecb-sterling-ftse-business-live', 'https://www.theguardian.com/business/2019/aug/13/trump-adds-a-dismal-dimension-to-the-us-china-trade-dispute', 'https://www.theguardian.com/business/2019/jul/31/mario-draghi-lays-out-plan-for-a-dangerous-round-of-stimulus', 'https://www.theguardian.com/business/2019/jul/28/why-trump-prefers-mario-draghi-over-jerome-powell', 'https://www.theguardian.com/business/2019/jul/27/sports-direct-life-hard-retailers-crisis-ashley-own-making', 'https://www.theguardian.com/business/live/2019/jul/26/asian-shares-stock-markets-ecb-economy-sterling-pound-euro-dollar-us-gdp-growth-business-live', 'https://www.theguardian.com/business/2019/jul/25/ecb-signals-it-will-move-to-boost-growth-amid-fears-of-low-inflation', 'https://www.theguardian.com/business/live/2019/jul/25/investors-ecb-european-central-bank-economic-stimulus-brexit-interest-rates-euro-sterling-pound-dollar-business-live', 'https://www.theguardian.com/business/2019/jul/22/have-central-bank-gambles-paid-off', 'https://www.theguardian.com/commentisfree/2019/jul/15/christine-lagarde-ecb-berlin-eurozone-yanis-varoufakis', 'https://www.theguardian.com/business/2019/jul/14/will-mark-carney-and-george-osborne-vie-for-the-top-imf-job', 'https://www.theguardian.com/commentisfree/picture/2019/jul/10/andrzej-krauze-on-top-eu-jobs-cartoon', 'https://www.theguardian.com/business/2019/jul/09/christine-lagardes-arrival-would-be-ideal-time-for-ecb-review', 'https://www.theguardian.com/business/2019/jul/06/easy-money-wont-solve-christine-lagardes-economic-problems', 'https://www.theguardian.com/business/2019/jul/03/share-prices-rally-at-lagardes-nomination-as-ecb-president', 'https://www.theguardian.com/business/2019/jul/03/christine-lagarde-the-key-issues-she-must-address-at-ecb-', 'https://www.theguardian.com/business/live/2019/jul/03/eurozone-bond-christine-lagarde-ecb-services-business-live', 'https://www.theguardian.com/world/2019/jul/02/christine-lagarde-faces-ecb-test-of-legendary-diplomatic-skills', 'https://www.theguardian.com/world/2019/jul/02/women-to-head-top-eu-institutions-for-first-time', 'https://www.theguardian.com/business/2019/jul/02/trade-wars-could-shipwreck-global-economy-warns-mark-carney', 'https://www.theguardian.com/business/2019/jun/23/trade-wars-roosevelt-realised-truth-trump-eurozone', 'https://www.theguardian.com/business/2019/jun/18/donald-trump-attacks-ecb-for-currency-manipulation', 'https://www.theguardian.com/business/2019/jun/11/quantitative-easing-qe-recession', 'https://www.theguardian.com/business/live/2019/jun/06/car-industry-ford-bridgend-fiat-renault-trade-trump-xi-ecb-draghi-business-live', 'https://www.theguardian.com/business/2019/may/29/european-central-bank-contenders-to-replace-mario-draghi', 'https://www.theguardian.com/business/live/2019/may/28/eu-leaders-meet-in-brussels-to-discuss-top-jobs-business-live', 'https://www.theguardian.com/business/2019/apr/30/eurozone-growth-rate-makes-surprise-rally-after-gloomy-forecasts', 'https://www.theguardian.com/business/2019/mar/24/the-europe-union-has-bigger-problems-to-deal-with-than-brexit', 'https://www.theguardian.com/business/2019/mar/17/as-recession-looms-could-mmt-be-the-unorthodox-solution-modern-monetary-theory', 'https://www.theguardian.com/business/2019/mar/07/ecb-to-keep-interest-rates-low-recession-fears-eurozone-banks', 'https://www.theguardian.com/business/live/2019/mar/07/ecb-eurozone-gdp-economy-business-live', 'https://www.theguardian.com/money/2018/dec/22/lithuania-iceland-banking-revolut', 'https://www.theguardian.com/business/2018/dec/13/ecb-to-halt-stimulus-pprogramme-despite-eurozone-slowdown-concerns', 'https://www.theguardian.com/business/live/2018/dec/13/italian-bonds-rome-eu-italy-budget-ecb-mario-draghi-qe-business-live', 'https://www.theguardian.com/business/2018/dec/06/central-bank-warnings-are-getting-louder-and-more-frequent-howard-davies', 'https://www.theguardian.com/world/2018/nov/05/pilatus-bank-malta-european-banking-licence-withdrawn', 'https://www.theguardian.com/business/2018/oct/30/eurozone-growth-slumps-to-lowest-level-in-over-four-years', 'https://www.theguardian.com/business/live/2018/oct/25/market-sell-off-ftse-europe-asia-bear-market-ecb-mario-draghi-business-live', 'https://www.theguardian.com/business/2018/oct/07/austerity-is-the-wrong-prescription-for-the-world-wellbeing', 'https://www.theguardian.com/business/2018/oct/02/italian-deputy-pm-threatens-to-sue-eu-boss-over-budget-criticism', 'https://www.theguardian.com/business/live/2018/sep/13/bank-of-england-ecb-turkey-interest-rate-decisions-john-lewis-profits-tumble-business-live', 'https://www.theguardian.com/business/live/2018/aug/23/markets-nervous-amid-new-us-china-tariffs-and-trumps-troubles-business-live', 'https://www.theguardian.com/commentisfree/2018/aug/21/greece-europe-eu-austerity', 'https://www.theguardian.com/business/live/2018/aug/20/greece-exits-bailout-programme-after-eight-years-but-turkish-fears-remain-business-live', 'https://www.theguardian.com/commentisfree/2018/aug/03/raising-interest-rates-mpc-wage-growth', 'https://www.theguardian.com/business/2018/jul/31/is-this-the-end-of-the-road-for-the-euro', 'https://www.theguardian.com/business/live/2018/jul/26/trade-war-truce-us-eu-trump-juncker-ecb-mario-draghi-business-live', 'https://www.theguardian.com/business/2018/jul/11/pounds-unexpected-robustness-may-point-to-underlying-strength', 'https://www.theguardian.com/commentisfree/2018/jul/09/greece-alexis-tsipras-syriza-austerity-eu', 'https://www.theguardian.com/business/2018/jun/17/us-fed-rushes-in-where-ecb-fears-to-tread', 'https://www.theguardian.com/business/live/2018/jun/14/ecb-qe-stimulus-mario-draghi-fed-rate-hike-uk-retail-sales-business-live', 'https://www.theguardian.com/business/2018/jun/14/ecb-calls-halt-to-quantitative-easing-despite-soft-euro', 'https://www.theguardian.com/business/2018/jun/11/no-excuses-slump-in-uk-manufacturing-is-dismal-news', 'https://www.theguardian.com/business/live/2018/may/31/market-rebound-italian-fears-ease-business-live', 'https://www.theguardian.com/commentisfree/2018/may/30/italy-brussels-descent-abyss-eu-economics', 'https://www.theguardian.com/commentisfree/picture/2018/may/29/steve-bell-on-eu-fears-about-rising-populism-in-italy-cartoon', 'https://www.theguardian.com/business/nils-pratley-on-finance/2018/may/14/uk-bookies-beware-us-will-look-after-its-own-in-betting-revolution', 'https://www.theguardian.com/business/2018/apr/27/bank-of-england-and-ecb-set-up-group-to-address-brexit-fears', 'https://www.theguardian.com/business/live/2018/apr/26/tsb-crisis-bank-waives-overdraft-fees-paul-pester-ecb-mario-draghi-business-live', 'https://www.theguardian.com/business/live/2018/apr/12/oil-soars-to-three-year-high-on-growing-middle-east-tensions-business-live', 'https://www.theguardian.com/business/live/2018/apr/11/european-stock-markets-imf-head-christine-lagarde-warns-on-trade-wars-business-live', 'https://www.theguardian.com/business/live/2018/mar/08/chinese-exports-trade-wars-trump-tariffs-ecb-mario-draghi-business-live', 'https://www.theguardian.com/technology/2018/feb/26/eu-finance-head-regulate-bitcoin-cryptocurrencies-risks', 'https://www.theguardian.com/business/2018/feb/19/ecbs-latvian-representative-detained-in-bribery-case', 'https://www.theguardian.com/business/live/2018/feb/15/stock-markets-investors-inflation-ftse-pound-us-jobs-factories-business-live', 'https://www.theguardian.com/technology/2018/feb/08/ecb-official-backs-bitcoin-clampdown', 'https://www.theguardian.com/business/2018/feb/05/why-are-global-stock-markets-falling', 'https://www.theguardian.com/business/2018/feb/01/global-demand-propels-eurozone-factories-into-full-throttle-mode', 'https://www.theguardian.com/business/2018/jan/29/how-to-start-paying-off-southern-europes-debts', 'https://www.theguardian.com/business/2018/jan/17/mario-draghi-ecb-drop-membership-secretive-bankers-g30-club', 'https://www.theguardian.com/business/live/2017/dec/14/bank-of-england-ecb-meetings-interest-rates-retail-sales-business-live', 'https://www.theguardian.com/business/2017/dec/11/uk-business-investment-on-ice-until-more-brexit-progress-warns-bcc', 'https://www.theguardian.com/business/live/2017/nov/17/pound-bounces-amid-sharp-dollar-sell-off-business-live', 'https://www.theguardian.com/business/2017/nov/15/ecb-criticises-banks-relocation-plans-brexit-euro-area', 'https://www.theguardian.com/business/2017/nov/15/banks-brexit-games-raise-hackles-ecb-mario-draghi', 'https://www.theguardian.com/business/2017/nov/10/central-banks-are-back-in-the-dock-but-they-must-be-found-not-guilty', 'https://www.theguardian.com/business/2017/nov/09/eu-cuts-uk-growth-forecast-as-eurozone-motors-ahead', 'https://www.theguardian.com/business/2017/oct/26/ecb-to-halve-bond-buying-as-it-plans-to-scale-back-quantitative-easing', 'https://www.theguardian.com/business/2017/oct/04/ecb-banks-bad-debt-eurozone-problem-loans', 'https://www.theguardian.com/commentisfree/2017/sep/28/the-guardian-view-on-brexit-and-the-bank-the-challenge-of-populism', 'https://www.theguardian.com/business/2017/sep/19/why-central-banks-are-not-hitting-their-2-inflation-target', 'https://www.theguardian.com/business/2017/sep/16/the-eurozone-strikes-back-why-europe-is-booming-again', 'https://www.theguardian.com/politics/2017/sep/13/philip-hammond-tells-the-city-he-will-protect-its-global-position', 'https://www.theguardian.com/business/2017/sep/11/macron-merkel-eurozone-france-germany', 'https://www.theguardian.com/business/live/2017/sep/08/ecb-stimulus-signal-pushes-euro-higher-business-live', 'https://www.theguardian.com/business/live/2017/sep/07/markets-euro-european-central-bank-mario-draghi-stimulus-business-live', 'https://www.theguardian.com/business/2017/sep/06/eurozone-european-interest-rates-deutsche-bank-john-cryan-ecb-meeting', 'https://www.theguardian.com/business/live/2017/aug/30/markets-recover-after-korea-shock-and-ahead-of-us-gdp-business-live', 'https://www.theguardian.com/business/2017/aug/27/central-banks-governments-debt-spending-investment', 'https://www.theguardian.com/business/live/2017/aug/25/sterling-markets-jackson-hole-bankers-janet-yellen-live', 'https://www.theguardian.com/business/live/2017/aug/24/pound-dips-again-ahead-of-uk-gdp-figures-business-live', 'https://www.theguardian.com/business/2017/aug/23/why-ecb-president-is-still-flooding-the-system-with-cheap-money', 'https://www.theguardian.com/business/live/2017/aug/23/markets-mixed-ahead-of-eurozone-health-check-and-draghi-speech-live', 'https://www.theguardian.com/business/live/2017/aug/21/markets-cautious-ahead-of-key-week-for-central-banks-business-live', 'https://www.theguardian.com/business/2017/aug/20/global-investors-look-to-jackson-hole-for-signs-of-how-qe-will-end', 'https://www.theguardian.com/business/2017/jul/24/greece-return-bond-market-austerity-eurozone', 'https://www.theguardian.com/business/2017/jul/21/britons-travelling-to-europe-offered-just-88-euro-cents-to-the-pound', 'https://www.theguardian.com/business/live/2017/jul/21/euro-two-year-high-city-uk-public-finances-pound-ftse-business-live', 'https://www.theguardian.com/business/live/2017/jul/20/markets-ecb-meeting-mario-draghi-european-central-bank-stimulus-business-live', 'https://www.theguardian.com/business/2017/jul/20/shares-in-asia-head-for-10-year-high-on-back-of-us-profit-surge', 'https://www.theguardian.com/business/2017/jul/02/horror-stories-of-central-bankers-have-no-interest-rate-shock', 'https://www.theguardian.com/business/live/2017/jun/27/bank-of-england-financial-stability-draghi-ecb-google-fine-europe-janet-yellen-business-live', 'https://www.theguardian.com/business/live/2017/jun/23/french-growth-revised-up-eurozone-companies-canadian-inflation-business-live', 'https://www.theguardian.com/business/2017/jun/23/london-ecb-euro-clearing-brexit-european-central-bank', 'https://www.theguardian.com/commentisfree/2017/jun/18/brexit-europe-eu-golden-decade-merkel-macron', 'https://www.theguardian.com/business/nils-pratley-on-finance/2017/jun/13/as-with-everything-brexit-the-battle-for-the-city-will-be-messy', 'https://www.theguardian.com/business/2017/jun/08/take-a-bow-mario-draghi-has-ecb-chief-saved-eurozone', 'https://www.theguardian.com/business/2017/jun/07/santander-rbs-royal-bank-scotland-haunted-ghost-financial-crisis-past', 'https://www.theguardian.com/business/2017/jun/07/santander-deal-looks-better-for-the-regulators-than-for-the-buyer', 'https://www.theguardian.com/business/2017/may/16/global-stock-markets-whats-driving-the-rise-and-will-it-continue', 'https://www.theguardian.com/world/2017/apr/30/wolfgang-schauble-german-finance-minister-greek-economic-reforms-bailout-funds', 'https://www.theguardian.com/business/2017/apr/30/end-of-opec-wind-wave-shale-converge-oil', 'https://www.theguardian.com/business/live/2017/apr/27/markets-trump-tax-plan-european-central-bank-draghi-business-live', 'https://www.theguardian.com/business/2017/apr/24/stock-markets-surge-after-french-election-result', 'https://www.theguardian.com/business/2017/apr/06/imf-study-warns-low-interest-rates-threaten-global-financial-sector', 'https://www.theguardian.com/business/live/2017/mar/09/ecb-rate-decision-qe-mario-draghi-markets-euro-business-live', 'https://www.theguardian.com/business/2017/mar/05/greece-growth-bailout-funds-syriza-world-bank', 'https://www.theguardian.com/business/2017/feb/10/no-crisis-greece-bailout-deal-says-eurozone-chief-dutch-finance-minister-jeroen-dijsselbloem-emergency-meeting', 'https://www.theguardian.com/world/2017/feb/08/trump-envoy-declares-odds-on-greece-will-break-from-euro', 'https://www.theguardian.com/business/nils-pratley-on-finance/2017/feb/06/trump-banking-rules-ecb-mario-draghi-dodd-frank', 'https://www.theguardian.com/us-news/2017/feb/03/european-union-leaders-warily-await-donald-trump-ambassador-choice-ted-malloch', 'https://www.theguardian.com/business/2017/jan/03/global-regulators-postpone-pivotal-banking-reform-meeting', 'https://www.theguardian.com/business/2016/dec/28/global-banking-standards-treacherous-political-water-basel-us-europe-regulation', 'https://www.theguardian.com/business/2016/dec/27/monte-dei-paschi-shortfall-8bn-ecb-says', 'https://www.theguardian.com/business/2016/dec/26/monte-dei-paschi-bailout-shouldnt-be-seen-as-a-done-deal-says-ecb-member', 'https://www.theguardian.com/business/2016/dec/21/italys-20bn-bailout-fund-to-rescue-monte-dei-paschi-di-siena', 'https://www.theguardian.com/world/2016/dec/19/moodys-concern-delay-greece-debt-relief-alexis-tsipras-ecb', 'https://www.theguardian.com/world/2016/dec/13/greece-eu-imf-war-of-words-debt-relief-plan-tsipras-austerity', 'https://www.theguardian.com/business/2016/dec/12/italy-monte-dei-paschi-di-siena-rescue-banks', 'https://www.theguardian.com/business/2016/dec/11/monte-dei-paschi-siena-emergency-cash-injection-european-central-bank', 'https://www.theguardian.com/world/2016/dec/09/crisis-hit-monte-dei-paschi-bank-refused-ecb-help', 'https://www.theguardian.com/business/2016/dec/09/monte-dei-paschi-bailout-worlds-oldest-bank-eu', 'https://www.theguardian.com/business/live/2016/dec/09/markets-boosted-as-ecb-pledges-to-do-more-if-necessary-business-live', 'https://www.theguardian.com/environment/2016/dec/09/ecbs-quantitative-easing-programme-investing-billions-in-fossil-fuels', 'https://www.theguardian.com/business/2016/dec/08/ecb-surprises-markets-by-scaling-back-qe', 'https://www.theguardian.com/business/live/2016/dec/08/ecb-stimulus-qe-draghi-italy-bank-rescue-business-live', 'https://www.theguardian.com/business/2016/dec/05/euro-falls-to-20-month-low-after-italy-referendum-defeat', 'https://www.theguardian.com/world/2016/dec/01/italy-referendum-q-and-a-economic-questions-answered', 'https://www.theguardian.com/business/2016/nov/28/ecbs-mario-draghi-urges-uk-to-disclose-brexit-plans', 'https://www.theguardian.com/business/live/2016/nov/18/euro-in-record-losing-streak-against-the-dollar-business-live', 'https://www.theguardian.com/business/2016/nov/17/brexit-unlikely-to-mean-loss-of-citys-role-in-processing-deals-in-euros', 'https://www.theguardian.com/world/2016/nov/15/ireland-draft-plan-eu-breakup-frexit', 'https://www.theguardian.com/us-news/2016/nov/13/barack-obama-calls-for-meaningful-debt-relief-for-greece', 'https://www.theguardian.com/business/2016/oct/23/prepare-for-the-next-recession-while-you-can', 'https://www.theguardian.com/business/2016/oct/20/european-banks-warn-off-political-intrusion', 'https://www.theguardian.com/business/live/2016/oct/20/markets-ecb-meeting-mario-draghi-uk-retail-sales-brexit-business-live', 'https://www.theguardian.com/world/2016/oct/16/eu-and-imf-auditors-to-visit-athens-as-greeces-agony-continues', 'https://www.theguardian.com/world/2016/oct/10/eurogroup-eurozone-ministers-greece-loans', 'https://www.theguardian.com/business/2016/sep/23/100000-clearing-jobs-at-risk-from-brexit-vote-stock-exchange-chief', 'https://www.theguardian.com/world/2016/sep/18/hard-brexit-will-cost-city-of-london-its-hub-status-warns-bundesbank-boss', 'https://www.theguardian.com/world/2016/sep/11/alexis-tsipras-greece-criticises-creditors-thessaloniki', 'https://www.theguardian.com/business/live/2016/sep/08/ecb-mario-draghi-stimulus-qe-euro-brexit-business-live', 'https://www.theguardian.com/business/2016/sep/08/ecb-keeps-interest-rates-at-0', 'https://www.theguardian.com/business/2016/sep/06/eurozone-consumer-spending-slows-but-exports-rise', 'https://www.theguardian.com/business/live/2016/aug/31/eurozone-inflation-to-offer-clues-on-ecbs-next-move-business-live', 'https://www.theguardian.com/business/2016/aug/31/eurozone-core-inflation-falls-july-ecb-stimulus-measures', 'https://www.theguardian.com/business/2016/aug/25/jackson-hole-2016-five-big-problems-facing-central-bankers', 'https://www.theguardian.com/business/2016/aug/22/seven-changes-needed-to-save-the-euro-and-the-eu', 'https://www.theguardian.com/business/2016/aug/13/greek-economy-still-spiralling-down-year-after-crisis-declared-over', 'https://www.theguardian.com/world/2016/aug/01/greece-ease-capital-controls-reverse-currency-flight-eurozone', 'https://www.theguardian.com/business/2016/jul/21/ecb-european-central-bank-brexit-impact-stimulus-eurozone-growth', 'https://www.theguardian.com/business/live/2016/jul/21/ecb-meeting-brexit-vote-mario-draghi-retail-sales-business-live', 'https://www.theguardian.com/world/2016/jul/11/the-next-eu-crisis-in-the-italian-banks-needs-to-be-addressed', 'https://www.theguardian.com/business/2016/jul/11/the-promise-of-regrexit', 'https://www.theguardian.com/business/2016/jul/01/bundesbank-president-jens-weidmann-says-uk-should-get-a-fair-brexit-deal', 'https://www.theguardian.com/business/2016/jun/26/city-of-london-expecting-further-post-brexit-losses-when-trade-reopens', 'https://www.theguardian.com/business/2016/jun/26/market-turmoil-fears-likely-to-force-mark-carney-to-abandon-ecb-meeting', 'https://www.theguardian.com/politics/2016/jun/25/london-city-eu-passport-brexit', 'https://www.theguardian.com/business/2016/jun/21/mario-draghi-janet-yellen-poised-eu-referendum-fallout', 'https://www.theguardian.com/world/2016/jun/17/eurozone-releases-75bn-in-bailout-funds-for-greece', 'https://www.theguardian.com/business/live/2016/jun/09/oil-prices-hit-eight-month-high-business-live', 'https://www.theguardian.com/business/live/2016/jun/02/european-central-bank-and-opec-meetings-live-updates', 'https://www.theguardian.com/world/2016/may/25/eu-officials-hail-deal-bailout-loans-greece-climbdown-imf-greek-unions-strikes', 'https://www.theguardian.com/business/2016/may/25/negative-interest-rates-the-case-against-john-maynard-keynes', 'https://www.theguardian.com/world/2016/may/24/eurozone-officials-hope-to-give-greece-next-tranche-of-bailout', 'https://www.theguardian.com/politics/2016/may/23/britain-destiny-in-a-struggling-european-union', 'https://www.theguardian.com/business/2016/may/23/imf-warns-eu-bailout-greece-debt-relief', 'https://www.theguardian.com/world/2016/may/09/eurozone-ministers-to-examine-how-to-ease-greeces-debt-burden', 'https://www.theguardian.com/business/2016/may/09/greece-financial-emergency-tragic-absurd-imf-debt-relief', 'https://www.theguardian.com/business/gallery/2016/feb/08/big-bucks-high-denomination-bank-notes-in-pictures', 'https://www.theguardian.com/world/2016/may/08/greece-has-basically-achieved-reform-goals-says-jean-claude-juncker', 'https://www.theguardian.com/business/2016/may/04/500-euro-banknote-could-be-scrapped-crime', 'https://www.theguardian.com/business/2016/apr/29/could-italy-be-the-unlikely-saviour-of-project-europe', 'https://www.theguardian.com/world/2016/apr/21/greek-talks-with-lenders-fraught-as-fears-grow-of-default', 'https://www.theguardian.com/business/2016/apr/21/mario-draghi-defends-ecb-independence-german-criticism-central-bank-eurozone-interest-rates', 'https://www.theguardian.com/business/live/2016/apr/21/european-central-bank-mario-draghi-rates-qe-markets-live', 'https://www.theguardian.com/business/2016/apr/18/the-problem-with-negative-interest-rates', 'https://www.theguardian.com/business/live/2016/apr/07/us-fed-dampens-prospect-of-an-april-rate-rise-business-live', 'https://www.theguardian.com/world/2016/apr/02/imf-officials-concerned-brexit-vote-will-put-greek-bailout-at-risk-says-wikileaks', 'https://www.theguardian.com/business/2016/apr/01/central-banks-unconventional-monetary-policy', 'https://www.theguardian.com/business/2016/mar/29/europes-emerging-bubbles-need-structural-reform', 'https://www.theguardian.com/business/live/2016/mar/18/markets-2016-highs-dollar-draghi-leaders-oil-business-live', 'https://www.theguardian.com/world/2016/mar/11/european-job-market-is-rigged-against-younger-workers-says-draghi', 'https://www.theguardian.com/world/2016/mar/11/mario-draghi-reducing-youth-unemployment-is-a-priority-for-everyone', 'https://www.theguardian.com/business/2016/mar/10/european-central-bank-cuts-interest-rates-zero-mario-draghi', 'https://www.theguardian.com/business/2016/mar/10/ecb-cuts-eurozone-interest-rate-to-zero', 'https://www.theguardian.com/business/picture/2016/mar/10/kipper-williams-on-ecb-cutting-eurozone-interest-rate-to-zero', 'https://www.theguardian.com/business/live/2016/mar/10/ecb-stimulus-measures-mario-draghi-negative-rates-qe-business-live', 'https://www.theguardian.com/business/2016/mar/10/ecb-can-only-buy-time-not-solve-eurozone-growth-woes-draghi', 'https://www.theguardian.com/business/2016/mar/10/how-european-central-bank-ecb-trying-revive-eurozone', 'https://www.theguardian.com/business/2016/feb/29/negative-inflation-ecb-under-pressure-eurozone-support', 'https://www.theguardian.com/business/2016/feb/26/bank-of-england-chief-accuses-g20-of-failing-to-enact-reforms-to-boost-growth', 'https://www.theguardian.com/business/2016/feb/23/bank-of-england-could-cut-interest-rates-to-zero-but-not-below-says-mark-carney', 'https://www.theguardian.com/business/economics-blog/2016/feb/21/central-bankers-on-the-defensive-as-weird-policy-becomes-even-weirder', 'https://www.theguardian.com/business/2016/feb/18/european-central-bank-further-stimulus-march', 'https://www.theguardian.com/business/2016/feb/16/1000-swiss-franc-note-here-to-stay-swiss-national-bank', 'https://www.theguardian.com/business/2016/feb/15/stock-markets-rally-mario-draghi-qe-stimulus-negative-rates', 'https://www.theguardian.com/business/2016/feb/15/mario-draghi-european-central-bank-japan-china', 'https://www.theguardian.com/business/2016/feb/12/criminal-links-of-500-euro-banknotes-demise', 'https://www.theguardian.com/business/2016/feb/12/eu-finance-ministers-call-for-restrictions-on-500-euro-note-crime', 'https://www.theguardian.com/business/2016/feb/12/eurozone-crisis-back-on-boil', 'https://www.theguardian.com/business/2016/feb/12/eurozone-recovery-falters-greece-recession', 'https://www.theguardian.com/business/2016/jan/31/bank-of-england-governor-bluffing-interest-rates', 'https://www.theguardian.com/business/2016/jan/29/global-markets-end-tumultuous-month-on-a-high', 'https://www.theguardian.com/world/2016/jan/29/bank-of-japan-achieve-imposing-negative-interest-rates', 'https://www.theguardian.com/business/2016/jan/22/world-stock-markets-bounce-back-nikkei-ecb-draghi', 'https://www.theguardian.com/business/2016/jan/22/mario-draghi-global-recession-fears-refugee-opportunity', 'https://www.theguardian.com/business/2016/jan/21/ecb-interest-rate-hold-steadies-markets', 'https://www.theguardian.com/business/2016/jan/06/denials-and-devaluation-as-chinas-currency-tumbles-to-five-year-low', 'https://www.theguardian.com/business/nils-pratley-on-finance/2015/dec/16/rbs-branch-sell-off-seven-years-santander', 'https://www.theguardian.com/media/2015/dec/04/ft-to-review-digital-publishing-process-after-inaccurate-ecb-story', 'https://www.theguardian.com/business/2015/dec/04/asia-pacific-shares-join-global-slump-as-ecb-fails-to-deliver-stimulus', 'https://www.theguardian.com/business/nils-pratley-on-finance/2015/dec/03/investors-got-ecb-odds-wrong-but-draghi-could-pay-hefty-price', 'https://www.theguardian.com/business/live/2015/dec/03/ecb-stimulus-qe-negative-rates-mario-draghi-live', 'https://www.theguardian.com/business/2015/dec/03/mario-draghis-big-bazooka-turns-peashooter-eurozone-qe-ecb', 'https://www.theguardian.com/business/2015/dec/03/ecb-launches-new-stimulus-package-eurozone', 'https://www.theguardian.com/business/2015/dec/03/turbulence-predicted-as-ecb-eases-monetary-policy-and-fed-tightens', 'https://www.theguardian.com/business/2015/dec/03/ecb-five-options-boost-eurozone-economy-european-central-bank-draghi', 'https://www.theguardian.com/business/live/2015/dec/02/markets-eurozone-inflation-ecb-stimulus-draghi-business-live', 'https://www.theguardian.com/business/2015/dec/02/eurozone-inflation-data-raises-prospect-of-fresh-ecb-stimulus', 'https://www.theguardian.com/business/2015/dec/02/federal-reserve-ecb-when-monetary-policy-diverges', 'https://www.theguardian.com/business/live/2015/nov/26/euro-ecb-stimulus-autumn-statement-ifs-live', 'https://www.theguardian.com/business/2015/nov/20/paris-attacks-eurozone-economy-european-central-bank', 'https://www.theguardian.com/business/live/2015/nov/20/markets-await-draghi-clues-on-further-intervention-live', 'https://www.theguardian.com/business/economics-blog/2015/nov/19/a-december-rate-rise-may-be-a-mistake-by-the-fed', 'https://www.theguardian.com/business/economics-blog/2015/nov/18/imfs-hindsight-right-advocate-qe-eurozone', 'https://www.theguardian.com/business/2015/nov/16/billions-wiped-off-european-travel-shares-after-paris-attacks', 'https://www.theguardian.com/business/2015/nov/13/eurozone-recovery-loses-steam-as-germany-slows', 'https://www.theguardian.com/business/2015/nov/09/greece-told-to-do-more-on-reforms-before-it-gets-next-bailout-payment', 'https://www.theguardian.com/world/2015/nov/01/barack-obama-right-europe-wrong-great-recession-eurozone-economic-blunders', 'https://www.theguardian.com/world/2015/oct/31/greece-banks-14bn-survive-economic-downturn', 'https://www.theguardian.com/world/2015/oct/28/worrying-times-for-democracy-in-portugal', 'https://www.theguardian.com/business/2015/oct/25/the-global-economy-warrants-a-big-dose-of-caution', 'https://www.theguardian.com/business/2015/oct/24/australian-dollar-strengthens-against-us-dollar-as-europe-hints-at-stimulus', 'https://www.theguardian.com/business/2015/oct/23/china-interest-rate-cut-fuels-fears-chinese-economy', 'https://www.theguardian.com/business/economics-blog/2015/oct/22/city-cheering-mario-draghi-qe-weapon-lacks-firepower', 'https://www.theguardian.com/business/blog/live/2015/oct/22/markets-expect-ecb-draghi-to-hint-on-more-qe-business-live', 'https://www.theguardian.com/business/2015/oct/22/mario-draghi-ecb-prepared-to-cut-interest-rates-and-expand-qe', 'https://www.theguardian.com/world/2015/oct/22/three-days-to-save-the-euro-greece', 'https://www.theguardian.com/world/2015/oct/21/hopes-and-hurdles-for-the-european-project', 'https://www.theguardian.com/business/blog/live/2015/oct/21/starbucks-and-fiat-chrysler-face-multimillion-euro-repayments-after-eu-tax-ruling-live', 'https://www.theguardian.com/politics/2015/oct/18/steel-closures-and-reforging-our-economy', 'https://www.theguardian.com/business/2015/oct/18/ecb-meeting-to-be-closely-watched-for-stimulus-talk-qe', 'https://www.theguardian.com/business/2015/oct/14/eurozone-industrial-production-falls', 'https://www.theguardian.com/business/live/2015/sep/30/eurozone-inflation-markets-worst-quarter-since-2011-business-live', 'https://www.theguardian.com/business/2015/sep/30/eurozone-inflation-drops-below-zero', 'https://www.theguardian.com/business/2015/sep/29/imf-warns-new-financial-crisis-interest-rates-rise', 'https://www.theguardian.com/business/2015/sep/28/imf-currency-study-shows-power-of-devaluation', 'https://www.theguardian.com/world/2015/sep/21/tsipras-savours-election-win-but-dark-clouds-are-gathering-over-greece', 'https://www.theguardian.com/world/2015/sep/18/eurozone-greek-prime-minister-maarten-verway-greece-bailout', 'https://www.theguardian.com/world/2015/sep/10/ireland-economy-surges-with-gdp-growth-forecast-at-6', 'https://www.theguardian.com/business/2015/sep/08/strong-eurozone-figures-rally-global-markets-after-china-gloom', 'https://www.theguardian.com/politics/2015/sep/08/governing-should-be-about-democracy-say-economists', 'https://www.theguardian.com/business/2015/sep/06/central-banks-can-dop-nothing-insulate-asia-economic-winter', 'https://www.theguardian.com/business/2015/sep/05/australian-dollar-falls-to-six-year-low-amid-economic-turbulence', 'https://www.theguardian.com/business/2015/sep/04/ecb-magic-money-tree-sculpture-franfurt', 'https://www.theguardian.com/business/nils-pratley-on-finance/2015/sep/03/european-central-bank-gloom-suggests-qe2-horizon', 'https://www.theguardian.com/business/2015/sep/03/mario-draghi-ready-to-prop-up-eurozone-with-more-stimulus', 'https://www.theguardian.com/business/live/2015/sep/03/markets-european-central-bank-mario-draghi-inflation-live', 'https://www.theguardian.com/business/2015/sep/02/imf-china-slowdown-could-keep-global-interest-rates-low', 'https://www.theguardian.com/business/2015/aug/30/pirc-stagecoach-pay-campaign-departs-early', 'https://www.theguardian.com/business/economics-blog/2015/aug/27/financial-markets-are-not-free-theyre-one-of-the-last-bastions-of-socialism', 'https://www.theguardian.com/world/2015/aug/24/greek-election-confusion-raises-fresh-fears-over-ability-to-pay-debts', 'https://www.theguardian.com/business/2015/aug/21/price-cuts-rise-orders-quicken-pace-eurozone-business-growth', 'https://www.theguardian.com/business/2015/aug/20/greece-crisis-timeline-rocky-road-another-bailout', 'https://www.theguardian.com/business/2015/aug/20/greek-bailout-qa-what-happens-next', 'https://www.theguardian.com/business/2015/aug/19/germany-approves-third-greek-bailout-crisis-over-for-a-couple-of-months', 'https://www.theguardian.com/business/2015/aug/17/yanis-varoufakis-bailout-deal-greek-oligarchs-maintain-grip-eu-leaders-greece', 'https://www.theguardian.com/business/2015/aug/16/greece-bailout-deal-angela-merkel-expects-imf-involvement', 'https://www.theguardian.com/world/2015/aug/15/greece-needs-more-debt-relief-imf-lagarde', 'https://www.theguardian.com/business/2015/aug/14/greece-edges-third-bailout-positive-signals-germany', 'https://www.theguardian.com/business/2015/aug/14/alexis-tsipras-greece-bailout-vote-new-election', 'https://www.theguardian.com/world/video/2015/aug/14/greek-parliament-finance-minister-debate-bailout-vote-video', 'https://www.theguardian.com/world/2015/aug/13/greeks-taste-bailout-rules', 'https://www.theguardian.com/business/economics-blog/2015/aug/13/greece-crisis-proves-the-need-for-a-currency-plan-b', 'https://www.theguardian.com/business/2015/aug/13/greece-surprises-with-economic-growth-in-second-quarter', 'https://www.theguardian.com/business/2015/aug/13/greek-rescue-package-expected-to-pass-through-parliament', 'https://www.theguardian.com/world/2015/aug/12/greece-bailout-terms-eurozone-policymaking-powers', 'https://www.theguardian.com/business/2015/aug/12/greek-pm-seeks-bailout-ratification-as-doubts-remain-over-german-support', 'https://www.theguardian.com/world/2015/aug/11/greek-stock-market-surges-government-outline-bailout-deal-creditors', 'https://www.theguardian.com/world/2015/aug/11/greece-and-lenders-agree-new-bailout-deal-says-finance-ministry-official', 'https://www.theguardian.com/world/2015/aug/10/greece-urged-put-quality-before-speed-bailout-negotiations', 'https://www.theguardian.com/business/blog/live/2015/aug/10/greece-closes-in-on-third-bailout-deal-live-updates', 'https://www.theguardian.com/world/2015/aug/10/greece-hopes-conclude-negotiations-creditors-bailout-days', 'https://www.theguardian.com/world/2015/aug/06/greece-tax-revenues-collapse-debt-crisis-continues-euro', 'https://www.theguardian.com/world/2015/aug/05/tsipras-greece-final-stages-bailout-deal-talks', 'https://www.theguardian.com/commentisfree/2015/aug/04/leftwing-eurosceptics-wrong-greece-brexit-eu-syriza', 'https://www.theguardian.com/business/blog/live/2015/aug/03/greece-debt-crisis-athens-stock-exchange-opens-live', 'https://www.theguardian.com/business/2015/aug/03/greece-stock-market-nosedives-reopening', 'https://www.theguardian.com/world/2015/aug/02/greece-athens-stock-market-reopens', 'https://www.theguardian.com/business/2015/jul/31/alexis-tsipras-defends-yanis-varoufakis-secret-grexit-plan', 'https://www.theguardian.com/world/2015/jul/29/imf-negotiator-prepares-to-join-greek-talks-as-deadline-looms', 'https://www.theguardian.com/business/2015/jul/29/delia-velculescu-iron-lady-greek-bailout-negotiation-athens', 'https://www.theguardian.com/business/2015/jul/28/greek-crisis-brussels-rejects-yanis-varoufakist-claims-troika', 'https://www.theguardian.com/business/2015/jul/27/imf-warns-of-gloomy-eurozone-outlook', 'https://www.theguardian.com/world/2015/jul/25/greek-bailout-talks-european-commission-ecb-imf', 'https://www.theguardian.com/world/2015/jul/25/greece-edges-closer-third-bailout-requests-imf-help', 'https://www.theguardian.com/business/2015/jul/24/greek-debt-crisis-talks-stall-hotel-choice', 'https://www.theguardian.com/business/2015/jul/24/greek-debt-crisis-great-greece-fire-sale', 'https://www.theguardian.com/business/2015/jul/23/greece-braces-troika-return-athens', 'https://www.theguardian.com/business/2015/jul/23/greek-debt-crisis-why-greece-deal-will-work', 'https://www.theguardian.com/world/2015/jul/22/greece-ecb-emergency-assistance-ceiling-raised-bailout-vote', 'https://www.theguardian.com/world/2015/jul/21/greeces-international-bailout-mps-forthcoming-vote', 'https://www.theguardian.com/world/2015/jul/20/greece-banks-reopen-reforms-eu-demands-tsipras', 'https://www.theguardian.com/business/2015/jul/20/greece-pays-debt-emergency-loan', 'https://www.theguardian.com/business/2015/jul/20/greek-banks-face-stress-tests-at-the-worst-time', 'https://www.theguardian.com/world/2015/jul/19/margaret-drabble-the-troika-have-acted-like-wonga-in-their-dealings-with-greece', 'https://www.theguardian.com/world/2015/jul/18/greece-debt-crisis-reforms-fail-yanis-varoufakis', 'https://www.theguardian.com/business/2015/jul/17/strong-pound-good-for-holiday-bad-for-homeowner', 'https://www.theguardian.com/business/2015/jul/17/eurozone-ready-start-formal-talks-greece-86bn-bailout', 'https://www.theguardian.com/commentisfree/2015/jul/17/guardian-view-on-euro-crisis-triumph-of-experience-over-hope', 'https://www.theguardian.com/world/2015/jul/17/germanys-parliament-backs-more-greek-bailout-talks', 'https://www.theguardian.com/business/2015/jul/17/imf-steps-up-greek-bailout-criticism-debt-relief-package', 'https://www.theguardian.com/world/2015/jul/16/sales-jewellery-tvs-cars-rise-greece-trust-goods-eurozone-crisis', 'https://www.theguardian.com/business/live/2015/jul/16/greek-debt-crisis-ecb-and-eurogroup-consider-next-steps-after-yes-vote-live', 'https://www.theguardian.com/business/2015/jul/16/greece-debt-crisis-ecb-cash-lifeline-reopen-greek-banks', 'https://www.theguardian.com/politics/2015/jul/16/george-osborne-backs-down-eu-efsm-bailout-fund-greece-crisis', 'https://www.theguardian.com/commentisfree/2015/jul/16/crucifixion-greece-killing-european-project-debt-colony-breakup-eurozone', 'https://www.theguardian.com/business/2015/jul/16/eurozone-scrambles-to-assemble-7bn-bridging-finance-to-keep-greece-afloat', 'https://www.theguardian.com/business/live/2015/jul/15/greek-crisis-mps-bailout-imf-debt-relief-alexis-tsipras-live', 'https://www.theguardian.com/business/video/2015/jul/16/greek-bailout-finance-minister-vote-video', 'https://www.theguardian.com/world/2015/jul/15/greek-debt-crisis-alexis-tsipras-bailout-vote-violent-athens-protests', 'https://www.theguardian.com/world/2015/jul/15/make-break-moment-greece-mps-vote-austerity-proposals', 'https://www.theguardian.com/business/2015/jul/15/imf-greece-future-analysis-bailout', 'https://www.theguardian.com/news/datablog/2015/jul/15/the-imf-position-on-greece-explained', 'https://www.theguardian.com/world/2015/jul/15/alexis-tsipras-bailout-greece-debt-crisis', 'https://www.theguardian.com/business/live/2015/jul/14/greek-crisis-tsipras-political-backlash-bailout-osborne-uk-live', 'https://www.theguardian.com/business/nils-pratley-on-finance/2015/jul/14/why-the-imf-should-not-aid-a-greek-bailout', 'https://www.theguardian.com/business/2015/jul/14/osborne-resists-use-of-uk-backed-eu-fund-for-greek-emergency-loan', 'https://www.theguardian.com/world/2015/jul/14/athens-parliament-where-do-mps-stand-over-the-greek-bailout-deal', 'https://www.theguardian.com/business/2015/jul/14/finland-stand-in-way-greece-bailout-deal-finns-party', 'https://www.theguardian.com/world/2015/jul/14/greece-crisis-osborne-seeks-to-block-use-of-british-backed-fund-in-bailout', 'https://www.theguardian.com/business/2015/jul/14/alexis-tsipras-in-government-dilemma-over-greek-bailout-deal', 'https://www.theguardian.com/business/2015/jul/14/greece-europe-germany-eurozone-deserve-better', 'https://www.theguardian.com/business/live/2015/jul/13/greek-crisis-tsipras-battle-bailout-deal-backlash-live', 'https://www.theguardian.com/world/2015/jul/13/alexis-tsipras-eurozone-bailout-plan-greek-parliament', 'https://www.theguardian.com/business/2015/jul/13/measured-sobre-and-sceptical-germany-reacts-to-greece-deal', 'https://www.theguardian.com/world/2015/jul/13/greece-bailout-eurozone-democracy-is-loser', 'https://www.theguardian.com/business/2015/jul/13/greece-bailout-agreement-deal-what-europe-media-newspapers-say', 'https://www.theguardian.com/business/nils-pratley-on-finance/2015/jul/13/greece-eu-tall-orders-agreement-desparation', 'https://www.theguardian.com/business/2015/jul/13/athens-and-eurozone-agree-bailout-deal-for-greece', 'https://www.theguardian.com/business/2015/jul/13/greece-bailout-agreement-key-points-grexit', 'https://www.theguardian.com/world/2015/jul/13/europe-greece-pushed-into-further-peril', 'https://www.theguardian.com/business/2015/jul/13/greek-bailout-what-happens-next', 'https://www.theguardian.com/business/2015/jul/13/greece-debt-agreement-eurozone-summit-statement', 'https://www.theguardian.com/business/2015/jul/13/greece-crisis-talks-saved-euro-broke-eu', 'https://www.theguardian.com/news/reality-check/2015/jul/13/greece-crisis-what-are-the-effects-of-sleep-deprivation-on-decision-making', 'https://www.theguardian.com/world/2015/jul/13/greek-debt-crisis-tsipras-resists-key-bailout-measures-after-15-hours-of-talks', 'https://www.theguardian.com/world/2015/jul/12/alexis-tsipras-pledged-to-end-austerity-now-he-is-asked-to-sign-up-for-more', 'https://www.theguardian.com/business/2015/jul/12/trouble-brewing-german-plan-grexit-doorstep-rift-france-greece-eu-euro', 'https://www.theguardian.com/business/2015/jul/12/greek-crisis-surrender-fiscal-sovereignty-in-return-for-bailout-merkel-tells-tsipras', 'https://www.theguardian.com/business/2015/jul/12/greek-crisis-european-leaders-begin-talks-with-views-split-over-agreement', 'https://www.theguardian.com/business/2015/jul/12/treasury-select-committee-question-carney-greek-crisis-interest-rates', 'https://www.theguardian.com/business/2015/jul/12/eu-leaders-greece-summit-cancelled-eurozone-talks-grind-on', 'https://www.theguardian.com/business/2015/jul/12/finlands-parliament-in-favour-of-forcing-greece-out-of-the-euro-says-report', 'https://www.theguardian.com/business/live/2015/jul/11/greek-debt-crisis-eurozone-creditors-meet-to-decide-countrys-fate', 'https://www.theguardian.com/world/2015/jul/10/greeks-facing-day-of-judgment-in-struggle-to-stay-in-eurozone', 'https://www.theguardian.com/world/2015/jul/10/divisions-in-merkels-coalition-over-proposals-for-greek-economic-reform', 'https://www.theguardian.com/business/2015/jul/10/eurozone-crisis-greek-austerity-plans-response', 'https://www.theguardian.com/business/2015/jul/10/tsipras-greek-economy-sabre-purpose', 'https://www.theguardian.com/world/economics-blog/2015/jul/10/ireland-no-model-greece-troika-austerity', 'https://www.theguardian.com/world/2015/jul/10/greece-euro-drama-geopolitical-concerns-europe-eu', 'https://www.theguardian.com/world/2015/jul/10/greek-parliament-to-vote-on-new-cuts-for-cash-plan-to-break-deadlock', 'https://www.theguardian.com/world/2015/jul/10/greeces-proposals-to-help-end-talks-deadlock', 'https://www.theguardian.com/business/2015/jul/09/greece-debt-crisis-athens-accepts-harsh-austerity-as-bailout-deal-nears', 'https://www.theguardian.com/world/2015/jul/09/poorer-than-greece-the-eu-countries-that-reject-a-new-athens-bailout', 'https://www.theguardian.com/news/reality-check/2015/jul/08/is-britains-debt-really-like-greeces', 'https://www.theguardian.com/world/2015/jul/08/can-greece-really-make-a-drachma-as-a-way-out-of-this-crisis', 'https://www.theguardian.com/world/2015/jul/08/greece-crisis-tsipras-under-pressure-to-submit-reform-blueprint-to-creditors', 'https://www.theguardian.com/business/2015/jul/08/greek-crisis-alexis-tsipras-confident-meeting-bailout-deadline', 'https://www.theguardian.com/world/live/2015/jul/07/greek-debt-crisis-alex-tsipras-seeks-last-chance-deal-live', 'https://www.theguardian.com/world/2015/jul/07/greece-crisis-eurozone-tsipras-banking-collapse', 'https://www.theguardian.com/commentisfree/picture/2015/jul/07/steve-bell-on-the-greek-referendum-reaction-cartoon', 'https://www.theguardian.com/commentisfree/2015/jul/07/greece-financial-elite-democracy-liassez-faire-neoliberalism', 'https://www.theguardian.com/business/2015/jul/07/greeces-lenders-who-has-the-most-to-lose', 'https://www.theguardian.com/business/2015/jul/07/eurozone-calls-on-athens-to-get-serious-over-greece-debt-crisis', 'https://www.theguardian.com/commentisfree/picture/2015/jul/06/steve-bell-on-greeces-eurozone-relationship-cartoon', 'https://www.theguardian.com/world/live/2015/jul/06/greek-referendum-eu-leaders-call-crisis-meeting-as-bailout-rejected-live-updates', 'https://www.theguardian.com/world/2015/jul/06/greek-citizens-eurozone-crisis-war-without-weapons', 'https://www.theguardian.com/business/2015/jul/06/eurozone-struggles-joint-response-greek-referendum', 'https://www.theguardian.com/world/video/2015/jul/06/greek-banks-stay-closed-for-two-further-days-louka-katseli-video', 'https://www.theguardian.com/world/2015/jul/06/spain-politicians-euro-crisis-greece-podemos', 'https://www.theguardian.com/world/2015/jul/06/return-drachma-greece-print-own-euros', 'https://www.theguardian.com/world/2015/jul/06/no-10-greece-stay-eu-eurozone-future-rederendum', 'https://www.theguardian.com/commentisfree/video/2015/jul/06/greece-referendum-europe-video-analysis', 'https://www.theguardian.com/business/2015/jul/06/germany-1953-greece-2015-economic-marshall-plan-debt-relief', 'https://www.theguardian.com/business/2015/jul/06/greek-referendum-optimism-fades-eurozone-yanis-varoufakis', 'https://www.theguardian.com/business/2015/jul/06/greek-referendum-what-happens-now-after-the-no-vote', 'https://www.theguardian.com/commentisfree/2015/jul/06/greek-referendum-why-yes-campaign-failed', 'https://www.theguardian.com/world/2015/jul/06/greek-crisis-financial-markets-buffeted-in-early-trading-after-no-vote', 'https://www.theguardian.com/world/2015/jul/06/greek-finance-minister-yanis-varoufakis-resigns-despite-referendum-no-vote', 'https://www.theguardian.com/business/live/2015/jul/05/greeces-eurozone-future-in-the-balance-as-referendum-gets-under-way--eu-euro-bailout-live', 'https://www.theguardian.com/business/2015/jul/06/greek-referendum-wild-markets-banking-crisis', 'https://www.theguardian.com/world/2015/jul/05/greek-referendum-greece-stands-defiant-no-vote-austerity', 'https://www.theguardian.com/business/2015/jul/05/greek-referendum-no-vote-signals-huge-challenge-to-eurozone-leaders', 'https://www.theguardian.com/business/2015/jul/05/greek-referendum-result-who-does-what-next', 'https://www.theguardian.com/business/2015/jul/05/greece-referendum-vote-edges-towards-euro-exit', 'https://www.theguardian.com/business/2015/jul/05/greece-referendum-early-results-historic-no-vote-against-austerity', 'https://www.theguardian.com/world/2015/jul/05/greeks-begin-voting-in-referendum-as-the-euro-faces-its-biggest-challenge', 'https://www.theguardian.com/commentisfree/2015/jul/05/greece-let-down-by-partners-and-leaders', 'https://www.theguardian.com/commentisfree/2015/jul/05/greek-referendum-catastrophe-versus-absolute-catastrophe', 'https://www.theguardian.com/business/blog/live/2015/jul/04/greek-debt-crisis-countdown-to-polling-day-live', 'https://www.theguardian.com/world/2015/jul/04/greek-debt-relief-was-not-on-table-during-bailout-negotiations-says-eu-official', 'https://www.theguardian.com/business/2015/jul/04/greece-crisis-varoufakis-accuses-creditors-terrorism-referendum', 'https://www.theguardian.com/business/live/2015/jul/03/greek-debt-crisis-council-of-state-to-rule-on-referendum-live', 'https://www.theguardian.com/world/2015/jul/03/greece-economy-collapse-close-food-medicine-shortage', 'https://www.theguardian.com/world/2015/jul/03/greek-referendum-what-the-experts-say', 'https://www.theguardian.com/world/2015/jul/03/greece-overspending-defence-wages-taxation-economic-crisis', 'https://www.theguardian.com/commentisfree/2015/jul/03/guardian-view-on-greek-referendum-dismal-choice', 'https://www.theguardian.com/world/2015/jul/03/greece-referendum-highest-court-rule-legality', 'https://www.theguardian.com/business/live/2015/jul/02/greek-debt-crisis-athens-creditors-referendum-yes-no-live', 'https://www.theguardian.com/world/2015/jul/02/former-greece-pms-throw-support-behind-yes-vote-ahead-of-referendum', 'https://www.theguardian.com/business/nils-pratley-on-finance/2015/jul/02/imfs-late-confession-is-a-double-edged-blessing-for-alexis-tsipras', 'https://www.theguardian.com/business/2015/jul/02/imf-greece-needs-extra-50bn-euros', 'https://www.theguardian.com/business/2015/jul/02/yanis-varoufakis-id-rather-cut-off-my-arm-than-accept-yes-vote', 'https://www.theguardian.com/business/2015/jul/02/imf-tells-greece-no-debt-relief-before-reforms', 'https://www.theguardian.com/business/2015/jul/02/greece-standoff-keeps-asian-markets-off-balance-but-us-dollar-gains', 'https://www.theguardian.com/commentisfree/2015/jul/01/syriza-cave-in-elites-regime-change', 'https://www.theguardian.com/business/live/2015/jul/01/greek-debt-crisis-creditors-consider-next-moves-after-imf-default-live', 'https://www.theguardian.com/world/2015/jul/01/how-long-can-greece-survive-without-support-from-its-creditors', 'https://www.theguardian.com/business/2015/jul/01/greece-crisis-berlin-blasts-tsipras-scapegoats-germany', 'https://www.theguardian.com/world/2015/jul/01/greece-bank-closures-business-tourism', 'https://www.theguardian.com/world/2015/jul/01/decisions-shape-greece-frankfurt-ecb', 'https://www.theguardian.com/world/2015/jul/01/greek-pensioners-queue-at-dawn-as-banks-allow-them-to-withdraw-120', 'https://www.theguardian.com/technology/2015/jul/01/greek-government-twitter-tsipras-varoufakis-eurozone-crisis-greece-social-media', 'https://www.theguardian.com/world/gallery/2015/jul/01/greece-debt-crisis-pensioners-swamp-greek-banks', 'https://www.theguardian.com/world/ng-interactive/2015/jun/24/greek-debt-crisis-negotiations-interactive', 'https://www.theguardian.com/business/2015/jul/01/greece-poses-risk-to-uk-financial-system-bank-of-england-eurozone-crisis', 'https://www.theguardian.com/business/2015/jul/01/greece-awaits-ecb-decision-on-emergency-aid', 'https://www.theguardian.com/business/live/2015/jun/30/greek-debt-crisis-day-of-decision-for-tsipras', 'https://www.theguardian.com/world/2015/jun/30/eurozone-emergency-greece-without-financial-lifeline', 'https://www.theguardian.com/world/2015/jun/30/greece-brink-financial-collapse-imf-deadline-hours-away', 'https://www.theguardian.com/world/2015/jun/30/were-not-traitors-insist-greeks-yes-campaigners', 'https://www.theguardian.com/business/2015/jun/30/greece-debt-crisis-default-analysis-imf', 'https://www.theguardian.com/business/2015/jun/30/greece-miss-crucial-debt-repayment', 'https://www.theguardian.com/world/2015/jun/30/what-next-five-key-decisions-that-will-decide-greeces-fate', 'https://www.theguardian.com/business/live/2015/jun/29/greek-crisis-stock-markets-slide-capital-controls-banks-closed-live', 'https://www.theguardian.com/business/2015/jun/29/greek-crisis-referendum-eurozone-vote-germany-france-italy', 'https://www.theguardian.com/world/2015/jun/29/where-did-the-greek-bailout-money-go', 'https://www.theguardian.com/world/2015/jun/29/its-a-question-of-dignity-syriza-rally-demands-end-to-economic-asphyxia', 'https://www.theguardian.com/commentisfree/picture/2015/jun/29/steve-bell-greece-eu-standoff-cartoon', 'https://www.theguardian.com/world/2015/jun/29/greece-fiercely-divided-as-referendum-campaign-gets-under-way', 'https://www.theguardian.com/commentisfree/2015/jun/29/referendum-greeks-europe-capitalism-greece-eurozone-economic-system', 'https://www.theguardian.com/business/2015/jun/29/greece-crisis-timeline-the-weekend-that-rocked-the-eurozone', 'https://www.theguardian.com/business/2015/jun/29/polarising-effects-of-greece-bank-closures-hits-businesses', 'https://www.theguardian.com/business/2015/jun/29/italy-will-not-follow-greek-downturn-promises-finance-minister', 'https://www.theguardian.com/world/2015/jun/29/alexis-tsipras-must-be-stopped-the-underlying-message-of-europes-leaders', 'https://www.theguardian.com/business/2015/jun/29/stock-markets-dive-as-deepening-greece-crisis-shakes-euro', 'https://www.theguardian.com/politics/2015/jun/29/back-european-conference-to-cancel-greek-debt-jeremy-corbyn-tells-pm', 'https://www.theguardian.com/business/2015/jun/29/greece-crisis-eurozone-exit-possibility-market-reaction-analysis', 'https://www.theguardian.com/money/2015/jun/29/greek-financial-crisis-holiday-plans-holidaymakers-difficulties', 'https://www.theguardian.com/world/video/2015/jun/29/greek-banks-shut-alexis-tsipras-eurozone-video', 'https://www.theguardian.com/world/2015/jun/28/greece-crisis-deepens-banks-close-a-week-weekend-shook-euro', 'https://www.theguardian.com/world/2015/jun/29/greek-debt-crisis-key-points-athens-bank-controls', 'https://www.theguardian.com/commentisfree/picture/2015/jun/29/martin-rowson-on-the-greek-financial-crisis-cartoon', 'https://www.theguardian.com/business/live/2015/jun/28/greek-crisis-ecb-emergency-liquidity-referendum-bailout-live', 'https://www.theguardian.com/world/2015/jun/28/athens-atm-queues-lengthen-week-long-bank-closures', 'https://www.theguardian.com/world/2015/jun/28/the-guardian-view-on-greece-and-the-euro-no-money-left', 'https://www.theguardian.com/world/2015/jun/28/greek-crisis-brings-eurozone-to-a-crossroads', 'https://www.theguardian.com/world/2015/jun/28/the-greeks-for-whom-all-the-talk-means-nothing-because-they-have-nothing', 'https://www.theguardian.com/business/2015/jun/28/greece-crisis-eurozone-sarajevo-moment', 'https://www.theguardian.com/world/2015/jun/28/tourists-greece-warned-foreign-office-banking-services-limited', 'https://www.theguardian.com/business/2015/jun/28/greek-crisis-ecb-decide-emergency-funding', 'https://www.theguardian.com/business/2015/jun/28/greece-crisis-disaster-athens-collosal-failure-eu', 'https://www.theguardian.com/world/2015/jun/28/greek-crisis-referendum-call-political-uncertainty-capital-fears', 'https://www.theguardian.com/world/2015/jun/28/greek-crisis-what-will-happen-next-referendum', 'https://www.theguardian.com/business/live/2015/jun/27/greek-crisis-mps-referendum-tsipras-eurogroup-ministers-live', 'https://www.theguardian.com/commentisfree/2015/jun/27/greek-bailout-extension-refused-panel-leading-economists-give-their-verdict', 'https://www.theguardian.com/world/2015/jun/27/eu-ministers-refuse-bailout-extension-greece-referendum', 'https://www.theguardian.com/news/datablog/2015/jun/27/greece-dominates-at-least-87-meetings-european-ministers-since-2010', 'https://www.theguardian.com/world/2015/jun/27/greece-referendum-eurozone-bailout-tsipras-brussels', 'https://www.theguardian.com/world/2015/jun/26/greece-calls-referendum-on-bailout-terms-offered-by-creditors', 'https://www.theguardian.com/business/blog/live/2015/jun/26/greece-crisis-markets-to-open-lower-ahead-of-weekend-talks-live', 'https://www.theguardian.com/world/2015/jun/26/greeks-mistrust-eu-ec-ecb-but-retain-some-faith-in-the-euro', 'https://www.theguardian.com/business/2015/jun/26/creditors-ringfence-greece-economy-alexis-tsipras', 'https://www.theguardian.com/business/2015/jun/26/greece-crisis-merkel-eurogroup-saturday-talks-decisive-deadline', 'https://www.theguardian.com/politics/2015/jun/26/cameron-told-eu-leader-greek-exit-from-euro-may-be-best-option', 'https://www.theguardian.com/business/2015/jun/26/the-eurogroup-meeting-the-key-weekend-for-greece', 'https://www.theguardian.com/business/live/2015/jun/25/greek-crisis-bailout-talks-resume-eurogroup-summit-live', 'https://www.theguardian.com/business/2015/jun/25/weekend-deadline-greece-after-negotiations-draw-blank', 'https://www.theguardian.com/business/2015/jun/24/greece-fortnight-crisis-timeline', 'https://www.theguardian.com/business/2015/jun/25/greece-bailout-crisis-last-minute-search-deal', 'https://www.theguardian.com/business/2015/jun/25/greek-crisis-20-key-moments-eurozone', 'https://www.theguardian.com/business/live/2015/jun/24/greek-crisis-eurogroup-meeting-tsipras-backlash-live', 'https://www.theguardian.com/world/2015/jun/24/greece-debt-crisis-talks-renewed-deadlock', 'https://www.theguardian.com/world/2015/jun/24/greece-debt-crisis-syriza-tsipras-leap-of-faith', 'https://www.theguardian.com/business/picture/2015/jun/24/kipper-williams-on-the-greek-debt-talks', 'https://www.theguardian.com/business/2015/jun/24/alexis-tsipras-homework-thrown-back-in-face-greece', 'https://www.theguardian.com/business/live/2015/jun/23/greek-crisis-athens-creditors-deal-imf-ecb-banks-live', 'https://www.theguardian.com/commentisfree/2015/jun/23/deal-heaps-more-misery-greeks', 'https://www.theguardian.com/world/2015/jun/23/why-has-greece-only-now-included-defence-cuts-in-its-brussels-proposals', 'https://www.theguardian.com/business/2015/jun/23/greek-crisis-bailout-deal-eurozone-crucial-optimism-rises', 'https://www.theguardian.com/world/2015/jun/23/creditors-economic-plan-for-greece-is-illiterate-and-doomed-to-fail', 'https://www.theguardian.com/world/2015/jun/23/the-greek-debt-crisis-digested-read', 'https://www.theguardian.com/business/2015/jun/22/greece-day-of-destiny-farce-phantom-eurozone-summit', 'https://www.theguardian.com/business/2015/jun/22/hopes-greece-bailout-deal-rise-sharply', 'https://www.theguardian.com/commentisfree/picture/2015/jun/22/steve-bell-on-the-eu-and-the-greek-debt-crisis-cartoon', 'https://www.theguardian.com/business/2015/jun/22/greece-deal-red-lines-blur-and-bend', 'https://www.theguardian.com/business/2015/jun/22/greece-bailout-tax-collection-rates', 'https://www.theguardian.com/world/2015/jun/22/greek-debt-crisis-tsipras-offer-is-welcomed-as-good-basis-for-progress', 'https://www.theguardian.com/world/2015/jun/21/greece-crisis-creditors-aim-deal-six-month-rescue-extension', 'https://www.theguardian.com/world/2015/jun/21/greeks-pension-cuts-eurozone-deadline-looms', 'https://www.theguardian.com/world/2015/jun/21/greece-is-beset-by-europe-ideological-loan-sharks', 'https://www.theguardian.com/world/2015/jun/21/tsipras-of-athens-drama-entering-gripping-final-act', 'https://www.theguardian.com/world/2015/jun/21/greece-and-eurozone-leaders-in-last-ditch-scramble-to-reach-deal', 'https://www.theguardian.com/world/2015/jun/21/greek-eurozone-crisis-financial-future', 'https://www.theguardian.com/world/2015/jun/20/greece-will-go-to-creditors--fresh-proposal-flabouraris-minister-of-state-bailout-end-deadlock', 'https://www.theguardian.com/commentisfree/picture/2015/jun/19/martin-rowson-on-greek-debt-crisis-cartoon', 'https://www.theguardian.com/world/2015/jun/19/ecb-greek-banking-system-emergency-funding-greece-creditors-monday-meetings', 'https://www.theguardian.com/world/video/2015/jun/19/european-council-president-donald-tusk-calls-end-game-chicken-greece-video', 'https://www.theguardian.com/world/2015/jun/19/greek-crisis-standoff-five-outcomes-greece-creditors', 'https://www.theguardian.com/business/live/2015/jun/19/greek-crisis-emergency-meetings-tsipras-banks-ecb-live-updates', 'https://www.theguardian.com/world/2015/jun/19/tourists-in-greece-everybody-should-come-and-spend-money-here', 'https://www.theguardian.com/world/2015/jun/19/tsipras-greece-europe-eurozone-crisis-banks-debts-euro-imf-ecb-germany-austerity', 'https://www.theguardian.com/business/2015/jun/19/greek-crisis-ecb-meeting-to-decide-on-emergency-funding', 'https://www.theguardian.com/world/2015/jun/19/greek-prime-minister-vladimir-putin-help-financial-crisis', 'https://www.theguardian.com/business/live/2015/jun/18/greek-crisis-eurozone-finance-ministers-merkel-live', 'https://www.theguardian.com/world/2015/jun/18/greece-faces-banking-crisis-after-eurozone-meeting-breaks-down', 'https://www.theguardian.com/world/2015/jun/18/euclid-tsakalotos-greeces-secret-weapon-in-credit-negotiations', 'https://www.theguardian.com/business/nils-pratley-on-finance/2015/jun/18/would-an-argentina-style-cure-work-for-greece-probably-not', 'https://www.theguardian.com/business/2015/jun/18/questions-greek-debt-talks-grexit-eurozone', 'https://www.theguardian.com/world/2015/jun/18/greece-eurozone-finance-ministers-talks-austerity-protests-athens', 'https://www.theguardian.com/commentisfree/picture/2015/jun/17/britain-greece-debt-crisis-eurozone-cartoon', 'https://www.theguardian.com/business/live/2015/jun/17/greek-crisis-austria-default-ecb-banks-live', 'https://www.theguardian.com/world/2015/jun/17/greece-says-bailout-deal-is-up-to-troika-amid-speculation-over-exit-from-eu', 'https://www.theguardian.com/commentisfree/2015/jun/17/guardian-view-euro-crisis-greek-exit-would-be-europes-tragedy', 'https://www.theguardian.com/world/2015/jun/17/greece-burden-debt-imf-european-neighbours-too-much', 'https://www.theguardian.com/world/2015/jun/17/greek-central-bank-governor-warns-of-uncontrollable-crisis', 'https://www.theguardian.com/world/ng-interactive/2015/jun/17/greek-debt-crisis-what-happens-next', 'https://www.theguardian.com/world/2015/jun/17/uk-starts-planning-for-serious-economic-risks-of-greek-exit-from-euro', 'https://www.theguardian.com/business/2015/jun/16/greek-exit-prospect-eurozone-athens-tsipras-eu-imf', 'https://www.theguardian.com/world/2015/jun/16/greece-eurozone-exit-athens-imf', 'https://www.theguardian.com/world/2015/jun/16/tsipras-does-want-a-deal-as-the-alternative-is-unthinkable', 'https://www.theguardian.com/business/2015/jun/16/angela-merkel-stands-firm-finding-resolution-greece-crisis', 'https://www.theguardian.com/world/2015/jun/16/eurozone-greek-exit-athens-imf-grexit-tsipras', 'https://www.theguardian.com/business/2015/jun/16/greek-crisis-europe-has-nothing-to-fear-from-syrizas-belligerence', 'https://www.theguardian.com/business/live/2015/jun/15/greek-default-fears-markets-talks-draghi-live', 'https://www.theguardian.com/world/2015/jun/15/greece-eurozone-existential-crisis', 'https://www.theguardian.com/business/2015/jun/15/greek-talks-european-central-bank-mario-draghi-athens-creditors', 'https://www.theguardian.com/business/2015/jun/15/greek-debt-default-looks-more-likely-by-the-day', 'https://www.theguardian.com/business/2015/jun/15/greece-eurozone-week-finance-eu-athens', 'https://www.theguardian.com/business/2015/jun/15/unsustainable-futures-greece-pensions-dilemma-explained-financial-crisis-default-eurozone', 'https://www.theguardian.com/business/2015/jun/15/markets-slide-as-greece-demands-end-to-creditor-looting', 'https://www.theguardian.com/business/2015/jun/14/greece-nearing-compromise-deal-on-eu-debts-says-alexis-tsipras', 'https://www.theguardian.com/world/2015/jun/13/endgame-looms-for-greece-crisis', 'https://www.theguardian.com/world/2015/jun/13/fears-of-greece-eurozone-exit-mount-as-eu-deadline-looms', 'https://www.theguardian.com/business/blog/live/2015/jun/12/greek-minister-sees-deal-soon-despite-imf-pullout-business-live', 'https://www.theguardian.com/business/2015/jun/11/imf-holding-gun-alexis-tsipras-head-greece-credit-talks', 'https://www.theguardian.com/business/2015/jun/11/imf-walks-out-of-greece-bailout-talks', 'https://www.theguardian.com/commentisfree/2015/jun/10/europe-nationalist-right-greece-cameron-referendum-eu', 'https://www.theguardian.com/commentisfree/2015/jun/10/russels-bail-out-jobless-european-union-unemployment', 'https://www.theguardian.com/business/2015/jun/10/greece-bailout-talks-markets-surge-on-rumours-of-german-compromise', 'https://www.theguardian.com/business/2015/jun/09/greece-bailout-talks-the-main-actors-in-a-modern-day-epic', 'https://www.theguardian.com/business/live/2015/jun/09/greek-pm-grexit-warning-bailout-extension-live-updates', 'https://www.theguardian.com/business/2015/jun/09/time-end-pretence-greece-never-repay-bailout-loans', 'https://www.theguardian.com/business/2015/jun/09/greek-exit-would-trigger-eurozone-collapse-says-alexis-tsipras', 'https://www.theguardian.com/world/2015/jun/08/obama-urges-greeks-to-make-tough-political-choices-to-resolve-debt-crisis', 'https://www.theguardian.com/world/2015/jun/08/bilderberg-summit-forget-the-g7', 'https://www.theguardian.com/world/2015/jun/07/juncker-fury-greek-bailout-talks-g7-summit-russia-sanctions', 'https://www.theguardian.com/business/2015/jun/07/scrap-g7-summit-hopeless-divided-outdated', 'https://www.theguardian.com/business/2015/jun/05/greeces-creditors-need-a-dose-of-reality-this-is-no-time-for-european-disunion', 'https://www.theguardian.com/business/2015/jun/05/greece-determined-to-stay-in-eurozone-economy-minister-george-stathakis', 'https://www.theguardian.com/business/live/2015/jun/04/greek-bailout-talks-tsipras-creditors-offer-live-updates', 'https://www.theguardian.com/world/2015/jun/04/greeces-imf-repayment-delay-smacks-of-both-desperation-and-defiance', 'https://www.theguardian.com/business/live/2015/jun/03/greek-creditors-bailout-terms-tsipras-ecb-draghi-live', 'https://www.theguardian.com/business/2015/jun/03/german-and-french-ministers-call-for-radical-integration-of-eurozone', 'https://www.theguardian.com/business/nils-pratley-on-finance/2015/jun/03/one-way-or-another-a-greek-debt-write-down-will-happen', 'https://www.theguardian.com/world/2015/jun/02/greece-ecb-imf-rush-finalise-last-minute-debt-offer', 'https://www.theguardian.com/business/2015/jun/02/greek-debt-talks-bailout-imf-merkel-g7-summit', 'https://www.theguardian.com/business/live/2015/jun/02/greek-bailout-breakthrough-eurozone-emergency-summit-creditors-live', 'https://www.theguardian.com/business/2015/jun/02/greece-bailout-talks-three-possible-outcomes', 'https://www.theguardian.com/business/2015/jun/02/ecb-eurozone-prices-positive-may', 'https://www.theguardian.com/business/2015/jun/01/draghi-and-lagarde-head-to-berlin-for-talks-on-greek-debt', 'https://www.theguardian.com/business/live/2015/jun/01/greece-crunch-month-bailout-creditors-manufacturing-pmi-live', 'https://www.theguardian.com/business/2015/jun/01/greece-debt-default-elections-goldman-sachs-imf', 'https://www.theguardian.com/business/2015/jun/01/the-liquidity-timebomb-fiscal-policies-have-created-a-dangerous-paradox', 'https://www.theguardian.com/business/2015/may/31/greece-alexis-tsipras-lambasts-absurd-proposals-creditors-for-debt-deal-failure', 'https://www.theguardian.com/business/live/2015/may/29/greek-bailout-markets-lagarde-us-economy-live', 'https://www.theguardian.com/business/2015/may/29/stock-markets-unsettled-greek-debt-deal-uncertainty-cash-exodus', 'https://www.theguardian.com/world/2015/may/28/greece-economy-bankruptcy-high-level-political-trade-needed', 'https://www.theguardian.com/us-news/2015/may/27/us-urge-greece-to-end-brinkmanship-creditors-g7-meeting', 'https://www.theguardian.com/business/live/2015/may/27/greek-bailout-talks-resume-brussels-imf-live', 'https://www.theguardian.com/business/2015/may/26/grexit-bookmakers-put-smart-money-on-an-unwise-move', 'https://www.theguardian.com/business/2015/may/26/greece-imf-combined-repayment-bailout-talks-eu', 'https://www.theguardian.com/business/2015/may/25/greek-pm-emergency-meeting-bailout-negotiation-team-tsipras-imf', 'https://www.theguardian.com/world/2015/may/24/greece-warns-it-is-set-to-default-on-debt-repayment-loans', 'https://www.theguardian.com/world/2015/may/24/greek-minister-athens-cannot-make-imf-debt-repayments', 'https://www.theguardian.com/business/live/2015/may/22/greece-bailout-reform-deal-riga-summit-live', 'https://www.theguardian.com/business/live/2015/may/20/greece-june-repayment-ecb-support-live-updates', 'https://www.theguardian.com/business/2015/may/20/euro-under-pressure-dollar-greece-imf-debt-repayment', 'https://www.theguardian.com/business/live/2015/may/19/uk-inflation-greek-bailout-talks-yanis-varoufakis-live-updates', 'https://www.theguardian.com/world/2015/may/18/alexis-tsipras-claims-greece-close-deal-brussels-imf', 'https://www.theguardian.com/business/live/2015/may/18/greece-finances-default-fears-markets-live', 'https://www.theguardian.com/business/2015/may/18/greece-crisis-eu-siege-mentality-squeeze-athens', 'https://www.theguardian.com/business/2015/may/15/greece-pays-public-sector-wages-economic-crisis', 'https://www.theguardian.com/business/2015/may/14/yanis-varoufakis-refuses-bailout-plan-send-greece-into-death-spiral', 'https://www.theguardian.com/business/2015/may/13/growth-eurozone-economies-france-greece-figures', 'https://www.theguardian.com/business/2015/may/12/global-markets-rattled-greece-debts-osborne-eu', 'https://www.theguardian.com/business/live/2015/may/12/greek-liquidity-bailout-european-finance-ministers-osborne-live-updates', 'https://www.theguardian.com/business/live/2015/may/11/eurozone-finance-ministers-meeting-greece-deadline-live', 'https://www.theguardian.com/business/nils-pratley-on-finance/2015/may/11/greece-make-or-break-talks-interesting-sub-plot-emerges-', 'https://www.theguardian.com/business/2015/may/11/greece-repays-750m-loan-instalment-to-imf-early', 'https://www.theguardian.com/business/2015/may/10/eurozone-pins-hope-on-long-awaited-economic-rebound', 'https://www.theguardian.com/business/2015/may/10/no-solution-in-sight-for-greek-crisis-as-tsipras-weighs-impossible-dilemma', 'https://www.theguardian.com/world/2015/may/10/greece-debt-repayment-uncertain-amid-fresh-round-of-talks', 'https://www.theguardian.com/world/2015/may/10/greece-alexis-tsipras-syriza-revolt-debt-showdown', 'https://www.theguardian.com/business/2015/may/08/tsipras-happy-ending-greece-crisis-talks-payment-to-imf-nears', 'https://www.theguardian.com/business/2015/may/07/city-investors-brace-hung-parliament-share-price-falls', 'https://www.theguardian.com/world/2015/may/07/greece-signals-growing-optimism-over-bailout-deal', 'https://www.theguardian.com/business/live/2015/may/07/shares-bond-yields-rise-eurozone-greece-bailout-live', 'https://www.theguardian.com/commentisfree/2015/may/06/guardian-view-greece-dangerous-brinkmanship', 'https://www.theguardian.com/world/2015/may/06/greek-debt-default-avoided-after-200m-payment-to-imf', 'https://www.theguardian.com/business/live/2015/may/06/greece-imf-repayment-bailout-deadlock-eurozone-economy-live', 'https://www.theguardian.com/business/live/2015/may/05/greek-ministers-varoufakis-sapin-draghi-eurozone-growth-live', 'https://www.theguardian.com/business/2015/may/04/eurozone-enjoys-production-boost-but-greece-and-france-dip', 'https://www.theguardian.com/business/2015/may/01/varoufakis-greece-bailout-eastern-europe-latvia-reform', 'https://www.theguardian.com/business/2015/apr/30/eurozone-recovery-hopes-boosted-as-spain-announces-gdp-rise', 'https://www.theguardian.com/business/2015/apr/30/investors-withdraw-record-1bn-from-uk-equity-funds', 'https://www.theguardian.com/business/economics-blog/2015/apr/30/eurozone-recovery-defies-the-odds-unemployment', 'https://www.theguardian.com/world/2015/apr/29/greece-close-to-minimum-agreement-deal-with-creditors-says-deputy-pm', 'https://www.theguardian.com/business/2015/apr/28/euclid-tsakalotos-greece-debt-bailout-varoufakis', 'https://www.theguardian.com/business/2015/apr/28/greek-finance-minister-denies-being-sidelined-at-debt-talks', 'https://www.theguardian.com/world/2015/apr/27/greece-reshuffles-negotiating-team-creditors-yanis-varoufakis', 'https://www.theguardian.com/business/2015/apr/24/greek-debts-what-does-it-owe-when-will-the-money-run-out', 'https://www.theguardian.com/business/live/2015/apr/23/greece-bailout-deal-may-eurozone-growth-live', 'https://www.theguardian.com/world/2015/apr/23/greece-finance-deal-money-runs-out-eurozone-grexit-euro', 'https://www.theguardian.com/business/2015/apr/21/greece-running-out-of-money-as-hopes-of-imminent-deal-to-end-debt-crisis-fade', 'https://www.theguardian.com/business/live/2015/apr/21/gazprom-ceo-heads-to-greece-as-cash-reserves-run-short-business-live', 'https://www.theguardian.com/business/live/2015/apr/20/imf-greece-negotiations-creditors-market-live', 'https://www.theguardian.com/business/2015/apr/20/athens-issues-decree-demanding-cash-reserves-from-local-government', 'https://www.theguardian.com/world/2015/apr/19/eurozone-crisis-grexit-edges-closer-as-markets-brace-for-athens-default', 'https://www.theguardian.com/world/2015/apr/18/greek-euro-exit-imf-ecb-europe-debts', 'https://www.theguardian.com/business/live/2015/apr/17/greek-crisis-markets-imf-varoufakis-live', 'https://www.theguardian.com/business/2015/apr/17/imf-urges-eu-to-slim-down-its-demands-on-greece', 'https://www.theguardian.com/business/nils-pratley-on-finance/2015/apr/17/syriza-cant-strike-riga-deal-and-keep-poll-promise', 'https://www.theguardian.com/business/live/2015/apr/16/greek-crisis-looms-over-imfg20-meeting-business-live', 'https://www.theguardian.com/business/2015/apr/16/greece-moves-step-closer-to-grexit-after-imf-snub', 'https://www.theguardian.com/commentisfree/2015/apr/16/golden-age-political-stunts-mario-draghi-glitter-shower', 'https://www.theguardian.com/business/2015/apr/16/ecb-protester-josephine-witt-surprised-by-relaxed-security-measures', 'https://www.theguardian.com/business/picture/2015/apr/16/kipper-williams-on-the-ecb-protest', 'https://www.theguardian.com/business/live/2015/apr/15/ecb-mario-draghi-greece-eurozone-live-updates', 'https://www.theguardian.com/business/video/2015/apr/15/ecb-conference-disrupted-by-protester-video', 'https://www.theguardian.com/world/2015/apr/15/ecb-protest-woman-interrupts-mario-draghi-speech', 'https://www.theguardian.com/business/2015/apr/15/confidence-rises-eurozone-upturn-growth', 'https://www.theguardian.com/business/2015/apr/12/greece-defends-bailout-tactics-as-latest-deadline-looms', 'https://www.theguardian.com/world/2015/apr/12/athens-is-being-driven-closer-to-a-grexit', 'https://www.theguardian.com/business/2015/apr/07/cbi-soaring-pound-battered-uk-export-drive', 'https://www.theguardian.com/business/live/2015/apr/02/greece-reform-plan-bailout-markets-live-updates', 'https://www.theguardian.com/business/2015/apr/02/why-eurozone-recovery-needs-germany-spending-surplus-europe', 'https://www.theguardian.com/business/live/2015/apr/01/greece-bailout-deal-eurozone-officials-pmi-growth', 'https://www.theguardian.com/business/live/2015/mar/31/euro-falls-greek-progress-unemployment-inflation-live-updates', 'https://www.theguardian.com/business/2015/mar/27/greece-submits-reform-proposals-to-eurozone-creditors-with-a-warning', 'https://www.theguardian.com/business/2015/mar/27/europes-easy-money-endgame', 'https://www.theguardian.com/business/2015/mar/25/greek-government-takes-desperate-measures-in-battle-to-stay-afloat', 'https://www.theguardian.com/business/2015/mar/24/greece-pledges-full-list-of-reforms-within-the-week', 'https://www.theguardian.com/business/2015/mar/23/tsipras-raises-nazi-war-reparations-claim-at-berlin-press-conference-with-merkel', 'https://www.theguardian.com/business/2015/mar/20/greece-financial-crisis-eu-offers-funds-in-return-for-urgent-reforms', 'https://www.theguardian.com/world/2015/mar/18/blockupy-protesters-in-frankfurt-are-you-taking-part', 'https://www.theguardian.com/business/2015/mar/18/anti-capitalist-protesters-clash-police-ecb-frankfurt-hq', 'https://www.theguardian.com/world/gallery/2015/mar/18/blockupy-anti-ecb-protest-in-frankfurt-in-pictures', 'https://www.theguardian.com/world/video/2015/mar/18/frankfurt-roads-blocked-anti-capitalist-protesters-police-fire-european-central-bank-video', 'https://www.theguardian.com/business/2015/mar/17/dollar-12-year-high-at-expense-of-euro', 'https://www.theguardian.com/business/live/2015/mar/16/greece-imf-repayment-tensions-germany-business-live', 'https://www.theguardian.com/business/live/2015/mar/13/wolfgang-schauble', 'https://www.theguardian.com/business/live/2015/mar/12/varoufakis-ecb-policy-is-asphyxiating-greece-live-updates', 'https://www.theguardian.com/business/economics-blog/2015/mar/12/germany-greece-disagreement-varoufakis-schauble-risks-eu-exit', 'https://www.theguardian.com/business/2015/mar/11/euro-12-year-low-gainst-the-dollar', 'https://www.theguardian.com/business/live/2015/mar/11/fears-over-china-slowdown-and-greek-crisis-escalate-live-updates', 'https://www.theguardian.com/business/2015/mar/11/euro-drop-us-dollar-value-analysts', 'https://www.theguardian.com/business/2015/mar/10/euro-fall-cheaper-european-holidays-dollar-pound-strong-greece-debt', 'https://www.theguardian.com/business/live/2015/mar/10/city-stunned-as-tidjane-thiam-quits-prudential-live-updates', 'https://www.theguardian.com/world/2015/mar/09/eurozone-german-finances-reason-for-hope', 'https://www.theguardian.com/world/2015/mar/09/eurozone-greece-credible-economic-reforms-brussels-eu', 'https://www.theguardian.com/business/2015/mar/08/greece-threatens-new-elections-if-eurozone-rejects-planned-reforms', 'https://www.theguardian.com/commentisfree/2015/mar/08/europe-monetary-union-fiscal-political-anger-south', 'https://www.theguardian.com/world/2015/mar/06/wired-up-tax-snoopers-could-be-unleashed-in-greece', 'https://www.theguardian.com/business/2015/mar/06/euro-slides-on-eve-of-ecb-stimulus-programme', 'https://www.theguardian.com/business/2015/mar/05/european-central-bank-fires-starting-gun-on-1tn-stimulus', 'https://www.theguardian.com/business/live/2015/mar/05/european-central-bank-ecb-meeting-protests-cyprus-mario-draghi-live', 'https://www.theguardian.com/business/economics-blog/2015/mar/05/ecb-meeting-mario-draghi-is-upbeat-but-eurozone-risks-remain', 'https://www.theguardian.com/business/2015/mar/04/eurozone-shopping-spree-points-to-beginning-of-recovery', 'https://www.theguardian.com/politics/2015/mar/04/george-osborne-wins-clearing-house-ruling-against-ecb', 'https://www.theguardian.com/business/2015/feb/24/greece-secures-eurozone-bailout-extension-for-four-months', 'https://www.theguardian.com/business/2015/feb/27/greek-reform-plan-given-unanimous-support-by-german-parliament', 'https://www.theguardian.com/commentisfree/2015/feb/27/new-left-europe-greece-democratic-capitalism-nato', 'https://www.theguardian.com/business/2015/feb/26/greece-bailout-saga-strains-german-patience', 'https://www.theguardian.com/business/live/2015/feb/25/greek-bailout-doubts-remain-extension-agreed-live-updates', 'https://www.theguardian.com/business/2015/feb/23/greece-drafts-three-page-menu-of-reforms-to-appease-eurozone', 'https://www.theguardian.com/world/2015/feb/22/greeces-two-day-deadline-to-earn-four-months-grace', 'https://www.theguardian.com/world/2015/feb/22/greek-government-races-to-meet-monday-fiscal-reform-deadline', 'https://www.theguardian.com/world/2015/feb/21/syriza-greece-debt-deal-eu-alexis-tsipras', 'https://www.theguardian.com/commentisfree/2015/feb/20/greece-germany-eu-bailout', 'https://www.theguardian.com/business/2015/feb/20/eurozone-ministers-gather-make-or-break-talks-greece', 'https://www.theguardian.com/business/2015/feb/19/greece-requests-eurozone-loan-extension', 'https://www.theguardian.com/business/economics-blog/2015/feb/19/greece-runs-up-the-austerity-white-flag-in-brussels', 'https://www.theguardian.com/business/live/2015/feb/18/greek-bailout-athens-loan-extension-live-updates', 'https://www.theguardian.com/world/2015/feb/18/greece-lifeline-ecb-agrees-extra-emergency-funds', 'https://www.theguardian.com/business/2015/feb/18/will-greece-creditors-choose-ease-up-austerity', 'https://www.theguardian.com/news/datablog/2015/feb/18/greece-bailout-eurozone-run-out-of-money', 'https://www.theguardian.com/world/2015/feb/18/greece-bailout-bridging-loan-debt-crisis-eurozone', 'https://www.theguardian.com/business/2015/feb/18/stock-markets-soar-on-greek-bailout-hopes', 'https://www.theguardian.com/business/2015/feb/17/greece-bailout-talks-george-osborne-says-its-crunch-time-for-the-eurozone', 'https://www.theguardian.com/business/2015/feb/17/greeces-debt-standoff-the-key-dates', 'https://www.theguardian.com/business/picture/2015/feb/17/kipper-williams-on-the-collapsed-greek-bailout-talks', 'https://www.theguardian.com/commentisfree/2015/feb/17/the-pro-worker-pro-growth-experiment-in-greece-is-under-threat', 'https://www.theguardian.com/business/live/2015/feb/16/greek-bailout-eurozone-ministers-hold-crunch-talks-live-updates', 'https://www.theguardian.com/business/economics-blog/2015/feb/16/japan-beats-recession-but-good-news-ends-there', 'https://www.theguardian.com/business/2015/feb/16/hopes-fade-for-early-end-to-greece-debt-crisis-as-germany-digs-in', 'https://www.theguardian.com/business/2015/feb/16/the-central-banks-and-their-bottom-line', 'https://www.theguardian.com/world/2015/feb/15/syriza-eurozone-brussels-alexis-tsipras-greece-anti-austerity', 'https://www.theguardian.com/world/2015/feb/13/german-growth-spurt-raises-hopes-of-eurozone-recovery', 'https://www.theguardian.com/business/2015/feb/13/hopes-of-greek-debt-deal-rise', 'https://www.theguardian.com/world/2015/feb/13/greece-finance-minister-yanis-varoufakis-interview-syriza-eurozone', 'https://www.theguardian.com/business/economics-blog/2015/feb/13/gdp-growth-masks-a-broken-eurozone', 'https://www.theguardian.com/business/2015/feb/13/seven-reasons-why-the-ftse-100-is-heading-towards-a-record-high', 'https://www.theguardian.com/business/2015/feb/13/eurozone-economy-grows-germany-powers-up', 'https://www.theguardian.com/business/live/2015/feb/12/greek-bailout-talks-eurogroup-eu-summit-live-updates', 'https://www.theguardian.com/business/2015/feb/12/european-central-bank-greece-eurozone-talks-emergency-lending-alexis-tsipras', 'https://www.theguardian.com/world/video/2015/feb/12/greeks-austerity-bailout-talks-syriza-tsipras-video', 'https://www.theguardian.com/business/2015/feb/12/david-cameron-hold-first-meeting-greece-alexis-tsipras', 'https://www.theguardian.com/business/2015/feb/11/low-oil-prices-will-do-little-to-stimulate-global-growth-moodys-says', 'https://www.theguardian.com/business/blog/2015/feb/11/has-an-accidental-currency-war-erupted', 'https://www.theguardian.com/world/2015/feb/11/tsipras-passes-confidence-vote-crucial-debt-negotiations', 'https://www.theguardian.com/business/2015/feb/10/shares-rise-across-europe-greece-debt-deal-syriza-eurozone', 'https://www.theguardian.com/world/2015/feb/10/george-osborne-warns-of-greek-debt-crisis-fallout', 'https://www.theguardian.com/world/2015/feb/09/greek-banks-downgrade-pm-vow-stay-inside-euro', 'https://www.theguardian.com/business/2015/feb/09/greek-prime-minister-deal-stay-eurozone-alexis-tsipras-bailout-greece', 'https://www.theguardian.com/business/2015/feb/09/greece-is-playing-to-lose-the-debt-crisis-poker-game', 'https://www.theguardian.com/world/commentisfree/2015/feb/08/germany-v-greece-fight-death-cultural-economic-clash-paul-mason', 'https://www.theguardian.com/business/live/2015/feb/06/eurozone-greek-debt-crisis-markets-us-unemployment-live-updates', 'https://www.theguardian.com/business/2015/feb/05/greek-german-finance-ministers-clash-debt-relief-talks', 'https://www.theguardian.com/business/nils-pratley-on-finance/2015/feb/05/greece-varoufakis-supporters-sympathisers-nils-pratley-finance-rexam-ee-bt', 'https://www.theguardian.com/business/video/2015/feb/05/debt-relief-talks-greek-german-finance-no-agreement-video', 'https://www.theguardian.com/business/live/2015/feb/05/greece-germany-debt-talks-ecb-collateral-rules-live', 'https://www.theguardian.com/business/live/2015/feb/04/greek-finance-minister-yanis-varoufakis-mario-debt-deal-live', 'https://www.theguardian.com/global-development-professionals-network/2015/feb/04/do-banks-matter-financial-inclusion', 'https://www.theguardian.com/business/2015/feb/04/a-greek-morality-tale-global-debt-restructuring-framework', 'https://www.theguardian.com/commentisfree/2015/feb/03/guardian-view-on-the-euro-yanis-varoufakis-haggle', 'https://www.theguardian.com/business/live/2015/feb/03/greek-debt-swap-plan-calms-markets-business-live', 'https://www.theguardian.com/commentisfree/2015/feb/02/syriza-solutions-austerity-europe-greece-leftwing-alliance', 'https://www.theguardian.com/world/2015/feb/01/greek-finance-minister-yanis-varoufakis-george-osborne', 'https://www.theguardian.com/business/2015/feb/01/loose-monetary-policy-has-not-solved-the-worlds-economic-problems', 'https://www.theguardian.com/world/2015/jan/31/greece-collision-course-eurozone-hardline-merkel-syriza', 'https://www.theguardian.com/business/2015/jan/30/eurozone-deflation-deepens-january', 'https://www.theguardian.com/business/economics-blog/2015/jan/30/eurozone-deflation-quantitative-easing', 'https://www.theguardian.com/business/live/2015/jan/29/european-parliament-chief-visits-greece-as-bailout-row-grows-live-updates', 'https://www.theguardian.com/world/2015/jan/28/alexis-tsipras-athens-lightning-speed-anti-austerity-policies', 'https://www.theguardian.com/business/nils-pratley-on-finance/2015/jan/28/mark-carney-eurozone-mess-prescription-toxic-politics', 'https://www.theguardian.com/commentisfree/2015/jan/28/guardian-view-greece-debt-relief-compromise', 'https://www.theguardian.com/commentisfree/2015/jan/28/syriza-merkel-economic-greece-europe', 'https://www.theguardian.com/world/2015/jan/26/germany-should-look-to-solon-not-draco', 'https://www.theguardian.com/world/2015/jan/26/greece-anti-austerity-government-alexis-tsipras', 'https://www.theguardian.com/money/2015/jan/26/fall-euro-currency-summer-holidays-syriza', 'https://www.theguardian.com/world/2015/jan/26/greece-q-and-a-what-now-syriza-eu-austerity', 'https://www.theguardian.com/world/2015/jan/25/alexis-tsipras-profile-greece-syriza-leader', 'https://www.theguardian.com/business/2015/jan/25/european-central-bank-quantitative-easing-missed-opportunity', 'https://www.theguardian.com/business/2015/jan/25/devaluation-discord-currencies-war-quantitative-easing', 'https://www.theguardian.com/business/2015/jan/24/mark-carney-davos-warns-risk-quantitative-easing', 'https://www.theguardian.com/business/2015/jan/23/euro-11-year-low-dollar-ecb-stimulus', 'https://www.theguardian.com/commentisfree/2015/jan/23/is-davos-excuse-for-1-percent-to-have-bonding-session', 'https://www.theguardian.com/commentisfree/2015/jan/23/guardian-view-greek-election-respect-outcome', 'https://www.theguardian.com/business/2015/jan/23/australian-dollar-falls-below-80-us-cents-on-ecb-stimulus-announcement', 'https://www.theguardian.com/business/live/2015/jan/22/davos-2015-day-2-qe-ecb-lagarde-draghi-merkel-live', 'https://www.theguardian.com/business/2015/jan/22/ecb-boosts-eurozone-mario-draghi-kickstart-growth', 'https://www.theguardian.com/business/2015/jan/22/european-union-stimulus-gains-us-stock-markets-gold-price-dollar', 'https://www.theguardian.com/business/2015/jan/22/ecb-big-bazooka-bigger-than-expected-qe-stimulus', 'https://www.theguardian.com/business/nils-pratley-on-finance/2015/jan/22/eurozone-qe-little-something-much-better-than-nothing', 'https://www.theguardian.com/commentisfree/2015/jan/22/guardian-view-quantitative-easing-eurozone-better-late-never', 'https://www.theguardian.com/business/2015/jan/22/eurozone-qe-bigger-gun-than-expected-not-hoped-for-starting-pistol-investment-boom', 'https://www.theguardian.com/commentisfree/2015/jan/22/germany-qe-quantitative-easing-eurozone', 'https://www.theguardian.com/business/2015/jan/22/ecb-unveils-1-trillion-qe-plan-stimulate-eurozoen-economy', 'https://www.theguardian.com/business/2015/jan/22/what-the-experts-say-about-the-eus-latest-round-of-quantitative-easing', 'https://www.theguardian.com/business/2015/jan/22/what-is-quantitative-easing', 'https://www.theguardian.com/commentisfree/2015/jan/22/qe-eurozone-confidence-trick-quantitative-easing-money-circulation', 'https://www.theguardian.com/business/economics-blog/2015/jan/22/european-central-bank-quantitative-easing-not-a-panacea', 'https://www.theguardian.com/business/2015/jan/22/ecb-quantitative-easing-1-trillion-euros', 'https://www.theguardian.com/business/2015/jan/22/quantitative-easing-around-the-world-lessons-from-japan-uk-and-us', 'https://www.theguardian.com/business/2015/jan/21/davos-italian-pm-ecb-europe-economic-government-bonds', 'https://www.theguardian.com/world/2015/jan/20/greece-needs-debts-cancelled-and-growth', 'https://www.theguardian.com/business/2015/jan/20/quantitative-easing-unconventional-monetary-policy', 'https://www.theguardian.com/business/economics-blog/2015/jan/20/eurozone-qe-quantitative-easing-european-central-bank', 'https://www.theguardian.com/business/live/2015/jan/19/chinese-stock-market-fall-eurozone-qe-business-live', 'https://www.theguardian.com/business/2015/jan/18/seven-themes-dominate-davos-climate-change-political-instability-2015', 'https://www.theguardian.com/business/2015/jan/18/draghi-ecb-quantitative-easing-too-late', 'https://www.theguardian.com/business/nils-pratley-on-finance/2015/jan/15/draghi-qe-years-dithering-dilemma', 'https://www.theguardian.com/business/2015/jan/15/currency-markets-switzerland-franc', 'https://www.theguardian.com/business/2015/jan/15/swiss-franc-what-the-economists-say', 'https://www.theguardian.com/world/2015/jan/15/swiss-currency-shock-blame-bank-in-frankfurt-not-zurich', 'https://www.theguardian.com/business/2015/jan/14/markets-tumble-after-world-bank-warns-global-slowdown', 'https://www.theguardian.com/business/live/2015/jan/14/european-court-of-justice-rules-on-ecb-bond-buying-programme-business-live', 'https://www.theguardian.com/business/live/2015/jan/12/oil-price-falls-goldman-forecasts-greece-ecb-business-live', 'https://www.theguardian.com/world/2015/jan/10/greece-election-u-turn-antonis-samaras-syriza', 'https://www.theguardian.com/commentisfree/2015/jan/09/greece-suffer-euro-exit-single-currency-resilient', 'https://www.theguardian.com/business/2015/jan/08/euro-dollar-1999-levels-deflation-oil', 'https://www.theguardian.com/business/2015/jan/07/eurozone-deflation-pressure-ecb-qe', 'https://www.theguardian.com/business/nils-pratley-on-finance/2015/jan/07/quantative-easing-aint-easy-to-quantify', 'https://www.theguardian.com/commentisfree/2015/jan/05/guardian-view-on-the-euro-running-out-of-road', 'https://www.theguardian.com/business/2015/jan/05/euro-sinks-nine-year-low-against-dollar', 'https://www.theguardian.com/business/blog/live/2015/jan/05/euro-hits-9-year-low-on-grexit-rumours-live', 'https://www.theguardian.com/world/2015/jan/04/britain-beware-greeks-bearing-snap-general-elections', 'https://www.theguardian.com/business/2015/jan/04/oil-future-hangs-emirates-eagle-ford-shale-us', 'https://www.theguardian.com/business/2015/jan/04/business-people-to-watch-in-2015', 'https://www.theguardian.com/business/2015/jan/02/european-central-bank-stimulus-deflation-mario-draghi', 'https://www.theguardian.com/business/live/2015/jan/02/mario-draghi-says-ecb-is-ready-to-pump-more-stimulus-into-eurozone-economy--business-live', 'https://www.theguardian.com/business/2014/dec/28/challenging-party-games-greece-debt-crisis', 'https://www.theguardian.com/business/2014/dec/28/five-issues-world-economy-2015', 'https://www.theguardian.com/business/2014/dec/21/italy-euro-matteo-renzi-eurosceptic', 'https://www.theguardian.com/business/2014/dec/18/switzerland-negative-interest-rate-swiss-franc', 'https://www.theguardian.com/world/2014/dec/14/greece-election-eu-finance-chief-athens-grexit-fears', 'https://www.theguardian.com/business/2014/dec/14/eurozone-crisis-history-repeating-itself-again', 'https://www.theguardian.com/politics/2014/dec/14/strictly-come-dancing-for-central-bankers-mario-draghi', 'https://www.theguardian.com/business/2014/dec/12/world-stock-markets-tumble-and-ftse-suffers-worst-fall-since-2011', 'https://www.theguardian.com/business/live/2014/dec/12/economic-fears-and-greek-crisis-weigh-on-markets-business-live', 'https://www.theguardian.com/business/2014/dec/12/eurozone-deflation-looms-quantitative-easing-is-the-answer', 'https://www.theguardian.com/business/live/2014/dec/09/tesco-warns-on-profits-dave-lewis-greece-china', 'https://www.theguardian.com/business/live/2014/dec/08/japans-recession-deeper-german-industrial-output-live', 'https://www.theguardian.com/business/nils-pratley-on-finance/2014/dec/04/european-central-bank-soap-opera', 'https://www.theguardian.com/business/2014/dec/04/ecb-cuts-eurozone-growth-forecasts-quantitative-easing', 'https://www.theguardian.com/business/live/2014/dec/04/european-central-bank-qe-signal-mario-draghi-business-live', 'https://www.theguardian.com/business/2014/dec/03/eurozone-economy-stumbles-raising-fears-new-year-recession', 'https://www.theguardian.com/business/2014/dec/01/eurozone-time-running-out', 'https://www.theguardian.com/business/2014/nov/30/eurozone-quantitative-easing-european-central-bank', 'https://www.theguardian.com/commentisfree/2014/nov/26/eu-cash-bomb-recession-juncker-new-fund', 'https://www.theguardian.com/commentisfree/2014/nov/26/what-gordon-brown-got-right-prime-minister', 'https://www.theguardian.com/business/2014/nov/23/deflation-real-monster-forget-central-bankers', 'https://www.theguardian.com/politics/2014/nov/17/david-cameron-excuses-world-economy-japan-recession-miliband', 'https://www.theguardian.com/world/2014/nov/16/david-cameron-third-eurozone-recession-g20-warning', 'https://www.theguardian.com/business/economics-blog/2014/nov/16/david-cameron-economics-warning-lights-analysis', 'https://www.theguardian.com/world/2014/nov/16/lira-looks-set-for-comeback', 'https://www.theguardian.com/business/economics-blog/2014/nov/14/eurozone-gdp-figures-escape-lost-decade', 'https://www.theguardian.com/world/2014/nov/10/stagnant-eurozone-growth-figures-recession-fears', 'https://www.theguardian.com/business/2014/nov/06/european-central-bank-1-trillion-euro-eurozone-quantitative-easing', 'https://www.theguardian.com/business/live/2014/nov/06/german-factory-orders-morrisons-ecb-bank-of-england-live', 'https://www.theguardian.com/business/marketforceslive/2014/nov/06/ftse-100-finishes-higher-after-ecb-hints-while-randgold-resources-recovers-but-rsa-falls', 'https://www.theguardian.com/business/2014/oct/31/eurozone-inflation-rises-concerns-deflation-european-central-bank-ecb', 'https://www.theguardian.com/business/economics-blog/2014/oct/29/quantitative-easing-policy-stimulus-janet-yellen-ecb', 'https://www.theguardian.com/business/2014/oct/26/european-banks-fail-financial-stress-tests', 'https://www.theguardian.com/world/2014/oct/26/permanent-tsb-european-central-bank-ecb-eu-financial-stress-test-ireland-michael-noonan', 'https://www.theguardian.com/business/blog/live/2014/oct/22/european-markets-to-rally-on-stimulus-hopes-business-live']\n"
          ]
        }
      ]
    },
    {
      "cell_type": "code",
      "source": [
        "df_usa = scrape_relevant_data(max_pages = 50, region = 'USA')\n",
        "df_usa = df_usa.drop_duplicates()\n",
        "df_usa"
      ],
      "metadata": {
        "colab": {
          "base_uri": "https://localhost:8080/"
        },
        "id": "9OHOi3z1zsdc",
        "outputId": "bd408ca1-40fb-4a51-f71e-3ebbffbb39cf"
      },
      "execution_count": null,
      "outputs": [
        {
          "output_type": "stream",
          "name": "stdout",
          "text": [
            "https://www.theguardian.com/business/2023/apr/07/us-jobs-report-march-2023\n",
            "https://www.theguardian.com/business/2023/mar/22/interest-rate-rise-us-federal-reserve-banking-turmoil\n",
            "https://www.theguardian.com/business/2023/mar/22/decision-on-interest-rate-rise-on-knife-edge-amid-banking-crisis-fears\n",
            "https://www.theguardian.com/us-news/2023/mar/21/federal-reserve-new-york-union-sodexo-food-service\n",
            "https://www.theguardian.com/commentisfree/2023/mar/21/federal-reserve-interest-rate-hikes-central-banks\n",
            "https://www.theguardian.com/business/2023/mar/19/elizabeth-warren-us-bank-collapse-fed-chair-jerome-powell\n",
            "https://www.theguardian.com/business/2023/mar/19/silicon-valley-banks-collapse-will-not-be-a-one-off-a-banking-crisis-was-long-overdue\n",
            "https://www.theguardian.com/commentisfree/2023/mar/17/silicon-valley-bank-bailout-dodd-frank-regulation-opinion\n",
            "https://www.theguardian.com/business/2023/mar/16/cash-strapped-banks-have-borrowed-300bn-from-the-fed-this-past-week\n",
            "https://www.theguardian.com/business/2023/mar/14/svb-collapse-presents-central-banks-with-a-big-headache\n",
            "https://www.theguardian.com/business/2023/mar/14/us-inflation-slows-banking-crisis\n",
            "https://www.theguardian.com/business/nils-pratley-on-finance/2023/mar/13/uk-silicon-valley-bank-us-svb-hsbc\n",
            "https://www.theguardian.com/business/2023/mar/13/silicon-valley-bank-collapse-central-banks-interest-rate-rises\n",
            "https://www.theguardian.com/us-news/2023/mar/10/silicon-valley-bank-collapse-explainer\n",
            "https://www.theguardian.com/business/2023/mar/10/us-jobs-report-february-2023\n",
            "https://www.theguardian.com/commentisfree/2023/mar/08/federal-reserve-interest-rate-rise-jerome-powell\n",
            "https://www.theguardian.com/business/2023/mar/07/inflation-fed-chair-jerome-powell-congress\n",
            "https://www.theguardian.com/business/live/2023/mar/07/uk-house-prices-rise-february-halifax-greggs-cost-inflation-squeeze-business-live\n",
            "https://www.theguardian.com/business/2023/feb/14/us-inflation-eases-seventh-consecutive-month\n",
            "https://www.theguardian.com/business/2023/feb/07/fed-jerome-powell-interest-rates-inflation\n",
            "https://www.theguardian.com/business/2023/feb/01/fed-small-interest-hike-inflation-eases\n",
            "https://www.theguardian.com/business/2023/jan/31/one-trillion-dollar-coin-debt-ceiling-solution\n",
            "https://www.theguardian.com/business/2023/jan/26/us-economy-gdp-2022-q4-interest-rates\n",
            "https://www.theguardian.com/business/2023/jan/20/climate-economic-stability-central-bankers\n",
            "https://www.theguardian.com/business/2023/jan/10/world-bank-walking-tightrope-as-it-mulls-increased-lending-to-poorest\n",
            "https://www.theguardian.com/commentisfree/2023/jan/08/us-monopolies-inflation-unemployment-rising-prices-federal-reserve\n",
            "https://www.theguardian.com/business/2022/dec/26/the-pendulum-swung-against-globalisation-in-2022-and-thats-no-bad-thing\n",
            "https://www.theguardian.com/business/2022/dec/25/small-businesses-interest-rates-\n",
            "https://www.theguardian.com/business/2022/dec/14/fed-interest-rate-increase\n",
            "https://www.theguardian.com/business/2022/dec/13/inflation-report-november-cpi-reserve-rate\n",
            "https://www.theguardian.com/business/2022/dec/09/raising-interest-rates-inflation-central-banks-recession\n",
            "https://www.theguardian.com/business/2022/dec/02/us-jobs-report-november-unemployment-rate\n",
            "https://www.theguardian.com/business/2022/nov/30/federal-reserve-pace-increments-extend-higher-points-period\n",
            "https://www.theguardian.com/business/live/2022/nov/24/pound-high-dollar-fed-uk-economy-recession-bank-of-england-business-live\n",
            "https://www.theguardian.com/commentisfree/2022/nov/06/men-forget-their-manners-dealing-powerful-women\n",
            "https://www.theguardian.com/business/2022/nov/05/fed-reserve-jerome-powell-paul-volcker\n",
            "https://www.theguardian.com/business/2022/nov/02/fed-interest-rate-increase-inflation\n",
            "https://www.theguardian.com/business/2022/oct/26/us-mortgage-interest-rates-highest-2001\n",
            "https://www.theguardian.com/commentisfree/2022/oct/16/the-guardian-view-on-central-bankers-dont-put-them-in-charge-of-the-crisis\n",
            "https://www.theguardian.com/business/2022/oct/13/us-inflation-rate-september-midterm-elections\n",
            "https://www.theguardian.com/business/2022/oct/10/us-economy-recession-jamie-dimon\n",
            "https://www.theguardian.com/commentisfree/2022/oct/08/us-policymakers-austerity-by-other-names\n",
            "https://www.theguardian.com/business/2022/oct/03/un-accuses-richest-nations-of-imprudent-gamble-in-inflation-fight\n",
            "https://www.theguardian.com/business/2022/sep/29/us-mortgage-rates-high-freddie-mac\n",
            "https://www.theguardian.com/environment/2022/sep/28/worlds-central-banks-financing-destruction-of-the-rainforest\n",
            "https://www.theguardian.com/business/2022/sep/28/a-global-recession-looks-increasingly-likely-but-heres-how-australia-could-escape-it\n",
            "https://www.theguardian.com/business/2022/sep/26/what-does-pound-slump-mean-for-uk-and-its-consumers\n",
            "https://www.theguardian.com/commentisfree/2022/sep/23/federal-reserve-interest-rate-hikes-are-going-to-hit-the-most-vulnerable\n",
            "https://www.theguardian.com/business/2022/sep/21/fed-raises-interest-rates-third-increase-in-row\n",
            "https://www.theguardian.com/business/2022/sep/21/federal-reserve-inflation-rate-forecast-economy\n",
            "https://www.theguardian.com/business/2022/sep/13/us-inflation-rate-august-2022-gas-prices\n",
            "https://www.theguardian.com/business/2022/sep/12/the-fed-interest-rate-rises-us-inflation-unemployment-recession\n",
            "https://www.theguardian.com/business/2022/sep/10/central-bankers-talk-tough-but-they-cant-fight-inflation-like-this\n",
            "https://www.theguardian.com/business/2022/aug/28/the-fed-keeps-raising-interest-rates-working-people-are-getting-hammered-by-it\n",
            "https://www.theguardian.com/us-news/live/2022/aug/26/trump-affidavit-fbi-biden-abortion-student-loan-latest-updates\n",
            "https://www.theguardian.com/business/2022/aug/26/fed-inflation-jerome-powell-job-losses-jackson-hole\n",
            "https://www.theguardian.com/business/2022/aug/12/the-bank-of-england-after-boris-johnson-should-inflation-target-be-raised\n",
            "https://www.theguardian.com/business/live/2022/aug/11/us-federal-reserve-inflation-interest-rates-ftse-100-gdp-house-prices-business-live\n",
            "https://www.theguardian.com/business/2022/aug/10/inflation-decline-explainer-gas-food-homes\n",
            "https://www.theguardian.com/business/2022/jul/31/era-of-soaring-house-prices-is-ending-as-central-banks-raise-rates\n",
            "https://www.theguardian.com/commentisfree/2022/jul/31/us-inflation-corporate-greed\n",
            "https://www.theguardian.com/business/2022/jul/27/fed-increase-interest-rates-inflation\n",
            "https://www.theguardian.com/us-news/live/2022/jul/27/us-fed-rates-chips-bill-guns-trump-doj-latest-updates\n",
            "https://www.theguardian.com/business/2022/jul/21/interest-rates-the-three-central-banks-facing-one-tricky-balancing-act\n",
            "https://www.theguardian.com/business/2022/jul/16/the-uss-selfish-war-on-inflation-will-tip-the-world-into-recession\n",
            "https://www.theguardian.com/business/2022/jul/14/jp-morgan-chase-sets-aside-funds-to-cover-feared-loan-losses\n",
            "https://www.theguardian.com/business/2022/jul/13/us-inflation-why-so-high-what-we-know\n",
            "https://www.theguardian.com/business/2022/jul/13/high-us-gas-food-prices-june-led-to-largest-annual-increase-inflation-40-years\n",
            "https://www.theguardian.com/business/2022/jun/30/stagflationary-debt-crisis-us-recession\n",
            "https://www.theguardian.com/business/2022/jun/29/central-bank-heads-warn-world-economy-faces-new-inflationary-era\n",
            "https://www.theguardian.com/business/2022/jun/28/central-bank-fed-ecb-bank-england\n",
            "https://www.theguardian.com/business/2022/jun/22/fed-raising-rates-compelling-evidence-lowering-inflation-jerome-powell\n",
            "https://www.theguardian.com/business/2022/jun/20/bank-of-england-policymaker-calls-for-faster-rate-rises-to-prevent-weak-pound-fuelling-inflation\n",
            "https://www.theguardian.com/business/2022/jun/18/we-face-a-global-economic-crisis-and-no-one-knows-what-to-do-about-it\n",
            "https://www.theguardian.com/commentisfree/2022/jun/18/the-federal-reserve-says-its-remedies-for-inflation-will-cause-pain-but-to-whom\n",
            "https://www.theguardian.com/business/2022/jun/15/interest-rate-us-latest-increase-federal-reserve\n",
            "https://www.theguardian.com/business/2022/jun/15/federal-reserve-rate-increase-recession-economists-react\n",
            "https://www.theguardian.com/business/2022/jun/15/tough-action-on-interest-rates-in-the-us-but-how-rattled-is-the-us-federal-reserve\n",
            "https://www.theguardian.com/business/2022/jun/15/markets-brace-rise-us-interest-rates-federal-reserve-borrowing-inflation\n",
            "https://www.theguardian.com/business/2022/jun/14/asx-australian-stocks-drop-more-than-5-following-global-sell-off-on-inflation-fears\n",
            "https://www.theguardian.com/business/2022/jun/13/wall-street-stock-markets-bear-market\n",
            "https://www.theguardian.com/business/2022/may/18/us-stock-markets-latest-wednesday-dow-jones-recession\n",
            "https://www.theguardian.com/business/2022/may/08/rishi-sunak-can-fight-recession-risks-with-a-cost-of-living-support-package\n",
            "https://www.theguardian.com/business/2022/may/05/us-stock-market-inflation-federal-reserve\n",
            "https://www.theguardian.com/business/2022/may/04/fed-rate-increase-inflation\n",
            "https://www.theguardian.com/business/live/2022/may/04/german-exports-russia-oil-stock-markets-cost-of-living-federal-reserve-rates-business-live\n",
            "https://www.theguardian.com/business/2022/apr/28/risk-of-recession-in-europe-us-and-china-is-rising-by-the-day\n",
            "https://www.theguardian.com/business/2022/mar/16/us-federal-reserve-interest-rates-inflation\n",
            "https://www.theguardian.com/business/2022/mar/16/bank-of-england-interest-rates-us-rise-uk-inflation-economy\n",
            "https://www.theguardian.com/us-news/2022/mar/04/us-jobs-report-february-analysis\n",
            "https://www.theguardian.com/business/2022/feb/13/central-banks-should-be-cautious-in-calibrating-a-response-to-inflation\n",
            "https://www.theguardian.com/world/2022/feb/11/biden-7bn-frozen-afghan-reserves-taliban\n",
            "https://www.theguardian.com/business/2022/feb/10/the-rise-in-global-inflation-the-hit-to-living-standards-across-the-world\n",
            "https://www.theguardian.com/commentisfree/2022/feb/05/fed-raise-interest-rates-shaft-american-workers-robert-reich\n",
            "https://www.theguardian.com/business/live/2022/jan/27/markets-hawkish-fed-us-rate-rises-ftse-dow-retail-inflation-growth-economy-business-live\n",
            "https://www.theguardian.com/business/2022/jan/27/asian-shares-fall-to-lowest-in-15-months-after-us-fed-nails-on-march-rate-rise\n",
            "https://www.theguardian.com/business/live/2022/jan/26/stock-markets-ftse-economics-federal-reserve-wall-street-powell-rates-business-live\n",
            "https://www.theguardian.com/business/2022/jan/26/us-federal-reserve-rise-interest-inflation\n",
            "https://www.theguardian.com/business/2022/jan/12/highest-us-inflation-in-40-years-signals-end-of-ultra-cheap-money\n",
            "https://www.theguardian.com/business/live/2022/jan/11/heathrow-flights-omicron-stock-markets-global-risks-inflation-federal-reserve-business-live\n",
            "https://www.theguardian.com/business/live/2022/jan/10/imf-emerging-economies-turbulence-fed-markets-ftse-dow-business-live\n",
            "https://www.theguardian.com/business/2022/jan/10/us-interest-rate-rise-could-hit-vulnerable-countries-imf-warns\n",
            "https://www.theguardian.com/commentisfree/2022/jan/09/us-jobs-report-warning-sign-even-before-omicron-surge\n",
            "https://www.theguardian.com/business/2021/dec/30/big-economies-and-markets-fare-well-despite-covid-but-2022-brings-new-risks\n",
            "https://www.theguardian.com/business/2021/dec/15/us-federal-reserve-expected-to-speed-up-end-of-pandemic-support\n",
            "https://www.theguardian.com/business/2021/dec/12/us-inflation-must-be-tamed-carefully-or-risk-the-nasty-side-effects-of-80s-monetarism\n",
            "https://www.theguardian.com/business/2021/nov/26/markets-warn-central-banks-get-grip-on-inflation-interest-rates\n",
            "https://www.theguardian.com/business/2021/nov/26/how-worlds-major-economies-are-dealing-with-spectre-of-inflation\n",
            "https://www.theguardian.com/business/live/2021/nov/25/sterling-fed-faster-tapering-german-consumers-covid-shortages-uk-retail-sales-business-live\n",
            "https://www.theguardian.com/business/2021/nov/22/jerome-powell-reappointed-for-second-term-as-chair-of-us-federal-reserve\n",
            "https://www.theguardian.com/commentisfree/2021/nov/11/us-inflation-market-power-america-antitrust-robert-reich\n",
            "https://www.theguardian.com/business/2021/nov/10/inflation-us-latest-high-30-years-economy-predictions\n",
            "https://www.theguardian.com/business/2021/nov/10/why-the-federal-reserve-chair-jerome-powell-must-go\n",
            "https://www.theguardian.com/business/live/2021/nov/03/nationwide-house-prices-us-federal-reserve-services-uk-eurozone-supply-chain-business-live\n",
            "https://www.theguardian.com/business/2021/nov/03/us-federal-reserve-winding-down-covid-stimulus\n",
            "https://www.theguardian.com/business/2021/oct/17/the-next-global-economic-emergency-deepening-debt-in-the-developing-world\n",
            "https://www.theguardian.com/commentisfree/2021/oct/10/facebook-fed-federal-reserve-supreme-court-democracy-apocalypse\n",
            "https://www.theguardian.com/business/2021/sep/28/elizabeth-warren-fed-chair-jerome-powell-dangerous\n",
            "https://www.theguardian.com/business/2021/sep/22/federal-reserve-hints-end-pandemic-stimulus-raise-interest-rates\n",
            "https://www.theguardian.com/business/live/2021/sep/22/markets-evergrande-crisis-fed-meeting-co2-supply-chains-energy-entain-ftse-sterling-business-live\n",
            "https://www.theguardian.com/business/2021/aug/31/jerome-powell-alexandria-ocasio-cortez-federal-reserve\n",
            "https://www.theguardian.com/business/live/2021/aug/27/china-ipo-ban-tech-jerome-powell-fed-ftse-supply-chain-chips-oil-business-live\n",
            "https://www.theguardian.com/business/2021/aug/27/wall-street-hits-new-highs-after-fed-extends-covid-stimulus-package\n",
            "https://www.theguardian.com/business/2021/aug/25/us-central-bank-chief-expected-to-take-wait-and-see-approach-to-economy\n",
            "https://www.theguardian.com/business/2021/aug/22/banking-chiefs-head-for-the-hills-in-bid-to-leave-cheap-money-behind\n",
            "https://www.theguardian.com/business/nils-pratley-on-finance/2021/aug/19/taper-tantrum-by-stock-markets-points-to-gaps-in-the-easy-recovery-story\n",
            "https://www.theguardian.com/business/2021/aug/19/european-stock-markets-covid-support-shares-pandemic-central-banks\n",
            "https://www.theguardian.com/business/2021/jul/21/central-banks-cant-reduce-inequality-its-time-for-ministers-to-act\n",
            "https://www.theguardian.com/business/2021/jul/13/us-hit-13-year-high-last-month\n",
            "https://www.theguardian.com/business/2021/jul/02/1970s-stagflation-2008-debt-crisis-global-economy\n",
            "https://www.theguardian.com/business/live/2021/jun/17/markets-dollar-pound-ftse-federal-reserve-signals-rate-hike-us-jobless-business-live\n",
            "https://www.theguardian.com/business/live/2021/jun/16/uk-inflation-rises-prices-fuel-clothing-ftse-stock-market-federal-reserve-meeting-powell-business-live\n",
            "https://www.theguardian.com/business/nils-pratley-on-finance/2021/may/12/federal-reserve-us-inflation-investors-interest-rates\n",
            "https://www.theguardian.com/commentisfree/2021/apr/25/the-guardian-view-on-bidens-green-revolution-it-needs-revolutionaries\n",
            "https://www.theguardian.com/business/2021/apr/12/big-tech-finance-regulators-amazon-alibaba-tencent\n",
            "https://www.theguardian.com/business/live/2021/apr/08/ftse-100-federal-reserve-markets-coronavirus-covid-19-european-central-bank-ecb-gfg-gupta-business-live\n",
            "https://www.theguardian.com/business/live/2021/mar/18/bank-of-england-federal-reserve-markets-ftse-pound-eurozone-us-jobless-business-live\n",
            "https://www.theguardian.com/business/live/2021/mar/17/markets-us-fed-decision-growth-rates-powell-uber-oil-ftse-pound-business-live\n",
            "https://www.theguardian.com/business/2021/feb/23/fed-chair-jerome-powell-economic-reovery\n",
            "https://www.theguardian.com/business/2021/feb/16/joe-biden-stimulus-package-wall-street\n",
            "https://www.theguardian.com/business/2021/feb/10/central-banks-arent-what-they-used-to-be-and-the-better-for-it\n",
            "https://www.theguardian.com/business/2021/feb/05/recovery-covid-recession-poorer-countries-us-fed\n",
            "https://www.theguardian.com/business/live/2021/jan/27/german-consumer-confidence-falls-as-markets-await-fed-decision-business-live\n",
            "https://www.theguardian.com/business/2021/jan/15/the-2000-stimulus-cheques-alone-wont-work-the-us-needs-better-infrastructure\n",
            "https://www.theguardian.com/business/2021/jan/08/stock-markets-impervious-to-bad-news-vaccine-optimism-bidenomics\n",
            "https://www.theguardian.com/business/live/2021/jan/07/stock-markets-boosted-as-calm-to-capitol-hill-restored-business-live\n",
            "https://www.theguardian.com/business/2021/jan/01/janet-yellen-speaking-fees-us-treasury-secretary\n",
            "https://www.theguardian.com/business/2020/dec/17/markets-record-highs-rising-optimism-pandemic-recovery-covid-vaccines-stimulus-economy-2021\n",
            "https://www.theguardian.com/business/2020/dec/17/what-the-us-must-do-to-avoid-a-vicious-covid-cycle\n",
            "https://www.theguardian.com/business/2020/dec/05/jobs-slump-and-covid-lead-litany-of-post-trump-crises-facing-janet-yellen\n",
            "https://www.theguardian.com/business/2020/nov/23/janet-yellen-fed-chair-treasury-secretary\n",
            "https://www.theguardian.com/world/2020/nov/14/covid-vaccine-rally-fuels-market-optimism-of-a-faster-global-recovery\n",
            "https://www.theguardian.com/business/2020/nov/08/the-relief-of-bidens-win-will-be-tempered-by-economic-headwinds\n",
            "https://www.theguardian.com/business/2020/oct/07/slugs-us-economy-covid-stimulus-trump\n",
            "https://www.theguardian.com/business/2020/oct/07/central-bank-covid-donald-trump-stimulus-package\n",
            "https://www.theguardian.com/business/2020/oct/06/federal-reserve-chair-jerome-powell-coronavirus-relief\n",
            "https://www.theguardian.com/business/2020/sep/22/us-economy-improvement-path-uncertain-jerome-powell-fed\n",
            "https://www.theguardian.com/business/live/2020/sep/16/uk-inflation-falls-covid-19-stock-markets-us-federal-reserve-business-live\n",
            "https://www.theguardian.com/business/2020/sep/10/us-covid-19-crisis-health-economy\n",
            "https://www.theguardian.com/commentisfree/2020/sep/09/central-banks-deflation-covid-19-world-economy\n",
            "https://www.theguardian.com/business/live/2020/aug/28/japan-stocks-nikkei-yen-shinzo-abe-resignation-andrew-bailey-bank-of-england-coronavirus-covid-19-ftse-100-business-live\n",
            "https://www.theguardian.com/business/2020/aug/27/wall-street-shares-rise-after-fed-announces-soft-approach-to-inflation\n",
            "https://www.theguardian.com/business/live/2020/aug/27/ftse-100-jay-jerome-powell-speech-federal-reserve-inflation-targeting-coronavirus-covid-19-economy-business-live\n",
            "https://www.theguardian.com/business/live/2020/aug/26/oil-prices-hurricane-storm-laura-coronavirus-covid-19-jackson-hole-jerome-jay-powell-ftse-business-live\n",
            "https://www.theguardian.com/business/2020/aug/26/central-bankers-to-fish-for-compliments-at-virtual-jackson-hole-summit-covid-19-andrew-bailey\n",
            "https://www.theguardian.com/business/2020/aug/25/is-this-the-end-of-the-road-for-dollar-dominance\n",
            "https://www.theguardian.com/business/2020/aug/24/price-of-gold-should-not-determine-us-monetary-policy\n",
            "https://www.theguardian.com/business/2020/aug/22/five-factors-behind-the-us-stock-markets-miraculous-turnaround\n",
            "https://www.theguardian.com/business/live/2020/aug/20/markets-slide-fears-covid-19-economic-recovery-unemployment-factory-output-business-live\n",
            "https://www.theguardian.com/business/nils-pratley-on-finance/2020/aug/19/what-explains-markets-rip-roaring-success-in-the-face-of-covid-disaster\n",
            "https://www.theguardian.com/business/2020/aug/18/covid-turnaround-wall-street-standard-poors-index-high\n",
            "https://www.theguardian.com/business/2020/aug/13/forget-doom-laden-headlines-the-dollar-has-not-gone-into-terminal-decline\n",
            "https://www.theguardian.com/business/2020/aug/04/bps-dividend-cut-is-a-no-brainer-as-it-sets-sights-on-green-energy-vow\n",
            "https://www.theguardian.com/business/2020/jul/02/invest-in-the-green-economy-and-well-recover-from-the-covid-19-crisis\n",
            "https://www.theguardian.com/business/live/2020/jun/26/stocks-rise-despite-fed-warning-over-700bn-in-covid-19-loan-losses-business-live\n",
            "https://www.theguardian.com/business/live/2020/jun/19/uk-borrowing-hits-record-55bn-in-may-retail-sales-rebound-covid-19-coronavirus-economy-bank-of-england-business-live\n",
            "https://www.theguardian.com/commentisfree/2020/jun/18/central-banks-pumped-money-economy-democracy-fairer-society\n",
            "https://www.theguardian.com/business/2020/jun/16/world-stock-markets-bounce-back-despite-poor-economic-prognosis-coronavirus\n",
            "https://www.theguardian.com/business/2020/jun/16/us-economy-coronavirus-fears-fed-chair-jerome-powell\n",
            "https://www.theguardian.com/business/live/2020/jun/16/uk-payrolls-coronavirus-covid-19-crisis-unemployment-federal-reserve-ftse-100-sterling-dollar-powell-business-live\n",
            "https://www.theguardian.com/commentisfree/2020/jun/12/britain-public-debt-economists-coronavirus-deficit-austerity\n",
            "https://www.theguardian.com/business/live/2020/jun/11/global-stock-markets-federal-reserve-jerome-powell-ftse-dollar-pound-covid-19-business-live\n",
            "https://www.theguardian.com/business/2020/jun/10/us-economy-federal-reserve-jobs-coronavirus\n",
            "https://www.theguardian.com/business/live/2020/jun/10/stock-market-rally-fades-as-investors-await-us-fed-federal-reserve-forecasts-coronavirus-covid-19-sterling-eurozone-pound-brexit-business-live\n",
            "https://www.theguardian.com/business/2020/jun/07/america-jobs-turnaround-fed-deserves-praise-trump-benefits\n",
            "https://www.theguardian.com/business/2020/may/28/lack-of-international-cooperation-will-hinder-economic-recovery-coronavirus\n",
            "https://www.theguardian.com/business/2020/may/19/us-economy-damage-mnuchin-treasury-secretary\n",
            "https://www.theguardian.com/business/2020/may/14/stock-markets-slump-as-hopes-fade-for-swift-economic-recovery\n",
            "https://www.theguardian.com/business/2020/may/13/federal-reserve-coronavirus-jerome-powell-inequality\n",
            "https://www.theguardian.com/business/2020/may/12/increased-economic-stimulus-quite-possible-says-bank-of-england-official\n",
            "https://www.theguardian.com/environment/2020/may/12/us-fossil-fuel-companies-coronavirus-bailout-oil-coal-fracking-giants-bond-scheme\n",
            "https://www.theguardian.com/business/live/2020/apr/29/markets-covid-us-economy-federal-reserve-ftse-dow-business-live\n",
            "https://www.theguardian.com/business/2020/apr/26/us-europe-eu-financial-crises-coronabonds-federal-reserve-congress\n",
            "https://www.theguardian.com/commentisfree/2020/apr/17/coronavirus-deficit-american-economy\n",
            "https://www.theguardian.com/business/2020/apr/14/how-coronavirus-almost-brought-down-the-global-financial-system\n",
            "https://www.theguardian.com/business/2020/apr/07/investors-clamour-for-safe-haven-in-uk-government-bonds\n",
            "https://www.theguardian.com/business/2020/mar/26/us-recession-coronavirus-crisis-fed-chair-jerome-powell\n",
            "https://www.theguardian.com/business/2020/mar/23/the-fed-is-running-out-of-options-to-stave-off-a-coronavirus-depression\n",
            "https://www.theguardian.com/business/2020/mar/23/federal-reserve-coronavirus-plan-programs-bonds-small-businesses\n",
            "https://www.theguardian.com/business/2020/mar/18/the-federal-reserve-cant-save-us-can-trump-fix-the-impending-global-recession\n",
            "https://www.theguardian.com/world/2020/mar/17/us-government-to-give-citizens-emergency-financial-aid\n",
            "https://www.theguardian.com/business/live/2020/mar/16/recession-markets-tumble-fed-emergency-rate-cut-coronavirus-ftse-dow-iag-flutter-business-live\n",
            "https://www.theguardian.com/business/2020/mar/16/markets-hit-by-further-losses-despite-us-interest-rate-cut-willie-walsh-ba-coronavirus\n",
            "https://www.theguardian.com/business/2020/mar/15/federal-reserve-cuts-interest-rates-near-zero-prop-up-us-economy-coronavirus\n",
            "https://www.theguardian.com/business/2020/mar/15/prepare-for-the-coronavirus-global-recession\n",
            "https://www.theguardian.com/business/2020/mar/13/markets-rebound-after-worst-day-since-1987-amid-coronavirus-panic-ftse-100-dow-jones-wall-street\n",
            "https://www.theguardian.com/business/2020/mar/11/us-stocks-latest-bull-to-bear-market-signs-coronavirus-impact\n",
            "https://www.theguardian.com/business/2020/mar/07/economic-race-to-stop-victim-coronavirus-central-bankers\n",
            "https://www.theguardian.com/business/nils-pratley-on-finance/2020/mar/03/us-federal-reserves-interest-rate-cut-leaves-markets-guessing\n",
            "https://www.theguardian.com/world/2020/mar/03/mark-carney-tells-g7-bank-of-england-will-give-necessary-coronavirus-support\n",
            "https://www.theguardian.com/business/nils-pratley-on-finance/2020/mar/02/investors-know-what-to-do-when-interest-rates-are-cut-buy-shares\n",
            "https://www.theguardian.com/business/2020/feb/28/from-the-fed-to-bank-of-england-central-banks-must-up-their-game\n",
            "https://www.theguardian.com/business/live/2020/jan/29/hong-kong-stocks-slump-apple-house-prices-federal-reserve-rates-business-live\n",
            "https://www.theguardian.com/business/2020/jan/10/central-banks-are-now-the-markets-best-friends\n",
            "https://www.theguardian.com/business/2020/jan/01/us-election-brexit-and-china-to-sway-the-markets-in-2020\n",
            "https://www.theguardian.com/business/2019/dec/30/how-financial-markets-turned-upside-down-in-2019\n",
            "https://www.theguardian.com/commentisfree/2019/dec/29/of-course-trump-hates-central-bankers-they-tell-the-truth\n",
            "https://www.theguardian.com/business/2019/dec/24/paul-volcker-obituary\n",
            "https://www.theguardian.com/business/2019/dec/12/wall-street-hits-high-as-trump-raises-hopes-of-us-china-trade-deal\n",
            "https://www.theguardian.com/business/2019/dec/09/paul-volcker-deserves-remembered-most-influential-central-banker\n",
            "https://www.theguardian.com/business/2019/oct/30/federal-reserve-cuts-us-interest-rates-third-time-this-year\n",
            "https://www.theguardian.com/business/2019/oct/20/world-sleepwalking-to-another-financial-crisis-says-mervyn-king\n",
            "https://www.theguardian.com/business/live/2019/oct/04/markets-us-jobs-report-non-farm-payrolls-global-recession-fears-brexit-dollar-sterling-business-live\n",
            "https://www.theguardian.com/business/2019/sep/22/alison-rose-rbs-watershed-moment-women-management\n",
            "https://www.theguardian.com/business/live/2019/sep/18/markets-uk-inflation-house-prices-brexit-fed-rate-decision-business-live\n",
            "https://www.theguardian.com/business/2019/sep/18/federal-reserve-interest-rates-trump-jerome-powell\n",
            "https://www.theguardian.com/technology/2019/sep/15/banking-regulators-to-question-facebook-over-new-libra-cryptocurrency\n",
            "https://www.theguardian.com/commentisfree/2019/sep/12/central-banks-political-independence-monetary-fiscal-policy\n",
            "https://www.theguardian.com/us-news/live/2019/sep/11/trump-news-today-live-fed-recession-polls-2020-democrats-latest-updates\n",
            "https://www.theguardian.com/business/2019/sep/11/federal-reserve-must-be-honest-about-trump-trade-war\n",
            "https://www.theguardian.com/business/2019/sep/05/events-dear-boy-events-how-politics-is-making-markets-volatile\n",
            "https://www.theguardian.com/commentisfree/2019/aug/30/the-guardian-view-on-trump-v-the-us-fed-the-bully-pulpit\n",
            "https://www.theguardian.com/business/2019/aug/23/fed-chair-jerome-powell-trump-trade-policies-new-challenge\n",
            "https://www.theguardian.com/business/live/2019/aug/23/rbs-santander-ppi-jackson-hole-jerome-powell-federal-reserve-dollar-sterling-pound-brexit-business-live\n",
            "https://www.theguardian.com/business/2019/aug/22/wall-street-white-house-trump-federal-reserve-powell-recession\n",
            "https://www.theguardian.com/business/2019/aug/21/trump-raises-pressure-on-federal-reserve-to-cut-interest-rates\n",
            "https://www.theguardian.com/business/2019/aug/20/world-stocks-rally-as-trump-steps-up-pressure-on-fed-to-cut-rates\n",
            "https://www.theguardian.com/business/2019/aug/18/us-economy-2020-trump-advisers-navarro-kudlow-recession\n",
            "https://www.theguardian.com/business/2019/aug/17/global-markets-worried-good-reason-be-so-bond-values\n",
            "https://www.theguardian.com/business/2019/aug/16/warning-signs-for-global-economy-the-countries-spooking-investors\n",
            "https://www.theguardian.com/business/2019/aug/15/trump-foolish-think-gold-standard-age-fed-nominee-pegged-rates\n",
            "https://www.theguardian.com/business/2019/aug/14/dow-jones-plunges-800-points-markets-trump\n",
            "https://www.theguardian.com/business/2019/aug/14/inverted-curve-proves-white-house-won-battle-fed-wework\n",
            "https://www.theguardian.com/business/2019/aug/13/trump-adds-a-dismal-dimension-to-the-us-china-trade-dispute\n",
            "https://www.theguardian.com/business/2019/aug/01/pound-sinks-to-fresh-low-against-dollar-amid-no-deal-brexit-fears-sterling\n",
            "https://www.theguardian.com/business/2019/jul/31/the-fed-comes-up-with-an-interest-rate-cut-that-will-please-nobody\n",
            "https://www.theguardian.com/business/2019/jul/31/federal-reserve-cuts-interest-rates-by-025-its-first-in-a-decade\n",
            "https://www.theguardian.com/business/blog/live/2019/jul/31/european-stock-markets-to-bounce-back-ahead-of-fed-rate-decision-business-live\n",
            "https://www.theguardian.com/business/live/2019/jul/29/sterling-new-two-year-low-no-deal-brexit-fears-pound-euro-us-dollar-currencies-business-live\n",
            "https://www.theguardian.com/business/2019/jul/28/why-trump-prefers-mario-draghi-over-jerome-powell\n",
            "https://www.theguardian.com/business/2019/jul/27/sports-direct-life-hard-retailers-crisis-ashley-own-making\n",
            "https://www.theguardian.com/business/2019/jul/26/us-economic-growth-gdp-second-quarter-2019-growth\n",
            "https://www.theguardian.com/business/2019/jul/25/ecb-signals-it-will-move-to-boost-growth-amid-fears-of-low-inflation\n",
            "https://www.theguardian.com/business/2019/jul/22/have-central-bank-gambles-paid-off\n",
            "https://www.theguardian.com/business/2019/jul/19/gold-price-hits-six-year-high-as-investors-await-us-interest-rate-cut\n",
            "https://www.theguardian.com/business/2019/jul/10/jerome-powell-federal-reserve-interest-rates-cut-decade\n",
            "https://www.theguardian.com/news/2019/jul/09/us-china-trade-war-and-interest-rate-rises-spell-losses-for-the-super-rich\n",
            "https://www.theguardian.com/us-news/live/2019/jun/26/donald-trump-fed-chairman-jerome-powell-live-updates-us-election-democratic-debates\n",
            "https://www.theguardian.com/business/2019/jun/26/trump-criticises-fed-chairman-powell-for-trying-to-be-tough\n",
            "https://www.theguardian.com/business/2019/jun/23/fed-chairman-jerome-powell-trump\n",
            "https://www.theguardian.com/business/live/2019/jun/20/us-interest-rate-cut-dollar-pound-bank-of-england-decision-mark-carney-business-live\n",
            "https://www.theguardian.com/business/2019/jun/19/federal-reserve-chairman-jerome-powell-trump-stay\n",
            "https://www.theguardian.com/business/2019/jun/18/trump-jerome-powell-federal-reserve-interest-rates\n",
            "https://www.theguardian.com/business/2019/jun/18/donald-trump-attacks-ecb-for-currency-manipulation\n",
            "https://www.theguardian.com/business/2019/jun/12/the-unusual-us-economic-recovery-is-now-its-longest\n",
            "https://www.theguardian.com/business/2019/jun/11/quantitative-easing-qe-recession\n",
            "https://www.theguardian.com/business/2019/may/29/trump-needs-to-make-peace-with-china-and-get-a-cut-in-interest-rates\n",
            "https://www.theguardian.com/business/2019/may/29/bernanke-paulson-and-geithner-revisiting-the-2008-financial-crisis\n",
            "https://www.theguardian.com/business/2019/may/02/stephen-moore-trump-federal-reserve-nominee-withdraws-latest\n",
            "https://www.theguardian.com/business/2019/may/02/stephen-moore-trumps-fed-pick-underpaid-ex-wifes-alimony-for-years\n",
            "https://www.theguardian.com/business/live/2019/may/01/uk-house-prices-manufacturing-brexit-us-federal-reserve-business-live\n",
            "https://www.theguardian.com/business/2019/may/01/interest-rates-us-latest-trump-federal-reserve-snub-\n",
            "https://www.theguardian.com/us-news/2019/apr/29/stephen-moore-sexism-trump-fed-pick-comments-investigation\n",
            "https://www.theguardian.com/business/2019/apr/26/us-economic-growth-stronger-than-expected-despite-weak-demand\n",
            "https://www.theguardian.com/us-news/2019/apr/23/stephen-moore-trump-fed-pick-misogynistic-remarks\n",
            "https://www.theguardian.com/business/2019/apr/22/trump-says-he-will-not-nominate-herman-cain-to-federal-reserve-board\n",
            "https://www.theguardian.com/business/2019/apr/11/serious-threat-emerging-economies-us-recession-china\n",
            "https://www.theguardian.com/business/2019/apr/07/trump-fed-picks-stephen-moore-herman-cain\n",
            "https://www.theguardian.com/us-news/2019/apr/05/stephen-moore-trump-federal-reserve-board-divorce\n",
            "https://www.theguardian.com/business/2019/apr/03/stephen-moore-democrats-finances-irs-debts\n",
            "https://www.theguardian.com/business/2019/apr/01/stephen-moore-trump-fed-pick-legal-file-sealed\n",
            "https://www.theguardian.com/us-news/2019/mar/30/trump-stephen-moore-federal-reserve-board\n",
            "https://www.theguardian.com/business/2019/mar/27/stephen-moore-trump-federal-reserve-pick-owes-taxes-us-government-alleges\n",
            "https://www.theguardian.com/business/2019/mar/22/stephen-moore-federal-reserve-paul-erickson-maria-butina\n",
            "https://www.theguardian.com/business/live/2019/mar/20/uk-inflation-us-china-trade-war-federal-reserve-brexit-sterling-business-live\n",
            "https://www.theguardian.com/business/2019/mar/18/us-fed-interest-rate-rises-inflation\n",
            "https://www.theguardian.com/business/live/2019/mar/18/global-stock-markets-gain-as-investors-predict-cautious-federal-reserve-business-live\n",
            "https://www.theguardian.com/business/2019/mar/17/as-recession-looms-could-mmt-be-the-unorthodox-solution-modern-monetary-theory\n",
            "https://www.theguardian.com/business/live/2019/jan/30/french-economy-growth-gdp-uk-credit-us-federal-reserve-brexit-pound-business-live\n",
            "https://www.theguardian.com/business/2019/jan/19/doomsayers-warn-economic-slump-early-next-year\n",
            "https://www.theguardian.com/business/2019/jan/02/stock-markets-dive-china-manufacturing-contracts-ftse-wall-street-us-economy-business-bleak-start-to-2019\n",
            "https://www.theguardian.com/business/2018/dec/30/things-to-watch-out-for-in-2019-doom-and-plenty-of-gloom\n",
            "https://www.theguardian.com/business/2018/dec/27/the-most-read-guardian-business-stories-of-2018\n",
            "https://www.theguardian.com/us-news/2018/dec/24/trump-federal-reserve-golf-central-bank-trade\n",
            "https://www.theguardian.com/business/2018/dec/24/us-markets-mnuchin-to-convene-crisis-team-amid-white-house-chaos\n",
            "https://www.theguardian.com/business/2018/dec/23/trump-federal-reserve-chairman-jerome-powell-mulvaney\n",
            "https://www.theguardian.com/business/2018/dec/23/markets-face-instability-in-2019-as-white-house-intensifies-attacks-on-fed-chair\n",
            "https://www.theguardian.com/commentisfree/2018/dec/23/us-economic-precipice-donald-trump-government-shutdown\n",
            "https://www.theguardian.com/business/2018/dec/22/donald-trump-fire-federal-reserve-chairman-jerome-powell\n",
            "https://www.theguardian.com/business/live/2018/dec/20/markets-ftse-100-fed-rate-hike-donald-trump-bank-of-england-business-live\n",
            "https://www.theguardian.com/business/2018/dec/20/asian-shares-battered-after-fed-raises-rates-for-fourth-time\n",
            "https://www.theguardian.com/business/2018/dec/19/federal-reserve-interest-rates-raised-trump\n",
            "https://www.theguardian.com/business/live/2018/dec/19/markets-federal-reserve-interest-rate-decision-uk-inflation-business-live\n",
            "https://www.theguardian.com/business/2018/dec/19/why-the-federal-reserve-is-unbowed-by-donald-trump-interest-rate-rise\n",
            "https://www.theguardian.com/business/nils-pratley-on-finance/2018/dec/18/trump-has-a-point-about-interest-rates-but-his-method-is-foolhardy\n",
            "https://www.theguardian.com/business/2018/dec/18/trump-heaps-pressure-on-the-federal-reserve-over-interest-rate-rise\n",
            "https://www.theguardian.com/business/2018/dec/18/why-are-global-markets-falling-and-are-we-heading-for-recession\n",
            "https://www.theguardian.com/business/2018/dec/16/trump-turns-up-heat-federal-reserve-interest-rates\n",
            "https://www.theguardian.com/business/2018/nov/28/interest-rates-latest-federal-reserve-jerome-powell-softens-line\n",
            "https://www.theguardian.com/business/2018/nov/27/trump-trade-war-monetary-policy-central-banks\n",
            "https://www.theguardian.com/business/2018/nov/02/us-china-trade-deal-fears-and-rising-rates-ftse-100\n",
            "https://www.theguardian.com/business/2018/oct/26/who-deserves-the-credit-for-strong-us-economy-donald-trump\n",
            "https://www.theguardian.com/business/live/2018/oct/24/federal-reserve-donald-trump-powell-italy-budget-eurozone-business-live\n",
            "https://www.theguardian.com/business/nils-pratley-on-finance/2018/oct/18/the-fed-is-ignoring-trump-it-knows-this-is-a-fight-he-cannot-win\n",
            "https://www.theguardian.com/business/live/2018/oct/17/uk-inflation-state-pension-triple-lock-public-sector-consumer-prices-index-markets-business-live\n",
            "https://www.theguardian.com/business/2018/oct/11/stock-markets-dow-donald-trump-fed-chair\n",
            "https://www.theguardian.com/business/2018/oct/11/ftse-100-falls-in-second-day-of-global-market-turbulence\n",
            "https://www.theguardian.com/business/2018/oct/11/imf-boss-defends-federal-reserve-after-trump-calls-it-crazy\n",
            "https://www.theguardian.com/business/2018/oct/11/why-are-markets-plunging-and-which-stocks-are-worst-hit-us-interest-rates-trade-war\n",
            "https://www.theguardian.com/business/2018/oct/11/asian-stock-markets-dive-as-trump-attacks-crazy-us-rate-hikes\n",
            "https://www.theguardian.com/us-news/video/2018/oct/11/donald-trump-says-the-fed-has-gone-crazy-video\n",
            "https://www.theguardian.com/business/2018/oct/05/us-unemployment-rate-falls-to-lowest-level-since-1969\n",
            "https://www.theguardian.com/business/2018/oct/04/world-markets-rattled-by-us-inflation-concerns\n",
            "https://www.theguardian.com/business/live/2018/sep/27/markets-digest-fed-rate-hike-argentina-gets-57bn-imf-bailout-business-live\n",
            "https://www.theguardian.com/business/live/2018/sep/26/investors-poised-for-us-rate-hike-business-live\n",
            "https://www.theguardian.com/business/2018/sep/26/us-federal-reserve-raises-short-term-interest-rates-again\n",
            "https://www.theguardian.com/commentisfree/2018/sep/14/the-guardian-view-on-the-great-financial-crash-new-thinking-needed\n",
            "https://www.theguardian.com/business/2018/sep/08/emerging-economies-crisis-looms-shadow-america-boom-interest-rates\n",
            "https://www.theguardian.com/business/2018/sep/05/capitalists-magical-thinking\n",
            "https://www.theguardian.com/business/2018/aug/30/argentina-raises-interest-rates-to-60-to-shore-up-peso\n",
            "https://www.theguardian.com/business/2018/aug/24/fed-chairman-defends-rate-rise-policy-after-attack-by-trump\n",
            "https://www.theguardian.com/business/live/2018/aug/24/markets-wary-as-us-china-trade-talks-end-without-breakthrough-business-live\n",
            "https://www.theguardian.com/business/live/2018/aug/23/markets-nervous-amid-new-us-china-tariffs-and-trumps-troubles-business-live\n",
            "https://www.theguardian.com/business/2018/aug/22/how-a-wall-street-bull-run-that-smashed-all-the-records-evolved\n",
            "https://www.theguardian.com/politics/2018/aug/21/chancellor-finds-extra-wriggle-room-in-time-for-next-budget\n",
            "https://www.theguardian.com/business/live/2018/aug/21/dollar-falls-after-trump-lashes-out-at-federal-reserve-business-live\n",
            "https://www.theguardian.com/business/live/2018/jul/30/markets-cautious-after-tech-sell-off-and-ahead-of-central-bank-meetings-business-live\n",
            "https://www.theguardian.com/business/2018/jul/20/donald-trump-tariffs-all-chinese-imports-threat\n",
            "https://www.theguardian.com/business/2018/jul/20/trumps-tariffs-threaten-global-prosperity-warns-angela-merkel\n",
            "https://www.theguardian.com/business/live/2018/jul/20/trump-fed-criticism-currency-war-fears-yuan-uk-public-finances-business-live\n",
            "https://www.theguardian.com/business/2018/jun/17/us-fed-rushes-in-where-ecb-fears-to-tread\n",
            "https://www.theguardian.com/business/live/2018/jun/14/ecb-qe-stimulus-mario-draghi-fed-rate-hike-uk-retail-sales-business-live\n",
            "https://www.theguardian.com/business/2018/jun/13/interest-rates-federal-reserve-raises-us-again\n",
            "https://www.theguardian.com/business/2018/may/30/volcker-rule-federal-reserve-ease-regulations\n",
            "https://www.theguardian.com/business/2018/may/22/federal-reserve-emergency-expense-economic-survey\n",
            "https://www.theguardian.com/commentisfree/2018/apr/19/the-guardian-view-on-the-imf-practise-what-you-preach\n",
            "https://www.theguardian.com/business/live/2018/mar/22/bank-of-england-interest-rates-decision-fed-brexit-inflation-business-live\n",
            "https://www.theguardian.com/business/live/2018/mar/21/us-fed-interest-rates-uk-unemployment-retail-mothercare-moss-bros-carpetright-business-live\n",
            "https://www.theguardian.com/business/2018/mar/21/interest-rates-latest-us-federal-reserve-decision-raise\n",
            "https://www.theguardian.com/business/2018/mar/18/developing-countries-risk-from-us-rate-rise-jubilee-debt-campaign-warns\n",
            "https://www.theguardian.com/business/live/2018/feb/28/markets-fall-interest-rate-fears-brexit-pound-growth-gdp-business-live\n",
            "https://www.theguardian.com/business/live/2018/feb/27/comcast-murdoch-sky-takeover-bid-jerome-powell-fed-congress-business-live\n",
            "https://www.theguardian.com/business/2018/feb/27/federal-reserve-chairman-jerome-powell-congress-testimony\n",
            "https://www.theguardian.com/business/2018/feb/15/markets-shrug-off-us-inflation-worries-to-make-fresh-gains\n",
            "https://www.theguardian.com/business/2018/feb/14/wobble-on-wall-street-but-what-are-the-underlying-pressures\n",
            "https://www.theguardian.com/business/2018/feb/07/global-stock-markets-recover-after-sharp-losses\n",
            "https://www.theguardian.com/business/2018/feb/06/stock-market-fall-correction-crash-shares\n",
            "https://www.theguardian.com/business/2018/feb/05/stock-markets-continue-to-fall-amid-interest-rate-hike-fears\n",
            "https://www.theguardian.com/business/2018/feb/05/why-are-global-stock-markets-falling\n",
            "https://www.theguardian.com/business/2018/feb/04/janet-yellen-fed-chair-trump\n",
            "https://www.theguardian.com/business/2018/feb/04/is-this-the-1987-us-economy-or-just-deja-vu\n",
            "https://www.theguardian.com/business/2018/feb/02/us-bond-market-rout-fears-trigger-wall-street-sell-off\n",
            "https://www.theguardian.com/business/2018/jan/30/janet-yellen-sets-interest-rates-one-last-time-how-will-history-rate-her\n",
            "https://www.theguardian.com/business/live/2018/jan/29/pound-slips-as-dollar-recovers-ahead-of-us-inflation-figures-business-live\n",
            "https://www.theguardian.com/business/2017/dec/13/interest-rate-rise-federal-reserve-janet-yellen-final-act\n",
            "https://www.theguardian.com/business/2017/dec/11/uk-business-investment-on-ice-until-more-brexit-progress-warns-bcc\n",
            "https://www.theguardian.com/business/2017/dec/03/financial-markets-overheating-financial-crisis-bis\n",
            "https://www.theguardian.com/business/2017/nov/10/central-banks-are-back-in-the-dock-but-they-must-be-found-not-guilty\n",
            "https://www.theguardian.com/business/2017/nov/05/jerome-powell-boring-choice-fed-chairman-interesting-times\n",
            "https://www.theguardian.com/business/2017/nov/03/us-fed-trump-jerome-powell-janet-yellen-federal-reserve\n",
            "https://www.theguardian.com/business/2017/nov/02/jay-powell-federal-reserve-janet-yellen\n",
            "https://www.theguardian.com/business/2017/oct/27/the-fed-shortlist-who-will-hold-the-second-most-important-job-in-the-us\n",
            "https://www.theguardian.com/business/2017/oct/25/central-banks-need-to-be-more-media-savvy\n",
            "https://www.theguardian.com/commentisfree/2017/oct/22/time-to-reinvent-the-federal-reserve\n",
            "https://www.theguardian.com/business/2017/oct/13/janet-yellen-federal-reserve-chair-change\n",
            "https://www.theguardian.com/business/2017/sep/24/federal-reserve-change-direction-fuel-americas-debt-problem-qe\n",
            "https://www.theguardian.com/business/live/2017/sep/21/dollar-rallies-fed-ends-qe-markets-uk-public-finances-ryanair-agm-live\n",
            "https://www.theguardian.com/business/live/2017/sep/20/us-federal-reserve-decision-janet-yellen-markets-uk-retail-business-live\n",
            "https://www.theguardian.com/business/2017/sep/20/federal-reserve-financial-crisis-stimulus-sell-off-interest-rates\n",
            "https://www.theguardian.com/business/2017/sep/19/why-central-banks-are-not-hitting-their-2-inflation-target\n",
            "https://www.theguardian.com/business/live/2017/sep/01/investors-await-key-us-jobs-report-for-clues-on-next-rate-move-business-live\n",
            "https://www.theguardian.com/business/2017/aug/27/central-banks-governments-debt-spending-investment\n",
            "https://www.theguardian.com/us-news/2017/aug/25/us-central-bank-boss-janet-yellen-rebukes-trump-over-plan-to-lift-regulations\n",
            "https://www.theguardian.com/business/live/2017/aug/25/sterling-markets-jackson-hole-bankers-janet-yellen-live\n",
            "https://www.theguardian.com/business/2017/aug/24/financial-deregulation-us-crisis-federal-reserve-trump\n",
            "https://www.theguardian.com/business/live/2017/aug/24/pound-dips-again-ahead-of-uk-gdp-figures-business-live\n",
            "https://www.theguardian.com/business/live/2017/aug/21/markets-cautious-ahead-of-key-week-for-central-banks-business-live\n",
            "https://www.theguardian.com/business/2017/aug/20/global-investors-look-to-jackson-hole-for-signs-of-how-qe-will-end\n",
            "https://www.theguardian.com/business/live/2017/jul/27/pound-hits-10-month-high-against-dollar-after-fed-caution-business-live\n",
            "https://www.theguardian.com/business/live/2017/jul/14/investors-cheered-as-us-rate-hike-expectations-fade-business-live\n",
            "https://www.theguardian.com/business/2017/jul/10/central-banks-qe-unconventional-monetary-policies\n",
            "https://www.theguardian.com/business/live/2017/jun/14/pound-uk-unemployment-real-wages-us-interest-rate-decision-business-live\n",
            "https://www.theguardian.com/business/2017/jun/14/federal-reserve-interest-rates-increase-us-economy\n",
            "https://www.theguardian.com/business/live/2017/may/24/china-downgraded-moodys-ecb-mario-draghi-dollar-fed-business-live\n",
            "https://www.theguardian.com/business/2017/may/16/global-stock-markets-whats-driving-the-rise-and-will-it-continue\n",
            "https://www.theguardian.com/business/live/2017/apr/06/markets-slide-after-federal-reserve-surprise-and-ahead-of-trump-china-meeting-business-live\n",
            "https://www.theguardian.com/business/2017/mar/26/wall-street-love-affair-trump-healthcare-sows-doubts\n",
            "https://www.theguardian.com/business/2017/mar/19/ronald-reagan-donald-trump-us-economics-hammond\n",
            "https://www.theguardian.com/business/live/2017/mar/16/ftse-100-markets-rally-bank-of-england-interest-rate-dutch-election-business-live\n",
            "https://www.theguardian.com/business/video/2017/mar/15/federal-reserve-chair-janet-yellen-interest-rates-video\n",
            "https://www.theguardian.com/business/live/2017/mar/15/federal-reserve-interest-rates-uk-unemployment-business-live\n",
            "https://www.theguardian.com/business/2017/mar/15/us-federal-reserve-raises-interest-rates-to-1\n",
            "https://www.theguardian.com/business/2017/mar/14/us-federal-reserve-interest-rates-janet-yellen-donald-trump\n",
            "https://www.theguardian.com/business/2017/mar/12/victory-interest-rate-rise-donald-trump-us-economy-will-pay\n",
            "https://www.theguardian.com/business/2017/mar/10/us-jobs-report-signals-fed-will-raise-interest-rates\n",
            "https://www.theguardian.com/commentisfree/2017/mar/09/the-guardian-view-on-us-rate-rises-a-sterling-challenge\n",
            "https://www.theguardian.com/business/2017/mar/04/sorry-brexit-doomsayers-good-news-global-economy\n",
            "https://www.theguardian.com/business/live/2017/mar/03/markets-edge-lower-ahead-of-service-sector-figures-business-live\n",
            "https://www.theguardian.com/business/2017/mar/01/trump-us-banks-federal-reserve-banking-regulation\n",
            "https://www.theguardian.com/business/live/2017/mar/01/us-presidential-address-calms-markets-ahead-of-manufacturing-figures-business-live\n",
            "https://www.theguardian.com/business/2017/feb/02/janet-yellen-fed-federal-reserve-women-economics\n",
            "https://www.theguardian.com/business/live/2017/feb/01/markets-manufacturing-data-china-eurozone-uk-federal-reserve-business-live\n",
            "https://www.theguardian.com/business/2017/jan/06/us-wage-growth-trump-labour-market-barack-obama-job-creation\n",
            "https://www.theguardian.com/business/economics-blog/2016/dec/23/feds-rate-hike-signals-a-deja-vu-for-2017\n",
            "https://www.theguardian.com/business/2016/dec/18/us-could-wait-until-next-summer-to-raise-interest-rates-say-economists\n",
            "https://www.theguardian.com/business/live/2016/dec/15/fed-hike-dollar-bank-of-england-interest-rates-business-live\n",
            "https://www.theguardian.com/commentisfree/2016/dec/15/interest-rates-trump-budget-yellen\n",
            "https://www.theguardian.com/business/2016/dec/15/us-dollar-surges-to-14-year-high-as-fed-hints-at-three-rate-hikes-in-2017\n",
            "https://www.theguardian.com/business/live/2016/dec/14/uk-unemployment-wages-pound-federal-reserve-interest-rates-business-live\n",
            "https://www.theguardian.com/business/2016/dec/14/us-federal-reserve-raises-interest-rates-second-time-since-2008\n",
            "https://www.theguardian.com/business/2016/dec/11/trump-us-economy-boom-inflation-china\n",
            "https://www.theguardian.com/business/2016/dec/11/trump-federal-reserve-interest-rates-janet-yellen\n",
            "https://www.theguardian.com/business/2016/dec/02/prepare-for-a-us-interest-rate-rise-before-christmas\n",
            "https://www.theguardian.com/business/2016/nov/19/trump-economic-policies-growth-us-economy\n",
            "https://www.theguardian.com/business/2016/nov/18/trump-monetary-policy-fed-incomes\n",
            "https://www.theguardian.com/business/2016/nov/17/federal-reserve-interest-rate-hike-december\n",
            "https://www.theguardian.com/business/2016/nov/14/bonds-trump-prompts-inflation-tax-cuts-interest-rates\n",
            "https://www.theguardian.com/business/2016/nov/09/globalisation-backlash-us-economy\n",
            "https://www.theguardian.com/business/live/2016/nov/02/us-election-uncertainty-stock-markets-uk-construction-federal-reserve-live\n",
            "https://www.theguardian.com/business/2016/nov/02/fed-cut-interest-rates-recession-negative-inflation-targets\n",
            "https://www.theguardian.com/business/economics-blog/2016/oct/25/lower-interest-rates-not-demon-populist-claims-inequality-government\n",
            "https://www.theguardian.com/business/2016/oct/23/prepare-for-the-next-recession-while-you-can\n",
            "https://www.theguardian.com/business/2016/oct/12/federal-reserve-minutes-september-interest-rates-hike\n",
            "https://www.theguardian.com/business/2016/oct/03/federal-reserve-playing-politics-janet-yellen-central-banks-us-government\n",
            "https://www.theguardian.com/business/2016/sep/25/like-ed-balls-jeremy-corbyn-is-struggling-to-impress-the-judges\n",
            "https://www.theguardian.com/business/live/2016/sep/22/shares-rally-pound-federal-reserve-bank-of-england-live\n",
            "https://www.theguardian.com/business/live/2016/sep/21/bank-of-japan-stimulus-programme-federal-reserve-business-live\n",
            "https://www.theguardian.com/business/2016/sep/21/federal-reserve-interest-rates-unchanged\n",
            "https://www.theguardian.com/business/2016/sep/21/us-interest-rates-federal-reserve-economy-janet-yellen\n",
            "https://www.theguardian.com/business/live/2016/sep/20/sports-direct-review-mike-ashley-stock-markets-fed-live\n",
            "https://www.theguardian.com/business/live/2016/sep/19/stock-markets-oil-rally-central-banks-fed-boj-meetings-business-live\n",
            "https://www.theguardian.com/business/2016/sep/18/us-federal-reserve-expected-to-keep-interest-rates-on-hold\n",
            "https://www.theguardian.com/business/2016/sep/18/federal-reserve-ends-interest-rate-guessing-game\n",
            "https://www.theguardian.com/business/live/2016/sep/12/stock-markets-biggest-falls-brexit-vote-federal-reserve-ecb-live\n",
            "https://www.theguardian.com/business/2016/sep/12/asia-pacific-shares-suffer-sell-off-amid-propsect-of-us-rate-rise\n",
            "https://www.theguardian.com/us-news/us-money-blog/2016/sep/08/trump-stock-market-bubble-federal-reserve\n",
            "https://www.theguardian.com/business/2016/sep/06/trump-us-federal-reserve-false-economy-interest-rates\n",
            "https://www.theguardian.com/business/2016/sep/04/us-interest-rates-wont-work-if-fed-misread-labour-market\n",
            "https://www.theguardian.com/business/live/2016/sep/02/markets-await-crucial-us-jobs-report-business-live\n",
            "https://www.theguardian.com/business/2016/aug/26/janet-yellen-interest-rate-analysis\n",
            "https://www.theguardian.com/business/2016/aug/26/janet-yellen-speech-jackson-hole-federal-reserve-interest-rate\n",
            "https://www.theguardian.com/world/2016/aug/26/japans-deflationary-spiral-worsens-as-abenomics-falters\n",
            "https://www.theguardian.com/commentisfree/2016/aug/25/the-guardian-view-on-central-bankers-growing-power-and-limited-success\n",
            "https://www.theguardian.com/business/live/2016/aug/25/central-bankers-gather-in-jackson-hole-business-live\n",
            "https://www.theguardian.com/business/2016/aug/17/federal-reserve-interest-rates-brexit\n",
            "https://www.theguardian.com/business/live/2016/aug/17/uk-jobless-claims-expected-to-rise-following-brexit-vote-business-live\n",
            "https://www.theguardian.com/business/2016/aug/03/federal-reserve-goldman-sachs-fine-363-million\n",
            "https://www.theguardian.com/business/2016/aug/02/federal-reserve-interest-rates-dallas\n",
            "https://www.theguardian.com/business/2016/aug/01/prospect-of-us-rate-rise-recedes-as-key-fed-voter-urges-caution\n",
            "https://www.theguardian.com/business/2016/jul/27/us-interest-rates-federal-reserve-unchanged-economy\n",
            "https://www.theguardian.com/business/2016/jul/06/june-federal-reserve-interest-rates-no-rise-brexit-job-market\n",
            "https://www.theguardian.com/business/2016/jun/21/mario-draghi-janet-yellen-poised-eu-referendum-fallout\n",
            "https://www.theguardian.com/business/2016/jun/21/janet-yellen-federal-reserve-brexit-eu-referendum\n",
            "https://www.theguardian.com/business/2016/jun/15/federal-reserve-wont-raise-interest-rates-economic-growth\n",
            "https://www.theguardian.com/politics/2016/jun/13/markets-braced-for-choppy-week-as-pound-falls-amid-brexit-fears\n",
            "https://www.theguardian.com/business/2016/jun/11/yellen-federal-reserve-interest-rates-jobs-china-brexit\n",
            "https://www.theguardian.com/business/2016/jun/10/sterling-and-ftse-100-floored-by-brexit-worries-gold-bonds\n",
            "https://www.theguardian.com/business/2016/jun/06/us-economy-federal-reserve-interest-rate-rise\n",
            "https://www.theguardian.com/business/2016/jun/05/american-economy-brexit-seems-biggest-problem-west\n",
            "https://www.theguardian.com/business/2016/jun/03/jobs-report-may-unemployment-rate-economy\n",
            "https://www.theguardian.com/business/2016/jun/01/federal-reserve-hackings-cybersecurity-espionage\n",
            "https://www.theguardian.com/business/2016/may/27/interest-rate-hike-janet-yellen-federal-reserve-memorial-day\n",
            "https://www.theguardian.com/business/live/2016/may/19/markets-us-rate-hike-uk-retail-sales-live\n",
            "https://www.theguardian.com/business/live/2016/may/18/markets-us-rate-hike-talk-uk-unemployment-report-business-live\n",
            "https://www.theguardian.com/business/2016/may/18/interest-rates-increase-federal-reserve-economy-brexit-china\n",
            "https://www.theguardian.com/business/2016/may/08/donald-trump-given-a-fighting-chance-by-ailing-us-economy-election-stock-market\n",
            "https://www.theguardian.com/business/2016/may/06/april-jobs-report-us-economy-unemployment-rate\n",
            "https://www.theguardian.com/business/nils-pratley-on-finance/2016/may/05/bt-6bn-wave-broadband-investment-coasting\n",
            "https://www.theguardian.com/business/2016/may/05/us-federal-reserve-global-economy-interest-rate-rise\n",
            "https://www.theguardian.com/business/2016/apr/27/janet-yellen-federal-reserve-interest-rate-hike\n",
            "https://www.theguardian.com/business/economics-blog/2016/apr/27/us-interest-rates-merle-hazard-tries-to-cheer-up-fed-watchers\n",
            "https://www.theguardian.com/business/2016/apr/13/us-banks-financial-crisis-regulators-reject-living-will-proposals\n",
            "https://www.theguardian.com/business/live/2016/apr/07/us-fed-dampens-prospect-of-an-april-rate-rise-business-live\n",
            "https://www.theguardian.com/business/2016/apr/06/federal-reserve-interest-rate-delay-split-decision-janet-yellen\n",
            "https://www.theguardian.com/business/2016/apr/01/central-banks-unconventional-monetary-policy\n",
            "https://www.theguardian.com/business/2016/mar/29/federal-reserve-janet-yellen-interest-rate-delay\n",
            "https://www.theguardian.com/business/2016/mar/28/weak-us-consumer-spending-expected-to-delay-interest-rate-rise\n",
            "https://www.theguardian.com/business/2016/mar/25/us-economic-slowdown-not-as-sharp-as-feared\n",
            "https://www.theguardian.com/business/2016/mar/21/australian-shares-tipped-to-move-higher-as-rally-continues\n",
            "https://www.theguardian.com/business/2016/mar/16/federal-reserve-interest-rates-unchanged-janet-yellen-central-bank\n",
            "https://www.theguardian.com/business/live/2016/mar/14/market-rally-central-banks-opec-business-live\n",
            "https://www.theguardian.com/business/2016/mar/07/gathering-storm-for-global-economy-as-markets-lose-faith\n",
            "https://www.theguardian.com/business/2016/feb/26/bank-of-england-chief-accuses-g20-of-failing-to-enact-reforms-to-boost-growth\n",
            "https://www.theguardian.com/business/2016/feb/24/federal-reserve-strong-us-job-market-justify-multiple-interest-rate-increases\n",
            "https://www.theguardian.com/business/2016/feb/22/us-factory-woes-pressure-fed-hold-interest-rates\n",
            "https://www.theguardian.com/business/economics-blog/2016/feb/21/central-bankers-on-the-defensive-as-weird-policy-becomes-even-weirder\n",
            "https://www.theguardian.com/business/2016/feb/17/federal-reserve-global-economy-uncertainty-meeting-minutes\n",
            "https://www.theguardian.com/business/2016/feb/16/finacial-crash-bank-bailout-2008-neel-kashkari-us-banks-too-big-to-fail\n",
            "https://www.theguardian.com/business/2016/feb/14/british-steel-suffers-like-coal-cameron-will-not-oppose-china\n",
            "https://www.theguardian.com/business/2016/feb/12/stock-markets-rally-at-the-end-of-a-traumatic-week\n",
            "https://www.theguardian.com/business/2016/feb/12/new-york-federal-reserve-william-dudley-negative-interest-rates-markets-banks-doom-loop\n",
            "https://www.theguardian.com/business/marketforceslive/2016/feb/11/recession-global-stock-markets-lows-federal-reserve-economy\n",
            "https://www.theguardian.com/business/2016/feb/09/interest-rates-markets-janet-yellen-briefs-congress\n",
            "https://www.theguardian.com/business/2016/feb/10/wasnt-much-janet-yellen-could-say-wouldnt-spook-markets-federal-reserve\n",
            "https://www.theguardian.com/business/video/2016/feb/10/janet-yellen-further-interest-rate-rises-possible-federal-reserve-video\n",
            "https://www.theguardian.com/commentisfree/2016/feb/09/the-guardian-view-on-the-world-economy-dont-drive-on-winding-roads-with-a-steering-lock\n",
            "https://www.theguardian.com/business/nils-pratley-on-finance/2016/feb/08/fed-should-show-some-reserve-janet-yellen-interest-rates\n",
            "https://www.theguardian.com/business/2016/feb/05/weak-us-employment-growth-further-suggests-fed-rate-rise-was-a-mistake\n",
            "https://www.theguardian.com/business/nils-pratley-on-finance/2016/feb/04/stock-markets-suspect-federal-reserve-interest-rate-jitters\n",
            "https://www.theguardian.com/business/2016/jan/29/global-markets-end-tumultuous-month-on-a-high\n",
            "https://www.theguardian.com/business/2016/jan/29/investors-love-cheap-money-and-hate-optimistic-central-bankers\n",
            "https://www.theguardian.com/business/2016/jan/27/federal-reserve-interest-rates-unchanged-global-markets-recession\n",
            "https://www.theguardian.com/business/2016/jan/24/market-panic-over-global-slowdown-on-way\n",
            "https://www.theguardian.com/business/nils-pratley-on-finance/2016/jan/20/if-market-turmoil-forces-us-rate-cut-outlook-grim\n",
            "https://www.theguardian.com/business/2016/jan/20/no-global-economic-crisis-yet-but-the-ingredients-are-there\n",
            "https://www.theguardian.com/business/economics-blog/2016/jan/15/janet-yellen-federal-reserve-interest-rate-blunder\n",
            "https://www.theguardian.com/business/2016/jan/14/stock-markets-germany-recovery-federal-reserve-interest-rate\n",
            "https://www.theguardian.com/us-news/2016/jan/13/ron-paul-rand-paul-ted-cruz-federal-reserve-vote\n",
            "https://www.theguardian.com/business/economics-blog/2016/jan/08/us-employment-up-wages-static\n",
            "https://www.theguardian.com/business/2016/jan/06/federal-reserve-interest-rate-hike-close-call-minutes\n",
            "https://www.theguardian.com/world/2016/jan/01/china-global-economy-state-opinion-divided\n",
            "https://www.theguardian.com/us-news/2015/dec/23/bernie-sanders-wall-street-federal-reserve-bankers\n",
            "https://www.theguardian.com/business/2015/dec/23/us-economy-2016-pew-research-center-poll\n",
            "https://www.theguardian.com/business/2015/dec/20/federal-reserve-interest-rate-hike-affect-my-policy\n",
            "https://www.theguardian.com/business/economics-blog/2015/dec/18/the-federal-reserve-has-raised-rates-too-soon\n",
            "https://www.theguardian.com/business/2015/dec/17/raised-us-interest-rates-could-stunt-growth-of-startup-businesses\n",
            "https://www.theguardian.com/business/live/2015/dec/17/federal-reserve-interest-rate-hike-markets-business-live\n",
            "https://www.theguardian.com/money/us-money-blog/2015/dec/17/raised-interest-rates-may-end-biggest-merger-boom-the-world-has-ever-seen\n",
            "https://www.theguardian.com/business/2015/dec/17/global-markets-cheer-federal-reserve-interest-rate-hike\n",
            "https://www.theguardian.com/business/2015/dec/17/fed-rate-hike-welcomed-by-asia-pacific-markets-but-oil-price-continues-to-fall\n",
            "https://www.theguardian.com/business/live/2015/dec/16/federal-reserve-us-interest-rates-janet-yellen-live\n",
            "https://www.theguardian.com/business/video/2015/dec/16/federal-reserve-interest-rates-video\n",
            "https://www.theguardian.com/commentisfree/2015/dec/16/the-guardian-view-on-the-us-interest-rate-rise-risky-and-premature\n",
            "https://www.theguardian.com/business/2015/dec/16/federal-reserve-ends-indecision-interest-rates\n",
            "https://www.theguardian.com/business/2015/dec/16/federal-reserve-us-interest-rate-rise-fed-funds-janet-yellen\n",
            "https://www.theguardian.com/business/2015/dec/15/federal-reserve-meeting-interest-rates-what-to-know\n",
            "https://www.theguardian.com/business/2015/dec/16/federal-reserve-janet-yellen-raise-borrowing-rates\n",
            "https://www.theguardian.com/business/2015/dec/15/uk-inflation-moves-above-zero\n",
            "https://www.theguardian.com/business/2015/dec/14/asian-stock-markets-drop-as-china-devaluation-oil-and-fed-stoke-fears\n",
            "https://www.theguardian.com/business/2015/dec/13/world-markets-in-fragile-mood-federal-reserve-us-interest-rate-janet-yellen\n",
            "https://www.theguardian.com/business/2015/dec/12/us-interest-rate-rise-heard-round-world-janet-yellen\n",
            "https://www.theguardian.com/business/2015/dec/12/us-interest-rate-rise-what-economists-say\n",
            "https://www.theguardian.com/business/2015/dec/09/market-reaction-to-us-rate-rise-troubles-bank-of-england\n",
            "https://www.theguardian.com/business/2015/dec/08/commodities-rout-deepens-as-chinese-trade-data-signal-weaker-demand\n",
            "https://www.theguardian.com/business/2015/dec/07/opec-plan-kill-us-shale-oil-price-down-seven-year-low\n",
            "https://www.theguardian.com/business/2015/dec/06/markets-calm-about-expected-us-rate-increase-bis-says\n",
            "https://www.theguardian.com/business/2015/dec/04/us-economy-december-jobs-report-unemployment-rate\n",
            "https://www.theguardian.com/business/2015/dec/04/asia-pacific-shares-join-global-slump-as-ecb-fails-to-deliver-stimulus\n",
            "https://www.theguardian.com/business/2015/dec/03/turbulence-predicted-as-ecb-eases-monetary-policy-and-fed-tightens\n",
            "https://www.theguardian.com/us-news/2015/dec/02/federal-reserve-us-interest-rates-janet-yellen\n",
            "https://www.theguardian.com/business/2015/dec/02/eurozone-inflation-data-raises-prospect-of-fresh-ecb-stimulus\n",
            "https://www.theguardian.com/business/2015/dec/02/federal-reserve-ecb-when-monetary-policy-diverges\n",
            "https://www.theguardian.com/business/2015/nov/30/aberdeen-asset-management-investors-withdraw-more-than-40bn\n",
            "https://www.theguardian.com/business/economics-blog/2015/nov/19/a-december-rate-rise-may-be-a-mistake-by-the-fed\n",
            "https://www.theguardian.com/business/2015/nov/18/interest-rate-hikes-december-federal-reserve-minutes-janet-yellen\n",
            "https://www.theguardian.com/business/live/2015/nov/18/markets-remain-nervous-on-paris-fears-live\n",
            "https://www.theguardian.com/business/2015/nov/17/what-a-us-interest-rate-rise-really-means-for-the-dollar\n",
            "https://www.theguardian.com/business/2015/nov/15/more-delivery-problems-for-royal-mail\n",
            "https://www.theguardian.com/business/2015/nov/13/us-retail-sales-data-consumers-cautious\n",
            "https://www.theguardian.com/business/2015/nov/13/shrinking-chinese-credit-pushes-commodities-and-asian-shares-lower\n",
            "https://www.theguardian.com/business/2015/nov/10/is-us-monetary-policy-made-in-china\n",
            "https://www.theguardian.com/business/2015/nov/10/asia-pacific-stock-markets-continue-slide-as-chinese-inflation-weakens\n",
            "https://www.theguardian.com/business/2015/nov/08/china-imports-fall-again-but-us-fed-banker-calls-for-rate-hikes-to-start\n",
            "https://www.theguardian.com/business/2015/nov/06/us-federal-reserve-interest-rate-rise-december-analysis\n",
            "https://www.theguardian.com/business/2015/nov/06/us-interest-rate-rise-likely-december-fall-unemployment-federal-reserve\n",
            "https://www.theguardian.com/business/2015/nov/06/us-jobs-unemployment-rate\n",
            "https://www.theguardian.com/business/2015/nov/04/deutsche-bank-us-sanctions-fine\n",
            "https://www.theguardian.com/business/2015/nov/04/janet-yellen-december-rate-hike-still-on-table\n",
            "https://www.theguardian.com/world/2015/nov/01/barack-obama-right-europe-wrong-great-recession-eurozone-economic-blunders\n",
            "https://www.theguardian.com/technology/2015/nov/01/apple-made-itself-crunch-proof-iphone-mac\n",
            "https://www.theguardian.com/world/2015/oct/30/bank-of-japan-keeps-qe-programme-on-hold-as-it-hopes-for-economic-recovery\n",
            "https://www.theguardian.com/business/2015/oct/29/us-economy-third-quarter-growth\n",
            "https://www.theguardian.com/business/live/2015/oct/29/us-economy-gdp-slowdown-rate-hike-business-live\n",
            "https://www.theguardian.com/business/2015/oct/29/us-economic-growth-slowdown-analysis\n",
            "https://www.theguardian.com/business/2015/oct/29/woolies-profit-warning-and-weaker-anz-earnings-drag-australian-shares-lower\n",
            "https://www.theguardian.com/business/2015/oct/28/federal-reserve-interest-rates-unchanged\n",
            "https://www.theguardian.com/us-news/2015/oct/26/federal-reserve-new-york-leak-goldman-sachs-criminal-charges-rohit-bansal\n",
            "https://www.theguardian.com/business/2015/oct/23/china-interest-rate-cut-fuels-fears-chinese-economy\n",
            "https://www.theguardian.com/business/2015/oct/15/us-economy-jobless-claims-retail-sales-productivity-growth-labour-market\n",
            "https://www.theguardian.com/business/2015/oct/12/western-economies-are-still-too-weak-to-cope-with-fed-rate-rise-says-china\n",
            "https://www.theguardian.com/business/2015/oct/11/federal-reserve-interest-rate-increase-expectation\n",
            "https://www.theguardian.com/business/2015/oct/09/ftse-100-records-biggest-weekly-rise-nearly-four-years\n",
            "https://www.theguardian.com/business/2015/oct/08/federal-reserve-almost-raised-interest-rates-september\n",
            "https://www.theguardian.com/business/live/2015/oct/06/german-factory-orders-fall-markes-global-outlook-live\n",
            "https://www.theguardian.com/business/2015/oct/05/ben-bernanke-says-wall-street-executives-should-have-gone-to-jail\n",
            "https://www.theguardian.com/business/2015/oct/02/us-economy-adds-only-142000-jobs-raising-doubts-about-interest-rate-rise\n",
            "https://www.theguardian.com/business/2015/sep/29/imf-warns-new-financial-crisis-interest-rates-rise\n",
            "https://www.theguardian.com/business/2015/sep/28/us-stock-markets-fall-concerns-china-economy\n",
            "https://www.theguardian.com/business/2015/sep/25/us-gdp-growth-revised-up-federal-reserve\n",
            "https://www.theguardian.com/business/2015/sep/24/janet-yellen-expects-federal-reserve-raise-interest-rates-by-end-of-year\n",
            "https://www.theguardian.com/business/2015/sep/23/the-fed-must-ignore-accusations-of-dithering-over-interest-rates\n",
            "https://www.theguardian.com/business/us-money-blog/2015/sep/20/what-the-feds-game-of-chicken-means-for-your-money\n",
            "https://www.theguardian.com/business/2015/sep/19/zero-interest-rate-policy-wall-street-workers\n",
            "https://www.theguardian.com/business/2015/sep/18/global-shares-fall-federal-reserve-rate-decision\n",
            "https://www.theguardian.com/business/live/2015/sep/18/asian-stock-markets-mixed-as-us-federal-reserve-keeps-rates-on-hold-live\n",
            "https://www.theguardian.com/business/2015/sep/18/beware-the-global-financial-crisis-part-iii\n",
            "https://www.theguardian.com/business/2015/sep/18/markets-unsettled-by-federal-reserve-decision\n",
            "https://www.theguardian.com/business/live/2015/sep/17/us-federal-reserve-interest-rate-decision-markets-janet-yellen-live\n",
            "https://www.theguardian.com/business/2015/sep/17/federal-reserve-interest-rates-record-low\n",
            "https://www.theguardian.com/business/2015/sep/17/us-interest-rates-still-time-for-another-drink-to-help-get-the-party-going\n",
            "https://www.theguardian.com/business/2015/sep/17/federal-reserve-raise-interest-rates-timing-us-economy\n",
            "https://www.theguardian.com/business/2015/sep/16/federal-reserve-janet-yellen-interest-rate-announcement\n",
            "https://www.theguardian.com/business/2015/sep/16/federal-reserve-us-interest-rates-q-and-a\n",
            "https://www.theguardian.com/business/economics-blog/2015/sep/15/inflation-collapse-should-central-banks-raise-interest-rates-or-not\n",
            "https://www.theguardian.com/business/nils-pratley-on-finance/2015/sep/14/seven-years-lehman-brothers-collapse-federal-reserve-raise-rates-justin-king-jeremy-corbyn\n",
            "https://www.theguardian.com/business/2015/sep/14/uk-economic-doubts-grow-stronger-as-manufacturers-struggle\n",
            "https://www.theguardian.com/business/2015/sep/13/goldman-sachs-brics-world-economy-emerging-markets\n",
            "https://www.theguardian.com/business/2015/sep/13/brics-collapse-south-staggers-dollar-almighty\n",
            "https://www.theguardian.com/business/2015/sep/07/federal-reserve-needs-to-worry-about-inequality-not-inflation\n",
            "https://www.theguardian.com/business/2015/sep/05/federal-reserve-interest-rates-hike-presidential-candidates\n",
            "https://www.theguardian.com/business/2015/sep/05/australian-dollar-falls-to-six-year-low-amid-economic-turbulence\n",
            "https://www.theguardian.com/business/live/2015/sep/04/business-live-jittery-markets-fall-us-jobs-report\n",
            "https://www.theguardian.com/business/2015/aug/31/stocks-down-china-us-rate-rise\n",
            "https://www.theguardian.com/business/2015/aug/31/shares-complete-worst-month-since-gfc-as-australian-growth-is-tipped-to-slow\n",
            "https://www.theguardian.com/business/2015/aug/30/central-banks-cant-save-markets-crash-shouldnt-try\n",
            "https://www.theguardian.com/business/2015/aug/29/federal-reserve-stanley-fischer-rate-increase-inflation\n",
            "https://www.theguardian.com/business/2015/aug/28/stock-markets-surge-for-second-day-running-after-black-monday-losses\n",
            "https://www.theguardian.com/business/live/2015/aug/27/asia-pacific-stock-markets-continue-recovery-after-dow-bounces-back-live\n",
            "https://www.theguardian.com/business/2015/aug/27/us-markets-recover-chinese-economy-losses\n",
            "https://www.theguardian.com/business/2015/aug/26/us-interest-rates-are-going-nowhere-fast-despite-upbeat-news-at-home\n",
            "https://www.theguardian.com/business/live/2015/aug/25/asian-stock-markets-braced-for-steep-falls-after-wall-street-slump-live\n",
            "https://www.theguardian.com/business/live/2015/aug/24/global-stocks-sell-off-deepens-as-panic-grips-markets-live\n",
            "https://www.theguardian.com/business/2015/aug/21/global-market-turmoil-in-six-charts\n",
            "https://www.theguardian.com/business/2015/aug/21/global-stocks-in-a-tailspin-as-chinese-factory-slump-drags-on-markets\n",
            "https://www.theguardian.com/business/2015/aug/19/federal-reserve-interest-rate-increase\n",
            "https://www.theguardian.com/business/2015/aug/18/global-economy-two-years-muted-growth-moodys\n",
            "https://www.theguardian.com/world/2015/aug/17/japans-economy-shrinks-by-04-in-a-blow-for-abenomics-growth-plan\n",
            "https://www.theguardian.com/business/2015/aug/16/china-does-not-want-currency-war-with-west-says-central-bank-economist\n",
            "https://www.theguardian.com/business/2015/aug/16/low-pay-low-inflation-low-interest-rates-not-1975\n",
            "https://www.theguardian.com/business/2015/aug/07/steady-us-job-figures-could-end-era-ultra-low-interest-rates\n",
            "https://www.theguardian.com/business/2015/aug/07/unemployment-rate-economy-jobs-federal-reserve\n",
            "https://www.theguardian.com/business/2015/aug/07/payroll-numbers-expected-to-show-us-economic-recovery-gathering-strength\n",
            "https://www.theguardian.com/business/2015/jul/30/us-economic-growth-accelerates-second-quarter\n",
            "https://www.theguardian.com/business/2015/jul/29/federal-reserve-interest-rates-unchanged-september-hike\n",
            "https://www.theguardian.com/business/live/2015/jul/29/greek-bailout-talks-continue-merkel-ally-grexit-chaos-business-live\n",
            "https://www.theguardian.com/business/2015/jul/25/federal-reserve-draws-criticism-after-mistakenly-releasing-rate-forecast\n",
            "https://www.theguardian.com/business/2015/jul/24/australian-dollar-hits-fresh-six-year-low-as-chinese-factories-continue-to-falter\n",
            "https://www.theguardian.com/business/2015/jul/23/aberdeen-asset-management-shares-emerging-markets-us-interest-rates\n",
            "https://www.theguardian.com/business/2015/jul/21/tourism-could-be-the-new-mining-boom-for-australia-says-casino-boss\n",
            "https://www.theguardian.com/business/2015/jul/16/australian-dollar-slumps-to-737-us-cents-amid-chinese-economic-uncertainty\n",
            "https://www.theguardian.com/business/2015/jul/15/us-stock-prices-interest-rate-increase\n",
            "https://www.theguardian.com/business/2015/jul/08/federal-reserve-economy-interest-rates\n",
            "https://www.theguardian.com/business/2015/jun/30/fed-rates-hike-emerging-markets-nouriel-roubini\n",
            "https://www.theguardian.com/business/2015/jun/28/interest-rates-growth-warning-bank-for-international-settlements\n",
            "https://www.theguardian.com/business/2015/jun/24/us-housing-homeowners-rent-20-year-low\n",
            "https://www.theguardian.com/business/2015/jun/17/federal-reserve-committed-raising-interest-rates-2015\n",
            "https://www.theguardian.com/business/2015/jun/05/us-economy-june-jobs-report-unemployment-rate\n",
            "https://www.theguardian.com/business/2015/jun/04/federal-reserve-interest-rate-hike-markets-investments\n",
            "https://www.theguardian.com/business/2015/jun/04/imf-cuts-us-growth-forecast-interest-rate-warning\n",
            "https://www.theguardian.com/business/2015/jun/01/the-liquidity-timebomb-fiscal-policies-have-created-a-dangerous-paradox\n",
            "https://www.theguardian.com/business/economics-blog/2015/may/31/financial-crisis-fixes-leave-policymakers-short-of-ammo-for-the-next-recession-qe\n",
            "https://www.theguardian.com/business/2015/may/22/janet-yellen-federal-reserve-raise-interest-rates-appropriate\n",
            "https://www.theguardian.com/business/2015/may/20/federal-reserve-june-early-interest-rates\n",
            "https://www.theguardian.com/business/2015/may/14/unemployment-benefits-claims-drop-us-economy\n",
            "https://www.theguardian.com/world/2015/may/06/imf-christine-lagarde-calls-fresh-clampdown-bankers-bonuses\n",
            "https://www.theguardian.com/business/2015/may/03/warren-buffett-stock-markets-will-be-over-priced-if-rates-rise\n",
            "https://www.theguardian.com/business/2015/apr/29/federal-reserve-transitory-factors-us-economic-slowdown\n",
            "https://www.theguardian.com/business/2015/apr/29/pimco-recruits-ex-federal-reserve-chairman-ben-bernanke\n",
            "https://www.theguardian.com/business/2015/apr/29/shock-stalling-us-economy-fed-rate-rise-borrowing-costs-growth-slows\n",
            "https://www.theguardian.com/business/2015/apr/18/us-interest-rates-rise-federal-reserve-market-crash\n",
            "https://www.theguardian.com/business/2015/apr/08/federal-reserve-us-economy-interest-rates\n",
            "https://www.theguardian.com/business/2015/apr/03/strong-dollar-and-low-oil-price-lead-to-disappointing-us-jobs-figures\n",
            "https://www.theguardian.com/money/us-money-blog/2015/mar/19/fed-farewell-patience-markets\n",
            "https://www.theguardian.com/world/video/2015/mar/18/federal-reserve-janet-yellen-video\n",
            "https://www.theguardian.com/business/2015/mar/18/federal-reserve-zero-interest-stimulus\n",
            "https://www.theguardian.com/business/2015/mar/18/federal-reserve-expected-end-zero-interest-rate-era\n",
            "https://www.theguardian.com/business/economics-blog/2015/mar/17/markets-are-waiting-on-timing-of-the-federal-reserves-interest-rate-rise\n",
            "https://www.theguardian.com/business/2015/mar/12/four-major-us-banks-scrape-through-federal-reserve-stress-tests\n",
            "https://www.theguardian.com/business/2015/mar/11/the-fed-under-fire-barry-eichengreen\n",
            "https://www.theguardian.com/business/2015/mar/10/euro-fall-cheaper-european-holidays-dollar-pound-strong-greece-debt\n",
            "https://www.theguardian.com/business/2015/mar/07/australian-dollar-falls-sharply-after-strong-us-jobs-figures\n",
            "https://www.theguardian.com/business/2015/mar/05/us-banks-pass-federal-reserve-stress-economic-crisis\n",
            "https://www.theguardian.com/business/2015/feb/24/ftse-100-hits-record-high-of-6959-greece-eurozone\n",
            "https://www.theguardian.com/business/2015/feb/18/federal-reserve-interest-rates-language\n",
            "https://www.theguardian.com/business/2015/feb/16/the-central-banks-and-their-bottom-line\n",
            "https://www.theguardian.com/business/blog/2015/feb/11/has-an-accidental-currency-war-erupted\n",
            "https://www.theguardian.com/business/2015/feb/06/us-economy-january-jobs-report\n",
            "https://www.theguardian.com/business/2015/jan/28/federal-reserve-paves-for-interest-rate-rise\n",
            "https://www.theguardian.com/money/us-money-blog/2015/jan/27/us-credit-debit-card-fees-21-cents-durbin-amendment\n",
            "https://www.theguardian.com/business/2015/jan/25/european-central-bank-quantitative-easing-missed-opportunity\n",
            "https://www.theguardian.com/business/2015/jan/22/stock-market-brace-interest-rates\n",
            "https://www.theguardian.com/business/2015/jan/22/what-is-quantitative-easing\n",
            "https://www.theguardian.com/business/2015/jan/22/quantitative-easing-around-the-world-lessons-from-japan-uk-and-us\n",
            "https://www.theguardian.com/business/2015/jan/20/quantitative-easing-unconventional-monetary-policy\n",
            "https://www.theguardian.com/money/us-money-blog/2015/jan/12/will-congress-address-major-financial-issues-in-2015-curb-your-enthusiasm\n",
            "https://www.theguardian.com/money/us-money-blog/2014/dec/31/janet-yellen-federal-reserve-economist-influential\n",
            "https://www.theguardian.com/business/2014/dec/29/mervyn-king-financial-crash-exciting-bank-england\n",
            "https://www.theguardian.com/business/2014/dec/28/five-issues-world-economy-2015\n",
            "https://www.theguardian.com/business/2014/dec/17/russian-rouble-crisis-us-federal-reserve\n",
            "https://www.theguardian.com/business/2014/dec/17/us-federal-reserve-edges-closer-first-interest-rate-rise-2008\n",
            "https://www.theguardian.com/business/live/2014/dec/17/rouble-russia-crisis-greek-elections-uk-unemployment-fed-live\n",
            "https://www.theguardian.com/business/2014/nov/21/william-dudley-senate-hearing-oversight-failures-new-york-fed\n",
            "https://www.theguardian.com/business/2014/nov/20/senate-report-fed-oversee-banks-commodities\n",
            "https://www.theguardian.com/business/2014/nov/02/world-economy-flying-one-engine-us-growth\n",
            "https://www.theguardian.com/commentisfree/2014/oct/31/financial-markets-message-us-uk-growth-is-good\n",
            "https://www.theguardian.com/business/2014/oct/30/us-economy-growth-fast-than-expected-third-quarter\n",
            "https://www.theguardian.com/business/marketforceslive/2014/oct/30/ftse-falls-after-fed-comments-while-bt-hit-by-competition-fears\n",
            "https://www.theguardian.com/business/2014/oct/29/fed-quietly-ends-stimulus-hard-work\n",
            "https://www.theguardian.com/business/2014/oct/29/us-federal-reserve-end-quantitative-easing-programme\n",
            "https://www.theguardian.com/business/blog/live/2014/oct/29/markets-poised-for-decision-to-end-us-stimulus-business-live-federal-reserve-qe\n",
            "https://www.theguardian.com/business/economics-blog/2014/oct/29/the-fed-to-call-time-on-qe-in-the-us\n",
            "https://www.theguardian.com/money/2014/oct/17/federal-reserve-chair-janet-yellen-inequality-gap-rich-poor\n",
            "https://www.theguardian.com/business/shortcuts/2014/oct/13/what-kind-of-war-games-george-osborne-playing\n",
            "https://www.theguardian.com/commentisfree/2014/oct/05/carmen-segarra-whistleblower-wall-street-federal-reserve\n",
            "https://www.theguardian.com/business/2014/sep/26/us-economy-gdp-second-quarter-interest-rates\n",
            "https://www.theguardian.com/business/2014/sep/25/shares-fall-global-stock-markets-worry-us-interest-rates-increase\n",
            "https://www.theguardian.com/business/2014/sep/18/financial-markets-world-of-their-own\n",
            "https://www.theguardian.com/business/2014/sep/17/federal-reserve-interest-rates-stimulus\n",
            "https://www.theguardian.com/business/2014/sep/05/us-job-growth-slows\n",
            "https://www.theguardian.com/business/2014/aug/31/russia-economic-warfare-rip-free-market-new-world-order\n",
            "https://www.theguardian.com/business/2014/aug/25/economists-back-federal-reserve-policy-us-economy\n",
            "https://www.theguardian.com/business/2014/aug/24/us-economy-rolls-on-without-a-middle-class-recovery\n",
            "https://www.theguardian.com/business/2014/aug/22/fed-chair-janet-yellen-damage-us-economy-jackson-hole\n",
            "https://www.theguardian.com/business/2014/aug/14/brics-development-bank-imf-world-bank-dollar\n",
            "https://www.theguardian.com/business/2014/aug/11/stanley-fischer-federal-reserve-unemployed-workers\n",
            "https://www.theguardian.com/business/2014/aug/05/us-economy-strong-second-half-2014-services-sector-property\n",
            "https://www.theguardian.com/commentisfree/2014/jul/27/in-praise-of-janet-yellen\n",
            "https://www.theguardian.com/business/2014/jul/15/uk-inflation-data-mark-carney-janet-yellen-business-live\n",
            "https://www.theguardian.com/business/economics-blog/2014/jul/03/us-unemployment-falls-federal-reserve\n",
            "https://www.theguardian.com/money/2014/jun/30/bnp-paribas-fine-break-up-banks-crime\n",
            "https://www.theguardian.com/business/economics-blog/2014/jun/23/us-inflation-worries-janet-yellen-federal-reserve-fed\n",
            "https://www.theguardian.com/commentisfree/2014/jun/18/fed-janet-yellen-economy-inflation\n",
            "https://www.theguardian.com/business/2014/jun/18/fed-cuts-growth-forecasts-stimulus-cut-economy\n",
            "https://www.theguardian.com/business/2014/jun/12/central-banks-clean-up-financial-crises-federal-reserve\n",
            "https://www.theguardian.com/business/2014/may/28/federal-reserve-love-affair-disney\n",
            "https://www.theguardian.com/business/2014/may/13/possible-parallels-between-world-cups-and-market-turmoil\n",
            "https://www.theguardian.com/business/2014/may/11/uk-recovery-so-fast-leave-economic-partners-behind\n",
            "https://www.theguardian.com/business/economics-blog/2014/may/08/mario-draghi-ecb-pillow-talk-euro\n",
            "https://www.theguardian.com/world/2014/may/08/colorado-marijuana-banks-legal-finance-rules\n",
            "https://www.theguardian.com/money/us-money-blog/2014/may/04/bank-big-fail-stress-fed-america-economy\n",
            "https://www.theguardian.com/business/2014/may/02/us-unemployment-rate-jobs-added-april\n",
            "https://www.theguardian.com/money/2014/apr/30/federal-reserve-language-means-taper-economy-easing\n",
            "https://www.theguardian.com/world/2014/apr/30/us-economy-robust-federal-reserve-revsied-down-forecasts\n",
            "https://www.theguardian.com/business/2014/apr/28/bank-england-stress-tests-lenders-housing-crash-interest-rates\n",
            "https://www.theguardian.com/business/2014/apr/16/federal-reserve-janet-yellen-job-market-still-needs-help\n",
            "https://www.theguardian.com/business/2014/apr/14/low-interest-rates-global-recovery\n",
            "https://www.theguardian.com/business/2014/apr/13/banks-rome-financial-crisis\n",
            "https://www.theguardian.com/business/2014/apr/13/tech-stocks-boom-lessons-from-2000\n",
            "https://www.theguardian.com/business/blog/2014/mar/21/-sp-russia-sanctions-keep-markets-anxious\n",
            "https://www.theguardian.com/commentisfree/2014/mar/19/janet-yellen-fed-wall-street-press-conference\n",
            "https://www.theguardian.com/business/2014/mar/19/federal-reserve-economic-stimulus-programme-yellen\n",
            "https://www.theguardian.com/business/2014/mar/19/janet-yellen-new-leader-federal-reserve\n",
            "https://www.theguardian.com/business/economics-blog/2014/mar/13/european-central-bank-us-treasury-securities\n",
            "https://www.theguardian.com/business/2014/mar/05/us-economy-winter-weather-federal-reserve\n",
            "https://www.theguardian.com/business/2014/feb/28/us-economic-growth-revised-down-fed-weather\n",
            "https://www.theguardian.com/business/2014/feb/27/janet-yellen-federal-reserve-no-authority-regulate-bitcoin\n",
            "https://www.theguardian.com/business/2014/feb/21/fed-transcript-2008-financial-crisis-yellen-bernanke\n",
            "https://www.theguardian.com/business/2014/feb/19/fed-minutes-interest-rates-january\n",
            "https://www.theguardian.com/business/blog/2014/feb/19/uk-mini-jobs-trend-to-stay-despite-recovery-live\n",
            "https://www.theguardian.com/business/economics-blog/2014/feb/13/global-market-damage-dollar-federal-reserve\n",
            "https://www.theguardian.com/business/2014/feb/11/janet-yellen-congress-federal-reserve-chief-live\n",
            "https://www.theguardian.com/commentisfree/2014/feb/04/janet-yellen-capitalism-doesnt-always-work\n",
            "https://www.theguardian.com/business/2014/feb/03/janet-yellen-woman-chair-federal-reserve-fed\n",
            "https://www.theguardian.com/business/2014/jan/31/nils-pratley-dont-blame-federal-reserve-emerging-markets-crisis\n",
            "https://www.theguardian.com/commentisfree/2014/jan/31/latin-america-china-us-foreign-policy-reserve\n",
            "https://www.theguardian.com/business/2014/jan/30/falling-chinese-factory-activity-and-fed-taper-weigh-on-markets-business-live\n",
            "https://www.theguardian.com/business/video/2014/jan/30/money-for-nothing-dollar-survive-world-top-currency-video\n",
            "https://www.theguardian.com/money/us-money-blog/2014/jan/29/us-economy-state-rumors-federal-reserve\n",
            "https://www.theguardian.com/business/2014/jan/30/us-economy-growth-fourth-quarter-2013\n",
            "https://www.theguardian.com/business/2014/jan/29/ben-bernanke-man-who-rescued-us-financial-system\n",
            "https://www.theguardian.com/business/2014/jan/29/federal-reserve-cuts-economic-stimulus\n",
            "https://www.theguardian.com/business/2014/jan/27/european-shares-ftse-drop-fears-crisis-emerging-markets\n",
            "https://www.theguardian.com/business/2014/jan/26/stock-markets-bull-run-again-dotcom-boom\n",
            "https://www.theguardian.com/business/nils-pratley-on-finance/2014/jan/25/interest-rate-market-profit-us-companies\n",
            "https://www.theguardian.com/business/economics-blog/2014/jan/19/davos-inequality-world-economic-forum\n",
            "https://www.theguardian.com/business/economics-blog/2014/jan/10/us-jobs-figures-put-fed-in-fix\n",
            "https://www.theguardian.com/business/2014/jan/06/senate-confirms-janet-yellen-chair-federal-reserve\n",
            "https://www.theguardian.com/business/2014/jan/06/senate-janet-yellen-federal-reserve-chair\n",
            "https://www.theguardian.com/business/2014/jan/01/central-banks-leadership-global-economy\n",
            "https://www.theguardian.com/business/2013/dec/31/ftse-100-records-best-annual-rise-since-2009\n",
            "https://www.theguardian.com/business/2013/dec/27/stanley-fischer-great-choice-federal-reserve\n",
            "https://www.theguardian.com/business/2013/dec/23/american-consumer-spending-incomes-confidence-november\n",
            "https://www.theguardian.com/commentisfree/2013/dec/23/ben-bernanke-federal-reserve-legacy-mixed\n",
            "https://www.theguardian.com/business/2013/dec/22/ben-bernanke-superman-of-us-federal-reserve\n",
            "https://www.theguardian.com/business/nils-pratley-on-finance/2013/dec/20/federal-reserve-exit-quantitative-easing-janet-yellen\n",
            "https://www.theguardian.com/business/2013/dec/19/european-markets-rally-federal-reserve-move\n",
            "https://www.theguardian.com/business/2013/dec/19/markets-rally-after-fed-begins-tapering-its-stimulus-programme-business-live\n",
            "https://www.theguardian.com/commentisfree/2013/dec/19/ben-bernanke-legacy-calling-out-congress\n",
            "https://www.theguardian.com/business/economics-blog/2013/dec/19/federal-reserve-taper-wall-street-reaction\n",
            "https://www.theguardian.com/business/2013/dec/18/federal-reserve-taper-economic-stimulus-jobs-growth\n",
            "https://www.theguardian.com/business/2013/dec/18/uk-unemployment-bank-minutes-federal-reserve-business-live\n",
            "https://www.theguardian.com/business/2013/dec/18/the-many-faces-of-ben-bernanke-in-pictures\n",
            "https://www.theguardian.com/business/economics-blog/2013/dec/15/federal-reserve-scale-back-quantitative-easing-christmas\n",
            "https://www.theguardian.com/business/2013/dec/15/fed-chief-end-us-economic-stimulus\n",
            "https://www.theguardian.com/business/2013/dec/12/markets--fed-tapering-slovenia-bank-clean-up-business-live\n",
            "https://www.theguardian.com/business/2013/dec/04/adp-numbers-job-market-growth-shutdown\n",
            "https://www.theguardian.com/business/2013/nov/24/unthinkable-five-radical-ways-economic-slump\n",
            "https://www.theguardian.com/business/2013/nov/21/janet-yellen-fed-chair-senate-committee\n",
            "https://www.theguardian.com/business/2013/nov/21/fed-tapering-fears-and-weak-chinese-manufacturing-worry-investors-live\n",
            "https://www.theguardian.com/business/2013/nov/18/us-stock-markets-new-highs-dow-jones-sp500\n",
            "https://www.theguardian.com/business/2013/nov/18/stock-markets-indexes-numbers-milestones\n",
            "https://www.theguardian.com/business/2013/nov/14/federal-reserve-ultimate-explainer\n",
            "https://www.theguardian.com/business/2013/nov/14/janet-yellen-federal-reserve-hearing\n",
            "https://www.theguardian.com/business/2013/nov/13/deflation-fears-eurozone-spain-fall-prices\n",
            "https://www.theguardian.com/business/2013/nov/13/ave-we-overestimated-power-of-central-banks\n",
            "https://www.theguardian.com/business/2013/nov/10/central-bankers-composure-stimulus-policies\n",
            "https://www.theguardian.com/business/2013/nov/08/upbeat-us-jobs-data-december-tapering-federal-reserve\n",
            "https://www.theguardian.com/business/2013/nov/07/us-economic-growth-gdp-tapering\n",
            "https://www.theguardian.com/business/economics-blog/2013/oct/31/bubbles-central-banks-macro-pru-recovery-financial-stability\n",
            "https://www.theguardian.com/business/2013/oct/31/central-banks-share-currencies-federal-reserve-bank-england\n",
            "https://www.theguardian.com/business/2013/oct/30/business-blog-wall-street-high-on-stimulus-hopes-live\n",
            "https://www.theguardian.com/business/2013/oct/30/us-jobs-report-unemployment-fears\n",
            "https://www.theguardian.com/business/2013/oct/28/business-federal-reserve-interest-rate-us-shutdown\n",
            "https://www.theguardian.com/commentisfree/2013/oct/28/alan-greenspan-housing-market-crisis\n",
            "https://www.theguardian.com/business/2013/oct/22/us-markets-up-jobs-report\n",
            "https://www.theguardian.com/commentisfree/2013/oct/18/shutdown-takewaway-fair-society\n",
            "https://www.theguardian.com/business/economics-blog/2013/oct/14/federal-reserve-janet-yellen-tough-task\n",
            "https://www.theguardian.com/world/2013/oct/11/joe-hockey-australia-live-within-means\n",
            "https://www.theguardian.com/business/video/2013/oct/10/obama-nominates-janet-yellen-federal-reserve-video\n",
            "https://www.theguardian.com/commentisfree/2013/oct/09/women-bankers\n",
            "https://www.theguardian.com/money/us-money-blog/2013/oct/09/janet-yellen-affects-middle-class-americans\n",
            "https://www.theguardian.com/business/2013/oct/09/humbled-janet-yellen-pledges-help-hardest-hit\n",
            "https://www.theguardian.com/business/2013/oct/09/janet-yellen-independence-federal-reserve-chair\n",
            "https://www.theguardian.com/business/economics-blog/2013/oct/09/janet-yellen-right-head-federal-reserve\n",
            "https://www.theguardian.com/business/2013/oct/09/us-debt-deadlock-keeps-gnawing-at-markets-live\n",
            "https://www.theguardian.com/business/2013/oct/09/janet-yellen-nomination-obama-political-win\n",
            "https://www.theguardian.com/commentisfree/2013/oct/09/janet-yellen-nomination-federal-reserve-qe\n",
            "https://www.theguardian.com/business/shortcuts/2013/oct/09/janet-yellen-karl-marx-federal-reserve\n",
            "https://www.theguardian.com/business/2013/oct/09/imf-federal-reserve-qe-tapering-rate-rises\n",
            "https://www.theguardian.com/business/2013/oct/09/obama-janet-yellen-us-federal-reserve\n",
            "https://www.theguardian.com/business/2013/oct/02/government-not-relax-credit-standards-imf-warns\n",
            "https://www.theguardian.com/business/2013/oct/01/unilever-profit-warning-investors\n",
            "https://www.theguardian.com/money/us-money-blog/2013/sep/24/fed-stimulus-means-for-portfolio\n",
            "https://www.theguardian.com/business/2013/sep/22/forward-guidance-markets-faster-bank\n",
            "https://www.theguardian.com/business/2013/sep/20/australia-federal-reserve\n",
            "https://www.theguardian.com/business/2013/sep/19/jp-morgan-920m-fine-london-whale\n",
            "https://www.theguardian.com/business/economics-blog/2013/sep/19/federal-reserve-tapering-decision-confused-the-markets\n",
            "https://www.theguardian.com/business/marketforceslive/2013/sep/19/randgold-resources-miners-ftse-100-bernanke\n",
            "https://www.theguardian.com/business/economics-blog/2013/sep/19/federal-reserve-delay-no-reason-celebrate\n",
            "https://www.theguardian.com/business/2013/sep/18/stock-markets-record-fed-stimulus\n",
            "https://www.theguardian.com/business/2013/sep/18/ben-bernanke-quantitative-easing-live-updates\n",
            "https://www.theguardian.com/business/2013/sep/18/federal-reserve-maintains-stimulus-ben-bernanke\n",
            "https://www.theguardian.com/business/2013/sep/18/greece-strike-markets-fed-tapering-live\n",
            "https://www.theguardian.com/business/2013/sep/17/federal-reserve-stimulus-meeting-quantitative-easing-taper\n",
            "https://www.theguardian.com/money/us-money-blog/2013/sep/16/larry-summers-story-dark-fall\n",
            "https://www.theguardian.com/business/2013/sep/16/larry-summers-withdrawal-from-fed-race-cheers-markets-live\n",
            "https://www.theguardian.com/business/2013/sep/16/summers-yellen-fed-reserve-chair\n",
            "https://www.theguardian.com/business/2013/sep/16/janet-yellen-fed-chair-larry-summers\n",
            "https://www.theguardian.com/commentisfree/2013/sep/16/larry-summers-withdrawal-obama-bad-economic-advice\n",
            "https://www.theguardian.com/business/2013/sep/15/bernanke-fed-tapering-quantitative-easing\n",
            "https://www.theguardian.com/commentisfree/2013/sep/08/raghuram-rajan-india-ben-bernanke\n",
            "https://www.theguardian.com/commentisfree/2013/sep/06/bad-economic-stimulus-quantitative-easing\n",
            "https://www.theguardian.com/commentisfree/2013/sep/06/media-acquiescence-larry-summers-supporters\n",
            "https://www.theguardian.com/business/2013/sep/06/us-jobless-numbers-economic-recovery\n",
            "https://www.theguardian.com/business/2013/sep/03/uk-economy-upgraded-by-oecd\n",
            "https://www.theguardian.com/business/2013/sep/02/global-economy-know-unknowns-nouriel-roubini\n",
            "https://www.theguardian.com/business/economics-blog/2013/sep/01/beware-ides-september-turbulent-month-economy\n",
            "https://www.theguardian.com/business/marketforceslive/2013/aug/30/market-week-uncertainty-federal-reserve\n",
            "https://www.theguardian.com/business/2013/aug/29/us-economy-gdp-expands-strong-second-quarter\n",
            "https://www.theguardian.com/business/2013/aug/25/quantitative-easing-taper-emerging-markets\n",
            "https://www.theguardian.com/business/2013/aug/24/obama-crossfire-battle-for-fed\n",
            "https://www.theguardian.com/business/nils-pratley-on-finance/2013/aug/23/federal-reserve-exit-quantative-easing\n",
            "https://www.theguardian.com/commentisfree/2013/aug/22/janet-yellen-chair-federal-reserve\n",
            "https://www.theguardian.com/business/2013/aug/21/federal-reserve-minutes-economic-stimulus\n",
            "https://www.theguardian.com/business/2013/aug/21/global-markets-watch-federal-reserve-anxiously-live\n",
            "https://www.theguardian.com/business/2013/aug/16/stock-markets-jittery-over-fears-federal-reserve-set-to-taper-stimulus-live\n",
            "https://www.theguardian.com/business/2013/aug/15/global-markets-slide-interest-rate-fears\n",
            "https://www.theguardian.com/commentisfree/2013/aug/13/rand-paul-milton-friedman-federal-reserve-chairman\n",
            "https://www.theguardian.com/commentisfree/2013/aug/12/larry-summers-record-discar-fed-chairmanship\n",
            "https://www.theguardian.com/world/2013/aug/09/new-york-fed-30-years\n",
            "https://www.theguardian.com/business/2013/aug/05/interest-rates-bank-of-england-federal-reserve\n",
            "https://www.theguardian.com/business/economics-blog/2013/aug/05/us-federal-reserve-dovish-replacement-bernanke\n",
            "https://www.theguardian.com/business/2013/jul/31/federal-reserve-interest-rates-future-leadership\n",
            "https://www.theguardian.com/commentisfree/2013/jul/30/larry-summers-should-not-be-next-fed-chair\n",
            "https://www.theguardian.com/commentisfree/2013/jul/29/larry-summers-federal-reserve-chair\n",
            "https://www.theguardian.com/commentisfree/2013/jul/17/ben-bernanke-credit-ungrateful-congress\n",
            "https://www.theguardian.com/business/2013/jul/17/bank-mark-carney-qe\n",
            "https://www.theguardian.com/business/2013/jul/17/ben-bernanke-testifies-congress-live\n",
            "https://www.theguardian.com/business/2013/jul/17/ben-bernanke-fed-stimulus-programme\n",
            "https://www.theguardian.com/business/2013/jul/11/us-markets-record-highs-fed-interest-rate\n",
            "https://www.theguardian.com/business/2013/jul/10/federal-reserve-minutes-bond-buying\n",
            "https://www.theguardian.com/business/economics-blog/2013/jul/07/central-banks-bond-market-mark-carney\n",
            "https://www.theguardian.com/business/2013/jul/05/us-jobs-federal-reserve-stimulus-stock-markets\n",
            "https://www.theguardian.com/commentisfree/2013/jul/03/ben-bernanke-gilt-edged-term\n",
            "https://www.theguardian.com/business/economics-blog/2013/jul/03/service-sector-rise-economy\n",
            "https://www.theguardian.com/business/2013/jun/28/stock-markets-gold-june\n",
            "https://www.theguardian.com/commentisfree/2013/jun/27/ben-bernanke-interest-rates-wall-street\n",
            "https://www.theguardian.com/business/2013/jun/25/interest-rate-rises-markets-mervyn-king\n",
            "https://www.theguardian.com/business/2013/jun/24/fed-fears-china-credit-global-stock-markets\n",
            "https://www.theguardian.com/business/2013/jun/24/us-stock-markets-fall-fed-china\n",
            "https://www.theguardian.com/business/2013/jun/23/ben-bernanke-wean-market-off-easy-money\n",
            "https://www.theguardian.com/business/2013/jun/21/ftse-slumps-fears-over-us-stimulus-package\n",
            "https://www.theguardian.com/business/2013/jun/20/stock-markets-violent-sell-off\n",
            "https://www.theguardian.com/business/2013/jun/20/us-stock-markets-fall-bernanke-stimulus\n",
            "https://www.theguardian.com/commentisfree/2013/jun/20/housing-recovery-is-not-real\n",
            "https://www.theguardian.com/business/nils-pratley-on-finance/2013/jun/20/federal-reserve-qe-withdrawal\n",
            "https://www.theguardian.com/business/2013/jun/20/world-stock-markets-fall-bernanke-ftse\n",
            "https://www.theguardian.com/commentisfree/2013/jun/19/federal-reserve-bad-marriage-markets\n",
            "https://www.theguardian.com/business/2013/jun/19/eurozone-crisis-fed-meeting-greek-leaders\n",
            "https://www.theguardian.com/business/2013/jun/19/federal-reserve-interest-rates-stimulus\n",
            "https://www.theguardian.com/business/2013/jun/14/imf-us-economic-recovery-cuts\n",
            "https://www.theguardian.com/business/economics-blog/2013/jun/13/financial-markets-political-risk-federal-reserve\n",
            "https://www.theguardian.com/business/2013/jun/12/bond-bubble-threatens-financial-system\n",
            "https://www.theguardian.com/business/nils-pratley-on-finance/2013/jun/07/federal-reserve\n",
            "https://www.theguardian.com/commentisfree/2013/jun/03/alan-greenspan-cause-great-recession\n",
            "https://www.theguardian.com/commentisfree/2013/may/29/economic-recovery-not-real\n",
            "https://www.theguardian.com/business/nils-pratley-on-finance/2013/may/24/stock-markets-firstgroup-standard-chartered-jp-morgan\n",
            "https://www.theguardian.com/commentisfree/2013/may/23/ben-bernanke-corporate-america-not-doing-job\n",
            "https://www.theguardian.com/business/2013/may/23/ftse-100-falls-china-manufacturing-fed-qe\n",
            "https://www.theguardian.com/business/2013/may/23/us-new-home-sales-rise\n",
            "https://www.theguardian.com/business/2013/may/23/stock-market-crash-central-banks\n",
            "https://www.theguardian.com/business/nils-pratley-on-finance/2013/may/22/bernanke-quantitative-easing-continue\n",
            "https://www.theguardian.com/business/2013/may/22/markets-rally-ben-bernanke-qe-stimulus\n",
            "https://www.theguardian.com/business/2013/may/22/federal-reserve-ben-bernanke-stimulus-bubbles\n",
            "https://www.theguardian.com/media/2013/may/12/bloomberg-banking\n",
            "https://www.theguardian.com/business/2013/may/01/federal-reserve-congress-cuts-policy\n",
            "https://www.theguardian.com/business/2013/apr/18/bank-england-carney-uk-crisis-country\n",
            "https://www.theguardian.com/commentisfree/2013/apr/16/gold-crash-2013-explanation-not-obvious\n",
            "https://www.theguardian.com/business/economics-blog/2013/apr/10/federal-reserve-minutes-qe-ben-bernanke\n",
            "https://www.theguardian.com/business/2013/apr/10/federal-reserve-ben-bernanke-split-stimulus\n",
            "https://www.theguardian.com/business/2013/apr/09/imf-inflation-fears-central-banks\n",
            "https://www.theguardian.com/business/2013/apr/05/march-us-jobs-report-economy\n",
            "https://www.theguardian.com/commentisfree/2013/apr/05/do-nothing-congress-america-jobs-crisis\n",
            "https://www.theguardian.com/business/2013/mar/29/stock-market-calm-cyprus-italy\n",
            "https://www.theguardian.com/commentisfree/2013/mar/25/london-whale-link-us-economy-cyprus\n",
            "https://www.theguardian.com/commentisfree/2013/mar/21/ben-bernanke-federal-reserve\n",
            "https://www.theguardian.com/business/2013/mar/20/federal-reserve-stimulus-interest-rates\n",
            "https://www.theguardian.com/business/2013/mar/20/federal-reserve-bernanke-interest-live\n",
            "https://www.theguardian.com/business/economics-blog/2013/mar/05/federal-reserve-cheap-money-dow-jones-high\n",
            "https://www.theguardian.com/business/economics-blog/2013/feb/28/quantitative-easing-risks-qe-wars-roubini\n",
            "https://www.theguardian.com/business/2013/feb/25/dangers-of-sequester-spending-cuts\n",
            "https://www.theguardian.com/business/2013/feb/20/federal-reserve-rift-ben-bernanke-stimulus\n",
            "https://www.theguardian.com/business/2013/feb/11/federal-reserve-blame-financial-crisis\n",
            "https://www.theguardian.com/commentisfree/2013/feb/01/unemployment-crisis-us-monthly-jobs-report\n",
            "https://www.theguardian.com/commentisfree/2013/jan/14/republican-hubris-spending-cuts\n",
            "https://www.theguardian.com/commentisfree/2013/jan/13/jack-lew-tim-geithner-us-treasury-boss\n",
            "https://www.theguardian.com/commentisfree/2013/jan/11/quantitative-easing-had-its-day\n",
            "https://www.theguardian.com/business/2013/jan/04/eurozone-live-fed-qe3\n",
            "https://www.theguardian.com/business/2012/dec/20/bank-england-chief-850000\n",
            "https://www.theguardian.com/business/2012/dec/12/ben-bernanke-confuse-wall-street\n",
            "https://www.theguardian.com/world/2012/dec/12/boehner-gop-fiscal-cliff-counter-offer\n",
            "https://www.theguardian.com/business/2012/dec/12/federal-reserve-interest-rates-stimulus\n",
            "https://www.theguardian.com/business/2012/dec/12/eurozone-crisis-live-federal-reserve-qe\n",
            "https://www.theguardian.com/business/2012/nov/22/income-equality-killing-capitalism\n",
            "https://www.theguardian.com/business/2012/nov/20/bernanke-fiscal-cliff-failure-economy-recession\n",
            "https://www.theguardian.com/commentisfree/2012/oct/24/sanctions-iran-nuclear-talks-heidi-moore\n",
            "https://www.theguardian.com/business/economics-blog/2012/oct/19/monetary-policy-central-bankers\n",
            "https://www.theguardian.com/world/video/2012/oct/18/fbi-sting-federal-reserve-bomb-video\n",
            "https://www.theguardian.com/world/2012/oct/17/fbi-federal-reserve-bomb-plot\n",
            "https://www.theguardian.com/business/economics-blog/2012/oct/15/quantitative-easing-us-economy\n",
            "https://www.theguardian.com/technology/2012/oct/11/apple-iphone5-demand-huge-increase-air-freight-costs\n",
            "https://www.theguardian.com/business/economics-blog/2012/oct/04/adding-liquidity-fiscal-stimulus\n",
            "https://www.theguardian.com/commentisfree/2012/oct/01/big-finance-pathology-compels-logic\n",
            "https://www.theguardian.com/commentisfree/2012/sep/20/quantitative-easing-not-magic-central-banks\n",
            "https://www.theguardian.com/commentisfree/2012/sep/17/america-falls-off-fiscal-cliff\n",
            "https://www.theguardian.com/business/2012/sep/14/eurozone-crisis-qe3-markets-euro-ministers\n",
            "https://www.theguardian.com/business/blog/2012/sep/14/ben-bernanke-qe3-paul-ryan\n",
            "https://www.theguardian.com/world/2012/sep/13/federal-reserve-ben-bernanke-live\n",
            "https://www.theguardian.com/commentisfree/2012/sep/13/ben-bernanke-flakcatcher-in-chief\n",
            "https://www.theguardian.com/business/nils-pratley-on-finance/2012/sep/13/fed-reserve-stability\n",
            "https://www.theguardian.com/commentisfree/2012/sep/13/ben-bernanke-rescues-us-economy-nihilism-right\n",
            "https://www.theguardian.com/business/2012/sep/13/fed-bond-buying-stimulus-growth\n",
            "https://www.theguardian.com/commentisfree/2012/sep/13/moodys-threat-downgrade-us-debt-political-fiscal\n",
            "https://www.theguardian.com/business/2012/sep/13/eurozone-crisis-live\n",
            "https://www.theguardian.com/business/2012/sep/11/ben-bernanke-us-economy-federal-reserve\n",
            "https://www.theguardian.com/business/2012/sep/06/quantitative-easing-quick-fix-world-economy\n",
            "https://www.theguardian.com/commentisfree/2012/sep/03/debt-federal-reserve-fixation-on-growth\n",
            "https://www.theguardian.com/business/2012/aug/31/markets-fed-chairman-ben-bernanke\n",
            "https://www.theguardian.com/business/2012/aug/31/ben-bernanke-fed-action-stimulus\n",
            "https://www.theguardian.com/business/2012/aug/31/eurozone-crisis-live-jackson-hole\n",
            "https://www.theguardian.com/business/2012/aug/27/federal-reserve-offical-us-unemployment\n",
            "https://www.theguardian.com/business/2012/aug/24/angela-merkel-rejects-greek-pleas-loan-extension\n",
            "https://www.theguardian.com/business/2012/aug/22/federal-reserve-us-economy-growth\n",
            "https://www.theguardian.com/business/2012/aug/03/us-jobs-report-economy-barack-obama\n",
            "https://www.theguardian.com/business/2012/aug/01/fed-us-recovery-stimulus\n",
            "https://www.theguardian.com/business/2012/jul/17/ben-bernanke-cliff-politics-markets\n",
            "https://www.theguardian.com/business/2012/jul/17/federal-reserve-ben-bernanke-markets\n",
            "https://www.theguardian.com/business/2012/jul/17/federal-reserve-ben-bernanke\n",
            "https://www.theguardian.com/business/2012/jul/17/eurozone-crisis-mervyn-king-libor\n",
            "https://www.theguardian.com/commentisfree/2012/jul/06/weak-job-report-force-fed-act\n",
            "https://www.theguardian.com/business/economics-blog/2012/jun/29/us-federal-reserve-powerless\n",
            "https://www.theguardian.com/business/economics-blog/2012/jun/27/federal-reserve-runs-out-of-options\n",
            "https://www.theguardian.com/commentisfree/2012/jun/20/ben-bernanke-unlikely-atlas-us-economy\n",
            "https://www.theguardian.com/business/2012/jun/20/fed-extends-operation-twist-economy\n",
            "https://www.theguardian.com/business/2012/jun/20/federal-reserve-pumps-more-money-us-economy\n",
            "https://www.theguardian.com/business/2012/jun/20/market-federal-reserve-us-economy\n",
            "https://www.theguardian.com/business/2012/jun/18/fed-us-economy-operation-twist\n",
            "https://www.theguardian.com/commentisfree/2012/jun/18/risk-jamie-dimon-federal-reserve-system\n",
            "https://www.theguardian.com/commentisfree/2012/jun/18/ben-bernanke-federal-reserve-us-economy\n",
            "https://www.theguardian.com/business/2012/jun/11/new-york-fed-defends-jp-morgan-boss\n",
            "980 980 980\n",
            "['2023-04-07T13:38:36+0000', '2023-03-22T19:20:33+0000', '2023-03-22T05:00:15+0000', '2023-03-21T11:00:53+0000', '2023-03-21T10:20:11+0000', '2023-03-19T16:34:04+0000', '2023-03-19T13:47:46+0000', '2023-03-17T10:15:38+0000', '2023-03-17T00:56:36+0000', '2023-03-14T17:12:52+0000', '2023-03-14T14:00:41+0000', '2023-03-13T15:43:03+0000', '2023-03-13T10:42:19+0000', '2023-03-10T22:20:16+0000', '2023-03-10T14:59:58+0000', '2023-03-08T14:05:12+0000', '2023-03-07T17:31:51+0000', '2023-03-07T16:49:03+0000', '2023-02-14T13:49:39+0000', '2023-02-07T20:08:52+0000', '2023-02-01T19:40:00+0000', '2023-01-31T08:00:40+0000', '2023-01-26T14:16:30+0000', '2023-01-20T07:00:32+0000', '2023-01-10T18:19:50+0000', '2023-01-08T11:19:46+0000', '2022-12-26T13:57:17+0000', '2022-12-25T11:00:04+0000', '2022-12-14T20:21:10+0000', '2022-12-13T13:41:30+0000', '2022-12-09T14:02:33+0000', '2022-12-02T13:37:53+0000', '2022-11-30T19:44:51+0000', '2022-11-24T15:27:18+0000', '2022-11-06T10:30:17+0000', '2022-11-05T07:00:05+0000', '2022-11-02T18:16:46+0000', '2022-10-26T12:47:45+0000', '2022-10-16T17:30:41+0000', '2022-10-13T15:24:00+0000', '2022-10-10T22:40:45+0000', '2022-10-08T14:13:30+0000', '2022-10-03T16:29:18+0000', '2022-09-29T16:23:08+0000', '2022-09-28T08:46:33+0000', '2022-09-27T23:04:51+0000', '2022-09-26T07:38:38+0000', '2022-09-23T10:20:32+0000', '2022-09-21T18:02:20+0000', '2022-09-21T06:00:22+0000', '2022-09-13T20:59:05+0000', '2022-09-12T10:55:58+0000', '2022-09-10T16:00:07+0000', '2022-08-28T07:00:21+0000', '2022-08-26T20:59:03+0000', '2022-08-26T20:10:54+0000', '2022-08-12T14:47:47+0000', '2022-08-11T14:20:31+0000', '2022-08-10T14:14:02+0000', '2022-07-31T10:24:03+0000', '2022-07-31T10:20:01+0000', '2022-07-28T02:11:37+0000', '2022-07-27T19:56:55+0000', '2022-07-21T05:00:40+0000', '2022-07-16T16:00:12+0000', '2022-07-14T17:58:05+0000', '2022-07-13T17:52:55+0000', '2022-07-13T16:41:52+0000', '2022-06-30T06:00:31+0000', '2022-06-29T18:06:34+0000', '2022-06-28T06:41:15+0000', '2022-06-22T15:48:00+0000', '2022-06-20T17:44:44+0000', '2022-06-18T16:00:22+0000', '2022-06-18T10:19:15+0000', '2022-06-15T22:33:54+0000', '2022-06-15T20:01:51+0000', '2022-06-15T19:00:22+0000', '2022-06-15T11:27:45+0000', '2022-06-14T07:15:22+0000', '2022-06-14T05:10:33+0000', '2022-05-19T00:41:07+0000', '2022-05-08T10:35:08+0000', '2022-05-05T20:03:29+0000', '2022-05-04T19:30:41+0000', '2022-05-04T15:12:57+0000', '2022-04-28T06:00:02+0000', '2022-03-16T20:26:24+0000', '2022-03-16T19:20:25+0000', '2022-03-04T15:11:23+0000', '2022-02-13T12:21:49+0000', '2022-02-11T18:25:03+0000', '2022-02-10T13:36:36+0000', '2022-02-06T06:00:17+0000', '2022-01-27T17:41:06+0000', '2022-01-27T09:01:45+0000', '2022-01-26T21:21:51+0000', '2022-01-26T21:11:14+0000', '2022-01-12T17:27:35+0000', '2022-01-11T18:06:36+0000', '2022-01-10T19:05:41+0000', '2022-01-10T12:01:28+0000', '2022-01-09T06:00:13+0000', '2021-12-30T07:00:43+0000', '2021-12-16T04:22:14+0000', '2021-12-12T11:50:17+0000', '2021-11-26T06:00:20+0000', '2021-11-26T06:00:20+0000', '2021-11-25T17:18:53+0000', '2021-11-22T15:43:25+0000', '2021-11-11T14:14:24+0000', '2021-11-10T18:03:11+0000', '2021-11-10T06:00:31+0000', '2021-11-03T20:28:32+0000', '2021-11-03T18:14:55+0000', '2021-10-17T09:49:44+0000', '2021-10-10T05:00:03+0000', '2021-09-28T16:49:23+0000', '2021-09-22T20:12:07+0000', '2021-09-22T20:11:03+0000', '2021-08-31T16:12:25+0000', '2021-08-27T16:45:33+0000', '2021-08-27T16:05:37+0000', '2021-08-25T17:49:39+0000', '2021-08-21T23:05:19+0000', '2021-08-19T18:33:28+0000', '2021-08-19T09:55:47+0000', '2021-07-21T05:00:48+0000', '2021-07-13T17:07:23+0000', '2021-07-02T09:34:55+0000', '2021-06-17T18:22:17+0000', '2021-06-16T20:38:39+0000', '2021-05-12T18:57:23+0000', '2021-04-25T17:04:44+0000', '2021-04-12T11:00:02+0000', '2021-04-08T14:12:17+0000', '2021-03-18T16:49:37+0000', '2021-03-17T20:39:42+0000', '2021-02-23T17:46:32+0000', '2021-02-16T14:33:25+0000', '2021-02-10T06:00:28+0000', '2021-02-05T12:54:55+0000', '2021-01-27T15:16:21+0000', '2021-01-15T06:00:30+0000', '2021-01-08T14:13:39+0000', '2021-01-07T15:38:51+0000', '2021-01-01T13:00:51+0000', '2020-12-17T19:31:05+0000', '2020-12-17T07:00:32+0000', '2020-12-05T16:00:44+0000', '2020-11-23T21:26:22+0000', '2020-11-14T08:00:03+0000', '2020-11-08T12:57:14+0000', '2020-10-07T15:32:58+0000', '2020-10-07T11:00:36+0000', '2020-10-06T18:26:13+0000', '2020-09-22T16:06:49+0000', '2020-09-16T14:26:21+0000', '2020-09-10T06:00:35+0000', '2020-09-09T08:00:09+0000', '2020-08-28T14:10:57+0000', '2020-08-27T15:55:25+0000', '2020-08-27T14:55:02+0000', '2020-08-26T14:15:53+0000', '2020-08-26T09:46:16+0000', '2020-08-25T06:00:47+0000', '2020-08-24T06:00:18+0000', '2020-08-22T15:00:30+0000', '2020-08-20T15:39:12+0000', '2020-08-19T18:55:11+0000', '2020-08-18T17:09:23+0000', '2020-08-13T06:00:47+0000', '2020-08-04T18:09:53+0000', '2020-07-02T09:09:49+0000', '2020-06-26T13:58:36+0000', '2020-06-19T13:58:13+0000', '2020-06-18T10:22:43+0000', '2020-06-16T18:02:54+0000', '2020-06-16T15:13:02+0000', '2020-06-16T14:56:37+0000', '2020-06-12T07:00:15+0000', '2020-06-11T14:07:02+0000', '2020-06-10T18:49:34+0000', '2020-06-10T14:00:04+0000', '2020-06-07T06:00:44+0000', '2020-05-28T06:00:23+0000', '2020-05-19T19:42:28+0000', '2020-05-14T18:03:45+0000', '2020-05-13T15:35:01+0000', '2020-05-12T19:13:11+0000', '2020-05-12T10:09:50+0000', '2020-04-29T20:08:27+0000', '2020-04-26T06:00:06+0000', '2020-04-17T12:31:10+0000', '2020-04-14T05:00:33+0000', '2020-04-07T18:22:12+0000', '2020-03-26T12:54:21+0000', '2020-03-23T16:20:21+0000', '2020-03-23T13:29:21+0000', '2020-03-18T10:10:21+0000', '2020-03-17T17:27:03+0000', '2020-03-16T23:02:25+0000', '2020-03-16T20:31:18+0000', '2020-03-16T07:08:45+0000', '2020-03-15T11:39:42+0000', '2020-03-13T23:08:14+0000', '2020-03-11T21:33:02+0000', '2020-03-07T16:00:10+0000', '2020-03-03T19:26:30+0000', '2020-03-03T18:42:34+0000', '2020-03-02T19:59:54+0000', '2020-02-28T07:00:10+0000', '2020-01-29T20:27:39+0000', '2020-01-10T12:24:30+0000', '2020-01-01T12:16:49+0000', '2019-12-30T03:58:17+0000', '2019-12-29T06:30:30+0000', '2019-12-24T18:27:48+0000', '2019-12-12T18:25:00+0000', '2019-12-09T18:12:48+0000', '2019-10-30T19:55:09+0000', '2019-10-20T11:42:18+0000', '2019-10-04T14:04:11+0000', '2019-09-22T13:18:23+0000', '2019-09-18T20:35:08+0000', '2019-09-18T19:35:56+0000', '2019-09-15T12:54:14+0000', '2019-09-12T05:00:47+0000', '2019-09-12T00:56:11+0000', '2019-09-11T08:17:33+0000', '2019-09-05T17:00:24+0000', '2019-08-30T17:30:22+0000', '2019-08-23T22:22:42+0000', '2019-08-23T15:33:39+0000', '2019-08-22T17:16:49+0000', '2019-08-21T17:52:06+0000', '2019-08-20T04:13:14+0000', '2019-08-18T21:52:54+0000', '2019-08-17T15:00:46+0000', '2019-08-16T05:00:09+0000', '2019-08-15T07:47:48+0000', '2019-08-15T05:12:48+0000', '2019-08-14T17:14:48+0000', '2019-08-13T06:00:43+0000', '2019-08-01T11:43:29+0000', '2019-07-31T19:00:01+0000', '2019-07-31T18:02:30+0000', '2019-07-31T14:26:27+0000', '2019-07-29T15:00:34+0000', '2019-07-28T10:44:34+0000', '2019-07-27T15:00:48+0000', '2019-07-26T12:54:43+0000', '2019-07-25T16:34:29+0000', '2019-07-22T06:00:30+0000', '2019-07-19T10:29:46+0000', '2019-07-10T13:36:31+0000', '2019-07-09T04:00:41+0000', '2019-06-26T22:08:46+0000', '2019-06-26T18:26:31+0000', '2019-06-23T14:23:31+0000', '2019-06-20T20:22:29+0000', '2019-06-19T20:10:46+0000', '2019-06-18T16:24:01+0000', '2019-06-18T13:21:51+0000', '2019-06-12T10:00:41+0000', '2019-06-11T10:24:38+0000', '2019-05-29T23:00:28+0000', '2019-05-29T10:47:16+0000', '2019-05-02T17:36:02+0000', '2019-05-02T06:00:15+0000', '2019-05-01T20:03:36+0000', '2019-05-01T19:04:01+0000', '2019-04-29T14:37:17+0000', '2019-04-26T15:48:23+0000', '2019-04-23T21:16:54+0000', '2019-04-22T16:58:30+0000', '2019-04-11T06:00:14+0000', '2019-04-07T16:04:15+0000', '2019-04-05T22:17:20+0000', '2019-04-03T23:21:50+0000', '2019-04-01T18:13:06+0000', '2019-03-30T14:47:08+0000', '2019-03-27T17:38:45+0000', '2019-03-22T23:27:12+0000', '2019-03-20T20:04:11+0000', '2019-03-18T15:04:08+0000', '2019-03-18T15:02:50+0000', '2019-03-17T14:54:02+0000', '2019-01-30T21:24:19+0000', '2019-01-19T17:00:19+0000', '2019-01-02T05:07:53+0000', '2018-12-30T11:00:18+0000', '2018-12-27T12:02:08+0000', '2018-12-24T17:02:11+0000', '2018-12-24T03:32:47+0000', '2018-12-23T18:36:28+0000', '2018-12-23T16:39:26+0000', '2018-12-23T06:00:18+0000', '2018-12-22T18:58:24+0000', '2018-12-20T12:50:27+0000', '2018-12-20T06:45:32+0000', '2018-12-19T23:16:35+0000', '2018-12-19T22:05:07+0000', '2018-12-19T20:00:27+0000', '2018-12-18T19:12:06+0000', '2018-12-18T18:36:51+0000', '2018-12-18T16:03:06+0000', '2018-12-16T09:54:04+0000', '2018-11-28T19:02:14+0000', '2018-11-27T17:58:19+0000', '2018-11-02T18:23:12+0000', '2018-10-26T12:22:21+0000', '2018-10-24T22:17:05+0000', '2018-10-18T17:58:00+0000', '2018-10-17T20:15:27+0000', '2018-10-12T05:01:28+0000', '2018-10-11T17:52:49+0000', '2018-10-11T12:00:27+0000', '2018-10-11T10:26:11+0000', '2018-10-11T05:56:31+0000', '2018-10-11T02:50:25+0000', '2018-10-05T20:29:31+0000', '2018-10-05T05:34:29+0000', '2018-09-27T13:49:41+0000', '2018-09-26T19:33:24+0000', '2018-09-26T18:38:48+0000', '2018-09-14T16:17:36+0000', '2018-09-08T23:24:01+0000', '2018-09-05T17:03:58+0000', '2018-08-30T17:52:25+0000', '2018-08-24T17:07:43+0000', '2018-08-24T13:05:10+0000', '2018-08-23T13:00:26+0000', '2018-08-22T18:15:18+0000', '2018-08-21T17:12:56+0000', '2018-08-21T13:08:06+0000', '2018-07-30T13:58:20+0000', '2018-07-20T17:28:16+0000', '2018-07-20T17:10:46+0000', '2018-07-20T16:50:25+0000', '2018-06-17T06:00:06+0000', '2018-06-14T16:26:39+0000', '2018-06-13T19:27:29+0000', '2018-05-30T21:57:16+0000', '2018-05-22T22:02:37+0000', '2018-04-19T17:38:25+0000', '2018-03-22T17:53:33+0000', '2018-03-21T20:27:23+0000', '2018-03-21T20:24:38+0000', '2018-03-18T15:34:12+0000', '2018-02-28T17:48:26+0000', '2018-02-27T18:09:44+0000', '2018-02-27T17:29:38+0000', '2018-02-15T19:04:03+0000', '2018-02-14T18:54:27+0000', '2018-02-07T19:35:27+0000', '2018-02-06T09:56:51+0000', '2018-02-05T23:48:31+0000', '2018-02-05T18:09:16+0000', '2018-02-04T19:28:39+0000', '2018-02-04T12:40:08+0000', '2018-02-02T21:15:12+0000', '2018-01-30T07:13:04+0000', '2018-01-29T14:40:45+0000', '2017-12-13T20:30:48+0000', '2017-12-11T00:01:06+0000', '2017-12-03T17:15:22+0000', '2017-11-10T14:24:25+0000', '2017-11-06T11:41:05+0000', '2017-11-03T13:06:34+0000', '2017-11-02T19:40:33+0000', '2017-10-27T12:40:41+0000', '2017-10-26T07:55:01+0000', '2017-10-22T14:20:52+0000', '2017-10-13T06:00:25+0000', '2017-09-24T12:36:42+0000', '2017-09-21T16:48:00+0000', '2017-09-20T20:41:13+0000', '2017-09-20T18:10:52+0000', '2017-09-19T13:30:05+0000', '2017-09-01T13:55:54+0000', '2017-08-27T05:59:02+0000', '2017-08-25T16:00:14+0000', '2017-08-25T13:10:26+0000', '2017-08-24T14:12:00+0000', '2017-08-24T13:21:31+0000', '2017-08-21T13:07:52+0000', '2017-08-20T12:03:19+0000', '2017-07-27T14:16:13+0000', '2017-07-14T14:15:14+0000', '2017-07-10T15:45:15+0000', '2017-06-14T20:26:37+0000', '2017-06-14T18:56:41+0000', '2017-05-24T16:35:48+0000', '2017-05-16T12:11:37+0000', '2017-04-06T13:49:04+0000', '2017-03-26T07:02:24+0000', '2017-03-19T06:59:01+0000', '2017-03-16T17:01:23+0000', '2017-03-15T21:02:29+0000', '2017-03-15T20:43:42+0000', '2017-03-15T18:10:18+0000', '2017-03-14T19:08:31+0000', '2017-03-12T07:00:17+0000', '2017-03-10T15:03:04+0000', '2017-03-09T18:36:44+0000', '2017-03-04T17:00:20+0000', '2017-03-03T15:11:48+0000', '2017-03-02T07:44:49+0000', '2017-03-01T15:06:22+0000', '2017-02-02T12:00:29+0000', '2017-02-01T21:07:12+0000', '2017-01-06T15:07:43+0000', '2016-12-23T08:00:11+0000', '2016-12-18T17:58:02+0000', '2016-12-15T18:33:26+0000', '2016-12-15T18:07:10+0000', '2016-12-15T06:08:33+0000', '2016-12-14T21:21:18+0000', '2016-12-14T20:08:59+0000', '2016-12-11T07:00:21+0000', '2016-12-11T06:59:20+0000', '2016-12-02T14:18:19+0000', '2016-11-19T16:04:24+0000', '2016-11-18T10:42:32+0000', '2016-11-17T14:22:57+0000', '2016-11-14T19:41:17+0000', '2016-11-09T10:09:27+0000', '2016-11-02T18:29:58+0000', '2016-11-02T14:59:35+0000', '2016-10-25T16:08:59+0000', '2016-10-23T16:50:46+0000', '2016-10-12T20:45:45+0000', '2016-10-03T11:04:50+0000', '2016-09-25T11:46:15+0000', '2016-09-22T17:20:28+0000', '2016-09-21T20:21:48+0000', '2016-09-21T19:02:11+0000', '2016-09-21T11:00:09+0000', '2016-09-20T17:09:38+0000', '2016-09-19T16:56:42+0000', '2016-09-18T15:41:30+0000', '2016-09-18T06:00:10+0000', '2016-09-12T17:30:44+0000', '2016-09-12T04:18:01+0000', '2016-09-08T11:00:31+0000', '2016-09-06T13:40:43+0000', '2016-09-04T08:00:55+0000', '2016-09-02T17:15:21+0000', '2016-08-26T16:56:09+0000', '2016-08-26T16:44:22+0000', '2016-08-26T04:35:32+0000', '2016-08-25T18:38:57+0000', '2016-08-25T16:53:22+0000', '2016-08-17T18:46:03+0000', '2016-08-17T17:07:17+0000', '2016-08-03T21:38:37+0000', '2016-08-02T14:33:26+0000', '2016-08-01T02:21:15+0000', '2016-07-27T19:22:06+0000', '2016-07-06T20:37:06+0000', '2016-06-21T18:18:42+0000', '2016-06-21T16:22:59+0000', '2016-06-15T18:37:00+0000', '2016-06-13T11:00:50+0000', '2016-06-11T15:00:14+0000', '2016-06-10T17:29:35+0000', '2016-06-06T17:57:44+0000', '2016-06-05T08:00:34+0000', '2016-06-03T12:40:08+0000', '2016-06-01T17:08:21+0000', '2016-05-27T19:20:34+0000', '2016-05-19T17:25:54+0000', '2016-05-18T20:09:49+0000', '2016-05-18T19:02:18+0000', '2016-05-08T10:08:20+0000', '2016-05-06T12:42:33+0000', '2016-05-05T18:48:30+0000', '2016-05-05T11:56:17+0000', '2016-04-27T19:25:50+0000', '2016-04-27T11:00:04+0000', '2016-04-13T16:36:40+0000', '2016-04-07T13:40:48+0000', '2016-04-06T19:55:34+0000', '2016-04-01T15:02:51+0000', '2016-03-29T17:12:49+0000', '2016-03-28T16:43:20+0000', '2016-03-25T13:47:53+0000', '2016-03-20T19:07:46+0000', '2016-03-16T20:19:37+0000', '2016-03-14T18:04:25+0000', '2016-03-07T05:37:22+0000', '2016-02-26T00:05:06+0000', '2016-02-24T16:17:59+0000', '2016-02-22T19:32:39+0000', '2016-02-21T14:00:28+0000', '2016-02-17T20:05:33+0000', '2016-02-16T20:04:29+0000', '2016-02-14T09:00:13+0000', '2016-02-12T18:57:55+0000', '2016-02-12T18:05:06+0000', '2016-02-11T10:23:05+0000', '2016-02-10T20:05:20+0000', '2016-02-10T19:14:47+0000', '2016-02-10T18:52:57+0000', '2016-02-09T19:45:32+0000', '2016-02-08T19:37:43+0000', '2016-02-05T14:55:01+0000', '2016-02-04T20:01:14+0000', '2016-01-29T20:24:16+0000', '2016-01-29T19:42:08+0000', '2016-01-27T19:26:08+0000', '2016-01-24T09:00:04+0000', '2016-01-20T19:59:00+0000', '2016-01-20T18:53:50+0000', '2016-01-15T17:56:43+0000', '2016-01-14T19:31:17+0000', '2016-01-13T20:17:42+0000', '2016-01-08T15:20:24+0000', '2016-01-06T20:55:28+0000', '2016-01-01T16:26:35+0000', '2015-12-23T19:56:20+0000', '2015-12-23T17:47:37+0000', '2015-12-20T12:00:53+0000', '2015-12-18T10:45:33+0000', '2015-12-17T19:57:12+0000', '2015-12-17T17:53:23+0000', '2015-12-17T12:00:04+0000', '2015-12-17T09:14:24+0000', '2015-12-17T05:07:02+0000', '2015-12-16T21:04:29+0000', '2015-12-16T20:24:47+0000', '2015-12-16T20:11:46+0000', '2015-12-16T19:44:04+0000', '2015-12-16T19:37:45+0000', '2015-12-16T19:04:36+0000', '2015-12-16T07:00:10+0000', '2015-12-15T10:56:00+0000', '2015-12-14T04:41:39+0000', '2015-12-13T19:42:35+0000', '2015-12-12T16:00:05+0000', '2015-12-12T16:00:05+0000', '2015-12-09T11:21:05+0000', '2015-12-08T06:00:30+0000', '2015-12-07T23:55:19+0000', '2015-12-06T12:19:51+0000', '2015-12-04T13:33:25+0000', '2015-12-04T07:02:04+0000', '2015-12-03T07:00:04+0000', '2015-12-02T18:52:34+0000', '2015-12-02T18:40:31+0000', '2015-12-02T13:36:06+0000', '2015-11-30T11:58:49+0000', '2015-11-19T18:36:29+0000', '2015-11-18T20:06:36+0000', '2015-11-18T14:55:22+0000', '2015-11-17T08:07:11+0000', '2015-11-15T09:00:05+0000', '2015-11-13T16:56:31+0000', '2015-11-13T05:33:23+0000', '2015-11-10T10:06:49+0000', '2015-11-10T03:56:55+0000', '2015-11-08T05:18:14+0000', '2015-11-06T16:31:39+0000', '2015-11-06T15:46:50+0000', '2015-11-06T15:26:16+0000', '2015-11-04T18:51:10+0000', '2015-11-04T17:23:49+0000', '2015-11-01T16:13:29+0000', '2015-11-01T09:00:05+0000', '2015-10-30T04:18:27+0000', '2015-10-29T16:05:27+0000', '2015-10-29T15:16:59+0000', '2015-10-29T14:04:32+0000', '2015-10-29T06:29:53+0000', '2015-10-28T19:04:47+0000', '2015-10-26T17:13:02+0000', '2015-10-23T13:24:54+0000', '2015-10-15T14:45:35+0000', '2015-10-12T02:08:42+0000', '2015-10-11T14:38:03+0000', '2015-10-09T17:31:49+0000', '2015-10-08T20:19:16+0000', '2015-10-06T17:09:06+0000', '2015-10-05T11:48:19+0000', '2015-10-02T17:58:46+0000', '2015-09-29T17:22:33+0000', '2015-09-28T20:51:18+0000', '2015-09-25T15:55:17+0000', '2015-09-24T22:09:04+0000', '2015-09-23T11:40:23+0000', '2015-09-20T11:30:04+0000', '2015-09-19T11:00:15+0000', '2015-09-18T20:22:56+0000', '2015-09-18T16:48:14+0000', '2015-09-18T15:14:07+0000', '2015-09-18T11:47:16+0000', '2015-09-17T20:30:27+0000', '2015-09-17T19:24:15+0000', '2015-09-17T18:38:13+0000', '2015-09-17T13:36:07+0000', '2015-09-16T13:06:47+0000', '2015-09-16T05:00:18+0000', '2015-09-15T18:52:37+0000', '2015-09-14T18:48:38+0000', '2015-09-13T23:01:16+0000', '2015-09-13T11:00:02+0000', '2015-09-13T08:00:21+0000', '2015-09-07T12:05:14+0000', '2015-09-05T13:12:52+0000', '2015-09-04T23:32:33+0000', '2015-09-04T17:09:44+0000', '2015-08-31T20:29:47+0000', '2015-08-31T09:38:38+0000', '2015-08-30T08:00:01+0000', '2015-08-29T18:25:32+0000', '2015-08-28T00:05:06+0000', '2015-08-27T21:09:12+0000', '2015-08-27T21:04:33+0000', '2015-08-26T17:44:05+0000', '2015-08-25T21:22:30+0000', '2015-08-24T21:27:55+0000', '2015-08-21T18:18:35+0000', '2015-08-21T14:21:18+0000', '2015-08-19T19:18:10+0000', '2015-08-18T00:01:03+0000', '2015-08-17T01:19:51+0000', '2015-08-16T18:49:40+0000', '2015-08-16T12:06:39+0000', '2015-08-07T17:00:43+0000', '2015-08-07T12:31:15+0000', '2015-08-07T07:03:25+0000', '2015-07-30T15:44:51+0000', '2015-07-29T20:03:20+0000', '2015-07-29T19:27:39+0000', '2015-07-25T02:45:34+0000', '2015-07-24T03:30:46+0000', '2015-07-23T13:49:15+0000', '2015-07-21T04:09:45+0000', '2015-07-16T07:44:39+0000', '2015-07-15T16:01:24+0000', '2015-07-08T20:09:01+0000', '2015-06-30T10:45:31+0000', '2015-06-28T16:07:31+0000', '2015-06-24T18:49:33+0000', '2015-06-17T20:10:02+0000', '2015-06-05T13:09:03+0000', '2015-06-04T15:39:45+0000', '2015-06-04T13:57:10+0000', '2015-06-01T08:34:57+0000', '2015-05-31T11:01:49+0000', '2015-05-22T18:24:23+0000', '2015-05-20T18:29:10+0000', '2015-05-14T14:36:07+0000', '2015-05-06T14:05:59+0000', '2015-05-03T00:41:16+0000', '2015-04-29T19:55:08+0000', '2015-04-29T15:48:48+0000', '2015-04-29T15:13:24+0000', '2015-04-18T15:00:09+0000', '2015-04-08T18:26:01+0000', '2015-04-03T16:01:15+0000', '2015-03-19T12:00:07+0000', '2015-03-18T20:36:00+0000', '2015-03-18T18:05:57+0000', '2015-03-18T16:07:55+0000', '2015-03-17T14:48:44+0000', '2015-03-12T08:30:17+0000', '2015-03-11T10:57:26+0000', '2015-03-10T20:16:01+0000', '2015-03-07T01:04:41+0000', '2015-03-05T22:06:24+0000', '2015-02-24T21:24:31+0000', '2015-02-18T20:44:34+0000', '2015-02-16T11:24:11+0000', '2015-02-11T10:37:23+0000', '2015-02-06T14:01:30+0000', '2015-01-28T20:00:03+0000', '2015-01-27T18:01:24+0000', '2015-01-25T19:26:10+0000', '2015-01-22T13:00:04+0000', '2015-01-22T11:33:39+0000', '2015-01-22T07:59:09+0000', '2015-01-20T19:40:30+0000', '2015-01-12T12:30:04+0000', '2014-12-31T15:50:37+0000', '2014-12-29T09:07:52+0000', '2014-12-28T08:20:04+0000', '2014-12-17T21:46:15+0000', '2014-12-17T19:55:00+0000', '2014-12-17T18:50:10+0000', '2014-11-21T20:18:46+0000', '2014-11-20T20:37:31+0000', '2014-11-02T11:29:59+0000', '2014-10-31T17:34:46+0000', '2014-10-30T18:01:41+0000', '2014-10-30T10:32:37+0000', '2014-10-29T21:32:01+0000', '2014-10-29T18:27:44+0000', '2014-10-29T16:56:16+0000', '2014-10-29T15:07:39+0000', '2014-10-17T15:06:22+0000', '2014-10-13T15:20:49+0000', '2014-10-05T19:48:34+0000', '2014-09-26T15:12:50+0000', '2014-09-25T18:33:05+0000', '2014-09-18T08:15:18+0000', '2014-09-17T19:43:15+0000', '2014-09-05T21:57:21+0000', '2014-08-31T11:00:11+0000', '2014-08-25T12:11:18+0000', '2014-08-24T16:46:56+0000', '2014-08-22T15:24:22+0000', '2014-08-14T15:59:57+0000', '2014-08-11T20:36:59+0000', '2014-08-05T19:03:10+0000', '2014-07-27T19:16:04+0000', '2014-07-15T16:57:21+0000', '2014-07-03T13:32:21+0000', '2014-06-30T20:44:24+0000', '2014-06-23T16:58:27+0000', '2014-06-18T21:05:54+0000', '2014-06-18T20:48:10+0000', '2014-06-12T14:09:36+0000', '2014-05-28T07:52:28+0000', '2014-05-13T18:29:35+0000', '2014-05-10T23:05:28+0000', '2014-05-08T16:33:19+0000', '2014-05-08T12:24:16+0000', '2014-05-04T15:00:15+0000', '2014-05-02T13:07:23+0000', '2014-04-30T18:59:37+0000', '2014-04-30T16:32:50+0000', '2014-04-28T20:24:46+0000', '2014-04-16T19:40:05+0000', '2014-04-14T13:29:06+0000', '2014-04-13T14:27:15+0000', '2014-04-12T23:05:41+0000', '2014-03-21T18:07:02+0000', '2014-03-19T20:40:08+0000', '2014-03-19T19:30:23+0000', '2014-03-19T09:16:55+0000', '2014-03-13T12:35:32+0000', '2014-03-05T20:32:38+0000', '2014-02-28T15:26:40+0000', '2014-02-27T18:11:12+0000', '2014-02-21T17:55:17+0000', '2014-02-19T20:29:36+0000', '2014-02-19T17:40:41+0000', '2014-02-13T12:54:54+0000', '2014-02-11T20:19:09+0000', '2014-02-04T16:52:00+0000', '2014-02-03T21:51:10+0000', '2014-01-31T19:31:47+0000', '2014-01-31T14:46:40+0000', '2014-01-30T17:10:01+0000', '2014-01-30T16:16:00+0000', '2014-01-30T14:56:33+0000', '2014-01-30T14:18:53+0000', '2014-01-29T19:56:10+0000', '2014-01-29T19:31:04+0000', '2014-01-27T16:08:05+0000', '2014-01-26T00:04:01+0000', '2014-01-25T01:19:33+0000', '2014-01-19T20:19:50+0000', '2014-01-10T15:23:41+0000', '2014-01-06T23:24:54+0000', '2014-01-06T15:40:58+0000', '2014-01-01T15:29:28+0000', '2013-12-31T19:02:56+0000', '2013-12-27T11:41:43+0000', '2013-12-23T16:22:50+0000', '2013-12-23T15:11:08+0000', '2013-12-22T00:02:02+0000', '2013-12-20T19:49:51+0000', '2013-12-19T19:41:09+0000', '2013-12-19T18:55:25+0000', '2013-12-19T14:55:04+0000', '2013-12-19T13:43:35+0000', '2013-12-18T22:08:27+0000', '2013-12-18T20:09:44+0000', '2013-12-18T17:12:03+0000', '2013-12-15T14:58:22+0000', '2013-12-15T00:05:45+0000', '2013-12-12T17:42:07+0000', '2013-12-04T16:01:11+0000', '2013-11-24T00:06:19+0000', '2013-11-21T16:10:36+0000', '2013-11-21T15:31:32+0000', '2013-11-19T00:56:00+0000', '2013-11-18T17:12:53+0000', '2013-11-14T16:23:33+0000', '2013-11-14T15:06:18+0000', '2013-11-13T20:36:39+0000', '2013-11-13T15:29:05+0000', '2013-11-10T15:29:41+0000', '2013-11-08T17:18:35+0000', '2013-11-07T14:22:20+0000', '2013-10-31T14:50:15+0000', '2013-10-31T11:31:31+0000', '2013-10-30T18:20:21+0000', '2013-10-30T15:06:29+0000', '2013-10-28T17:22:19+0000', '2013-10-28T14:30:00+0000', '2013-10-22T21:34:55+0000', '2013-10-18T18:55:53+0000', '2013-10-14T13:06:44+0000', '2013-10-11T10:04:01+0000', '2013-10-10T06:38:00+0000', '2013-10-09T22:24:20+0000', '2013-10-09T21:24:00+0000', '2013-10-09T20:13:04+0000', '2013-10-09T19:46:24+0000', '2013-10-09T18:29:11+0000', '2013-10-09T17:53:24+0000', '2013-10-09T15:47:00+0000', '2013-10-09T14:08:45+0000', '2013-10-09T13:43:43+0000', '2013-10-09T13:19:34+0000', '2013-10-08T23:26:45+0000', '2013-10-02T13:04:00+0000', '2013-10-01T18:35:32+0000', '2013-09-24T11:00:00+0000', '2013-09-21T23:05:44+0000', '2013-09-20T03:48:00+0000', '2013-09-19T18:22:00+0000', '2013-09-19T17:19:55+0000', '2013-09-19T08:34:37+0000', '2013-09-19T07:15:49+0000', '2013-09-18T21:52:24+0000', '2013-09-18T21:15:30+0000', '2013-09-18T18:45:00+0000', '2013-09-18T17:21:56+0000', '2013-09-17T15:23:07+0000', '2013-09-16T19:27:47+0000', '2013-09-16T17:21:05+0000', '2013-09-16T17:05:41+0000', '2013-09-16T16:36:00+0000', '2013-09-16T16:10:58+0000', '2013-09-15T20:25:05+0000', '2013-09-08T12:00:00+0000', '2013-09-06T17:55:00+0000', '2013-09-06T15:12:35+0000', '2013-09-06T13:14:00+0000', '2013-09-03T09:52:26+0000', '2013-09-02T12:32:58+0000', '2013-09-01T13:31:34+0000', '2013-08-30T18:05:23+0000', '2013-08-29T15:16:00+0000', '2013-08-25T13:16:50+0000', '2013-08-24T17:00:06+0000', '2013-08-23T18:13:26+0000', '2013-08-22T17:09:39+0000', '2013-08-21T19:56:00+0000', '2013-08-21T14:03:06+0000', '2013-08-16T14:15:45+0000', '2013-08-15T21:09:00+0000', '2013-08-13T12:30:00+0000', '2013-08-12T16:14:23+0000', '2013-08-09T17:16:21+0000', '2013-08-05T22:38:57+0000', '2013-08-05T15:08:25+0000', '2013-07-31T20:27:06+0000', '2013-07-30T18:43:35+0000', '2013-07-29T14:45:00+0000', '2013-07-17T20:17:34+0000', '2013-07-17T19:51:41+0000', '2013-07-17T15:44:00+0000', '2013-07-17T13:36:30+0000', '2013-07-11T19:30:56+0000', '2013-07-10T19:45:15+0000', '2013-07-07T16:08:38+0000', '2013-07-05T16:54:28+0000', '2013-07-03T14:36:12+0000', '2013-07-03T13:29:09+0000', '2013-06-28T17:28:12+0000', '2013-06-27T21:03:18+0000', '2013-06-25T10:52:25+0000', '2013-06-24T18:13:44+0000', '2013-06-24T17:23:00+0000', '2013-06-22T23:04:22+0000', '2013-06-20T23:52:20+0000', '2013-06-20T22:38:00+0000', '2013-06-20T20:06:00+0000', '2013-06-20T19:12:36+0000', '2013-06-20T19:00:33+0000', '2013-06-20T15:54:00+0000', '2013-06-19T21:36:42+0000', '2013-06-19T20:12:00+0000', '2013-06-19T20:00:00+0000', '2013-06-14T16:58:00+0000', '2013-06-13T10:08:00+0000', '2013-06-12T16:58:00+0000', '2013-06-07T22:31:41+0000', '2013-06-03T14:45:00+0000', '2013-05-29T11:15:00+0000', '2013-05-24T17:53:14+0000', '2013-05-23T18:15:00+0000', '2013-05-23T17:05:00+0000', '2013-05-23T16:36:33+0000', '2013-05-23T11:44:45+0000', '2013-05-22T22:11:35+0000', '2013-05-22T21:46:31+0000', '2013-05-22T20:33:00+0000', '2013-05-12T15:50:00+0000', '2013-05-01T19:27:00+0000', '2013-04-18T23:05:00+0000', '2013-04-16T16:30:00+0000', '2013-04-10T18:03:00+0000', '2013-04-10T15:14:00+0000', '2013-04-09T13:37:50+0000', '2013-04-05T20:56:00+0000', '2013-04-05T16:47:29+0000', '2013-03-29T22:02:27+0000', '2013-03-25T15:30:01+0000', '2013-03-21T11:30:01+0000', '2013-03-20T18:59:08+0000', '2013-03-20T18:25:00+0000', '2013-03-05T19:49:41+0000', '2013-02-28T15:06:08+0000', '2013-02-25T14:37:22+0000', '2013-02-21T08:45:00+0000', '2013-02-11T12:19:00+0000', '2013-02-01T16:31:00+0000', '2013-01-14T20:47:00+0000', '2013-01-13T16:52:08+0000', '2013-01-11T16:00:01+0000', '2013-01-04T14:06:00+0000', '2012-12-20T19:10:46+0000', '2012-12-12T23:06:00+0000', '2012-12-12T21:26:00+0000', '2012-12-12T19:03:00+0000', '2012-12-12T13:42:00+0000', '2012-11-22T14:03:13+0000', '2012-11-20T18:30:00+0000', '2012-10-24T16:40:21+0000', '2012-10-19T14:03:47+0000', '2012-10-18T07:57:00+0000', '2012-10-17T21:12:00+0000', '2012-10-15T12:22:17+0000', '2012-10-11T18:38:10+0000', '2012-10-04T14:23:12+0000', '2012-10-01T19:57:43+0000', '2012-09-20T20:00:06+0000', '2012-09-17T18:43:00+0000', '2012-09-14T17:15:36+0000', '2012-09-14T15:41:22+0000', '2012-09-13T21:37:00+0000', '2012-09-13T20:00:05+0000', '2012-09-13T18:45:52+0000', '2012-09-13T17:56:45+0000', '2012-09-13T17:16:00+0000', '2012-09-13T14:37:21+0000', '2012-09-13T07:19:00+0000', '2012-09-11T15:46:00+0000', '2012-09-05T23:01:02+0000', '2012-09-03T12:30:01+0000', '2012-08-31T21:56:00+0000', '2012-08-31T15:23:00+0000', '2012-08-31T06:52:35+0000', '2012-08-27T15:00:06+0000', '2012-08-24T18:37:55+0000', '2012-08-22T19:41:17+0000', '2012-08-03T14:47:22+0000', '2012-08-01T19:24:00+0000', '2012-07-17T20:51:16+0000', '2012-07-17T18:48:24+0000', '2012-07-17T16:23:00+0000', '2012-07-17T06:54:26+0000', '2012-07-06T14:18:00+0000', '2012-06-29T10:56:05+0000', '2012-06-27T15:07:56+0000', '2012-06-20T21:46:00+0000', '2012-06-20T21:01:00+0000', '2012-06-20T19:53:02+0000', '2012-06-20T15:04:00+0000', '2012-06-18T17:24:34+0000', '2012-06-18T16:22:17+0000', '2012-06-18T13:30:01+0000', '2012-06-11T16:24:23+0000']\n",
            "980\n",
            "['https://www.theguardian.com/business/2023/apr/07/us-jobs-report-march-2023', 'https://www.theguardian.com/business/2023/mar/22/interest-rate-rise-us-federal-reserve-banking-turmoil', 'https://www.theguardian.com/business/2023/mar/22/decision-on-interest-rate-rise-on-knife-edge-amid-banking-crisis-fears', 'https://www.theguardian.com/us-news/2023/mar/21/federal-reserve-new-york-union-sodexo-food-service', 'https://www.theguardian.com/commentisfree/2023/mar/21/federal-reserve-interest-rate-hikes-central-banks', 'https://www.theguardian.com/business/2023/mar/19/elizabeth-warren-us-bank-collapse-fed-chair-jerome-powell', 'https://www.theguardian.com/business/2023/mar/19/silicon-valley-banks-collapse-will-not-be-a-one-off-a-banking-crisis-was-long-overdue', 'https://www.theguardian.com/commentisfree/2023/mar/17/silicon-valley-bank-bailout-dodd-frank-regulation-opinion', 'https://www.theguardian.com/business/2023/mar/16/cash-strapped-banks-have-borrowed-300bn-from-the-fed-this-past-week', 'https://www.theguardian.com/business/2023/mar/14/svb-collapse-presents-central-banks-with-a-big-headache', 'https://www.theguardian.com/business/2023/mar/14/us-inflation-slows-banking-crisis', 'https://www.theguardian.com/business/nils-pratley-on-finance/2023/mar/13/uk-silicon-valley-bank-us-svb-hsbc', 'https://www.theguardian.com/business/2023/mar/13/silicon-valley-bank-collapse-central-banks-interest-rate-rises', 'https://www.theguardian.com/us-news/2023/mar/10/silicon-valley-bank-collapse-explainer', 'https://www.theguardian.com/business/2023/mar/10/us-jobs-report-february-2023', 'https://www.theguardian.com/commentisfree/2023/mar/08/federal-reserve-interest-rate-rise-jerome-powell', 'https://www.theguardian.com/business/2023/mar/07/inflation-fed-chair-jerome-powell-congress', 'https://www.theguardian.com/business/live/2023/mar/07/uk-house-prices-rise-february-halifax-greggs-cost-inflation-squeeze-business-live', 'https://www.theguardian.com/business/2023/feb/14/us-inflation-eases-seventh-consecutive-month', 'https://www.theguardian.com/business/2023/feb/07/fed-jerome-powell-interest-rates-inflation', 'https://www.theguardian.com/business/2023/feb/01/fed-small-interest-hike-inflation-eases', 'https://www.theguardian.com/business/2023/jan/31/one-trillion-dollar-coin-debt-ceiling-solution', 'https://www.theguardian.com/business/2023/jan/26/us-economy-gdp-2022-q4-interest-rates', 'https://www.theguardian.com/business/2023/jan/20/climate-economic-stability-central-bankers', 'https://www.theguardian.com/business/2023/jan/10/world-bank-walking-tightrope-as-it-mulls-increased-lending-to-poorest', 'https://www.theguardian.com/commentisfree/2023/jan/08/us-monopolies-inflation-unemployment-rising-prices-federal-reserve', 'https://www.theguardian.com/business/2022/dec/26/the-pendulum-swung-against-globalisation-in-2022-and-thats-no-bad-thing', 'https://www.theguardian.com/business/2022/dec/25/small-businesses-interest-rates-', 'https://www.theguardian.com/business/2022/dec/14/fed-interest-rate-increase', 'https://www.theguardian.com/business/2022/dec/13/inflation-report-november-cpi-reserve-rate', 'https://www.theguardian.com/business/2022/dec/09/raising-interest-rates-inflation-central-banks-recession', 'https://www.theguardian.com/business/2022/dec/02/us-jobs-report-november-unemployment-rate', 'https://www.theguardian.com/business/2022/nov/30/federal-reserve-pace-increments-extend-higher-points-period', 'https://www.theguardian.com/business/live/2022/nov/24/pound-high-dollar-fed-uk-economy-recession-bank-of-england-business-live', 'https://www.theguardian.com/commentisfree/2022/nov/06/men-forget-their-manners-dealing-powerful-women', 'https://www.theguardian.com/business/2022/nov/05/fed-reserve-jerome-powell-paul-volcker', 'https://www.theguardian.com/business/2022/nov/02/fed-interest-rate-increase-inflation', 'https://www.theguardian.com/business/2022/oct/26/us-mortgage-interest-rates-highest-2001', 'https://www.theguardian.com/commentisfree/2022/oct/16/the-guardian-view-on-central-bankers-dont-put-them-in-charge-of-the-crisis', 'https://www.theguardian.com/business/2022/oct/13/us-inflation-rate-september-midterm-elections', 'https://www.theguardian.com/business/2022/oct/10/us-economy-recession-jamie-dimon', 'https://www.theguardian.com/commentisfree/2022/oct/08/us-policymakers-austerity-by-other-names', 'https://www.theguardian.com/business/2022/oct/03/un-accuses-richest-nations-of-imprudent-gamble-in-inflation-fight', 'https://www.theguardian.com/business/2022/sep/29/us-mortgage-rates-high-freddie-mac', 'https://www.theguardian.com/environment/2022/sep/28/worlds-central-banks-financing-destruction-of-the-rainforest', 'https://www.theguardian.com/business/2022/sep/28/a-global-recession-looks-increasingly-likely-but-heres-how-australia-could-escape-it', 'https://www.theguardian.com/business/2022/sep/26/what-does-pound-slump-mean-for-uk-and-its-consumers', 'https://www.theguardian.com/commentisfree/2022/sep/23/federal-reserve-interest-rate-hikes-are-going-to-hit-the-most-vulnerable', 'https://www.theguardian.com/business/2022/sep/21/fed-raises-interest-rates-third-increase-in-row', 'https://www.theguardian.com/business/2022/sep/21/federal-reserve-inflation-rate-forecast-economy', 'https://www.theguardian.com/business/2022/sep/13/us-inflation-rate-august-2022-gas-prices', 'https://www.theguardian.com/business/2022/sep/12/the-fed-interest-rate-rises-us-inflation-unemployment-recession', 'https://www.theguardian.com/business/2022/sep/10/central-bankers-talk-tough-but-they-cant-fight-inflation-like-this', 'https://www.theguardian.com/business/2022/aug/28/the-fed-keeps-raising-interest-rates-working-people-are-getting-hammered-by-it', 'https://www.theguardian.com/us-news/live/2022/aug/26/trump-affidavit-fbi-biden-abortion-student-loan-latest-updates', 'https://www.theguardian.com/business/2022/aug/26/fed-inflation-jerome-powell-job-losses-jackson-hole', 'https://www.theguardian.com/business/2022/aug/12/the-bank-of-england-after-boris-johnson-should-inflation-target-be-raised', 'https://www.theguardian.com/business/live/2022/aug/11/us-federal-reserve-inflation-interest-rates-ftse-100-gdp-house-prices-business-live', 'https://www.theguardian.com/business/2022/aug/10/inflation-decline-explainer-gas-food-homes', 'https://www.theguardian.com/business/2022/jul/31/era-of-soaring-house-prices-is-ending-as-central-banks-raise-rates', 'https://www.theguardian.com/commentisfree/2022/jul/31/us-inflation-corporate-greed', 'https://www.theguardian.com/business/2022/jul/27/fed-increase-interest-rates-inflation', 'https://www.theguardian.com/us-news/live/2022/jul/27/us-fed-rates-chips-bill-guns-trump-doj-latest-updates', 'https://www.theguardian.com/business/2022/jul/21/interest-rates-the-three-central-banks-facing-one-tricky-balancing-act', 'https://www.theguardian.com/business/2022/jul/16/the-uss-selfish-war-on-inflation-will-tip-the-world-into-recession', 'https://www.theguardian.com/business/2022/jul/14/jp-morgan-chase-sets-aside-funds-to-cover-feared-loan-losses', 'https://www.theguardian.com/business/2022/jul/13/us-inflation-why-so-high-what-we-know', 'https://www.theguardian.com/business/2022/jul/13/high-us-gas-food-prices-june-led-to-largest-annual-increase-inflation-40-years', 'https://www.theguardian.com/business/2022/jun/30/stagflationary-debt-crisis-us-recession', 'https://www.theguardian.com/business/2022/jun/29/central-bank-heads-warn-world-economy-faces-new-inflationary-era', 'https://www.theguardian.com/business/2022/jun/28/central-bank-fed-ecb-bank-england', 'https://www.theguardian.com/business/2022/jun/22/fed-raising-rates-compelling-evidence-lowering-inflation-jerome-powell', 'https://www.theguardian.com/business/2022/jun/20/bank-of-england-policymaker-calls-for-faster-rate-rises-to-prevent-weak-pound-fuelling-inflation', 'https://www.theguardian.com/business/2022/jun/18/we-face-a-global-economic-crisis-and-no-one-knows-what-to-do-about-it', 'https://www.theguardian.com/commentisfree/2022/jun/18/the-federal-reserve-says-its-remedies-for-inflation-will-cause-pain-but-to-whom', 'https://www.theguardian.com/business/2022/jun/15/interest-rate-us-latest-increase-federal-reserve', 'https://www.theguardian.com/business/2022/jun/15/federal-reserve-rate-increase-recession-economists-react', 'https://www.theguardian.com/business/2022/jun/15/tough-action-on-interest-rates-in-the-us-but-how-rattled-is-the-us-federal-reserve', 'https://www.theguardian.com/business/2022/jun/15/markets-brace-rise-us-interest-rates-federal-reserve-borrowing-inflation', 'https://www.theguardian.com/business/2022/jun/14/asx-australian-stocks-drop-more-than-5-following-global-sell-off-on-inflation-fears', 'https://www.theguardian.com/business/2022/jun/13/wall-street-stock-markets-bear-market', 'https://www.theguardian.com/business/2022/may/18/us-stock-markets-latest-wednesday-dow-jones-recession', 'https://www.theguardian.com/business/2022/may/08/rishi-sunak-can-fight-recession-risks-with-a-cost-of-living-support-package', 'https://www.theguardian.com/business/2022/may/05/us-stock-market-inflation-federal-reserve', 'https://www.theguardian.com/business/2022/may/04/fed-rate-increase-inflation', 'https://www.theguardian.com/business/live/2022/may/04/german-exports-russia-oil-stock-markets-cost-of-living-federal-reserve-rates-business-live', 'https://www.theguardian.com/business/2022/apr/28/risk-of-recession-in-europe-us-and-china-is-rising-by-the-day', 'https://www.theguardian.com/business/2022/mar/16/us-federal-reserve-interest-rates-inflation', 'https://www.theguardian.com/business/2022/mar/16/bank-of-england-interest-rates-us-rise-uk-inflation-economy', 'https://www.theguardian.com/us-news/2022/mar/04/us-jobs-report-february-analysis', 'https://www.theguardian.com/business/2022/feb/13/central-banks-should-be-cautious-in-calibrating-a-response-to-inflation', 'https://www.theguardian.com/world/2022/feb/11/biden-7bn-frozen-afghan-reserves-taliban', 'https://www.theguardian.com/business/2022/feb/10/the-rise-in-global-inflation-the-hit-to-living-standards-across-the-world', 'https://www.theguardian.com/commentisfree/2022/feb/05/fed-raise-interest-rates-shaft-american-workers-robert-reich', 'https://www.theguardian.com/business/live/2022/jan/27/markets-hawkish-fed-us-rate-rises-ftse-dow-retail-inflation-growth-economy-business-live', 'https://www.theguardian.com/business/2022/jan/27/asian-shares-fall-to-lowest-in-15-months-after-us-fed-nails-on-march-rate-rise', 'https://www.theguardian.com/business/live/2022/jan/26/stock-markets-ftse-economics-federal-reserve-wall-street-powell-rates-business-live', 'https://www.theguardian.com/business/2022/jan/26/us-federal-reserve-rise-interest-inflation', 'https://www.theguardian.com/business/2022/jan/12/highest-us-inflation-in-40-years-signals-end-of-ultra-cheap-money', 'https://www.theguardian.com/business/live/2022/jan/11/heathrow-flights-omicron-stock-markets-global-risks-inflation-federal-reserve-business-live', 'https://www.theguardian.com/business/live/2022/jan/10/imf-emerging-economies-turbulence-fed-markets-ftse-dow-business-live', 'https://www.theguardian.com/business/2022/jan/10/us-interest-rate-rise-could-hit-vulnerable-countries-imf-warns', 'https://www.theguardian.com/commentisfree/2022/jan/09/us-jobs-report-warning-sign-even-before-omicron-surge', 'https://www.theguardian.com/business/2021/dec/30/big-economies-and-markets-fare-well-despite-covid-but-2022-brings-new-risks', 'https://www.theguardian.com/business/2021/dec/15/us-federal-reserve-expected-to-speed-up-end-of-pandemic-support', 'https://www.theguardian.com/business/2021/dec/12/us-inflation-must-be-tamed-carefully-or-risk-the-nasty-side-effects-of-80s-monetarism', 'https://www.theguardian.com/business/2021/nov/26/markets-warn-central-banks-get-grip-on-inflation-interest-rates', 'https://www.theguardian.com/business/2021/nov/26/how-worlds-major-economies-are-dealing-with-spectre-of-inflation', 'https://www.theguardian.com/business/live/2021/nov/25/sterling-fed-faster-tapering-german-consumers-covid-shortages-uk-retail-sales-business-live', 'https://www.theguardian.com/business/2021/nov/22/jerome-powell-reappointed-for-second-term-as-chair-of-us-federal-reserve', 'https://www.theguardian.com/commentisfree/2021/nov/11/us-inflation-market-power-america-antitrust-robert-reich', 'https://www.theguardian.com/business/2021/nov/10/inflation-us-latest-high-30-years-economy-predictions', 'https://www.theguardian.com/business/2021/nov/10/why-the-federal-reserve-chair-jerome-powell-must-go', 'https://www.theguardian.com/business/live/2021/nov/03/nationwide-house-prices-us-federal-reserve-services-uk-eurozone-supply-chain-business-live', 'https://www.theguardian.com/business/2021/nov/03/us-federal-reserve-winding-down-covid-stimulus', 'https://www.theguardian.com/business/2021/oct/17/the-next-global-economic-emergency-deepening-debt-in-the-developing-world', 'https://www.theguardian.com/commentisfree/2021/oct/10/facebook-fed-federal-reserve-supreme-court-democracy-apocalypse', 'https://www.theguardian.com/business/2021/sep/28/elizabeth-warren-fed-chair-jerome-powell-dangerous', 'https://www.theguardian.com/business/2021/sep/22/federal-reserve-hints-end-pandemic-stimulus-raise-interest-rates', 'https://www.theguardian.com/business/live/2021/sep/22/markets-evergrande-crisis-fed-meeting-co2-supply-chains-energy-entain-ftse-sterling-business-live', 'https://www.theguardian.com/business/2021/aug/31/jerome-powell-alexandria-ocasio-cortez-federal-reserve', 'https://www.theguardian.com/business/live/2021/aug/27/china-ipo-ban-tech-jerome-powell-fed-ftse-supply-chain-chips-oil-business-live', 'https://www.theguardian.com/business/2021/aug/27/wall-street-hits-new-highs-after-fed-extends-covid-stimulus-package', 'https://www.theguardian.com/business/2021/aug/25/us-central-bank-chief-expected-to-take-wait-and-see-approach-to-economy', 'https://www.theguardian.com/business/2021/aug/22/banking-chiefs-head-for-the-hills-in-bid-to-leave-cheap-money-behind', 'https://www.theguardian.com/business/nils-pratley-on-finance/2021/aug/19/taper-tantrum-by-stock-markets-points-to-gaps-in-the-easy-recovery-story', 'https://www.theguardian.com/business/2021/aug/19/european-stock-markets-covid-support-shares-pandemic-central-banks', 'https://www.theguardian.com/business/2021/jul/21/central-banks-cant-reduce-inequality-its-time-for-ministers-to-act', 'https://www.theguardian.com/business/2021/jul/13/us-hit-13-year-high-last-month', 'https://www.theguardian.com/business/2021/jul/02/1970s-stagflation-2008-debt-crisis-global-economy', 'https://www.theguardian.com/business/live/2021/jun/17/markets-dollar-pound-ftse-federal-reserve-signals-rate-hike-us-jobless-business-live', 'https://www.theguardian.com/business/live/2021/jun/16/uk-inflation-rises-prices-fuel-clothing-ftse-stock-market-federal-reserve-meeting-powell-business-live', 'https://www.theguardian.com/business/nils-pratley-on-finance/2021/may/12/federal-reserve-us-inflation-investors-interest-rates', 'https://www.theguardian.com/commentisfree/2021/apr/25/the-guardian-view-on-bidens-green-revolution-it-needs-revolutionaries', 'https://www.theguardian.com/business/2021/apr/12/big-tech-finance-regulators-amazon-alibaba-tencent', 'https://www.theguardian.com/business/live/2021/apr/08/ftse-100-federal-reserve-markets-coronavirus-covid-19-european-central-bank-ecb-gfg-gupta-business-live', 'https://www.theguardian.com/business/live/2021/mar/18/bank-of-england-federal-reserve-markets-ftse-pound-eurozone-us-jobless-business-live', 'https://www.theguardian.com/business/live/2021/mar/17/markets-us-fed-decision-growth-rates-powell-uber-oil-ftse-pound-business-live', 'https://www.theguardian.com/business/2021/feb/23/fed-chair-jerome-powell-economic-reovery', 'https://www.theguardian.com/business/2021/feb/16/joe-biden-stimulus-package-wall-street', 'https://www.theguardian.com/business/2021/feb/10/central-banks-arent-what-they-used-to-be-and-the-better-for-it', 'https://www.theguardian.com/business/2021/feb/05/recovery-covid-recession-poorer-countries-us-fed', 'https://www.theguardian.com/business/live/2021/jan/27/german-consumer-confidence-falls-as-markets-await-fed-decision-business-live', 'https://www.theguardian.com/business/2021/jan/15/the-2000-stimulus-cheques-alone-wont-work-the-us-needs-better-infrastructure', 'https://www.theguardian.com/business/2021/jan/08/stock-markets-impervious-to-bad-news-vaccine-optimism-bidenomics', 'https://www.theguardian.com/business/live/2021/jan/07/stock-markets-boosted-as-calm-to-capitol-hill-restored-business-live', 'https://www.theguardian.com/business/2021/jan/01/janet-yellen-speaking-fees-us-treasury-secretary', 'https://www.theguardian.com/business/2020/dec/17/markets-record-highs-rising-optimism-pandemic-recovery-covid-vaccines-stimulus-economy-2021', 'https://www.theguardian.com/business/2020/dec/17/what-the-us-must-do-to-avoid-a-vicious-covid-cycle', 'https://www.theguardian.com/business/2020/dec/05/jobs-slump-and-covid-lead-litany-of-post-trump-crises-facing-janet-yellen', 'https://www.theguardian.com/business/2020/nov/23/janet-yellen-fed-chair-treasury-secretary', 'https://www.theguardian.com/world/2020/nov/14/covid-vaccine-rally-fuels-market-optimism-of-a-faster-global-recovery', 'https://www.theguardian.com/business/2020/nov/08/the-relief-of-bidens-win-will-be-tempered-by-economic-headwinds', 'https://www.theguardian.com/business/2020/oct/07/slugs-us-economy-covid-stimulus-trump', 'https://www.theguardian.com/business/2020/oct/07/central-bank-covid-donald-trump-stimulus-package', 'https://www.theguardian.com/business/2020/oct/06/federal-reserve-chair-jerome-powell-coronavirus-relief', 'https://www.theguardian.com/business/2020/sep/22/us-economy-improvement-path-uncertain-jerome-powell-fed', 'https://www.theguardian.com/business/live/2020/sep/16/uk-inflation-falls-covid-19-stock-markets-us-federal-reserve-business-live', 'https://www.theguardian.com/business/2020/sep/10/us-covid-19-crisis-health-economy', 'https://www.theguardian.com/commentisfree/2020/sep/09/central-banks-deflation-covid-19-world-economy', 'https://www.theguardian.com/business/live/2020/aug/28/japan-stocks-nikkei-yen-shinzo-abe-resignation-andrew-bailey-bank-of-england-coronavirus-covid-19-ftse-100-business-live', 'https://www.theguardian.com/business/2020/aug/27/wall-street-shares-rise-after-fed-announces-soft-approach-to-inflation', 'https://www.theguardian.com/business/live/2020/aug/27/ftse-100-jay-jerome-powell-speech-federal-reserve-inflation-targeting-coronavirus-covid-19-economy-business-live', 'https://www.theguardian.com/business/live/2020/aug/26/oil-prices-hurricane-storm-laura-coronavirus-covid-19-jackson-hole-jerome-jay-powell-ftse-business-live', 'https://www.theguardian.com/business/2020/aug/26/central-bankers-to-fish-for-compliments-at-virtual-jackson-hole-summit-covid-19-andrew-bailey', 'https://www.theguardian.com/business/2020/aug/25/is-this-the-end-of-the-road-for-dollar-dominance', 'https://www.theguardian.com/business/2020/aug/24/price-of-gold-should-not-determine-us-monetary-policy', 'https://www.theguardian.com/business/2020/aug/22/five-factors-behind-the-us-stock-markets-miraculous-turnaround', 'https://www.theguardian.com/business/live/2020/aug/20/markets-slide-fears-covid-19-economic-recovery-unemployment-factory-output-business-live', 'https://www.theguardian.com/business/nils-pratley-on-finance/2020/aug/19/what-explains-markets-rip-roaring-success-in-the-face-of-covid-disaster', 'https://www.theguardian.com/business/2020/aug/18/covid-turnaround-wall-street-standard-poors-index-high', 'https://www.theguardian.com/business/2020/aug/13/forget-doom-laden-headlines-the-dollar-has-not-gone-into-terminal-decline', 'https://www.theguardian.com/business/2020/aug/04/bps-dividend-cut-is-a-no-brainer-as-it-sets-sights-on-green-energy-vow', 'https://www.theguardian.com/business/2020/jul/02/invest-in-the-green-economy-and-well-recover-from-the-covid-19-crisis', 'https://www.theguardian.com/business/live/2020/jun/26/stocks-rise-despite-fed-warning-over-700bn-in-covid-19-loan-losses-business-live', 'https://www.theguardian.com/business/live/2020/jun/19/uk-borrowing-hits-record-55bn-in-may-retail-sales-rebound-covid-19-coronavirus-economy-bank-of-england-business-live', 'https://www.theguardian.com/commentisfree/2020/jun/18/central-banks-pumped-money-economy-democracy-fairer-society', 'https://www.theguardian.com/business/2020/jun/16/world-stock-markets-bounce-back-despite-poor-economic-prognosis-coronavirus', 'https://www.theguardian.com/business/2020/jun/16/us-economy-coronavirus-fears-fed-chair-jerome-powell', 'https://www.theguardian.com/business/live/2020/jun/16/uk-payrolls-coronavirus-covid-19-crisis-unemployment-federal-reserve-ftse-100-sterling-dollar-powell-business-live', 'https://www.theguardian.com/commentisfree/2020/jun/12/britain-public-debt-economists-coronavirus-deficit-austerity', 'https://www.theguardian.com/business/live/2020/jun/11/global-stock-markets-federal-reserve-jerome-powell-ftse-dollar-pound-covid-19-business-live', 'https://www.theguardian.com/business/2020/jun/10/us-economy-federal-reserve-jobs-coronavirus', 'https://www.theguardian.com/business/live/2020/jun/10/stock-market-rally-fades-as-investors-await-us-fed-federal-reserve-forecasts-coronavirus-covid-19-sterling-eurozone-pound-brexit-business-live', 'https://www.theguardian.com/business/2020/jun/07/america-jobs-turnaround-fed-deserves-praise-trump-benefits', 'https://www.theguardian.com/business/2020/may/28/lack-of-international-cooperation-will-hinder-economic-recovery-coronavirus', 'https://www.theguardian.com/business/2020/may/19/us-economy-damage-mnuchin-treasury-secretary', 'https://www.theguardian.com/business/2020/may/14/stock-markets-slump-as-hopes-fade-for-swift-economic-recovery', 'https://www.theguardian.com/business/2020/may/13/federal-reserve-coronavirus-jerome-powell-inequality', 'https://www.theguardian.com/business/2020/may/12/increased-economic-stimulus-quite-possible-says-bank-of-england-official', 'https://www.theguardian.com/environment/2020/may/12/us-fossil-fuel-companies-coronavirus-bailout-oil-coal-fracking-giants-bond-scheme', 'https://www.theguardian.com/business/live/2020/apr/29/markets-covid-us-economy-federal-reserve-ftse-dow-business-live', 'https://www.theguardian.com/business/2020/apr/26/us-europe-eu-financial-crises-coronabonds-federal-reserve-congress', 'https://www.theguardian.com/commentisfree/2020/apr/17/coronavirus-deficit-american-economy', 'https://www.theguardian.com/business/2020/apr/14/how-coronavirus-almost-brought-down-the-global-financial-system', 'https://www.theguardian.com/business/2020/apr/07/investors-clamour-for-safe-haven-in-uk-government-bonds', 'https://www.theguardian.com/business/2020/mar/26/us-recession-coronavirus-crisis-fed-chair-jerome-powell', 'https://www.theguardian.com/business/2020/mar/23/the-fed-is-running-out-of-options-to-stave-off-a-coronavirus-depression', 'https://www.theguardian.com/business/2020/mar/23/federal-reserve-coronavirus-plan-programs-bonds-small-businesses', 'https://www.theguardian.com/business/2020/mar/18/the-federal-reserve-cant-save-us-can-trump-fix-the-impending-global-recession', 'https://www.theguardian.com/world/2020/mar/17/us-government-to-give-citizens-emergency-financial-aid', 'https://www.theguardian.com/business/live/2020/mar/16/recession-markets-tumble-fed-emergency-rate-cut-coronavirus-ftse-dow-iag-flutter-business-live', 'https://www.theguardian.com/business/2020/mar/16/markets-hit-by-further-losses-despite-us-interest-rate-cut-willie-walsh-ba-coronavirus', 'https://www.theguardian.com/business/2020/mar/15/federal-reserve-cuts-interest-rates-near-zero-prop-up-us-economy-coronavirus', 'https://www.theguardian.com/business/2020/mar/15/prepare-for-the-coronavirus-global-recession', 'https://www.theguardian.com/business/2020/mar/13/markets-rebound-after-worst-day-since-1987-amid-coronavirus-panic-ftse-100-dow-jones-wall-street', 'https://www.theguardian.com/business/2020/mar/11/us-stocks-latest-bull-to-bear-market-signs-coronavirus-impact', 'https://www.theguardian.com/business/2020/mar/07/economic-race-to-stop-victim-coronavirus-central-bankers', 'https://www.theguardian.com/business/nils-pratley-on-finance/2020/mar/03/us-federal-reserves-interest-rate-cut-leaves-markets-guessing', 'https://www.theguardian.com/world/2020/mar/03/mark-carney-tells-g7-bank-of-england-will-give-necessary-coronavirus-support', 'https://www.theguardian.com/business/nils-pratley-on-finance/2020/mar/02/investors-know-what-to-do-when-interest-rates-are-cut-buy-shares', 'https://www.theguardian.com/business/2020/feb/28/from-the-fed-to-bank-of-england-central-banks-must-up-their-game', 'https://www.theguardian.com/business/live/2020/jan/29/hong-kong-stocks-slump-apple-house-prices-federal-reserve-rates-business-live', 'https://www.theguardian.com/business/2020/jan/10/central-banks-are-now-the-markets-best-friends', 'https://www.theguardian.com/business/2020/jan/01/us-election-brexit-and-china-to-sway-the-markets-in-2020', 'https://www.theguardian.com/business/2019/dec/30/how-financial-markets-turned-upside-down-in-2019', 'https://www.theguardian.com/commentisfree/2019/dec/29/of-course-trump-hates-central-bankers-they-tell-the-truth', 'https://www.theguardian.com/business/2019/dec/24/paul-volcker-obituary', 'https://www.theguardian.com/business/2019/dec/12/wall-street-hits-high-as-trump-raises-hopes-of-us-china-trade-deal', 'https://www.theguardian.com/business/2019/dec/09/paul-volcker-deserves-remembered-most-influential-central-banker', 'https://www.theguardian.com/business/2019/oct/30/federal-reserve-cuts-us-interest-rates-third-time-this-year', 'https://www.theguardian.com/business/2019/oct/20/world-sleepwalking-to-another-financial-crisis-says-mervyn-king', 'https://www.theguardian.com/business/live/2019/oct/04/markets-us-jobs-report-non-farm-payrolls-global-recession-fears-brexit-dollar-sterling-business-live', 'https://www.theguardian.com/business/2019/sep/22/alison-rose-rbs-watershed-moment-women-management', 'https://www.theguardian.com/business/live/2019/sep/18/markets-uk-inflation-house-prices-brexit-fed-rate-decision-business-live', 'https://www.theguardian.com/business/2019/sep/18/federal-reserve-interest-rates-trump-jerome-powell', 'https://www.theguardian.com/technology/2019/sep/15/banking-regulators-to-question-facebook-over-new-libra-cryptocurrency', 'https://www.theguardian.com/commentisfree/2019/sep/12/central-banks-political-independence-monetary-fiscal-policy', 'https://www.theguardian.com/us-news/live/2019/sep/11/trump-news-today-live-fed-recession-polls-2020-democrats-latest-updates', 'https://www.theguardian.com/business/2019/sep/11/federal-reserve-must-be-honest-about-trump-trade-war', 'https://www.theguardian.com/business/2019/sep/05/events-dear-boy-events-how-politics-is-making-markets-volatile', 'https://www.theguardian.com/commentisfree/2019/aug/30/the-guardian-view-on-trump-v-the-us-fed-the-bully-pulpit', 'https://www.theguardian.com/business/2019/aug/23/fed-chair-jerome-powell-trump-trade-policies-new-challenge', 'https://www.theguardian.com/business/live/2019/aug/23/rbs-santander-ppi-jackson-hole-jerome-powell-federal-reserve-dollar-sterling-pound-brexit-business-live', 'https://www.theguardian.com/business/2019/aug/22/wall-street-white-house-trump-federal-reserve-powell-recession', 'https://www.theguardian.com/business/2019/aug/21/trump-raises-pressure-on-federal-reserve-to-cut-interest-rates', 'https://www.theguardian.com/business/2019/aug/20/world-stocks-rally-as-trump-steps-up-pressure-on-fed-to-cut-rates', 'https://www.theguardian.com/business/2019/aug/18/us-economy-2020-trump-advisers-navarro-kudlow-recession', 'https://www.theguardian.com/business/2019/aug/17/global-markets-worried-good-reason-be-so-bond-values', 'https://www.theguardian.com/business/2019/aug/16/warning-signs-for-global-economy-the-countries-spooking-investors', 'https://www.theguardian.com/business/2019/aug/15/trump-foolish-think-gold-standard-age-fed-nominee-pegged-rates', 'https://www.theguardian.com/business/2019/aug/14/dow-jones-plunges-800-points-markets-trump', 'https://www.theguardian.com/business/2019/aug/14/inverted-curve-proves-white-house-won-battle-fed-wework', 'https://www.theguardian.com/business/2019/aug/13/trump-adds-a-dismal-dimension-to-the-us-china-trade-dispute', 'https://www.theguardian.com/business/2019/aug/01/pound-sinks-to-fresh-low-against-dollar-amid-no-deal-brexit-fears-sterling', 'https://www.theguardian.com/business/2019/jul/31/the-fed-comes-up-with-an-interest-rate-cut-that-will-please-nobody', 'https://www.theguardian.com/business/2019/jul/31/federal-reserve-cuts-interest-rates-by-025-its-first-in-a-decade', 'https://www.theguardian.com/business/blog/live/2019/jul/31/european-stock-markets-to-bounce-back-ahead-of-fed-rate-decision-business-live', 'https://www.theguardian.com/business/live/2019/jul/29/sterling-new-two-year-low-no-deal-brexit-fears-pound-euro-us-dollar-currencies-business-live', 'https://www.theguardian.com/business/2019/jul/28/why-trump-prefers-mario-draghi-over-jerome-powell', 'https://www.theguardian.com/business/2019/jul/27/sports-direct-life-hard-retailers-crisis-ashley-own-making', 'https://www.theguardian.com/business/2019/jul/26/us-economic-growth-gdp-second-quarter-2019-growth', 'https://www.theguardian.com/business/2019/jul/25/ecb-signals-it-will-move-to-boost-growth-amid-fears-of-low-inflation', 'https://www.theguardian.com/business/2019/jul/22/have-central-bank-gambles-paid-off', 'https://www.theguardian.com/business/2019/jul/19/gold-price-hits-six-year-high-as-investors-await-us-interest-rate-cut', 'https://www.theguardian.com/business/2019/jul/10/jerome-powell-federal-reserve-interest-rates-cut-decade', 'https://www.theguardian.com/news/2019/jul/09/us-china-trade-war-and-interest-rate-rises-spell-losses-for-the-super-rich', 'https://www.theguardian.com/us-news/live/2019/jun/26/donald-trump-fed-chairman-jerome-powell-live-updates-us-election-democratic-debates', 'https://www.theguardian.com/business/2019/jun/26/trump-criticises-fed-chairman-powell-for-trying-to-be-tough', 'https://www.theguardian.com/business/2019/jun/23/fed-chairman-jerome-powell-trump', 'https://www.theguardian.com/business/live/2019/jun/20/us-interest-rate-cut-dollar-pound-bank-of-england-decision-mark-carney-business-live', 'https://www.theguardian.com/business/2019/jun/19/federal-reserve-chairman-jerome-powell-trump-stay', 'https://www.theguardian.com/business/2019/jun/18/trump-jerome-powell-federal-reserve-interest-rates', 'https://www.theguardian.com/business/2019/jun/18/donald-trump-attacks-ecb-for-currency-manipulation', 'https://www.theguardian.com/business/2019/jun/12/the-unusual-us-economic-recovery-is-now-its-longest', 'https://www.theguardian.com/business/2019/jun/11/quantitative-easing-qe-recession', 'https://www.theguardian.com/business/2019/may/29/trump-needs-to-make-peace-with-china-and-get-a-cut-in-interest-rates', 'https://www.theguardian.com/business/2019/may/29/bernanke-paulson-and-geithner-revisiting-the-2008-financial-crisis', 'https://www.theguardian.com/business/2019/may/02/stephen-moore-trump-federal-reserve-nominee-withdraws-latest', 'https://www.theguardian.com/business/2019/may/02/stephen-moore-trumps-fed-pick-underpaid-ex-wifes-alimony-for-years', 'https://www.theguardian.com/business/live/2019/may/01/uk-house-prices-manufacturing-brexit-us-federal-reserve-business-live', 'https://www.theguardian.com/business/2019/may/01/interest-rates-us-latest-trump-federal-reserve-snub-', 'https://www.theguardian.com/us-news/2019/apr/29/stephen-moore-sexism-trump-fed-pick-comments-investigation', 'https://www.theguardian.com/business/2019/apr/26/us-economic-growth-stronger-than-expected-despite-weak-demand', 'https://www.theguardian.com/us-news/2019/apr/23/stephen-moore-trump-fed-pick-misogynistic-remarks', 'https://www.theguardian.com/business/2019/apr/22/trump-says-he-will-not-nominate-herman-cain-to-federal-reserve-board', 'https://www.theguardian.com/business/2019/apr/11/serious-threat-emerging-economies-us-recession-china', 'https://www.theguardian.com/business/2019/apr/07/trump-fed-picks-stephen-moore-herman-cain', 'https://www.theguardian.com/us-news/2019/apr/05/stephen-moore-trump-federal-reserve-board-divorce', 'https://www.theguardian.com/business/2019/apr/03/stephen-moore-democrats-finances-irs-debts', 'https://www.theguardian.com/business/2019/apr/01/stephen-moore-trump-fed-pick-legal-file-sealed', 'https://www.theguardian.com/us-news/2019/mar/30/trump-stephen-moore-federal-reserve-board', 'https://www.theguardian.com/business/2019/mar/27/stephen-moore-trump-federal-reserve-pick-owes-taxes-us-government-alleges', 'https://www.theguardian.com/business/2019/mar/22/stephen-moore-federal-reserve-paul-erickson-maria-butina', 'https://www.theguardian.com/business/live/2019/mar/20/uk-inflation-us-china-trade-war-federal-reserve-brexit-sterling-business-live', 'https://www.theguardian.com/business/2019/mar/18/us-fed-interest-rate-rises-inflation', 'https://www.theguardian.com/business/live/2019/mar/18/global-stock-markets-gain-as-investors-predict-cautious-federal-reserve-business-live', 'https://www.theguardian.com/business/2019/mar/17/as-recession-looms-could-mmt-be-the-unorthodox-solution-modern-monetary-theory', 'https://www.theguardian.com/business/live/2019/jan/30/french-economy-growth-gdp-uk-credit-us-federal-reserve-brexit-pound-business-live', 'https://www.theguardian.com/business/2019/jan/19/doomsayers-warn-economic-slump-early-next-year', 'https://www.theguardian.com/business/2019/jan/02/stock-markets-dive-china-manufacturing-contracts-ftse-wall-street-us-economy-business-bleak-start-to-2019', 'https://www.theguardian.com/business/2018/dec/30/things-to-watch-out-for-in-2019-doom-and-plenty-of-gloom', 'https://www.theguardian.com/business/2018/dec/27/the-most-read-guardian-business-stories-of-2018', 'https://www.theguardian.com/us-news/2018/dec/24/trump-federal-reserve-golf-central-bank-trade', 'https://www.theguardian.com/business/2018/dec/24/us-markets-mnuchin-to-convene-crisis-team-amid-white-house-chaos', 'https://www.theguardian.com/business/2018/dec/23/trump-federal-reserve-chairman-jerome-powell-mulvaney', 'https://www.theguardian.com/business/2018/dec/23/markets-face-instability-in-2019-as-white-house-intensifies-attacks-on-fed-chair', 'https://www.theguardian.com/commentisfree/2018/dec/23/us-economic-precipice-donald-trump-government-shutdown', 'https://www.theguardian.com/business/2018/dec/22/donald-trump-fire-federal-reserve-chairman-jerome-powell', 'https://www.theguardian.com/business/live/2018/dec/20/markets-ftse-100-fed-rate-hike-donald-trump-bank-of-england-business-live', 'https://www.theguardian.com/business/2018/dec/20/asian-shares-battered-after-fed-raises-rates-for-fourth-time', 'https://www.theguardian.com/business/2018/dec/19/federal-reserve-interest-rates-raised-trump', 'https://www.theguardian.com/business/live/2018/dec/19/markets-federal-reserve-interest-rate-decision-uk-inflation-business-live', 'https://www.theguardian.com/business/2018/dec/19/why-the-federal-reserve-is-unbowed-by-donald-trump-interest-rate-rise', 'https://www.theguardian.com/business/nils-pratley-on-finance/2018/dec/18/trump-has-a-point-about-interest-rates-but-his-method-is-foolhardy', 'https://www.theguardian.com/business/2018/dec/18/trump-heaps-pressure-on-the-federal-reserve-over-interest-rate-rise', 'https://www.theguardian.com/business/2018/dec/18/why-are-global-markets-falling-and-are-we-heading-for-recession', 'https://www.theguardian.com/business/2018/dec/16/trump-turns-up-heat-federal-reserve-interest-rates', 'https://www.theguardian.com/business/2018/nov/28/interest-rates-latest-federal-reserve-jerome-powell-softens-line', 'https://www.theguardian.com/business/2018/nov/27/trump-trade-war-monetary-policy-central-banks', 'https://www.theguardian.com/business/2018/nov/02/us-china-trade-deal-fears-and-rising-rates-ftse-100', 'https://www.theguardian.com/business/2018/oct/26/who-deserves-the-credit-for-strong-us-economy-donald-trump', 'https://www.theguardian.com/business/live/2018/oct/24/federal-reserve-donald-trump-powell-italy-budget-eurozone-business-live', 'https://www.theguardian.com/business/nils-pratley-on-finance/2018/oct/18/the-fed-is-ignoring-trump-it-knows-this-is-a-fight-he-cannot-win', 'https://www.theguardian.com/business/live/2018/oct/17/uk-inflation-state-pension-triple-lock-public-sector-consumer-prices-index-markets-business-live', 'https://www.theguardian.com/business/2018/oct/11/stock-markets-dow-donald-trump-fed-chair', 'https://www.theguardian.com/business/2018/oct/11/ftse-100-falls-in-second-day-of-global-market-turbulence', 'https://www.theguardian.com/business/2018/oct/11/imf-boss-defends-federal-reserve-after-trump-calls-it-crazy', 'https://www.theguardian.com/business/2018/oct/11/why-are-markets-plunging-and-which-stocks-are-worst-hit-us-interest-rates-trade-war', 'https://www.theguardian.com/business/2018/oct/11/asian-stock-markets-dive-as-trump-attacks-crazy-us-rate-hikes', 'https://www.theguardian.com/us-news/video/2018/oct/11/donald-trump-says-the-fed-has-gone-crazy-video', 'https://www.theguardian.com/business/2018/oct/05/us-unemployment-rate-falls-to-lowest-level-since-1969', 'https://www.theguardian.com/business/2018/oct/04/world-markets-rattled-by-us-inflation-concerns', 'https://www.theguardian.com/business/live/2018/sep/27/markets-digest-fed-rate-hike-argentina-gets-57bn-imf-bailout-business-live', 'https://www.theguardian.com/business/live/2018/sep/26/investors-poised-for-us-rate-hike-business-live', 'https://www.theguardian.com/business/2018/sep/26/us-federal-reserve-raises-short-term-interest-rates-again', 'https://www.theguardian.com/commentisfree/2018/sep/14/the-guardian-view-on-the-great-financial-crash-new-thinking-needed', 'https://www.theguardian.com/business/2018/sep/08/emerging-economies-crisis-looms-shadow-america-boom-interest-rates', 'https://www.theguardian.com/business/2018/sep/05/capitalists-magical-thinking', 'https://www.theguardian.com/business/2018/aug/30/argentina-raises-interest-rates-to-60-to-shore-up-peso', 'https://www.theguardian.com/business/2018/aug/24/fed-chairman-defends-rate-rise-policy-after-attack-by-trump', 'https://www.theguardian.com/business/live/2018/aug/24/markets-wary-as-us-china-trade-talks-end-without-breakthrough-business-live', 'https://www.theguardian.com/business/live/2018/aug/23/markets-nervous-amid-new-us-china-tariffs-and-trumps-troubles-business-live', 'https://www.theguardian.com/business/2018/aug/22/how-a-wall-street-bull-run-that-smashed-all-the-records-evolved', 'https://www.theguardian.com/politics/2018/aug/21/chancellor-finds-extra-wriggle-room-in-time-for-next-budget', 'https://www.theguardian.com/business/live/2018/aug/21/dollar-falls-after-trump-lashes-out-at-federal-reserve-business-live', 'https://www.theguardian.com/business/live/2018/jul/30/markets-cautious-after-tech-sell-off-and-ahead-of-central-bank-meetings-business-live', 'https://www.theguardian.com/business/2018/jul/20/donald-trump-tariffs-all-chinese-imports-threat', 'https://www.theguardian.com/business/2018/jul/20/trumps-tariffs-threaten-global-prosperity-warns-angela-merkel', 'https://www.theguardian.com/business/live/2018/jul/20/trump-fed-criticism-currency-war-fears-yuan-uk-public-finances-business-live', 'https://www.theguardian.com/business/2018/jun/17/us-fed-rushes-in-where-ecb-fears-to-tread', 'https://www.theguardian.com/business/live/2018/jun/14/ecb-qe-stimulus-mario-draghi-fed-rate-hike-uk-retail-sales-business-live', 'https://www.theguardian.com/business/2018/jun/13/interest-rates-federal-reserve-raises-us-again', 'https://www.theguardian.com/business/2018/may/30/volcker-rule-federal-reserve-ease-regulations', 'https://www.theguardian.com/business/2018/may/22/federal-reserve-emergency-expense-economic-survey', 'https://www.theguardian.com/commentisfree/2018/apr/19/the-guardian-view-on-the-imf-practise-what-you-preach', 'https://www.theguardian.com/business/live/2018/mar/22/bank-of-england-interest-rates-decision-fed-brexit-inflation-business-live', 'https://www.theguardian.com/business/live/2018/mar/21/us-fed-interest-rates-uk-unemployment-retail-mothercare-moss-bros-carpetright-business-live', 'https://www.theguardian.com/business/2018/mar/21/interest-rates-latest-us-federal-reserve-decision-raise', 'https://www.theguardian.com/business/2018/mar/18/developing-countries-risk-from-us-rate-rise-jubilee-debt-campaign-warns', 'https://www.theguardian.com/business/live/2018/feb/28/markets-fall-interest-rate-fears-brexit-pound-growth-gdp-business-live', 'https://www.theguardian.com/business/live/2018/feb/27/comcast-murdoch-sky-takeover-bid-jerome-powell-fed-congress-business-live', 'https://www.theguardian.com/business/2018/feb/27/federal-reserve-chairman-jerome-powell-congress-testimony', 'https://www.theguardian.com/business/2018/feb/15/markets-shrug-off-us-inflation-worries-to-make-fresh-gains', 'https://www.theguardian.com/business/2018/feb/14/wobble-on-wall-street-but-what-are-the-underlying-pressures', 'https://www.theguardian.com/business/2018/feb/07/global-stock-markets-recover-after-sharp-losses', 'https://www.theguardian.com/business/2018/feb/06/stock-market-fall-correction-crash-shares', 'https://www.theguardian.com/business/2018/feb/05/stock-markets-continue-to-fall-amid-interest-rate-hike-fears', 'https://www.theguardian.com/business/2018/feb/05/why-are-global-stock-markets-falling', 'https://www.theguardian.com/business/2018/feb/04/janet-yellen-fed-chair-trump', 'https://www.theguardian.com/business/2018/feb/04/is-this-the-1987-us-economy-or-just-deja-vu', 'https://www.theguardian.com/business/2018/feb/02/us-bond-market-rout-fears-trigger-wall-street-sell-off', 'https://www.theguardian.com/business/2018/jan/30/janet-yellen-sets-interest-rates-one-last-time-how-will-history-rate-her', 'https://www.theguardian.com/business/live/2018/jan/29/pound-slips-as-dollar-recovers-ahead-of-us-inflation-figures-business-live', 'https://www.theguardian.com/business/2017/dec/13/interest-rate-rise-federal-reserve-janet-yellen-final-act', 'https://www.theguardian.com/business/2017/dec/11/uk-business-investment-on-ice-until-more-brexit-progress-warns-bcc', 'https://www.theguardian.com/business/2017/dec/03/financial-markets-overheating-financial-crisis-bis', 'https://www.theguardian.com/business/2017/nov/10/central-banks-are-back-in-the-dock-but-they-must-be-found-not-guilty', 'https://www.theguardian.com/business/2017/nov/05/jerome-powell-boring-choice-fed-chairman-interesting-times', 'https://www.theguardian.com/business/2017/nov/03/us-fed-trump-jerome-powell-janet-yellen-federal-reserve', 'https://www.theguardian.com/business/2017/nov/02/jay-powell-federal-reserve-janet-yellen', 'https://www.theguardian.com/business/2017/oct/27/the-fed-shortlist-who-will-hold-the-second-most-important-job-in-the-us', 'https://www.theguardian.com/business/2017/oct/25/central-banks-need-to-be-more-media-savvy', 'https://www.theguardian.com/commentisfree/2017/oct/22/time-to-reinvent-the-federal-reserve', 'https://www.theguardian.com/business/2017/oct/13/janet-yellen-federal-reserve-chair-change', 'https://www.theguardian.com/business/2017/sep/24/federal-reserve-change-direction-fuel-americas-debt-problem-qe', 'https://www.theguardian.com/business/live/2017/sep/21/dollar-rallies-fed-ends-qe-markets-uk-public-finances-ryanair-agm-live', 'https://www.theguardian.com/business/live/2017/sep/20/us-federal-reserve-decision-janet-yellen-markets-uk-retail-business-live', 'https://www.theguardian.com/business/2017/sep/20/federal-reserve-financial-crisis-stimulus-sell-off-interest-rates', 'https://www.theguardian.com/business/2017/sep/19/why-central-banks-are-not-hitting-their-2-inflation-target', 'https://www.theguardian.com/business/live/2017/sep/01/investors-await-key-us-jobs-report-for-clues-on-next-rate-move-business-live', 'https://www.theguardian.com/business/2017/aug/27/central-banks-governments-debt-spending-investment', 'https://www.theguardian.com/us-news/2017/aug/25/us-central-bank-boss-janet-yellen-rebukes-trump-over-plan-to-lift-regulations', 'https://www.theguardian.com/business/live/2017/aug/25/sterling-markets-jackson-hole-bankers-janet-yellen-live', 'https://www.theguardian.com/business/2017/aug/24/financial-deregulation-us-crisis-federal-reserve-trump', 'https://www.theguardian.com/business/live/2017/aug/24/pound-dips-again-ahead-of-uk-gdp-figures-business-live', 'https://www.theguardian.com/business/live/2017/aug/21/markets-cautious-ahead-of-key-week-for-central-banks-business-live', 'https://www.theguardian.com/business/2017/aug/20/global-investors-look-to-jackson-hole-for-signs-of-how-qe-will-end', 'https://www.theguardian.com/business/live/2017/jul/27/pound-hits-10-month-high-against-dollar-after-fed-caution-business-live', 'https://www.theguardian.com/business/live/2017/jul/14/investors-cheered-as-us-rate-hike-expectations-fade-business-live', 'https://www.theguardian.com/business/2017/jul/10/central-banks-qe-unconventional-monetary-policies', 'https://www.theguardian.com/business/live/2017/jun/14/pound-uk-unemployment-real-wages-us-interest-rate-decision-business-live', 'https://www.theguardian.com/business/2017/jun/14/federal-reserve-interest-rates-increase-us-economy', 'https://www.theguardian.com/business/live/2017/may/24/china-downgraded-moodys-ecb-mario-draghi-dollar-fed-business-live', 'https://www.theguardian.com/business/2017/may/16/global-stock-markets-whats-driving-the-rise-and-will-it-continue', 'https://www.theguardian.com/business/live/2017/apr/06/markets-slide-after-federal-reserve-surprise-and-ahead-of-trump-china-meeting-business-live', 'https://www.theguardian.com/business/2017/mar/26/wall-street-love-affair-trump-healthcare-sows-doubts', 'https://www.theguardian.com/business/2017/mar/19/ronald-reagan-donald-trump-us-economics-hammond', 'https://www.theguardian.com/business/live/2017/mar/16/ftse-100-markets-rally-bank-of-england-interest-rate-dutch-election-business-live', 'https://www.theguardian.com/business/video/2017/mar/15/federal-reserve-chair-janet-yellen-interest-rates-video', 'https://www.theguardian.com/business/live/2017/mar/15/federal-reserve-interest-rates-uk-unemployment-business-live', 'https://www.theguardian.com/business/2017/mar/15/us-federal-reserve-raises-interest-rates-to-1', 'https://www.theguardian.com/business/2017/mar/14/us-federal-reserve-interest-rates-janet-yellen-donald-trump', 'https://www.theguardian.com/business/2017/mar/12/victory-interest-rate-rise-donald-trump-us-economy-will-pay', 'https://www.theguardian.com/business/2017/mar/10/us-jobs-report-signals-fed-will-raise-interest-rates', 'https://www.theguardian.com/commentisfree/2017/mar/09/the-guardian-view-on-us-rate-rises-a-sterling-challenge', 'https://www.theguardian.com/business/2017/mar/04/sorry-brexit-doomsayers-good-news-global-economy', 'https://www.theguardian.com/business/live/2017/mar/03/markets-edge-lower-ahead-of-service-sector-figures-business-live', 'https://www.theguardian.com/business/2017/mar/01/trump-us-banks-federal-reserve-banking-regulation', 'https://www.theguardian.com/business/live/2017/mar/01/us-presidential-address-calms-markets-ahead-of-manufacturing-figures-business-live', 'https://www.theguardian.com/business/2017/feb/02/janet-yellen-fed-federal-reserve-women-economics', 'https://www.theguardian.com/business/live/2017/feb/01/markets-manufacturing-data-china-eurozone-uk-federal-reserve-business-live', 'https://www.theguardian.com/business/2017/jan/06/us-wage-growth-trump-labour-market-barack-obama-job-creation', 'https://www.theguardian.com/business/economics-blog/2016/dec/23/feds-rate-hike-signals-a-deja-vu-for-2017', 'https://www.theguardian.com/business/2016/dec/18/us-could-wait-until-next-summer-to-raise-interest-rates-say-economists', 'https://www.theguardian.com/business/live/2016/dec/15/fed-hike-dollar-bank-of-england-interest-rates-business-live', 'https://www.theguardian.com/commentisfree/2016/dec/15/interest-rates-trump-budget-yellen', 'https://www.theguardian.com/business/2016/dec/15/us-dollar-surges-to-14-year-high-as-fed-hints-at-three-rate-hikes-in-2017', 'https://www.theguardian.com/business/live/2016/dec/14/uk-unemployment-wages-pound-federal-reserve-interest-rates-business-live', 'https://www.theguardian.com/business/2016/dec/14/us-federal-reserve-raises-interest-rates-second-time-since-2008', 'https://www.theguardian.com/business/2016/dec/11/trump-us-economy-boom-inflation-china', 'https://www.theguardian.com/business/2016/dec/11/trump-federal-reserve-interest-rates-janet-yellen', 'https://www.theguardian.com/business/2016/dec/02/prepare-for-a-us-interest-rate-rise-before-christmas', 'https://www.theguardian.com/business/2016/nov/19/trump-economic-policies-growth-us-economy', 'https://www.theguardian.com/business/2016/nov/18/trump-monetary-policy-fed-incomes', 'https://www.theguardian.com/business/2016/nov/17/federal-reserve-interest-rate-hike-december', 'https://www.theguardian.com/business/2016/nov/14/bonds-trump-prompts-inflation-tax-cuts-interest-rates', 'https://www.theguardian.com/business/2016/nov/09/globalisation-backlash-us-economy', 'https://www.theguardian.com/business/live/2016/nov/02/us-election-uncertainty-stock-markets-uk-construction-federal-reserve-live', 'https://www.theguardian.com/business/2016/nov/02/fed-cut-interest-rates-recession-negative-inflation-targets', 'https://www.theguardian.com/business/economics-blog/2016/oct/25/lower-interest-rates-not-demon-populist-claims-inequality-government', 'https://www.theguardian.com/business/2016/oct/23/prepare-for-the-next-recession-while-you-can', 'https://www.theguardian.com/business/2016/oct/12/federal-reserve-minutes-september-interest-rates-hike', 'https://www.theguardian.com/business/2016/oct/03/federal-reserve-playing-politics-janet-yellen-central-banks-us-government', 'https://www.theguardian.com/business/2016/sep/25/like-ed-balls-jeremy-corbyn-is-struggling-to-impress-the-judges', 'https://www.theguardian.com/business/live/2016/sep/22/shares-rally-pound-federal-reserve-bank-of-england-live', 'https://www.theguardian.com/business/live/2016/sep/21/bank-of-japan-stimulus-programme-federal-reserve-business-live', 'https://www.theguardian.com/business/2016/sep/21/federal-reserve-interest-rates-unchanged', 'https://www.theguardian.com/business/2016/sep/21/us-interest-rates-federal-reserve-economy-janet-yellen', 'https://www.theguardian.com/business/live/2016/sep/20/sports-direct-review-mike-ashley-stock-markets-fed-live', 'https://www.theguardian.com/business/live/2016/sep/19/stock-markets-oil-rally-central-banks-fed-boj-meetings-business-live', 'https://www.theguardian.com/business/2016/sep/18/us-federal-reserve-expected-to-keep-interest-rates-on-hold', 'https://www.theguardian.com/business/2016/sep/18/federal-reserve-ends-interest-rate-guessing-game', 'https://www.theguardian.com/business/live/2016/sep/12/stock-markets-biggest-falls-brexit-vote-federal-reserve-ecb-live', 'https://www.theguardian.com/business/2016/sep/12/asia-pacific-shares-suffer-sell-off-amid-propsect-of-us-rate-rise', 'https://www.theguardian.com/us-news/us-money-blog/2016/sep/08/trump-stock-market-bubble-federal-reserve', 'https://www.theguardian.com/business/2016/sep/06/trump-us-federal-reserve-false-economy-interest-rates', 'https://www.theguardian.com/business/2016/sep/04/us-interest-rates-wont-work-if-fed-misread-labour-market', 'https://www.theguardian.com/business/live/2016/sep/02/markets-await-crucial-us-jobs-report-business-live', 'https://www.theguardian.com/business/2016/aug/26/janet-yellen-interest-rate-analysis', 'https://www.theguardian.com/business/2016/aug/26/janet-yellen-speech-jackson-hole-federal-reserve-interest-rate', 'https://www.theguardian.com/world/2016/aug/26/japans-deflationary-spiral-worsens-as-abenomics-falters', 'https://www.theguardian.com/commentisfree/2016/aug/25/the-guardian-view-on-central-bankers-growing-power-and-limited-success', 'https://www.theguardian.com/business/live/2016/aug/25/central-bankers-gather-in-jackson-hole-business-live', 'https://www.theguardian.com/business/2016/aug/17/federal-reserve-interest-rates-brexit', 'https://www.theguardian.com/business/live/2016/aug/17/uk-jobless-claims-expected-to-rise-following-brexit-vote-business-live', 'https://www.theguardian.com/business/2016/aug/03/federal-reserve-goldman-sachs-fine-363-million', 'https://www.theguardian.com/business/2016/aug/02/federal-reserve-interest-rates-dallas', 'https://www.theguardian.com/business/2016/aug/01/prospect-of-us-rate-rise-recedes-as-key-fed-voter-urges-caution', 'https://www.theguardian.com/business/2016/jul/27/us-interest-rates-federal-reserve-unchanged-economy', 'https://www.theguardian.com/business/2016/jul/06/june-federal-reserve-interest-rates-no-rise-brexit-job-market', 'https://www.theguardian.com/business/2016/jun/21/mario-draghi-janet-yellen-poised-eu-referendum-fallout', 'https://www.theguardian.com/business/2016/jun/21/janet-yellen-federal-reserve-brexit-eu-referendum', 'https://www.theguardian.com/business/2016/jun/15/federal-reserve-wont-raise-interest-rates-economic-growth', 'https://www.theguardian.com/politics/2016/jun/13/markets-braced-for-choppy-week-as-pound-falls-amid-brexit-fears', 'https://www.theguardian.com/business/2016/jun/11/yellen-federal-reserve-interest-rates-jobs-china-brexit', 'https://www.theguardian.com/business/2016/jun/10/sterling-and-ftse-100-floored-by-brexit-worries-gold-bonds', 'https://www.theguardian.com/business/2016/jun/06/us-economy-federal-reserve-interest-rate-rise', 'https://www.theguardian.com/business/2016/jun/05/american-economy-brexit-seems-biggest-problem-west', 'https://www.theguardian.com/business/2016/jun/03/jobs-report-may-unemployment-rate-economy', 'https://www.theguardian.com/business/2016/jun/01/federal-reserve-hackings-cybersecurity-espionage', 'https://www.theguardian.com/business/2016/may/27/interest-rate-hike-janet-yellen-federal-reserve-memorial-day', 'https://www.theguardian.com/business/live/2016/may/19/markets-us-rate-hike-uk-retail-sales-live', 'https://www.theguardian.com/business/live/2016/may/18/markets-us-rate-hike-talk-uk-unemployment-report-business-live', 'https://www.theguardian.com/business/2016/may/18/interest-rates-increase-federal-reserve-economy-brexit-china', 'https://www.theguardian.com/business/2016/may/08/donald-trump-given-a-fighting-chance-by-ailing-us-economy-election-stock-market', 'https://www.theguardian.com/business/2016/may/06/april-jobs-report-us-economy-unemployment-rate', 'https://www.theguardian.com/business/nils-pratley-on-finance/2016/may/05/bt-6bn-wave-broadband-investment-coasting', 'https://www.theguardian.com/business/2016/may/05/us-federal-reserve-global-economy-interest-rate-rise', 'https://www.theguardian.com/business/2016/apr/27/janet-yellen-federal-reserve-interest-rate-hike', 'https://www.theguardian.com/business/economics-blog/2016/apr/27/us-interest-rates-merle-hazard-tries-to-cheer-up-fed-watchers', 'https://www.theguardian.com/business/2016/apr/13/us-banks-financial-crisis-regulators-reject-living-will-proposals', 'https://www.theguardian.com/business/live/2016/apr/07/us-fed-dampens-prospect-of-an-april-rate-rise-business-live', 'https://www.theguardian.com/business/2016/apr/06/federal-reserve-interest-rate-delay-split-decision-janet-yellen', 'https://www.theguardian.com/business/2016/apr/01/central-banks-unconventional-monetary-policy', 'https://www.theguardian.com/business/2016/mar/29/federal-reserve-janet-yellen-interest-rate-delay', 'https://www.theguardian.com/business/2016/mar/28/weak-us-consumer-spending-expected-to-delay-interest-rate-rise', 'https://www.theguardian.com/business/2016/mar/25/us-economic-slowdown-not-as-sharp-as-feared', 'https://www.theguardian.com/business/2016/mar/21/australian-shares-tipped-to-move-higher-as-rally-continues', 'https://www.theguardian.com/business/2016/mar/16/federal-reserve-interest-rates-unchanged-janet-yellen-central-bank', 'https://www.theguardian.com/business/live/2016/mar/14/market-rally-central-banks-opec-business-live', 'https://www.theguardian.com/business/2016/mar/07/gathering-storm-for-global-economy-as-markets-lose-faith', 'https://www.theguardian.com/business/2016/feb/26/bank-of-england-chief-accuses-g20-of-failing-to-enact-reforms-to-boost-growth', 'https://www.theguardian.com/business/2016/feb/24/federal-reserve-strong-us-job-market-justify-multiple-interest-rate-increases', 'https://www.theguardian.com/business/2016/feb/22/us-factory-woes-pressure-fed-hold-interest-rates', 'https://www.theguardian.com/business/economics-blog/2016/feb/21/central-bankers-on-the-defensive-as-weird-policy-becomes-even-weirder', 'https://www.theguardian.com/business/2016/feb/17/federal-reserve-global-economy-uncertainty-meeting-minutes', 'https://www.theguardian.com/business/2016/feb/16/finacial-crash-bank-bailout-2008-neel-kashkari-us-banks-too-big-to-fail', 'https://www.theguardian.com/business/2016/feb/14/british-steel-suffers-like-coal-cameron-will-not-oppose-china', 'https://www.theguardian.com/business/2016/feb/12/stock-markets-rally-at-the-end-of-a-traumatic-week', 'https://www.theguardian.com/business/2016/feb/12/new-york-federal-reserve-william-dudley-negative-interest-rates-markets-banks-doom-loop', 'https://www.theguardian.com/business/marketforceslive/2016/feb/11/recession-global-stock-markets-lows-federal-reserve-economy', 'https://www.theguardian.com/business/2016/feb/09/interest-rates-markets-janet-yellen-briefs-congress', 'https://www.theguardian.com/business/2016/feb/10/wasnt-much-janet-yellen-could-say-wouldnt-spook-markets-federal-reserve', 'https://www.theguardian.com/business/video/2016/feb/10/janet-yellen-further-interest-rate-rises-possible-federal-reserve-video', 'https://www.theguardian.com/commentisfree/2016/feb/09/the-guardian-view-on-the-world-economy-dont-drive-on-winding-roads-with-a-steering-lock', 'https://www.theguardian.com/business/nils-pratley-on-finance/2016/feb/08/fed-should-show-some-reserve-janet-yellen-interest-rates', 'https://www.theguardian.com/business/2016/feb/05/weak-us-employment-growth-further-suggests-fed-rate-rise-was-a-mistake', 'https://www.theguardian.com/business/nils-pratley-on-finance/2016/feb/04/stock-markets-suspect-federal-reserve-interest-rate-jitters', 'https://www.theguardian.com/business/2016/jan/29/global-markets-end-tumultuous-month-on-a-high', 'https://www.theguardian.com/business/2016/jan/29/investors-love-cheap-money-and-hate-optimistic-central-bankers', 'https://www.theguardian.com/business/2016/jan/27/federal-reserve-interest-rates-unchanged-global-markets-recession', 'https://www.theguardian.com/business/2016/jan/24/market-panic-over-global-slowdown-on-way', 'https://www.theguardian.com/business/nils-pratley-on-finance/2016/jan/20/if-market-turmoil-forces-us-rate-cut-outlook-grim', 'https://www.theguardian.com/business/2016/jan/20/no-global-economic-crisis-yet-but-the-ingredients-are-there', 'https://www.theguardian.com/business/economics-blog/2016/jan/15/janet-yellen-federal-reserve-interest-rate-blunder', 'https://www.theguardian.com/business/2016/jan/14/stock-markets-germany-recovery-federal-reserve-interest-rate', 'https://www.theguardian.com/us-news/2016/jan/13/ron-paul-rand-paul-ted-cruz-federal-reserve-vote', 'https://www.theguardian.com/business/economics-blog/2016/jan/08/us-employment-up-wages-static', 'https://www.theguardian.com/business/2016/jan/06/federal-reserve-interest-rate-hike-close-call-minutes', 'https://www.theguardian.com/world/2016/jan/01/china-global-economy-state-opinion-divided', 'https://www.theguardian.com/us-news/2015/dec/23/bernie-sanders-wall-street-federal-reserve-bankers', 'https://www.theguardian.com/business/2015/dec/23/us-economy-2016-pew-research-center-poll', 'https://www.theguardian.com/business/2015/dec/20/federal-reserve-interest-rate-hike-affect-my-policy', 'https://www.theguardian.com/business/economics-blog/2015/dec/18/the-federal-reserve-has-raised-rates-too-soon', 'https://www.theguardian.com/business/2015/dec/17/raised-us-interest-rates-could-stunt-growth-of-startup-businesses', 'https://www.theguardian.com/business/live/2015/dec/17/federal-reserve-interest-rate-hike-markets-business-live', 'https://www.theguardian.com/money/us-money-blog/2015/dec/17/raised-interest-rates-may-end-biggest-merger-boom-the-world-has-ever-seen', 'https://www.theguardian.com/business/2015/dec/17/global-markets-cheer-federal-reserve-interest-rate-hike', 'https://www.theguardian.com/business/2015/dec/17/fed-rate-hike-welcomed-by-asia-pacific-markets-but-oil-price-continues-to-fall', 'https://www.theguardian.com/business/live/2015/dec/16/federal-reserve-us-interest-rates-janet-yellen-live', 'https://www.theguardian.com/business/video/2015/dec/16/federal-reserve-interest-rates-video', 'https://www.theguardian.com/commentisfree/2015/dec/16/the-guardian-view-on-the-us-interest-rate-rise-risky-and-premature', 'https://www.theguardian.com/business/2015/dec/16/federal-reserve-ends-indecision-interest-rates', 'https://www.theguardian.com/business/2015/dec/16/federal-reserve-us-interest-rate-rise-fed-funds-janet-yellen', 'https://www.theguardian.com/business/2015/dec/15/federal-reserve-meeting-interest-rates-what-to-know', 'https://www.theguardian.com/business/2015/dec/16/federal-reserve-janet-yellen-raise-borrowing-rates', 'https://www.theguardian.com/business/2015/dec/15/uk-inflation-moves-above-zero', 'https://www.theguardian.com/business/2015/dec/14/asian-stock-markets-drop-as-china-devaluation-oil-and-fed-stoke-fears', 'https://www.theguardian.com/business/2015/dec/13/world-markets-in-fragile-mood-federal-reserve-us-interest-rate-janet-yellen', 'https://www.theguardian.com/business/2015/dec/12/us-interest-rate-rise-heard-round-world-janet-yellen', 'https://www.theguardian.com/business/2015/dec/12/us-interest-rate-rise-what-economists-say', 'https://www.theguardian.com/business/2015/dec/09/market-reaction-to-us-rate-rise-troubles-bank-of-england', 'https://www.theguardian.com/business/2015/dec/08/commodities-rout-deepens-as-chinese-trade-data-signal-weaker-demand', 'https://www.theguardian.com/business/2015/dec/07/opec-plan-kill-us-shale-oil-price-down-seven-year-low', 'https://www.theguardian.com/business/2015/dec/06/markets-calm-about-expected-us-rate-increase-bis-says', 'https://www.theguardian.com/business/2015/dec/04/us-economy-december-jobs-report-unemployment-rate', 'https://www.theguardian.com/business/2015/dec/04/asia-pacific-shares-join-global-slump-as-ecb-fails-to-deliver-stimulus', 'https://www.theguardian.com/business/2015/dec/03/turbulence-predicted-as-ecb-eases-monetary-policy-and-fed-tightens', 'https://www.theguardian.com/us-news/2015/dec/02/federal-reserve-us-interest-rates-janet-yellen', 'https://www.theguardian.com/business/2015/dec/02/eurozone-inflation-data-raises-prospect-of-fresh-ecb-stimulus', 'https://www.theguardian.com/business/2015/dec/02/federal-reserve-ecb-when-monetary-policy-diverges', 'https://www.theguardian.com/business/2015/nov/30/aberdeen-asset-management-investors-withdraw-more-than-40bn', 'https://www.theguardian.com/business/economics-blog/2015/nov/19/a-december-rate-rise-may-be-a-mistake-by-the-fed', 'https://www.theguardian.com/business/2015/nov/18/interest-rate-hikes-december-federal-reserve-minutes-janet-yellen', 'https://www.theguardian.com/business/live/2015/nov/18/markets-remain-nervous-on-paris-fears-live', 'https://www.theguardian.com/business/2015/nov/17/what-a-us-interest-rate-rise-really-means-for-the-dollar', 'https://www.theguardian.com/business/2015/nov/15/more-delivery-problems-for-royal-mail', 'https://www.theguardian.com/business/2015/nov/13/us-retail-sales-data-consumers-cautious', 'https://www.theguardian.com/business/2015/nov/13/shrinking-chinese-credit-pushes-commodities-and-asian-shares-lower', 'https://www.theguardian.com/business/2015/nov/10/is-us-monetary-policy-made-in-china', 'https://www.theguardian.com/business/2015/nov/10/asia-pacific-stock-markets-continue-slide-as-chinese-inflation-weakens', 'https://www.theguardian.com/business/2015/nov/08/china-imports-fall-again-but-us-fed-banker-calls-for-rate-hikes-to-start', 'https://www.theguardian.com/business/2015/nov/06/us-federal-reserve-interest-rate-rise-december-analysis', 'https://www.theguardian.com/business/2015/nov/06/us-interest-rate-rise-likely-december-fall-unemployment-federal-reserve', 'https://www.theguardian.com/business/2015/nov/06/us-jobs-unemployment-rate', 'https://www.theguardian.com/business/2015/nov/04/deutsche-bank-us-sanctions-fine', 'https://www.theguardian.com/business/2015/nov/04/janet-yellen-december-rate-hike-still-on-table', 'https://www.theguardian.com/world/2015/nov/01/barack-obama-right-europe-wrong-great-recession-eurozone-economic-blunders', 'https://www.theguardian.com/technology/2015/nov/01/apple-made-itself-crunch-proof-iphone-mac', 'https://www.theguardian.com/world/2015/oct/30/bank-of-japan-keeps-qe-programme-on-hold-as-it-hopes-for-economic-recovery', 'https://www.theguardian.com/business/2015/oct/29/us-economy-third-quarter-growth', 'https://www.theguardian.com/business/live/2015/oct/29/us-economy-gdp-slowdown-rate-hike-business-live', 'https://www.theguardian.com/business/2015/oct/29/us-economic-growth-slowdown-analysis', 'https://www.theguardian.com/business/2015/oct/29/woolies-profit-warning-and-weaker-anz-earnings-drag-australian-shares-lower', 'https://www.theguardian.com/business/2015/oct/28/federal-reserve-interest-rates-unchanged', 'https://www.theguardian.com/us-news/2015/oct/26/federal-reserve-new-york-leak-goldman-sachs-criminal-charges-rohit-bansal', 'https://www.theguardian.com/business/2015/oct/23/china-interest-rate-cut-fuels-fears-chinese-economy', 'https://www.theguardian.com/business/2015/oct/15/us-economy-jobless-claims-retail-sales-productivity-growth-labour-market', 'https://www.theguardian.com/business/2015/oct/12/western-economies-are-still-too-weak-to-cope-with-fed-rate-rise-says-china', 'https://www.theguardian.com/business/2015/oct/11/federal-reserve-interest-rate-increase-expectation', 'https://www.theguardian.com/business/2015/oct/09/ftse-100-records-biggest-weekly-rise-nearly-four-years', 'https://www.theguardian.com/business/2015/oct/08/federal-reserve-almost-raised-interest-rates-september', 'https://www.theguardian.com/business/live/2015/oct/06/german-factory-orders-fall-markes-global-outlook-live', 'https://www.theguardian.com/business/2015/oct/05/ben-bernanke-says-wall-street-executives-should-have-gone-to-jail', 'https://www.theguardian.com/business/2015/oct/02/us-economy-adds-only-142000-jobs-raising-doubts-about-interest-rate-rise', 'https://www.theguardian.com/business/2015/sep/29/imf-warns-new-financial-crisis-interest-rates-rise', 'https://www.theguardian.com/business/2015/sep/28/us-stock-markets-fall-concerns-china-economy', 'https://www.theguardian.com/business/2015/sep/25/us-gdp-growth-revised-up-federal-reserve', 'https://www.theguardian.com/business/2015/sep/24/janet-yellen-expects-federal-reserve-raise-interest-rates-by-end-of-year', 'https://www.theguardian.com/business/2015/sep/23/the-fed-must-ignore-accusations-of-dithering-over-interest-rates', 'https://www.theguardian.com/business/us-money-blog/2015/sep/20/what-the-feds-game-of-chicken-means-for-your-money', 'https://www.theguardian.com/business/2015/sep/19/zero-interest-rate-policy-wall-street-workers', 'https://www.theguardian.com/business/2015/sep/18/global-shares-fall-federal-reserve-rate-decision', 'https://www.theguardian.com/business/live/2015/sep/18/asian-stock-markets-mixed-as-us-federal-reserve-keeps-rates-on-hold-live', 'https://www.theguardian.com/business/2015/sep/18/beware-the-global-financial-crisis-part-iii', 'https://www.theguardian.com/business/2015/sep/18/markets-unsettled-by-federal-reserve-decision', 'https://www.theguardian.com/business/live/2015/sep/17/us-federal-reserve-interest-rate-decision-markets-janet-yellen-live', 'https://www.theguardian.com/business/2015/sep/17/federal-reserve-interest-rates-record-low', 'https://www.theguardian.com/business/2015/sep/17/us-interest-rates-still-time-for-another-drink-to-help-get-the-party-going', 'https://www.theguardian.com/business/2015/sep/17/federal-reserve-raise-interest-rates-timing-us-economy', 'https://www.theguardian.com/business/2015/sep/16/federal-reserve-janet-yellen-interest-rate-announcement', 'https://www.theguardian.com/business/2015/sep/16/federal-reserve-us-interest-rates-q-and-a', 'https://www.theguardian.com/business/economics-blog/2015/sep/15/inflation-collapse-should-central-banks-raise-interest-rates-or-not', 'https://www.theguardian.com/business/nils-pratley-on-finance/2015/sep/14/seven-years-lehman-brothers-collapse-federal-reserve-raise-rates-justin-king-jeremy-corbyn', 'https://www.theguardian.com/business/2015/sep/14/uk-economic-doubts-grow-stronger-as-manufacturers-struggle', 'https://www.theguardian.com/business/2015/sep/13/goldman-sachs-brics-world-economy-emerging-markets', 'https://www.theguardian.com/business/2015/sep/13/brics-collapse-south-staggers-dollar-almighty', 'https://www.theguardian.com/business/2015/sep/07/federal-reserve-needs-to-worry-about-inequality-not-inflation', 'https://www.theguardian.com/business/2015/sep/05/federal-reserve-interest-rates-hike-presidential-candidates', 'https://www.theguardian.com/business/2015/sep/05/australian-dollar-falls-to-six-year-low-amid-economic-turbulence', 'https://www.theguardian.com/business/live/2015/sep/04/business-live-jittery-markets-fall-us-jobs-report', 'https://www.theguardian.com/business/2015/aug/31/stocks-down-china-us-rate-rise', 'https://www.theguardian.com/business/2015/aug/31/shares-complete-worst-month-since-gfc-as-australian-growth-is-tipped-to-slow', 'https://www.theguardian.com/business/2015/aug/30/central-banks-cant-save-markets-crash-shouldnt-try', 'https://www.theguardian.com/business/2015/aug/29/federal-reserve-stanley-fischer-rate-increase-inflation', 'https://www.theguardian.com/business/2015/aug/28/stock-markets-surge-for-second-day-running-after-black-monday-losses', 'https://www.theguardian.com/business/live/2015/aug/27/asia-pacific-stock-markets-continue-recovery-after-dow-bounces-back-live', 'https://www.theguardian.com/business/2015/aug/27/us-markets-recover-chinese-economy-losses', 'https://www.theguardian.com/business/2015/aug/26/us-interest-rates-are-going-nowhere-fast-despite-upbeat-news-at-home', 'https://www.theguardian.com/business/live/2015/aug/25/asian-stock-markets-braced-for-steep-falls-after-wall-street-slump-live', 'https://www.theguardian.com/business/live/2015/aug/24/global-stocks-sell-off-deepens-as-panic-grips-markets-live', 'https://www.theguardian.com/business/2015/aug/21/global-market-turmoil-in-six-charts', 'https://www.theguardian.com/business/2015/aug/21/global-stocks-in-a-tailspin-as-chinese-factory-slump-drags-on-markets', 'https://www.theguardian.com/business/2015/aug/19/federal-reserve-interest-rate-increase', 'https://www.theguardian.com/business/2015/aug/18/global-economy-two-years-muted-growth-moodys', 'https://www.theguardian.com/world/2015/aug/17/japans-economy-shrinks-by-04-in-a-blow-for-abenomics-growth-plan', 'https://www.theguardian.com/business/2015/aug/16/china-does-not-want-currency-war-with-west-says-central-bank-economist', 'https://www.theguardian.com/business/2015/aug/16/low-pay-low-inflation-low-interest-rates-not-1975', 'https://www.theguardian.com/business/2015/aug/07/steady-us-job-figures-could-end-era-ultra-low-interest-rates', 'https://www.theguardian.com/business/2015/aug/07/unemployment-rate-economy-jobs-federal-reserve', 'https://www.theguardian.com/business/2015/aug/07/payroll-numbers-expected-to-show-us-economic-recovery-gathering-strength', 'https://www.theguardian.com/business/2015/jul/30/us-economic-growth-accelerates-second-quarter', 'https://www.theguardian.com/business/2015/jul/29/federal-reserve-interest-rates-unchanged-september-hike', 'https://www.theguardian.com/business/live/2015/jul/29/greek-bailout-talks-continue-merkel-ally-grexit-chaos-business-live', 'https://www.theguardian.com/business/2015/jul/25/federal-reserve-draws-criticism-after-mistakenly-releasing-rate-forecast', 'https://www.theguardian.com/business/2015/jul/24/australian-dollar-hits-fresh-six-year-low-as-chinese-factories-continue-to-falter', 'https://www.theguardian.com/business/2015/jul/23/aberdeen-asset-management-shares-emerging-markets-us-interest-rates', 'https://www.theguardian.com/business/2015/jul/21/tourism-could-be-the-new-mining-boom-for-australia-says-casino-boss', 'https://www.theguardian.com/business/2015/jul/16/australian-dollar-slumps-to-737-us-cents-amid-chinese-economic-uncertainty', 'https://www.theguardian.com/business/2015/jul/15/us-stock-prices-interest-rate-increase', 'https://www.theguardian.com/business/2015/jul/08/federal-reserve-economy-interest-rates', 'https://www.theguardian.com/business/2015/jun/30/fed-rates-hike-emerging-markets-nouriel-roubini', 'https://www.theguardian.com/business/2015/jun/28/interest-rates-growth-warning-bank-for-international-settlements', 'https://www.theguardian.com/business/2015/jun/24/us-housing-homeowners-rent-20-year-low', 'https://www.theguardian.com/business/2015/jun/17/federal-reserve-committed-raising-interest-rates-2015', 'https://www.theguardian.com/business/2015/jun/05/us-economy-june-jobs-report-unemployment-rate', 'https://www.theguardian.com/business/2015/jun/04/federal-reserve-interest-rate-hike-markets-investments', 'https://www.theguardian.com/business/2015/jun/04/imf-cuts-us-growth-forecast-interest-rate-warning', 'https://www.theguardian.com/business/2015/jun/01/the-liquidity-timebomb-fiscal-policies-have-created-a-dangerous-paradox', 'https://www.theguardian.com/business/economics-blog/2015/may/31/financial-crisis-fixes-leave-policymakers-short-of-ammo-for-the-next-recession-qe', 'https://www.theguardian.com/business/2015/may/22/janet-yellen-federal-reserve-raise-interest-rates-appropriate', 'https://www.theguardian.com/business/2015/may/20/federal-reserve-june-early-interest-rates', 'https://www.theguardian.com/business/2015/may/14/unemployment-benefits-claims-drop-us-economy', 'https://www.theguardian.com/world/2015/may/06/imf-christine-lagarde-calls-fresh-clampdown-bankers-bonuses', 'https://www.theguardian.com/business/2015/may/03/warren-buffett-stock-markets-will-be-over-priced-if-rates-rise', 'https://www.theguardian.com/business/2015/apr/29/federal-reserve-transitory-factors-us-economic-slowdown', 'https://www.theguardian.com/business/2015/apr/29/pimco-recruits-ex-federal-reserve-chairman-ben-bernanke', 'https://www.theguardian.com/business/2015/apr/29/shock-stalling-us-economy-fed-rate-rise-borrowing-costs-growth-slows', 'https://www.theguardian.com/business/2015/apr/18/us-interest-rates-rise-federal-reserve-market-crash', 'https://www.theguardian.com/business/2015/apr/08/federal-reserve-us-economy-interest-rates', 'https://www.theguardian.com/business/2015/apr/03/strong-dollar-and-low-oil-price-lead-to-disappointing-us-jobs-figures', 'https://www.theguardian.com/money/us-money-blog/2015/mar/19/fed-farewell-patience-markets', 'https://www.theguardian.com/world/video/2015/mar/18/federal-reserve-janet-yellen-video', 'https://www.theguardian.com/business/2015/mar/18/federal-reserve-zero-interest-stimulus', 'https://www.theguardian.com/business/2015/mar/18/federal-reserve-expected-end-zero-interest-rate-era', 'https://www.theguardian.com/business/economics-blog/2015/mar/17/markets-are-waiting-on-timing-of-the-federal-reserves-interest-rate-rise', 'https://www.theguardian.com/business/2015/mar/12/four-major-us-banks-scrape-through-federal-reserve-stress-tests', 'https://www.theguardian.com/business/2015/mar/11/the-fed-under-fire-barry-eichengreen', 'https://www.theguardian.com/business/2015/mar/10/euro-fall-cheaper-european-holidays-dollar-pound-strong-greece-debt', 'https://www.theguardian.com/business/2015/mar/07/australian-dollar-falls-sharply-after-strong-us-jobs-figures', 'https://www.theguardian.com/business/2015/mar/05/us-banks-pass-federal-reserve-stress-economic-crisis', 'https://www.theguardian.com/business/2015/feb/24/ftse-100-hits-record-high-of-6959-greece-eurozone', 'https://www.theguardian.com/business/2015/feb/18/federal-reserve-interest-rates-language', 'https://www.theguardian.com/business/2015/feb/16/the-central-banks-and-their-bottom-line', 'https://www.theguardian.com/business/blog/2015/feb/11/has-an-accidental-currency-war-erupted', 'https://www.theguardian.com/business/2015/feb/06/us-economy-january-jobs-report', 'https://www.theguardian.com/business/2015/jan/28/federal-reserve-paves-for-interest-rate-rise', 'https://www.theguardian.com/money/us-money-blog/2015/jan/27/us-credit-debit-card-fees-21-cents-durbin-amendment', 'https://www.theguardian.com/business/2015/jan/25/european-central-bank-quantitative-easing-missed-opportunity', 'https://www.theguardian.com/business/2015/jan/22/stock-market-brace-interest-rates', 'https://www.theguardian.com/business/2015/jan/22/what-is-quantitative-easing', 'https://www.theguardian.com/business/2015/jan/22/quantitative-easing-around-the-world-lessons-from-japan-uk-and-us', 'https://www.theguardian.com/business/2015/jan/20/quantitative-easing-unconventional-monetary-policy', 'https://www.theguardian.com/money/us-money-blog/2015/jan/12/will-congress-address-major-financial-issues-in-2015-curb-your-enthusiasm', 'https://www.theguardian.com/money/us-money-blog/2014/dec/31/janet-yellen-federal-reserve-economist-influential', 'https://www.theguardian.com/business/2014/dec/29/mervyn-king-financial-crash-exciting-bank-england', 'https://www.theguardian.com/business/2014/dec/28/five-issues-world-economy-2015', 'https://www.theguardian.com/business/2014/dec/17/russian-rouble-crisis-us-federal-reserve', 'https://www.theguardian.com/business/2014/dec/17/us-federal-reserve-edges-closer-first-interest-rate-rise-2008', 'https://www.theguardian.com/business/live/2014/dec/17/rouble-russia-crisis-greek-elections-uk-unemployment-fed-live', 'https://www.theguardian.com/business/2014/nov/21/william-dudley-senate-hearing-oversight-failures-new-york-fed', 'https://www.theguardian.com/business/2014/nov/20/senate-report-fed-oversee-banks-commodities', 'https://www.theguardian.com/business/2014/nov/02/world-economy-flying-one-engine-us-growth', 'https://www.theguardian.com/commentisfree/2014/oct/31/financial-markets-message-us-uk-growth-is-good', 'https://www.theguardian.com/business/2014/oct/30/us-economy-growth-fast-than-expected-third-quarter', 'https://www.theguardian.com/business/marketforceslive/2014/oct/30/ftse-falls-after-fed-comments-while-bt-hit-by-competition-fears', 'https://www.theguardian.com/business/2014/oct/29/fed-quietly-ends-stimulus-hard-work', 'https://www.theguardian.com/business/2014/oct/29/us-federal-reserve-end-quantitative-easing-programme', 'https://www.theguardian.com/business/blog/live/2014/oct/29/markets-poised-for-decision-to-end-us-stimulus-business-live-federal-reserve-qe', 'https://www.theguardian.com/business/economics-blog/2014/oct/29/the-fed-to-call-time-on-qe-in-the-us', 'https://www.theguardian.com/money/2014/oct/17/federal-reserve-chair-janet-yellen-inequality-gap-rich-poor', 'https://www.theguardian.com/business/shortcuts/2014/oct/13/what-kind-of-war-games-george-osborne-playing', 'https://www.theguardian.com/commentisfree/2014/oct/05/carmen-segarra-whistleblower-wall-street-federal-reserve', 'https://www.theguardian.com/business/2014/sep/26/us-economy-gdp-second-quarter-interest-rates', 'https://www.theguardian.com/business/2014/sep/25/shares-fall-global-stock-markets-worry-us-interest-rates-increase', 'https://www.theguardian.com/business/2014/sep/18/financial-markets-world-of-their-own', 'https://www.theguardian.com/business/2014/sep/17/federal-reserve-interest-rates-stimulus', 'https://www.theguardian.com/business/2014/sep/05/us-job-growth-slows', 'https://www.theguardian.com/business/2014/aug/31/russia-economic-warfare-rip-free-market-new-world-order', 'https://www.theguardian.com/business/2014/aug/25/economists-back-federal-reserve-policy-us-economy', 'https://www.theguardian.com/business/2014/aug/24/us-economy-rolls-on-without-a-middle-class-recovery', 'https://www.theguardian.com/business/2014/aug/22/fed-chair-janet-yellen-damage-us-economy-jackson-hole', 'https://www.theguardian.com/business/2014/aug/14/brics-development-bank-imf-world-bank-dollar', 'https://www.theguardian.com/business/2014/aug/11/stanley-fischer-federal-reserve-unemployed-workers', 'https://www.theguardian.com/business/2014/aug/05/us-economy-strong-second-half-2014-services-sector-property', 'https://www.theguardian.com/commentisfree/2014/jul/27/in-praise-of-janet-yellen', 'https://www.theguardian.com/business/2014/jul/15/uk-inflation-data-mark-carney-janet-yellen-business-live', 'https://www.theguardian.com/business/economics-blog/2014/jul/03/us-unemployment-falls-federal-reserve', 'https://www.theguardian.com/money/2014/jun/30/bnp-paribas-fine-break-up-banks-crime', 'https://www.theguardian.com/business/economics-blog/2014/jun/23/us-inflation-worries-janet-yellen-federal-reserve-fed', 'https://www.theguardian.com/commentisfree/2014/jun/18/fed-janet-yellen-economy-inflation', 'https://www.theguardian.com/business/2014/jun/18/fed-cuts-growth-forecasts-stimulus-cut-economy', 'https://www.theguardian.com/business/2014/jun/12/central-banks-clean-up-financial-crises-federal-reserve', 'https://www.theguardian.com/business/2014/may/28/federal-reserve-love-affair-disney', 'https://www.theguardian.com/business/2014/may/13/possible-parallels-between-world-cups-and-market-turmoil', 'https://www.theguardian.com/business/2014/may/11/uk-recovery-so-fast-leave-economic-partners-behind', 'https://www.theguardian.com/business/economics-blog/2014/may/08/mario-draghi-ecb-pillow-talk-euro', 'https://www.theguardian.com/world/2014/may/08/colorado-marijuana-banks-legal-finance-rules', 'https://www.theguardian.com/money/us-money-blog/2014/may/04/bank-big-fail-stress-fed-america-economy', 'https://www.theguardian.com/business/2014/may/02/us-unemployment-rate-jobs-added-april', 'https://www.theguardian.com/money/2014/apr/30/federal-reserve-language-means-taper-economy-easing', 'https://www.theguardian.com/world/2014/apr/30/us-economy-robust-federal-reserve-revsied-down-forecasts', 'https://www.theguardian.com/business/2014/apr/28/bank-england-stress-tests-lenders-housing-crash-interest-rates', 'https://www.theguardian.com/business/2014/apr/16/federal-reserve-janet-yellen-job-market-still-needs-help', 'https://www.theguardian.com/business/2014/apr/14/low-interest-rates-global-recovery', 'https://www.theguardian.com/business/2014/apr/13/banks-rome-financial-crisis', 'https://www.theguardian.com/business/2014/apr/13/tech-stocks-boom-lessons-from-2000', 'https://www.theguardian.com/business/blog/2014/mar/21/-sp-russia-sanctions-keep-markets-anxious', 'https://www.theguardian.com/commentisfree/2014/mar/19/janet-yellen-fed-wall-street-press-conference', 'https://www.theguardian.com/business/2014/mar/19/federal-reserve-economic-stimulus-programme-yellen', 'https://www.theguardian.com/business/2014/mar/19/janet-yellen-new-leader-federal-reserve', 'https://www.theguardian.com/business/economics-blog/2014/mar/13/european-central-bank-us-treasury-securities', 'https://www.theguardian.com/business/2014/mar/05/us-economy-winter-weather-federal-reserve', 'https://www.theguardian.com/business/2014/feb/28/us-economic-growth-revised-down-fed-weather', 'https://www.theguardian.com/business/2014/feb/27/janet-yellen-federal-reserve-no-authority-regulate-bitcoin', 'https://www.theguardian.com/business/2014/feb/21/fed-transcript-2008-financial-crisis-yellen-bernanke', 'https://www.theguardian.com/business/2014/feb/19/fed-minutes-interest-rates-january', 'https://www.theguardian.com/business/blog/2014/feb/19/uk-mini-jobs-trend-to-stay-despite-recovery-live', 'https://www.theguardian.com/business/economics-blog/2014/feb/13/global-market-damage-dollar-federal-reserve', 'https://www.theguardian.com/business/2014/feb/11/janet-yellen-congress-federal-reserve-chief-live', 'https://www.theguardian.com/commentisfree/2014/feb/04/janet-yellen-capitalism-doesnt-always-work', 'https://www.theguardian.com/business/2014/feb/03/janet-yellen-woman-chair-federal-reserve-fed', 'https://www.theguardian.com/business/2014/jan/31/nils-pratley-dont-blame-federal-reserve-emerging-markets-crisis', 'https://www.theguardian.com/commentisfree/2014/jan/31/latin-america-china-us-foreign-policy-reserve', 'https://www.theguardian.com/business/2014/jan/30/falling-chinese-factory-activity-and-fed-taper-weigh-on-markets-business-live', 'https://www.theguardian.com/business/video/2014/jan/30/money-for-nothing-dollar-survive-world-top-currency-video', 'https://www.theguardian.com/money/us-money-blog/2014/jan/29/us-economy-state-rumors-federal-reserve', 'https://www.theguardian.com/business/2014/jan/30/us-economy-growth-fourth-quarter-2013', 'https://www.theguardian.com/business/2014/jan/29/ben-bernanke-man-who-rescued-us-financial-system', 'https://www.theguardian.com/business/2014/jan/29/federal-reserve-cuts-economic-stimulus', 'https://www.theguardian.com/business/2014/jan/27/european-shares-ftse-drop-fears-crisis-emerging-markets', 'https://www.theguardian.com/business/2014/jan/26/stock-markets-bull-run-again-dotcom-boom', 'https://www.theguardian.com/business/nils-pratley-on-finance/2014/jan/25/interest-rate-market-profit-us-companies', 'https://www.theguardian.com/business/economics-blog/2014/jan/19/davos-inequality-world-economic-forum', 'https://www.theguardian.com/business/economics-blog/2014/jan/10/us-jobs-figures-put-fed-in-fix', 'https://www.theguardian.com/business/2014/jan/06/senate-confirms-janet-yellen-chair-federal-reserve', 'https://www.theguardian.com/business/2014/jan/06/senate-janet-yellen-federal-reserve-chair', 'https://www.theguardian.com/business/2014/jan/01/central-banks-leadership-global-economy', 'https://www.theguardian.com/business/2013/dec/31/ftse-100-records-best-annual-rise-since-2009', 'https://www.theguardian.com/business/2013/dec/27/stanley-fischer-great-choice-federal-reserve', 'https://www.theguardian.com/business/2013/dec/23/american-consumer-spending-incomes-confidence-november', 'https://www.theguardian.com/commentisfree/2013/dec/23/ben-bernanke-federal-reserve-legacy-mixed', 'https://www.theguardian.com/business/2013/dec/22/ben-bernanke-superman-of-us-federal-reserve', 'https://www.theguardian.com/business/nils-pratley-on-finance/2013/dec/20/federal-reserve-exit-quantitative-easing-janet-yellen', 'https://www.theguardian.com/business/2013/dec/19/european-markets-rally-federal-reserve-move', 'https://www.theguardian.com/business/2013/dec/19/markets-rally-after-fed-begins-tapering-its-stimulus-programme-business-live', 'https://www.theguardian.com/commentisfree/2013/dec/19/ben-bernanke-legacy-calling-out-congress', 'https://www.theguardian.com/business/economics-blog/2013/dec/19/federal-reserve-taper-wall-street-reaction', 'https://www.theguardian.com/business/2013/dec/18/federal-reserve-taper-economic-stimulus-jobs-growth', 'https://www.theguardian.com/business/2013/dec/18/uk-unemployment-bank-minutes-federal-reserve-business-live', 'https://www.theguardian.com/business/2013/dec/18/the-many-faces-of-ben-bernanke-in-pictures', 'https://www.theguardian.com/business/economics-blog/2013/dec/15/federal-reserve-scale-back-quantitative-easing-christmas', 'https://www.theguardian.com/business/2013/dec/15/fed-chief-end-us-economic-stimulus', 'https://www.theguardian.com/business/2013/dec/12/markets--fed-tapering-slovenia-bank-clean-up-business-live', 'https://www.theguardian.com/business/2013/dec/04/adp-numbers-job-market-growth-shutdown', 'https://www.theguardian.com/business/2013/nov/24/unthinkable-five-radical-ways-economic-slump', 'https://www.theguardian.com/business/2013/nov/21/janet-yellen-fed-chair-senate-committee', 'https://www.theguardian.com/business/2013/nov/21/fed-tapering-fears-and-weak-chinese-manufacturing-worry-investors-live', 'https://www.theguardian.com/business/2013/nov/18/us-stock-markets-new-highs-dow-jones-sp500', 'https://www.theguardian.com/business/2013/nov/18/stock-markets-indexes-numbers-milestones', 'https://www.theguardian.com/business/2013/nov/14/federal-reserve-ultimate-explainer', 'https://www.theguardian.com/business/2013/nov/14/janet-yellen-federal-reserve-hearing', 'https://www.theguardian.com/business/2013/nov/13/deflation-fears-eurozone-spain-fall-prices', 'https://www.theguardian.com/business/2013/nov/13/ave-we-overestimated-power-of-central-banks', 'https://www.theguardian.com/business/2013/nov/10/central-bankers-composure-stimulus-policies', 'https://www.theguardian.com/business/2013/nov/08/upbeat-us-jobs-data-december-tapering-federal-reserve', 'https://www.theguardian.com/business/2013/nov/07/us-economic-growth-gdp-tapering', 'https://www.theguardian.com/business/economics-blog/2013/oct/31/bubbles-central-banks-macro-pru-recovery-financial-stability', 'https://www.theguardian.com/business/2013/oct/31/central-banks-share-currencies-federal-reserve-bank-england', 'https://www.theguardian.com/business/2013/oct/30/business-blog-wall-street-high-on-stimulus-hopes-live', 'https://www.theguardian.com/business/2013/oct/30/us-jobs-report-unemployment-fears', 'https://www.theguardian.com/business/2013/oct/28/business-federal-reserve-interest-rate-us-shutdown', 'https://www.theguardian.com/commentisfree/2013/oct/28/alan-greenspan-housing-market-crisis', 'https://www.theguardian.com/business/2013/oct/22/us-markets-up-jobs-report', 'https://www.theguardian.com/commentisfree/2013/oct/18/shutdown-takewaway-fair-society', 'https://www.theguardian.com/business/economics-blog/2013/oct/14/federal-reserve-janet-yellen-tough-task', 'https://www.theguardian.com/world/2013/oct/11/joe-hockey-australia-live-within-means', 'https://www.theguardian.com/business/video/2013/oct/10/obama-nominates-janet-yellen-federal-reserve-video', 'https://www.theguardian.com/commentisfree/2013/oct/09/women-bankers', 'https://www.theguardian.com/money/us-money-blog/2013/oct/09/janet-yellen-affects-middle-class-americans', 'https://www.theguardian.com/business/2013/oct/09/humbled-janet-yellen-pledges-help-hardest-hit', 'https://www.theguardian.com/business/2013/oct/09/janet-yellen-independence-federal-reserve-chair', 'https://www.theguardian.com/business/economics-blog/2013/oct/09/janet-yellen-right-head-federal-reserve', 'https://www.theguardian.com/business/2013/oct/09/us-debt-deadlock-keeps-gnawing-at-markets-live', 'https://www.theguardian.com/business/2013/oct/09/janet-yellen-nomination-obama-political-win', 'https://www.theguardian.com/commentisfree/2013/oct/09/janet-yellen-nomination-federal-reserve-qe', 'https://www.theguardian.com/business/shortcuts/2013/oct/09/janet-yellen-karl-marx-federal-reserve', 'https://www.theguardian.com/business/2013/oct/09/imf-federal-reserve-qe-tapering-rate-rises', 'https://www.theguardian.com/business/2013/oct/09/obama-janet-yellen-us-federal-reserve', 'https://www.theguardian.com/business/2013/oct/02/government-not-relax-credit-standards-imf-warns', 'https://www.theguardian.com/business/2013/oct/01/unilever-profit-warning-investors', 'https://www.theguardian.com/money/us-money-blog/2013/sep/24/fed-stimulus-means-for-portfolio', 'https://www.theguardian.com/business/2013/sep/22/forward-guidance-markets-faster-bank', 'https://www.theguardian.com/business/2013/sep/20/australia-federal-reserve', 'https://www.theguardian.com/business/2013/sep/19/jp-morgan-920m-fine-london-whale', 'https://www.theguardian.com/business/economics-blog/2013/sep/19/federal-reserve-tapering-decision-confused-the-markets', 'https://www.theguardian.com/business/marketforceslive/2013/sep/19/randgold-resources-miners-ftse-100-bernanke', 'https://www.theguardian.com/business/economics-blog/2013/sep/19/federal-reserve-delay-no-reason-celebrate', 'https://www.theguardian.com/business/2013/sep/18/stock-markets-record-fed-stimulus', 'https://www.theguardian.com/business/2013/sep/18/ben-bernanke-quantitative-easing-live-updates', 'https://www.theguardian.com/business/2013/sep/18/federal-reserve-maintains-stimulus-ben-bernanke', 'https://www.theguardian.com/business/2013/sep/18/greece-strike-markets-fed-tapering-live', 'https://www.theguardian.com/business/2013/sep/17/federal-reserve-stimulus-meeting-quantitative-easing-taper', 'https://www.theguardian.com/money/us-money-blog/2013/sep/16/larry-summers-story-dark-fall', 'https://www.theguardian.com/business/2013/sep/16/larry-summers-withdrawal-from-fed-race-cheers-markets-live', 'https://www.theguardian.com/business/2013/sep/16/summers-yellen-fed-reserve-chair', 'https://www.theguardian.com/business/2013/sep/16/janet-yellen-fed-chair-larry-summers', 'https://www.theguardian.com/commentisfree/2013/sep/16/larry-summers-withdrawal-obama-bad-economic-advice', 'https://www.theguardian.com/business/2013/sep/15/bernanke-fed-tapering-quantitative-easing', 'https://www.theguardian.com/commentisfree/2013/sep/08/raghuram-rajan-india-ben-bernanke', 'https://www.theguardian.com/commentisfree/2013/sep/06/bad-economic-stimulus-quantitative-easing', 'https://www.theguardian.com/commentisfree/2013/sep/06/media-acquiescence-larry-summers-supporters', 'https://www.theguardian.com/business/2013/sep/06/us-jobless-numbers-economic-recovery', 'https://www.theguardian.com/business/2013/sep/03/uk-economy-upgraded-by-oecd', 'https://www.theguardian.com/business/2013/sep/02/global-economy-know-unknowns-nouriel-roubini', 'https://www.theguardian.com/business/economics-blog/2013/sep/01/beware-ides-september-turbulent-month-economy', 'https://www.theguardian.com/business/marketforceslive/2013/aug/30/market-week-uncertainty-federal-reserve', 'https://www.theguardian.com/business/2013/aug/29/us-economy-gdp-expands-strong-second-quarter', 'https://www.theguardian.com/business/2013/aug/25/quantitative-easing-taper-emerging-markets', 'https://www.theguardian.com/business/2013/aug/24/obama-crossfire-battle-for-fed', 'https://www.theguardian.com/business/nils-pratley-on-finance/2013/aug/23/federal-reserve-exit-quantative-easing', 'https://www.theguardian.com/commentisfree/2013/aug/22/janet-yellen-chair-federal-reserve', 'https://www.theguardian.com/business/2013/aug/21/federal-reserve-minutes-economic-stimulus', 'https://www.theguardian.com/business/2013/aug/21/global-markets-watch-federal-reserve-anxiously-live', 'https://www.theguardian.com/business/2013/aug/16/stock-markets-jittery-over-fears-federal-reserve-set-to-taper-stimulus-live', 'https://www.theguardian.com/business/2013/aug/15/global-markets-slide-interest-rate-fears', 'https://www.theguardian.com/commentisfree/2013/aug/13/rand-paul-milton-friedman-federal-reserve-chairman', 'https://www.theguardian.com/commentisfree/2013/aug/12/larry-summers-record-discar-fed-chairmanship', 'https://www.theguardian.com/world/2013/aug/09/new-york-fed-30-years', 'https://www.theguardian.com/business/2013/aug/05/interest-rates-bank-of-england-federal-reserve', 'https://www.theguardian.com/business/economics-blog/2013/aug/05/us-federal-reserve-dovish-replacement-bernanke', 'https://www.theguardian.com/business/2013/jul/31/federal-reserve-interest-rates-future-leadership', 'https://www.theguardian.com/commentisfree/2013/jul/30/larry-summers-should-not-be-next-fed-chair', 'https://www.theguardian.com/commentisfree/2013/jul/29/larry-summers-federal-reserve-chair', 'https://www.theguardian.com/commentisfree/2013/jul/17/ben-bernanke-credit-ungrateful-congress', 'https://www.theguardian.com/business/2013/jul/17/bank-mark-carney-qe', 'https://www.theguardian.com/business/2013/jul/17/ben-bernanke-testifies-congress-live', 'https://www.theguardian.com/business/2013/jul/17/ben-bernanke-fed-stimulus-programme', 'https://www.theguardian.com/business/2013/jul/11/us-markets-record-highs-fed-interest-rate', 'https://www.theguardian.com/business/2013/jul/10/federal-reserve-minutes-bond-buying', 'https://www.theguardian.com/business/economics-blog/2013/jul/07/central-banks-bond-market-mark-carney', 'https://www.theguardian.com/business/2013/jul/05/us-jobs-federal-reserve-stimulus-stock-markets', 'https://www.theguardian.com/commentisfree/2013/jul/03/ben-bernanke-gilt-edged-term', 'https://www.theguardian.com/business/economics-blog/2013/jul/03/service-sector-rise-economy', 'https://www.theguardian.com/business/2013/jun/28/stock-markets-gold-june', 'https://www.theguardian.com/commentisfree/2013/jun/27/ben-bernanke-interest-rates-wall-street', 'https://www.theguardian.com/business/2013/jun/25/interest-rate-rises-markets-mervyn-king', 'https://www.theguardian.com/business/2013/jun/24/fed-fears-china-credit-global-stock-markets', 'https://www.theguardian.com/business/2013/jun/24/us-stock-markets-fall-fed-china', 'https://www.theguardian.com/business/2013/jun/23/ben-bernanke-wean-market-off-easy-money', 'https://www.theguardian.com/business/2013/jun/21/ftse-slumps-fears-over-us-stimulus-package', 'https://www.theguardian.com/business/2013/jun/20/stock-markets-violent-sell-off', 'https://www.theguardian.com/business/2013/jun/20/us-stock-markets-fall-bernanke-stimulus', 'https://www.theguardian.com/commentisfree/2013/jun/20/housing-recovery-is-not-real', 'https://www.theguardian.com/business/nils-pratley-on-finance/2013/jun/20/federal-reserve-qe-withdrawal', 'https://www.theguardian.com/business/2013/jun/20/world-stock-markets-fall-bernanke-ftse', 'https://www.theguardian.com/commentisfree/2013/jun/19/federal-reserve-bad-marriage-markets', 'https://www.theguardian.com/business/2013/jun/19/eurozone-crisis-fed-meeting-greek-leaders', 'https://www.theguardian.com/business/2013/jun/19/federal-reserve-interest-rates-stimulus', 'https://www.theguardian.com/business/2013/jun/14/imf-us-economic-recovery-cuts', 'https://www.theguardian.com/business/economics-blog/2013/jun/13/financial-markets-political-risk-federal-reserve', 'https://www.theguardian.com/business/2013/jun/12/bond-bubble-threatens-financial-system', 'https://www.theguardian.com/business/nils-pratley-on-finance/2013/jun/07/federal-reserve', 'https://www.theguardian.com/commentisfree/2013/jun/03/alan-greenspan-cause-great-recession', 'https://www.theguardian.com/commentisfree/2013/may/29/economic-recovery-not-real', 'https://www.theguardian.com/business/nils-pratley-on-finance/2013/may/24/stock-markets-firstgroup-standard-chartered-jp-morgan', 'https://www.theguardian.com/commentisfree/2013/may/23/ben-bernanke-corporate-america-not-doing-job', 'https://www.theguardian.com/business/2013/may/23/ftse-100-falls-china-manufacturing-fed-qe', 'https://www.theguardian.com/business/2013/may/23/us-new-home-sales-rise', 'https://www.theguardian.com/business/2013/may/23/stock-market-crash-central-banks', 'https://www.theguardian.com/business/nils-pratley-on-finance/2013/may/22/bernanke-quantitative-easing-continue', 'https://www.theguardian.com/business/2013/may/22/markets-rally-ben-bernanke-qe-stimulus', 'https://www.theguardian.com/business/2013/may/22/federal-reserve-ben-bernanke-stimulus-bubbles', 'https://www.theguardian.com/media/2013/may/12/bloomberg-banking', 'https://www.theguardian.com/business/2013/may/01/federal-reserve-congress-cuts-policy', 'https://www.theguardian.com/business/2013/apr/18/bank-england-carney-uk-crisis-country', 'https://www.theguardian.com/commentisfree/2013/apr/16/gold-crash-2013-explanation-not-obvious', 'https://www.theguardian.com/business/economics-blog/2013/apr/10/federal-reserve-minutes-qe-ben-bernanke', 'https://www.theguardian.com/business/2013/apr/10/federal-reserve-ben-bernanke-split-stimulus', 'https://www.theguardian.com/business/2013/apr/09/imf-inflation-fears-central-banks', 'https://www.theguardian.com/business/2013/apr/05/march-us-jobs-report-economy', 'https://www.theguardian.com/commentisfree/2013/apr/05/do-nothing-congress-america-jobs-crisis', 'https://www.theguardian.com/business/2013/mar/29/stock-market-calm-cyprus-italy', 'https://www.theguardian.com/commentisfree/2013/mar/25/london-whale-link-us-economy-cyprus', 'https://www.theguardian.com/commentisfree/2013/mar/21/ben-bernanke-federal-reserve', 'https://www.theguardian.com/business/2013/mar/20/federal-reserve-stimulus-interest-rates', 'https://www.theguardian.com/business/2013/mar/20/federal-reserve-bernanke-interest-live', 'https://www.theguardian.com/business/economics-blog/2013/mar/05/federal-reserve-cheap-money-dow-jones-high', 'https://www.theguardian.com/business/economics-blog/2013/feb/28/quantitative-easing-risks-qe-wars-roubini', 'https://www.theguardian.com/business/2013/feb/25/dangers-of-sequester-spending-cuts', 'https://www.theguardian.com/business/2013/feb/20/federal-reserve-rift-ben-bernanke-stimulus', 'https://www.theguardian.com/business/2013/feb/11/federal-reserve-blame-financial-crisis', 'https://www.theguardian.com/commentisfree/2013/feb/01/unemployment-crisis-us-monthly-jobs-report', 'https://www.theguardian.com/commentisfree/2013/jan/14/republican-hubris-spending-cuts', 'https://www.theguardian.com/commentisfree/2013/jan/13/jack-lew-tim-geithner-us-treasury-boss', 'https://www.theguardian.com/commentisfree/2013/jan/11/quantitative-easing-had-its-day', 'https://www.theguardian.com/business/2013/jan/04/eurozone-live-fed-qe3', 'https://www.theguardian.com/business/2012/dec/20/bank-england-chief-850000', 'https://www.theguardian.com/business/2012/dec/12/ben-bernanke-confuse-wall-street', 'https://www.theguardian.com/world/2012/dec/12/boehner-gop-fiscal-cliff-counter-offer', 'https://www.theguardian.com/business/2012/dec/12/federal-reserve-interest-rates-stimulus', 'https://www.theguardian.com/business/2012/dec/12/eurozone-crisis-live-federal-reserve-qe', 'https://www.theguardian.com/business/2012/nov/22/income-equality-killing-capitalism', 'https://www.theguardian.com/business/2012/nov/20/bernanke-fiscal-cliff-failure-economy-recession', 'https://www.theguardian.com/commentisfree/2012/oct/24/sanctions-iran-nuclear-talks-heidi-moore', 'https://www.theguardian.com/business/economics-blog/2012/oct/19/monetary-policy-central-bankers', 'https://www.theguardian.com/world/video/2012/oct/18/fbi-sting-federal-reserve-bomb-video', 'https://www.theguardian.com/world/2012/oct/17/fbi-federal-reserve-bomb-plot', 'https://www.theguardian.com/business/economics-blog/2012/oct/15/quantitative-easing-us-economy', 'https://www.theguardian.com/technology/2012/oct/11/apple-iphone5-demand-huge-increase-air-freight-costs', 'https://www.theguardian.com/business/economics-blog/2012/oct/04/adding-liquidity-fiscal-stimulus', 'https://www.theguardian.com/commentisfree/2012/oct/01/big-finance-pathology-compels-logic', 'https://www.theguardian.com/commentisfree/2012/sep/20/quantitative-easing-not-magic-central-banks', 'https://www.theguardian.com/commentisfree/2012/sep/17/america-falls-off-fiscal-cliff', 'https://www.theguardian.com/business/2012/sep/14/eurozone-crisis-qe3-markets-euro-ministers', 'https://www.theguardian.com/business/blog/2012/sep/14/ben-bernanke-qe3-paul-ryan', 'https://www.theguardian.com/world/2012/sep/13/federal-reserve-ben-bernanke-live', 'https://www.theguardian.com/commentisfree/2012/sep/13/ben-bernanke-flakcatcher-in-chief', 'https://www.theguardian.com/business/nils-pratley-on-finance/2012/sep/13/fed-reserve-stability', 'https://www.theguardian.com/commentisfree/2012/sep/13/ben-bernanke-rescues-us-economy-nihilism-right', 'https://www.theguardian.com/business/2012/sep/13/fed-bond-buying-stimulus-growth', 'https://www.theguardian.com/commentisfree/2012/sep/13/moodys-threat-downgrade-us-debt-political-fiscal', 'https://www.theguardian.com/business/2012/sep/13/eurozone-crisis-live', 'https://www.theguardian.com/business/2012/sep/11/ben-bernanke-us-economy-federal-reserve', 'https://www.theguardian.com/business/2012/sep/06/quantitative-easing-quick-fix-world-economy', 'https://www.theguardian.com/commentisfree/2012/sep/03/debt-federal-reserve-fixation-on-growth', 'https://www.theguardian.com/business/2012/aug/31/markets-fed-chairman-ben-bernanke', 'https://www.theguardian.com/business/2012/aug/31/ben-bernanke-fed-action-stimulus', 'https://www.theguardian.com/business/2012/aug/31/eurozone-crisis-live-jackson-hole', 'https://www.theguardian.com/business/2012/aug/27/federal-reserve-offical-us-unemployment', 'https://www.theguardian.com/business/2012/aug/24/angela-merkel-rejects-greek-pleas-loan-extension', 'https://www.theguardian.com/business/2012/aug/22/federal-reserve-us-economy-growth', 'https://www.theguardian.com/business/2012/aug/03/us-jobs-report-economy-barack-obama', 'https://www.theguardian.com/business/2012/aug/01/fed-us-recovery-stimulus', 'https://www.theguardian.com/business/2012/jul/17/ben-bernanke-cliff-politics-markets', 'https://www.theguardian.com/business/2012/jul/17/federal-reserve-ben-bernanke-markets', 'https://www.theguardian.com/business/2012/jul/17/federal-reserve-ben-bernanke', 'https://www.theguardian.com/business/2012/jul/17/eurozone-crisis-mervyn-king-libor', 'https://www.theguardian.com/commentisfree/2012/jul/06/weak-job-report-force-fed-act', 'https://www.theguardian.com/business/economics-blog/2012/jun/29/us-federal-reserve-powerless', 'https://www.theguardian.com/business/economics-blog/2012/jun/27/federal-reserve-runs-out-of-options', 'https://www.theguardian.com/commentisfree/2012/jun/20/ben-bernanke-unlikely-atlas-us-economy', 'https://www.theguardian.com/business/2012/jun/20/fed-extends-operation-twist-economy', 'https://www.theguardian.com/business/2012/jun/20/federal-reserve-pumps-more-money-us-economy', 'https://www.theguardian.com/business/2012/jun/20/market-federal-reserve-us-economy', 'https://www.theguardian.com/business/2012/jun/18/fed-us-economy-operation-twist', 'https://www.theguardian.com/commentisfree/2012/jun/18/risk-jamie-dimon-federal-reserve-system', 'https://www.theguardian.com/commentisfree/2012/jun/18/ben-bernanke-federal-reserve-us-economy', 'https://www.theguardian.com/business/2012/jun/11/new-york-fed-defends-jp-morgan-boss']\n"
          ]
        }
      ]
    },
    {
      "cell_type": "markdown",
      "source": [
        "> Below we concat the USA and EU data in one dataframe."
      ],
      "metadata": {
        "id": "sFem2PmJudJi"
      }
    },
    {
      "cell_type": "code",
      "source": [
        "df_central_banks = pd.concat([df_eu, df_usa])\n",
        "df_central_banks.to_csv('Central-bank-news.csv')\n",
        "df_central_banks = df_central_banks.drop_duplicates()"
      ],
      "metadata": {
        "id": "k-w_84NHills"
      },
      "execution_count": null,
      "outputs": []
    },
    {
      "cell_type": "code",
      "source": [
        "df_central_banks = df_central_banks.reset_index()\n",
        "df_central_banks['is_relevant'] = [1] * df_central_banks.shape[0]"
      ],
      "metadata": {
        "id": "gfH1JBWQ-N2y"
      },
      "execution_count": null,
      "outputs": []
    },
    {
      "cell_type": "code",
      "source": [
        "df_central_banks = df_central_banks.drop(['level_0',\n",
        "                                          'index'], axis = 1)\n",
        "df_central_banks"
      ],
      "metadata": {
        "colab": {
          "base_uri": "https://localhost:8080/",
          "height": 423
        },
        "id": "m-WUg_jp-ekf",
        "outputId": "f024d747-5c21-4efb-addd-16a04eafec59"
      },
      "execution_count": null,
      "outputs": [
        {
          "output_type": "execute_result",
          "data": {
            "text/plain": [
              "                          date  \\\n",
              "0     2023-03-31T11:58:03+0000   \n",
              "1     2023-03-22T19:20:33+0000   \n",
              "2     2023-03-17T17:55:05+0000   \n",
              "3     2023-03-16T17:30:12+0000   \n",
              "4     2023-03-16T10:47:35+0000   \n",
              "...                        ...   \n",
              "1955  2012-06-20T15:04:00+0000   \n",
              "1956  2012-06-18T17:24:34+0000   \n",
              "1957  2012-06-18T16:22:17+0000   \n",
              "1958  2012-06-18T13:30:01+0000   \n",
              "1959  2012-06-11T16:24:23+0000   \n",
              "\n",
              "                                               headline  \\\n",
              "0     Eurozone inflation falls sharply as energy pri...   \n",
              "1     US Federal Reserve raises interest rates a qua...   \n",
              "2     Credit Suisse shares continue to fall despite ...   \n",
              "3     ECB raises eurozone interest rate despite bank...   \n",
              "4     ECB faces dilemma over interest rate rise amid...   \n",
              "...                                                 ...   \n",
              "1955  Market jitters ahead of Federal Reserve announ...   \n",
              "1956  Fed could boost US economy with Operation Twis...   \n",
              "1957  The risk Jamie Dimon poses to the Federal Rese...   \n",
              "1958  What Ben Bernanke and the Federal Reserve can ...   \n",
              "1959  NY Fed chairman defends JP Morgan boss ahead o...   \n",
              "\n",
              "                                                   body origin  is_relevant  \n",
              "0     The eurozone’s annual inflation rate fell shar...     EU            1  \n",
              "1     Facing the worst banking crisis since 2008 and...     EU            1  \n",
              "2     Credit Suisse shares came under renewed pressu...     EU            1  \n",
              "3     The European Central Bank has raised interest ...     EU            1  \n",
              "4     The European Central Bank is facing a dilemma ...     EU            1  \n",
              "...                                                 ...    ...          ...  \n",
              "1955  US stock markets wobbled Wednesday morning as ...    USA            1  \n",
              "1956  The Federal Reserve could step in with a new r...    USA            1  \n",
              "1957  The Federal Reserve System was created in 1913...    USA            1  \n",
              "1958  The Federal Reserve Board's open market commit...    USA            1  \n",
              "1959  The chairman of the New York Fed has defended ...    USA            1  \n",
              "\n",
              "[1960 rows x 5 columns]"
            ],
            "text/html": [
              "\n",
              "  <div id=\"df-60a073b0-5db2-40b4-bf20-46efb0e85488\">\n",
              "    <div class=\"colab-df-container\">\n",
              "      <div>\n",
              "<style scoped>\n",
              "    .dataframe tbody tr th:only-of-type {\n",
              "        vertical-align: middle;\n",
              "    }\n",
              "\n",
              "    .dataframe tbody tr th {\n",
              "        vertical-align: top;\n",
              "    }\n",
              "\n",
              "    .dataframe thead th {\n",
              "        text-align: right;\n",
              "    }\n",
              "</style>\n",
              "<table border=\"1\" class=\"dataframe\">\n",
              "  <thead>\n",
              "    <tr style=\"text-align: right;\">\n",
              "      <th></th>\n",
              "      <th>date</th>\n",
              "      <th>headline</th>\n",
              "      <th>body</th>\n",
              "      <th>origin</th>\n",
              "      <th>is_relevant</th>\n",
              "    </tr>\n",
              "  </thead>\n",
              "  <tbody>\n",
              "    <tr>\n",
              "      <th>0</th>\n",
              "      <td>2023-03-31T11:58:03+0000</td>\n",
              "      <td>Eurozone inflation falls sharply as energy pri...</td>\n",
              "      <td>The eurozone’s annual inflation rate fell shar...</td>\n",
              "      <td>EU</td>\n",
              "      <td>1</td>\n",
              "    </tr>\n",
              "    <tr>\n",
              "      <th>1</th>\n",
              "      <td>2023-03-22T19:20:33+0000</td>\n",
              "      <td>US Federal Reserve raises interest rates a qua...</td>\n",
              "      <td>Facing the worst banking crisis since 2008 and...</td>\n",
              "      <td>EU</td>\n",
              "      <td>1</td>\n",
              "    </tr>\n",
              "    <tr>\n",
              "      <th>2</th>\n",
              "      <td>2023-03-17T17:55:05+0000</td>\n",
              "      <td>Credit Suisse shares continue to fall despite ...</td>\n",
              "      <td>Credit Suisse shares came under renewed pressu...</td>\n",
              "      <td>EU</td>\n",
              "      <td>1</td>\n",
              "    </tr>\n",
              "    <tr>\n",
              "      <th>3</th>\n",
              "      <td>2023-03-16T17:30:12+0000</td>\n",
              "      <td>ECB raises eurozone interest rate despite bank...</td>\n",
              "      <td>The European Central Bank has raised interest ...</td>\n",
              "      <td>EU</td>\n",
              "      <td>1</td>\n",
              "    </tr>\n",
              "    <tr>\n",
              "      <th>4</th>\n",
              "      <td>2023-03-16T10:47:35+0000</td>\n",
              "      <td>ECB faces dilemma over interest rate rise amid...</td>\n",
              "      <td>The European Central Bank is facing a dilemma ...</td>\n",
              "      <td>EU</td>\n",
              "      <td>1</td>\n",
              "    </tr>\n",
              "    <tr>\n",
              "      <th>...</th>\n",
              "      <td>...</td>\n",
              "      <td>...</td>\n",
              "      <td>...</td>\n",
              "      <td>...</td>\n",
              "      <td>...</td>\n",
              "    </tr>\n",
              "    <tr>\n",
              "      <th>1955</th>\n",
              "      <td>2012-06-20T15:04:00+0000</td>\n",
              "      <td>Market jitters ahead of Federal Reserve announ...</td>\n",
              "      <td>US stock markets wobbled Wednesday morning as ...</td>\n",
              "      <td>USA</td>\n",
              "      <td>1</td>\n",
              "    </tr>\n",
              "    <tr>\n",
              "      <th>1956</th>\n",
              "      <td>2012-06-18T17:24:34+0000</td>\n",
              "      <td>Fed could boost US economy with Operation Twis...</td>\n",
              "      <td>The Federal Reserve could step in with a new r...</td>\n",
              "      <td>USA</td>\n",
              "      <td>1</td>\n",
              "    </tr>\n",
              "    <tr>\n",
              "      <th>1957</th>\n",
              "      <td>2012-06-18T16:22:17+0000</td>\n",
              "      <td>The risk Jamie Dimon poses to the Federal Rese...</td>\n",
              "      <td>The Federal Reserve System was created in 1913...</td>\n",
              "      <td>USA</td>\n",
              "      <td>1</td>\n",
              "    </tr>\n",
              "    <tr>\n",
              "      <th>1958</th>\n",
              "      <td>2012-06-18T13:30:01+0000</td>\n",
              "      <td>What Ben Bernanke and the Federal Reserve can ...</td>\n",
              "      <td>The Federal Reserve Board's open market commit...</td>\n",
              "      <td>USA</td>\n",
              "      <td>1</td>\n",
              "    </tr>\n",
              "    <tr>\n",
              "      <th>1959</th>\n",
              "      <td>2012-06-11T16:24:23+0000</td>\n",
              "      <td>NY Fed chairman defends JP Morgan boss ahead o...</td>\n",
              "      <td>The chairman of the New York Fed has defended ...</td>\n",
              "      <td>USA</td>\n",
              "      <td>1</td>\n",
              "    </tr>\n",
              "  </tbody>\n",
              "</table>\n",
              "<p>1960 rows × 5 columns</p>\n",
              "</div>\n",
              "      <button class=\"colab-df-convert\" onclick=\"convertToInteractive('df-60a073b0-5db2-40b4-bf20-46efb0e85488')\"\n",
              "              title=\"Convert this dataframe to an interactive table.\"\n",
              "              style=\"display:none;\">\n",
              "        \n",
              "  <svg xmlns=\"http://www.w3.org/2000/svg\" height=\"24px\"viewBox=\"0 0 24 24\"\n",
              "       width=\"24px\">\n",
              "    <path d=\"M0 0h24v24H0V0z\" fill=\"none\"/>\n",
              "    <path d=\"M18.56 5.44l.94 2.06.94-2.06 2.06-.94-2.06-.94-.94-2.06-.94 2.06-2.06.94zm-11 1L8.5 8.5l.94-2.06 2.06-.94-2.06-.94L8.5 2.5l-.94 2.06-2.06.94zm10 10l.94 2.06.94-2.06 2.06-.94-2.06-.94-.94-2.06-.94 2.06-2.06.94z\"/><path d=\"M17.41 7.96l-1.37-1.37c-.4-.4-.92-.59-1.43-.59-.52 0-1.04.2-1.43.59L10.3 9.45l-7.72 7.72c-.78.78-.78 2.05 0 2.83L4 21.41c.39.39.9.59 1.41.59.51 0 1.02-.2 1.41-.59l7.78-7.78 2.81-2.81c.8-.78.8-2.07 0-2.86zM5.41 20L4 18.59l7.72-7.72 1.47 1.35L5.41 20z\"/>\n",
              "  </svg>\n",
              "      </button>\n",
              "      \n",
              "  <style>\n",
              "    .colab-df-container {\n",
              "      display:flex;\n",
              "      flex-wrap:wrap;\n",
              "      gap: 12px;\n",
              "    }\n",
              "\n",
              "    .colab-df-convert {\n",
              "      background-color: #E8F0FE;\n",
              "      border: none;\n",
              "      border-radius: 50%;\n",
              "      cursor: pointer;\n",
              "      display: none;\n",
              "      fill: #1967D2;\n",
              "      height: 32px;\n",
              "      padding: 0 0 0 0;\n",
              "      width: 32px;\n",
              "    }\n",
              "\n",
              "    .colab-df-convert:hover {\n",
              "      background-color: #E2EBFA;\n",
              "      box-shadow: 0px 1px 2px rgba(60, 64, 67, 0.3), 0px 1px 3px 1px rgba(60, 64, 67, 0.15);\n",
              "      fill: #174EA6;\n",
              "    }\n",
              "\n",
              "    [theme=dark] .colab-df-convert {\n",
              "      background-color: #3B4455;\n",
              "      fill: #D2E3FC;\n",
              "    }\n",
              "\n",
              "    [theme=dark] .colab-df-convert:hover {\n",
              "      background-color: #434B5C;\n",
              "      box-shadow: 0px 1px 3px 1px rgba(0, 0, 0, 0.15);\n",
              "      filter: drop-shadow(0px 1px 2px rgba(0, 0, 0, 0.3));\n",
              "      fill: #FFFFFF;\n",
              "    }\n",
              "  </style>\n",
              "\n",
              "      <script>\n",
              "        const buttonEl =\n",
              "          document.querySelector('#df-60a073b0-5db2-40b4-bf20-46efb0e85488 button.colab-df-convert');\n",
              "        buttonEl.style.display =\n",
              "          google.colab.kernel.accessAllowed ? 'block' : 'none';\n",
              "\n",
              "        async function convertToInteractive(key) {\n",
              "          const element = document.querySelector('#df-60a073b0-5db2-40b4-bf20-46efb0e85488');\n",
              "          const dataTable =\n",
              "            await google.colab.kernel.invokeFunction('convertToInteractive',\n",
              "                                                     [key], {});\n",
              "          if (!dataTable) return;\n",
              "\n",
              "          const docLinkHtml = 'Like what you see? Visit the ' +\n",
              "            '<a target=\"_blank\" href=https://colab.research.google.com/notebooks/data_table.ipynb>data table notebook</a>'\n",
              "            + ' to learn more about interactive tables.';\n",
              "          element.innerHTML = '';\n",
              "          dataTable['output_type'] = 'display_data';\n",
              "          await google.colab.output.renderOutput(dataTable, element);\n",
              "          const docLink = document.createElement('div');\n",
              "          docLink.innerHTML = docLinkHtml;\n",
              "          element.appendChild(docLink);\n",
              "        }\n",
              "      </script>\n",
              "    </div>\n",
              "  </div>\n",
              "  "
            ]
          },
          "metadata": {},
          "execution_count": 210
        }
      ]
    },
    {
      "cell_type": "markdown",
      "source": [
        "# Scraping non-relevant news"
      ],
      "metadata": {
        "id": "fEbdYyNsgnSD"
      }
    },
    {
      "cell_type": "markdown",
      "source": [
        "> To feed into the model 1 (predicting the relevancy of an article) we alo need some non-relevant news. For this task it was decided to scrape news from the main categories on \"The Guardian\" that were not relevant at all. These categories are \"sport\", \"culture\" and \"life and style\" and they include both news from the United States and the Eropean Union."
      ],
      "metadata": {
        "id": "APolKSwfuoyZ"
      }
    },
    {
      "cell_type": "code",
      "source": [
        "def non_relevant_news(max_pages, category):\n",
        "  \"\"\"\n",
        "  It scrapes some non relevant data to train the first model used.\n",
        "\n",
        "  Input:\n",
        "    max pages = value bigger than one that represents the number of pages to scrape in each category\n",
        "    categories_to_scrape = which categories should we scrape. It has to be a list that can assume the following values (['sport', 'cultural', 'lifeandstyle']).\n",
        "\n",
        "  Output: Scraped Dataframe for the specified category.\n",
        "\n",
        "  \"\"\"\n",
        "  date = []\n",
        "  headline = []\n",
        "  body = []\n",
        "\n",
        "  for page_number in range(1, max_pages):\n",
        "    url = f'https://www.theguardian.com/{category}/all?page={page_number}'\n",
        "    r = urllib.request.urlopen(url).read()\n",
        "    soup = BeautifulSoup(r, \"lxml\")\n",
        "\n",
        "    links = []\n",
        "\n",
        "    for element in soup.find_all('div', {'class': 'fc-item__container'}):\n",
        "      if not element.find('div',{'class': 'fc-item__kicker'}) or element.find('div',{'class': 'fc-item__kicker'}) != 'Live':\n",
        "        links.append(element.a.attrs['href'])\n",
        "      date.append(element.find('time', {'class': 'fc-item__timestamp'}).attrs['datetime'])\n",
        "\n",
        "\n",
        "    for head in soup.find_all('span', {'class': 'js-headline-text'}):\n",
        "      headline.append(head.text)\n",
        "\n",
        "    for article in links:\n",
        "      r = urllib.request.urlopen(article).read()\n",
        "      mini_soup = BeautifulSoup(r, \"lxml\")\n",
        "\n",
        "      # A small condition to deal with different types of articles and to prevent\n",
        "      # possible empty articles to mess up the order of the dataset\n",
        "\n",
        "      if mini_soup.find('div', {'class': 'article-body-commercial-selector'}):\n",
        "        for text in mini_soup.find_all('div', {'class': 'article-body-commercial-selector'}):\n",
        "            news_art = text.text\n",
        "      elif mini_soup.find_all('article', {'class': 'block'}):\n",
        "        for text in mini_soup.find_all('article', {'class': 'block'}):\n",
        "          news_art = text.text\n",
        "      elif mini_soup.find('div', {'class': 'content__standfirst'}):\n",
        "        for text in mini_soup.find_all('div', {'class': 'content__standfirst'}):\n",
        "          news_art = text.text\n",
        "      else:\n",
        "        news_art = ''   # empty articles\n",
        "\n",
        "      body.append(news_art)\n",
        "  dictionary = {'date': date, 'headline':list(headline), 'body':list(body), 'origin': [category]*len(headline)}\n",
        "\n",
        "  return pd.DataFrame(dictionary)\n"
      ],
      "metadata": {
        "id": "oSpoNJFCFZ-h"
      },
      "execution_count": null,
      "outputs": []
    },
    {
      "cell_type": "code",
      "source": [
        "df_sport = non_relevant_news(max_pages = 27, category = 'sport')"
      ],
      "metadata": {
        "colab": {
          "base_uri": "https://localhost:8080/"
        },
        "id": "hRw4tkjXKOPL",
        "outputId": "e43d6d0f-1391-4cf6-9311-44d5ff848cea"
      },
      "execution_count": null,
      "outputs": [
        {
          "output_type": "stream",
          "name": "stdout",
          "text": [
            "180\n",
            "520 520 520\n"
          ]
        }
      ]
    },
    {
      "cell_type": "code",
      "source": [
        "df_culture = non_relevant_news(max_pages = 27, category = 'culture')"
      ],
      "metadata": {
        "colab": {
          "base_uri": "https://localhost:8080/"
        },
        "id": "UxBHAeNVy4p4",
        "outputId": "1579f661-3ee0-4a82-df56-6883cf020cae"
      },
      "execution_count": null,
      "outputs": [
        {
          "output_type": "stream",
          "name": "stdout",
          "text": [
            "180\n",
            "520 520 520\n"
          ]
        }
      ]
    },
    {
      "cell_type": "code",
      "source": [
        "df_lifestyle = non_relevant_news(max_pages = 27, category = 'lifeandstyle')"
      ],
      "metadata": {
        "colab": {
          "base_uri": "https://localhost:8080/"
        },
        "id": "TOg5gUEpy7k2",
        "outputId": "b935b263-7f3e-4357-fb0a-7cd880f7ddca"
      },
      "execution_count": null,
      "outputs": [
        {
          "output_type": "stream",
          "name": "stdout",
          "text": [
            "180\n",
            "520 520 520\n"
          ]
        }
      ]
    },
    {
      "cell_type": "code",
      "source": [
        "df_non_relevant = pd.concat([\n",
        "    df_sport,\n",
        "    df_culture,\n",
        "    df_lifestyle\n",
        "])\n",
        "df_non_relevant = df_non_relevant.reset_index()\n",
        "df_non_relevant['is_relevant'] = [0] * df_non_relevant.shape[0]\n",
        "df_non_relevant = df_non_relevant.drop('index', axis = 1)"
      ],
      "metadata": {
        "id": "LnC0QAoTui9b"
      },
      "execution_count": null,
      "outputs": []
    },
    {
      "cell_type": "code",
      "source": [
        "df_non_relevant.head()"
      ],
      "metadata": {
        "colab": {
          "base_uri": "https://localhost:8080/",
          "height": 423
        },
        "id": "T_oBXo5Y9PAM",
        "outputId": "8bd5b3ad-01e1-4127-b079-9b98037dddf8"
      },
      "execution_count": null,
      "outputs": [
        {
          "output_type": "execute_result",
          "data": {
            "text/plain": [
              "                          date  \\\n",
              "0     2023-04-07T22:06:42+0000   \n",
              "1     2023-04-07T21:51:14+0000   \n",
              "2     2023-04-07T21:30:04+0000   \n",
              "3     2023-04-07T21:30:03+0000   \n",
              "4     2023-04-07T21:30:03+0000   \n",
              "...                        ...   \n",
              "1555  2023-03-06T08:00:21+0000   \n",
              "1556  2023-03-06T07:00:20+0000   \n",
              "1557  2023-03-06T07:00:20+0000   \n",
              "1558  2023-03-06T06:30:19+0000   \n",
              "1559  2023-03-06T03:00:14+0000   \n",
              "\n",
              "                                               headline  \\\n",
              "0     Brooks Koepka forges Masters lead while Rory M...   \n",
              "1       The Masters 2023: second round – as it happened   \n",
              "2     Pep Guardiola reveals shift in formation as re...   \n",
              "3     ‘Wow, where are we?’: Jürgen Klopp reflects on...   \n",
              "4      Manchester United’s trophy push boosted by Ch...   \n",
              "...                                                 ...   \n",
              "1555  A new start after 60: I retired – and began to...   \n",
              "1556  Most fortysomethings feel much younger than th...   \n",
              "1557  ‘No problemo’: what Gen Z are really saying wi...   \n",
              "1558  Sunak, Starmer and supermarket falafel: Edith ...   \n",
              "1559                      The dawn of the four-day week   \n",
              "\n",
              "                                                   body        origin  \\\n",
              "0     Seventeen shots separated Brooks Koepka and Ro...         sport   \n",
              "1     3h ago19.40 BSTRory McIlroy’s race is surely r...         sport   \n",
              "2     Pep Guardiola says he has faith in Kyle Walker...         sport   \n",
              "3     Jürgen Klopp feels Liverpool have been sucked ...         sport   \n",
              "4     Erik ten Hag has urged Manchester United to pu...         sport   \n",
              "...                                                 ...           ...   \n",
              "1555  Kathi Muhammad turned 60 some years ago. She d...  lifeandstyle   \n",
              "1556  Last Saturday, I went birdwatching, poked the ...  lifeandstyle   \n",
              "1557  Despite all manner of global catastrophes faci...  lifeandstyle   \n",
              "1558  1 Sunak v Starmer/Supermarket falafel: Didn't ...  lifeandstyle   \n",
              "1559  \\n\\nA growing movement to shorten the working ...  lifeandstyle   \n",
              "\n",
              "      is_relevant  \n",
              "0               0  \n",
              "1               0  \n",
              "2               0  \n",
              "3               0  \n",
              "4               0  \n",
              "...           ...  \n",
              "1555            0  \n",
              "1556            0  \n",
              "1557            0  \n",
              "1558            0  \n",
              "1559            0  \n",
              "\n",
              "[1560 rows x 5 columns]"
            ],
            "text/html": [
              "\n",
              "  <div id=\"df-05deefc6-920a-4290-851b-56d44a1d5ca5\">\n",
              "    <div class=\"colab-df-container\">\n",
              "      <div>\n",
              "<style scoped>\n",
              "    .dataframe tbody tr th:only-of-type {\n",
              "        vertical-align: middle;\n",
              "    }\n",
              "\n",
              "    .dataframe tbody tr th {\n",
              "        vertical-align: top;\n",
              "    }\n",
              "\n",
              "    .dataframe thead th {\n",
              "        text-align: right;\n",
              "    }\n",
              "</style>\n",
              "<table border=\"1\" class=\"dataframe\">\n",
              "  <thead>\n",
              "    <tr style=\"text-align: right;\">\n",
              "      <th></th>\n",
              "      <th>date</th>\n",
              "      <th>headline</th>\n",
              "      <th>body</th>\n",
              "      <th>origin</th>\n",
              "      <th>is_relevant</th>\n",
              "    </tr>\n",
              "  </thead>\n",
              "  <tbody>\n",
              "    <tr>\n",
              "      <th>0</th>\n",
              "      <td>2023-04-07T22:06:42+0000</td>\n",
              "      <td>Brooks Koepka forges Masters lead while Rory M...</td>\n",
              "      <td>Seventeen shots separated Brooks Koepka and Ro...</td>\n",
              "      <td>sport</td>\n",
              "      <td>0</td>\n",
              "    </tr>\n",
              "    <tr>\n",
              "      <th>1</th>\n",
              "      <td>2023-04-07T21:51:14+0000</td>\n",
              "      <td>The Masters 2023: second round – as it happened</td>\n",
              "      <td>3h ago19.40 BSTRory McIlroy’s race is surely r...</td>\n",
              "      <td>sport</td>\n",
              "      <td>0</td>\n",
              "    </tr>\n",
              "    <tr>\n",
              "      <th>2</th>\n",
              "      <td>2023-04-07T21:30:04+0000</td>\n",
              "      <td>Pep Guardiola reveals shift in formation as re...</td>\n",
              "      <td>Pep Guardiola says he has faith in Kyle Walker...</td>\n",
              "      <td>sport</td>\n",
              "      <td>0</td>\n",
              "    </tr>\n",
              "    <tr>\n",
              "      <th>3</th>\n",
              "      <td>2023-04-07T21:30:03+0000</td>\n",
              "      <td>‘Wow, where are we?’: Jürgen Klopp reflects on...</td>\n",
              "      <td>Jürgen Klopp feels Liverpool have been sucked ...</td>\n",
              "      <td>sport</td>\n",
              "      <td>0</td>\n",
              "    </tr>\n",
              "    <tr>\n",
              "      <th>4</th>\n",
              "      <td>2023-04-07T21:30:03+0000</td>\n",
              "      <td>Manchester United’s trophy push boosted by Ch...</td>\n",
              "      <td>Erik ten Hag has urged Manchester United to pu...</td>\n",
              "      <td>sport</td>\n",
              "      <td>0</td>\n",
              "    </tr>\n",
              "    <tr>\n",
              "      <th>...</th>\n",
              "      <td>...</td>\n",
              "      <td>...</td>\n",
              "      <td>...</td>\n",
              "      <td>...</td>\n",
              "      <td>...</td>\n",
              "    </tr>\n",
              "    <tr>\n",
              "      <th>1555</th>\n",
              "      <td>2023-03-06T08:00:21+0000</td>\n",
              "      <td>A new start after 60: I retired – and began to...</td>\n",
              "      <td>Kathi Muhammad turned 60 some years ago. She d...</td>\n",
              "      <td>lifeandstyle</td>\n",
              "      <td>0</td>\n",
              "    </tr>\n",
              "    <tr>\n",
              "      <th>1556</th>\n",
              "      <td>2023-03-06T07:00:20+0000</td>\n",
              "      <td>Most fortysomethings feel much younger than th...</td>\n",
              "      <td>Last Saturday, I went birdwatching, poked the ...</td>\n",
              "      <td>lifeandstyle</td>\n",
              "      <td>0</td>\n",
              "    </tr>\n",
              "    <tr>\n",
              "      <th>1557</th>\n",
              "      <td>2023-03-06T07:00:20+0000</td>\n",
              "      <td>‘No problemo’: what Gen Z are really saying wi...</td>\n",
              "      <td>Despite all manner of global catastrophes faci...</td>\n",
              "      <td>lifeandstyle</td>\n",
              "      <td>0</td>\n",
              "    </tr>\n",
              "    <tr>\n",
              "      <th>1558</th>\n",
              "      <td>2023-03-06T06:30:19+0000</td>\n",
              "      <td>Sunak, Starmer and supermarket falafel: Edith ...</td>\n",
              "      <td>1 Sunak v Starmer/Supermarket falafel: Didn't ...</td>\n",
              "      <td>lifeandstyle</td>\n",
              "      <td>0</td>\n",
              "    </tr>\n",
              "    <tr>\n",
              "      <th>1559</th>\n",
              "      <td>2023-03-06T03:00:14+0000</td>\n",
              "      <td>The dawn of the four-day week</td>\n",
              "      <td>\\n\\nA growing movement to shorten the working ...</td>\n",
              "      <td>lifeandstyle</td>\n",
              "      <td>0</td>\n",
              "    </tr>\n",
              "  </tbody>\n",
              "</table>\n",
              "<p>1560 rows × 5 columns</p>\n",
              "</div>\n",
              "      <button class=\"colab-df-convert\" onclick=\"convertToInteractive('df-05deefc6-920a-4290-851b-56d44a1d5ca5')\"\n",
              "              title=\"Convert this dataframe to an interactive table.\"\n",
              "              style=\"display:none;\">\n",
              "        \n",
              "  <svg xmlns=\"http://www.w3.org/2000/svg\" height=\"24px\"viewBox=\"0 0 24 24\"\n",
              "       width=\"24px\">\n",
              "    <path d=\"M0 0h24v24H0V0z\" fill=\"none\"/>\n",
              "    <path d=\"M18.56 5.44l.94 2.06.94-2.06 2.06-.94-2.06-.94-.94-2.06-.94 2.06-2.06.94zm-11 1L8.5 8.5l.94-2.06 2.06-.94-2.06-.94L8.5 2.5l-.94 2.06-2.06.94zm10 10l.94 2.06.94-2.06 2.06-.94-2.06-.94-.94-2.06-.94 2.06-2.06.94z\"/><path d=\"M17.41 7.96l-1.37-1.37c-.4-.4-.92-.59-1.43-.59-.52 0-1.04.2-1.43.59L10.3 9.45l-7.72 7.72c-.78.78-.78 2.05 0 2.83L4 21.41c.39.39.9.59 1.41.59.51 0 1.02-.2 1.41-.59l7.78-7.78 2.81-2.81c.8-.78.8-2.07 0-2.86zM5.41 20L4 18.59l7.72-7.72 1.47 1.35L5.41 20z\"/>\n",
              "  </svg>\n",
              "      </button>\n",
              "      \n",
              "  <style>\n",
              "    .colab-df-container {\n",
              "      display:flex;\n",
              "      flex-wrap:wrap;\n",
              "      gap: 12px;\n",
              "    }\n",
              "\n",
              "    .colab-df-convert {\n",
              "      background-color: #E8F0FE;\n",
              "      border: none;\n",
              "      border-radius: 50%;\n",
              "      cursor: pointer;\n",
              "      display: none;\n",
              "      fill: #1967D2;\n",
              "      height: 32px;\n",
              "      padding: 0 0 0 0;\n",
              "      width: 32px;\n",
              "    }\n",
              "\n",
              "    .colab-df-convert:hover {\n",
              "      background-color: #E2EBFA;\n",
              "      box-shadow: 0px 1px 2px rgba(60, 64, 67, 0.3), 0px 1px 3px 1px rgba(60, 64, 67, 0.15);\n",
              "      fill: #174EA6;\n",
              "    }\n",
              "\n",
              "    [theme=dark] .colab-df-convert {\n",
              "      background-color: #3B4455;\n",
              "      fill: #D2E3FC;\n",
              "    }\n",
              "\n",
              "    [theme=dark] .colab-df-convert:hover {\n",
              "      background-color: #434B5C;\n",
              "      box-shadow: 0px 1px 3px 1px rgba(0, 0, 0, 0.15);\n",
              "      filter: drop-shadow(0px 1px 2px rgba(0, 0, 0, 0.3));\n",
              "      fill: #FFFFFF;\n",
              "    }\n",
              "  </style>\n",
              "\n",
              "      <script>\n",
              "        const buttonEl =\n",
              "          document.querySelector('#df-05deefc6-920a-4290-851b-56d44a1d5ca5 button.colab-df-convert');\n",
              "        buttonEl.style.display =\n",
              "          google.colab.kernel.accessAllowed ? 'block' : 'none';\n",
              "\n",
              "        async function convertToInteractive(key) {\n",
              "          const element = document.querySelector('#df-05deefc6-920a-4290-851b-56d44a1d5ca5');\n",
              "          const dataTable =\n",
              "            await google.colab.kernel.invokeFunction('convertToInteractive',\n",
              "                                                     [key], {});\n",
              "          if (!dataTable) return;\n",
              "\n",
              "          const docLinkHtml = 'Like what you see? Visit the ' +\n",
              "            '<a target=\"_blank\" href=https://colab.research.google.com/notebooks/data_table.ipynb>data table notebook</a>'\n",
              "            + ' to learn more about interactive tables.';\n",
              "          element.innerHTML = '';\n",
              "          dataTable['output_type'] = 'display_data';\n",
              "          await google.colab.output.renderOutput(dataTable, element);\n",
              "          const docLink = document.createElement('div');\n",
              "          docLink.innerHTML = docLinkHtml;\n",
              "          element.appendChild(docLink);\n",
              "        }\n",
              "      </script>\n",
              "    </div>\n",
              "  </div>\n",
              "  "
            ]
          },
          "metadata": {},
          "execution_count": 212
        }
      ]
    },
    {
      "cell_type": "code",
      "source": [
        "df_relevancy = pd.concat([df_non_relevant, df_central_banks])\n",
        "df_relevancy = df_relevancy.reset_index().drop('index', axis = 1)\n",
        "df_relevancy.to_csv('relevancy_dataset.csv')\n",
        "df_relevancy"
      ],
      "metadata": {
        "colab": {
          "base_uri": "https://localhost:8080/",
          "height": 423
        },
        "id": "9Z2wucTC_ItQ",
        "outputId": "488a9803-99cb-4da7-c93f-abff52846525"
      },
      "execution_count": null,
      "outputs": [
        {
          "output_type": "execute_result",
          "data": {
            "text/plain": [
              "                          date  \\\n",
              "0     2023-04-07T22:06:42+0000   \n",
              "1     2023-04-07T21:51:14+0000   \n",
              "2     2023-04-07T21:30:04+0000   \n",
              "3     2023-04-07T21:30:03+0000   \n",
              "4     2023-04-07T21:30:03+0000   \n",
              "...                        ...   \n",
              "3515  2012-06-20T15:04:00+0000   \n",
              "3516  2012-06-18T17:24:34+0000   \n",
              "3517  2012-06-18T16:22:17+0000   \n",
              "3518  2012-06-18T13:30:01+0000   \n",
              "3519  2012-06-11T16:24:23+0000   \n",
              "\n",
              "                                               headline  \\\n",
              "0     Brooks Koepka forges Masters lead while Rory M...   \n",
              "1       The Masters 2023: second round – as it happened   \n",
              "2     Pep Guardiola reveals shift in formation as re...   \n",
              "3     ‘Wow, where are we?’: Jürgen Klopp reflects on...   \n",
              "4      Manchester United’s trophy push boosted by Ch...   \n",
              "...                                                 ...   \n",
              "3515  Market jitters ahead of Federal Reserve announ...   \n",
              "3516  Fed could boost US economy with Operation Twis...   \n",
              "3517  The risk Jamie Dimon poses to the Federal Rese...   \n",
              "3518  What Ben Bernanke and the Federal Reserve can ...   \n",
              "3519  NY Fed chairman defends JP Morgan boss ahead o...   \n",
              "\n",
              "                                                   body origin  is_relevant  \n",
              "0     Seventeen shots separated Brooks Koepka and Ro...  sport            0  \n",
              "1     3h ago19.40 BSTRory McIlroy’s race is surely r...  sport            0  \n",
              "2     Pep Guardiola says he has faith in Kyle Walker...  sport            0  \n",
              "3     Jürgen Klopp feels Liverpool have been sucked ...  sport            0  \n",
              "4     Erik ten Hag has urged Manchester United to pu...  sport            0  \n",
              "...                                                 ...    ...          ...  \n",
              "3515  US stock markets wobbled Wednesday morning as ...    USA            1  \n",
              "3516  The Federal Reserve could step in with a new r...    USA            1  \n",
              "3517  The Federal Reserve System was created in 1913...    USA            1  \n",
              "3518  The Federal Reserve Board's open market commit...    USA            1  \n",
              "3519  The chairman of the New York Fed has defended ...    USA            1  \n",
              "\n",
              "[3520 rows x 5 columns]"
            ],
            "text/html": [
              "\n",
              "  <div id=\"df-6ae60453-0d7c-480e-b94f-fa304696b585\">\n",
              "    <div class=\"colab-df-container\">\n",
              "      <div>\n",
              "<style scoped>\n",
              "    .dataframe tbody tr th:only-of-type {\n",
              "        vertical-align: middle;\n",
              "    }\n",
              "\n",
              "    .dataframe tbody tr th {\n",
              "        vertical-align: top;\n",
              "    }\n",
              "\n",
              "    .dataframe thead th {\n",
              "        text-align: right;\n",
              "    }\n",
              "</style>\n",
              "<table border=\"1\" class=\"dataframe\">\n",
              "  <thead>\n",
              "    <tr style=\"text-align: right;\">\n",
              "      <th></th>\n",
              "      <th>date</th>\n",
              "      <th>headline</th>\n",
              "      <th>body</th>\n",
              "      <th>origin</th>\n",
              "      <th>is_relevant</th>\n",
              "    </tr>\n",
              "  </thead>\n",
              "  <tbody>\n",
              "    <tr>\n",
              "      <th>0</th>\n",
              "      <td>2023-04-07T22:06:42+0000</td>\n",
              "      <td>Brooks Koepka forges Masters lead while Rory M...</td>\n",
              "      <td>Seventeen shots separated Brooks Koepka and Ro...</td>\n",
              "      <td>sport</td>\n",
              "      <td>0</td>\n",
              "    </tr>\n",
              "    <tr>\n",
              "      <th>1</th>\n",
              "      <td>2023-04-07T21:51:14+0000</td>\n",
              "      <td>The Masters 2023: second round – as it happened</td>\n",
              "      <td>3h ago19.40 BSTRory McIlroy’s race is surely r...</td>\n",
              "      <td>sport</td>\n",
              "      <td>0</td>\n",
              "    </tr>\n",
              "    <tr>\n",
              "      <th>2</th>\n",
              "      <td>2023-04-07T21:30:04+0000</td>\n",
              "      <td>Pep Guardiola reveals shift in formation as re...</td>\n",
              "      <td>Pep Guardiola says he has faith in Kyle Walker...</td>\n",
              "      <td>sport</td>\n",
              "      <td>0</td>\n",
              "    </tr>\n",
              "    <tr>\n",
              "      <th>3</th>\n",
              "      <td>2023-04-07T21:30:03+0000</td>\n",
              "      <td>‘Wow, where are we?’: Jürgen Klopp reflects on...</td>\n",
              "      <td>Jürgen Klopp feels Liverpool have been sucked ...</td>\n",
              "      <td>sport</td>\n",
              "      <td>0</td>\n",
              "    </tr>\n",
              "    <tr>\n",
              "      <th>4</th>\n",
              "      <td>2023-04-07T21:30:03+0000</td>\n",
              "      <td>Manchester United’s trophy push boosted by Ch...</td>\n",
              "      <td>Erik ten Hag has urged Manchester United to pu...</td>\n",
              "      <td>sport</td>\n",
              "      <td>0</td>\n",
              "    </tr>\n",
              "    <tr>\n",
              "      <th>...</th>\n",
              "      <td>...</td>\n",
              "      <td>...</td>\n",
              "      <td>...</td>\n",
              "      <td>...</td>\n",
              "      <td>...</td>\n",
              "    </tr>\n",
              "    <tr>\n",
              "      <th>3515</th>\n",
              "      <td>2012-06-20T15:04:00+0000</td>\n",
              "      <td>Market jitters ahead of Federal Reserve announ...</td>\n",
              "      <td>US stock markets wobbled Wednesday morning as ...</td>\n",
              "      <td>USA</td>\n",
              "      <td>1</td>\n",
              "    </tr>\n",
              "    <tr>\n",
              "      <th>3516</th>\n",
              "      <td>2012-06-18T17:24:34+0000</td>\n",
              "      <td>Fed could boost US economy with Operation Twis...</td>\n",
              "      <td>The Federal Reserve could step in with a new r...</td>\n",
              "      <td>USA</td>\n",
              "      <td>1</td>\n",
              "    </tr>\n",
              "    <tr>\n",
              "      <th>3517</th>\n",
              "      <td>2012-06-18T16:22:17+0000</td>\n",
              "      <td>The risk Jamie Dimon poses to the Federal Rese...</td>\n",
              "      <td>The Federal Reserve System was created in 1913...</td>\n",
              "      <td>USA</td>\n",
              "      <td>1</td>\n",
              "    </tr>\n",
              "    <tr>\n",
              "      <th>3518</th>\n",
              "      <td>2012-06-18T13:30:01+0000</td>\n",
              "      <td>What Ben Bernanke and the Federal Reserve can ...</td>\n",
              "      <td>The Federal Reserve Board's open market commit...</td>\n",
              "      <td>USA</td>\n",
              "      <td>1</td>\n",
              "    </tr>\n",
              "    <tr>\n",
              "      <th>3519</th>\n",
              "      <td>2012-06-11T16:24:23+0000</td>\n",
              "      <td>NY Fed chairman defends JP Morgan boss ahead o...</td>\n",
              "      <td>The chairman of the New York Fed has defended ...</td>\n",
              "      <td>USA</td>\n",
              "      <td>1</td>\n",
              "    </tr>\n",
              "  </tbody>\n",
              "</table>\n",
              "<p>3520 rows × 5 columns</p>\n",
              "</div>\n",
              "      <button class=\"colab-df-convert\" onclick=\"convertToInteractive('df-6ae60453-0d7c-480e-b94f-fa304696b585')\"\n",
              "              title=\"Convert this dataframe to an interactive table.\"\n",
              "              style=\"display:none;\">\n",
              "        \n",
              "  <svg xmlns=\"http://www.w3.org/2000/svg\" height=\"24px\"viewBox=\"0 0 24 24\"\n",
              "       width=\"24px\">\n",
              "    <path d=\"M0 0h24v24H0V0z\" fill=\"none\"/>\n",
              "    <path d=\"M18.56 5.44l.94 2.06.94-2.06 2.06-.94-2.06-.94-.94-2.06-.94 2.06-2.06.94zm-11 1L8.5 8.5l.94-2.06 2.06-.94-2.06-.94L8.5 2.5l-.94 2.06-2.06.94zm10 10l.94 2.06.94-2.06 2.06-.94-2.06-.94-.94-2.06-.94 2.06-2.06.94z\"/><path d=\"M17.41 7.96l-1.37-1.37c-.4-.4-.92-.59-1.43-.59-.52 0-1.04.2-1.43.59L10.3 9.45l-7.72 7.72c-.78.78-.78 2.05 0 2.83L4 21.41c.39.39.9.59 1.41.59.51 0 1.02-.2 1.41-.59l7.78-7.78 2.81-2.81c.8-.78.8-2.07 0-2.86zM5.41 20L4 18.59l7.72-7.72 1.47 1.35L5.41 20z\"/>\n",
              "  </svg>\n",
              "      </button>\n",
              "      \n",
              "  <style>\n",
              "    .colab-df-container {\n",
              "      display:flex;\n",
              "      flex-wrap:wrap;\n",
              "      gap: 12px;\n",
              "    }\n",
              "\n",
              "    .colab-df-convert {\n",
              "      background-color: #E8F0FE;\n",
              "      border: none;\n",
              "      border-radius: 50%;\n",
              "      cursor: pointer;\n",
              "      display: none;\n",
              "      fill: #1967D2;\n",
              "      height: 32px;\n",
              "      padding: 0 0 0 0;\n",
              "      width: 32px;\n",
              "    }\n",
              "\n",
              "    .colab-df-convert:hover {\n",
              "      background-color: #E2EBFA;\n",
              "      box-shadow: 0px 1px 2px rgba(60, 64, 67, 0.3), 0px 1px 3px 1px rgba(60, 64, 67, 0.15);\n",
              "      fill: #174EA6;\n",
              "    }\n",
              "\n",
              "    [theme=dark] .colab-df-convert {\n",
              "      background-color: #3B4455;\n",
              "      fill: #D2E3FC;\n",
              "    }\n",
              "\n",
              "    [theme=dark] .colab-df-convert:hover {\n",
              "      background-color: #434B5C;\n",
              "      box-shadow: 0px 1px 3px 1px rgba(0, 0, 0, 0.15);\n",
              "      filter: drop-shadow(0px 1px 2px rgba(0, 0, 0, 0.3));\n",
              "      fill: #FFFFFF;\n",
              "    }\n",
              "  </style>\n",
              "\n",
              "      <script>\n",
              "        const buttonEl =\n",
              "          document.querySelector('#df-6ae60453-0d7c-480e-b94f-fa304696b585 button.colab-df-convert');\n",
              "        buttonEl.style.display =\n",
              "          google.colab.kernel.accessAllowed ? 'block' : 'none';\n",
              "\n",
              "        async function convertToInteractive(key) {\n",
              "          const element = document.querySelector('#df-6ae60453-0d7c-480e-b94f-fa304696b585');\n",
              "          const dataTable =\n",
              "            await google.colab.kernel.invokeFunction('convertToInteractive',\n",
              "                                                     [key], {});\n",
              "          if (!dataTable) return;\n",
              "\n",
              "          const docLinkHtml = 'Like what you see? Visit the ' +\n",
              "            '<a target=\"_blank\" href=https://colab.research.google.com/notebooks/data_table.ipynb>data table notebook</a>'\n",
              "            + ' to learn more about interactive tables.';\n",
              "          element.innerHTML = '';\n",
              "          dataTable['output_type'] = 'display_data';\n",
              "          await google.colab.output.renderOutput(dataTable, element);\n",
              "          const docLink = document.createElement('div');\n",
              "          docLink.innerHTML = docLinkHtml;\n",
              "          element.appendChild(docLink);\n",
              "        }\n",
              "      </script>\n",
              "    </div>\n",
              "  </div>\n",
              "  "
            ]
          },
          "metadata": {},
          "execution_count": 214
        }
      ]
    }
  ]
}